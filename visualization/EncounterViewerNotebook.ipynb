{
 "cells": [
  {
   "cell_type": "code",
   "execution_count": 1,
   "metadata": {},
   "outputs": [
    {
     "data": {
      "text/plain": [
       "convert_h5_to_bin (generic function with 1 method)"
      ]
     },
     "execution_count": 1,
     "metadata": {},
     "output_type": "execute_result"
    }
   ],
   "source": [
    "using Random\n",
    "include(\"../src/Xr.jl\")"
   ]
  },
  {
   "cell_type": "code",
   "execution_count": 12,
   "metadata": {},
   "outputs": [],
   "source": [
    "sim = simulation()\n",
    "sim.acs[1] = uam_speed(q_file = \"../data_files/test_speed.bin\")\n",
    "#sim.acs[1] = uam_vert(q_file = \"../data_files/test.bin\")\n",
    "sim.sim_out = small_simulation_output()\n",
    "sim.enc_file = \"../data_files/uam_manned.bin\";"
   ]
  },
  {
   "cell_type": "code",
   "execution_count": 13,
   "metadata": {},
   "outputs": [],
   "source": [
    "Random.seed!(24)\n",
    "xr_sim!(sim);"
   ]
  },
  {
   "cell_type": "code",
   "execution_count": 14,
   "metadata": {},
   "outputs": [
    {
     "data": {
      "text/plain": [
       "15"
      ]
     },
     "execution_count": 14,
     "metadata": {},
     "output_type": "execute_result"
    }
   ],
   "source": [
    "sim.sim_out.nmacs"
   ]
  },
  {
   "cell_type": "code",
   "execution_count": 15,
   "metadata": {},
   "outputs": [],
   "source": [
    "nInds = sim.sim_out.nmac_inds;"
   ]
  },
  {
   "cell_type": "code",
   "execution_count": 24,
   "metadata": {},
   "outputs": [],
   "source": [
    "sim = simulation()\n",
    "#sim.acs[1] = uam_speed(q_file = \"../data_files/test_speed.bin\")\n",
    "#im.acs[1] = uam_vert(q_file = \"../data_files/test.bin\")\n",
    "sim.enc_file = \"../data_files/uam_manned.bin\";"
   ]
  },
  {
   "cell_type": "code",
   "execution_count": 25,
   "metadata": {},
   "outputs": [],
   "source": [
    "Random.seed!(24)\n",
    "xr_sim!(sim, [28, 66, 135, 210, 282, 430]);"
   ]
  },
  {
   "cell_type": "code",
   "execution_count": 19,
   "metadata": {},
   "outputs": [],
   "source": [
    "include(\"UAMEncounterViewer.jl\");"
   ]
  },
  {
   "cell_type": "code",
   "execution_count": 26,
   "metadata": {
    "scrolled": false
   },
   "outputs": [
    {
     "data": {
      "application/vnd.webio.node+json": {
       "children": [
        {
         "children": [
          {
           "children": [
            {
             "children": [
              {
               "children": [
                {
                 "children": [
                  "File Name"
                 ],
                 "instanceArgs": {
                  "namespace": "html",
                  "tag": "label"
                 },
                 "nodeType": "DOM",
                 "props": {
                  "className": "interact ",
                  "style": {
                   "padding": "5px 10px 0px 10px"
                  }
                 },
                 "type": "node"
                }
               ],
               "instanceArgs": {
                "namespace": "html",
                "tag": "div"
               },
               "nodeType": "DOM",
               "props": {
                "className": "interact-flex-row-left"
               },
               "type": "node"
              },
              {
               "children": [
                {
                 "children": [],
                 "instanceArgs": {
                  "namespace": "html",
                  "tag": "input"
                 },
                 "nodeType": "DOM",
                 "props": {
                  "attributes": {
                   "data-bind": "value: value, valueUpdate: 'input', event: {change: function (){this.changes(this.changes()+1)}}",
                   "type": "text"
                  },
                  "className": "input ",
                  "placeholder": "",
                  "style": {}
                 },
                 "type": "node"
                }
               ],
               "instanceArgs": {
                "namespace": "html",
                "tag": "div"
               },
               "nodeType": "DOM",
               "props": {
                "className": "interact-flex-row-center"
               },
               "type": "node"
              },
              {
               "children": [
                {
                 "children": [],
                 "instanceArgs": {
                  "namespace": "html",
                  "tag": "div"
                 },
                 "nodeType": "DOM",
                 "props": {},
                 "type": "node"
                }
               ],
               "instanceArgs": {
                "namespace": "html",
                "tag": "div"
               },
               "nodeType": "DOM",
               "props": {
                "className": "interact-flex-row-right"
               },
               "type": "node"
              }
             ],
             "instanceArgs": {
              "namespace": "html",
              "tag": "div"
             },
             "nodeType": "DOM",
             "props": {
              "className": "interact-flex-row interact-widget"
             },
             "type": "node"
            }
           ],
           "instanceArgs": {
            "handlers": {
             "changes": [
              "(function (val){return (val!=this.model[\"changes\"]()) ? (this.valueFromJulia[\"changes\"]=true, this.model[\"changes\"](val)) : undefined})"
             ],
             "value": [
              "(function (val){return (val!=this.model[\"value\"]()) ? (this.valueFromJulia[\"value\"]=true, this.model[\"value\"](val)) : undefined})"
             ]
            },
            "id": "8649578460593159577",
            "imports": {
             "data": [
              {
               "name": "knockout",
               "type": "js",
               "url": "/assetserver/3bd9b1de736b098e415b41735ebb66f92146af63-knockout.js"
              },
              {
               "name": "knockout_punches",
               "type": "js",
               "url": "/assetserver/f693c45e4673819d9631890b2dbb7b49bac52036-knockout_punches.js"
              },
              {
               "name": null,
               "type": "js",
               "url": "/assetserver/dadd00ee86bab68922605b4c34c155a51b0e2466-all.js"
              },
              {
               "name": null,
               "type": "css",
               "url": "/assetserver/783bf076fab44d74d9ad020ce784f4d35b2c125e-style.css"
              },
              {
               "name": null,
               "type": "css",
               "url": "/assetserver/81f83aa7d914707240f02251f8f73fd02ba8c8be-bulma_confined.min.css"
              }
             ],
             "type": "async_block"
            },
            "mount_callbacks": [
             "function () {\n    var handler = (function (ko, koPunches) {\n    ko.punches.enableAll();\n    ko.bindingHandlers.numericValue = {\n        init: function(element, valueAccessor, allBindings, data, context) {\n            var stringified = ko.observable(ko.unwrap(valueAccessor()));\n            stringified.subscribe(function(value) {\n                var val = parseFloat(value);\n                if (!isNaN(val)) {\n                    valueAccessor()(val);\n                }\n            });\n            valueAccessor().subscribe(function(value) {\n                var str = JSON.stringify(value);\n                if ((str == \"0\") && ([\"-0\", \"-0.\"].indexOf(stringified()) >= 0))\n                     return;\n                 if ([\"null\", \"\"].indexOf(str) >= 0)\n                     return;\n                stringified(str);\n            });\n            ko.applyBindingsToNode(\n                element,\n                {\n                    value: stringified,\n                    valueUpdate: allBindings.get('valueUpdate'),\n                },\n                context,\n            );\n        }\n    };\n    var json_data = {\"changes\":WebIO.getval({\"name\":\"changes\",\"scope\":\"8649578460593159577\",\"id\":\"ob_50\",\"type\":\"observable\"}),\"value\":WebIO.getval({\"name\":\"value\",\"scope\":\"8649578460593159577\",\"id\":\"ob_49\",\"type\":\"observable\"})};\n    var self = this;\n    function AppViewModel() {\n        for (var key in json_data) {\n            var el = json_data[key];\n            this[key] = Array.isArray(el) ? ko.observableArray(el) : ko.observable(el);\n        }\n        \n        \n        [this[\"changes\"].subscribe((function (val){!(this.valueFromJulia[\"changes\"]) ? (WebIO.setval({\"name\":\"changes\",\"scope\":\"8649578460593159577\",\"id\":\"ob_50\",\"type\":\"observable\"},val)) : undefined; return this.valueFromJulia[\"changes\"]=false}),self),this[\"value\"].subscribe((function (val){!(this.valueFromJulia[\"value\"]) ? (WebIO.setval({\"name\":\"value\",\"scope\":\"8649578460593159577\",\"id\":\"ob_49\",\"type\":\"observable\"},val)) : undefined; return this.valueFromJulia[\"value\"]=false}),self)]\n        \n    }\n    self.model = new AppViewModel();\n    self.valueFromJulia = {};\n    for (var key in json_data) {\n        self.valueFromJulia[key] = false;\n    }\n    ko.applyBindings(self.model, self.dom);\n}\n);\n    (WebIO.importBlock({\"data\":[{\"name\":\"knockout\",\"type\":\"js\",\"url\":\"/assetserver/3bd9b1de736b098e415b41735ebb66f92146af63-knockout.js\"},{\"name\":\"knockout_punches\",\"type\":\"js\",\"url\":\"/assetserver/f693c45e4673819d9631890b2dbb7b49bac52036-knockout_punches.js\"}],\"type\":\"async_block\"})).then((imports) => handler.apply(this, imports));\n}\n"
            ],
            "observables": {
             "changes": {
              "id": "ob_50",
              "sync": true,
              "value": 0
             },
             "value": {
              "id": "ob_49",
              "sync": false,
              "value": "myFile.pdf"
             }
            },
            "systemjs_options": null
           },
           "nodeType": "Scope",
           "props": {},
           "type": "node"
          }
         ],
         "instanceArgs": {
          "namespace": "html",
          "tag": "div"
         },
         "nodeType": "DOM",
         "props": {
          "className": "field interact-widget"
         },
         "type": "node"
        },
        {
         "children": [
          {
           "children": [
            {
             "children": [
              "Save Plot"
             ],
             "instanceArgs": {
              "namespace": "html",
              "tag": "button"
             },
             "nodeType": "DOM",
             "props": {
              "attributes": {
               "data-bind": "click: function (){this.clicks(this.clicks()+1)}, css: {'is-loading' : loading}"
              },
              "className": "is-medium button is-primary",
              "style": {}
             },
             "type": "node"
            }
           ],
           "instanceArgs": {
            "handlers": {
             "clicks": [
              "(function (val){return (val!=this.model[\"clicks\"]()) ? (this.valueFromJulia[\"clicks\"]=true, this.model[\"clicks\"](val)) : undefined})"
             ],
             "loading": [
              "(function (val){return (val!=this.model[\"loading\"]()) ? (this.valueFromJulia[\"loading\"]=true, this.model[\"loading\"](val)) : undefined})"
             ]
            },
            "id": "421026280664614174",
            "imports": {
             "data": [
              {
               "name": "knockout",
               "type": "js",
               "url": "/assetserver/3bd9b1de736b098e415b41735ebb66f92146af63-knockout.js"
              },
              {
               "name": "knockout_punches",
               "type": "js",
               "url": "/assetserver/f693c45e4673819d9631890b2dbb7b49bac52036-knockout_punches.js"
              },
              {
               "name": null,
               "type": "js",
               "url": "/assetserver/dadd00ee86bab68922605b4c34c155a51b0e2466-all.js"
              },
              {
               "name": null,
               "type": "css",
               "url": "/assetserver/783bf076fab44d74d9ad020ce784f4d35b2c125e-style.css"
              },
              {
               "name": null,
               "type": "css",
               "url": "/assetserver/81f83aa7d914707240f02251f8f73fd02ba8c8be-bulma_confined.min.css"
              }
             ],
             "type": "async_block"
            },
            "mount_callbacks": [
             "function () {\n    var handler = (function (ko, koPunches) {\n    ko.punches.enableAll();\n    ko.bindingHandlers.numericValue = {\n        init: function(element, valueAccessor, allBindings, data, context) {\n            var stringified = ko.observable(ko.unwrap(valueAccessor()));\n            stringified.subscribe(function(value) {\n                var val = parseFloat(value);\n                if (!isNaN(val)) {\n                    valueAccessor()(val);\n                }\n            });\n            valueAccessor().subscribe(function(value) {\n                var str = JSON.stringify(value);\n                if ((str == \"0\") && ([\"-0\", \"-0.\"].indexOf(stringified()) >= 0))\n                     return;\n                 if ([\"null\", \"\"].indexOf(str) >= 0)\n                     return;\n                stringified(str);\n            });\n            ko.applyBindingsToNode(\n                element,\n                {\n                    value: stringified,\n                    valueUpdate: allBindings.get('valueUpdate'),\n                },\n                context,\n            );\n        }\n    };\n    var json_data = {\"loading\":WebIO.getval({\"name\":\"loading\",\"scope\":\"421026280664614174\",\"id\":\"ob_53\",\"type\":\"observable\"}),\"clicks\":WebIO.getval({\"name\":\"clicks\",\"scope\":\"421026280664614174\",\"id\":\"ob_52\",\"type\":\"observable\"})};\n    var self = this;\n    function AppViewModel() {\n        for (var key in json_data) {\n            var el = json_data[key];\n            this[key] = Array.isArray(el) ? ko.observableArray(el) : ko.observable(el);\n        }\n        \n        \n        [this[\"loading\"].subscribe((function (val){!(this.valueFromJulia[\"loading\"]) ? (WebIO.setval({\"name\":\"loading\",\"scope\":\"421026280664614174\",\"id\":\"ob_53\",\"type\":\"observable\"},val)) : undefined; return this.valueFromJulia[\"loading\"]=false}),self),this[\"clicks\"].subscribe((function (val){!(this.valueFromJulia[\"clicks\"]) ? (WebIO.setval({\"name\":\"clicks\",\"scope\":\"421026280664614174\",\"id\":\"ob_52\",\"type\":\"observable\"},val)) : undefined; return this.valueFromJulia[\"clicks\"]=false}),self)]\n        \n    }\n    self.model = new AppViewModel();\n    self.valueFromJulia = {};\n    for (var key in json_data) {\n        self.valueFromJulia[key] = false;\n    }\n    ko.applyBindings(self.model, self.dom);\n}\n);\n    (WebIO.importBlock({\"data\":[{\"name\":\"knockout\",\"type\":\"js\",\"url\":\"/assetserver/3bd9b1de736b098e415b41735ebb66f92146af63-knockout.js\"},{\"name\":\"knockout_punches\",\"type\":\"js\",\"url\":\"/assetserver/f693c45e4673819d9631890b2dbb7b49bac52036-knockout_punches.js\"}],\"type\":\"async_block\"})).then((imports) => handler.apply(this, imports));\n}\n"
            ],
            "observables": {
             "clicks": {
              "id": "ob_52",
              "sync": true,
              "value": 0
             },
             "loading": {
              "id": "ob_53",
              "sync": false,
              "value": false
             }
            },
            "systemjs_options": null
           },
           "nodeType": "Scope",
           "props": {},
           "type": "node"
          }
         ],
         "instanceArgs": {
          "namespace": "html",
          "tag": "div"
         },
         "nodeType": "DOM",
         "props": {
          "className": "field interact-widget"
         },
         "type": "node"
        },
        {
         "children": [
          {
           "children": [
            {
             "children": [],
             "instanceArgs": {
              "namespace": "html",
              "tag": "input"
             },
             "nodeType": "DOM",
             "props": {
              "attributes": {
               "data-bind": "numericValue: value, valueUpdate: 'input', event: {change: function (){this.changes(this.changes()+1)}}",
               "type": "number"
              },
              "className": "input ",
              "max": 6,
              "min": 1,
              "placeholder": "",
              "step": 1,
              "style": {}
             },
             "type": "node"
            }
           ],
           "instanceArgs": {
            "handlers": {
             "changes": [
              "(function (val){return (val!=this.model[\"changes\"]()) ? (this.valueFromJulia[\"changes\"]=true, this.model[\"changes\"](val)) : undefined})"
             ],
             "value": [
              "(function (val){return (val!=this.model[\"value\"]()) ? (this.valueFromJulia[\"value\"]=true, this.model[\"value\"](val)) : undefined})"
             ]
            },
            "id": "9119777304825054660",
            "imports": {
             "data": [
              {
               "name": "knockout",
               "type": "js",
               "url": "/assetserver/3bd9b1de736b098e415b41735ebb66f92146af63-knockout.js"
              },
              {
               "name": "knockout_punches",
               "type": "js",
               "url": "/assetserver/f693c45e4673819d9631890b2dbb7b49bac52036-knockout_punches.js"
              },
              {
               "name": null,
               "type": "js",
               "url": "/assetserver/dadd00ee86bab68922605b4c34c155a51b0e2466-all.js"
              },
              {
               "name": null,
               "type": "css",
               "url": "/assetserver/783bf076fab44d74d9ad020ce784f4d35b2c125e-style.css"
              },
              {
               "name": null,
               "type": "css",
               "url": "/assetserver/81f83aa7d914707240f02251f8f73fd02ba8c8be-bulma_confined.min.css"
              }
             ],
             "type": "async_block"
            },
            "mount_callbacks": [
             "function () {\n    var handler = (function (ko, koPunches) {\n    ko.punches.enableAll();\n    ko.bindingHandlers.numericValue = {\n        init: function(element, valueAccessor, allBindings, data, context) {\n            var stringified = ko.observable(ko.unwrap(valueAccessor()));\n            stringified.subscribe(function(value) {\n                var val = parseFloat(value);\n                if (!isNaN(val)) {\n                    valueAccessor()(val);\n                }\n            });\n            valueAccessor().subscribe(function(value) {\n                var str = JSON.stringify(value);\n                if ((str == \"0\") && ([\"-0\", \"-0.\"].indexOf(stringified()) >= 0))\n                     return;\n                 if ([\"null\", \"\"].indexOf(str) >= 0)\n                     return;\n                stringified(str);\n            });\n            ko.applyBindingsToNode(\n                element,\n                {\n                    value: stringified,\n                    valueUpdate: allBindings.get('valueUpdate'),\n                },\n                context,\n            );\n        }\n    };\n    var json_data = {\"changes\":WebIO.getval({\"name\":\"changes\",\"scope\":\"9119777304825054660\",\"id\":\"ob_55\",\"type\":\"observable\"}),\"value\":WebIO.getval({\"name\":\"value\",\"scope\":\"9119777304825054660\",\"id\":\"ob_54\",\"type\":\"observable\"})};\n    var self = this;\n    function AppViewModel() {\n        for (var key in json_data) {\n            var el = json_data[key];\n            this[key] = Array.isArray(el) ? ko.observableArray(el) : ko.observable(el);\n        }\n        \n        \n        [this[\"changes\"].subscribe((function (val){!(this.valueFromJulia[\"changes\"]) ? (WebIO.setval({\"name\":\"changes\",\"scope\":\"9119777304825054660\",\"id\":\"ob_55\",\"type\":\"observable\"},val)) : undefined; return this.valueFromJulia[\"changes\"]=false}),self),this[\"value\"].subscribe((function (val){!(this.valueFromJulia[\"value\"]) ? (WebIO.setval({\"name\":\"value\",\"scope\":\"9119777304825054660\",\"id\":\"ob_54\",\"type\":\"observable\"},val)) : undefined; return this.valueFromJulia[\"value\"]=false}),self)]\n        \n    }\n    self.model = new AppViewModel();\n    self.valueFromJulia = {};\n    for (var key in json_data) {\n        self.valueFromJulia[key] = false;\n    }\n    ko.applyBindings(self.model, self.dom);\n}\n);\n    (WebIO.importBlock({\"data\":[{\"name\":\"knockout\",\"type\":\"js\",\"url\":\"/assetserver/3bd9b1de736b098e415b41735ebb66f92146af63-knockout.js\"},{\"name\":\"knockout_punches\",\"type\":\"js\",\"url\":\"/assetserver/f693c45e4673819d9631890b2dbb7b49bac52036-knockout_punches.js\"}],\"type\":\"async_block\"})).then((imports) => handler.apply(this, imports));\n}\n"
            ],
            "observables": {
             "changes": {
              "id": "ob_55",
              "sync": false,
              "value": 0
             },
             "value": {
              "id": "ob_54",
              "sync": true,
              "value": 1
             }
            },
            "systemjs_options": null
           },
           "nodeType": "Scope",
           "props": {},
           "type": "node"
          }
         ],
         "instanceArgs": {
          "namespace": "html",
          "tag": "div"
         },
         "nodeType": "DOM",
         "props": {
          "className": "field interact-widget"
         },
         "type": "node"
        },
        {
         "children": [
          {
           "children": [
            {
             "children": [
              {
               "children": [
                {
                 "children": [
                  ""
                 ],
                 "instanceArgs": {
                  "namespace": "html",
                  "tag": "label"
                 },
                 "nodeType": "DOM",
                 "props": {
                  "className": "interact ",
                  "style": {
                   "padding": "5px 10px 0px 10px"
                  }
                 },
                 "type": "node"
                }
               ],
               "instanceArgs": {
                "namespace": "html",
                "tag": "div"
               },
               "nodeType": "DOM",
               "props": {
                "className": "interact-flex-row-left"
               },
               "type": "node"
              },
              {
               "children": [
                {
                 "children": [],
                 "instanceArgs": {
                  "namespace": "html",
                  "tag": "input"
                 },
                 "nodeType": "DOM",
                 "props": {
                  "attributes": {
                   "data-bind": "numericValue: index, valueUpdate: 'input', event: {change: function (){this.changes(this.changes()+1)}}",
                   "orient": "horizontal",
                   "type": "range"
                  },
                  "className": "slider slider is-fullwidth",
                  "max": 121,
                  "min": 1,
                  "step": 1,
                  "style": {}
                 },
                 "type": "node"
                }
               ],
               "instanceArgs": {
                "namespace": "html",
                "tag": "div"
               },
               "nodeType": "DOM",
               "props": {
                "className": "interact-flex-row-center"
               },
               "type": "node"
              },
              {
               "children": [
                {
                 "children": [],
                 "instanceArgs": {
                  "namespace": "html",
                  "tag": "p"
                 },
                 "nodeType": "DOM",
                 "props": {
                  "attributes": {
                   "data-bind": "text: formatted_val"
                  }
                 },
                 "type": "node"
                }
               ],
               "instanceArgs": {
                "namespace": "html",
                "tag": "div"
               },
               "nodeType": "DOM",
               "props": {
                "className": "interact-flex-row-right"
               },
               "type": "node"
              }
             ],
             "instanceArgs": {
              "namespace": "html",
              "tag": "div"
             },
             "nodeType": "DOM",
             "props": {
              "className": "interact-flex-row interact-widget"
             },
             "type": "node"
            }
           ],
           "instanceArgs": {
            "handlers": {
             "changes": [
              "(function (val){return (val!=this.model[\"changes\"]()) ? (this.valueFromJulia[\"changes\"]=true, this.model[\"changes\"](val)) : undefined})"
             ],
             "index": [
              "(function (val){return (val!=this.model[\"index\"]()) ? (this.valueFromJulia[\"index\"]=true, this.model[\"index\"](val)) : undefined})"
             ]
            },
            "id": "7683066898467315563",
            "imports": {
             "data": [
              {
               "name": "knockout",
               "type": "js",
               "url": "/assetserver/3bd9b1de736b098e415b41735ebb66f92146af63-knockout.js"
              },
              {
               "name": "knockout_punches",
               "type": "js",
               "url": "/assetserver/f693c45e4673819d9631890b2dbb7b49bac52036-knockout_punches.js"
              },
              {
               "name": null,
               "type": "js",
               "url": "/assetserver/dadd00ee86bab68922605b4c34c155a51b0e2466-all.js"
              },
              {
               "name": null,
               "type": "css",
               "url": "/assetserver/783bf076fab44d74d9ad020ce784f4d35b2c125e-style.css"
              },
              {
               "name": null,
               "type": "css",
               "url": "/assetserver/81f83aa7d914707240f02251f8f73fd02ba8c8be-bulma_confined.min.css"
              }
             ],
             "type": "async_block"
            },
            "mount_callbacks": [
             "function () {\n    var handler = (function (ko, koPunches) {\n    ko.punches.enableAll();\n    ko.bindingHandlers.numericValue = {\n        init: function(element, valueAccessor, allBindings, data, context) {\n            var stringified = ko.observable(ko.unwrap(valueAccessor()));\n            stringified.subscribe(function(value) {\n                var val = parseFloat(value);\n                if (!isNaN(val)) {\n                    valueAccessor()(val);\n                }\n            });\n            valueAccessor().subscribe(function(value) {\n                var str = JSON.stringify(value);\n                if ((str == \"0\") && ([\"-0\", \"-0.\"].indexOf(stringified()) >= 0))\n                     return;\n                 if ([\"null\", \"\"].indexOf(str) >= 0)\n                     return;\n                stringified(str);\n            });\n            ko.applyBindingsToNode(\n                element,\n                {\n                    value: stringified,\n                    valueUpdate: allBindings.get('valueUpdate'),\n                },\n                context,\n            );\n        }\n    };\n    var json_data = {\"formatted_vals\":[\"0.0\",\"1.0\",\"2.0\",\"3.0\",\"4.0\",\"5.0\",\"6.0\",\"7.0\",\"8.0\",\"9.0\",\"10.0\",\"11.0\",\"12.0\",\"13.0\",\"14.0\",\"15.0\",\"16.0\",\"17.0\",\"18.0\",\"19.0\",\"20.0\",\"21.0\",\"22.0\",\"23.0\",\"24.0\",\"25.0\",\"26.0\",\"27.0\",\"28.0\",\"29.0\",\"30.0\",\"31.0\",\"32.0\",\"33.0\",\"34.0\",\"35.0\",\"36.0\",\"37.0\",\"38.0\",\"39.0\",\"40.0\",\"41.0\",\"42.0\",\"43.0\",\"44.0\",\"45.0\",\"46.0\",\"47.0\",\"48.0\",\"49.0\",\"50.0\",\"51.0\",\"52.0\",\"53.0\",\"54.0\",\"55.0\",\"56.0\",\"57.0\",\"58.0\",\"59.0\",\"60.0\",\"61.0\",\"62.0\",\"63.0\",\"64.0\",\"65.0\",\"66.0\",\"67.0\",\"68.0\",\"69.0\",\"70.0\",\"71.0\",\"72.0\",\"73.0\",\"74.0\",\"75.0\",\"76.0\",\"77.0\",\"78.0\",\"79.0\",\"80.0\",\"81.0\",\"82.0\",\"83.0\",\"84.0\",\"85.0\",\"86.0\",\"87.0\",\"88.0\",\"89.0\",\"90.0\",\"91.0\",\"92.0\",\"93.0\",\"94.0\",\"95.0\",\"96.0\",\"97.0\",\"98.0\",\"99.0\",\"100.0\",\"101.0\",\"102.0\",\"103.0\",\"104.0\",\"105.0\",\"106.0\",\"107.0\",\"108.0\",\"109.0\",\"110.0\",\"111.0\",\"112.0\",\"113.0\",\"114.0\",\"115.0\",\"116.0\",\"117.0\",\"118.0\",\"119.0\",\"120.0\"],\"changes\":WebIO.getval({\"name\":\"changes\",\"scope\":\"7683066898467315563\",\"id\":\"ob_58\",\"type\":\"observable\"}),\"index\":WebIO.getval({\"name\":\"index\",\"scope\":\"7683066898467315563\",\"id\":\"ob_57\",\"type\":\"observable\"})};\n    var self = this;\n    function AppViewModel() {\n        for (var key in json_data) {\n            var el = json_data[key];\n            this[key] = Array.isArray(el) ? ko.observableArray(el) : ko.observable(el);\n        }\n        \n        [this[\"formatted_val\"]=ko.computed(    function(){\n        return this.formatted_vals()[parseInt(this.index())-(1)];\n    }\n,this)]\n        [this[\"changes\"].subscribe((function (val){!(this.valueFromJulia[\"changes\"]) ? (WebIO.setval({\"name\":\"changes\",\"scope\":\"7683066898467315563\",\"id\":\"ob_58\",\"type\":\"observable\"},val)) : undefined; return this.valueFromJulia[\"changes\"]=false}),self),this[\"index\"].subscribe((function (val){!(this.valueFromJulia[\"index\"]) ? (WebIO.setval({\"name\":\"index\",\"scope\":\"7683066898467315563\",\"id\":\"ob_57\",\"type\":\"observable\"},val)) : undefined; return this.valueFromJulia[\"index\"]=false}),self)]\n        \n    }\n    self.model = new AppViewModel();\n    self.valueFromJulia = {};\n    for (var key in json_data) {\n        self.valueFromJulia[key] = false;\n    }\n    ko.applyBindings(self.model, self.dom);\n}\n);\n    (WebIO.importBlock({\"data\":[{\"name\":\"knockout\",\"type\":\"js\",\"url\":\"/assetserver/3bd9b1de736b098e415b41735ebb66f92146af63-knockout.js\"},{\"name\":\"knockout_punches\",\"type\":\"js\",\"url\":\"/assetserver/f693c45e4673819d9631890b2dbb7b49bac52036-knockout_punches.js\"}],\"type\":\"async_block\"})).then((imports) => handler.apply(this, imports));\n}\n"
            ],
            "observables": {
             "changes": {
              "id": "ob_58",
              "sync": false,
              "value": 0
             },
             "index": {
              "id": "ob_57",
              "sync": true,
              "value": 1
             }
            },
            "systemjs_options": null
           },
           "nodeType": "Scope",
           "props": {},
           "type": "node"
          }
         ],
         "instanceArgs": {
          "namespace": "html",
          "tag": "div"
         },
         "nodeType": "DOM",
         "props": {
          "className": "field interact-widget"
         },
         "type": "node"
        },
        {
         "children": [
          {
           "children": [],
           "instanceArgs": {
            "id": "ob_64",
            "name": "obs-node"
           },
           "nodeType": "ObservableNode",
           "props": {},
           "type": "node"
          }
         ],
         "instanceArgs": {
          "handlers": {},
          "id": "3838173821546338256",
          "imports": {
           "data": [],
           "type": "async_block"
          },
          "mount_callbacks": [],
          "observables": {
           "obs-node": {
            "id": "ob_64",
            "sync": false,
            "value": {
             "children": [
              {
               "children": [],
               "instanceArgs": {
                "namespace": "html",
                "tag": "div"
               },
               "nodeType": "DOM",
               "props": {
                "setInnerHtml": ""
               },
               "type": "node"
              }
             ],
             "instanceArgs": {
              "namespace": "html",
              "tag": "div"
             },
             "nodeType": "DOM",
             "props": {
              "className": "interact-flex-row interact-widget"
             },
             "type": "node"
            }
           }
          },
          "systemjs_options": null
         },
         "nodeType": "Scope",
         "props": {},
         "type": "node"
        }
       ],
       "instanceArgs": {
        "namespace": "html",
        "tag": "div"
       },
       "nodeType": "DOM",
       "props": {},
       "type": "node"
      },
      "text/html": [
       "<div\n",
       "    class=\"webio-mountpoint\"\n",
       "    data-webio-mountpoint=\"12147487696150333291\"\n",
       ">\n",
       "    <script>\n",
       "    if (window.require && require.defined && require.defined(\"nbextensions/webio/main\")) {\n",
       "        console.log(\"Jupyter WebIO extension detected, not mounting.\");\n",
       "    } else if (window.WebIO) {\n",
       "        WebIO.mount(\n",
       "            document.querySelector('[data-webio-mountpoint=\"12147487696150333291\"]'),\n",
       "            {\"props\":{},\"nodeType\":\"DOM\",\"type\":\"node\",\"instanceArgs\":{\"namespace\":\"html\",\"tag\":\"div\"},\"children\":[{\"props\":{\"className\":\"field interact-widget\"},\"nodeType\":\"DOM\",\"type\":\"node\",\"instanceArgs\":{\"namespace\":\"html\",\"tag\":\"div\"},\"children\":[{\"props\":{},\"nodeType\":\"Scope\",\"type\":\"node\",\"instanceArgs\":{\"imports\":{\"data\":[{\"name\":\"knockout\",\"type\":\"js\",\"url\":\"\\/assetserver\\/3bd9b1de736b098e415b41735ebb66f92146af63-knockout.js\"},{\"name\":\"knockout_punches\",\"type\":\"js\",\"url\":\"\\/assetserver\\/f693c45e4673819d9631890b2dbb7b49bac52036-knockout_punches.js\"},{\"name\":null,\"type\":\"js\",\"url\":\"\\/assetserver\\/dadd00ee86bab68922605b4c34c155a51b0e2466-all.js\"},{\"name\":null,\"type\":\"css\",\"url\":\"\\/assetserver\\/783bf076fab44d74d9ad020ce784f4d35b2c125e-style.css\"},{\"name\":null,\"type\":\"css\",\"url\":\"\\/assetserver\\/81f83aa7d914707240f02251f8f73fd02ba8c8be-bulma_confined.min.css\"}],\"type\":\"async_block\"},\"id\":\"8649578460593159577\",\"handlers\":{\"changes\":[\"(function (val){return (val!=this.model[\\\"changes\\\"]()) ? (this.valueFromJulia[\\\"changes\\\"]=true, this.model[\\\"changes\\\"](val)) : undefined})\"],\"value\":[\"(function (val){return (val!=this.model[\\\"value\\\"]()) ? (this.valueFromJulia[\\\"value\\\"]=true, this.model[\\\"value\\\"](val)) : undefined})\"]},\"systemjs_options\":null,\"mount_callbacks\":[\"function () {\\n    var handler = (function (ko, koPunches) {\\n    ko.punches.enableAll();\\n    ko.bindingHandlers.numericValue = {\\n        init: function(element, valueAccessor, allBindings, data, context) {\\n            var stringified = ko.observable(ko.unwrap(valueAccessor()));\\n            stringified.subscribe(function(value) {\\n                var val = parseFloat(value);\\n                if (!isNaN(val)) {\\n                    valueAccessor()(val);\\n                }\\n            });\\n            valueAccessor().subscribe(function(value) {\\n                var str = JSON.stringify(value);\\n                if ((str == \\\"0\\\") && ([\\\"-0\\\", \\\"-0.\\\"].indexOf(stringified()) >= 0))\\n                     return;\\n                 if ([\\\"null\\\", \\\"\\\"].indexOf(str) >= 0)\\n                     return;\\n                stringified(str);\\n            });\\n            ko.applyBindingsToNode(\\n                element,\\n                {\\n                    value: stringified,\\n                    valueUpdate: allBindings.get('valueUpdate'),\\n                },\\n                context,\\n            );\\n        }\\n    };\\n    var json_data = {\\\"changes\\\":WebIO.getval({\\\"name\\\":\\\"changes\\\",\\\"scope\\\":\\\"8649578460593159577\\\",\\\"id\\\":\\\"ob_50\\\",\\\"type\\\":\\\"observable\\\"}),\\\"value\\\":WebIO.getval({\\\"name\\\":\\\"value\\\",\\\"scope\\\":\\\"8649578460593159577\\\",\\\"id\\\":\\\"ob_49\\\",\\\"type\\\":\\\"observable\\\"})};\\n    var self = this;\\n    function AppViewModel() {\\n        for (var key in json_data) {\\n            var el = json_data[key];\\n            this[key] = Array.isArray(el) ? ko.observableArray(el) : ko.observable(el);\\n        }\\n        \\n        \\n        [this[\\\"changes\\\"].subscribe((function (val){!(this.valueFromJulia[\\\"changes\\\"]) ? (WebIO.setval({\\\"name\\\":\\\"changes\\\",\\\"scope\\\":\\\"8649578460593159577\\\",\\\"id\\\":\\\"ob_50\\\",\\\"type\\\":\\\"observable\\\"},val)) : undefined; return this.valueFromJulia[\\\"changes\\\"]=false}),self),this[\\\"value\\\"].subscribe((function (val){!(this.valueFromJulia[\\\"value\\\"]) ? (WebIO.setval({\\\"name\\\":\\\"value\\\",\\\"scope\\\":\\\"8649578460593159577\\\",\\\"id\\\":\\\"ob_49\\\",\\\"type\\\":\\\"observable\\\"},val)) : undefined; return this.valueFromJulia[\\\"value\\\"]=false}),self)]\\n        \\n    }\\n    self.model = new AppViewModel();\\n    self.valueFromJulia = {};\\n    for (var key in json_data) {\\n        self.valueFromJulia[key] = false;\\n    }\\n    ko.applyBindings(self.model, self.dom);\\n}\\n);\\n    (WebIO.importBlock({\\\"data\\\":[{\\\"name\\\":\\\"knockout\\\",\\\"type\\\":\\\"js\\\",\\\"url\\\":\\\"\\/assetserver\\/3bd9b1de736b098e415b41735ebb66f92146af63-knockout.js\\\"},{\\\"name\\\":\\\"knockout_punches\\\",\\\"type\\\":\\\"js\\\",\\\"url\\\":\\\"\\/assetserver\\/f693c45e4673819d9631890b2dbb7b49bac52036-knockout_punches.js\\\"}],\\\"type\\\":\\\"async_block\\\"})).then((imports) => handler.apply(this, imports));\\n}\\n\"],\"observables\":{\"changes\":{\"sync\":true,\"id\":\"ob_50\",\"value\":0},\"value\":{\"sync\":false,\"id\":\"ob_49\",\"value\":\"myFile.pdf\"}}},\"children\":[{\"props\":{\"className\":\"interact-flex-row interact-widget\"},\"nodeType\":\"DOM\",\"type\":\"node\",\"instanceArgs\":{\"namespace\":\"html\",\"tag\":\"div\"},\"children\":[{\"props\":{\"className\":\"interact-flex-row-left\"},\"nodeType\":\"DOM\",\"type\":\"node\",\"instanceArgs\":{\"namespace\":\"html\",\"tag\":\"div\"},\"children\":[{\"props\":{\"className\":\"interact \",\"style\":{\"padding\":\"5px 10px 0px 10px\"}},\"nodeType\":\"DOM\",\"type\":\"node\",\"instanceArgs\":{\"namespace\":\"html\",\"tag\":\"label\"},\"children\":[\"File Name\"]}]},{\"props\":{\"className\":\"interact-flex-row-center\"},\"nodeType\":\"DOM\",\"type\":\"node\",\"instanceArgs\":{\"namespace\":\"html\",\"tag\":\"div\"},\"children\":[{\"props\":{\"attributes\":{\"type\":\"text\",\"data-bind\":\"value: value, valueUpdate: 'input', event: {change: function (){this.changes(this.changes()+1)}}\"},\"placeholder\":\"\",\"className\":\"input \",\"style\":{}},\"nodeType\":\"DOM\",\"type\":\"node\",\"instanceArgs\":{\"namespace\":\"html\",\"tag\":\"input\"},\"children\":[]}]},{\"props\":{\"className\":\"interact-flex-row-right\"},\"nodeType\":\"DOM\",\"type\":\"node\",\"instanceArgs\":{\"namespace\":\"html\",\"tag\":\"div\"},\"children\":[{\"props\":{},\"nodeType\":\"DOM\",\"type\":\"node\",\"instanceArgs\":{\"namespace\":\"html\",\"tag\":\"div\"},\"children\":[]}]}]}]}]},{\"props\":{\"className\":\"field interact-widget\"},\"nodeType\":\"DOM\",\"type\":\"node\",\"instanceArgs\":{\"namespace\":\"html\",\"tag\":\"div\"},\"children\":[{\"props\":{},\"nodeType\":\"Scope\",\"type\":\"node\",\"instanceArgs\":{\"imports\":{\"data\":[{\"name\":\"knockout\",\"type\":\"js\",\"url\":\"\\/assetserver\\/3bd9b1de736b098e415b41735ebb66f92146af63-knockout.js\"},{\"name\":\"knockout_punches\",\"type\":\"js\",\"url\":\"\\/assetserver\\/f693c45e4673819d9631890b2dbb7b49bac52036-knockout_punches.js\"},{\"name\":null,\"type\":\"js\",\"url\":\"\\/assetserver\\/dadd00ee86bab68922605b4c34c155a51b0e2466-all.js\"},{\"name\":null,\"type\":\"css\",\"url\":\"\\/assetserver\\/783bf076fab44d74d9ad020ce784f4d35b2c125e-style.css\"},{\"name\":null,\"type\":\"css\",\"url\":\"\\/assetserver\\/81f83aa7d914707240f02251f8f73fd02ba8c8be-bulma_confined.min.css\"}],\"type\":\"async_block\"},\"id\":\"421026280664614174\",\"handlers\":{\"loading\":[\"(function (val){return (val!=this.model[\\\"loading\\\"]()) ? (this.valueFromJulia[\\\"loading\\\"]=true, this.model[\\\"loading\\\"](val)) : undefined})\"],\"clicks\":[\"(function (val){return (val!=this.model[\\\"clicks\\\"]()) ? (this.valueFromJulia[\\\"clicks\\\"]=true, this.model[\\\"clicks\\\"](val)) : undefined})\"]},\"systemjs_options\":null,\"mount_callbacks\":[\"function () {\\n    var handler = (function (ko, koPunches) {\\n    ko.punches.enableAll();\\n    ko.bindingHandlers.numericValue = {\\n        init: function(element, valueAccessor, allBindings, data, context) {\\n            var stringified = ko.observable(ko.unwrap(valueAccessor()));\\n            stringified.subscribe(function(value) {\\n                var val = parseFloat(value);\\n                if (!isNaN(val)) {\\n                    valueAccessor()(val);\\n                }\\n            });\\n            valueAccessor().subscribe(function(value) {\\n                var str = JSON.stringify(value);\\n                if ((str == \\\"0\\\") && ([\\\"-0\\\", \\\"-0.\\\"].indexOf(stringified()) >= 0))\\n                     return;\\n                 if ([\\\"null\\\", \\\"\\\"].indexOf(str) >= 0)\\n                     return;\\n                stringified(str);\\n            });\\n            ko.applyBindingsToNode(\\n                element,\\n                {\\n                    value: stringified,\\n                    valueUpdate: allBindings.get('valueUpdate'),\\n                },\\n                context,\\n            );\\n        }\\n    };\\n    var json_data = {\\\"loading\\\":WebIO.getval({\\\"name\\\":\\\"loading\\\",\\\"scope\\\":\\\"421026280664614174\\\",\\\"id\\\":\\\"ob_53\\\",\\\"type\\\":\\\"observable\\\"}),\\\"clicks\\\":WebIO.getval({\\\"name\\\":\\\"clicks\\\",\\\"scope\\\":\\\"421026280664614174\\\",\\\"id\\\":\\\"ob_52\\\",\\\"type\\\":\\\"observable\\\"})};\\n    var self = this;\\n    function AppViewModel() {\\n        for (var key in json_data) {\\n            var el = json_data[key];\\n            this[key] = Array.isArray(el) ? ko.observableArray(el) : ko.observable(el);\\n        }\\n        \\n        \\n        [this[\\\"loading\\\"].subscribe((function (val){!(this.valueFromJulia[\\\"loading\\\"]) ? (WebIO.setval({\\\"name\\\":\\\"loading\\\",\\\"scope\\\":\\\"421026280664614174\\\",\\\"id\\\":\\\"ob_53\\\",\\\"type\\\":\\\"observable\\\"},val)) : undefined; return this.valueFromJulia[\\\"loading\\\"]=false}),self),this[\\\"clicks\\\"].subscribe((function (val){!(this.valueFromJulia[\\\"clicks\\\"]) ? (WebIO.setval({\\\"name\\\":\\\"clicks\\\",\\\"scope\\\":\\\"421026280664614174\\\",\\\"id\\\":\\\"ob_52\\\",\\\"type\\\":\\\"observable\\\"},val)) : undefined; return this.valueFromJulia[\\\"clicks\\\"]=false}),self)]\\n        \\n    }\\n    self.model = new AppViewModel();\\n    self.valueFromJulia = {};\\n    for (var key in json_data) {\\n        self.valueFromJulia[key] = false;\\n    }\\n    ko.applyBindings(self.model, self.dom);\\n}\\n);\\n    (WebIO.importBlock({\\\"data\\\":[{\\\"name\\\":\\\"knockout\\\",\\\"type\\\":\\\"js\\\",\\\"url\\\":\\\"\\/assetserver\\/3bd9b1de736b098e415b41735ebb66f92146af63-knockout.js\\\"},{\\\"name\\\":\\\"knockout_punches\\\",\\\"type\\\":\\\"js\\\",\\\"url\\\":\\\"\\/assetserver\\/f693c45e4673819d9631890b2dbb7b49bac52036-knockout_punches.js\\\"}],\\\"type\\\":\\\"async_block\\\"})).then((imports) => handler.apply(this, imports));\\n}\\n\"],\"observables\":{\"loading\":{\"sync\":false,\"id\":\"ob_53\",\"value\":false},\"clicks\":{\"sync\":true,\"id\":\"ob_52\",\"value\":0}}},\"children\":[{\"props\":{\"attributes\":{\"data-bind\":\"click: function (){this.clicks(this.clicks()+1)}, css: {'is-loading' : loading}\"},\"className\":\"is-medium button is-primary\",\"style\":{}},\"nodeType\":\"DOM\",\"type\":\"node\",\"instanceArgs\":{\"namespace\":\"html\",\"tag\":\"button\"},\"children\":[\"Save Plot\"]}]}]},{\"props\":{\"className\":\"field interact-widget\"},\"nodeType\":\"DOM\",\"type\":\"node\",\"instanceArgs\":{\"namespace\":\"html\",\"tag\":\"div\"},\"children\":[{\"props\":{},\"nodeType\":\"Scope\",\"type\":\"node\",\"instanceArgs\":{\"imports\":{\"data\":[{\"name\":\"knockout\",\"type\":\"js\",\"url\":\"\\/assetserver\\/3bd9b1de736b098e415b41735ebb66f92146af63-knockout.js\"},{\"name\":\"knockout_punches\",\"type\":\"js\",\"url\":\"\\/assetserver\\/f693c45e4673819d9631890b2dbb7b49bac52036-knockout_punches.js\"},{\"name\":null,\"type\":\"js\",\"url\":\"\\/assetserver\\/dadd00ee86bab68922605b4c34c155a51b0e2466-all.js\"},{\"name\":null,\"type\":\"css\",\"url\":\"\\/assetserver\\/783bf076fab44d74d9ad020ce784f4d35b2c125e-style.css\"},{\"name\":null,\"type\":\"css\",\"url\":\"\\/assetserver\\/81f83aa7d914707240f02251f8f73fd02ba8c8be-bulma_confined.min.css\"}],\"type\":\"async_block\"},\"id\":\"9119777304825054660\",\"handlers\":{\"changes\":[\"(function (val){return (val!=this.model[\\\"changes\\\"]()) ? (this.valueFromJulia[\\\"changes\\\"]=true, this.model[\\\"changes\\\"](val)) : undefined})\"],\"value\":[\"(function (val){return (val!=this.model[\\\"value\\\"]()) ? (this.valueFromJulia[\\\"value\\\"]=true, this.model[\\\"value\\\"](val)) : undefined})\"]},\"systemjs_options\":null,\"mount_callbacks\":[\"function () {\\n    var handler = (function (ko, koPunches) {\\n    ko.punches.enableAll();\\n    ko.bindingHandlers.numericValue = {\\n        init: function(element, valueAccessor, allBindings, data, context) {\\n            var stringified = ko.observable(ko.unwrap(valueAccessor()));\\n            stringified.subscribe(function(value) {\\n                var val = parseFloat(value);\\n                if (!isNaN(val)) {\\n                    valueAccessor()(val);\\n                }\\n            });\\n            valueAccessor().subscribe(function(value) {\\n                var str = JSON.stringify(value);\\n                if ((str == \\\"0\\\") && ([\\\"-0\\\", \\\"-0.\\\"].indexOf(stringified()) >= 0))\\n                     return;\\n                 if ([\\\"null\\\", \\\"\\\"].indexOf(str) >= 0)\\n                     return;\\n                stringified(str);\\n            });\\n            ko.applyBindingsToNode(\\n                element,\\n                {\\n                    value: stringified,\\n                    valueUpdate: allBindings.get('valueUpdate'),\\n                },\\n                context,\\n            );\\n        }\\n    };\\n    var json_data = {\\\"changes\\\":WebIO.getval({\\\"name\\\":\\\"changes\\\",\\\"scope\\\":\\\"9119777304825054660\\\",\\\"id\\\":\\\"ob_55\\\",\\\"type\\\":\\\"observable\\\"}),\\\"value\\\":WebIO.getval({\\\"name\\\":\\\"value\\\",\\\"scope\\\":\\\"9119777304825054660\\\",\\\"id\\\":\\\"ob_54\\\",\\\"type\\\":\\\"observable\\\"})};\\n    var self = this;\\n    function AppViewModel() {\\n        for (var key in json_data) {\\n            var el = json_data[key];\\n            this[key] = Array.isArray(el) ? ko.observableArray(el) : ko.observable(el);\\n        }\\n        \\n        \\n        [this[\\\"changes\\\"].subscribe((function (val){!(this.valueFromJulia[\\\"changes\\\"]) ? (WebIO.setval({\\\"name\\\":\\\"changes\\\",\\\"scope\\\":\\\"9119777304825054660\\\",\\\"id\\\":\\\"ob_55\\\",\\\"type\\\":\\\"observable\\\"},val)) : undefined; return this.valueFromJulia[\\\"changes\\\"]=false}),self),this[\\\"value\\\"].subscribe((function (val){!(this.valueFromJulia[\\\"value\\\"]) ? (WebIO.setval({\\\"name\\\":\\\"value\\\",\\\"scope\\\":\\\"9119777304825054660\\\",\\\"id\\\":\\\"ob_54\\\",\\\"type\\\":\\\"observable\\\"},val)) : undefined; return this.valueFromJulia[\\\"value\\\"]=false}),self)]\\n        \\n    }\\n    self.model = new AppViewModel();\\n    self.valueFromJulia = {};\\n    for (var key in json_data) {\\n        self.valueFromJulia[key] = false;\\n    }\\n    ko.applyBindings(self.model, self.dom);\\n}\\n);\\n    (WebIO.importBlock({\\\"data\\\":[{\\\"name\\\":\\\"knockout\\\",\\\"type\\\":\\\"js\\\",\\\"url\\\":\\\"\\/assetserver\\/3bd9b1de736b098e415b41735ebb66f92146af63-knockout.js\\\"},{\\\"name\\\":\\\"knockout_punches\\\",\\\"type\\\":\\\"js\\\",\\\"url\\\":\\\"\\/assetserver\\/f693c45e4673819d9631890b2dbb7b49bac52036-knockout_punches.js\\\"}],\\\"type\\\":\\\"async_block\\\"})).then((imports) => handler.apply(this, imports));\\n}\\n\"],\"observables\":{\"changes\":{\"sync\":false,\"id\":\"ob_55\",\"value\":0},\"value\":{\"sync\":true,\"id\":\"ob_54\",\"value\":1}}},\"children\":[{\"props\":{\"max\":6,\"min\":1,\"attributes\":{\"type\":\"number\",\"data-bind\":\"numericValue: value, valueUpdate: 'input', event: {change: function (){this.changes(this.changes()+1)}}\"},\"step\":1,\"placeholder\":\"\",\"className\":\"input \",\"style\":{}},\"nodeType\":\"DOM\",\"type\":\"node\",\"instanceArgs\":{\"namespace\":\"html\",\"tag\":\"input\"},\"children\":[]}]}]},{\"props\":{\"className\":\"field interact-widget\"},\"nodeType\":\"DOM\",\"type\":\"node\",\"instanceArgs\":{\"namespace\":\"html\",\"tag\":\"div\"},\"children\":[{\"props\":{},\"nodeType\":\"Scope\",\"type\":\"node\",\"instanceArgs\":{\"imports\":{\"data\":[{\"name\":\"knockout\",\"type\":\"js\",\"url\":\"\\/assetserver\\/3bd9b1de736b098e415b41735ebb66f92146af63-knockout.js\"},{\"name\":\"knockout_punches\",\"type\":\"js\",\"url\":\"\\/assetserver\\/f693c45e4673819d9631890b2dbb7b49bac52036-knockout_punches.js\"},{\"name\":null,\"type\":\"js\",\"url\":\"\\/assetserver\\/dadd00ee86bab68922605b4c34c155a51b0e2466-all.js\"},{\"name\":null,\"type\":\"css\",\"url\":\"\\/assetserver\\/783bf076fab44d74d9ad020ce784f4d35b2c125e-style.css\"},{\"name\":null,\"type\":\"css\",\"url\":\"\\/assetserver\\/81f83aa7d914707240f02251f8f73fd02ba8c8be-bulma_confined.min.css\"}],\"type\":\"async_block\"},\"id\":\"7683066898467315563\",\"handlers\":{\"changes\":[\"(function (val){return (val!=this.model[\\\"changes\\\"]()) ? (this.valueFromJulia[\\\"changes\\\"]=true, this.model[\\\"changes\\\"](val)) : undefined})\"],\"index\":[\"(function (val){return (val!=this.model[\\\"index\\\"]()) ? (this.valueFromJulia[\\\"index\\\"]=true, this.model[\\\"index\\\"](val)) : undefined})\"]},\"systemjs_options\":null,\"mount_callbacks\":[\"function () {\\n    var handler = (function (ko, koPunches) {\\n    ko.punches.enableAll();\\n    ko.bindingHandlers.numericValue = {\\n        init: function(element, valueAccessor, allBindings, data, context) {\\n            var stringified = ko.observable(ko.unwrap(valueAccessor()));\\n            stringified.subscribe(function(value) {\\n                var val = parseFloat(value);\\n                if (!isNaN(val)) {\\n                    valueAccessor()(val);\\n                }\\n            });\\n            valueAccessor().subscribe(function(value) {\\n                var str = JSON.stringify(value);\\n                if ((str == \\\"0\\\") && ([\\\"-0\\\", \\\"-0.\\\"].indexOf(stringified()) >= 0))\\n                     return;\\n                 if ([\\\"null\\\", \\\"\\\"].indexOf(str) >= 0)\\n                     return;\\n                stringified(str);\\n            });\\n            ko.applyBindingsToNode(\\n                element,\\n                {\\n                    value: stringified,\\n                    valueUpdate: allBindings.get('valueUpdate'),\\n                },\\n                context,\\n            );\\n        }\\n    };\\n    var json_data = {\\\"formatted_vals\\\":[\\\"0.0\\\",\\\"1.0\\\",\\\"2.0\\\",\\\"3.0\\\",\\\"4.0\\\",\\\"5.0\\\",\\\"6.0\\\",\\\"7.0\\\",\\\"8.0\\\",\\\"9.0\\\",\\\"10.0\\\",\\\"11.0\\\",\\\"12.0\\\",\\\"13.0\\\",\\\"14.0\\\",\\\"15.0\\\",\\\"16.0\\\",\\\"17.0\\\",\\\"18.0\\\",\\\"19.0\\\",\\\"20.0\\\",\\\"21.0\\\",\\\"22.0\\\",\\\"23.0\\\",\\\"24.0\\\",\\\"25.0\\\",\\\"26.0\\\",\\\"27.0\\\",\\\"28.0\\\",\\\"29.0\\\",\\\"30.0\\\",\\\"31.0\\\",\\\"32.0\\\",\\\"33.0\\\",\\\"34.0\\\",\\\"35.0\\\",\\\"36.0\\\",\\\"37.0\\\",\\\"38.0\\\",\\\"39.0\\\",\\\"40.0\\\",\\\"41.0\\\",\\\"42.0\\\",\\\"43.0\\\",\\\"44.0\\\",\\\"45.0\\\",\\\"46.0\\\",\\\"47.0\\\",\\\"48.0\\\",\\\"49.0\\\",\\\"50.0\\\",\\\"51.0\\\",\\\"52.0\\\",\\\"53.0\\\",\\\"54.0\\\",\\\"55.0\\\",\\\"56.0\\\",\\\"57.0\\\",\\\"58.0\\\",\\\"59.0\\\",\\\"60.0\\\",\\\"61.0\\\",\\\"62.0\\\",\\\"63.0\\\",\\\"64.0\\\",\\\"65.0\\\",\\\"66.0\\\",\\\"67.0\\\",\\\"68.0\\\",\\\"69.0\\\",\\\"70.0\\\",\\\"71.0\\\",\\\"72.0\\\",\\\"73.0\\\",\\\"74.0\\\",\\\"75.0\\\",\\\"76.0\\\",\\\"77.0\\\",\\\"78.0\\\",\\\"79.0\\\",\\\"80.0\\\",\\\"81.0\\\",\\\"82.0\\\",\\\"83.0\\\",\\\"84.0\\\",\\\"85.0\\\",\\\"86.0\\\",\\\"87.0\\\",\\\"88.0\\\",\\\"89.0\\\",\\\"90.0\\\",\\\"91.0\\\",\\\"92.0\\\",\\\"93.0\\\",\\\"94.0\\\",\\\"95.0\\\",\\\"96.0\\\",\\\"97.0\\\",\\\"98.0\\\",\\\"99.0\\\",\\\"100.0\\\",\\\"101.0\\\",\\\"102.0\\\",\\\"103.0\\\",\\\"104.0\\\",\\\"105.0\\\",\\\"106.0\\\",\\\"107.0\\\",\\\"108.0\\\",\\\"109.0\\\",\\\"110.0\\\",\\\"111.0\\\",\\\"112.0\\\",\\\"113.0\\\",\\\"114.0\\\",\\\"115.0\\\",\\\"116.0\\\",\\\"117.0\\\",\\\"118.0\\\",\\\"119.0\\\",\\\"120.0\\\"],\\\"changes\\\":WebIO.getval({\\\"name\\\":\\\"changes\\\",\\\"scope\\\":\\\"7683066898467315563\\\",\\\"id\\\":\\\"ob_58\\\",\\\"type\\\":\\\"observable\\\"}),\\\"index\\\":WebIO.getval({\\\"name\\\":\\\"index\\\",\\\"scope\\\":\\\"7683066898467315563\\\",\\\"id\\\":\\\"ob_57\\\",\\\"type\\\":\\\"observable\\\"})};\\n    var self = this;\\n    function AppViewModel() {\\n        for (var key in json_data) {\\n            var el = json_data[key];\\n            this[key] = Array.isArray(el) ? ko.observableArray(el) : ko.observable(el);\\n        }\\n        \\n        [this[\\\"formatted_val\\\"]=ko.computed(    function(){\\n        return this.formatted_vals()[parseInt(this.index())-(1)];\\n    }\\n,this)]\\n        [this[\\\"changes\\\"].subscribe((function (val){!(this.valueFromJulia[\\\"changes\\\"]) ? (WebIO.setval({\\\"name\\\":\\\"changes\\\",\\\"scope\\\":\\\"7683066898467315563\\\",\\\"id\\\":\\\"ob_58\\\",\\\"type\\\":\\\"observable\\\"},val)) : undefined; return this.valueFromJulia[\\\"changes\\\"]=false}),self),this[\\\"index\\\"].subscribe((function (val){!(this.valueFromJulia[\\\"index\\\"]) ? (WebIO.setval({\\\"name\\\":\\\"index\\\",\\\"scope\\\":\\\"7683066898467315563\\\",\\\"id\\\":\\\"ob_57\\\",\\\"type\\\":\\\"observable\\\"},val)) : undefined; return this.valueFromJulia[\\\"index\\\"]=false}),self)]\\n        \\n    }\\n    self.model = new AppViewModel();\\n    self.valueFromJulia = {};\\n    for (var key in json_data) {\\n        self.valueFromJulia[key] = false;\\n    }\\n    ko.applyBindings(self.model, self.dom);\\n}\\n);\\n    (WebIO.importBlock({\\\"data\\\":[{\\\"name\\\":\\\"knockout\\\",\\\"type\\\":\\\"js\\\",\\\"url\\\":\\\"\\/assetserver\\/3bd9b1de736b098e415b41735ebb66f92146af63-knockout.js\\\"},{\\\"name\\\":\\\"knockout_punches\\\",\\\"type\\\":\\\"js\\\",\\\"url\\\":\\\"\\/assetserver\\/f693c45e4673819d9631890b2dbb7b49bac52036-knockout_punches.js\\\"}],\\\"type\\\":\\\"async_block\\\"})).then((imports) => handler.apply(this, imports));\\n}\\n\"],\"observables\":{\"changes\":{\"sync\":false,\"id\":\"ob_58\",\"value\":0},\"index\":{\"sync\":true,\"id\":\"ob_57\",\"value\":1}}},\"children\":[{\"props\":{\"className\":\"interact-flex-row interact-widget\"},\"nodeType\":\"DOM\",\"type\":\"node\",\"instanceArgs\":{\"namespace\":\"html\",\"tag\":\"div\"},\"children\":[{\"props\":{\"className\":\"interact-flex-row-left\"},\"nodeType\":\"DOM\",\"type\":\"node\",\"instanceArgs\":{\"namespace\":\"html\",\"tag\":\"div\"},\"children\":[{\"props\":{\"className\":\"interact \",\"style\":{\"padding\":\"5px 10px 0px 10px\"}},\"nodeType\":\"DOM\",\"type\":\"node\",\"instanceArgs\":{\"namespace\":\"html\",\"tag\":\"label\"},\"children\":[\"\"]}]},{\"props\":{\"className\":\"interact-flex-row-center\"},\"nodeType\":\"DOM\",\"type\":\"node\",\"instanceArgs\":{\"namespace\":\"html\",\"tag\":\"div\"},\"children\":[{\"props\":{\"max\":121,\"min\":1,\"attributes\":{\"type\":\"range\",\"data-bind\":\"numericValue: index, valueUpdate: 'input', event: {change: function (){this.changes(this.changes()+1)}}\",\"orient\":\"horizontal\"},\"step\":1,\"className\":\"slider slider is-fullwidth\",\"style\":{}},\"nodeType\":\"DOM\",\"type\":\"node\",\"instanceArgs\":{\"namespace\":\"html\",\"tag\":\"input\"},\"children\":[]}]},{\"props\":{\"className\":\"interact-flex-row-right\"},\"nodeType\":\"DOM\",\"type\":\"node\",\"instanceArgs\":{\"namespace\":\"html\",\"tag\":\"div\"},\"children\":[{\"props\":{\"attributes\":{\"data-bind\":\"text: formatted_val\"}},\"nodeType\":\"DOM\",\"type\":\"node\",\"instanceArgs\":{\"namespace\":\"html\",\"tag\":\"p\"},\"children\":[]}]}]}]}]},{\"props\":{},\"nodeType\":\"Scope\",\"type\":\"node\",\"instanceArgs\":{\"imports\":{\"data\":[],\"type\":\"async_block\"},\"id\":\"11962508029471407616\",\"handlers\":{},\"systemjs_options\":null,\"mount_callbacks\":[],\"observables\":{\"obs-node\":{\"sync\":false,\"id\":\"ob_62\",\"value\":{\"props\":{\"className\":\"interact-flex-row interact-widget\"},\"nodeType\":\"DOM\",\"type\":\"node\",\"instanceArgs\":{\"namespace\":\"html\",\"tag\":\"div\"},\"children\":[{\"props\":{\"setInnerHtml\":\"<?xml version=\\\"1.0\\\" encoding=\\\"UTF-8\\\"?>\\n<svg xmlns=\\\"http:\\/\\/www.w3.org\\/2000\\/svg\\\" xmlns:xlink=\\\"http:\\/\\/www.w3.org\\/1999\\/xlink\\\" width=\\\"769.979pt\\\" height=\\\"282.488pt\\\" viewBox=\\\"0 0 769.979 282.488\\\" version=\\\"1.1\\\">\\n<defs>\\n<g>\\n<symbol overflow=\\\"visible\\\" id=\\\"glyph-1562715734929579-0-0\\\">\\n<path style=\\\"stroke:none;\\\" d=\\\"\\\"\\/>\\n<\\/symbol>\\n<symbol overflow=\\\"visible\\\" id=\\\"glyph-1562715734929579-0-1\\\">\\n<path style=\\\"stroke:none;\\\" d=\\\"M 6.109375 -6.03125 C 6.109375 -6.390625 6.125 -6.5 6.890625 -6.5 L 7.140625 -6.5 L 7.140625 -6.8125 C 6.78125 -6.78125 6.046875 -6.78125 5.671875 -6.78125 C 5.296875 -6.78125 4.546875 -6.78125 4.203125 -6.8125 L 4.203125 -6.5 L 4.4375 -6.5 C 5.203125 -6.5 5.21875 -6.390625 5.21875 -6.03125 L 5.21875 -3.703125 L 2.25 -3.703125 L 2.25 -6.03125 C 2.25 -6.390625 2.265625 -6.5 3.03125 -6.5 L 3.265625 -6.5 L 3.265625 -6.8125 C 2.921875 -6.78125 2.1875 -6.78125 1.796875 -6.78125 C 1.421875 -6.78125 0.671875 -6.78125 0.328125 -6.8125 L 0.328125 -6.5 L 0.5625 -6.5 C 1.328125 -6.5 1.359375 -6.390625 1.359375 -6.03125 L 1.359375 -0.78125 C 1.359375 -0.421875 1.328125 -0.3125 0.5625 -0.3125 L 0.328125 -0.3125 L 0.328125 0 C 0.671875 -0.03125 1.421875 -0.03125 1.796875 -0.03125 C 2.171875 -0.03125 2.921875 -0.03125 3.265625 0 L 3.265625 -0.3125 L 3.03125 -0.3125 C 2.265625 -0.3125 2.25 -0.421875 2.25 -0.78125 L 2.25 -3.390625 L 5.21875 -3.390625 L 5.21875 -0.78125 C 5.21875 -0.421875 5.203125 -0.3125 4.4375 -0.3125 L 4.203125 -0.3125 L 4.203125 0 C 4.546875 -0.03125 5.28125 -0.03125 5.65625 -0.03125 C 6.046875 -0.03125 6.78125 -0.03125 7.140625 0 L 7.140625 -0.3125 L 6.890625 -0.3125 C 6.125 -0.3125 6.109375 -0.421875 6.109375 -0.78125 Z M 6.109375 -6.03125 \\\"\\/>\\n<\\/symbol>\\n<symbol overflow=\\\"visible\\\" id=\\\"glyph-1562715734929579-0-2\\\">\\n<path style=\\\"stroke:none;\\\" d=\\\"M 4.6875 -2.140625 C 4.6875 -3.40625 3.703125 -4.46875 2.5 -4.46875 C 1.25 -4.46875 0.28125 -3.375 0.28125 -2.140625 C 0.28125 -0.84375 1.3125 0.109375 2.484375 0.109375 C 3.6875 0.109375 4.6875 -0.875 4.6875 -2.140625 Z M 2.5 -0.140625 C 2.0625 -0.140625 1.625 -0.34375 1.359375 -0.8125 C 1.109375 -1.25 1.109375 -1.859375 1.109375 -2.21875 C 1.109375 -2.609375 1.109375 -3.140625 1.34375 -3.578125 C 1.609375 -4.03125 2.078125 -4.25 2.484375 -4.25 C 2.921875 -4.25 3.34375 -4.03125 3.609375 -3.59375 C 3.875 -3.171875 3.875 -2.59375 3.875 -2.21875 C 3.875 -1.859375 3.875 -1.3125 3.65625 -0.875 C 3.421875 -0.421875 2.984375 -0.140625 2.5 -0.140625 Z M 2.5 -0.140625 \\\"\\/>\\n<\\/symbol>\\n<symbol overflow=\\\"visible\\\" id=\\\"glyph-1562715734929579-0-3\\\">\\n<path style=\\\"stroke:none;\\\" d=\\\"M 1.671875 -3.3125 L 1.671875 -4.40625 L 0.28125 -4.296875 L 0.28125 -3.984375 C 0.984375 -3.984375 1.0625 -3.921875 1.0625 -3.421875 L 1.0625 -0.75 C 1.0625 -0.3125 0.953125 -0.3125 0.28125 -0.3125 L 0.28125 0 C 0.671875 -0.015625 1.140625 -0.03125 1.421875 -0.03125 C 1.8125 -0.03125 2.28125 -0.03125 2.6875 0 L 2.6875 -0.3125 L 2.46875 -0.3125 C 1.734375 -0.3125 1.71875 -0.421875 1.71875 -0.78125 L 1.71875 -2.3125 C 1.71875 -3.296875 2.140625 -4.1875 2.890625 -4.1875 C 2.953125 -4.1875 2.984375 -4.1875 3 -4.171875 C 2.96875 -4.171875 2.765625 -4.046875 2.765625 -3.78125 C 2.765625 -3.515625 2.984375 -3.359375 3.203125 -3.359375 C 3.375 -3.359375 3.625 -3.484375 3.625 -3.796875 C 3.625 -4.109375 3.3125 -4.40625 2.890625 -4.40625 C 2.15625 -4.40625 1.796875 -3.734375 1.671875 -3.3125 Z M 1.671875 -3.3125 \\\"\\/>\\n<\\/symbol>\\n<symbol overflow=\\\"visible\\\" id=\\\"glyph-1562715734929579-0-4\\\">\\n<path style=\\\"stroke:none;\\\" d=\\\"M 1.765625 -4.40625 L 0.375 -4.296875 L 0.375 -3.984375 C 1.015625 -3.984375 1.109375 -3.921875 1.109375 -3.4375 L 1.109375 -0.75 C 1.109375 -0.3125 1 -0.3125 0.328125 -0.3125 L 0.328125 0 C 0.640625 -0.015625 1.1875 -0.03125 1.421875 -0.03125 C 1.78125 -0.03125 2.125 -0.015625 2.46875 0 L 2.46875 -0.3125 C 1.796875 -0.3125 1.765625 -0.359375 1.765625 -0.75 Z M 1.796875 -6.140625 C 1.796875 -6.453125 1.5625 -6.671875 1.28125 -6.671875 C 0.96875 -6.671875 0.75 -6.40625 0.75 -6.140625 C 0.75 -5.875 0.96875 -5.609375 1.28125 -5.609375 C 1.5625 -5.609375 1.796875 -5.828125 1.796875 -6.140625 Z M 1.796875 -6.140625 \\\"\\/>\\n<\\/symbol>\\n<symbol overflow=\\\"visible\\\" id=\\\"glyph-1562715734929579-0-5\\\">\\n<path style=\\\"stroke:none;\\\" d=\\\"M 3.890625 -4 C 3.984375 -4.109375 3.984375 -4.125 3.984375 -4.171875 C 3.984375 -4.296875 3.890625 -4.296875 3.71875 -4.296875 L 0.53125 -4.296875 L 0.421875 -2.6875 L 0.671875 -2.6875 C 0.734375 -3.703125 0.921875 -4.078125 2.015625 -4.078125 L 3.15625 -4.078125 L 0.375 -0.3125 C 0.28125 -0.203125 0.28125 -0.1875 0.28125 -0.140625 C 0.28125 0 0.34375 0 0.53125 0 L 3.828125 0 L 4 -1.859375 L 3.75 -1.859375 C 3.65625 -0.6875 3.453125 -0.25 2.296875 -0.25 L 1.109375 -0.25 Z M 3.890625 -4 \\\"\\/>\\n<\\/symbol>\\n<symbol overflow=\\\"visible\\\" id=\\\"glyph-1562715734929579-0-6\\\">\\n<path style=\\\"stroke:none;\\\" d=\\\"M 1.09375 -3.421875 L 1.09375 -0.75 C 1.09375 -0.3125 0.984375 -0.3125 0.3125 -0.3125 L 0.3125 0 C 0.671875 -0.015625 1.171875 -0.03125 1.453125 -0.03125 C 1.703125 -0.03125 2.21875 -0.015625 2.5625 0 L 2.5625 -0.3125 C 1.890625 -0.3125 1.78125 -0.3125 1.78125 -0.75 L 1.78125 -2.59375 C 1.78125 -3.625 2.5 -4.1875 3.125 -4.1875 C 3.765625 -4.1875 3.875 -3.65625 3.875 -3.078125 L 3.875 -0.75 C 3.875 -0.3125 3.765625 -0.3125 3.09375 -0.3125 L 3.09375 0 C 3.4375 -0.015625 3.953125 -0.03125 4.21875 -0.03125 C 4.46875 -0.03125 5 -0.015625 5.328125 0 L 5.328125 -0.3125 C 4.8125 -0.3125 4.5625 -0.3125 4.5625 -0.609375 L 4.5625 -2.515625 C 4.5625 -3.375 4.5625 -3.671875 4.25 -4.03125 C 4.109375 -4.203125 3.78125 -4.40625 3.203125 -4.40625 C 2.46875 -4.40625 2 -3.984375 1.71875 -3.359375 L 1.71875 -4.40625 L 0.3125 -4.296875 L 0.3125 -3.984375 C 1.015625 -3.984375 1.09375 -3.921875 1.09375 -3.421875 Z M 1.09375 -3.421875 \\\"\\/>\\n<\\/symbol>\\n<symbol overflow=\\\"visible\\\" id=\\\"glyph-1562715734929579-0-7\\\">\\n<path style=\\\"stroke:none;\\\" d=\\\"M 1.71875 -3.984375 L 3.15625 -3.984375 L 3.15625 -4.296875 L 1.71875 -4.296875 L 1.71875 -6.125 L 1.46875 -6.125 C 1.46875 -5.3125 1.171875 -4.25 0.1875 -4.203125 L 0.1875 -3.984375 L 1.03125 -3.984375 L 1.03125 -1.234375 C 1.03125 -0.015625 1.96875 0.109375 2.328125 0.109375 C 3.03125 0.109375 3.3125 -0.59375 3.3125 -1.234375 L 3.3125 -1.796875 L 3.0625 -1.796875 L 3.0625 -1.25 C 3.0625 -0.515625 2.765625 -0.140625 2.390625 -0.140625 C 1.71875 -0.140625 1.71875 -1.046875 1.71875 -1.21875 Z M 1.71875 -3.984375 \\\"\\/>\\n<\\/symbol>\\n<symbol overflow=\\\"visible\\\" id=\\\"glyph-1562715734929579-0-8\\\">\\n<path style=\\\"stroke:none;\\\" d=\\\"M 3.3125 -0.75 C 3.359375 -0.359375 3.625 0.0625 4.09375 0.0625 C 4.3125 0.0625 4.921875 -0.078125 4.921875 -0.890625 L 4.921875 -1.453125 L 4.671875 -1.453125 L 4.671875 -0.890625 C 4.671875 -0.3125 4.421875 -0.25 4.3125 -0.25 C 3.984375 -0.25 3.9375 -0.703125 3.9375 -0.75 L 3.9375 -2.734375 C 3.9375 -3.15625 3.9375 -3.546875 3.578125 -3.921875 C 3.1875 -4.3125 2.6875 -4.46875 2.21875 -4.46875 C 1.390625 -4.46875 0.703125 -4 0.703125 -3.34375 C 0.703125 -3.046875 0.90625 -2.875 1.171875 -2.875 C 1.453125 -2.875 1.625 -3.078125 1.625 -3.328125 C 1.625 -3.453125 1.578125 -3.78125 1.109375 -3.78125 C 1.390625 -4.140625 1.875 -4.25 2.1875 -4.25 C 2.6875 -4.25 3.25 -3.859375 3.25 -2.96875 L 3.25 -2.609375 C 2.734375 -2.578125 2.046875 -2.546875 1.421875 -2.25 C 0.671875 -1.90625 0.421875 -1.390625 0.421875 -0.953125 C 0.421875 -0.140625 1.390625 0.109375 2.015625 0.109375 C 2.671875 0.109375 3.125 -0.296875 3.3125 -0.75 Z M 3.25 -2.390625 L 3.25 -1.390625 C 3.25 -0.453125 2.53125 -0.109375 2.078125 -0.109375 C 1.59375 -0.109375 1.1875 -0.453125 1.1875 -0.953125 C 1.1875 -1.5 1.609375 -2.328125 3.25 -2.390625 Z M 3.25 -2.390625 \\\"\\/>\\n<\\/symbol>\\n<symbol overflow=\\\"visible\\\" id=\\\"glyph-1562715734929579-0-9\\\">\\n<path style=\\\"stroke:none;\\\" d=\\\"M 1.765625 -6.921875 L 0.328125 -6.8125 L 0.328125 -6.5 C 1.03125 -6.5 1.109375 -6.4375 1.109375 -5.9375 L 1.109375 -0.75 C 1.109375 -0.3125 1 -0.3125 0.328125 -0.3125 L 0.328125 0 C 0.65625 -0.015625 1.1875 -0.03125 1.4375 -0.03125 C 1.6875 -0.03125 2.171875 -0.015625 2.546875 0 L 2.546875 -0.3125 C 1.875 -0.3125 1.765625 -0.3125 1.765625 -0.75 Z M 1.765625 -6.921875 \\\"\\/>\\n<\\/symbol>\\n<symbol overflow=\\\"visible\\\" id=\\\"glyph-1562715734929579-0-10\\\">\\n<path style=\\\"stroke:none;\\\" d=\\\"M 2.234375 -3.515625 L 2.234375 -6.09375 C 2.234375 -6.328125 2.234375 -6.453125 2.453125 -6.484375 C 2.546875 -6.5 2.84375 -6.5 3.046875 -6.5 C 3.9375 -6.5 5.046875 -6.453125 5.046875 -5.015625 C 5.046875 -4.328125 4.8125 -3.515625 3.34375 -3.515625 Z M 4.34375 -3.390625 C 5.296875 -3.625 6.078125 -4.234375 6.078125 -5.015625 C 6.078125 -5.96875 4.9375 -6.8125 3.484375 -6.8125 L 0.34375 -6.8125 L 0.34375 -6.5 L 0.59375 -6.5 C 1.359375 -6.5 1.375 -6.390625 1.375 -6.03125 L 1.375 -0.78125 C 1.375 -0.421875 1.359375 -0.3125 0.59375 -0.3125 L 0.34375 -0.3125 L 0.34375 0 C 0.703125 -0.03125 1.421875 -0.03125 1.796875 -0.03125 C 2.1875 -0.03125 2.90625 -0.03125 3.265625 0 L 3.265625 -0.3125 L 3.015625 -0.3125 C 2.25 -0.3125 2.234375 -0.421875 2.234375 -0.78125 L 2.234375 -3.296875 L 3.375 -3.296875 C 3.53125 -3.296875 3.953125 -3.296875 4.3125 -2.953125 C 4.6875 -2.609375 4.6875 -2.296875 4.6875 -1.625 C 4.6875 -0.984375 4.6875 -0.578125 5.09375 -0.203125 C 5.5 0.15625 6.046875 0.21875 6.34375 0.21875 C 7.125 0.21875 7.296875 -0.59375 7.296875 -0.875 C 7.296875 -0.9375 7.296875 -1.046875 7.171875 -1.046875 C 7.0625 -1.046875 7.0625 -0.953125 7.046875 -0.890625 C 6.984375 -0.171875 6.640625 0 6.390625 0 C 5.90625 0 5.828125 -0.515625 5.6875 -1.4375 L 5.546875 -2.234375 C 5.375 -2.875 4.890625 -3.203125 4.34375 -3.390625 Z M 4.34375 -3.390625 \\\"\\/>\\n<\\/symbol>\\n<symbol overflow=\\\"visible\\\" id=\\\"glyph-1562715734929579-0-11\\\">\\n<path style=\\\"stroke:none;\\\" d=\\\"M 2.21875 -1.71875 C 1.34375 -1.71875 1.34375 -2.71875 1.34375 -2.9375 C 1.34375 -3.203125 1.359375 -3.53125 1.5 -3.78125 C 1.578125 -3.890625 1.8125 -4.171875 2.21875 -4.171875 C 3.078125 -4.171875 3.078125 -3.1875 3.078125 -2.953125 C 3.078125 -2.6875 3.078125 -2.359375 2.921875 -2.109375 C 2.84375 -2 2.609375 -1.71875 2.21875 -1.71875 Z M 1.0625 -1.328125 C 1.0625 -1.359375 1.0625 -1.59375 1.21875 -1.796875 C 1.609375 -1.515625 2.03125 -1.484375 2.21875 -1.484375 C 3.140625 -1.484375 3.828125 -2.171875 3.828125 -2.9375 C 3.828125 -3.3125 3.671875 -3.671875 3.421875 -3.90625 C 3.78125 -4.25 4.140625 -4.296875 4.3125 -4.296875 C 4.34375 -4.296875 4.390625 -4.296875 4.421875 -4.28125 C 4.3125 -4.25 4.25 -4.140625 4.25 -4.015625 C 4.25 -3.84375 4.390625 -3.734375 4.546875 -3.734375 C 4.640625 -3.734375 4.828125 -3.796875 4.828125 -4.03125 C 4.828125 -4.203125 4.71875 -4.515625 4.328125 -4.515625 C 4.125 -4.515625 3.6875 -4.453125 3.265625 -4.046875 C 2.84375 -4.375 2.4375 -4.40625 2.21875 -4.40625 C 1.28125 -4.40625 0.59375 -3.71875 0.59375 -2.953125 C 0.59375 -2.515625 0.8125 -2.140625 1.0625 -1.921875 C 0.9375 -1.78125 0.75 -1.453125 0.75 -1.09375 C 0.75 -0.78125 0.890625 -0.40625 1.203125 -0.203125 C 0.59375 -0.046875 0.28125 0.390625 0.28125 0.78125 C 0.28125 1.5 1.265625 2.046875 2.484375 2.046875 C 3.65625 2.046875 4.6875 1.546875 4.6875 0.765625 C 4.6875 0.421875 4.5625 -0.09375 4.046875 -0.375 C 3.515625 -0.640625 2.9375 -0.640625 2.328125 -0.640625 C 2.078125 -0.640625 1.65625 -0.640625 1.578125 -0.65625 C 1.265625 -0.703125 1.0625 -1 1.0625 -1.328125 Z M 2.5 1.828125 C 1.484375 1.828125 0.796875 1.3125 0.796875 0.78125 C 0.796875 0.328125 1.171875 -0.046875 1.609375 -0.0625 L 2.203125 -0.0625 C 3.0625 -0.0625 4.171875 -0.0625 4.171875 0.78125 C 4.171875 1.328125 3.46875 1.828125 2.5 1.828125 Z M 2.5 1.828125 \\\"\\/>\\n<\\/symbol>\\n<symbol overflow=\\\"visible\\\" id=\\\"glyph-1562715734929579-0-12\\\">\\n<path style=\\\"stroke:none;\\\" d=\\\"M 1.109375 -2.515625 C 1.171875 -4 2.015625 -4.25 2.359375 -4.25 C 3.375 -4.25 3.484375 -2.90625 3.484375 -2.515625 Z M 1.109375 -2.296875 L 3.890625 -2.296875 C 4.109375 -2.296875 4.140625 -2.296875 4.140625 -2.515625 C 4.140625 -3.5 3.59375 -4.46875 2.359375 -4.46875 C 1.203125 -4.46875 0.28125 -3.4375 0.28125 -2.1875 C 0.28125 -0.859375 1.328125 0.109375 2.46875 0.109375 C 3.6875 0.109375 4.140625 -1 4.140625 -1.1875 C 4.140625 -1.28125 4.0625 -1.3125 4 -1.3125 C 3.921875 -1.3125 3.890625 -1.25 3.875 -1.171875 C 3.53125 -0.140625 2.625 -0.140625 2.53125 -0.140625 C 2.03125 -0.140625 1.640625 -0.4375 1.40625 -0.8125 C 1.109375 -1.28125 1.109375 -1.9375 1.109375 -2.296875 Z M 1.109375 -2.296875 \\\"\\/>\\n<\\/symbol>\\n<symbol overflow=\\\"visible\\\" id=\\\"glyph-1562715734929579-0-13\\\">\\n<path style=\\\"stroke:none;\\\" d=\\\"M 1.90625 -3.765625 C 1.90625 -4.0625 1.671875 -4.296875 1.390625 -4.296875 C 1.09375 -4.296875 0.859375 -4.0625 0.859375 -3.765625 C 0.859375 -3.484375 1.09375 -3.234375 1.390625 -3.234375 C 1.671875 -3.234375 1.90625 -3.484375 1.90625 -3.765625 Z M 1.90625 -0.53125 C 1.90625 -0.8125 1.671875 -1.0625 1.390625 -1.0625 C 1.09375 -1.0625 0.859375 -0.8125 0.859375 -0.53125 C 0.859375 -0.234375 1.09375 0 1.390625 0 C 1.671875 0 1.90625 -0.234375 1.90625 -0.53125 Z M 1.90625 -0.53125 \\\"\\/>\\n<\\/symbol>\\n<symbol overflow=\\\"visible\\\" id=\\\"glyph-1562715734929579-0-14\\\">\\n<path style=\\\"stroke:none;\\\" d=\\\"M 2.890625 -3.515625 C 3.703125 -3.78125 4.28125 -4.46875 4.28125 -5.265625 C 4.28125 -6.078125 3.40625 -6.640625 2.453125 -6.640625 C 1.453125 -6.640625 0.6875 -6.046875 0.6875 -5.28125 C 0.6875 -4.953125 0.90625 -4.765625 1.203125 -4.765625 C 1.5 -4.765625 1.703125 -4.984375 1.703125 -5.28125 C 1.703125 -5.765625 1.234375 -5.765625 1.09375 -5.765625 C 1.390625 -6.265625 2.046875 -6.390625 2.40625 -6.390625 C 2.828125 -6.390625 3.375 -6.171875 3.375 -5.28125 C 3.375 -5.15625 3.34375 -4.578125 3.09375 -4.140625 C 2.796875 -3.65625 2.453125 -3.625 2.203125 -3.625 C 2.125 -3.609375 1.890625 -3.59375 1.8125 -3.59375 C 1.734375 -3.578125 1.671875 -3.5625 1.671875 -3.46875 C 1.671875 -3.359375 1.734375 -3.359375 1.90625 -3.359375 L 2.34375 -3.359375 C 3.15625 -3.359375 3.53125 -2.6875 3.53125 -1.703125 C 3.53125 -0.34375 2.84375 -0.0625 2.40625 -0.0625 C 1.96875 -0.0625 1.21875 -0.234375 0.875 -0.8125 C 1.21875 -0.765625 1.53125 -0.984375 1.53125 -1.359375 C 1.53125 -1.71875 1.265625 -1.921875 0.984375 -1.921875 C 0.734375 -1.921875 0.421875 -1.78125 0.421875 -1.34375 C 0.421875 -0.4375 1.34375 0.21875 2.4375 0.21875 C 3.65625 0.21875 4.5625 -0.6875 4.5625 -1.703125 C 4.5625 -2.515625 3.921875 -3.296875 2.890625 -3.515625 Z M 2.890625 -3.515625 \\\"\\/>\\n<\\/symbol>\\n<symbol overflow=\\\"visible\\\" id=\\\"glyph-1562715734929579-0-15\\\">\\n<path style=\\\"stroke:none;\\\" d=\\\"M 2.9375 -1.640625 L 2.9375 -0.78125 C 2.9375 -0.421875 2.90625 -0.3125 2.171875 -0.3125 L 1.96875 -0.3125 L 1.96875 0 C 2.375 -0.03125 2.890625 -0.03125 3.3125 -0.03125 C 3.734375 -0.03125 4.25 -0.03125 4.671875 0 L 4.671875 -0.3125 L 4.453125 -0.3125 C 3.71875 -0.3125 3.703125 -0.421875 3.703125 -0.78125 L 3.703125 -1.640625 L 4.6875 -1.640625 L 4.6875 -1.953125 L 3.703125 -1.953125 L 3.703125 -6.484375 C 3.703125 -6.6875 3.703125 -6.75 3.53125 -6.75 C 3.453125 -6.75 3.421875 -6.75 3.34375 -6.625 L 0.28125 -1.953125 L 0.28125 -1.640625 Z M 2.984375 -1.953125 L 0.5625 -1.953125 L 2.984375 -5.671875 Z M 2.984375 -1.953125 \\\"\\/>\\n<\\/symbol>\\n<symbol overflow=\\\"visible\\\" id=\\\"glyph-1562715734929579-0-16\\\">\\n<path style=\\\"stroke:none;\\\" d=\\\"M 2.9375 -6.375 C 2.9375 -6.625 2.9375 -6.640625 2.703125 -6.640625 C 2.078125 -6 1.203125 -6 0.890625 -6 L 0.890625 -5.6875 C 1.09375 -5.6875 1.671875 -5.6875 2.1875 -5.953125 L 2.1875 -0.78125 C 2.1875 -0.421875 2.15625 -0.3125 1.265625 -0.3125 L 0.953125 -0.3125 L 0.953125 0 C 1.296875 -0.03125 2.15625 -0.03125 2.5625 -0.03125 C 2.953125 -0.03125 3.828125 -0.03125 4.171875 0 L 4.171875 -0.3125 L 3.859375 -0.3125 C 2.953125 -0.3125 2.9375 -0.421875 2.9375 -0.78125 Z M 2.9375 -6.375 \\\"\\/>\\n<\\/symbol>\\n<symbol overflow=\\\"visible\\\" id=\\\"glyph-1562715734929579-0-17\\\">\\n<path style=\\\"stroke:none;\\\" d=\\\"M 6.1875 -5.828125 C 6.328125 -6.203125 6.59375 -6.484375 7.28125 -6.5 L 7.28125 -6.8125 C 6.96875 -6.78125 6.5625 -6.78125 6.3125 -6.78125 C 6.015625 -6.78125 5.4375 -6.796875 5.171875 -6.8125 L 5.171875 -6.5 C 5.6875 -6.484375 5.90625 -6.234375 5.90625 -6 C 5.90625 -5.921875 5.875 -5.859375 5.859375 -5.796875 L 4.03125 -1 L 2.125 -6.03125 C 2.0625 -6.171875 2.0625 -6.1875 2.0625 -6.203125 C 2.0625 -6.5 2.625 -6.5 2.875 -6.5 L 2.875 -6.8125 C 2.515625 -6.78125 1.828125 -6.78125 1.453125 -6.78125 C 0.984375 -6.78125 0.546875 -6.796875 0.1875 -6.8125 L 0.1875 -6.5 C 0.84375 -6.5 1.03125 -6.5 1.171875 -6.125 L 3.484375 0 C 3.546875 0.1875 3.59375 0.21875 3.734375 0.21875 C 3.890625 0.21875 3.921875 0.171875 3.96875 0.03125 Z M 6.1875 -5.828125 \\\"\\/>\\n<\\/symbol>\\n<symbol overflow=\\\"visible\\\" id=\\\"glyph-1562715734929579-0-18\\\">\\n<path style=\\\"stroke:none;\\\" d=\\\"M 1.171875 -2.171875 C 1.171875 -3.796875 1.984375 -4.21875 2.515625 -4.21875 C 2.609375 -4.21875 3.234375 -4.203125 3.578125 -3.84375 C 3.171875 -3.8125 3.109375 -3.515625 3.109375 -3.390625 C 3.109375 -3.125 3.296875 -2.9375 3.5625 -2.9375 C 3.828125 -2.9375 4.03125 -3.09375 4.03125 -3.40625 C 4.03125 -4.078125 3.265625 -4.46875 2.5 -4.46875 C 1.25 -4.46875 0.34375 -3.390625 0.34375 -2.15625 C 0.34375 -0.875 1.328125 0.109375 2.484375 0.109375 C 3.8125 0.109375 4.140625 -1.09375 4.140625 -1.1875 C 4.140625 -1.28125 4.03125 -1.28125 4 -1.28125 C 3.921875 -1.28125 3.890625 -1.25 3.875 -1.1875 C 3.59375 -0.265625 2.9375 -0.140625 2.578125 -0.140625 C 2.046875 -0.140625 1.171875 -0.5625 1.171875 -2.171875 Z M 1.171875 -2.171875 \\\"\\/>\\n<\\/symbol>\\n<symbol overflow=\\\"visible\\\" id=\\\"glyph-1562715734929579-0-19\\\">\\n<path style=\\\"stroke:none;\\\" d=\\\"M 1.625 -4.5625 C 1.171875 -4.859375 1.125 -5.1875 1.125 -5.359375 C 1.125 -5.96875 1.78125 -6.390625 2.484375 -6.390625 C 3.203125 -6.390625 3.84375 -5.875 3.84375 -5.15625 C 3.84375 -4.578125 3.453125 -4.109375 2.859375 -3.765625 Z M 3.078125 -3.609375 C 3.796875 -3.984375 4.28125 -4.5 4.28125 -5.15625 C 4.28125 -6.078125 3.40625 -6.640625 2.5 -6.640625 C 1.5 -6.640625 0.6875 -5.90625 0.6875 -4.96875 C 0.6875 -4.796875 0.703125 -4.34375 1.125 -3.875 C 1.234375 -3.765625 1.609375 -3.515625 1.859375 -3.34375 C 1.28125 -3.046875 0.421875 -2.5 0.421875 -1.5 C 0.421875 -0.453125 1.4375 0.21875 2.484375 0.21875 C 3.609375 0.21875 4.5625 -0.609375 4.5625 -1.671875 C 4.5625 -2.03125 4.453125 -2.484375 4.0625 -2.90625 C 3.875 -3.109375 3.71875 -3.203125 3.078125 -3.609375 Z M 2.078125 -3.1875 L 3.3125 -2.40625 C 3.59375 -2.21875 4.0625 -1.921875 4.0625 -1.3125 C 4.0625 -0.578125 3.3125 -0.0625 2.5 -0.0625 C 1.640625 -0.0625 0.921875 -0.671875 0.921875 -1.5 C 0.921875 -2.078125 1.234375 -2.71875 2.078125 -3.1875 Z M 2.078125 -3.1875 \\\"\\/>\\n<\\/symbol>\\n<symbol overflow=\\\"visible\\\" id=\\\"glyph-1562715734929579-0-20\\\">\\n<path style=\\\"stroke:none;\\\" d=\\\"M 1.90625 -0.53125 C 1.90625 -0.8125 1.671875 -1.0625 1.390625 -1.0625 C 1.09375 -1.0625 0.859375 -0.8125 0.859375 -0.53125 C 0.859375 -0.234375 1.09375 0 1.390625 0 C 1.671875 0 1.90625 -0.234375 1.90625 -0.53125 Z M 1.90625 -0.53125 \\\"\\/>\\n<\\/symbol>\\n<symbol overflow=\\\"visible\\\" id=\\\"glyph-1562715734929579-0-21\\\">\\n<path style=\\\"stroke:none;\\\" d=\\\"M 4.46875 -2 C 4.46875 -3.1875 3.65625 -4.1875 2.578125 -4.1875 C 2.109375 -4.1875 1.671875 -4.03125 1.3125 -3.671875 L 1.3125 -5.625 C 1.515625 -5.5625 1.84375 -5.5 2.15625 -5.5 C 3.390625 -5.5 4.09375 -6.40625 4.09375 -6.53125 C 4.09375 -6.59375 4.0625 -6.640625 3.984375 -6.640625 C 3.984375 -6.640625 3.953125 -6.640625 3.90625 -6.609375 C 3.703125 -6.515625 3.21875 -6.3125 2.546875 -6.3125 C 2.15625 -6.3125 1.6875 -6.390625 1.21875 -6.59375 C 1.140625 -6.625 1.125 -6.625 1.109375 -6.625 C 1 -6.625 1 -6.546875 1 -6.390625 L 1 -3.4375 C 1 -3.265625 1 -3.1875 1.140625 -3.1875 C 1.21875 -3.1875 1.234375 -3.203125 1.28125 -3.265625 C 1.390625 -3.421875 1.75 -3.96875 2.5625 -3.96875 C 3.078125 -3.96875 3.328125 -3.515625 3.40625 -3.328125 C 3.5625 -2.953125 3.59375 -2.578125 3.59375 -2.078125 C 3.59375 -1.71875 3.59375 -1.125 3.34375 -0.703125 C 3.109375 -0.3125 2.734375 -0.0625 2.28125 -0.0625 C 1.5625 -0.0625 0.984375 -0.59375 0.8125 -1.171875 C 0.84375 -1.171875 0.875 -1.15625 0.984375 -1.15625 C 1.3125 -1.15625 1.484375 -1.40625 1.484375 -1.640625 C 1.484375 -1.890625 1.3125 -2.140625 0.984375 -2.140625 C 0.84375 -2.140625 0.5 -2.0625 0.5 -1.609375 C 0.5 -0.75 1.1875 0.21875 2.296875 0.21875 C 3.453125 0.21875 4.46875 -0.734375 4.46875 -2 Z M 4.46875 -2 \\\"\\/>\\n<\\/symbol>\\n<symbol overflow=\\\"visible\\\" id=\\\"glyph-1562715734929579-0-22\\\">\\n<path style=\\\"stroke:none;\\\" d=\\\"M 4.578125 -3.1875 C 4.578125 -3.984375 4.53125 -4.78125 4.1875 -5.515625 C 3.734375 -6.484375 2.90625 -6.640625 2.5 -6.640625 C 1.890625 -6.640625 1.171875 -6.375 0.75 -5.453125 C 0.4375 -4.765625 0.390625 -3.984375 0.390625 -3.1875 C 0.390625 -2.4375 0.421875 -1.546875 0.84375 -0.78125 C 1.265625 0.015625 2 0.21875 2.484375 0.21875 C 3.015625 0.21875 3.78125 0.015625 4.21875 -0.9375 C 4.53125 -1.625 4.578125 -2.40625 4.578125 -3.1875 Z M 2.484375 0 C 2.09375 0 1.5 -0.25 1.328125 -1.203125 C 1.21875 -1.796875 1.21875 -2.71875 1.21875 -3.3125 C 1.21875 -3.953125 1.21875 -4.609375 1.296875 -5.140625 C 1.484375 -6.328125 2.234375 -6.421875 2.484375 -6.421875 C 2.8125 -6.421875 3.46875 -6.234375 3.65625 -5.25 C 3.765625 -4.6875 3.765625 -3.9375 3.765625 -3.3125 C 3.765625 -2.5625 3.765625 -1.890625 3.65625 -1.25 C 3.5 -0.296875 2.9375 0 2.484375 0 Z M 2.484375 0 \\\"\\/>\\n<\\/symbol>\\n<symbol overflow=\\\"visible\\\" id=\\\"glyph-1562715734929579-0-23\\\">\\n<path style=\\\"stroke:none;\\\" d=\\\"M 1.265625 -0.765625 L 2.328125 -1.796875 C 3.875 -3.171875 4.46875 -3.703125 4.46875 -4.703125 C 4.46875 -5.84375 3.578125 -6.640625 2.359375 -6.640625 C 1.234375 -6.640625 0.5 -5.71875 0.5 -4.828125 C 0.5 -4.28125 1 -4.28125 1.03125 -4.28125 C 1.203125 -4.28125 1.546875 -4.390625 1.546875 -4.8125 C 1.546875 -5.0625 1.359375 -5.328125 1.015625 -5.328125 C 0.9375 -5.328125 0.921875 -5.328125 0.890625 -5.3125 C 1.109375 -5.96875 1.65625 -6.328125 2.234375 -6.328125 C 3.140625 -6.328125 3.5625 -5.515625 3.5625 -4.703125 C 3.5625 -3.90625 3.078125 -3.125 2.515625 -2.5 L 0.609375 -0.375 C 0.5 -0.265625 0.5 -0.234375 0.5 0 L 4.203125 0 L 4.46875 -1.734375 L 4.234375 -1.734375 C 4.171875 -1.4375 4.109375 -1 4 -0.84375 C 3.9375 -0.765625 3.28125 -0.765625 3.0625 -0.765625 Z M 1.265625 -0.765625 \\\"\\/>\\n<\\/symbol>\\n<symbol overflow=\\\"visible\\\" id=\\\"glyph-1562715734929579-0-24\\\">\\n<path style=\\\"stroke:none;\\\" d=\\\"M 1.359375 -0.78125 C 1.359375 -0.421875 1.328125 -0.3125 0.5625 -0.3125 L 0.328125 -0.3125 L 0.328125 0 L 6.078125 0 L 6.5 -2.578125 L 6.25 -2.578125 C 6 -1.03125 5.765625 -0.3125 4.0625 -0.3125 L 2.734375 -0.3125 C 2.265625 -0.3125 2.25 -0.375 2.25 -0.703125 L 2.25 -3.375 L 3.140625 -3.375 C 4.109375 -3.375 4.21875 -3.046875 4.21875 -2.203125 L 4.46875 -2.203125 L 4.46875 -4.84375 L 4.21875 -4.84375 C 4.21875 -3.984375 4.109375 -3.671875 3.140625 -3.671875 L 2.25 -3.671875 L 2.25 -6.078125 C 2.25 -6.40625 2.265625 -6.46875 2.734375 -6.46875 L 4.015625 -6.46875 C 5.546875 -6.46875 5.8125 -5.921875 5.96875 -4.53125 L 6.21875 -4.53125 L 5.9375 -6.78125 L 0.328125 -6.78125 L 0.328125 -6.46875 L 0.5625 -6.46875 C 1.328125 -6.46875 1.359375 -6.359375 1.359375 -6 Z M 1.359375 -0.78125 \\\"\\/>\\n<\\/symbol>\\n<symbol overflow=\\\"visible\\\" id=\\\"glyph-1562715734929579-0-25\\\">\\n<path style=\\\"stroke:none;\\\" d=\\\"M 2.078125 -1.9375 C 2.296875 -1.890625 3.109375 -1.734375 3.109375 -1.015625 C 3.109375 -0.515625 2.765625 -0.109375 1.984375 -0.109375 C 1.140625 -0.109375 0.78125 -0.671875 0.59375 -1.53125 C 0.5625 -1.65625 0.5625 -1.6875 0.453125 -1.6875 C 0.328125 -1.6875 0.328125 -1.625 0.328125 -1.453125 L 0.328125 -0.125 C 0.328125 0.046875 0.328125 0.109375 0.4375 0.109375 C 0.484375 0.109375 0.5 0.09375 0.6875 -0.09375 C 0.703125 -0.109375 0.703125 -0.125 0.890625 -0.3125 C 1.328125 0.09375 1.78125 0.109375 1.984375 0.109375 C 3.125 0.109375 3.59375 -0.5625 3.59375 -1.28125 C 3.59375 -1.796875 3.296875 -2.109375 3.171875 -2.21875 C 2.84375 -2.546875 2.453125 -2.625 2.03125 -2.703125 C 1.46875 -2.8125 0.8125 -2.9375 0.8125 -3.515625 C 0.8125 -3.875 1.0625 -4.28125 1.921875 -4.28125 C 3.015625 -4.28125 3.078125 -3.375 3.09375 -3.078125 C 3.09375 -2.984375 3.1875 -2.984375 3.203125 -2.984375 C 3.34375 -2.984375 3.34375 -3.03125 3.34375 -3.21875 L 3.34375 -4.234375 C 3.34375 -4.390625 3.34375 -4.46875 3.234375 -4.46875 C 3.1875 -4.46875 3.15625 -4.46875 3.03125 -4.34375 C 3 -4.3125 2.90625 -4.21875 2.859375 -4.1875 C 2.484375 -4.46875 2.078125 -4.46875 1.921875 -4.46875 C 0.703125 -4.46875 0.328125 -3.796875 0.328125 -3.234375 C 0.328125 -2.890625 0.484375 -2.609375 0.75 -2.390625 C 1.078125 -2.140625 1.359375 -2.078125 2.078125 -1.9375 Z M 2.078125 -1.9375 \\\"\\/>\\n<\\/symbol>\\n<symbol overflow=\\\"visible\\\" id=\\\"glyph-1562715734929579-0-26\\\">\\n<path style=\\\"stroke:none;\\\" d=\\\"M 3.296875 2.390625 C 3.296875 2.359375 3.296875 2.34375 3.125 2.171875 C 1.890625 0.921875 1.5625 -0.96875 1.5625 -2.5 C 1.5625 -4.234375 1.9375 -5.96875 3.171875 -7.203125 C 3.296875 -7.328125 3.296875 -7.34375 3.296875 -7.375 C 3.296875 -7.453125 3.265625 -7.484375 3.203125 -7.484375 C 3.09375 -7.484375 2.203125 -6.796875 1.609375 -5.53125 C 1.109375 -4.4375 0.984375 -3.328125 0.984375 -2.5 C 0.984375 -1.71875 1.09375 -0.515625 1.640625 0.625 C 2.25 1.84375 3.09375 2.5 3.203125 2.5 C 3.265625 2.5 3.296875 2.46875 3.296875 2.390625 Z M 3.296875 2.390625 \\\"\\/>\\n<\\/symbol>\\n<symbol overflow=\\\"visible\\\" id=\\\"glyph-1562715734929579-0-27\\\">\\n<path style=\\\"stroke:none;\\\" d=\\\"M 1.09375 -3.421875 L 1.09375 -0.75 C 1.09375 -0.3125 0.984375 -0.3125 0.3125 -0.3125 L 0.3125 0 C 0.671875 -0.015625 1.171875 -0.03125 1.453125 -0.03125 C 1.703125 -0.03125 2.21875 -0.015625 2.5625 0 L 2.5625 -0.3125 C 1.890625 -0.3125 1.78125 -0.3125 1.78125 -0.75 L 1.78125 -2.59375 C 1.78125 -3.625 2.5 -4.1875 3.125 -4.1875 C 3.765625 -4.1875 3.875 -3.65625 3.875 -3.078125 L 3.875 -0.75 C 3.875 -0.3125 3.765625 -0.3125 3.09375 -0.3125 L 3.09375 0 C 3.4375 -0.015625 3.953125 -0.03125 4.21875 -0.03125 C 4.46875 -0.03125 5 -0.015625 5.328125 0 L 5.328125 -0.3125 C 4.671875 -0.3125 4.5625 -0.3125 4.5625 -0.75 L 4.5625 -2.59375 C 4.5625 -3.625 5.265625 -4.1875 5.90625 -4.1875 C 6.53125 -4.1875 6.640625 -3.65625 6.640625 -3.078125 L 6.640625 -0.75 C 6.640625 -0.3125 6.53125 -0.3125 5.859375 -0.3125 L 5.859375 0 C 6.203125 -0.015625 6.71875 -0.03125 6.984375 -0.03125 C 7.25 -0.03125 7.765625 -0.015625 8.109375 0 L 8.109375 -0.3125 C 7.59375 -0.3125 7.34375 -0.3125 7.328125 -0.609375 L 7.328125 -2.515625 C 7.328125 -3.375 7.328125 -3.671875 7.015625 -4.03125 C 6.875 -4.203125 6.546875 -4.40625 5.96875 -4.40625 C 5.140625 -4.40625 4.6875 -3.8125 4.53125 -3.421875 C 4.390625 -4.296875 3.65625 -4.40625 3.203125 -4.40625 C 2.46875 -4.40625 2 -3.984375 1.71875 -3.359375 L 1.71875 -4.40625 L 0.3125 -4.296875 L 0.3125 -3.984375 C 1.015625 -3.984375 1.09375 -3.921875 1.09375 -3.421875 Z M 1.09375 -3.421875 \\\"\\/>\\n<\\/symbol>\\n<symbol overflow=\\\"visible\\\" id=\\\"glyph-1562715734929579-0-28\\\">\\n<path style=\\\"stroke:none;\\\" d=\\\"M 2.875 -2.5 C 2.875 -3.265625 2.765625 -4.46875 2.21875 -5.609375 C 1.625 -6.828125 0.765625 -7.484375 0.671875 -7.484375 C 0.609375 -7.484375 0.5625 -7.4375 0.5625 -7.375 C 0.5625 -7.34375 0.5625 -7.328125 0.75 -7.140625 C 1.734375 -6.15625 2.296875 -4.578125 2.296875 -2.5 C 2.296875 -0.78125 1.9375 0.96875 0.703125 2.21875 C 0.5625 2.34375 0.5625 2.359375 0.5625 2.390625 C 0.5625 2.453125 0.609375 2.5 0.671875 2.5 C 0.765625 2.5 1.671875 1.8125 2.25 0.546875 C 2.765625 -0.546875 2.875 -1.65625 2.875 -2.5 Z M 2.875 -2.5 \\\"\\/>\\n<\\/symbol>\\n<symbol overflow=\\\"visible\\\" id=\\\"glyph-1562715734929579-0-29\\\">\\n<path style=\\\"stroke:none;\\\" d=\\\"M 5.90625 -0.625 C 6.046875 -0.40625 6.4375 -0.015625 6.546875 -0.015625 C 6.640625 -0.015625 6.640625 -0.09375 6.640625 -0.234375 L 6.640625 -1.96875 C 6.640625 -2.359375 6.671875 -2.40625 7.328125 -2.40625 L 7.328125 -2.71875 C 6.953125 -2.71875 6.40625 -2.6875 6.109375 -2.6875 C 5.71875 -2.6875 4.859375 -2.6875 4.5 -2.71875 L 4.5 -2.40625 L 4.828125 -2.40625 C 5.71875 -2.40625 5.75 -2.296875 5.75 -1.9375 L 5.75 -1.296875 C 5.75 -0.171875 4.484375 -0.09375 4.203125 -0.09375 C 3.5625 -0.09375 1.578125 -0.4375 1.578125 -3.40625 C 1.578125 -6.390625 3.546875 -6.71875 4.140625 -6.71875 C 5.21875 -6.71875 6.125 -5.828125 6.3125 -4.359375 C 6.34375 -4.21875 6.34375 -4.1875 6.484375 -4.1875 C 6.640625 -4.1875 6.640625 -4.21875 6.640625 -4.421875 L 6.640625 -6.78125 C 6.640625 -6.953125 6.640625 -7.03125 6.53125 -7.03125 C 6.484375 -7.03125 6.453125 -7.03125 6.375 -6.90625 L 5.875 -6.171875 C 5.546875 -6.484375 5.015625 -7.03125 4.03125 -7.03125 C 2.171875 -7.03125 0.5625 -5.453125 0.5625 -3.40625 C 0.5625 -1.359375 2.15625 0.21875 4.046875 0.21875 C 4.78125 0.21875 5.578125 -0.046875 5.90625 -0.625 Z M 5.90625 -0.625 \\\"\\/>\\n<\\/symbol>\\n<symbol overflow=\\\"visible\\\" id=\\\"glyph-1562715734929579-0-30\\\">\\n<path style=\\\"stroke:none;\\\" d=\\\"M 3.890625 -0.78125 L 3.890625 0.109375 L 5.328125 0 L 5.328125 -0.3125 C 4.640625 -0.3125 4.5625 -0.375 4.5625 -0.875 L 4.5625 -4.40625 L 3.09375 -4.296875 L 3.09375 -3.984375 C 3.78125 -3.984375 3.875 -3.921875 3.875 -3.421875 L 3.875 -1.65625 C 3.875 -0.78125 3.390625 -0.109375 2.65625 -0.109375 C 1.828125 -0.109375 1.78125 -0.578125 1.78125 -1.09375 L 1.78125 -4.40625 L 0.3125 -4.296875 L 0.3125 -3.984375 C 1.09375 -3.984375 1.09375 -3.953125 1.09375 -3.078125 L 1.09375 -1.578125 C 1.09375 -0.796875 1.09375 0.109375 2.609375 0.109375 C 3.171875 0.109375 3.609375 -0.171875 3.890625 -0.78125 Z M 3.890625 -0.78125 \\\"\\/>\\n<\\/symbol>\\n<symbol overflow=\\\"visible\\\" id=\\\"glyph-1562715734929579-0-31\\\">\\n<path style=\\\"stroke:none;\\\" d=\\\"M 3.78125 -0.546875 L 3.78125 0.109375 L 5.25 0 L 5.25 -0.3125 C 4.5625 -0.3125 4.46875 -0.375 4.46875 -0.875 L 4.46875 -6.921875 L 3.046875 -6.8125 L 3.046875 -6.5 C 3.734375 -6.5 3.8125 -6.4375 3.8125 -5.9375 L 3.8125 -3.78125 C 3.53125 -4.140625 3.09375 -4.40625 2.5625 -4.40625 C 1.390625 -4.40625 0.34375 -3.421875 0.34375 -2.140625 C 0.34375 -0.875 1.3125 0.109375 2.453125 0.109375 C 3.09375 0.109375 3.53125 -0.234375 3.78125 -0.546875 Z M 3.78125 -3.21875 L 3.78125 -1.171875 C 3.78125 -1 3.78125 -0.984375 3.671875 -0.8125 C 3.375 -0.328125 2.9375 -0.109375 2.5 -0.109375 C 2.046875 -0.109375 1.6875 -0.375 1.453125 -0.75 C 1.203125 -1.15625 1.171875 -1.71875 1.171875 -2.140625 C 1.171875 -2.5 1.1875 -3.09375 1.46875 -3.546875 C 1.6875 -3.859375 2.0625 -4.1875 2.609375 -4.1875 C 2.953125 -4.1875 3.375 -4.03125 3.671875 -3.59375 C 3.78125 -3.421875 3.78125 -3.40625 3.78125 -3.21875 Z M 3.78125 -3.21875 \\\"\\/>\\n<\\/symbol>\\n<symbol overflow=\\\"visible\\\" id=\\\"glyph-1562715734929579-0-32\\\">\\n<path style=\\\"stroke:none;\\\" d=\\\"M 6.640625 -6.75 L 0.546875 -6.75 L 0.359375 -4.5 L 0.609375 -4.5 C 0.75 -6.109375 0.890625 -6.4375 2.40625 -6.4375 C 2.578125 -6.4375 2.84375 -6.4375 2.9375 -6.421875 C 3.15625 -6.375 3.15625 -6.265625 3.15625 -6.046875 L 3.15625 -0.78125 C 3.15625 -0.453125 3.15625 -0.3125 2.109375 -0.3125 L 1.703125 -0.3125 L 1.703125 0 C 2.109375 -0.03125 3.125 -0.03125 3.59375 -0.03125 C 4.046875 -0.03125 5.078125 -0.03125 5.484375 0 L 5.484375 -0.3125 L 5.078125 -0.3125 C 4.03125 -0.3125 4.03125 -0.453125 4.03125 -0.78125 L 4.03125 -6.046875 C 4.03125 -6.234375 4.03125 -6.375 4.21875 -6.421875 C 4.328125 -6.4375 4.59375 -6.4375 4.78125 -6.4375 C 6.296875 -6.4375 6.4375 -6.109375 6.578125 -4.5 L 6.828125 -4.5 Z M 6.640625 -6.75 \\\"\\/>\\n<\\/symbol>\\n<symbol overflow=\\\"visible\\\" id=\\\"glyph-1562715734929579-0-33\\\">\\n<path style=\\\"stroke:none;\\\" d=\\\"M 1.0625 -0.75 C 1.0625 -0.3125 0.953125 -0.3125 0.28125 -0.3125 L 0.28125 0 C 0.609375 -0.015625 1.078125 -0.03125 1.359375 -0.03125 C 1.671875 -0.03125 2.0625 -0.015625 2.46875 0 L 2.46875 -0.3125 C 1.796875 -0.3125 1.6875 -0.3125 1.6875 -0.75 L 1.6875 -1.78125 L 2.328125 -2.328125 C 3.09375 -1.28125 3.515625 -0.71875 3.515625 -0.53125 C 3.515625 -0.34375 3.34375 -0.3125 3.15625 -0.3125 L 3.15625 0 C 3.421875 -0.015625 4.015625 -0.03125 4.234375 -0.03125 C 4.515625 -0.03125 4.8125 -0.015625 5.09375 0 L 5.09375 -0.3125 C 4.71875 -0.3125 4.5 -0.3125 4.125 -0.84375 L 2.859375 -2.625 C 2.84375 -2.640625 2.796875 -2.703125 2.796875 -2.734375 C 2.796875 -2.765625 3.515625 -3.375 3.609375 -3.453125 C 4.234375 -3.953125 4.65625 -3.984375 4.859375 -3.984375 L 4.859375 -4.296875 C 4.578125 -4.265625 4.453125 -4.265625 4.171875 -4.265625 C 3.8125 -4.265625 3.1875 -4.28125 3.046875 -4.296875 L 3.046875 -3.984375 C 3.234375 -3.984375 3.34375 -3.875 3.34375 -3.734375 C 3.34375 -3.53125 3.203125 -3.421875 3.125 -3.34375 L 1.71875 -2.140625 L 1.71875 -6.921875 L 0.28125 -6.8125 L 0.28125 -6.5 C 0.984375 -6.5 1.0625 -6.4375 1.0625 -5.9375 Z M 1.0625 -0.75 \\\"\\/>\\n<\\/symbol>\\n<symbol overflow=\\\"visible\\\" id=\\\"glyph-1562715734929579-0-34\\\">\\n<path style=\\\"stroke:none;\\\" d=\\\"M 1.3125 -3.265625 L 1.3125 -3.515625 C 1.3125 -6.03125 2.546875 -6.390625 3.0625 -6.390625 C 3.296875 -6.390625 3.71875 -6.328125 3.9375 -5.984375 C 3.78125 -5.984375 3.390625 -5.984375 3.390625 -5.546875 C 3.390625 -5.234375 3.625 -5.078125 3.84375 -5.078125 C 4 -5.078125 4.3125 -5.171875 4.3125 -5.5625 C 4.3125 -6.15625 3.875 -6.640625 3.046875 -6.640625 C 1.765625 -6.640625 0.421875 -5.359375 0.421875 -3.15625 C 0.421875 -0.484375 1.578125 0.21875 2.5 0.21875 C 3.609375 0.21875 4.5625 -0.71875 4.5625 -2.03125 C 4.5625 -3.296875 3.671875 -4.25 2.5625 -4.25 C 1.890625 -4.25 1.515625 -3.75 1.3125 -3.265625 Z M 2.5 -0.0625 C 1.875 -0.0625 1.578125 -0.65625 1.515625 -0.8125 C 1.328125 -1.28125 1.328125 -2.078125 1.328125 -2.25 C 1.328125 -3.03125 1.65625 -4.03125 2.546875 -4.03125 C 2.71875 -4.03125 3.171875 -4.03125 3.484375 -3.40625 C 3.65625 -3.046875 3.65625 -2.53125 3.65625 -2.046875 C 3.65625 -1.5625 3.65625 -1.0625 3.484375 -0.703125 C 3.1875 -0.109375 2.734375 -0.0625 2.5 -0.0625 Z M 2.5 -0.0625 \\\"\\/>\\n<\\/symbol>\\n<symbol overflow=\\\"visible\\\" id=\\\"glyph-1562715734929579-0-35\\\">\\n<path style=\\\"stroke:none;\\\" d=\\\"M 2.265625 -3.15625 L 3.953125 -3.15625 C 5.140625 -3.15625 6.21875 -3.953125 6.21875 -4.953125 C 6.21875 -5.9375 5.234375 -6.8125 3.875 -6.8125 L 0.34375 -6.8125 L 0.34375 -6.5 L 0.59375 -6.5 C 1.359375 -6.5 1.375 -6.390625 1.375 -6.03125 L 1.375 -0.78125 C 1.375 -0.421875 1.359375 -0.3125 0.59375 -0.3125 L 0.34375 -0.3125 L 0.34375 0 C 0.703125 -0.03125 1.4375 -0.03125 1.8125 -0.03125 C 2.1875 -0.03125 2.9375 -0.03125 3.296875 0 L 3.296875 -0.3125 L 3.046875 -0.3125 C 2.28125 -0.3125 2.265625 -0.421875 2.265625 -0.78125 Z M 2.234375 -3.40625 L 2.234375 -6.09375 C 2.234375 -6.4375 2.25 -6.5 2.71875 -6.5 L 3.609375 -6.5 C 5.1875 -6.5 5.1875 -5.4375 5.1875 -4.953125 C 5.1875 -4.484375 5.1875 -3.40625 3.609375 -3.40625 Z M 2.234375 -3.40625 \\\"\\/>\\n<\\/symbol>\\n<symbol overflow=\\\"visible\\\" id=\\\"glyph-1562715734929579-0-36\\\">\\n<path style=\\\"stroke:none;\\\" d=\\\"M 3.296875 -3.984375 C 3.75 -3.984375 3.8125 -3.859375 3.8125 -3.453125 L 3.8125 -0.75 C 3.8125 -0.3125 3.703125 -0.3125 3.046875 -0.3125 L 3.046875 0 C 3.375 -0.015625 3.890625 -0.03125 4.140625 -0.03125 C 4.390625 -0.03125 4.890625 -0.015625 5.25 0 L 5.25 -0.3125 C 4.578125 -0.3125 4.46875 -0.3125 4.46875 -0.75 L 4.46875 -4.421875 L 3.21875 -4.328125 C 3.0625 -4.3125 3.046875 -4.3125 3.046875 -4.3125 C 3.015625 -4.296875 3 -4.296875 2.859375 -4.296875 L 1.6875 -4.296875 L 1.6875 -5.421875 C 1.6875 -6.40625 2.546875 -6.8125 3.15625 -6.8125 C 3.453125 -6.8125 3.8125 -6.703125 4.015625 -6.484375 C 3.609375 -6.453125 3.546875 -6.1875 3.546875 -6.015625 C 3.546875 -5.6875 3.8125 -5.5625 4 -5.5625 C 4.234375 -5.5625 4.453125 -5.71875 4.453125 -6.015625 C 4.453125 -6.609375 3.90625 -7.03125 3.171875 -7.03125 C 2.25 -7.03125 1.0625 -6.515625 1.0625 -5.4375 L 1.0625 -4.296875 L 0.265625 -4.296875 L 0.265625 -3.984375 L 1.0625 -3.984375 L 1.0625 -0.75 C 1.0625 -0.3125 0.953125 -0.3125 0.28125 -0.3125 L 0.28125 0 C 0.609375 -0.015625 1.140625 -0.03125 1.390625 -0.03125 C 1.640625 -0.03125 2.125 -0.015625 2.5 0 L 2.5 -0.3125 C 1.828125 -0.3125 1.71875 -0.3125 1.71875 -0.75 L 1.71875 -3.984375 Z M 3.296875 -3.984375 \\\"\\/>\\n<\\/symbol>\\n<symbol overflow=\\\"visible\\\" id=\\\"glyph-1562715734929579-0-37\\\">\\n<path style=\\\"stroke:none;\\\" d=\\\"M 3.96875 -6.9375 C 3.921875 -7.0625 3.890625 -7.140625 3.734375 -7.140625 C 3.578125 -7.140625 3.546875 -7.078125 3.5 -6.9375 L 1.4375 -0.984375 C 1.25 -0.46875 0.859375 -0.3125 0.3125 -0.3125 L 0.3125 0 C 0.546875 -0.015625 0.984375 -0.03125 1.328125 -0.03125 C 1.640625 -0.03125 2.15625 -0.015625 2.484375 0 L 2.484375 -0.3125 C 1.984375 -0.3125 1.734375 -0.5625 1.734375 -0.8125 C 1.734375 -0.84375 1.75 -0.953125 1.75 -0.96875 L 2.21875 -2.265625 L 4.671875 -2.265625 L 5.203125 -0.75 C 5.21875 -0.703125 5.234375 -0.640625 5.234375 -0.609375 C 5.234375 -0.3125 4.671875 -0.3125 4.40625 -0.3125 L 4.40625 0 C 4.765625 -0.03125 5.46875 -0.03125 5.84375 -0.03125 C 6.265625 -0.03125 6.734375 -0.015625 7.140625 0 L 7.140625 -0.3125 L 6.96875 -0.3125 C 6.375 -0.3125 6.234375 -0.375 6.125 -0.703125 Z M 3.4375 -5.828125 L 4.5625 -2.578125 L 2.328125 -2.578125 Z M 3.4375 -5.828125 \\\"\\/>\\n<\\/symbol>\\n<symbol overflow=\\\"visible\\\" id=\\\"glyph-1562715734929579-0-38\\\">\\n<path style=\\\"stroke:none;\\\" d=\\\"M 0.5625 -3.40625 C 0.5625 -1.34375 2.171875 0.21875 4.03125 0.21875 C 5.65625 0.21875 6.625 -1.171875 6.625 -2.328125 C 6.625 -2.421875 6.625 -2.5 6.5 -2.5 C 6.390625 -2.5 6.390625 -2.4375 6.375 -2.328125 C 6.296875 -0.90625 5.234375 -0.09375 4.140625 -0.09375 C 3.53125 -0.09375 1.578125 -0.421875 1.578125 -3.40625 C 1.578125 -6.375 3.53125 -6.71875 4.140625 -6.71875 C 5.21875 -6.71875 6.109375 -5.8125 6.3125 -4.359375 C 6.328125 -4.21875 6.328125 -4.1875 6.46875 -4.1875 C 6.625 -4.1875 6.625 -4.21875 6.625 -4.421875 L 6.625 -6.78125 C 6.625 -6.953125 6.625 -7.03125 6.515625 -7.03125 C 6.484375 -7.03125 6.4375 -7.03125 6.359375 -6.90625 L 5.859375 -6.171875 C 5.5 -6.53125 4.984375 -7.03125 4.03125 -7.03125 C 2.15625 -7.03125 0.5625 -5.4375 0.5625 -3.40625 Z M 0.5625 -3.40625 \\\"\\/>\\n<\\/symbol>\\n<symbol overflow=\\\"visible\\\" id=\\\"glyph-1562715734929579-0-39\\\">\\n<path style=\\\"stroke:none;\\\" d=\\\"M 7.1875 -3.375 C 7.1875 -5.40625 5.6875 -7.03125 3.875 -7.03125 C 2.078125 -7.03125 0.5625 -5.4375 0.5625 -3.375 C 0.5625 -1.328125 2.09375 0.21875 3.875 0.21875 C 5.6875 0.21875 7.1875 -1.359375 7.1875 -3.375 Z M 3.875 -0.046875 C 2.921875 -0.046875 1.578125 -0.921875 1.578125 -3.515625 C 1.578125 -6.09375 3.046875 -6.78125 3.875 -6.78125 C 4.734375 -6.78125 6.15625 -6.078125 6.15625 -3.515625 C 6.15625 -0.875 4.796875 -0.046875 3.875 -0.046875 Z M 3.875 -0.046875 \\\"\\/>\\n<\\/symbol>\\n<symbol overflow=\\\"visible\\\" id=\\\"glyph-1562715734929579-0-40\\\">\\n<path style=\\\"stroke:none;\\\" d=\\\"M 0.34375 -6.8125 L 0.34375 -6.5 L 0.59375 -6.5 C 1.359375 -6.5 1.375 -6.390625 1.375 -6.03125 L 1.375 -0.78125 C 1.375 -0.421875 1.359375 -0.3125 0.59375 -0.3125 L 0.34375 -0.3125 L 0.34375 0 L 4 0 C 5.671875 0 7.046875 -1.46875 7.046875 -3.34375 C 7.046875 -5.25 5.703125 -6.8125 4 -6.8125 Z M 2.71875 -0.3125 C 2.25 -0.3125 2.234375 -0.375 2.234375 -0.703125 L 2.234375 -6.09375 C 2.234375 -6.4375 2.25 -6.5 2.71875 -6.5 L 3.71875 -6.5 C 4.34375 -6.5 5.03125 -6.28125 5.53125 -5.578125 C 5.96875 -4.984375 6.046875 -4.125 6.046875 -3.34375 C 6.046875 -2.25 5.859375 -1.640625 5.5 -1.15625 C 5.296875 -0.890625 4.734375 -0.3125 3.734375 -0.3125 Z M 2.71875 -0.3125 \\\"\\/>\\n<\\/symbol>\\n<symbol overflow=\\\"visible\\\" id=\\\"glyph-1562715734929579-0-41\\\">\\n<path style=\\\"stroke:none;\\\" d=\\\"M 2.3125 -6.671875 C 2.21875 -6.796875 2.21875 -6.8125 2.03125 -6.8125 L 0.328125 -6.8125 L 0.328125 -6.5 L 0.625 -6.5 C 0.765625 -6.5 0.96875 -6.484375 1.109375 -6.484375 C 1.34375 -6.453125 1.359375 -6.4375 1.359375 -6.25 L 1.359375 -1.046875 C 1.359375 -0.78125 1.359375 -0.3125 0.328125 -0.3125 L 0.328125 0 C 0.671875 -0.015625 1.171875 -0.03125 1.5 -0.03125 C 1.828125 -0.03125 2.3125 -0.015625 2.65625 0 L 2.65625 -0.3125 C 1.640625 -0.3125 1.640625 -0.78125 1.640625 -1.046875 L 1.640625 -6.234375 C 1.6875 -6.1875 1.6875 -6.171875 1.734375 -6.109375 L 5.796875 -0.125 C 5.890625 -0.015625 5.90625 0 5.96875 0 C 6.109375 0 6.109375 -0.0625 6.109375 -0.265625 L 6.109375 -5.765625 C 6.109375 -6.03125 6.109375 -6.5 7.140625 -6.5 L 7.140625 -6.8125 C 6.78125 -6.796875 6.296875 -6.78125 5.96875 -6.78125 C 5.640625 -6.78125 5.15625 -6.796875 4.8125 -6.8125 L 4.8125 -6.5 C 5.828125 -6.5 5.828125 -6.03125 5.828125 -5.765625 L 5.828125 -1.5 Z M 2.3125 -6.671875 \\\"\\/>\\n<\\/symbol>\\n<symbol overflow=\\\"visible\\\" id=\\\"glyph-1562715734929579-0-42\\\">\\n<path style=\\\"stroke:none;\\\" d=\\\"M 5.796875 -2.578125 L 5.546875 -2.578125 C 5.4375 -1.5625 5.296875 -0.3125 3.546875 -0.3125 L 2.734375 -0.3125 C 2.265625 -0.3125 2.25 -0.375 2.25 -0.703125 L 2.25 -6.015625 C 2.25 -6.359375 2.25 -6.5 3.1875 -6.5 L 3.515625 -6.5 L 3.515625 -6.8125 C 3.15625 -6.78125 2.25 -6.78125 1.84375 -6.78125 C 1.453125 -6.78125 0.671875 -6.78125 0.328125 -6.8125 L 0.328125 -6.5 L 0.5625 -6.5 C 1.328125 -6.5 1.359375 -6.390625 1.359375 -6.03125 L 1.359375 -0.78125 C 1.359375 -0.421875 1.328125 -0.3125 0.5625 -0.3125 L 0.328125 -0.3125 L 0.328125 0 L 5.515625 0 Z M 5.796875 -2.578125 \\\"\\/>\\n<\\/symbol>\\n<symbol overflow=\\\"visible\\\" id=\\\"glyph-1562715734929579-0-43\\\">\\n<path style=\\\"stroke:none;\\\" d=\\\"M 3.484375 -3.875 L 2.203125 -4.171875 C 1.578125 -4.328125 1.203125 -4.859375 1.203125 -5.4375 C 1.203125 -6.140625 1.734375 -6.75 2.515625 -6.75 C 4.171875 -6.75 4.390625 -5.109375 4.453125 -4.671875 C 4.46875 -4.609375 4.46875 -4.546875 4.578125 -4.546875 C 4.703125 -4.546875 4.703125 -4.59375 4.703125 -4.78125 L 4.703125 -6.78125 C 4.703125 -6.953125 4.703125 -7.03125 4.59375 -7.03125 C 4.53125 -7.03125 4.515625 -7.015625 4.453125 -6.890625 L 4.09375 -6.328125 C 3.796875 -6.625 3.390625 -7.03125 2.5 -7.03125 C 1.390625 -7.03125 0.5625 -6.15625 0.5625 -5.09375 C 0.5625 -4.265625 1.09375 -3.53125 1.859375 -3.265625 C 1.96875 -3.234375 2.484375 -3.109375 3.1875 -2.9375 C 3.453125 -2.875 3.75 -2.796875 4.03125 -2.4375 C 4.234375 -2.171875 4.34375 -1.84375 4.34375 -1.515625 C 4.34375 -0.8125 3.84375 -0.09375 3 -0.09375 C 2.71875 -0.09375 1.953125 -0.140625 1.421875 -0.625 C 0.84375 -1.171875 0.8125 -1.796875 0.8125 -2.15625 C 0.796875 -2.265625 0.71875 -2.265625 0.6875 -2.265625 C 0.5625 -2.265625 0.5625 -2.1875 0.5625 -2.015625 L 0.5625 -0.015625 C 0.5625 0.15625 0.5625 0.21875 0.671875 0.21875 C 0.734375 0.21875 0.75 0.203125 0.8125 0.09375 C 0.8125 0.078125 0.84375 0.046875 1.171875 -0.484375 C 1.484375 -0.140625 2.125 0.21875 3.015625 0.21875 C 4.171875 0.21875 4.96875 -0.75 4.96875 -1.859375 C 4.96875 -2.84375 4.3125 -3.671875 3.484375 -3.875 Z M 3.484375 -3.875 \\\"\\/>\\n<\\/symbol>\\n<symbol overflow=\\\"visible\\\" id=\\\"glyph-1562715734929579-0-44\\\">\\n<path style=\\\"stroke:none;\\\" d=\\\"M 3.984375 -4.171875 L 5.78125 -5.90625 C 5.859375 -5.984375 6.390625 -6.484375 7.203125 -6.5 L 7.203125 -6.8125 C 6.9375 -6.78125 6.625 -6.78125 6.34375 -6.78125 C 5.984375 -6.78125 5.421875 -6.78125 5.078125 -6.8125 L 5.078125 -6.5 C 5.484375 -6.484375 5.546875 -6.265625 5.546875 -6.171875 C 5.546875 -6.015625 5.4375 -5.90625 5.359375 -5.84375 L 2.25 -2.859375 L 2.25 -6.03125 C 2.25 -6.390625 2.265625 -6.5 3.03125 -6.5 L 3.265625 -6.5 L 3.265625 -6.8125 C 2.921875 -6.78125 2.1875 -6.78125 1.796875 -6.78125 C 1.421875 -6.78125 0.671875 -6.78125 0.328125 -6.8125 L 0.328125 -6.5 L 0.5625 -6.5 C 1.328125 -6.5 1.359375 -6.390625 1.359375 -6.03125 L 1.359375 -0.78125 C 1.359375 -0.421875 1.328125 -0.3125 0.5625 -0.3125 L 0.328125 -0.3125 L 0.328125 0 C 0.671875 -0.03125 1.421875 -0.03125 1.796875 -0.03125 C 2.171875 -0.03125 2.921875 -0.03125 3.265625 0 L 3.265625 -0.3125 L 3.03125 -0.3125 C 2.265625 -0.3125 2.25 -0.421875 2.25 -0.78125 L 2.25 -2.515625 L 3.40625 -3.625 L 5.203125 -0.953125 C 5.265625 -0.859375 5.359375 -0.734375 5.359375 -0.609375 C 5.359375 -0.3125 4.96875 -0.3125 4.765625 -0.3125 L 4.765625 0 C 5.109375 -0.03125 5.8125 -0.03125 6.1875 -0.03125 C 6.546875 -0.03125 6.921875 -0.015625 7.34375 0 L 7.34375 -0.3125 C 6.796875 -0.3125 6.59375 -0.34375 6.296875 -0.78125 Z M 3.984375 -4.171875 \\\"\\/>\\n<\\/symbol>\\n<symbol overflow=\\\"visible\\\" id=\\\"glyph-1562715734929579-0-45\\\">\\n<path style=\\\"stroke:none;\\\" d=\\\"M 6.078125 -5.859375 C 6.453125 -6.453125 7.03125 -6.5 7.359375 -6.5 L 7.359375 -6.8125 C 7.046875 -6.78125 6.65625 -6.78125 6.375 -6.78125 C 6.078125 -6.78125 5.5 -6.796875 5.234375 -6.8125 L 5.234375 -6.5 C 5.640625 -6.5 5.796875 -6.3125 5.796875 -6.109375 C 5.796875 -6 5.734375 -5.875 5.703125 -5.8125 L 4.0625 -3.140625 L 2.25 -6.078125 C 2.1875 -6.1875 2.1875 -6.203125 2.1875 -6.25 C 2.1875 -6.453125 2.4375 -6.5 2.875 -6.5 L 2.875 -6.8125 C 2.515625 -6.78125 1.796875 -6.78125 1.40625 -6.78125 C 0.984375 -6.78125 0.53125 -6.78125 0.109375 -6.8125 L 0.109375 -6.5 L 0.296875 -6.5 C 0.96875 -6.5 1.046875 -6.390625 1.203125 -6.125 L 3.296875 -2.71875 L 3.296875 -0.78125 C 3.296875 -0.421875 3.28125 -0.3125 2.515625 -0.3125 L 2.265625 -0.3125 L 2.265625 0 C 2.625 -0.03125 3.34375 -0.03125 3.734375 -0.03125 C 4.109375 -0.03125 4.828125 -0.03125 5.1875 0 L 5.1875 -0.3125 L 4.953125 -0.3125 C 4.1875 -0.3125 4.15625 -0.40625 4.15625 -0.796875 L 4.15625 -2.71875 Z M 6.078125 -5.859375 \\\"\\/>\\n<\\/symbol>\\n<symbol overflow=\\\"visible\\\" id=\\\"glyph-1562715734929579-1-0\\\">\\n<path style=\\\"stroke:none;\\\" d=\\\"\\\"\\/>\\n<\\/symbol>\\n<symbol overflow=\\\"visible\\\" id=\\\"glyph-1562715734929579-1-1\\\">\\n<path style=\\\"stroke:none;\\\" d=\\\"M 6.5625 -2.296875 C 6.734375 -2.296875 6.921875 -2.296875 6.921875 -2.5 C 6.921875 -2.6875 6.734375 -2.6875 6.5625 -2.6875 L 1.171875 -2.6875 C 1 -2.6875 0.828125 -2.6875 0.828125 -2.5 C 0.828125 -2.296875 1 -2.296875 1.171875 -2.296875 Z M 6.5625 -2.296875 \\\"\\/>\\n<\\/symbol>\\n<symbol overflow=\\\"visible\\\" id=\\\"glyph-1562715734929579-2-0\\\">\\n<path style=\\\"stroke:none;\\\" d=\\\"\\\"\\/>\\n<\\/symbol>\\n<symbol overflow=\\\"visible\\\" id=\\\"glyph-1562715734929579-2-1\\\">\\n<path style=\\\"stroke:none;\\\" d=\\\"M 2.03125 -0.015625 C 2.03125 -0.671875 1.78125 -1.0625 1.390625 -1.0625 C 1.0625 -1.0625 0.859375 -0.8125 0.859375 -0.53125 C 0.859375 -0.265625 1.0625 0 1.390625 0 C 1.5 0 1.640625 -0.046875 1.734375 -0.125 C 1.765625 -0.15625 1.78125 -0.15625 1.78125 -0.15625 C 1.796875 -0.15625 1.796875 -0.15625 1.796875 -0.015625 C 1.796875 0.734375 1.453125 1.328125 1.125 1.65625 C 1.015625 1.765625 1.015625 1.78125 1.015625 1.8125 C 1.015625 1.890625 1.0625 1.921875 1.109375 1.921875 C 1.21875 1.921875 2.03125 1.15625 2.03125 -0.015625 Z M 2.03125 -0.015625 \\\"\\/>\\n<\\/symbol>\\n<symbol overflow=\\\"visible\\\" id=\\\"glyph-1562715734929579-3-0\\\">\\n<path style=\\\"stroke:none;\\\" d=\\\"\\\"\\/>\\n<\\/symbol>\\n<symbol overflow=\\\"visible\\\" id=\\\"glyph-1562715734929579-3-1\\\">\\n<path style=\\\"stroke:none;\\\" d=\\\"M -6.671875 -2.3125 C -6.796875 -2.21875 -6.8125 -2.21875 -6.8125 -2.03125 L -6.8125 -0.328125 L -6.5 -0.328125 L -6.5 -0.625 C -6.5 -0.765625 -6.484375 -0.96875 -6.484375 -1.109375 C -6.453125 -1.34375 -6.4375 -1.359375 -6.25 -1.359375 L -1.046875 -1.359375 C -0.78125 -1.359375 -0.3125 -1.359375 -0.3125 -0.328125 L 0 -0.328125 C -0.015625 -0.671875 -0.03125 -1.171875 -0.03125 -1.5 C -0.03125 -1.828125 -0.015625 -2.3125 0 -2.65625 L -0.3125 -2.65625 C -0.3125 -1.640625 -0.78125 -1.640625 -1.046875 -1.640625 L -6.234375 -1.640625 C -6.1875 -1.6875 -6.171875 -1.6875 -6.109375 -1.734375 L -0.125 -5.796875 C -0.015625 -5.890625 0 -5.90625 0 -5.96875 C 0 -6.109375 -0.0625 -6.109375 -0.265625 -6.109375 L -5.765625 -6.109375 C -6.03125 -6.109375 -6.5 -6.109375 -6.5 -7.140625 L -6.8125 -7.140625 C -6.796875 -6.78125 -6.78125 -6.296875 -6.78125 -5.96875 C -6.78125 -5.640625 -6.796875 -5.15625 -6.8125 -4.8125 L -6.5 -4.8125 C -6.5 -5.828125 -6.03125 -5.828125 -5.765625 -5.828125 L -1.5 -5.828125 Z M -6.671875 -2.3125 \\\"\\/>\\n<\\/symbol>\\n<symbol overflow=\\\"visible\\\" id=\\\"glyph-1562715734929579-3-2\\\">\\n<path style=\\\"stroke:none;\\\" d=\\\"M -2.140625 -4.6875 C -3.40625 -4.6875 -4.46875 -3.703125 -4.46875 -2.5 C -4.46875 -1.25 -3.375 -0.28125 -2.140625 -0.28125 C -0.84375 -0.28125 0.109375 -1.3125 0.109375 -2.484375 C 0.109375 -3.6875 -0.875 -4.6875 -2.140625 -4.6875 Z M -0.140625 -2.5 C -0.140625 -2.0625 -0.34375 -1.625 -0.8125 -1.359375 C -1.25 -1.109375 -1.859375 -1.109375 -2.21875 -1.109375 C -2.609375 -1.109375 -3.140625 -1.109375 -3.578125 -1.34375 C -4.03125 -1.609375 -4.25 -2.078125 -4.25 -2.484375 C -4.25 -2.921875 -4.03125 -3.34375 -3.59375 -3.609375 C -3.171875 -3.875 -2.59375 -3.875 -2.21875 -3.875 C -1.859375 -3.875 -1.3125 -3.875 -0.875 -3.65625 C -0.421875 -3.421875 -0.140625 -2.984375 -0.140625 -2.5 Z M -0.140625 -2.5 \\\"\\/>\\n<\\/symbol>\\n<symbol overflow=\\\"visible\\\" id=\\\"glyph-1562715734929579-3-3\\\">\\n<path style=\\\"stroke:none;\\\" d=\\\"M -3.3125 -1.671875 L -4.40625 -1.671875 L -4.296875 -0.28125 L -3.984375 -0.28125 C -3.984375 -0.984375 -3.921875 -1.0625 -3.421875 -1.0625 L -0.75 -1.0625 C -0.3125 -1.0625 -0.3125 -0.953125 -0.3125 -0.28125 L 0 -0.28125 C -0.015625 -0.671875 -0.03125 -1.140625 -0.03125 -1.421875 C -0.03125 -1.8125 -0.03125 -2.28125 0 -2.6875 L -0.3125 -2.6875 L -0.3125 -2.46875 C -0.3125 -1.734375 -0.421875 -1.71875 -0.78125 -1.71875 L -2.3125 -1.71875 C -3.296875 -1.71875 -4.1875 -2.140625 -4.1875 -2.890625 C -4.1875 -2.953125 -4.1875 -2.984375 -4.171875 -3 C -4.171875 -2.96875 -4.046875 -2.765625 -3.78125 -2.765625 C -3.515625 -2.765625 -3.359375 -2.984375 -3.359375 -3.203125 C -3.359375 -3.375 -3.484375 -3.625 -3.796875 -3.625 C -4.109375 -3.625 -4.40625 -3.3125 -4.40625 -2.890625 C -4.40625 -2.15625 -3.734375 -1.796875 -3.3125 -1.671875 Z M -3.3125 -1.671875 \\\"\\/>\\n<\\/symbol>\\n<symbol overflow=\\\"visible\\\" id=\\\"glyph-1562715734929579-3-4\\\">\\n<path style=\\\"stroke:none;\\\" d=\\\"M -3.984375 -1.71875 L -3.984375 -3.15625 L -4.296875 -3.15625 L -4.296875 -1.71875 L -6.125 -1.71875 L -6.125 -1.46875 C -5.3125 -1.46875 -4.25 -1.171875 -4.203125 -0.1875 L -3.984375 -0.1875 L -3.984375 -1.03125 L -1.234375 -1.03125 C -0.015625 -1.03125 0.109375 -1.96875 0.109375 -2.328125 C 0.109375 -3.03125 -0.59375 -3.3125 -1.234375 -3.3125 L -1.796875 -3.3125 L -1.796875 -3.0625 L -1.25 -3.0625 C -0.515625 -3.0625 -0.140625 -2.765625 -0.140625 -2.390625 C -0.140625 -1.71875 -1.046875 -1.71875 -1.21875 -1.71875 Z M -3.984375 -1.71875 \\\"\\/>\\n<\\/symbol>\\n<symbol overflow=\\\"visible\\\" id=\\\"glyph-1562715734929579-3-5\\\">\\n<path style=\\\"stroke:none;\\\" d=\\\"M -0.75 -1.09375 C -0.3125 -1.09375 -0.3125 -0.984375 -0.3125 -0.3125 L 0 -0.3125 C -0.015625 -0.671875 -0.03125 -1.171875 -0.03125 -1.453125 C -0.03125 -1.703125 -0.015625 -2.21875 0 -2.5625 L -0.3125 -2.5625 C -0.3125 -1.890625 -0.3125 -1.78125 -0.75 -1.78125 L -2.59375 -1.78125 C -3.625 -1.78125 -4.1875 -2.5 -4.1875 -3.125 C -4.1875 -3.765625 -3.65625 -3.875 -3.078125 -3.875 L -0.75 -3.875 C -0.3125 -3.875 -0.3125 -3.765625 -0.3125 -3.09375 L 0 -3.09375 C -0.015625 -3.4375 -0.03125 -3.953125 -0.03125 -4.21875 C -0.03125 -4.46875 -0.015625 -5 0 -5.328125 L -0.3125 -5.328125 C -0.3125 -4.8125 -0.3125 -4.5625 -0.609375 -4.5625 L -2.515625 -4.5625 C -3.375 -4.5625 -3.671875 -4.5625 -4.03125 -4.25 C -4.203125 -4.109375 -4.40625 -3.78125 -4.40625 -3.203125 C -4.40625 -2.359375 -3.8125 -1.921875 -3.421875 -1.75 L -6.921875 -1.75 L -6.8125 -0.3125 L -6.5 -0.3125 C -6.5 -1.015625 -6.4375 -1.09375 -5.9375 -1.09375 Z M -0.75 -1.09375 \\\"\\/>\\n<\\/symbol>\\n<symbol overflow=\\\"visible\\\" id=\\\"glyph-1562715734929579-3-6\\\">\\n<path style=\\\"stroke:none;\\\" d=\\\"M 2.390625 -3.296875 C 2.359375 -3.296875 2.34375 -3.296875 2.171875 -3.125 C 0.921875 -1.890625 -0.96875 -1.5625 -2.5 -1.5625 C -4.234375 -1.5625 -5.96875 -1.9375 -7.203125 -3.171875 C -7.328125 -3.296875 -7.34375 -3.296875 -7.375 -3.296875 C -7.453125 -3.296875 -7.484375 -3.265625 -7.484375 -3.203125 C -7.484375 -3.09375 -6.796875 -2.203125 -5.53125 -1.609375 C -4.4375 -1.109375 -3.328125 -0.984375 -2.5 -0.984375 C -1.71875 -0.984375 -0.515625 -1.09375 0.625 -1.640625 C 1.84375 -2.25 2.5 -3.09375 2.5 -3.203125 C 2.5 -3.265625 2.46875 -3.296875 2.390625 -3.296875 Z M 2.390625 -3.296875 \\\"\\/>\\n<\\/symbol>\\n<symbol overflow=\\\"visible\\\" id=\\\"glyph-1562715734929579-3-7\\\">\\n<path style=\\\"stroke:none;\\\" d=\\\"M -3.421875 -1.09375 L -0.75 -1.09375 C -0.3125 -1.09375 -0.3125 -0.984375 -0.3125 -0.3125 L 0 -0.3125 C -0.015625 -0.671875 -0.03125 -1.171875 -0.03125 -1.453125 C -0.03125 -1.703125 -0.015625 -2.21875 0 -2.5625 L -0.3125 -2.5625 C -0.3125 -1.890625 -0.3125 -1.78125 -0.75 -1.78125 L -2.59375 -1.78125 C -3.625 -1.78125 -4.1875 -2.5 -4.1875 -3.125 C -4.1875 -3.765625 -3.65625 -3.875 -3.078125 -3.875 L -0.75 -3.875 C -0.3125 -3.875 -0.3125 -3.765625 -0.3125 -3.09375 L 0 -3.09375 C -0.015625 -3.4375 -0.03125 -3.953125 -0.03125 -4.21875 C -0.03125 -4.46875 -0.015625 -5 0 -5.328125 L -0.3125 -5.328125 C -0.3125 -4.671875 -0.3125 -4.5625 -0.75 -4.5625 L -2.59375 -4.5625 C -3.625 -4.5625 -4.1875 -5.265625 -4.1875 -5.90625 C -4.1875 -6.53125 -3.65625 -6.640625 -3.078125 -6.640625 L -0.75 -6.640625 C -0.3125 -6.640625 -0.3125 -6.53125 -0.3125 -5.859375 L 0 -5.859375 C -0.015625 -6.203125 -0.03125 -6.71875 -0.03125 -6.984375 C -0.03125 -7.25 -0.015625 -7.765625 0 -8.109375 L -0.3125 -8.109375 C -0.3125 -7.59375 -0.3125 -7.34375 -0.609375 -7.328125 L -2.515625 -7.328125 C -3.375 -7.328125 -3.671875 -7.328125 -4.03125 -7.015625 C -4.203125 -6.875 -4.40625 -6.546875 -4.40625 -5.96875 C -4.40625 -5.140625 -3.8125 -4.6875 -3.421875 -4.53125 C -4.296875 -4.390625 -4.40625 -3.65625 -4.40625 -3.203125 C -4.40625 -2.46875 -3.984375 -2 -3.359375 -1.71875 L -4.40625 -1.71875 L -4.296875 -0.3125 L -3.984375 -0.3125 C -3.984375 -1.015625 -3.921875 -1.09375 -3.421875 -1.09375 Z M -3.421875 -1.09375 \\\"\\/>\\n<\\/symbol>\\n<symbol overflow=\\\"visible\\\" id=\\\"glyph-1562715734929579-3-8\\\">\\n<path style=\\\"stroke:none;\\\" d=\\\"M -2.5 -2.875 C -3.265625 -2.875 -4.46875 -2.765625 -5.609375 -2.21875 C -6.828125 -1.625 -7.484375 -0.765625 -7.484375 -0.671875 C -7.484375 -0.609375 -7.4375 -0.5625 -7.375 -0.5625 C -7.34375 -0.5625 -7.328125 -0.5625 -7.140625 -0.75 C -6.15625 -1.734375 -4.578125 -2.296875 -2.5 -2.296875 C -0.78125 -2.296875 0.96875 -1.9375 2.21875 -0.703125 C 2.34375 -0.5625 2.359375 -0.5625 2.390625 -0.5625 C 2.453125 -0.5625 2.5 -0.609375 2.5 -0.671875 C 2.5 -0.765625 1.8125 -1.671875 0.546875 -2.25 C -0.546875 -2.765625 -1.65625 -2.875 -2.5 -2.875 Z M -2.5 -2.875 \\\"\\/>\\n<\\/symbol>\\n<symbol overflow=\\\"visible\\\" id=\\\"glyph-1562715734929579-3-9\\\">\\n<path style=\\\"stroke:none;\\\" d=\\\"M -6.9375 -3.96875 C -7.0625 -3.921875 -7.140625 -3.890625 -7.140625 -3.734375 C -7.140625 -3.578125 -7.078125 -3.546875 -6.9375 -3.5 L -0.984375 -1.4375 C -0.46875 -1.25 -0.3125 -0.859375 -0.3125 -0.3125 L 0 -0.3125 C -0.015625 -0.546875 -0.03125 -0.984375 -0.03125 -1.328125 C -0.03125 -1.640625 -0.015625 -2.15625 0 -2.484375 L -0.3125 -2.484375 C -0.3125 -1.984375 -0.5625 -1.734375 -0.8125 -1.734375 C -0.84375 -1.734375 -0.953125 -1.75 -0.96875 -1.75 L -2.265625 -2.21875 L -2.265625 -4.671875 L -0.75 -5.203125 C -0.703125 -5.21875 -0.640625 -5.234375 -0.609375 -5.234375 C -0.3125 -5.234375 -0.3125 -4.671875 -0.3125 -4.40625 L 0 -4.40625 C -0.03125 -4.765625 -0.03125 -5.46875 -0.03125 -5.84375 C -0.03125 -6.265625 -0.015625 -6.734375 0 -7.140625 L -0.3125 -7.140625 L -0.3125 -6.96875 C -0.3125 -6.375 -0.375 -6.234375 -0.703125 -6.125 Z M -5.828125 -3.4375 L -2.578125 -4.5625 L -2.578125 -2.328125 Z M -5.828125 -3.4375 \\\"\\/>\\n<\\/symbol>\\n<symbol overflow=\\\"visible\\\" id=\\\"glyph-1562715734929579-3-10\\\">\\n<path style=\\\"stroke:none;\\\" d=\\\"M -6.921875 -1.765625 L -6.8125 -0.328125 L -6.5 -0.328125 C -6.5 -1.03125 -6.4375 -1.109375 -5.9375 -1.109375 L -0.75 -1.109375 C -0.3125 -1.109375 -0.3125 -1 -0.3125 -0.328125 L 0 -0.328125 C -0.015625 -0.65625 -0.03125 -1.1875 -0.03125 -1.4375 C -0.03125 -1.6875 -0.015625 -2.171875 0 -2.546875 L -0.3125 -2.546875 C -0.3125 -1.875 -0.3125 -1.765625 -0.75 -1.765625 Z M -6.921875 -1.765625 \\\"\\/>\\n<\\/symbol>\\n<symbol overflow=\\\"visible\\\" id=\\\"glyph-1562715734929579-3-11\\\">\\n<path style=\\\"stroke:none;\\\" d=\\\"M -4.40625 -1.765625 L -4.296875 -0.375 L -3.984375 -0.375 C -3.984375 -1.015625 -3.921875 -1.109375 -3.4375 -1.109375 L -0.75 -1.109375 C -0.3125 -1.109375 -0.3125 -1 -0.3125 -0.328125 L 0 -0.328125 C -0.015625 -0.640625 -0.03125 -1.1875 -0.03125 -1.421875 C -0.03125 -1.78125 -0.015625 -2.125 0 -2.46875 L -0.3125 -2.46875 C -0.3125 -1.796875 -0.359375 -1.765625 -0.75 -1.765625 Z M -6.140625 -1.796875 C -6.453125 -1.796875 -6.671875 -1.5625 -6.671875 -1.28125 C -6.671875 -0.96875 -6.40625 -0.75 -6.140625 -0.75 C -5.875 -0.75 -5.609375 -0.96875 -5.609375 -1.28125 C -5.609375 -1.5625 -5.828125 -1.796875 -6.140625 -1.796875 Z M -6.140625 -1.796875 \\\"\\/>\\n<\\/symbol>\\n<symbol overflow=\\\"visible\\\" id=\\\"glyph-1562715734929579-3-12\\\">\\n<path style=\\\"stroke:none;\\\" d=\\\"M -0.78125 -3.890625 L 0.109375 -3.890625 L 0 -5.328125 L -0.3125 -5.328125 C -0.3125 -4.640625 -0.375 -4.5625 -0.875 -4.5625 L -4.40625 -4.5625 L -4.296875 -3.09375 L -3.984375 -3.09375 C -3.984375 -3.78125 -3.921875 -3.875 -3.421875 -3.875 L -1.65625 -3.875 C -0.78125 -3.875 -0.109375 -3.390625 -0.109375 -2.65625 C -0.109375 -1.828125 -0.578125 -1.78125 -1.09375 -1.78125 L -4.40625 -1.78125 L -4.296875 -0.3125 L -3.984375 -0.3125 C -3.984375 -1.09375 -3.953125 -1.09375 -3.078125 -1.09375 L -1.578125 -1.09375 C -0.796875 -1.09375 0.109375 -1.09375 0.109375 -2.609375 C 0.109375 -3.171875 -0.171875 -3.609375 -0.78125 -3.890625 Z M -0.78125 -3.890625 \\\"\\/>\\n<\\/symbol>\\n<symbol overflow=\\\"visible\\\" id=\\\"glyph-1562715734929579-3-13\\\">\\n<path style=\\\"stroke:none;\\\" d=\\\"M -0.546875 -3.78125 L 0.109375 -3.78125 L 0 -5.25 L -0.3125 -5.25 C -0.3125 -4.5625 -0.375 -4.46875 -0.875 -4.46875 L -6.921875 -4.46875 L -6.8125 -3.046875 L -6.5 -3.046875 C -6.5 -3.734375 -6.4375 -3.8125 -5.9375 -3.8125 L -3.78125 -3.8125 C -4.140625 -3.53125 -4.40625 -3.09375 -4.40625 -2.5625 C -4.40625 -1.390625 -3.421875 -0.34375 -2.140625 -0.34375 C -0.875 -0.34375 0.109375 -1.3125 0.109375 -2.453125 C 0.109375 -3.09375 -0.234375 -3.53125 -0.546875 -3.78125 Z M -3.21875 -3.78125 L -1.171875 -3.78125 C -1 -3.78125 -0.984375 -3.78125 -0.8125 -3.671875 C -0.328125 -3.375 -0.109375 -2.9375 -0.109375 -2.5 C -0.109375 -2.046875 -0.375 -1.6875 -0.75 -1.453125 C -1.15625 -1.203125 -1.71875 -1.171875 -2.140625 -1.171875 C -2.5 -1.171875 -3.09375 -1.1875 -3.546875 -1.46875 C -3.859375 -1.6875 -4.1875 -2.0625 -4.1875 -2.609375 C -4.1875 -2.953125 -4.03125 -3.375 -3.59375 -3.671875 C -3.421875 -3.78125 -3.40625 -3.78125 -3.21875 -3.78125 Z M -3.21875 -3.78125 \\\"\\/>\\n<\\/symbol>\\n<symbol overflow=\\\"visible\\\" id=\\\"glyph-1562715734929579-3-14\\\">\\n<path style=\\\"stroke:none;\\\" d=\\\"M -2.515625 -1.109375 C -4 -1.171875 -4.25 -2.015625 -4.25 -2.359375 C -4.25 -3.375 -2.90625 -3.484375 -2.515625 -3.484375 Z M -2.296875 -1.109375 L -2.296875 -3.890625 C -2.296875 -4.109375 -2.296875 -4.140625 -2.515625 -4.140625 C -3.5 -4.140625 -4.46875 -3.59375 -4.46875 -2.359375 C -4.46875 -1.203125 -3.4375 -0.28125 -2.1875 -0.28125 C -0.859375 -0.28125 0.109375 -1.328125 0.109375 -2.46875 C 0.109375 -3.6875 -1 -4.140625 -1.1875 -4.140625 C -1.28125 -4.140625 -1.3125 -4.0625 -1.3125 -4 C -1.3125 -3.921875 -1.25 -3.890625 -1.171875 -3.875 C -0.140625 -3.53125 -0.140625 -2.625 -0.140625 -2.53125 C -0.140625 -2.03125 -0.4375 -1.640625 -0.8125 -1.40625 C -1.28125 -1.109375 -1.9375 -1.109375 -2.296875 -1.109375 Z M -2.296875 -1.109375 \\\"\\/>\\n<\\/symbol>\\n<symbol overflow=\\\"visible\\\" id=\\\"glyph-1562715734929579-3-15\\\">\\n<path style=\\\"stroke:none;\\\" d=\\\"M -4.296875 -1.75 L -5.453125 -1.75 C -6.328125 -1.75 -6.8125 -2.21875 -6.8125 -2.65625 C -6.8125 -2.6875 -6.8125 -2.84375 -6.734375 -2.984375 C -6.703125 -2.875 -6.5625 -2.6875 -6.3125 -2.6875 C -6.09375 -2.6875 -5.890625 -2.84375 -5.890625 -3.125 C -5.890625 -3.40625 -6.09375 -3.5625 -6.328125 -3.5625 C -6.703125 -3.5625 -7.03125 -3.1875 -7.03125 -2.65625 C -7.03125 -1.96875 -6.5 -1.109375 -5.4375 -1.109375 L -4.296875 -1.109375 L -4.296875 -0.328125 L -3.984375 -0.328125 L -3.984375 -1.109375 L -0.75 -1.109375 C -0.3125 -1.109375 -0.3125 -1 -0.3125 -0.34375 L 0 -0.34375 C -0.015625 -0.734375 -0.03125 -1.203125 -0.03125 -1.46875 C -0.03125 -1.875 -0.03125 -2.34375 0 -2.734375 L -0.3125 -2.734375 L -0.3125 -2.53125 C -0.3125 -1.796875 -0.421875 -1.78125 -0.78125 -1.78125 L -3.984375 -1.78125 L -3.984375 -2.90625 L -4.296875 -2.90625 Z M -4.296875 -1.75 \\\"\\/>\\n<\\/symbol>\\n<\\/g>\\n<clipPath id=\\\"clip-1562715734929579-1\\\">\\n  <path d=\\\"M 54.085938 0 L 292.71875 0 L 292.71875 11.855469 L 54.085938 11.855469 Z M 54.085938 0 \\\"\\/>\\n<\\/clipPath>\\n<image style=\\\"image-rendering: pixelated;\\\" id=\\\"image-1562715734929579-5\\\" width=\\\"100\\\" height=\\\"100\\\" xlink:href=\\\"data:image\\/png;base64,iVBORw0KGgoAAAANSUhEUgAAAGQAAABkCAIAAAD\\/gAIDAAAABmJLR0QA\\/wD\\/AP+gvaeTAAAA6ElEQVR4nO3QwQ3AIBDAsNL9dz5WIC+EZE8QZc3Mx5n\\/dsBLzArMCswKzArMCswKzArMCswKzArMCswKzArMCswKzArMCswKzArMCswKzArMCswKzArMCswKzArMCswKzArMCswKzArMCswKzArMCswKzArMCswKzArMCswKzArMCswKzArMCswKzArMCswKzArMCswKzArMCswKzArMCswKzArMCswKzArMCswKzArMCswKzArMCswKzArMCswKzArMCswKzArMCswKzArMCswKzArMCswKzArMCswKzArMCswKzArMCjbP8QPFyqa8aAAAAABJRU5ErkJggg==\\\"\\/>\\n<clipPath id=\\\"clip-1562715734929579-2\\\">\\n  <path d=\\\"M 170 4 L 200 4 L 200 11.855469 L 170 11.855469 Z M 170 4 \\\"\\/>\\n<\\/clipPath>\\n<clipPath id=\\\"clip-1562715734929579-3\\\">\\n  <path d=\\\"M 205 4 L 225 4 L 225 11.855469 L 205 11.855469 Z M 205 4 \\\"\\/>\\n<\\/clipPath>\\n<clipPath id=\\\"clip-1562715734929579-4\\\">\\n  <path d=\\\"M 349.410156 0 L 588 0 L 588 11.855469 L 349.410156 11.855469 Z M 349.410156 0 \\\"\\/>\\n<\\/clipPath>\\n<image style=\\\"image-rendering: pixelated;\\\" id=\\\"image-1562715734929579-8\\\" width=\\\"100\\\" height=\\\"100\\\" xlink:href=\\\"data:image\\/png;base64,iVBORw0KGgoAAAANSUhEUgAAAGQAAABkCAIAAAD\\/gAIDAAAABmJLR0QA\\/wD\\/AP+gvaeTAAAA6ElEQVR4nO3QwQ3AIBDAsNL9dz5WIC+EZE8QZc3Mx5n\\/dsBLzArMCswKzArMCswKzArMCswKzArMCswKzArMCswKzArMCswKzArMCswKzArMCswKzArMCswKzArMCswKzArMCswKzArMCswKzArMCswKzArMCswKzArMCswKzArMCswKzArMCswKzArMCswKzArMCswKzArMCswKzArMCswKzArMCswKzArMCswKzArMCswKzArMCswKzArMCswKzArMCswKzArMCswKzArMCswKzArMCswKzArMCswKzArMCswKzArMCjbP8QPFyqa8aAAAAABJRU5ErkJggg==\\\"\\/>\\n<clipPath id=\\\"clip-1562715734929579-5\\\">\\n  <path d=\\\"M 421 4 L 429 4 L 429 11.855469 L 421 11.855469 Z M 421 4 \\\"\\/>\\n<\\/clipPath>\\n<clipPath id=\\\"clip-1562715734929579-6\\\">\\n  <path d=\\\"M 459 4 L 488 4 L 488 11.855469 L 459 11.855469 Z M 459 4 \\\"\\/>\\n<\\/clipPath>\\n<clipPath id=\\\"clip-1562715734929579-7\\\">\\n  <path d=\\\"M 493 4 L 516 4 L 516 11.855469 L 493 11.855469 Z M 493 4 \\\"\\/>\\n<\\/clipPath>\\n<clipPath id=\\\"clip-1562715734929579-8\\\">\\n  <path d=\\\"M 645 0 L 769.980469 0 L 769.980469 11.855469 L 645 11.855469 Z M 645 0 \\\"\\/>\\n<\\/clipPath>\\n<image style=\\\"image-rendering: pixelated;\\\" id=\\\"image-1562715734929579-11\\\" width=\\\"100\\\" height=\\\"100\\\" xlink:href=\\\"data:image\\/png;base64,iVBORw0KGgoAAAANSUhEUgAAAGQAAABkCAIAAAD\\/gAIDAAAABmJLR0QA\\/wD\\/AP+gvaeTAAAA6ElEQVR4nO3QwQ3AIBDAsNL9dz5WIC+EZE8QZc3Mx5n\\/dsBLzArMCswKzArMCswKzArMCswKzArMCswKzArMCswKzArMCswKzArMCswKzArMCswKzArMCswKzArMCswKzArMCswKzArMCswKzArMCswKzArMCswKzArMCswKzArMCswKzArMCswKzArMCswKzArMCswKzArMCswKzArMCswKzArMCswKzArMCswKzArMCswKzArMCswKzArMCswKzArMCswKzArMCswKzArMCswKzArMCswKzArMCswKzArMCswKzArMCjbP8QPFyqa8aAAAAABJRU5ErkJggg==\\\"\\/>\\n<clipPath id=\\\"clip-1562715734929579-9\\\">\\n  <path d=\\\"M 645 69 L 769.980469 69 L 769.980469 250 L 645 250 Z M 645 69 \\\"\\/>\\n<\\/clipPath>\\n<image style=\\\"image-rendering: pixelated;\\\" id=\\\"image-1562715734929579-14\\\" width=\\\"100\\\" height=\\\"100\\\" xlink:href=\\\"data:image\\/png;base64,iVBORw0KGgoAAAANSUhEUgAAAGQAAABkCAIAAAD\\/gAIDAAAABmJLR0QA\\/wD\\/AP+gvaeTAAAA6ElEQVR4nO3QwQ3AIBDAsNL9dz5WIC+EZE8QZc3Mx5n\\/dsBLzArMCswKzArMCswKzArMCswKzArMCswKzArMCswKzArMCswKzArMCswKzArMCswKzArMCswKzArMCswKzArMCswKzArMCswKzArMCswKzArMCswKzArMCswKzArMCswKzArMCswKzArMCswKzArMCswKzArMCswKzArMCswKzArMCswKzArMCswKzArMCswKzArMCswKzArMCswKzArMCswKzArMCswKzArMCswKzArMCswKzArMCswKzArMCswKzArMCjbP8QPFyqa8aAAAAABJRU5ErkJggg==\\\"\\/>\\n<\\/defs>\\n<g id=\\\"surface1\\\">\\n<g clip-path=\\\"url(#clip-1562715734929579-1)\\\" clip-rule=\\\"nonzero\\\">\\n<use xlink:href=\\\"#image-1562715734929579-5\\\" transform=\\\"matrix(2.38667,0,0,0.11856,54.086,-0.000000000000064024)\\\"\\/>\\n<\\/g>\\n<g style=\\\"fill:rgb(0%,0%,0%);fill-opacity:1;\\\">\\n  <use xlink:href=\\\"#glyph-1562715734929579-0-1\\\" x=\\\"121.845\\\" y=\\\"10.849\\\"\\/>\\n  <use xlink:href=\\\"#glyph-1562715734929579-0-2\\\" x=\\\"129.31698\\\" y=\\\"10.849\\\"\\/>\\n  <use xlink:href=\\\"#glyph-1562715734929579-0-3\\\" x=\\\"134.2983\\\" y=\\\"10.849\\\"\\/>\\n  <use xlink:href=\\\"#glyph-1562715734929579-0-4\\\" x=\\\"138.200666\\\" y=\\\"10.849\\\"\\/>\\n  <use xlink:href=\\\"#glyph-1562715734929579-0-5\\\" x=\\\"140.968287\\\" y=\\\"10.849\\\"\\/>\\n  <use xlink:href=\\\"#glyph-1562715734929579-0-2\\\" x=\\\"145.395685\\\" y=\\\"10.849\\\"\\/>\\n  <use xlink:href=\\\"#glyph-1562715734929579-0-6\\\" x=\\\"150.377005\\\" y=\\\"10.849\\\"\\/>\\n<\\/g>\\n<g style=\\\"fill:rgb(0%,0%,0%);fill-opacity:1;\\\">\\n  <use xlink:href=\\\"#glyph-1562715734929579-0-7\\\" x=\\\"155.643256\\\" y=\\\"10.849\\\"\\/>\\n  <use xlink:href=\\\"#glyph-1562715734929579-0-8\\\" x=\\\"159.517727\\\" y=\\\"10.849\\\"\\/>\\n  <use xlink:href=\\\"#glyph-1562715734929579-0-9\\\" x=\\\"164.499047\\\" y=\\\"10.849\\\"\\/>\\n<\\/g>\\n<g clip-path=\\\"url(#clip-1562715734929579-2)\\\" clip-rule=\\\"nonzero\\\">\\n<g style=\\\"fill:rgb(0%,0%,0%);fill-opacity:1;\\\">\\n  <use xlink:href=\\\"#glyph-1562715734929579-0-10\\\" x=\\\"170.574265\\\" y=\\\"10.849\\\"\\/>\\n  <use xlink:href=\\\"#glyph-1562715734929579-0-8\\\" x=\\\"177.907764\\\" y=\\\"10.849\\\"\\/>\\n  <use xlink:href=\\\"#glyph-1562715734929579-0-6\\\" x=\\\"182.889084\\\" y=\\\"10.849\\\"\\/>\\n  <use xlink:href=\\\"#glyph-1562715734929579-0-11\\\" x=\\\"188.424327\\\" y=\\\"10.849\\\"\\/>\\n  <use xlink:href=\\\"#glyph-1562715734929579-0-12\\\" x=\\\"193.405647\\\" y=\\\"10.849\\\"\\/>\\n  <use xlink:href=\\\"#glyph-1562715734929579-0-13\\\" x=\\\"197.833044\\\" y=\\\"10.849\\\"\\/>\\n<\\/g>\\n<\\/g>\\n<g clip-path=\\\"url(#clip-1562715734929579-3)\\\" clip-rule=\\\"nonzero\\\">\\n<g style=\\\"fill:rgb(0%,0%,0%);fill-opacity:1;\\\">\\n  <use xlink:href=\\\"#glyph-1562715734929579-0-14\\\" x=\\\"205.024078\\\" y=\\\"10.849\\\"\\/>\\n  <use xlink:href=\\\"#glyph-1562715734929579-0-15\\\" x=\\\"210.005398\\\" y=\\\"10.849\\\"\\/>\\n  <use xlink:href=\\\"#glyph-1562715734929579-0-16\\\" x=\\\"214.986718\\\" y=\\\"10.849\\\"\\/>\\n  <use xlink:href=\\\"#glyph-1562715734929579-0-14\\\" x=\\\"219.968038\\\" y=\\\"10.849\\\"\\/>\\n<\\/g>\\n<\\/g>\\n<g clip-path=\\\"url(#clip-1562715734929579-4)\\\" clip-rule=\\\"nonzero\\\">\\n<use xlink:href=\\\"#image-1562715734929579-8\\\" transform=\\\"matrix(2.38667,0,0,0.11856,349.41,-0.000000000000064024)\\\"\\/>\\n<\\/g>\\n<g clip-path=\\\"url(#clip-1562715734929579-5)\\\" clip-rule=\\\"nonzero\\\">\\n<g style=\\\"fill:rgb(0%,0%,0%);fill-opacity:1;\\\">\\n  <use xlink:href=\\\"#glyph-1562715734929579-0-17\\\" x=\\\"421.597\\\" y=\\\"10.849\\\"\\/>\\n<\\/g>\\n<\\/g>\\n<g style=\\\"fill:rgb(0%,0%,0%);fill-opacity:1;\\\">\\n  <use xlink:href=\\\"#glyph-1562715734929579-0-12\\\" x=\\\"428.242081\\\" y=\\\"10.849\\\"\\/>\\n  <use xlink:href=\\\"#glyph-1562715734929579-0-3\\\" x=\\\"432.669478\\\" y=\\\"10.849\\\"\\/>\\n  <use xlink:href=\\\"#glyph-1562715734929579-0-7\\\" x=\\\"436.571844\\\" y=\\\"10.849\\\"\\/>\\n  <use xlink:href=\\\"#glyph-1562715734929579-0-4\\\" x=\\\"440.446315\\\" y=\\\"10.849\\\"\\/>\\n  <use xlink:href=\\\"#glyph-1562715734929579-0-18\\\" x=\\\"443.213936\\\" y=\\\"10.849\\\"\\/>\\n  <use xlink:href=\\\"#glyph-1562715734929579-0-8\\\" x=\\\"447.641333\\\" y=\\\"10.849\\\"\\/>\\n  <use xlink:href=\\\"#glyph-1562715734929579-0-9\\\" x=\\\"452.622653\\\" y=\\\"10.849\\\"\\/>\\n<\\/g>\\n<g clip-path=\\\"url(#clip-1562715734929579-6)\\\" clip-rule=\\\"nonzero\\\">\\n<g style=\\\"fill:rgb(0%,0%,0%);fill-opacity:1;\\\">\\n  <use xlink:href=\\\"#glyph-1562715734929579-0-10\\\" x=\\\"458.707834\\\" y=\\\"10.849\\\"\\/>\\n  <use xlink:href=\\\"#glyph-1562715734929579-0-8\\\" x=\\\"466.041333\\\" y=\\\"10.849\\\"\\/>\\n  <use xlink:href=\\\"#glyph-1562715734929579-0-6\\\" x=\\\"471.022653\\\" y=\\\"10.849\\\"\\/>\\n  <use xlink:href=\\\"#glyph-1562715734929579-0-11\\\" x=\\\"476.557896\\\" y=\\\"10.849\\\"\\/>\\n  <use xlink:href=\\\"#glyph-1562715734929579-0-12\\\" x=\\\"481.539216\\\" y=\\\"10.849\\\"\\/>\\n  <use xlink:href=\\\"#glyph-1562715734929579-0-13\\\" x=\\\"485.966613\\\" y=\\\"10.849\\\"\\/>\\n<\\/g>\\n<\\/g>\\n<g clip-path=\\\"url(#clip-1562715734929579-7)\\\" clip-rule=\\\"nonzero\\\">\\n<g style=\\\"fill:rgb(0%,0%,0%);fill-opacity:1;\\\">\\n  <use xlink:href=\\\"#glyph-1562715734929579-0-14\\\" x=\\\"493.157647\\\" y=\\\"10.849\\\"\\/>\\n  <use xlink:href=\\\"#glyph-1562715734929579-0-19\\\" x=\\\"498.138967\\\" y=\\\"10.849\\\"\\/>\\n  <use xlink:href=\\\"#glyph-1562715734929579-0-20\\\" x=\\\"503.120287\\\" y=\\\"10.849\\\"\\/>\\n  <use xlink:href=\\\"#glyph-1562715734929579-0-21\\\" x=\\\"505.887908\\\" y=\\\"10.849\\\"\\/>\\n  <use xlink:href=\\\"#glyph-1562715734929579-0-16\\\" x=\\\"510.869228\\\" y=\\\"10.849\\\"\\/>\\n<\\/g>\\n<\\/g>\\n<g clip-path=\\\"url(#clip-1562715734929579-8)\\\" clip-rule=\\\"nonzero\\\">\\n<use xlink:href=\\\"#image-1562715734929579-11\\\" transform=\\\"matrix(1.25253,0,0,0.11856,644.735,-0.000000000000064024)\\\"\\/>\\n<\\/g>\\n<path style=\\\"fill:none;stroke-width:0.19925;stroke-linecap:butt;stroke-linejoin:miter;stroke:rgb(50%,50%,50%);stroke-opacity:1;stroke-miterlimit:10;\\\" d=\\\"M -18.960281 -75.182281 L -18.960281 -70.932281 M 12.531906 -75.182281 L 12.531906 -70.932281 M 44.024094 -75.182281 L 44.024094 -70.932281 M 75.516281 -75.182281 L 75.516281 -70.932281 M 107.008469 -75.182281 L 107.008469 -70.932281 M 138.500656 -75.182281 L 138.500656 -70.932281 M 169.992844 -75.182281 L 169.992844 -70.932281 M 201.485031 -75.182281 L 201.485031 -70.932281 M -18.960281 106.759125 L -18.960281 102.509125 M 12.531906 106.759125 L 12.531906 102.509125 M 44.024094 106.759125 L 44.024094 102.509125 M 75.516281 106.759125 L 75.516281 102.509125 M 107.008469 106.759125 L 107.008469 102.509125 M 138.500656 106.759125 L 138.500656 102.509125 M 169.992844 106.759125 L 169.992844 102.509125 M 201.485031 106.759125 L 201.485031 102.509125 \\\" transform=\\\"matrix(1,0,0,-1,73.972,175.306)\\\"\\/>\\n<path style=\\\"fill:none;stroke-width:0.19925;stroke-linecap:butt;stroke-linejoin:miter;stroke:rgb(50%,50%,50%);stroke-opacity:1;stroke-miterlimit:10;\\\" d=\\\"M -19.886062 -56.397125 L -15.636062 -56.397125 M -19.886062 -24.904938 L -15.636062 -24.904938 M -19.886062 6.58725 L -15.636062 6.58725 M -19.886062 38.079437 L -15.636062 38.079437 M -19.886062 69.571625 L -15.636062 69.571625 M -19.886062 101.063812 L -15.636062 101.063812 M 218.750656 -56.397125 L 214.49675 -56.397125 M 218.750656 -24.904938 L 214.49675 -24.904938 M 218.750656 6.58725 L 214.49675 6.58725 M 218.750656 38.079437 L 214.49675 38.079437 M 218.750656 69.571625 L 214.49675 69.571625 M 218.750656 101.063812 L 214.49675 101.063812 \\\" transform=\\\"matrix(1,0,0,-1,73.972,175.306)\\\"\\/>\\n<path style=\\\"fill:none;stroke-width:0.3985;stroke-linecap:butt;stroke-linejoin:miter;stroke:rgb(0%,0%,0%);stroke-opacity:1;stroke-miterlimit:10;\\\" d=\\\"M -19.886062 -75.182281 L -19.886062 106.759125 L 218.750656 106.759125 L 218.750656 -75.182281 Z M -19.886062 -75.182281 \\\" transform=\\\"matrix(1,0,0,-1,73.972,175.306)\\\"\\/>\\n<g style=\\\"fill:rgb(0%,0%,0%);fill-opacity:1;\\\">\\n  <use xlink:href=\\\"#glyph-1562715734929579-1-1\\\" x=\\\"39.79\\\" y=\\\"260.427\\\"\\/>\\n<\\/g>\\n<g style=\\\"fill:rgb(0%,0%,0%);fill-opacity:1;\\\">\\n  <use xlink:href=\\\"#glyph-1562715734929579-0-16\\\" x=\\\"47.539\\\" y=\\\"260.427\\\"\\/>\\n<\\/g>\\n<g style=\\\"fill:rgb(0%,0%,0%);fill-opacity:1;\\\">\\n  <use xlink:href=\\\"#glyph-1562715734929579-2-1\\\" x=\\\"52.52\\\" y=\\\"260.427\\\"\\/>\\n<\\/g>\\n<g style=\\\"fill:rgb(0%,0%,0%);fill-opacity:1;\\\">\\n  <use xlink:href=\\\"#glyph-1562715734929579-0-21\\\" x=\\\"55.288\\\" y=\\\"260.427\\\"\\/>\\n  <use xlink:href=\\\"#glyph-1562715734929579-0-22\\\" x=\\\"60.26932\\\" y=\\\"260.427\\\"\\/>\\n  <use xlink:href=\\\"#glyph-1562715734929579-0-22\\\" x=\\\"65.25064\\\" y=\\\"260.427\\\"\\/>\\n<\\/g>\\n<g style=\\\"fill:rgb(0%,0%,0%);fill-opacity:1;\\\">\\n  <use xlink:href=\\\"#glyph-1562715734929579-1-1\\\" x=\\\"71.282\\\" y=\\\"260.427\\\"\\/>\\n<\\/g>\\n<g style=\\\"fill:rgb(0%,0%,0%);fill-opacity:1;\\\">\\n  <use xlink:href=\\\"#glyph-1562715734929579-0-16\\\" x=\\\"79.031\\\" y=\\\"260.427\\\"\\/>\\n<\\/g>\\n<g style=\\\"fill:rgb(0%,0%,0%);fill-opacity:1;\\\">\\n  <use xlink:href=\\\"#glyph-1562715734929579-2-1\\\" x=\\\"84.012\\\" y=\\\"260.427\\\"\\/>\\n<\\/g>\\n<g style=\\\"fill:rgb(0%,0%,0%);fill-opacity:1;\\\">\\n  <use xlink:href=\\\"#glyph-1562715734929579-0-22\\\" x=\\\"86.78\\\" y=\\\"260.427\\\"\\/>\\n  <use xlink:href=\\\"#glyph-1562715734929579-0-22\\\" x=\\\"91.76132\\\" y=\\\"260.427\\\"\\/>\\n  <use xlink:href=\\\"#glyph-1562715734929579-0-22\\\" x=\\\"96.74264\\\" y=\\\"260.427\\\"\\/>\\n<\\/g>\\n<g style=\\\"fill:rgb(0%,0%,0%);fill-opacity:1;\\\">\\n  <use xlink:href=\\\"#glyph-1562715734929579-1-1\\\" x=\\\"106.649\\\" y=\\\"260.427\\\"\\/>\\n<\\/g>\\n<g style=\\\"fill:rgb(0%,0%,0%);fill-opacity:1;\\\">\\n  <use xlink:href=\\\"#glyph-1562715734929579-0-21\\\" x=\\\"114.397\\\" y=\\\"260.427\\\"\\/>\\n  <use xlink:href=\\\"#glyph-1562715734929579-0-22\\\" x=\\\"119.37832\\\" y=\\\"260.427\\\"\\/>\\n  <use xlink:href=\\\"#glyph-1562715734929579-0-22\\\" x=\\\"124.35964\\\" y=\\\"260.427\\\"\\/>\\n<\\/g>\\n<g style=\\\"fill:rgb(0%,0%,0%);fill-opacity:1;\\\">\\n  <use xlink:href=\\\"#glyph-1562715734929579-0-22\\\" x=\\\"146.996\\\" y=\\\"260.427\\\"\\/>\\n<\\/g>\\n<g style=\\\"fill:rgb(0%,0%,0%);fill-opacity:1;\\\">\\n  <use xlink:href=\\\"#glyph-1562715734929579-0-21\\\" x=\\\"173.507\\\" y=\\\"260.427\\\"\\/>\\n  <use xlink:href=\\\"#glyph-1562715734929579-0-22\\\" x=\\\"178.48832\\\" y=\\\"260.427\\\"\\/>\\n  <use xlink:href=\\\"#glyph-1562715734929579-0-22\\\" x=\\\"183.46964\\\" y=\\\"260.427\\\"\\/>\\n<\\/g>\\n<g style=\\\"fill:rgb(0%,0%,0%);fill-opacity:1;\\\">\\n  <use xlink:href=\\\"#glyph-1562715734929579-0-16\\\" x=\\\"201.125\\\" y=\\\"260.427\\\"\\/>\\n<\\/g>\\n<g style=\\\"fill:rgb(0%,0%,0%);fill-opacity:1;\\\">\\n  <use xlink:href=\\\"#glyph-1562715734929579-2-1\\\" x=\\\"206.106\\\" y=\\\"260.427\\\"\\/>\\n<\\/g>\\n<g style=\\\"fill:rgb(0%,0%,0%);fill-opacity:1;\\\">\\n  <use xlink:href=\\\"#glyph-1562715734929579-0-22\\\" x=\\\"208.873\\\" y=\\\"260.427\\\"\\/>\\n  <use xlink:href=\\\"#glyph-1562715734929579-0-22\\\" x=\\\"213.85432\\\" y=\\\"260.427\\\"\\/>\\n  <use xlink:href=\\\"#glyph-1562715734929579-0-22\\\" x=\\\"218.83564\\\" y=\\\"260.427\\\"\\/>\\n<\\/g>\\n<g style=\\\"fill:rgb(0%,0%,0%);fill-opacity:1;\\\">\\n  <use xlink:href=\\\"#glyph-1562715734929579-0-16\\\" x=\\\"232.617\\\" y=\\\"260.427\\\"\\/>\\n<\\/g>\\n<g style=\\\"fill:rgb(0%,0%,0%);fill-opacity:1;\\\">\\n  <use xlink:href=\\\"#glyph-1562715734929579-2-1\\\" x=\\\"237.598\\\" y=\\\"260.427\\\"\\/>\\n<\\/g>\\n<g style=\\\"fill:rgb(0%,0%,0%);fill-opacity:1;\\\">\\n  <use xlink:href=\\\"#glyph-1562715734929579-0-21\\\" x=\\\"240.365\\\" y=\\\"260.427\\\"\\/>\\n  <use xlink:href=\\\"#glyph-1562715734929579-0-22\\\" x=\\\"245.34632\\\" y=\\\"260.427\\\"\\/>\\n  <use xlink:href=\\\"#glyph-1562715734929579-0-22\\\" x=\\\"250.32764\\\" y=\\\"260.427\\\"\\/>\\n<\\/g>\\n<g style=\\\"fill:rgb(0%,0%,0%);fill-opacity:1;\\\">\\n  <use xlink:href=\\\"#glyph-1562715734929579-0-23\\\" x=\\\"264.109\\\" y=\\\"260.427\\\"\\/>\\n<\\/g>\\n<g style=\\\"fill:rgb(0%,0%,0%);fill-opacity:1;\\\">\\n  <use xlink:href=\\\"#glyph-1562715734929579-2-1\\\" x=\\\"269.09\\\" y=\\\"260.427\\\"\\/>\\n<\\/g>\\n<g style=\\\"fill:rgb(0%,0%,0%);fill-opacity:1;\\\">\\n  <use xlink:href=\\\"#glyph-1562715734929579-0-22\\\" x=\\\"271.857\\\" y=\\\"260.427\\\"\\/>\\n  <use xlink:href=\\\"#glyph-1562715734929579-0-22\\\" x=\\\"276.83832\\\" y=\\\"260.427\\\"\\/>\\n  <use xlink:href=\\\"#glyph-1562715734929579-0-22\\\" x=\\\"281.81964\\\" y=\\\"260.427\\\"\\/>\\n<\\/g>\\n<g style=\\\"fill:rgb(0%,0%,0%);fill-opacity:1;\\\">\\n  <use xlink:href=\\\"#glyph-1562715734929579-1-1\\\" x=\\\"20.123\\\" y=\\\"233.943\\\"\\/>\\n<\\/g>\\n<g style=\\\"fill:rgb(0%,0%,0%);fill-opacity:1;\\\">\\n  <use xlink:href=\\\"#glyph-1562715734929579-0-16\\\" x=\\\"27.872\\\" y=\\\"233.943\\\"\\/>\\n<\\/g>\\n<g style=\\\"fill:rgb(0%,0%,0%);fill-opacity:1;\\\">\\n  <use xlink:href=\\\"#glyph-1562715734929579-2-1\\\" x=\\\"32.854\\\" y=\\\"233.943\\\"\\/>\\n<\\/g>\\n<g style=\\\"fill:rgb(0%,0%,0%);fill-opacity:1;\\\">\\n  <use xlink:href=\\\"#glyph-1562715734929579-0-22\\\" x=\\\"35.621\\\" y=\\\"233.943\\\"\\/>\\n  <use xlink:href=\\\"#glyph-1562715734929579-0-22\\\" x=\\\"40.60232\\\" y=\\\"233.943\\\"\\/>\\n  <use xlink:href=\\\"#glyph-1562715734929579-0-22\\\" x=\\\"45.58364\\\" y=\\\"233.943\\\"\\/>\\n<\\/g>\\n<g style=\\\"fill:rgb(0%,0%,0%);fill-opacity:1;\\\">\\n  <use xlink:href=\\\"#glyph-1562715734929579-1-1\\\" x=\\\"27.872\\\" y=\\\"203.004\\\"\\/>\\n<\\/g>\\n<g style=\\\"fill:rgb(0%,0%,0%);fill-opacity:1;\\\">\\n  <use xlink:href=\\\"#glyph-1562715734929579-0-21\\\" x=\\\"35.621\\\" y=\\\"203.004\\\"\\/>\\n  <use xlink:href=\\\"#glyph-1562715734929579-0-22\\\" x=\\\"40.60232\\\" y=\\\"203.004\\\"\\/>\\n  <use xlink:href=\\\"#glyph-1562715734929579-0-22\\\" x=\\\"45.58364\\\" y=\\\"203.004\\\"\\/>\\n<\\/g>\\n<g style=\\\"fill:rgb(0%,0%,0%);fill-opacity:1;\\\">\\n  <use xlink:href=\\\"#glyph-1562715734929579-0-22\\\" x=\\\"45.584\\\" y=\\\"171.928\\\"\\/>\\n<\\/g>\\n<g style=\\\"fill:rgb(0%,0%,0%);fill-opacity:1;\\\">\\n  <use xlink:href=\\\"#glyph-1562715734929579-0-21\\\" x=\\\"35.621\\\" y=\\\"140.436\\\"\\/>\\n  <use xlink:href=\\\"#glyph-1562715734929579-0-22\\\" x=\\\"40.60232\\\" y=\\\"140.436\\\"\\/>\\n  <use xlink:href=\\\"#glyph-1562715734929579-0-22\\\" x=\\\"45.58364\\\" y=\\\"140.436\\\"\\/>\\n<\\/g>\\n<g style=\\\"fill:rgb(0%,0%,0%);fill-opacity:1;\\\">\\n  <use xlink:href=\\\"#glyph-1562715734929579-0-16\\\" x=\\\"27.872\\\" y=\\\"107.975\\\"\\/>\\n<\\/g>\\n<g style=\\\"fill:rgb(0%,0%,0%);fill-opacity:1;\\\">\\n  <use xlink:href=\\\"#glyph-1562715734929579-2-1\\\" x=\\\"32.854\\\" y=\\\"107.975\\\"\\/>\\n<\\/g>\\n<g style=\\\"fill:rgb(0%,0%,0%);fill-opacity:1;\\\">\\n  <use xlink:href=\\\"#glyph-1562715734929579-0-22\\\" x=\\\"35.621\\\" y=\\\"107.975\\\"\\/>\\n  <use xlink:href=\\\"#glyph-1562715734929579-0-22\\\" x=\\\"40.60232\\\" y=\\\"107.975\\\"\\/>\\n  <use xlink:href=\\\"#glyph-1562715734929579-0-22\\\" x=\\\"45.58364\\\" y=\\\"107.975\\\"\\/>\\n<\\/g>\\n<g style=\\\"fill:rgb(0%,0%,0%);fill-opacity:1;\\\">\\n  <use xlink:href=\\\"#glyph-1562715734929579-0-16\\\" x=\\\"27.872\\\" y=\\\"76.483\\\"\\/>\\n<\\/g>\\n<g style=\\\"fill:rgb(0%,0%,0%);fill-opacity:1;\\\">\\n  <use xlink:href=\\\"#glyph-1562715734929579-2-1\\\" x=\\\"32.854\\\" y=\\\"76.483\\\"\\/>\\n<\\/g>\\n<g style=\\\"fill:rgb(0%,0%,0%);fill-opacity:1;\\\">\\n  <use xlink:href=\\\"#glyph-1562715734929579-0-21\\\" x=\\\"35.621\\\" y=\\\"76.483\\\"\\/>\\n  <use xlink:href=\\\"#glyph-1562715734929579-0-22\\\" x=\\\"40.60232\\\" y=\\\"76.483\\\"\\/>\\n  <use xlink:href=\\\"#glyph-1562715734929579-0-22\\\" x=\\\"45.58364\\\" y=\\\"76.483\\\"\\/>\\n<\\/g>\\n<path style=\\\"fill:none;stroke-width:0.3985;stroke-linecap:butt;stroke-linejoin:miter;stroke:rgb(0%,0%,0%);stroke-opacity:1;stroke-miterlimit:10;\\\" d=\\\"M 0.00065625 6.58725 L 162.192063 6.58725 \\\" transform=\\\"matrix(1,0,0,-1,73.972,175.306)\\\"\\/>\\n<path style=\\\"fill:none;stroke-width:0.3985;stroke-linecap:butt;stroke-linejoin:miter;stroke:rgb(0%,0%,0%);stroke-opacity:1;stroke-miterlimit:10;\\\" d=\\\"M 61.582688 28.942719 L 63.832688 28.309906 L 64.953781 27.9935 L 67.203781 27.360687 L 68.328781 27.048187 L 69.449875 26.731781 L 71.699875 26.098969 L 73.949875 25.473969 L 75.070969 25.157562 L 79.570969 23.907562 L 81.820969 23.290375 L 82.945969 22.977875 L 84.070969 22.669281 L 85.199875 22.364594 L 86.324875 22.056 L 88.574875 21.446625 L 89.703781 21.141937 L 90.828781 20.841156 L 91.957688 20.540375 L 93.082688 20.239594 L 94.211594 19.938812 L 95.3405 19.641937 L 96.4655 19.345062 L 97.594406 19.048187 L 100.981125 18.169281 L 103.238938 17.591156 L 104.37175 17.306 L 106.629563 16.735687 L 108.895188 16.173187 L 110.024094 15.895844 L 112.289719 15.341156 L 113.422531 15.071625 L 114.555344 14.798187 L 115.688156 14.528656 L 116.824875 14.263031 L 117.957688 13.997406 L 119.094406 13.735687 L 120.227219 13.473969 L 122.500656 12.958344 L 124.774094 12.450531 L 125.910813 12.200531 L 127.051438 11.954437 L 128.188156 11.708344 L 129.328781 11.466156 L 130.469406 11.227875 L 131.606125 10.989594 L 132.74675 10.755219 L 133.891281 10.520844 L 135.031906 10.294281 L 136.172531 10.063812 L 138.461594 9.6185 L 139.606125 9.39975 L 140.750656 9.184906 L 143.039719 8.763031 L 144.188156 8.556 L 145.332688 8.352875 L 146.481125 8.14975 L 148.778 7.759125 L 149.930344 7.567719 L 151.078781 7.380219 L 153.383469 7.013031 L 154.535813 6.833344 L 156.8405 6.489594 L 157.99675 6.321625 L 159.153 6.157562 L 161.4655 5.83725 L 162.62175 5.684906 L 164.942063 5.388031 L 167.262375 5.106781 L 168.422531 4.973969 L 169.586594 4.841156 L 170.74675 4.716156 L 171.910813 4.591156 L 173.074875 4.470062 L 174.242844 4.356781 L 175.406906 4.2435 L 177.742844 4.02475 L 180.078781 3.821625 L 181.24675 3.727875 L 182.418625 3.634125 L 183.586594 3.544281 L 185.930344 3.372406 L 187.106125 3.290375 L 188.278 3.21225 L 189.449875 3.138031 L 191.801438 2.997406 L 194.153 2.864594 L 195.328781 2.802094 L 196.504563 2.7435 L 197.68425 2.688812 L 198.860031 2.630219 \\\" transform=\\\"matrix(1,0,0,-1,73.972,175.306)\\\"\\/>\\n<path style=\\\"fill-rule:nonzero;fill:rgb(0%,50%,50%);fill-opacity:1;stroke-width:0.3985;stroke-linecap:butt;stroke-linejoin:miter;stroke:rgb(100%,100%,100%);stroke-opacity:1;stroke-miterlimit:10;\\\" d=\\\"M 5.738938 6.579437 L 5.738938 6.552094 L 5.727219 6.505219 L 5.629563 6.427094 L 5.254563 6.2435 L 4.731125 6.1185 L 4.070969 6.056 L 3.49675 6.028656 L 1.762375 6.028656 L -2.788406 1.466156 L -2.925125 1.403656 L -3.300125 1.427094 L -3.460281 1.489594 L -1.804031 4.134125 L -1.143875 6.028656 L -3.811844 6.016937 L -4.983719 6.153656 L -6.389969 4.434906 L -6.913406 4.434906 L -6.491531 6.427094 L -7.014969 6.567719 L -7.014969 6.610687 L -6.491531 6.747406 L -6.913406 8.7435 L -6.389969 8.7435 L -4.983719 7.020844 L -3.811844 7.157562 L -1.143875 7.145844 L -1.804031 9.040375 L -3.460281 11.684906 L -3.300125 11.747406 L -2.925125 11.770844 L -2.788406 11.708344 L 1.762375 7.145844 L 3.49675 7.145844 L 4.070969 7.1185 L 4.731125 7.059906 L 5.254563 6.934906 L 5.629563 6.747406 L 5.727219 6.669281 L 5.738938 6.622406 Z M 5.738938 6.579437 \\\" transform=\\\"matrix(1,0,0,-1,73.972,175.306)\\\"\\/>\\n<path style=\\\"fill-rule:nonzero;fill:rgb(0%,0%,0%);fill-opacity:1;stroke-width:0.3985;stroke-linecap:butt;stroke-linejoin:miter;stroke:rgb(100%,100%,100%);stroke-opacity:1;stroke-miterlimit:10;\\\" d=\\\"M 67.106125 27.376312 L 67.098313 27.352875 L 67.074875 27.309906 L 66.957688 27.263031 L 66.547531 27.184906 L 66.008469 27.208344 L 65.356125 27.325531 L 64.797531 27.458344 L 63.129563 27.927094 L 57.512375 24.770844 L 57.363938 24.747406 L 57.008469 24.872406 L 56.867844 24.977875 L 59.18425 27.071625 L 60.332688 28.716156 L 57.762375 29.427094 L 56.672531 29.876312 L 54.848313 28.602875 L 54.344406 28.747406 L 55.293625 30.552094 L 54.824875 30.825531 L 54.836594 30.8685 L 55.379563 30.856781 L 55.512375 32.891937 L 56.016281 32.751312 L 56.906906 30.71225 L 58.070969 30.52475 L 60.633469 29.790375 L 60.516281 31.794281 L 59.633469 34.786469 L 59.80925 34.802094 L 60.176438 34.727875 L 60.289719 34.630219 L 63.430344 29.001312 L 65.098313 28.532562 L 65.645188 28.352875 L 66.266281 28.114594 L 66.735031 27.852875 L 67.043625 27.571625 L 67.12175 27.470062 L 67.117844 27.419281 Z M 67.106125 27.376312 \\\" transform=\\\"matrix(1,0,0,-1,73.972,175.306)\\\"\\/>\\n<g style=\\\"fill:rgb(0%,0%,0%);fill-opacity:1;\\\">\\n  <use xlink:href=\\\"#glyph-1562715734929579-0-24\\\" x=\\\"153.933\\\" y=\\\"276.677\\\"\\/>\\n  <use xlink:href=\\\"#glyph-1562715734929579-0-8\\\" x=\\\"160.713573\\\" y=\\\"276.677\\\"\\/>\\n  <use xlink:href=\\\"#glyph-1562715734929579-0-25\\\" x=\\\"165.694893\\\" y=\\\"276.677\\\"\\/>\\n  <use xlink:href=\\\"#glyph-1562715734929579-0-7\\\" x=\\\"169.624158\\\" y=\\\"276.677\\\"\\/>\\n<\\/g>\\n<g style=\\\"fill:rgb(0%,0%,0%);fill-opacity:1;\\\">\\n  <use xlink:href=\\\"#glyph-1562715734929579-0-26\\\" x=\\\"176.816188\\\" y=\\\"276.677\\\"\\/>\\n  <use xlink:href=\\\"#glyph-1562715734929579-0-27\\\" x=\\\"180.690659\\\" y=\\\"276.677\\\"\\/>\\n  <use xlink:href=\\\"#glyph-1562715734929579-0-28\\\" x=\\\"188.992526\\\" y=\\\"276.677\\\"\\/>\\n<\\/g>\\n<g style=\\\"fill:rgb(0%,0%,0%);fill-opacity:1;\\\">\\n  <use xlink:href=\\\"#glyph-1562715734929579-3-1\\\" x=\\\"10.792\\\" y=\\\"182.086\\\"\\/>\\n  <use xlink:href=\\\"#glyph-1562715734929579-3-2\\\" x=\\\"10.792\\\" y=\\\"174.61402\\\"\\/>\\n  <use xlink:href=\\\"#glyph-1562715734929579-3-3\\\" x=\\\"10.792\\\" y=\\\"169.6327\\\"\\/>\\n  <use xlink:href=\\\"#glyph-1562715734929579-3-4\\\" x=\\\"10.792\\\" y=\\\"165.730334\\\"\\/>\\n  <use xlink:href=\\\"#glyph-1562715734929579-3-5\\\" x=\\\"10.792\\\" y=\\\"161.855863\\\"\\/>\\n<\\/g>\\n<g style=\\\"fill:rgb(0%,0%,0%);fill-opacity:1;\\\">\\n  <use xlink:href=\\\"#glyph-1562715734929579-3-6\\\" x=\\\"10.792\\\" y=\\\"153.003061\\\"\\/>\\n  <use xlink:href=\\\"#glyph-1562715734929579-3-7\\\" x=\\\"10.792\\\" y=\\\"149.128591\\\"\\/>\\n  <use xlink:href=\\\"#glyph-1562715734929579-3-8\\\" x=\\\"10.792\\\" y=\\\"140.826723\\\"\\/>\\n<\\/g>\\n<g style=\\\"fill:rgb(0%,0%,0%);fill-opacity:1;\\\">\\n  <use xlink:href=\\\"#glyph-1562715734929579-0-29\\\" x=\\\"142.76\\\" y=\\\"59.051\\\"\\/>\\n  <use xlink:href=\\\"#glyph-1562715734929579-0-3\\\" x=\\\"150.577684\\\" y=\\\"59.051\\\"\\/>\\n  <use xlink:href=\\\"#glyph-1562715734929579-0-2\\\" x=\\\"154.48005\\\" y=\\\"59.051\\\"\\/>\\n  <use xlink:href=\\\"#glyph-1562715734929579-0-30\\\" x=\\\"159.46137\\\" y=\\\"59.051\\\"\\/>\\n  <use xlink:href=\\\"#glyph-1562715734929579-0-6\\\" x=\\\"164.996612\\\" y=\\\"59.051\\\"\\/>\\n  <use xlink:href=\\\"#glyph-1562715734929579-0-31\\\" x=\\\"170.531855\\\" y=\\\"59.051\\\"\\/>\\n<\\/g>\\n<g style=\\\"fill:rgb(0%,0%,0%);fill-opacity:1;\\\">\\n  <use xlink:href=\\\"#glyph-1562715734929579-0-32\\\" x=\\\"179.384657\\\" y=\\\"59.051\\\"\\/>\\n<\\/g>\\n<g style=\\\"fill:rgb(0%,0%,0%);fill-opacity:1;\\\">\\n  <use xlink:href=\\\"#glyph-1562715734929579-0-3\\\" x=\\\"185.752777\\\" y=\\\"59.051\\\"\\/>\\n  <use xlink:href=\\\"#glyph-1562715734929579-0-8\\\" x=\\\"189.655143\\\" y=\\\"59.051\\\"\\/>\\n  <use xlink:href=\\\"#glyph-1562715734929579-0-18\\\" x=\\\"194.636463\\\" y=\\\"59.051\\\"\\/>\\n<\\/g>\\n<g style=\\\"fill:rgb(0%,0%,0%);fill-opacity:1;\\\">\\n  <use xlink:href=\\\"#glyph-1562715734929579-0-33\\\" x=\\\"198.794869\\\" y=\\\"59.051\\\"\\/>\\n<\\/g>\\n<path style=\\\"fill:none;stroke-width:0.19925;stroke-linecap:butt;stroke-linejoin:miter;stroke:rgb(50%,50%,50%);stroke-opacity:1;stroke-miterlimit:10;\\\" d=\\\"M 0.000875 -15.163281 L 0.000875 -10.909375 M 33.145406 -15.163281 L 33.145406 -10.909375 M 66.286031 -15.163281 L 66.286031 -10.909375 M 99.430563 -15.163281 L 99.430563 -10.909375 M 132.575094 -15.163281 L 132.575094 -10.909375 M 165.719625 -15.163281 L 165.719625 -10.909375 M 198.86025 -15.163281 L 198.86025 -10.909375 M 0.000875 166.778125 L 0.000875 162.528125 M 33.145406 166.778125 L 33.145406 162.528125 M 66.286031 166.778125 L 66.286031 162.528125 M 99.430563 166.778125 L 99.430563 162.528125 M 132.575094 166.778125 L 132.575094 162.528125 M 165.719625 166.778125 L 165.719625 162.528125 M 198.86025 166.778125 L 198.86025 162.528125 \\\" transform=\\\"matrix(1,0,0,-1,369.296,235.325)\\\"\\/>\\n<path style=\\\"fill:none;stroke-width:0.19925;stroke-linecap:butt;stroke-linejoin:miter;stroke:rgb(50%,50%,50%);stroke-opacity:1;stroke-miterlimit:10;\\\" d=\\\"M -19.885844 0.00078125 L -15.635844 0.00078125 M -19.885844 31.059375 L -15.635844 31.059375 M -19.885844 62.117969 L -15.635844 62.117969 M -19.885844 93.176562 L -15.635844 93.176562 M -19.885844 124.235156 L -15.635844 124.235156 M -19.885844 155.297656 L -15.635844 155.297656 M 218.750875 0.00078125 L 214.496969 0.00078125 M 218.750875 31.059375 L 214.496969 31.059375 M 218.750875 62.117969 L 214.496969 62.117969 M 218.750875 93.176562 L 214.496969 93.176562 M 218.750875 124.235156 L 214.496969 124.235156 M 218.750875 155.297656 L 214.496969 155.297656 \\\" transform=\\\"matrix(1,0,0,-1,369.296,235.325)\\\"\\/>\\n<path style=\\\"fill:none;stroke-width:0.3985;stroke-linecap:butt;stroke-linejoin:miter;stroke:rgb(0%,0%,0%);stroke-opacity:1;stroke-miterlimit:10;\\\" d=\\\"M -19.885844 -15.163281 L -19.885844 166.778125 L 218.750875 166.778125 L 218.750875 -15.163281 Z M -19.885844 -15.163281 \\\" transform=\\\"matrix(1,0,0,-1,369.296,235.325)\\\"\\/>\\n<g style=\\\"fill:rgb(0%,0%,0%);fill-opacity:1;\\\">\\n  <use xlink:href=\\\"#glyph-1562715734929579-0-22\\\" x=\\\"366.806\\\" y=\\\"260.428\\\"\\/>\\n<\\/g>\\n<g style=\\\"fill:rgb(0%,0%,0%);fill-opacity:1;\\\">\\n  <use xlink:href=\\\"#glyph-1562715734929579-0-23\\\" x=\\\"397.458\\\" y=\\\"260.428\\\"\\/>\\n  <use xlink:href=\\\"#glyph-1562715734929579-0-22\\\" x=\\\"402.43932\\\" y=\\\"260.428\\\"\\/>\\n<\\/g>\\n<g style=\\\"fill:rgb(0%,0%,0%);fill-opacity:1;\\\">\\n  <use xlink:href=\\\"#glyph-1562715734929579-0-15\\\" x=\\\"430.601\\\" y=\\\"260.428\\\"\\/>\\n  <use xlink:href=\\\"#glyph-1562715734929579-0-22\\\" x=\\\"435.58232\\\" y=\\\"260.428\\\"\\/>\\n<\\/g>\\n<g style=\\\"fill:rgb(0%,0%,0%);fill-opacity:1;\\\">\\n  <use xlink:href=\\\"#glyph-1562715734929579-0-34\\\" x=\\\"463.745\\\" y=\\\"260.428\\\"\\/>\\n  <use xlink:href=\\\"#glyph-1562715734929579-0-22\\\" x=\\\"468.72632\\\" y=\\\"260.428\\\"\\/>\\n<\\/g>\\n<g style=\\\"fill:rgb(0%,0%,0%);fill-opacity:1;\\\">\\n  <use xlink:href=\\\"#glyph-1562715734929579-0-19\\\" x=\\\"496.888\\\" y=\\\"260.428\\\"\\/>\\n  <use xlink:href=\\\"#glyph-1562715734929579-0-22\\\" x=\\\"501.86932\\\" y=\\\"260.428\\\"\\/>\\n<\\/g>\\n<g style=\\\"fill:rgb(0%,0%,0%);fill-opacity:1;\\\">\\n  <use xlink:href=\\\"#glyph-1562715734929579-0-16\\\" x=\\\"527.54\\\" y=\\\"260.428\\\"\\/>\\n  <use xlink:href=\\\"#glyph-1562715734929579-0-22\\\" x=\\\"532.52132\\\" y=\\\"260.428\\\"\\/>\\n  <use xlink:href=\\\"#glyph-1562715734929579-0-22\\\" x=\\\"537.50264\\\" y=\\\"260.428\\\"\\/>\\n<\\/g>\\n<g style=\\\"fill:rgb(0%,0%,0%);fill-opacity:1;\\\">\\n  <use xlink:href=\\\"#glyph-1562715734929579-0-16\\\" x=\\\"560.684\\\" y=\\\"260.428\\\"\\/>\\n  <use xlink:href=\\\"#glyph-1562715734929579-0-23\\\" x=\\\"565.66532\\\" y=\\\"260.428\\\"\\/>\\n  <use xlink:href=\\\"#glyph-1562715734929579-0-22\\\" x=\\\"570.64664\\\" y=\\\"260.428\\\"\\/>\\n<\\/g>\\n<g style=\\\"fill:rgb(0%,0%,0%);fill-opacity:1;\\\">\\n  <use xlink:href=\\\"#glyph-1562715734929579-0-22\\\" x=\\\"340.908\\\" y=\\\"238.535\\\"\\/>\\n<\\/g>\\n<g style=\\\"fill:rgb(0%,0%,0%);fill-opacity:1;\\\">\\n  <use xlink:href=\\\"#glyph-1562715734929579-0-16\\\" x=\\\"330.945\\\" y=\\\"207.477\\\"\\/>\\n  <use xlink:href=\\\"#glyph-1562715734929579-0-22\\\" x=\\\"335.92632\\\" y=\\\"207.477\\\"\\/>\\n  <use xlink:href=\\\"#glyph-1562715734929579-0-22\\\" x=\\\"340.90764\\\" y=\\\"207.477\\\"\\/>\\n<\\/g>\\n<g style=\\\"fill:rgb(0%,0%,0%);fill-opacity:1;\\\">\\n  <use xlink:href=\\\"#glyph-1562715734929579-0-23\\\" x=\\\"330.945\\\" y=\\\"176.418\\\"\\/>\\n  <use xlink:href=\\\"#glyph-1562715734929579-0-22\\\" x=\\\"335.92632\\\" y=\\\"176.418\\\"\\/>\\n  <use xlink:href=\\\"#glyph-1562715734929579-0-22\\\" x=\\\"340.90764\\\" y=\\\"176.418\\\"\\/>\\n<\\/g>\\n<g style=\\\"fill:rgb(0%,0%,0%);fill-opacity:1;\\\">\\n  <use xlink:href=\\\"#glyph-1562715734929579-0-14\\\" x=\\\"330.945\\\" y=\\\"145.359\\\"\\/>\\n  <use xlink:href=\\\"#glyph-1562715734929579-0-22\\\" x=\\\"335.92632\\\" y=\\\"145.359\\\"\\/>\\n  <use xlink:href=\\\"#glyph-1562715734929579-0-22\\\" x=\\\"340.90764\\\" y=\\\"145.359\\\"\\/>\\n<\\/g>\\n<g style=\\\"fill:rgb(0%,0%,0%);fill-opacity:1;\\\">\\n  <use xlink:href=\\\"#glyph-1562715734929579-0-15\\\" x=\\\"330.945\\\" y=\\\"114.3\\\"\\/>\\n  <use xlink:href=\\\"#glyph-1562715734929579-0-22\\\" x=\\\"335.92632\\\" y=\\\"114.3\\\"\\/>\\n  <use xlink:href=\\\"#glyph-1562715734929579-0-22\\\" x=\\\"340.90764\\\" y=\\\"114.3\\\"\\/>\\n<\\/g>\\n<g style=\\\"fill:rgb(0%,0%,0%);fill-opacity:1;\\\">\\n  <use xlink:href=\\\"#glyph-1562715734929579-0-21\\\" x=\\\"330.945\\\" y=\\\"83.242\\\"\\/>\\n  <use xlink:href=\\\"#glyph-1562715734929579-0-22\\\" x=\\\"335.92632\\\" y=\\\"83.242\\\"\\/>\\n  <use xlink:href=\\\"#glyph-1562715734929579-0-22\\\" x=\\\"340.90764\\\" y=\\\"83.242\\\"\\/>\\n<\\/g>\\n<path style=\\\"fill:none;stroke-width:0.3985;stroke-linecap:butt;stroke-linejoin:miter;stroke:rgb(0%,0%,0%);stroke-opacity:1;stroke-miterlimit:10;\\\" d=\\\"M 0.000875 143.2625 L 44.743063 143.2625 L 46.399313 142.41875 L 48.059469 140.153125 L 49.715719 137.309375 L 53.028219 131.614062 L 54.688375 128.766406 L 59.657125 120.223437 L 61.317281 117.379687 L 66.286031 108.836719 L 67.946188 105.989062 L 71.258688 100.29375 L 72.914938 97.45 L 74.575094 94.602344 L 76.231344 91.754687 L 77.887594 88.926562 L 79.543844 86.141406 L 81.204 83.407031 L 82.86025 80.73125 L 84.5165 78.102344 L 86.17275 75.524219 L 87.829 73.000781 L 89.489156 70.528125 L 91.145406 68.10625 L 92.801656 65.73125 L 94.457906 63.407031 L 96.118063 61.133594 L 97.774313 58.907031 L 99.430563 56.73125 L 101.086813 54.602344 L 102.746969 52.520312 L 104.403219 50.485156 L 106.059469 48.500781 L 107.715719 46.559375 L 109.375875 44.664844 L 111.032125 42.817187 L 112.688375 41.0125 L 114.344625 39.254687 L 116.004781 37.54375 L 117.661031 35.871875 L 119.317281 34.246875 L 120.973531 32.664844 L 122.633688 31.125781 L 124.289938 29.629687 L 125.946188 28.172656 L 127.602438 26.7625 L 129.258688 25.391406 L 130.918844 24.059375 L 132.575094 22.770312 L 134.231344 21.520312 L 135.887594 20.313281 L 137.54775 19.141406 L 139.204 18.0125 L 140.86025 16.91875 L 142.5165 15.864062 L 144.176656 14.848437 L 145.832906 13.871875 L 147.489156 12.930469 L 149.145406 12.024219 L 150.805563 11.157031 L 152.461813 10.325 L 154.118063 9.528125 L 155.774313 8.766406 L 157.434469 8.035937 L 159.090719 7.344531 L 160.746969 6.688281 L 162.403219 6.063281 L 164.063375 5.469531 L 165.719625 4.910937 L 167.375875 4.383594 L 169.032125 3.891406 L 170.688375 3.426562 L 172.348531 2.996875 L 174.004781 2.594531 L 175.661031 2.223437 L 177.317281 1.883594 L 178.977438 1.571094 L 180.633688 1.289844 L 182.289938 1.039844 L 183.946188 0.813281 L 185.606344 0.617969 L 187.262594 0.45 L 188.918844 0.309375 L 190.575094 0.196094 L 192.23525 0.110156 L 193.8915 0.0476562 L 195.54775 0.0125 L 197.204 0.00078125 L 198.864156 0.00078125 \\\" transform=\\\"matrix(1,0,0,-1,369.296,235.325)\\\"\\/>\\n<path style=\\\"fill:none;stroke-width:0.3985;stroke-linecap:butt;stroke-linejoin:miter;stroke:rgb(0%,0%,0%);stroke-opacity:1;stroke-miterlimit:10;\\\" d=\\\"M 0.000875 131.301562 L 4.969625 132.309375 L 6.629781 132.645312 L 9.942281 133.317187 L 11.598531 133.649219 L 13.258688 133.985156 L 18.227438 134.98125 L 19.887594 135.313281 L 24.856344 136.297656 L 26.5165 136.625781 L 29.829 137.274219 L 31.48525 137.594531 L 33.145406 137.914844 L 34.801656 138.235156 L 36.457906 138.551562 L 38.114156 138.864062 L 39.774313 139.180469 L 44.743063 140.10625 L 46.399313 140.410937 L 48.059469 140.715625 L 49.715719 141.0125 L 51.371969 141.313281 L 53.028219 141.60625 L 54.688375 141.899219 L 58.000875 142.477344 L 59.657125 142.7625 L 61.317281 143.04375 L 62.973531 143.321094 L 66.286031 143.867969 L 67.946188 144.1375 L 72.914938 144.922656 L 74.575094 145.176562 L 76.231344 145.426562 L 79.543844 145.91875 L 81.204 146.157031 L 84.5165 146.625781 L 86.17275 146.852344 L 87.829 147.075 L 89.489156 147.29375 L 91.145406 147.508594 L 92.801656 147.719531 L 94.457906 147.922656 L 96.118063 148.125781 L 97.774313 148.321094 L 99.430563 148.5125 L 101.086813 148.696094 L 102.746969 148.879687 L 104.403219 149.055469 L 106.059469 149.227344 L 107.715719 149.391406 L 109.375875 149.551562 L 111.032125 149.707812 L 112.688375 149.85625 L 114.344625 150.000781 L 116.004781 150.141406 L 117.661031 150.274219 L 119.317281 150.403125 L 120.973531 150.524219 L 122.633688 150.6375 L 124.289938 150.746875 L 125.946188 150.852344 L 127.602438 150.95 L 129.258688 151.039844 L 130.918844 151.121875 L 132.575094 151.2 L 134.231344 151.274219 L 135.887594 151.336719 L 137.54775 151.395312 L 139.204 151.45 L 140.86025 151.492969 L 142.5165 151.532031 L 144.176656 151.563281 L 145.832906 151.586719 L 147.489156 151.602344 L 149.145406 151.614062 L 150.805563 151.614062 L 152.461813 151.610156 L 154.118063 151.598437 L 155.774313 151.578906 L 157.434469 151.547656 L 159.090719 151.516406 L 160.746969 151.473437 L 162.403219 151.422656 L 164.063375 151.367969 L 165.719625 151.305469 L 167.375875 151.235156 L 169.032125 151.160937 L 170.688375 151.078906 L 172.348531 150.989062 L 174.004781 150.895312 L 175.661031 150.79375 L 177.317281 150.684375 L 178.977438 150.571094 L 180.633688 150.45 L 182.289938 150.325 L 183.946188 150.196094 L 185.606344 150.059375 L 187.262594 149.914844 L 188.918844 149.766406 L 190.575094 149.614062 L 192.23525 149.457812 L 193.8915 149.29375 L 195.54775 149.125781 L 197.204 148.953906 L 198.864156 148.778125 \\\" transform=\\\"matrix(1,0,0,-1,369.296,235.325)\\\"\\/>\\n<path style=\\\"fill-rule:nonzero;fill:rgb(0%,50%,50%);fill-opacity:1;stroke-width:0.3985;stroke-linecap:butt;stroke-linejoin:miter;stroke:rgb(100%,100%,100%);stroke-opacity:1;stroke-miterlimit:10;\\\" d=\\\"M -7.32725 145.703906 L -7.323344 145.715625 L -7.307719 145.723437 L -6.706156 145.723437 L -6.690531 145.719531 L -4.768656 143.98125 L -1.944437 144.004687 L -3.553812 145.196094 L -3.561625 145.211719 L -3.542094 145.223437 L -2.971781 145.274219 L -2.956156 145.270312 L -0.456156 144.059375 L 3.496969 144.032031 L 3.504781 144.032031 L 4.293844 143.899219 L 4.305563 143.895312 L 4.496969 143.766406 L 5.094625 143.422656 L 5.102438 143.410937 L 5.102438 143.278125 L 5.094625 143.2625 L 4.875875 143.133594 L 4.430563 142.969531 L 3.770406 142.864062 L 1.289938 142.836719 L -2.846781 141.121875 L -2.854594 141.121875 L -3.182719 141.094531 L -3.186625 141.094531 L -3.542094 141.121875 L -3.561625 141.129687 L -3.553812 141.149219 L -1.760844 142.278125 L -1.624125 142.6375 L -1.663187 142.73125 L -3.354594 142.91875 L -4.417094 143.075 L -5.850687 143.395312 L -6.940531 142.996875 L -6.95225 142.996875 L -7.635844 143.024219 L -7.655375 143.032031 L -7.647562 143.051562 L -6.82725 143.60625 L -7.01475 143.684375 L -7.026469 143.7 L -6.999125 143.8875 L -6.9835 143.899219 L -6.753031 143.930469 L -7.378031 144.801562 L -7.378031 144.817187 L -7.366312 144.825 L -7.026469 144.85625 Z M -7.32725 145.703906 \\\" transform=\\\"matrix(1,0,0,-1,369.296,235.325)\\\"\\/>\\n<path style=\\\"fill-rule:nonzero;fill:rgb(0%,0%,0%);fill-opacity:1;stroke-width:0.3985;stroke-linecap:butt;stroke-linejoin:miter;stroke:rgb(100%,100%,100%);stroke-opacity:1;stroke-miterlimit:10;\\\" d=\\\"M -7.32725 133.742969 L -7.323344 133.758594 L -7.307719 133.7625 L -6.706156 133.7625 L -6.690531 133.758594 L -4.768656 132.020312 L -1.944437 132.04375 L -3.553812 133.235156 L -3.561625 133.250781 L -3.542094 133.2625 L -2.971781 133.313281 L -2.956156 133.309375 L -0.456156 132.098437 L 3.496969 132.071094 L 3.504781 132.071094 L 4.293844 131.938281 L 4.305563 131.934375 L 4.496969 131.805469 L 5.094625 131.461719 L 5.102438 131.45 L 5.102438 131.317187 L 5.094625 131.301562 L 4.875875 131.172656 L 4.430563 131.008594 L 3.770406 130.903125 L 1.289938 130.875781 L -2.846781 129.160937 L -2.854594 129.160937 L -3.182719 129.133594 L -3.186625 129.133594 L -3.542094 129.160937 L -3.561625 129.16875 L -3.553812 129.188281 L -1.760844 130.317187 L -1.624125 130.676562 L -1.663187 130.770312 L -3.354594 130.957812 L -4.417094 131.114062 L -5.850687 131.434375 L -6.940531 131.035937 L -6.95225 131.035937 L -7.635844 131.063281 L -7.655375 131.071094 L -7.647562 131.090625 L -6.82725 131.645312 L -7.01475 131.723437 L -7.026469 131.739062 L -6.999125 131.926562 L -6.9835 131.938281 L -6.753031 131.969531 L -7.378031 132.840625 L -7.378031 132.85625 L -7.366312 132.864062 L -7.026469 132.899219 Z M -7.32725 133.742969 \\\" transform=\\\"matrix(1,0,0,-1,369.296,235.325)\\\"\\/>\\n<g style=\\\"fill:rgb(0%,0%,0%);fill-opacity:1;\\\">\\n  <use xlink:href=\\\"#glyph-1562715734929579-0-32\\\" x=\\\"449.88\\\" y=\\\"274.74\\\"\\/>\\n  <use xlink:href=\\\"#glyph-1562715734929579-0-4\\\" x=\\\"457.075019\\\" y=\\\"274.74\\\"\\/>\\n  <use xlink:href=\\\"#glyph-1562715734929579-0-27\\\" x=\\\"459.84264\\\" y=\\\"274.74\\\"\\/>\\n  <use xlink:href=\\\"#glyph-1562715734929579-0-12\\\" x=\\\"468.144508\\\" y=\\\"274.74\\\"\\/>\\n<\\/g>\\n<g style=\\\"fill:rgb(0%,0%,0%);fill-opacity:1;\\\">\\n  <use xlink:href=\\\"#glyph-1562715734929579-0-26\\\" x=\\\"475.889464\\\" y=\\\"274.74\\\"\\/>\\n  <use xlink:href=\\\"#glyph-1562715734929579-0-25\\\" x=\\\"479.763935\\\" y=\\\"274.74\\\"\\/>\\n  <use xlink:href=\\\"#glyph-1562715734929579-0-28\\\" x=\\\"483.6932\\\" y=\\\"274.74\\\"\\/>\\n<\\/g>\\n<g style=\\\"fill:rgb(0%,0%,0%);fill-opacity:1;\\\">\\n  <use xlink:href=\\\"#glyph-1562715734929579-3-9\\\" x=\\\"321.614\\\" y=\\\"186.639\\\"\\/>\\n  <use xlink:href=\\\"#glyph-1562715734929579-3-10\\\" x=\\\"321.614\\\" y=\\\"179.16702\\\"\\/>\\n  <use xlink:href=\\\"#glyph-1562715734929579-3-4\\\" x=\\\"321.614\\\" y=\\\"176.399399\\\"\\/>\\n  <use xlink:href=\\\"#glyph-1562715734929579-3-11\\\" x=\\\"321.614\\\" y=\\\"172.524928\\\"\\/>\\n  <use xlink:href=\\\"#glyph-1562715734929579-3-4\\\" x=\\\"321.614\\\" y=\\\"169.757307\\\"\\/>\\n  <use xlink:href=\\\"#glyph-1562715734929579-3-12\\\" x=\\\"321.614\\\" y=\\\"165.882836\\\"\\/>\\n  <use xlink:href=\\\"#glyph-1562715734929579-3-13\\\" x=\\\"321.614\\\" y=\\\"160.347593\\\"\\/>\\n  <use xlink:href=\\\"#glyph-1562715734929579-3-14\\\" x=\\\"321.614\\\" y=\\\"154.81235\\\"\\/>\\n<\\/g>\\n<g style=\\\"fill:rgb(0%,0%,0%);fill-opacity:1;\\\">\\n  <use xlink:href=\\\"#glyph-1562715734929579-3-6\\\" x=\\\"321.614\\\" y=\\\"147.067394\\\"\\/>\\n  <use xlink:href=\\\"#glyph-1562715734929579-3-15\\\" x=\\\"321.614\\\" y=\\\"143.192923\\\"\\/>\\n  <use xlink:href=\\\"#glyph-1562715734929579-3-4\\\" x=\\\"321.614\\\" y=\\\"140.14834\\\"\\/>\\n  <use xlink:href=\\\"#glyph-1562715734929579-3-8\\\" x=\\\"321.614\\\" y=\\\"136.27387\\\"\\/>\\n<\\/g>\\n<g style=\\\"fill:rgb(0%,0%,0%);fill-opacity:1;\\\">\\n  <use xlink:href=\\\"#glyph-1562715734929579-0-17\\\" x=\\\"435.974\\\" y=\\\"59.051\\\"\\/>\\n<\\/g>\\n<g style=\\\"fill:rgb(0%,0%,0%);fill-opacity:1;\\\">\\n  <use xlink:href=\\\"#glyph-1562715734929579-0-12\\\" x=\\\"442.619081\\\" y=\\\"59.051\\\"\\/>\\n  <use xlink:href=\\\"#glyph-1562715734929579-0-3\\\" x=\\\"447.046478\\\" y=\\\"59.051\\\"\\/>\\n  <use xlink:href=\\\"#glyph-1562715734929579-0-7\\\" x=\\\"450.948844\\\" y=\\\"59.051\\\"\\/>\\n  <use xlink:href=\\\"#glyph-1562715734929579-0-4\\\" x=\\\"454.823315\\\" y=\\\"59.051\\\"\\/>\\n  <use xlink:href=\\\"#glyph-1562715734929579-0-18\\\" x=\\\"457.590936\\\" y=\\\"59.051\\\"\\/>\\n  <use xlink:href=\\\"#glyph-1562715734929579-0-8\\\" x=\\\"462.018333\\\" y=\\\"59.051\\\"\\/>\\n  <use xlink:href=\\\"#glyph-1562715734929579-0-9\\\" x=\\\"466.999653\\\" y=\\\"59.051\\\"\\/>\\n<\\/g>\\n<g style=\\\"fill:rgb(0%,0%,0%);fill-opacity:1;\\\">\\n  <use xlink:href=\\\"#glyph-1562715734929579-0-35\\\" x=\\\"473.084834\\\" y=\\\"59.051\\\"\\/>\\n  <use xlink:href=\\\"#glyph-1562715734929579-0-3\\\" x=\\\"479.865407\\\" y=\\\"59.051\\\"\\/>\\n  <use xlink:href=\\\"#glyph-1562715734929579-0-2\\\" x=\\\"483.767773\\\" y=\\\"59.051\\\"\\/>\\n  <use xlink:href=\\\"#glyph-1562715734929579-0-36\\\" x=\\\"488.749093\\\" y=\\\"59.051\\\"\\/>\\n  <use xlink:href=\\\"#glyph-1562715734929579-0-9\\\" x=\\\"494.284336\\\" y=\\\"59.051\\\"\\/>\\n  <use xlink:href=\\\"#glyph-1562715734929579-0-12\\\" x=\\\"497.051957\\\" y=\\\"59.051\\\"\\/>\\n<\\/g>\\n<g clip-path=\\\"url(#clip-1562715734929579-9)\\\" clip-rule=\\\"nonzero\\\">\\n<use xlink:href=\\\"#image-1562715734929579-14\\\" transform=\\\"matrix(1.25253,0,0,1.81963,644.735,68.521)\\\"\\/>\\n<\\/g>\\n<g style=\\\"fill:rgb(0%,0%,0%);fill-opacity:1;\\\">\\n  <use xlink:href=\\\"#glyph-1562715734929579-0-10\\\" x=\\\"695.848\\\" y=\\\"87.418\\\"\\/>\\n  <use xlink:href=\\\"#glyph-1562715734929579-0-37\\\" x=\\\"703.181499\\\" y=\\\"87.418\\\"\\/>\\n<\\/g>\\n<g style=\\\"fill:rgb(0%,0%,0%);fill-opacity:1;\\\">\\n  <use xlink:href=\\\"#glyph-1562715734929579-0-16\\\" x=\\\"713.971038\\\" y=\\\"87.418\\\"\\/>\\n  <use xlink:href=\\\"#glyph-1562715734929579-0-13\\\" x=\\\"718.952358\\\" y=\\\"87.418\\\"\\/>\\n<\\/g>\\n<g style=\\\"fill:rgb(0%,0%,0%);fill-opacity:1;\\\">\\n  <use xlink:href=\\\"#glyph-1562715734929579-0-38\\\" x=\\\"726.143392\\\" y=\\\"87.418\\\"\\/>\\n  <use xlink:href=\\\"#glyph-1562715734929579-0-39\\\" x=\\\"733.338411\\\" y=\\\"87.418\\\"\\/>\\n  <use xlink:href=\\\"#glyph-1562715734929579-0-38\\\" x=\\\"741.087352\\\" y=\\\"87.418\\\"\\/>\\n<\\/g>\\n<g style=\\\"fill:rgb(0%,0%,0%);fill-opacity:1;\\\">\\n  <use xlink:href=\\\"#glyph-1562715734929579-0-10\\\" x=\\\"695.848\\\" y=\\\"110.16\\\"\\/>\\n  <use xlink:href=\\\"#glyph-1562715734929579-0-37\\\" x=\\\"703.181499\\\" y=\\\"110.16\\\"\\/>\\n<\\/g>\\n<g style=\\\"fill:rgb(0%,0%,0%);fill-opacity:1;\\\">\\n  <use xlink:href=\\\"#glyph-1562715734929579-0-23\\\" x=\\\"713.971038\\\" y=\\\"110.16\\\"\\/>\\n  <use xlink:href=\\\"#glyph-1562715734929579-0-13\\\" x=\\\"718.952358\\\" y=\\\"110.16\\\"\\/>\\n<\\/g>\\n<g style=\\\"fill:rgb(0%,0%,0%);fill-opacity:1;\\\">\\n  <use xlink:href=\\\"#glyph-1562715734929579-0-40\\\" x=\\\"726.143392\\\" y=\\\"110.16\\\"\\/>\\n  <use xlink:href=\\\"#glyph-1562715734929579-0-41\\\" x=\\\"733.753853\\\" y=\\\"110.16\\\"\\/>\\n  <use xlink:href=\\\"#glyph-1562715734929579-0-38\\\" x=\\\"741.225833\\\" y=\\\"110.16\\\"\\/>\\n<\\/g>\\n<g style=\\\"fill:rgb(0%,0%,0%);fill-opacity:1;\\\">\\n  <use xlink:href=\\\"#glyph-1562715734929579-0-10\\\" x=\\\"695.848\\\" y=\\\"132.902\\\"\\/>\\n  <use xlink:href=\\\"#glyph-1562715734929579-0-37\\\" x=\\\"703.181499\\\" y=\\\"132.902\\\"\\/>\\n<\\/g>\\n<g style=\\\"fill:rgb(0%,0%,0%);fill-opacity:1;\\\">\\n  <use xlink:href=\\\"#glyph-1562715734929579-0-14\\\" x=\\\"713.971038\\\" y=\\\"132.902\\\"\\/>\\n  <use xlink:href=\\\"#glyph-1562715734929579-0-13\\\" x=\\\"718.952358\\\" y=\\\"132.902\\\"\\/>\\n<\\/g>\\n<g style=\\\"fill:rgb(0%,0%,0%);fill-opacity:1;\\\">\\n  <use xlink:href=\\\"#glyph-1562715734929579-0-40\\\" x=\\\"726.143392\\\" y=\\\"132.902\\\"\\/>\\n  <use xlink:href=\\\"#glyph-1562715734929579-0-41\\\" x=\\\"733.753853\\\" y=\\\"132.902\\\"\\/>\\n  <use xlink:href=\\\"#glyph-1562715734929579-0-40\\\" x=\\\"741.225833\\\" y=\\\"132.902\\\"\\/>\\n<\\/g>\\n<g style=\\\"fill:rgb(0%,0%,0%);fill-opacity:1;\\\">\\n  <use xlink:href=\\\"#glyph-1562715734929579-0-10\\\" x=\\\"695.848\\\" y=\\\"155.644\\\"\\/>\\n  <use xlink:href=\\\"#glyph-1562715734929579-0-37\\\" x=\\\"703.181499\\\" y=\\\"155.644\\\"\\/>\\n<\\/g>\\n<g style=\\\"fill:rgb(0%,0%,0%);fill-opacity:1;\\\">\\n  <use xlink:href=\\\"#glyph-1562715734929579-0-15\\\" x=\\\"713.971038\\\" y=\\\"155.644\\\"\\/>\\n  <use xlink:href=\\\"#glyph-1562715734929579-0-13\\\" x=\\\"718.952358\\\" y=\\\"155.644\\\"\\/>\\n<\\/g>\\n<g style=\\\"fill:rgb(0%,0%,0%);fill-opacity:1;\\\">\\n  <use xlink:href=\\\"#glyph-1562715734929579-0-38\\\" x=\\\"726.143392\\\" y=\\\"155.644\\\"\\/>\\n  <use xlink:href=\\\"#glyph-1562715734929579-0-42\\\" x=\\\"733.338411\\\" y=\\\"155.644\\\"\\/>\\n  <use xlink:href=\\\"#glyph-1562715734929579-0-23\\\" x=\\\"739.565061\\\" y=\\\"155.644\\\"\\/>\\n  <use xlink:href=\\\"#glyph-1562715734929579-0-21\\\" x=\\\"744.546381\\\" y=\\\"155.644\\\"\\/>\\n  <use xlink:href=\\\"#glyph-1562715734929579-0-22\\\" x=\\\"749.527701\\\" y=\\\"155.644\\\"\\/>\\n<\\/g>\\n<g style=\\\"fill:rgb(0%,0%,0%);fill-opacity:1;\\\">\\n  <use xlink:href=\\\"#glyph-1562715734929579-0-10\\\" x=\\\"695.848\\\" y=\\\"178.386\\\"\\/>\\n  <use xlink:href=\\\"#glyph-1562715734929579-0-37\\\" x=\\\"703.181499\\\" y=\\\"178.386\\\"\\/>\\n<\\/g>\\n<g style=\\\"fill:rgb(0%,0%,0%);fill-opacity:1;\\\">\\n  <use xlink:href=\\\"#glyph-1562715734929579-0-21\\\" x=\\\"713.971038\\\" y=\\\"178.386\\\"\\/>\\n  <use xlink:href=\\\"#glyph-1562715734929579-0-13\\\" x=\\\"718.952358\\\" y=\\\"178.386\\\"\\/>\\n<\\/g>\\n<g style=\\\"fill:rgb(0%,0%,0%);fill-opacity:1;\\\">\\n  <use xlink:href=\\\"#glyph-1562715734929579-0-43\\\" x=\\\"726.143392\\\" y=\\\"178.386\\\"\\/>\\n  <use xlink:href=\\\"#glyph-1562715734929579-0-38\\\" x=\\\"731.678635\\\" y=\\\"178.386\\\"\\/>\\n  <use xlink:href=\\\"#glyph-1562715734929579-0-42\\\" x=\\\"738.873653\\\" y=\\\"178.386\\\"\\/>\\n  <use xlink:href=\\\"#glyph-1562715734929579-0-15\\\" x=\\\"745.100303\\\" y=\\\"178.386\\\"\\/>\\n  <use xlink:href=\\\"#glyph-1562715734929579-0-21\\\" x=\\\"750.081623\\\" y=\\\"178.386\\\"\\/>\\n  <use xlink:href=\\\"#glyph-1562715734929579-0-22\\\" x=\\\"755.062943\\\" y=\\\"178.386\\\"\\/>\\n<\\/g>\\n<path style=\\\"fill:none;stroke-width:0.3985;stroke-linecap:butt;stroke-linejoin:miter;stroke:rgb(0%,0%,0%);stroke-opacity:1;stroke-miterlimit:10;\\\" d=\\\"M 31.597031 160.038687 L 43.550156 160.038687 L 43.550156 171.995719 L 31.597031 171.995719 Z M 31.597031 160.038687 \\\" transform=\\\"matrix(1,0,0,-1,644.735,250.484)\\\"\\/>\\n<path style=\\\"fill-rule:nonzero;fill:rgb(59.999084%,79.998779%,100%);fill-opacity:1;stroke-width:0.3985;stroke-linecap:butt;stroke-linejoin:miter;stroke:rgb(59.999084%,79.998779%,100%);stroke-opacity:1;stroke-miterlimit:10;\\\" d=\\\"M 31.597031 137.2965 L 43.550156 137.2965 L 43.550156 149.253531 L 31.597031 149.253531 Z M 31.597031 137.2965 \\\" transform=\\\"matrix(1,0,0,-1,644.735,250.484)\\\"\\/>\\n<path style=\\\"fill-rule:nonzero;fill:rgb(100%,70.587158%,70.587158%);fill-opacity:1;stroke-width:0.3985;stroke-linecap:butt;stroke-linejoin:miter;stroke:rgb(100%,70.587158%,70.587158%);stroke-opacity:1;stroke-miterlimit:10;\\\" d=\\\"M 31.597031 114.554312 L 43.550156 114.554312 L 43.550156 126.511344 L 31.597031 126.511344 Z M 31.597031 114.554312 \\\" transform=\\\"matrix(1,0,0,-1,644.735,250.484)\\\"\\/>\\n<path style=\\\"fill-rule:nonzero;fill:rgb(100%,35.68573%,35.68573%);fill-opacity:1;stroke-width:0.3985;stroke-linecap:butt;stroke-linejoin:miter;stroke:rgb(100%,35.68573%,35.68573%);stroke-opacity:1;stroke-miterlimit:10;\\\" d=\\\"M 31.597031 91.812125 L 43.550156 91.812125 L 43.550156 103.769156 L 31.597031 103.769156 Z M 31.597031 91.812125 \\\" transform=\\\"matrix(1,0,0,-1,644.735,250.484)\\\"\\/>\\n<path style=\\\"fill-rule:nonzero;fill:rgb(74.508667%,0%,0%);fill-opacity:1;stroke-width:0.3985;stroke-linecap:butt;stroke-linejoin:miter;stroke:rgb(74.508667%,0%,0%);stroke-opacity:1;stroke-miterlimit:10;\\\" d=\\\"M 31.597031 69.069937 L 43.550156 69.069937 L 43.550156 81.026969 L 31.597031 81.026969 Z M 31.597031 69.069937 \\\" transform=\\\"matrix(1,0,0,-1,644.735,250.484)\\\"\\/>\\n<g style=\\\"fill:rgb(0%,0%,0%);fill-opacity:1;\\\">\\n  <use xlink:href=\\\"#glyph-1562715734929579-0-44\\\" x=\\\"696.356\\\" y=\\\"59.051\\\"\\/>\\n  <use xlink:href=\\\"#glyph-1562715734929579-0-24\\\" x=\\\"704.104941\\\" y=\\\"59.051\\\"\\/>\\n  <use xlink:href=\\\"#glyph-1562715734929579-0-45\\\" x=\\\"710.885514\\\" y=\\\"59.051\\\"\\/>\\n<\\/g>\\n<\\/g>\\n<\\/svg>\\n\\n\"},\"nodeType\":\"DOM\",\"type\":\"node\",\"instanceArgs\":{\"namespace\":\"html\",\"tag\":\"div\"},\"children\":[]}]}}}},\"children\":[{\"props\":{},\"nodeType\":\"ObservableNode\",\"type\":\"node\",\"instanceArgs\":{\"id\":\"ob_62\",\"name\":\"obs-node\"},\"children\":[]}]}]},\n",
       "            window,\n",
       "        );\n",
       "    } else {\n",
       "        document\n",
       "            .querySelector('[data-webio-mountpoint=\"12147487696150333291\"]')\n",
       "            .innerHTML = '<strong>WebIO not detected.</strong>';\n",
       "    }\n",
       "    </script>\n",
       "</div>\n"
      ],
      "text/plain": [
       "Node{WebIO.DOM}(WebIO.DOM(:html, :div), Any[Node{DOM}(DOM(:html, :div), Any[Scope(Node{DOM}(DOM(:html, :div), Any[Node{DOM}(DOM(:html, :div), Any[Node{DOM}(DOM(:html, :label), Any[\"File Name\"], Dict{Symbol,Any}(:className=>\"interact \",:style=>Dict{Any,Any}(:padding=>\"5px 10px 0px 10px\")))], Dict{Symbol,Any}(:className=>\"interact-flex-row-left\")), Node{DOM}(DOM(:html, :div), Any[Node{DOM}(DOM(:html, :input), Any[], Dict{Symbol,Any}(:attributes=>Dict{Any,Any}(:type=>\"text\",Symbol(\"data-bind\")=>\"value: value, valueUpdate: 'input', event: {change: function (){this.changes(this.changes()+1)}}\"),:placeholder=>\"\",:className=>\"input \",:style=>Dict{Any,Any}()))], Dict{Symbol,Any}(:className=>\"interact-flex-row-center\")), Node{DOM}(DOM(:html, :div), Any[Node{DOM}(DOM(:html, :div), Any[], Dict{Symbol,Any}())], Dict{Symbol,Any}(:className=>\"interact-flex-row-right\"))], Dict{Symbol,Any}(:className=>\"interact-flex-row interact-widget\")), Dict{String,Tuple{Observables.AbstractObservable,Union{Nothing, Bool}}}(\"changes\"=>(Observable{Int64} with 2 listeners. Value:\n",
       "0, nothing),\"value\"=>(Observable{String} with 1 listeners. Value:\n",
       "\"myFile.pdf\", nothing)), Set(String[]), nothing, Asset[Asset(\"js\", \"knockout\", \"/home/smkatz/.julia/packages/Knockout/1sDlc/src/../assets/knockout.js\"), Asset(\"js\", \"knockout_punches\", \"/home/smkatz/.julia/packages/Knockout/1sDlc/src/../assets/knockout_punches.js\"), Asset(\"js\", nothing, \"/home/smkatz/.julia/packages/InteractBase/l8cEC/src/../assets/all.js\"), Asset(\"css\", nothing, \"/home/smkatz/.julia/packages/InteractBase/l8cEC/src/../assets/style.css\"), Asset(\"css\", nothing, \"/home/smkatz/.julia/packages/Interact/0klKX/src/../assets/bulma_confined.min.css\")], Dict{Any,Any}(\"changes\"=>Any[JSString(\"(function (val){return (val!=this.model[\\\"changes\\\"]()) ? (this.valueFromJulia[\\\"changes\\\"]=true, this.model[\\\"changes\\\"](val)) : undefined})\")],\"value\"=>Any[JSString(\"(function (val){return (val!=this.model[\\\"value\\\"]()) ? (this.valueFromJulia[\\\"value\\\"]=true, this.model[\\\"value\\\"](val)) : undefined})\")]), ConnectionPool(Channel{Any}(sz_max:32,sz_curr:0), Set(AbstractConnection[]), Channel{AbstractConnection}(sz_max:32,sz_curr:0)), WebIO.JSString[JSString(\"function () {\\n    var handler = (function (ko, koPunches) {\\n    ko.punches.enableAll();\\n    ko.bindingHandlers.numericValue = {\\n        init: function(element, valueAccessor, allBindings, data, context) {\\n            var stringified = ko.observable(ko.unwrap(valueAccessor()));\\n            stringified.subscribe(function(value) {\\n                var val = parseFloat(value);\\n                if (!isNaN(val)) {\\n                    valueAccessor()(val);\\n                }\\n            });\\n            valueAccessor().subscribe(function(value) {\\n                var str = JSON.stringify(value);\\n                if ((str == \\\"0\\\") && ([\\\"-0\\\", \\\"-0.\\\"].indexOf(stringified()) >= 0))\\n                     return;\\n                 if ([\\\"null\\\", \\\"\\\"].indexOf(str) >= 0)\\n                     return;\\n                stringified(str);\\n            });\\n            ko.applyBindingsToNode(\\n                element,\\n                {\\n                    value: stringified,\\n                    valueUpdate: allBindings.get('valueUpdate'),\\n                },\\n                context,\\n            );\\n        }\\n    };\\n    var json_data = {\\\"changes\\\":WebIO.getval({\\\"name\\\":\\\"changes\\\",\\\"scope\\\":\\\"8649578460593159577\\\",\\\"id\\\":\\\"ob_50\\\",\\\"type\\\":\\\"observable\\\"}),\\\"value\\\":WebIO.getval({\\\"name\\\":\\\"value\\\",\\\"scope\\\":\\\"8649578460593159577\\\",\\\"id\\\":\\\"ob_49\\\",\\\"type\\\":\\\"observable\\\"})};\\n    var self = this;\\n    function AppViewModel() {\\n        for (var key in json_data) {\\n            var el = json_data[key];\\n            this[key] = Array.isArray(el) ? ko.observableArray(el) : ko.observable(el);\\n        }\\n        \\n        \\n        [this[\\\"changes\\\"].subscribe((function (val){!(this.valueFromJulia[\\\"changes\\\"]) ? (WebIO.setval({\\\"name\\\":\\\"changes\\\",\\\"scope\\\":\\\"8649578460593159577\\\",\\\"id\\\":\\\"ob_50\\\",\\\"type\\\":\\\"observable\\\"},val)) : undefined; return this.valueFromJulia[\\\"changes\\\"]=false}),self),this[\\\"value\\\"].subscribe((function (val){!(this.valueFromJulia[\\\"value\\\"]) ? (WebIO.setval({\\\"name\\\":\\\"value\\\",\\\"scope\\\":\\\"8649578460593159577\\\",\\\"id\\\":\\\"ob_49\\\",\\\"type\\\":\\\"observable\\\"},val)) : undefined; return this.valueFromJulia[\\\"value\\\"]=false}),self)]\\n        \\n    }\\n    self.model = new AppViewModel();\\n    self.valueFromJulia = {};\\n    for (var key in json_data) {\\n        self.valueFromJulia[key] = false;\\n    }\\n    ko.applyBindings(self.model, self.dom);\\n}\\n);\\n    (WebIO.importBlock({\\\"data\\\":[{\\\"name\\\":\\\"knockout\\\",\\\"type\\\":\\\"js\\\",\\\"url\\\":\\\"/assetserver/3bd9b1de736b098e415b41735ebb66f92146af63-knockout.js\\\"},{\\\"name\\\":\\\"knockout_punches\\\",\\\"type\\\":\\\"js\\\",\\\"url\\\":\\\"/assetserver/f693c45e4673819d9631890b2dbb7b49bac52036-knockout_punches.js\\\"}],\\\"type\\\":\\\"async_block\\\"})).then((imports) => handler.apply(this, imports));\\n}\\n\")])], Dict{Symbol,Any}(:className=>\"field interact-widget\")), Node{DOM}(DOM(:html, :div), Any[Scope(Node{DOM}(DOM(:html, :button), Any[\"Save Plot\"], Dict{Symbol,Any}(:attributes=>Dict{Any,Any}(\"data-bind\"=>\"click: function (){this.clicks(this.clicks()+1)}, css: {'is-loading' : loading}\"),:className=>\"is-medium button is-primary\",:style=>Dict{String,Any}())), Dict{String,Tuple{Observables.AbstractObservable,Union{Nothing, Bool}}}(\"loading\"=>(Observable{Bool} with 1 listeners. Value:\n",
       "false, nothing),\"clicks\"=>(Observable{Int64} with 2 listeners. Value:\n",
       "0, nothing)), Set(String[]), nothing, Asset[Asset(\"js\", \"knockout\", \"/home/smkatz/.julia/packages/Knockout/1sDlc/src/../assets/knockout.js\"), Asset(\"js\", \"knockout_punches\", \"/home/smkatz/.julia/packages/Knockout/1sDlc/src/../assets/knockout_punches.js\"), Asset(\"js\", nothing, \"/home/smkatz/.julia/packages/InteractBase/l8cEC/src/../assets/all.js\"), Asset(\"css\", nothing, \"/home/smkatz/.julia/packages/InteractBase/l8cEC/src/../assets/style.css\"), Asset(\"css\", nothing, \"/home/smkatz/.julia/packages/Interact/0klKX/src/../assets/bulma_confined.min.css\")], Dict{Any,Any}(\"loading\"=>Any[JSString(\"(function (val){return (val!=this.model[\\\"loading\\\"]()) ? (this.valueFromJulia[\\\"loading\\\"]=true, this.model[\\\"loading\\\"](val)) : undefined})\")],\"clicks\"=>Any[JSString(\"(function (val){return (val!=this.model[\\\"clicks\\\"]()) ? (this.valueFromJulia[\\\"clicks\\\"]=true, this.model[\\\"clicks\\\"](val)) : undefined})\")]), ConnectionPool(Channel{Any}(sz_max:32,sz_curr:0), Set(AbstractConnection[]), Channel{AbstractConnection}(sz_max:32,sz_curr:0)), WebIO.JSString[JSString(\"function () {\\n    var handler = (function (ko, koPunches) {\\n    ko.punches.enableAll();\\n    ko.bindingHandlers.numericValue = {\\n        init: function(element, valueAccessor, allBindings, data, context) {\\n            var stringified = ko.observable(ko.unwrap(valueAccessor()));\\n            stringified.subscribe(function(value) {\\n                var val = parseFloat(value);\\n                if (!isNaN(val)) {\\n                    valueAccessor()(val);\\n                }\\n            });\\n            valueAccessor().subscribe(function(value) {\\n                var str = JSON.stringify(value);\\n                if ((str == \\\"0\\\") && ([\\\"-0\\\", \\\"-0.\\\"].indexOf(stringified()) >= 0))\\n                     return;\\n                 if ([\\\"null\\\", \\\"\\\"].indexOf(str) >= 0)\\n                     return;\\n                stringified(str);\\n            });\\n            ko.applyBindingsToNode(\\n                element,\\n                {\\n                    value: stringified,\\n                    valueUpdate: allBindings.get('valueUpdate'),\\n                },\\n                context,\\n            );\\n        }\\n    };\\n    var json_data = {\\\"loading\\\":WebIO.getval({\\\"name\\\":\\\"loading\\\",\\\"scope\\\":\\\"421026280664614174\\\",\\\"id\\\":\\\"ob_53\\\",\\\"type\\\":\\\"observable\\\"}),\\\"clicks\\\":WebIO.getval({\\\"name\\\":\\\"clicks\\\",\\\"scope\\\":\\\"421026280664614174\\\",\\\"id\\\":\\\"ob_52\\\",\\\"type\\\":\\\"observable\\\"})};\\n    var self = this;\\n    function AppViewModel() {\\n        for (var key in json_data) {\\n            var el = json_data[key];\\n            this[key] = Array.isArray(el) ? ko.observableArray(el) : ko.observable(el);\\n        }\\n        \\n        \\n        [this[\\\"loading\\\"].subscribe((function (val){!(this.valueFromJulia[\\\"loading\\\"]) ? (WebIO.setval({\\\"name\\\":\\\"loading\\\",\\\"scope\\\":\\\"421026280664614174\\\",\\\"id\\\":\\\"ob_53\\\",\\\"type\\\":\\\"observable\\\"},val)) : undefined; return this.valueFromJulia[\\\"loading\\\"]=false}),self),this[\\\"clicks\\\"].subscribe((function (val){!(this.valueFromJulia[\\\"clicks\\\"]) ? (WebIO.setval({\\\"name\\\":\\\"clicks\\\",\\\"scope\\\":\\\"421026280664614174\\\",\\\"id\\\":\\\"ob_52\\\",\\\"type\\\":\\\"observable\\\"},val)) : undefined; return this.valueFromJulia[\\\"clicks\\\"]=false}),self)]\\n        \\n    }\\n    self.model = new AppViewModel();\\n    self.valueFromJulia = {};\\n    for (var key in json_data) {\\n        self.valueFromJulia[key] = false;\\n    }\\n    ko.applyBindings(self.model, self.dom);\\n}\\n);\\n    (WebIO.importBlock({\\\"data\\\":[{\\\"name\\\":\\\"knockout\\\",\\\"type\\\":\\\"js\\\",\\\"url\\\":\\\"/assetserver/3bd9b1de736b098e415b41735ebb66f92146af63-knockout.js\\\"},{\\\"name\\\":\\\"knockout_punches\\\",\\\"type\\\":\\\"js\\\",\\\"url\\\":\\\"/assetserver/f693c45e4673819d9631890b2dbb7b49bac52036-knockout_punches.js\\\"}],\\\"type\\\":\\\"async_block\\\"})).then((imports) => handler.apply(this, imports));\\n}\\n\")])], Dict{Symbol,Any}(:className=>\"field interact-widget\")), Node{DOM}(DOM(:html, :div), Any[Scope(Node{DOM}(DOM(:html, :input), Any[], Dict{Symbol,Any}(:max=>6,:min=>1,:attributes=>Dict{Any,Any}(:type=>\"number\",Symbol(\"data-bind\")=>\"numericValue: value, valueUpdate: 'input', event: {change: function (){this.changes(this.changes()+1)}}\"),:step=>1,:placeholder=>\"\",:className=>\"input \",:style=>Dict{Any,Any}())), Dict{String,Tuple{Observables.AbstractObservable,Union{Nothing, Bool}}}(\"changes\"=>(Observable{Int64} with 1 listeners. Value:\n",
       "0, nothing),\"value\"=>(Observable{Union{Nothing, Int64}} with 2 listeners. Value:\n",
       "1, nothing)), Set(String[]), nothing, Asset[Asset(\"js\", \"knockout\", \"/home/smkatz/.julia/packages/Knockout/1sDlc/src/../assets/knockout.js\"), Asset(\"js\", \"knockout_punches\", \"/home/smkatz/.julia/packages/Knockout/1sDlc/src/../assets/knockout_punches.js\"), Asset(\"js\", nothing, \"/home/smkatz/.julia/packages/InteractBase/l8cEC/src/../assets/all.js\"), Asset(\"css\", nothing, \"/home/smkatz/.julia/packages/InteractBase/l8cEC/src/../assets/style.css\"), Asset(\"css\", nothing, \"/home/smkatz/.julia/packages/Interact/0klKX/src/../assets/bulma_confined.min.css\")], Dict{Any,Any}(\"changes\"=>Any[JSString(\"(function (val){return (val!=this.model[\\\"changes\\\"]()) ? (this.valueFromJulia[\\\"changes\\\"]=true, this.model[\\\"changes\\\"](val)) : undefined})\")],\"value\"=>Any[JSString(\"(function (val){return (val!=this.model[\\\"value\\\"]()) ? (this.valueFromJulia[\\\"value\\\"]=true, this.model[\\\"value\\\"](val)) : undefined})\")]), ConnectionPool(Channel{Any}(sz_max:32,sz_curr:0), Set(AbstractConnection[]), Channel{AbstractConnection}(sz_max:32,sz_curr:0)), WebIO.JSString[JSString(\"function () {\\n    var handler = (function (ko, koPunches) {\\n    ko.punches.enableAll();\\n    ko.bindingHandlers.numericValue = {\\n        init: function(element, valueAccessor, allBindings, data, context) {\\n            var stringified = ko.observable(ko.unwrap(valueAccessor()));\\n            stringified.subscribe(function(value) {\\n                var val = parseFloat(value);\\n                if (!isNaN(val)) {\\n                    valueAccessor()(val);\\n                }\\n            });\\n            valueAccessor().subscribe(function(value) {\\n                var str = JSON.stringify(value);\\n                if ((str == \\\"0\\\") && ([\\\"-0\\\", \\\"-0.\\\"].indexOf(stringified()) >= 0))\\n                     return;\\n                 if ([\\\"null\\\", \\\"\\\"].indexOf(str) >= 0)\\n                     return;\\n                stringified(str);\\n            });\\n            ko.applyBindingsToNode(\\n                element,\\n                {\\n                    value: stringified,\\n                    valueUpdate: allBindings.get('valueUpdate'),\\n                },\\n                context,\\n            );\\n        }\\n    };\\n    var json_data = {\\\"changes\\\":WebIO.getval({\\\"name\\\":\\\"changes\\\",\\\"scope\\\":\\\"9119777304825054660\\\",\\\"id\\\":\\\"ob_55\\\",\\\"type\\\":\\\"observable\\\"}),\\\"value\\\":WebIO.getval({\\\"name\\\":\\\"value\\\",\\\"scope\\\":\\\"9119777304825054660\\\",\\\"id\\\":\\\"ob_54\\\",\\\"type\\\":\\\"observable\\\"})};\\n    var self = this;\\n    function AppViewModel() {\\n        for (var key in json_data) {\\n            var el = json_data[key];\\n            this[key] = Array.isArray(el) ? ko.observableArray(el) : ko.observable(el);\\n        }\\n        \\n        \\n        [this[\\\"changes\\\"].subscribe((function (val){!(this.valueFromJulia[\\\"changes\\\"]) ? (WebIO.setval({\\\"name\\\":\\\"changes\\\",\\\"scope\\\":\\\"9119777304825054660\\\",\\\"id\\\":\\\"ob_55\\\",\\\"type\\\":\\\"observable\\\"},val)) : undefined; return this.valueFromJulia[\\\"changes\\\"]=false}),self),this[\\\"value\\\"].subscribe((function (val){!(this.valueFromJulia[\\\"value\\\"]) ? (WebIO.setval({\\\"name\\\":\\\"value\\\",\\\"scope\\\":\\\"9119777304825054660\\\",\\\"id\\\":\\\"ob_54\\\",\\\"type\\\":\\\"observable\\\"},val)) : undefined; return this.valueFromJulia[\\\"value\\\"]=false}),self)]\\n        \\n    }\\n    self.model = new AppViewModel();\\n    self.valueFromJulia = {};\\n    for (var key in json_data) {\\n        self.valueFromJulia[key] = false;\\n    }\\n    ko.applyBindings(self.model, self.dom);\\n}\\n);\\n    (WebIO.importBlock({\\\"data\\\":[{\\\"name\\\":\\\"knockout\\\",\\\"type\\\":\\\"js\\\",\\\"url\\\":\\\"/assetserver/3bd9b1de736b098e415b41735ebb66f92146af63-knockout.js\\\"},{\\\"name\\\":\\\"knockout_punches\\\",\\\"type\\\":\\\"js\\\",\\\"url\\\":\\\"/assetserver/f693c45e4673819d9631890b2dbb7b49bac52036-knockout_punches.js\\\"}],\\\"type\\\":\\\"async_block\\\"})).then((imports) => handler.apply(this, imports));\\n}\\n\")])], Dict{Symbol,Any}(:className=>\"field interact-widget\")), Node{DOM}(DOM(:html, :div), Any[Scope(Node{DOM}(DOM(:html, :div), Any[Node{DOM}(DOM(:html, :div), Any[Node{DOM}(DOM(:html, :label), Any[nothing], Dict{Symbol,Any}(:className=>\"interact \",:style=>Dict{Any,Any}(:padding=>\"5px 10px 0px 10px\")))], Dict{Symbol,Any}(:className=>\"interact-flex-row-left\")), Node{DOM}(DOM(:html, :div), Any[Node{DOM}(DOM(:html, :input), Any[], Dict{Symbol,Any}(:max=>121,:min=>1,:attributes=>Dict{Any,Any}(:type=>\"range\",Symbol(\"data-bind\")=>\"numericValue: index, valueUpdate: 'input', event: {change: function (){this.changes(this.changes()+1)}}\",\"orient\"=>\"horizontal\"),:step=>1,:className=>\"slider slider is-fullwidth\",:style=>Dict{Any,Any}()))], Dict{Symbol,Any}(:className=>\"interact-flex-row-center\")), Node{DOM}(DOM(:html, :div), Any[Node{DOM}(DOM(:html, :p), Any[], Dict{Symbol,Any}(:attributes=>Dict(\"data-bind\"=>\"text: formatted_val\")))], Dict{Symbol,Any}(:className=>\"interact-flex-row-right\"))], Dict{Symbol,Any}(:className=>\"interact-flex-row interact-widget\")), Dict{String,Tuple{Observables.AbstractObservable,Union{Nothing, Bool}}}(\"changes\"=>(Observable{Int64} with 1 listeners. Value:\n",
       "0, nothing),\"index\"=>(Observable{Any} with 2 listeners. Value:\n",
       "1, nothing)), Set(String[]), nothing, Asset[Asset(\"js\", \"knockout\", \"/home/smkatz/.julia/packages/Knockout/1sDlc/src/../assets/knockout.js\"), Asset(\"js\", \"knockout_punches\", \"/home/smkatz/.julia/packages/Knockout/1sDlc/src/../assets/knockout_punches.js\"), Asset(\"js\", nothing, \"/home/smkatz/.julia/packages/InteractBase/l8cEC/src/../assets/all.js\"), Asset(\"css\", nothing, \"/home/smkatz/.julia/packages/InteractBase/l8cEC/src/../assets/style.css\"), Asset(\"css\", nothing, \"/home/smkatz/.julia/packages/Interact/0klKX/src/../assets/bulma_confined.min.css\")], Dict{Any,Any}(\"changes\"=>Any[JSString(\"(function (val){return (val!=this.model[\\\"changes\\\"]()) ? (this.valueFromJulia[\\\"changes\\\"]=true, this.model[\\\"changes\\\"](val)) : undefined})\")],\"index\"=>Any[JSString(\"(function (val){return (val!=this.model[\\\"index\\\"]()) ? (this.valueFromJulia[\\\"index\\\"]=true, this.model[\\\"index\\\"](val)) : undefined})\")]), ConnectionPool(Channel{Any}(sz_max:32,sz_curr:0), Set(AbstractConnection[]), Channel{AbstractConnection}(sz_max:32,sz_curr:0)), WebIO.JSString[JSString(\"function () {\\n    var handler = (function (ko, koPunches) {\\n    ko.punches.enableAll();\\n    ko.bindingHandlers.numericValue = {\\n        init: function(element, valueAccessor, allBindings, data, context) {\\n            var stringified = ko.observable(ko.unwrap(valueAccessor()));\\n            stringified.subscribe(function(value) {\\n                var val = parseFloat(value);\\n                if (!isNaN(val)) {\\n                    valueAccessor()(val);\\n                }\\n            });\\n            valueAccessor().subscribe(function(value) {\\n                var str = JSON.stringify(value);\\n                if ((str == \\\"0\\\") && ([\\\"-0\\\", \\\"-0.\\\"].indexOf(stringified()) >= 0))\\n                     return;\\n                 if ([\\\"null\\\", \\\"\\\"].indexOf(str) >= 0)\\n                     return;\\n                stringified(str);\\n            });\\n            ko.applyBindingsToNode(\\n                element,\\n                {\\n                    value: stringified,\\n                    valueUpdate: allBindings.get('valueUpdate'),\\n                },\\n                context,\\n            );\\n        }\\n    };\\n    var json_data = {\\\"formatted_vals\\\":[\\\"0.0\\\",\\\"1.0\\\",\\\"2.0\\\",\\\"3.0\\\",\\\"4.0\\\",\\\"5.0\\\",\\\"6.0\\\",\\\"7.0\\\",\\\"8.0\\\",\\\"9.0\\\",\\\"10.0\\\",\\\"11.0\\\",\\\"12.0\\\",\\\"13.0\\\",\\\"14.0\\\",\\\"15.0\\\",\\\"16.0\\\",\\\"17.0\\\",\\\"18.0\\\",\\\"19.0\\\",\\\"20.0\\\",\\\"21.0\\\",\\\"22.0\\\",\\\"23.0\\\",\\\"24.0\\\",\\\"25.0\\\",\\\"26.0\\\",\\\"27.0\\\",\\\"28.0\\\",\\\"29.0\\\",\\\"30.0\\\",\\\"31.0\\\",\\\"32.0\\\",\\\"33.0\\\",\\\"34.0\\\",\\\"35.0\\\",\\\"36.0\\\",\\\"37.0\\\",\\\"38.0\\\",\\\"39.0\\\",\\\"40.0\\\",\\\"41.0\\\",\\\"42.0\\\",\\\"43.0\\\",\\\"44.0\\\",\\\"45.0\\\",\\\"46.0\\\",\\\"47.0\\\",\\\"48.0\\\",\\\"49.0\\\",\\\"50.0\\\",\\\"51.0\\\",\\\"52.0\\\",\\\"53.0\\\",\\\"54.0\\\",\\\"55.0\\\",\\\"56.0\\\",\\\"57.0\\\",\\\"58.0\\\",\\\"59.0\\\",\\\"60.0\\\",\\\"61.0\\\",\\\"62.0\\\",\\\"63.0\\\",\\\"64.0\\\",\\\"65.0\\\",\\\"66.0\\\",\\\"67.0\\\",\\\"68.0\\\",\\\"69.0\\\",\\\"70.0\\\",\\\"71.0\\\",\\\"72.0\\\",\\\"73.0\\\",\\\"74.0\\\",\\\"75.0\\\",\\\"76.0\\\",\\\"77.0\\\",\\\"78.0\\\",\\\"79.0\\\",\\\"80.0\\\",\\\"81.0\\\",\\\"82.0\\\",\\\"83.0\\\",\\\"84.0\\\",\\\"85.0\\\",\\\"86.0\\\",\\\"87.0\\\",\\\"88.0\\\",\\\"89.0\\\",\\\"90.0\\\",\\\"91.0\\\",\\\"92.0\\\",\\\"93.0\\\",\\\"94.0\\\",\\\"95.0\\\",\\\"96.0\\\",\\\"97.0\\\",\\\"98.0\\\",\\\"99.0\\\",\\\"100.0\\\",\\\"101.0\\\",\\\"102.0\\\",\\\"103.0\\\",\\\"104.0\\\",\\\"105.0\\\",\\\"106.0\\\",\\\"107.0\\\",\\\"108.0\\\",\\\"109.0\\\",\\\"110.0\\\",\\\"111.0\\\",\\\"112.0\\\",\\\"113.0\\\",\\\"114.0\\\",\\\"115.0\\\",\\\"116.0\\\",\\\"117.0\\\",\\\"118.0\\\",\\\"119.0\\\",\\\"120.0\\\"],\\\"changes\\\":WebIO.getval({\\\"name\\\":\\\"changes\\\",\\\"scope\\\":\\\"7683066898467315563\\\",\\\"id\\\":\\\"ob_58\\\",\\\"type\\\":\\\"observable\\\"}),\\\"index\\\":WebIO.getval({\\\"name\\\":\\\"index\\\",\\\"scope\\\":\\\"7683066898467315563\\\",\\\"id\\\":\\\"ob_57\\\",\\\"type\\\":\\\"observable\\\"})};\\n    var self = this;\\n    function AppViewModel() {\\n        for (var key in json_data) {\\n            var el = json_data[key];\\n            this[key] = Array.isArray(el) ? ko.observableArray(el) : ko.observable(el);\\n        }\\n        \\n        [this[\\\"formatted_val\\\"]=ko.computed(    function(){\\n        return this.formatted_vals()[parseInt(this.index())-(1)];\\n    }\\n,this)]\\n        [this[\\\"changes\\\"].subscribe((function (val){!(this.valueFromJulia[\\\"changes\\\"]) ? (WebIO.setval({\\\"name\\\":\\\"changes\\\",\\\"scope\\\":\\\"7683066898467315563\\\",\\\"id\\\":\\\"ob_58\\\",\\\"type\\\":\\\"observable\\\"},val)) : undefined; return this.valueFromJulia[\\\"changes\\\"]=false}),self),this[\\\"index\\\"].subscribe((function (val){!(this.valueFromJulia[\\\"index\\\"]) ? (WebIO.setval({\\\"name\\\":\\\"index\\\",\\\"scope\\\":\\\"7683066898467315563\\\",\\\"id\\\":\\\"ob_57\\\",\\\"type\\\":\\\"observable\\\"},val)) : undefined; return this.valueFromJulia[\\\"index\\\"]=false}),self)]\\n        \\n    }\\n    self.model = new AppViewModel();\\n    self.valueFromJulia = {};\\n    for (var key in json_data) {\\n        self.valueFromJulia[key] = false;\\n    }\\n    ko.applyBindings(self.model, self.dom);\\n}\\n);\\n    (WebIO.importBlock({\\\"data\\\":[{\\\"name\\\":\\\"knockout\\\",\\\"type\\\":\\\"js\\\",\\\"url\\\":\\\"/assetserver/3bd9b1de736b098e415b41735ebb66f92146af63-knockout.js\\\"},{\\\"name\\\":\\\"knockout_punches\\\",\\\"type\\\":\\\"js\\\",\\\"url\\\":\\\"/assetserver/f693c45e4673819d9631890b2dbb7b49bac52036-knockout_punches.js\\\"}],\\\"type\\\":\\\"async_block\\\"})).then((imports) => handler.apply(this, imports));\\n}\\n\")])], Dict{Symbol,Any}(:className=>\"field interact-widget\")), Observable{Any} with 0 listeners. Value:\n",
       "Node{DOM}(DOM(:html, :div), Any[GroupPlot(Axis[Axis(PGFPlots.Plots.Plot[Image(\"tmp_10000000000076.png\", -2, 2, -2, 2, 0.0, 2.0, nothing, false, nothing, RGBArrayMap(RGB{Float64}[RGB{Float64}(1.0,1.0,1.0)], 0x0000000000000000), nothing), Node(\"Horizontal Range: 3413\", nothing, 0, -0.82, nothing)], nothing, nothing, nothing, nothing, nothing, nothing, nothing, nothing, nothing, nothing, nothing, nothing, nothing, nothing, nothing, nothing, \"10 cm\", \"2cm\", nothing, nothing, nothing, nothing, nothing, nothing, nothing, true, nothing, \"axis\"), Axis(PGFPlots.Plots.Plot[Image(\"tmp_10000000000077.png\", -2, 2, -2, 2, 0.0, 2.0, nothing, false, nothing, RGBArrayMap(RGB{Float64}[RGB{Float64}(1.0,1.0,1.0)], 0x0000000000000000), nothing), Node(\"Vertical Range: 38.51\", nothing, 0, -0.82, nothing)], nothing, nothing, nothing, nothing, nothing, nothing, nothing, nothing, nothing, nothing, nothing, nothing, nothing, nothing, nothing, nothing, \"10 cm\", \"2cm\", nothing, nothing, nothing, nothing, nothing, nothing, nothing, true, nothing, \"axis\"), Axis(PGFPlots.Plots.Plot[Image(\"tmp_10000000000078.png\", -2, 2, -2, 2, 0.0, 2.0, nothing, false, nothing, RGBArrayMap(RGB{Float64}[RGB{Float64}(1.0,1.0,1.0)], 0x0000000000000000), nothing)], nothing, nothing, nothing, nothing, nothing, nothing, nothing, nothing, nothing, nothing, nothing, nothing, nothing, nothing, nothing, nothing, \"6cm\", \"2cm\", nothing, nothing, nothing, nothing, nothing, nothing, nothing, true, nothing, \"axis\"), Axis(PGFPlots.Plots.Plot[Linear(Real[-1198.96 -1156.14 … 1376.05 1376.16; 0.0 0.0 … 0.0 0.0], \"none\", nothing, \"black\", nothing, nothing, nothing), Linear(Real[-221.197 -203.354 … 1939.64 1958.34; 354.944 349.917 … -61.9442 -62.8254], \"none\", nothing, \"black\", nothing, nothing, nothing), Command(\"\\\\node[aircraft top,fill=teal,draw=white, minimum width=1.5cm,rotate=0.0,scale = 0.30] at (axis cs:-1198.956166063341, 0.0) {};\"), Command(\"\\\\node[aircraft top,fill=black,draw=white, minimum width=1.5cm,rotate=-15.734263859827466,scale = 0.30] at (axis cs:-221.1969191208443, 354.9436850366737) {};\"), Scatter(Any[-1198.96 -1156.14 … 1376.05 1376.16; 0.0 0.0 … 0.0 0.0; \"ra_1\" \"ra_1\" … \"ra_1\" \"ra_1\"], nothing, nothing, nothing, nothing, true, \"{ra_1={mark=none},ra_2={mark=*, style={ra_2, mark size=1}},ra_3={mark=*, style={ra_3, mark size=1}},ra_4={mark=*, style={ra_4, mark size=1}},ra_5={mark=*, style={ra_5, mark size=1}}}\"), Scatter(Any[-221.197 -203.354 … 1939.64 1958.34; 354.944 349.917 … -61.9442 -62.8254; \"ra_1\" \"ra_1\" … \"ra_1\" \"ra_1\"], nothing, nothing, nothing, nothing, true, \"{ra_1={mark=none},ra_2={mark=*, style={ra_2, mark size=1}},ra_3={mark=*, style={ra_3, mark size=1}},ra_4={mark=*, style={ra_4, mark size=1}},ra_5={mark=*, style={ra_5, mark size=1}}}\")], \"Ground Track\", \"East (m)\", nothing, \"North (m)\", nothing, nothing, nothing, nothing, nothing, nothing, nothing, true, nothing, nothing, nothing, nothing, \"10cm\", \"8cm\", nothing, nothing, nothing, nothing, nothing, nothing, nothing, nothing, nothing, \"axis\"), Axis(PGFPlots.Plots.Plot[Linear(Real[0.0 1.0 … 119.0 120.0; 461.257 461.257 … 2.46804e-8 -1.26399e-13], \"none\", nothing, \"black\", nothing, nothing, nothing), Linear(Real[0.0 1.0 … 119.0 120.0; 422.748 423.831 … 479.581 479.016], \"none\", nothing, \"black\", nothing, nothing, nothing), Command(\"\\\\node[aircraft side,fill=teal,draw=white, minimum width=1.5cm,rotate=0,scale = 0.3] at (axis cs:0.0, 461.2574213474757) {};\"), Command(\"\\\\node[aircraft side,fill=black,draw=white, minimum width=1.5cm,rotate=0,scale = 0.3] at (axis cs:0.0, 422.7480915185685) {};\"), Scatter(Any[0.0 1.0 … 119.0 120.0; 461.257 461.257 … 2.46804e-8 -1.26399e-13; \"ra_1\" \"ra_1\" … \"ra_1\" \"ra_1\"], nothing, nothing, nothing, nothing, true, \"{ra_1={mark=none},ra_2={mark=*, style={ra_2, mark size=1}},ra_3={mark=*, style={ra_3, mark size=1}},ra_4={mark=*, style={ra_4, mark size=1}},ra_5={mark=*, style={ra_5, mark size=1}}}\"), Scatter(Any[0.0 1.0 … 119.0 120.0; 422.748 423.831 … 479.581 479.016; \"ra_1\" \"ra_1\" … \"ra_1\" \"ra_1\"], nothing, nothing, nothing, nothing, true, \"{ra_1={mark=none},ra_2={mark=*, style={ra_2, mark size=1}},ra_3={mark=*, style={ra_3, mark size=1}},ra_4={mark=*, style={ra_4, mark size=1}},ra_5={mark=*, style={ra_5, mark size=1}}}\")], \"Vertical Profile\", \"Time (s)\", nothing, \"Altitude (ft)\", nothing, nothing, nothing, nothing, nothing, nothing, nothing, nothing, nothing, nothing, nothing, nothing, \"10cm\", \"8cm\", nothing, nothing, nothing, nothing, nothing, nothing, nothing, nothing, nothing, \"axis\"), Axis(PGFPlots.Plots.Plot[Image(\"tmp_10000000000079.png\", -2, 2, -2, 2, 0.0, 2.0, nothing, false, nothing, RGBArrayMap(RGB{Float64}[RGB{Float64}(1.0,1.0,1.0)], 0x0000000000000000), nothing), Scatter(Any[-0.8 -0.8 … -0.8 -0.8; 1.65 1.15 … 0.15 -0.35; \"ra_1\" \"ra_2\" … \"ra_4\" \"ra_5\"], nothing, nothing, nothing, nothing, true, \"{ra_1={mark=square, style={black, mark options={fill=ra_1}, mark size=6}},ra_2={style={ra_2, mark size=6}},ra_3={style={ra_3, mark size=6}},ra_4={style={ra_4, mark size=6}},ra_5={style={ra_5, mark size=6}}}\"), Node(\"RA 1: COC \", \"black,anchor=west\", 0.38, 0.915, \"axis description cs\"), Node(\"RA 2: DNC \", \"black,anchor=west\", 0.38, 0.79, \"axis description cs\"), Node(\"RA 3: DND\", \"black,anchor=west\", 0.38, 0.665, \"axis description cs\"), Node(\"RA 4: CL250\", \"black,anchor=west\", 0.38, 0.54, \"axis description cs\"), Node(\"RA 5: SCL450 \", \"black,anchor=west\", 0.38, 0.415, \"axis description cs\")], \"KEY\", nothing, nothing, nothing, nothing, nothing, nothing, nothing, nothing, nothing, nothing, nothing, nothing, nothing, nothing, nothing, \"6cm\", \"8cm\", nothing, nothing, nothing, nothing, nothing, nothing, nothing, true, nothing, \"axis\")], (3, 2), nothing, \"horizontal sep=2cm, vertical sep=2cm\")], Dict{Symbol,Any}(:className=>\"interact-flex-row interact-widget\"))], Dict{Symbol,Any}())"
      ]
     },
     "execution_count": 26,
     "metadata": {
      "application/vnd.webio.node+json": {
       "kernelId": "2b84e950-cac3-40e5-bda6-77838ec0d286"
      }
     },
     "output_type": "execute_result"
    }
   ],
   "source": [
    "encounter_viewer(sim.sim_out) #, alert_type=:speed)"
   ]
  },
  {
   "cell_type": "code",
   "execution_count": 41,
   "metadata": {},
   "outputs": [
    {
     "data": {
      "text/plain": [
       "convert_h5_to_bin (generic function with 1 method)"
      ]
     },
     "execution_count": 41,
     "metadata": {},
     "output_type": "execute_result"
    }
   ],
   "source": [
    "include(\"../src/Xr.jl\")"
   ]
  },
  {
   "cell_type": "code",
   "execution_count": 42,
   "metadata": {},
   "outputs": [],
   "source": [
    "sim = simulation()\n",
    "sim.acs[1] = uam_speed(q_file = \"../data_files/test_speed.bin\")\n",
    "sim.enc_file = \"../data_files/uam_uam.bin\";"
   ]
  },
  {
   "cell_type": "code",
   "execution_count": 43,
   "metadata": {
    "scrolled": true
   },
   "outputs": [
    {
     "name": "stdout",
     "output_type": "stream",
     "text": [
      "1\n",
      "2.7488732509450213\n",
      "accel_noise: -0.8462183625349542\n",
      "accels_speed[action]: -1.288\n",
      "BELIEF_STATE(MDP_STATE[SPEED_STATE(3797.43, 0.553305, 0.00959963, 97.5686, 6.10524e-13, 1, 0.0)], [1.0])\n",
      "PHYSICAL_STATE([989.134, 608.245, 550.837], [-29.7389, -3.31329e-10, 0.0], [2.13422, 2.37782e-11, 0.0], -3.141592653578652)\n",
      "PHYSICAL_STATE([4.37966, 8.0317e-12, 3.80887e-14], [-1.86079e-13, -1.78635e-15, 0.0], [0.0, 0.0, 0.0], -3.131993020313196)\n",
      "\n",
      "1\n",
      "1.5485923312163392\n",
      "accel_noise: 0.08567676147799755\n",
      "accels_speed[action]: -1.288\n",
      "BELIEF_STATE(MDP_STATE[SPEED_STATE(3716.43, 0.566823, 0.00959963, 93.624, 6.10524e-13, 1, 0.0)], [1.0])\n",
      "PHYSICAL_STATE([959.996, 608.245, 550.837], [-28.5366, -3.17933e-10, 0.0], [1.20232, 1.33956e-11, 0.0], -3.141592653578652)\n",
      "PHYSICAL_STATE([4.37966, 8.02991e-12, 3.80887e-14], [-1.86079e-13, -1.78635e-15, 0.0], [0.0, 0.0, 0.0], -3.131993020313196)\n",
      "\n",
      "3\n",
      "4.3881662463758815\n",
      "accel_noise: 0.8725193142950773\n",
      "accels_speed[action]: -2.576\n",
      "BELIEF_STATE(MDP_STATE[SPEED_STATE(3640.14, 0.580221, 0.00959963, 88.0351, 6.10524e-13, 3, 0.0)], [1.0])\n",
      "PHYSICAL_STATE([932.311, 608.245, 550.837], [-26.8331, -2.98954e-10, 0.0], [1.70348, 1.89792e-11, 0.0], -3.141592653578652)\n",
      "PHYSICAL_STATE([4.37966, 8.02813e-12, 3.80887e-14], [-1.86079e-13, -1.78635e-15, 0.0], [0.0, 0.0, 0.0], -3.131993020313196)\n",
      "\n",
      "3\n",
      "6.563417415222582\n",
      "accel_noise: 0.028089512724152926\n",
      "accels_speed[action]: -2.576\n",
      "BELIEF_STATE(MDP_STATE[SPEED_STATE(3570.3, 0.593097, 0.00959963, 79.6758, 6.10524e-13, 3, 0.0)], [1.0])\n",
      "PHYSICAL_STATE([906.752, 608.245, 550.837], [-24.2852, -2.70567e-10, 0.0], [2.54791, 2.83874e-11, 0.0], -3.141592653578652)\n",
      "PHYSICAL_STATE([4.37966, 8.02634e-12, 3.80887e-14], [-1.86079e-13, -1.78635e-15, 0.0], [0.0, 0.0, 0.0], -3.131993020313196)\n",
      "\n",
      "3\n",
      "8.685908807535643\n",
      "accel_noise: -0.7958590091365071\n",
      "accels_speed[action]: -2.576\n",
      "BELIEF_STATE(MDP_STATE[SPEED_STATE(3509.06, 0.604908, 0.00959963, 68.6133, 6.10524e-13, 3, 0.0)], [1.0])\n",
      "PHYSICAL_STATE([884.153, 608.245, 550.837], [-20.9133, -2.33e-10, 0.0], [3.37186, 3.75673e-11, 0.0], -3.1415926535786522)\n",
      "PHYSICAL_STATE([4.37966, 8.02455e-12, 3.80887e-14], [-1.86079e-13, -1.78635e-15, 0.0], [0.0, 0.0, 0.0], -3.131993020313196)\n",
      "\n",
      "3\n",
      "5.806639638415829\n",
      "accel_noise: 0.3218697055839175\n",
      "accels_speed[action]: -2.576\n",
      "BELIEF_STATE(MDP_STATE[SPEED_STATE(3455.86, 0.61559, 0.00959963, 61.2179, 6.10524e-13, 3, 0.0)], [1.0])\n",
      "PHYSICAL_STATE([864.367, 608.245, 550.837], [-18.6592, -2.07886e-10, 0.0], [2.25413, 2.51132e-11, 0.0], -3.141592653578652)\n",
      "PHYSICAL_STATE([4.37966, 8.02277e-12, 3.80887e-14], [-1.86079e-13, -1.78635e-15, 0.0], [0.0, 0.0, 0.0], -3.131993020313196)\n",
      "\n",
      "3\n",
      "6.272203386288405\n",
      "accel_noise: 0.14113843699984271\n",
      "accels_speed[action]: -2.576\n",
      "BELIEF_STATE(MDP_STATE[SPEED_STATE(3409.3, 0.625282, 0.00959963, 53.2295, 6.10524e-13, 3, 0.0)], [1.0])\n",
      "PHYSICAL_STATE([846.925, 608.245, 550.837], [-16.2243, -1.80758e-10, 0.0], [2.43486, 2.71278e-11, 0.0], -3.1415926535786522)\n",
      "PHYSICAL_STATE([4.37966, 8.02098e-12, 3.80887e-14], [-1.86079e-13, -1.78635e-15, 0.0], [0.0, 0.0, 0.0], -3.131993020313196)\n",
      "\n",
      "3\n",
      "7.670196703228741\n",
      "accel_noise: -0.40156083199873477\n",
      "accels_speed[action]: -2.576\n",
      "BELIEF_STATE(MDP_STATE[SPEED_STATE(3370.22, 0.633679, 0.00959963, 43.4606, 6.10524e-13, 3, 0.0)], [1.0])\n",
      "PHYSICAL_STATE([832.189, 608.245, 550.837], [-13.2468, -1.47585e-10, 0.0], [2.97756, 3.3173e-11, 0.0], -3.141592653578652)\n",
      "PHYSICAL_STATE([4.37966, 8.01919e-12, 3.80887e-14], [-1.86079e-13, -1.78635e-15, 0.0], [0.0, 0.0, 0.0], -3.131993020313196)\n",
      "\n",
      "3\n",
      "9.328714921903718\n",
      "accel_noise: -1.0453955442172813\n",
      "accels_speed[action]: -2.576\n",
      "BELIEF_STATE(MDP_STATE[SPEED_STATE(3340.06, 0.64033, 0.00959963, 31.5794, 6.10524e-13, 3, 0.0)], [1.0])\n",
      "PHYSICAL_STATE([820.753, 608.245, 550.837], [-9.62539, -1.07238e-10, 0.0], [3.6214, 4.03475e-11, 0.0], -3.1415926535786522)\n",
      "PHYSICAL_STATE([4.37966, 8.01741e-12, 3.80887e-14], [-1.86079e-13, -1.78635e-15, 0.0], [0.0, 0.0, 0.0], -3.131993020313196)\n",
      "\n",
      "3\n",
      "5.782148688010856\n",
      "accel_noise: 0.33137706210758716\n",
      "accels_speed[action]: -2.576\n",
      "BELIEF_STATE(MDP_STATE[SPEED_STATE(3317.73, 0.645354, 0.00959963, 24.2151, 6.10524e-13, 3, 0.0)], [1.0])\n",
      "PHYSICAL_STATE([812.25, 608.245, 550.837], [-7.38076, -8.22306e-11, 0.0], [2.24462, 2.50073e-11, 0.0], -3.1415926535786522)\n",
      "PHYSICAL_STATE([4.37966, 8.01562e-12, 3.80887e-14], [-1.86079e-13, -1.78635e-15, 0.0], [0.0, 0.0, 0.0], -3.131993020313196)\n",
      "\n",
      "3\n",
      "8.049269656141641\n",
      "accel_noise: -0.5487164814214444\n",
      "accels_speed[action]: -2.576\n",
      "BELIEF_STATE(MDP_STATE[SPEED_STATE(3302.5, 0.648831, 0.00959963, 13.9634, 6.10524e-13, 3, 0.0)], [1.0])\n",
      "PHYSICAL_STATE([806.432, 608.245, 550.837], [-4.25605, -4.74182e-11, 0.0], [3.12472, 3.48124e-11, 0.0], -3.141592653578652)\n",
      "PHYSICAL_STATE([4.37966, 8.01384e-12, 3.80887e-14], [-1.86079e-13, -1.78635e-15, 0.0], [0.0, 0.0, 0.0], -3.131993020313196)\n",
      "\n",
      "3\n",
      "5.9471962405636125\n",
      "accel_noise: 0.26730580723462266\n",
      "accels_speed[action]: -2.576\n",
      "BELIEF_STATE(MDP_STATE[SPEED_STATE(3294.4, 0.650697, 0.00959963, 6.38896, 6.10524e-13, 3, 0.0)], [1.0])\n",
      "PHYSICAL_STATE([803.33, 608.245, 550.837], [-1.94735, -2.1696e-11, 0.0], [2.30869, 2.57222e-11, 0.0], -3.141592653578652)\n",
      "PHYSICAL_STATE([4.37966, 8.01205e-12, 3.80887e-14], [-1.86079e-13, -1.78635e-15, 0.0], [0.0, 0.0, 0.0], -3.131993020313196)\n",
      "\n",
      "3\n",
      "8.720980897473002\n",
      "accel_noise: -0.8094739508823761\n",
      "accels_speed[action]: -2.576\n",
      "BELIEF_STATE(MDP_STATE[SPEED_STATE(3291.86, 0.651285, 0.00959963, 9.53805e-16, 6.10524e-13, 3, 0.0)], [1.0])\n",
      "PHYSICAL_STATE([802.357, 608.245, 550.837], [0.0, 2.9072e-16, 0.0], [1.94735, 2.16963e-11, 0.0], -3.141592653578652)\n",
      "PHYSICAL_STATE([4.37966, 8.01026e-12, 3.80887e-14], [-1.86079e-13, -1.78635e-15, 0.0], [0.0, 0.0, 0.0], -3.131993020313196)\n",
      "\n",
      "1\n",
      "1.8062289657984143\n",
      "accel_noise: -0.11435168152050781\n",
      "accels_speed[action]: -1.288\n",
      "BELIEF_STATE(MDP_STATE[SPEED_STATE(3291.86, 0.651285, 0.00959963, 5.84037e-32, 6.10524e-13, 1, 0.0)], [1.0])\n",
      "PHYSICAL_STATE([802.357, 608.245, 550.837], [-1.78014e-32, 0.0, 0.0], [-1.78014e-32, -2.9072e-16, 0.0], -3.141592653578652)\n",
      "PHYSICAL_STATE([4.37966, 8.00848e-12, 3.80887e-14], [-1.86079e-13, -1.78635e-15, 0.0], [0.0, 0.0, 0.0], -3.131993020313196)\n",
      "\n",
      "1\n",
      "2.0571507074422204\n",
      "accel_noise: -0.3091666983247053\n",
      "accels_speed[action]: -1.288\n",
      "BELIEF_STATE(MDP_STATE[SPEED_STATE(3291.86, 0.651285, 0.00959963, 7.15239e-48, 6.10524e-13, 1, 0.0)], [1.0])\n",
      "PHYSICAL_STATE([802.357, 608.245, 550.837], [0.0, -2.18005e-48, 0.0], [1.78014e-32, -2.18005e-48, 0.0], -3.141592653578652)\n",
      "PHYSICAL_STATE([4.37966, 8.00669e-12, 3.80887e-14], [-1.86079e-13, -1.78635e-15, 0.0], [0.0, 0.0, 0.0], -3.131993020313196)\n",
      "\n",
      "1\n",
      "3.2351398464683743\n",
      "accel_noise: -1.2237545391835203\n",
      "accels_speed[action]: -1.288\n",
      "BELIEF_STATE(MDP_STATE[SPEED_STATE(3291.86, 0.651285, 0.00959963, 4.37958e-64, 6.10524e-13, 1, 0.0)], [1.0])\n",
      "PHYSICAL_STATE([802.357, 608.245, 550.837], [-1.33489e-64, 0.0, 0.0], [-1.33489e-64, 2.18005e-48, 0.0], -3.141592653578652)\n",
      "PHYSICAL_STATE([4.37966, 8.0049e-12, 3.80887e-14], [-1.86079e-13, -1.78635e-15, 0.0], [0.0, 0.0, 0.0], -3.131993020313196)\n",
      "\n",
      "1\n",
      "2.4165400982132694\n",
      "accel_noise: -0.5881957284264512\n",
      "accels_speed[action]: -1.288\n",
      "BELIEF_STATE(MDP_STATE[SPEED_STATE(3291.86, 0.651285, 0.00959963, 5.36343e-80, 6.10524e-13, 1, 0.0)], [1.0])\n",
      "PHYSICAL_STATE([802.357, 608.245, 550.837], [0.0, -1.63477e-80, 0.0], [1.33489e-64, -1.63477e-80, 0.0], -3.141592653578652)\n",
      "PHYSICAL_STATE([4.37966, 8.00312e-12, 3.80887e-14], [-1.86079e-13, -1.78635e-15, 0.0], [0.0, 0.0, 0.0], -3.131993020313196)\n",
      "\n",
      "1\n",
      "1.1537866497446998\n",
      "accel_noise: 0.39220291168889765\n",
      "accels_speed[action]: -1.288\n",
      "BELIEF_STATE(MDP_STATE[SPEED_STATE(3291.86, 0.651285, 0.00959963, 3.28416e-96, 6.10524e-13, 1, 0.0)], [1.0])\n",
      "PHYSICAL_STATE([802.357, 608.245, 550.837], [-1.00101e-96, 0.0, 0.0], [-1.00101e-96, 1.63477e-80, 0.0], -3.141592653578652)\n",
      "PHYSICAL_STATE([4.37966, 8.00133e-12, 3.80887e-14], [-1.86079e-13, -1.78635e-15, 0.0], [0.0, 0.0, 0.0], -3.131993020313196)\n",
      "\n",
      "1\n",
      "1.4674475261373083\n",
      "accel_noise: 0.1486773865393569\n",
      "accels_speed[action]: -1.288\n",
      "BELIEF_STATE(MDP_STATE[SPEED_STATE(3291.86, 0.651285, 0.00959963, 4.02193e-112, 6.10524e-13, 1, 0.0)], [1.0])\n",
      "PHYSICAL_STATE([802.357, 608.245, 550.837], [0.0, -1.22588e-112, 0.0], [1.00101e-96, -1.22588e-112, 0.0], -3.141592653578652)\n",
      "PHYSICAL_STATE([4.37966, 7.99954e-12, 3.80887e-14], [-1.86079e-13, -1.78635e-15, 0.0], [0.0, 0.0, 0.0], -3.131993020313196)\n",
      "\n",
      "1\n",
      "2.6223385470647833\n",
      "accel_noise: -0.7479771328142728\n",
      "accels_speed[action]: -1.288\n",
      "BELIEF_STATE(MDP_STATE[SPEED_STATE(3291.86, 0.651285, 0.00959963, 2.46272e-128, 6.10524e-13, 1, 0.0)], [1.0])\n",
      "PHYSICAL_STATE([802.357, 608.245, 550.837], [-7.50638e-129, 0.0, 0.0], [-7.50638e-129, 1.22588e-112, 0.0], -3.141592653578652)\n",
      "PHYSICAL_STATE([4.37966, 7.99776e-12, 3.80887e-14], [-1.86079e-13, -1.78635e-15, 0.0], [0.0, 0.0, 0.0], -3.131993020313196)\n",
      "\n",
      "1\n",
      "-0.015601498754229084\n",
      "accel_noise: 1.300112964871296\n",
      "accels_speed[action]: -1.288\n",
      "BELIEF_STATE(MDP_STATE[SPEED_STATE(3291.86, 0.651285, 0.00959963, 2.46272e-128, 6.10524e-13, 1, 0.0)], [1.0])\n",
      "PHYSICAL_STATE([802.357, 608.245, 550.837], [-7.50638e-129, 0.0, 0.0], [-0.0, 0.0, 0.0], -3.141592653578652)\n",
      "PHYSICAL_STATE([4.37966, 7.99597e-12, 3.80887e-14], [-1.86079e-13, -1.78635e-15, 0.0], [0.0, 0.0, 0.0], -3.131993020313196)\n",
      "\n",
      "1\n",
      "2.0615607521126655\n",
      "accel_noise: -0.3125906460502062\n",
      "accels_speed[action]: -1.288\n",
      "BELIEF_STATE(MDP_STATE[SPEED_STATE(3291.86, 0.651285, 0.00959963, 3.01597e-144, 6.10524e-13, 1, 0.0)], [1.0])\n",
      "PHYSICAL_STATE([802.357, 608.245, 550.837], [0.0, -9.19266e-145, 0.0], [7.50638e-129, -9.19266e-145, 0.0], -3.141592653578652)\n",
      "PHYSICAL_STATE([4.37966, 7.99419e-12, 3.80887e-14], [-1.86079e-13, -1.78635e-15, 0.0], [0.0, 0.0, 0.0], -3.131993020313196)\n",
      "\n",
      "1\n",
      "1.2377020306861628\n",
      "accel_noise: 0.32705121841136436\n",
      "accels_speed[action]: -1.288\n",
      "BELIEF_STATE(MDP_STATE[SPEED_STATE(3291.86, 0.651285, 0.00959963, 1.84632e-160, 6.10524e-13, 1, 0.0)], [1.0])\n",
      "PHYSICAL_STATE([802.357, 608.245, 550.837], [-5.62888e-161, 0.0, 0.0], [-5.62888e-161, 9.19266e-145, 0.0], -3.141592653578652)\n",
      "PHYSICAL_STATE([4.37966, 7.9924e-12, 3.80887e-14], [-1.86079e-13, -1.78635e-15, 0.0], [0.0, 0.0, 0.0], -3.131993020313196)\n",
      "\n",
      "1\n",
      "1.2666683165935326\n",
      "accel_noise: 0.3045618659988102\n",
      "accels_speed[action]: -1.288\n"
     ]
    },
    {
     "name": "stdout",
     "output_type": "stream",
     "text": [
      "BELIEF_STATE(MDP_STATE[SPEED_STATE(3291.86, 0.651285, 0.00959963, 4.28469e-164, 6.10524e-13, 1, 0.0)], [1.0])\n",
      "PHYSICAL_STATE([802.357, 608.245, 550.837], [-1.30597e-164, -6.89179e-177, 0.0], [5.62758e-161, -6.89179e-177, 0.0], -3.141592653578652)\n",
      "PHYSICAL_STATE([4.37966, 7.99061e-12, 3.80887e-14], [-1.86079e-13, -1.78635e-15, 0.0], [0.0, 0.0, 0.0], -3.131993020313196)\n",
      "\n",
      "1\n",
      "0.8828846861697153\n",
      "accel_noise: 0.602530523160159\n",
      "accels_speed[action]: -1.288\n",
      "BELIEF_STATE(MDP_STATE[SPEED_STATE(3291.86, 0.651285, 0.00959963, 5.17617e-181, 6.10524e-13, 1, 0.0)], [1.0])\n",
      "PHYSICAL_STATE([802.357, 608.245, 550.837], [0.0, -1.5777e-181, 0.0], [1.30597e-164, 6.89163e-177, 0.0], -3.141592653578652)\n",
      "PHYSICAL_STATE([4.37966, 7.98883e-12, 3.80887e-14], [-1.86079e-13, -1.78635e-15, 0.0], [0.0, 0.0, 0.0], -3.131993020313196)\n",
      "\n",
      "1\n",
      "0.5798342354287429\n",
      "accel_noise: 0.8378181401950754\n",
      "accels_speed[action]: -1.288\n",
      "BELIEF_STATE(MDP_STATE[SPEED_STATE(3291.86, 0.651285, 0.00959963, 3.16949e-197, 6.10524e-13, 1, 0.0)], [1.0])\n",
      "PHYSICAL_STATE([802.357, 608.245, 550.837], [-9.6606e-198, 0.0, 0.0], [-9.6606e-198, 1.5777e-181, 0.0], -3.141592653578652)\n",
      "PHYSICAL_STATE([4.37966, 7.98704e-12, 3.80887e-14], [-1.86079e-13, -1.78635e-15, 0.0], [0.0, 0.0, 0.0], -3.131993020313196)\n",
      "\n",
      "1\n",
      "2.5538317134412543\n",
      "accel_noise: -0.6947885973922779\n",
      "accels_speed[action]: -1.288\n",
      "BELIEF_STATE(MDP_STATE[SPEED_STATE(3291.86, 0.651285, 0.00959963, 3.8815e-213, 6.10524e-13, 1, 0.0)], [1.0])\n",
      "PHYSICAL_STATE([802.357, 608.245, 550.837], [0.0, -1.18308e-213, 0.0], [9.6606e-198, -1.18308e-213, 0.0], -3.141592653578652)\n",
      "PHYSICAL_STATE([4.37966, 7.98525e-12, 3.80887e-14], [-1.86079e-13, -1.78635e-15, 0.0], [0.0, 0.0, 0.0], -3.131993020313196)\n",
      "\n",
      "1\n",
      "0.794916130497561\n",
      "accel_noise: 0.6708290912286017\n",
      "accels_speed[action]: -1.288\n",
      "BELIEF_STATE(MDP_STATE[SPEED_STATE(3291.86, 0.651285, 0.00959963, 2.37674e-229, 6.10524e-13, 1, 0.0)], [1.0])\n",
      "PHYSICAL_STATE([802.357, 608.245, 550.837], [-7.24429e-230, 0.0, 0.0], [-7.24429e-230, 1.18308e-213, 0.0], -3.141592653578652)\n",
      "PHYSICAL_STATE([4.37966, 7.98347e-12, 3.80887e-14], [-1.86079e-13, -1.78635e-15, 0.0], [0.0, 0.0, 0.0], -3.131993020313196)\n",
      "\n",
      "1\n",
      "0.9117992836028733\n",
      "accel_noise: 0.5800813015505643\n",
      "accels_speed[action]: -1.288\n",
      "BELIEF_STATE(MDP_STATE[SPEED_STATE(3291.86, 0.651285, 0.00959963, 2.91066e-245, 6.10524e-13, 1, 0.0)], [1.0])\n",
      "PHYSICAL_STATE([802.357, 608.245, 550.837], [0.0, -8.8717e-246, 0.0], [7.24429e-230, -8.8717e-246, 0.0], -3.141592653578652)\n",
      "PHYSICAL_STATE([4.37966, 7.98168e-12, 3.80887e-14], [-1.86079e-13, -1.78635e-15, 0.0], [0.0, 0.0, 0.0], -3.131993020313196)\n",
      "\n",
      "1\n",
      "0.5460721833109324\n",
      "accel_noise: 0.8640309135784686\n",
      "accels_speed[action]: -1.288\n",
      "BELIEF_STATE(MDP_STATE[SPEED_STATE(3291.86, 0.651285, 0.00959963, 1.78227e-261, 6.10524e-13, 1, 0.0)], [1.0])\n",
      "PHYSICAL_STATE([802.357, 608.245, 550.837], [-5.43235e-262, 0.0, 0.0], [-5.43235e-262, 8.8717e-246, 0.0], -3.141592653578652)\n",
      "PHYSICAL_STATE([4.37966, 7.97989e-12, 3.80887e-14], [-1.86079e-13, -1.78635e-15, 0.0], [0.0, 0.0, 0.0], -3.131993020313196)\n",
      "\n",
      "1\n",
      "1.5866028072797012\n",
      "accel_noise: 0.0561655222983687\n",
      "accels_speed[action]: -1.288\n",
      "BELIEF_STATE(MDP_STATE[SPEED_STATE(3291.86, 0.651285, 0.00959963, 2.18265e-277, 6.10524e-13, 1, 0.0)], [1.0])\n",
      "PHYSICAL_STATE([802.357, 608.245, 550.837], [0.0, -6.65271e-278, 0.0], [5.43235e-262, -6.65271e-278, 0.0], -3.141592653578652)\n",
      "PHYSICAL_STATE([4.37966, 7.97811e-12, 3.80887e-14], [-1.86079e-13, -1.78635e-15, 0.0], [0.0, 0.0, 0.0], -3.131993020313196)\n",
      "\n",
      "1\n",
      "1.2837573121297718\n",
      "accel_noise: 0.2912940123216058\n",
      "accels_speed[action]: -1.288\n",
      "BELIEF_STATE(MDP_STATE[SPEED_STATE(3291.86, 0.651285, 0.00959963, 1.33649e-293, 6.10524e-13, 1, 0.0)], [1.0])\n",
      "PHYSICAL_STATE([802.357, 608.245, 546.883], [-4.07361e-294, 0.0, -7.90871], [-4.07361e-294, 6.65271e-278, -7.90871], -3.141592653578652)\n",
      "PHYSICAL_STATE([4.37966, 7.97632e-12, 3.80887e-14], [-1.86079e-13, -1.78635e-15, 0.0], [0.0, 0.0, 0.0], -3.131993020313196)\n",
      "\n",
      "1\n",
      "2.1126978396660707\n",
      "accel_noise: -0.3522933537780053\n",
      "accels_speed[action]: -1.288\n",
      "BELIEF_STATE(MDP_STATE[SPEED_STATE(3291.86, 0.651285, 0.00959963, 1.63672e-309, 6.10524e-13, 1, 0.0)], [1.0])\n",
      "PHYSICAL_STATE([802.357, 608.245, 538.943], [0.0, -4.98873e-310, -7.97121], [4.07361e-294, -4.98873e-310, -0.062502], -3.141592653578652)\n",
      "PHYSICAL_STATE([4.37966, 7.97454e-12, 3.80887e-14], [-1.86079e-13, -1.78635e-15, 0.0], [0.0, 0.0, 0.0], -3.131993020313196)\n",
      "\n",
      "1\n",
      "0.8558047646543541\n",
      "accel_noise: 0.6235553069453773\n",
      "accels_speed[action]: -1.288\n",
      "BELIEF_STATE(MDP_STATE[SPEED_STATE(3291.86, 0.651285, 0.00959963, 0.0, 6.10524e-13, 1, 0.0)], [1.0])\n",
      "PHYSICAL_STATE([802.357, 608.245, 530.942], [0.0, 0.0, -8.03021], [-0.0, 4.98873e-310, -0.0589992], -3.141592653578652)\n",
      "PHYSICAL_STATE([4.37966, 7.97275e-12, 3.80887e-14], [-1.86079e-13, -1.78635e-15, 0.0], [0.0, 0.0, 0.0], -3.131993020313196)\n",
      "\n",
      "1\n",
      "0.2604016739817714\n",
      "accel_noise: 1.0858247872812334\n",
      "accels_speed[action]: -1.288\n",
      "BELIEF_STATE(MDP_STATE[SPEED_STATE(3291.86, 0.651285, 0.00959963, 0.0, 6.10524e-13, 1, 0.0)], [1.0])\n",
      "PHYSICAL_STATE([802.357, 608.245, 522.884], [0.0, 0.0, -8.08571], [0.0, 0.0, -0.0554965], -3.141592653578652)\n",
      "PHYSICAL_STATE([4.37966, 7.97096e-12, 3.80887e-14], [-1.86079e-13, -1.78635e-15, 0.0], [0.0, 0.0, 0.0], -3.131993020313196)\n",
      "\n",
      "1\n",
      "0.7353633088881572\n",
      "accel_noise: 0.7170657539688221\n",
      "accels_speed[action]: -1.288\n",
      "BELIEF_STATE(MDP_STATE[SPEED_STATE(3291.86, 0.651285, 0.00959963, 0.0, 6.10524e-13, 1, 0.0)], [1.0])\n",
      "PHYSICAL_STATE([802.357, 608.245, 514.773], [0.0, 0.0, -8.1377], [0.0, 0.0, -0.0519937], -3.141592653578652)\n",
      "PHYSICAL_STATE([4.37966, 7.96918e-12, 3.80887e-14], [-1.86079e-13, -1.78635e-15, 0.0], [0.0, 0.0, 0.0], -3.131993020313196)\n",
      "\n",
      "1\n",
      "2.918997131310178\n",
      "accel_noise: -0.9783021205824358\n",
      "accels_speed[action]: -1.288\n",
      "BELIEF_STATE(MDP_STATE[SPEED_STATE(3291.86, 0.651285, 0.00959963, 0.0, 6.10524e-13, 1, 0.0)], [1.0])\n",
      "PHYSICAL_STATE([802.357, 608.245, 506.611], [0.0, 0.0, -8.18619], [0.0, 0.0, -0.0484909], -3.141592653578652)\n",
      "PHYSICAL_STATE([4.37966, 7.96739e-12, 3.80887e-14], [-1.86079e-13, -1.78635e-15, 0.0], [0.0, 0.0, 0.0], -3.131993020313196)\n",
      "\n",
      "1\n",
      "1.8095807738208103\n",
      "accel_noise: -0.1169540169416228\n",
      "accels_speed[action]: -1.288\n",
      "BELIEF_STATE(MDP_STATE[SPEED_STATE(3291.86, 0.651285, 0.00959963, 0.0, 6.10524e-13, 1, 0.0)], [1.0])\n",
      "PHYSICAL_STATE([802.357, 608.245, 498.402], [0.0, 0.0, -8.23118], [0.0, 0.0, -0.0449881], -3.141592653578652)\n",
      "PHYSICAL_STATE([4.37966, 7.9656e-12, 3.80887e-14], [-1.86079e-13, -1.78635e-15, 0.0], [0.0, 0.0, 0.0], -3.131993020313196)\n",
      "\n",
      "1\n",
      "2.666029333304083\n",
      "accel_noise: -0.7818985507019276\n",
      "accels_speed[action]: -1.288\n",
      "BELIEF_STATE(MDP_STATE[SPEED_STATE(3291.86, 0.651285, 0.00959963, 0.0, 6.10524e-13, 1, 0.0)], [1.0])\n",
      "PHYSICAL_STATE([802.357, 608.245, 490.15], [0.0, 0.0, -8.27266], [0.0, 0.0, -0.0414853], -3.141592653578652)\n",
      "PHYSICAL_STATE([4.37966, 7.96382e-12, 3.80887e-14], [-1.86079e-13, -1.78635e-15, 0.0], [0.0, 0.0, 0.0], -3.131993020313196)\n",
      "\n",
      "1\n",
      "2.0706613424373246\n",
      "accel_noise: -0.31965632176810926\n",
      "accels_speed[action]: -1.288\n",
      "BELIEF_STATE(MDP_STATE[SPEED_STATE(3291.86, 0.651285, 0.00959963, 0.0, 6.10524e-13, 1, 0.0)], [1.0])\n",
      "PHYSICAL_STATE([802.357, 608.245, 481.859], [0.0, 0.0, -8.31065], [0.0, 0.0, -0.0379825], -3.141592653578652)\n",
      "PHYSICAL_STATE([4.37966, 7.96203e-12, 3.80887e-14], [-1.86079e-13, -1.78635e-15, 0.0], [0.0, 0.0, 0.0], -3.131993020313196)\n",
      "\n",
      "1\n",
      "1.0958789865267742\n",
      "accel_noise: 0.43716227754132436\n",
      "accels_speed[action]: -1.288\n",
      "BELIEF_STATE(MDP_STATE[SPEED_STATE(3291.86, 0.651285, 0.00959963, 0.0, 6.10524e-13, 1, 0.0)], [1.0])\n",
      "PHYSICAL_STATE([802.357, 608.245, 473.531], [0.0, 0.0, -8.34513], [0.0, 0.0, -0.0344797], -3.141592653578652)\n",
      "PHYSICAL_STATE([4.37966, 7.96025e-12, 3.80887e-14], [-1.86079e-13, -1.78635e-15, 0.0], [0.0, 0.0, 0.0], -3.131993020313196)\n",
      "\n",
      "1\n",
      "0.7404195933319915\n",
      "accel_noise: 0.7131400672888265\n",
      "accels_speed[action]: -1.288\n",
      "BELIEF_STATE(MDP_STATE[SPEED_STATE(3291.86, 0.651285, 0.00959963, 0.0, 6.10524e-13, 1, 0.0)], [1.0])\n",
      "PHYSICAL_STATE([802.357, 608.245, 465.17], [0.0, 0.0, -8.3761], [0.0, 0.0, -0.0309769], -3.141592653578652)\n",
      "PHYSICAL_STATE([4.37966, 7.95846e-12, 3.80887e-14], [-1.86079e-13, -1.78635e-15, 0.0], [0.0, 0.0, 0.0], -3.131993020313196)\n",
      "\n",
      "1\n",
      "2.1073439139433505\n",
      "accel_noise: -0.34813657914856405\n",
      "accels_speed[action]: -1.288\n",
      "BELIEF_STATE(MDP_STATE[SPEED_STATE(3291.86, 0.651285, 0.00959963, 0.0, 6.10524e-13, 1, 0.0)], [1.0])\n",
      "PHYSICAL_STATE([802.357, 608.245, 456.78], [0.0, 0.0, -8.40358], [0.0, 0.0, -0.0274741], -3.141592653578652)\n",
      "PHYSICAL_STATE([4.37966, 7.95667e-12, 3.80887e-14], [-1.86079e-13, -1.78635e-15, 0.0], [0.0, 0.0, 0.0], -3.131993020313196)\n",
      "\n",
      "1\n",
      "1.049310584243845\n",
      "accel_noise: 0.4733178693758968\n",
      "accels_speed[action]: -1.288\n",
      "BELIEF_STATE(MDP_STATE[SPEED_STATE(3291.86, 0.651285, 0.00959963, 0.0, 6.10524e-13, 1, 0.0)], [1.0])\n",
      "PHYSICAL_STATE([802.357, 608.245, 448.365], [0.0, 0.0, -8.42755], [0.0, 0.0, -0.0239713], -3.141592653578652)\n",
      "PHYSICAL_STATE([4.37966, 7.95489e-12, 3.80887e-14], [-1.86079e-13, -1.78635e-15, 0.0], [0.0, 0.0, 0.0], -3.131993020313196)\n",
      "\n",
      "1\n",
      "1.2187996135084727\n",
      "accel_noise: 0.3417270081455958\n",
      "accels_speed[action]: -1.288\n",
      "BELIEF_STATE(MDP_STATE[SPEED_STATE(3291.86, 0.651285, 0.00959963, 0.0, 6.10524e-13, 1, 0.0)], [1.0])\n",
      "PHYSICAL_STATE([802.357, 608.245, 439.927], [0.0, 0.0, -8.44802], [0.0, 0.0, -0.0204685], -3.141592653578652)\n",
      "PHYSICAL_STATE([4.37966, 7.9531e-12, 3.80887e-14], [-1.86079e-13, -1.78635e-15, 0.0], [0.0, 0.0, 0.0], -3.131993020313196)\n",
      "\n",
      "1\n",
      "2.1381923181533264\n",
      "accel_noise: -0.37208720353519115\n",
      "accels_speed[action]: -1.288\n",
      "BELIEF_STATE(MDP_STATE[SPEED_STATE(3291.86, 0.651285, 0.00959963, 0.0, 6.10524e-13, 1, 0.0)], [1.0])\n",
      "PHYSICAL_STATE([802.357, 608.245, 431.47], [0.0, 0.0, -8.46498], [0.0, 0.0, -0.0169657], -3.141592653578652)\n",
      "PHYSICAL_STATE([4.37966, 7.95131e-12, 3.80887e-14], [-1.86079e-13, -1.78635e-15, 0.0], [0.0, 0.0, 0.0], -3.131993020313196)\n",
      "\n",
      "1\n",
      "3.1166003039871466\n",
      "accel_noise: -1.1317207329092756\n",
      "accels_speed[action]: -1.288\n",
      "BELIEF_STATE(MDP_STATE[SPEED_STATE(3291.86, 0.651285, 0.00959963, 0.0, 6.10524e-13, 1, 0.0)], [1.0])\n",
      "PHYSICAL_STATE([802.357, 608.245, 422.999], [0.0, 0.0, -8.47845], [0.0, 0.0, -0.0134629], -3.141592653578652)\n",
      "PHYSICAL_STATE([4.37966, 7.94953e-12, 3.80887e-14], [-1.86079e-13, -1.78635e-15, 0.0], [0.0, 0.0, 0.0], -3.131993020313196)\n",
      "\n",
      "1\n",
      "2.093228362601549\n",
      "accel_noise: -0.33717730015648223\n",
      "accels_speed[action]: -1.288\n"
     ]
    },
    {
     "name": "stdout",
     "output_type": "stream",
     "text": [
      "BELIEF_STATE(MDP_STATE[SPEED_STATE(3291.86, 0.651285, 0.00959963, 0.0, 6.10524e-13, 1, 0.0)], [1.0])\n",
      "PHYSICAL_STATE([802.357, 608.245, 414.515], [0.0, 0.0, -8.48841], [0.0, 0.0, -0.00996005], -3.141592653578652)\n",
      "PHYSICAL_STATE([4.37966, 7.94774e-12, 3.80887e-14], [-1.86079e-13, -1.78635e-15, 0.0], [0.0, 0.0, 0.0], -3.131993020313196)\n",
      "\n",
      "1\n",
      "2.612529710742199\n",
      "accel_noise: -0.7403615766631979\n",
      "accels_speed[action]: -1.288\n",
      "BELIEF_STATE(MDP_STATE[SPEED_STATE(3291.86, 0.651285, 0.00959963, 0.0, 6.10524e-13, 1, 0.0)], [1.0])\n",
      "PHYSICAL_STATE([802.357, 608.245, 406.024], [0.0, 0.0, -8.49486], [0.0, 0.0, -0.00645723], -3.141592653578652)\n",
      "PHYSICAL_STATE([4.37966, 7.94595e-12, 3.80887e-14], [-1.86079e-13, -1.78635e-15, 0.0], [0.0, 0.0, 0.0], -3.131993020313196)\n",
      "\n",
      "1\n",
      "2.756436071804889\n",
      "accel_noise: -0.8520901178609387\n",
      "accels_speed[action]: -1.288\n",
      "BELIEF_STATE(MDP_STATE[SPEED_STATE(3291.86, 0.651285, 0.00959963, 0.0, 6.10524e-13, 1, 0.0)], [1.0])\n",
      "PHYSICAL_STATE([802.357, 608.245, 397.527], [0.0, 0.0, -8.49782], [0.0, 0.0, -0.0029544], -3.141592653578652)\n",
      "PHYSICAL_STATE([4.37966, 7.94417e-12, 3.80887e-14], [-1.86079e-13, -1.78635e-15, 0.0], [0.0, 0.0, 0.0], -3.131993020313196)\n",
      "\n",
      "1\n",
      "0.7684753397447394\n",
      "accel_noise: 0.6913576554776869\n",
      "accels_speed[action]: -1.288\n",
      "BELIEF_STATE(MDP_STATE[SPEED_STATE(3291.86, 0.651285, 0.00959963, 0.0, 6.10524e-13, 1, 0.0)], [1.0])\n",
      "PHYSICAL_STATE([802.357, 608.245, 389.03], [0.0, 0.0, -8.49727], [0.0, 0.0, 0.000548428], -3.141592653578652)\n",
      "PHYSICAL_STATE([4.37966, 7.94238e-12, 3.80887e-14], [-1.86079e-13, -1.78635e-15, 0.0], [0.0, 0.0, 0.0], -3.131993020313196)\n",
      "\n",
      "1\n",
      "2.414896490709254\n",
      "accel_noise: -0.5869196356438308\n",
      "accels_speed[action]: -1.288\n",
      "BELIEF_STATE(MDP_STATE[SPEED_STATE(3291.86, 0.651285, 0.00959963, 0.0, 6.10524e-13, 1, 0.0)], [1.0])\n",
      "PHYSICAL_STATE([802.357, 608.245, 380.534], [0.0, 0.0, -8.49322], [0.0, 0.0, 0.00405126], -3.141592653578652)\n",
      "PHYSICAL_STATE([4.37966, 7.9406e-12, 3.80887e-14], [-1.86079e-13, -1.78635e-15, 0.0], [0.0, 0.0, 0.0], -3.131993020313196)\n",
      "\n",
      "1\n",
      "0.716756365827052\n",
      "accel_noise: 0.7315121383330342\n",
      "accels_speed[action]: -1.288\n",
      "BELIEF_STATE(MDP_STATE[SPEED_STATE(3291.86, 0.651285, 0.00959963, 0.0, 6.10524e-13, 1, 0.0)], [1.0])\n",
      "PHYSICAL_STATE([802.357, 608.245, 372.045], [0.0, 0.0, -8.48566], [0.0, 0.0, 0.00755409], -3.141592653578652)\n",
      "PHYSICAL_STATE([4.37966, 7.93881e-12, 3.80887e-14], [-1.86079e-13, -1.78635e-15, 0.0], [0.0, 0.0, 0.0], -3.131993020313196)\n",
      "\n",
      "1\n",
      "0.33735667114289336\n",
      "accel_noise: 1.0260771186778779\n",
      "accels_speed[action]: -1.288\n",
      "BELIEF_STATE(MDP_STATE[SPEED_STATE(3291.86, 0.651285, 0.00959963, 0.0, 6.10524e-13, 1, 0.0)], [1.0])\n",
      "PHYSICAL_STATE([802.357, 608.245, 363.565], [0.0, 0.0, -8.47461], [0.0, 0.0, 0.0110569], -3.141592653578652)\n",
      "PHYSICAL_STATE([4.37966, 7.93702e-12, 3.80887e-14], [-1.86079e-13, -1.78635e-15, 0.0], [0.0, 0.0, 0.0], -3.131993020313196)\n",
      "\n",
      "1\n",
      "1.3213146218751135\n",
      "accel_noise: 0.26213461034540864\n",
      "accels_speed[action]: -1.288\n",
      "BELIEF_STATE(MDP_STATE[SPEED_STATE(3291.86, 0.651285, 0.00959963, 0.0, 6.10524e-13, 1, 0.0)], [1.0])\n",
      "PHYSICAL_STATE([802.357, 608.245, 355.098], [0.0, 0.0, -8.46005], [0.0, 0.0, 0.0145598], -3.141592653578652)\n",
      "PHYSICAL_STATE([4.37966, 7.93524e-12, 3.80887e-14], [-1.86079e-13, -1.78635e-15, 0.0], [0.0, 0.0, 0.0], -3.131993020313196)\n",
      "\n",
      "1\n",
      "2.1641906495412973\n",
      "accel_noise: -0.3922722434326842\n",
      "accels_speed[action]: -1.288\n",
      "BELIEF_STATE(MDP_STATE[SPEED_STATE(3291.86, 0.651285, 0.00959963, 0.0, 6.10524e-13, 1, 0.0)], [1.0])\n",
      "PHYSICAL_STATE([802.357, 608.245, 346.647], [0.0, 0.0, -8.44198], [0.0, 0.0, 0.0180626], -3.141592653578652)\n",
      "PHYSICAL_STATE([4.37966, 7.93345e-12, 3.80887e-14], [-1.86079e-13, -1.78635e-15, 0.0], [0.0, 0.0, 0.0], -3.131993020313196)\n",
      "\n",
      "1\n",
      "0.9294880350426966\n",
      "accel_noise: 0.566347798879894\n",
      "accels_speed[action]: -1.288\n",
      "BELIEF_STATE(MDP_STATE[SPEED_STATE(3291.86, 0.651285, 0.00959963, 0.0, 6.10524e-13, 1, 0.0)], [1.0])\n",
      "PHYSICAL_STATE([802.357, 608.245, 338.215], [0.0, 0.0, -8.42042], [0.0, 0.0, 0.0215655], -3.141592653578652)\n",
      "PHYSICAL_STATE([4.37966, 7.93166e-12, 3.80887e-14], [-1.86079e-13, -1.78635e-15, 0.0], [0.0, 0.0, 0.0], -3.131993020313196)\n",
      "\n",
      "1\n",
      "0.6214579708318281\n",
      "accel_noise: 0.8055015754411273\n",
      "accels_speed[action]: -1.288\n",
      "BELIEF_STATE(MDP_STATE[SPEED_STATE(3291.86, 0.651285, 0.00959963, 0.0, 6.10524e-13, 1, 0.0)], [1.0])\n",
      "PHYSICAL_STATE([802.357, 608.245, 329.807], [0.0, 0.0, -8.39535], [0.0, 0.0, 0.0250683], -3.141592653578652)\n",
      "PHYSICAL_STATE([4.37966, 7.92988e-12, 3.80887e-14], [-1.86079e-13, -1.78635e-15, 0.0], [0.0, 0.0, 0.0], -3.131993020313196)\n",
      "\n",
      "1\n",
      "2.2903138048869076\n",
      "accel_noise: -0.49019394789356174\n",
      "accels_speed[action]: -1.288\n",
      "BELIEF_STATE(MDP_STATE[SPEED_STATE(3291.86, 0.651285, 0.00959963, 0.0, 6.10524e-13, 1, 0.0)], [1.0])\n",
      "PHYSICAL_STATE([802.357, 608.245, 321.426], [0.0, 0.0, -8.36678], [0.0, 0.0, 0.0285711], -3.141592653578652)\n",
      "PHYSICAL_STATE([4.37966, 7.92809e-12, 3.80887e-14], [-1.86079e-13, -1.78635e-15, 0.0], [0.0, 0.0, 0.0], -3.131993020313196)\n",
      "\n",
      "1\n",
      "2.293268169663437\n",
      "accel_noise: -0.4924877093660222\n",
      "accels_speed[action]: -1.288\n",
      "BELIEF_STATE(MDP_STATE[SPEED_STATE(3291.86, 0.651285, 0.00959963, 0.0, 6.10524e-13, 1, 0.0)], [1.0])\n",
      "PHYSICAL_STATE([802.357, 608.245, 313.076], [0.0, 0.0, -8.33471], [0.0, 0.0, 0.032074], -3.141592653578652)\n",
      "PHYSICAL_STATE([4.37966, 7.9263e-12, 3.80887e-14], [-1.86079e-13, -1.78635e-15, 0.0], [0.0, 0.0, 0.0], -3.131993020313196)\n",
      "\n",
      "1\n",
      "1.5572130863626434\n",
      "accel_noise: 0.07898362860043223\n",
      "accels_speed[action]: -1.288\n",
      "BELIEF_STATE(MDP_STATE[SPEED_STATE(3291.86, 0.651285, 0.00959963, 0.0, 6.10524e-13, 1, 0.0)], [1.0])\n",
      "PHYSICAL_STATE([802.357, 608.245, 304.759], [0.0, 0.0, -8.29913], [0.0, 0.0, 0.0355768], -3.141592653578652)\n",
      "PHYSICAL_STATE([4.37966, 7.92452e-12, 3.80887e-14], [-1.86079e-13, -1.78635e-15, 0.0], [0.0, 0.0, 0.0], -3.131993020313196)\n",
      "\n",
      "1\n",
      "2.671598786978627\n",
      "accel_noise: -0.786222660697692\n",
      "accels_speed[action]: -1.288\n",
      "BELIEF_STATE(MDP_STATE[SPEED_STATE(3291.86, 0.651285, 0.00959963, 0.0, 6.10524e-13, 1, 0.0)], [1.0])\n",
      "PHYSICAL_STATE([802.357, 608.245, 296.479], [0.0, 0.0, -8.26005], [0.0, 0.0, 0.0390797], -3.141592653578652)\n",
      "PHYSICAL_STATE([4.37966, 7.92273e-12, 3.80887e-14], [-1.86079e-13, -1.78635e-15, 0.0], [0.0, 0.0, 0.0], -3.131993020313196)\n",
      "\n",
      "1\n",
      "2.445544999434589\n",
      "accel_noise: -0.6107150616728171\n",
      "accels_speed[action]: -1.288\n",
      "BELIEF_STATE(MDP_STATE[SPEED_STATE(3291.86, 0.651285, 0.00959963, 0.0, 6.10524e-13, 1, 0.0)], [1.0])\n",
      "PHYSICAL_STATE([802.357, 608.245, 288.24], [0.0, 0.0, -8.21747], [0.0, 0.0, 0.0425826], -3.141592653578652)\n",
      "PHYSICAL_STATE([4.37966, 7.92095e-12, 3.80887e-14], [-1.86079e-13, -1.78635e-15, 0.0], [0.0, 0.0, 0.0], -3.131993020313196)\n",
      "\n",
      "1\n",
      "2.951587440520645\n",
      "accel_noise: -1.0036051556837307\n",
      "accels_speed[action]: -1.288\n",
      "BELIEF_STATE(MDP_STATE[SPEED_STATE(3291.86, 0.651285, 0.00959963, 0.0, 6.10524e-13, 1, 0.0)], [1.0])\n",
      "PHYSICAL_STATE([802.357, 608.245, 280.046], [0.0, 0.0, -8.17138], [0.0, 0.0, 0.0460854], -3.141592653578652)\n",
      "PHYSICAL_STATE([4.37966, 7.91916e-12, 3.80887e-14], [-1.86079e-13, -1.78635e-15, 0.0], [0.0, 0.0, 0.0], -3.131993020313196)\n",
      "\n",
      "1\n",
      "0.09877732213706625\n",
      "accel_noise: 1.2113095325022778\n",
      "accels_speed[action]: -1.288\n",
      "BELIEF_STATE(MDP_STATE[SPEED_STATE(3291.86, 0.651285, 0.00959963, 0.0, 6.10524e-13, 1, 0.0)], [1.0])\n",
      "PHYSICAL_STATE([802.357, 608.245, 271.899], [0.0, 0.0, -8.12179], [0.0, 0.0, 0.0495883], -3.141592653578652)\n",
      "PHYSICAL_STATE([4.37966, 7.91737e-12, 3.80887e-14], [-1.86079e-13, -1.78635e-15, 0.0], [0.0, 0.0, 0.0], -3.131993020313196)\n",
      "\n",
      "1\n",
      "1.239981332524571\n",
      "accel_noise: 0.325281574126886\n",
      "accels_speed[action]: -1.288\n",
      "BELIEF_STATE(MDP_STATE[SPEED_STATE(3291.86, 0.651285, 0.00959963, 0.0, 6.10524e-13, 1, 0.0)], [1.0])\n",
      "PHYSICAL_STATE([802.357, 608.245, 263.804], [0.0, 0.0, -8.0687], [0.0, 0.0, 0.0530911], -3.141592653578652)\n",
      "PHYSICAL_STATE([4.37966, 7.91559e-12, 3.80887e-14], [-1.86079e-13, -1.78635e-15, 0.0], [0.0, 0.0, 0.0], -3.131993020313196)\n",
      "\n",
      "1\n",
      "0.399423307823881\n",
      "accel_noise: 0.9778887361615831\n",
      "accels_speed[action]: -1.288\n",
      "BELIEF_STATE(MDP_STATE[SPEED_STATE(3291.86, 0.651285, 0.00959963, 0.0, 6.10524e-13, 1, 0.0)], [1.0])\n",
      "PHYSICAL_STATE([802.357, 608.245, 255.764], [0.0, 0.0, -8.01211], [0.0, 0.0, 0.056594], -3.141592653578652)\n"
     ]
    },
    {
     "name": "stdout",
     "output_type": "stream",
     "text": [
      "PHYSICAL_STATE([4.37966, 7.9138e-12, 3.80887e-14], [-1.86079e-13, -1.78635e-15, 0.0], [0.0, 0.0, 0.0], -3.131993020313196)\n",
      "\n",
      "1\n",
      "2.4685860283581893\n",
      "accel_noise: -0.6286040592843083\n",
      "accels_speed[action]: -1.288\n",
      "BELIEF_STATE(MDP_STATE[SPEED_STATE(3291.86, 0.651285, 0.00959963, 0.0, 6.10524e-13, 1, 0.0)], [1.0])\n",
      "PHYSICAL_STATE([802.357, 608.245, 247.782], [0.0, 0.0, -7.95201], [0.0, 0.0, 0.0600969], -3.141592653578652)\n",
      "PHYSICAL_STATE([4.37966, 7.91201e-12, 3.80887e-14], [-1.86079e-13, -1.78635e-15, 0.0], [0.0, 0.0, 0.0], -3.131993020313196)\n",
      "\n",
      "1\n",
      "1.340334010778624\n",
      "accel_noise: 0.24736800405386353\n",
      "accels_speed[action]: -1.288\n",
      "BELIEF_STATE(MDP_STATE[SPEED_STATE(3291.86, 0.651285, 0.00959963, 0.0, 6.10524e-13, 1, 0.0)], [1.0])\n",
      "PHYSICAL_STATE([802.357, 608.245, 239.861], [0.0, 0.0, -7.88841], [0.0, 0.0, 0.0635997], -3.141592653578652)\n",
      "PHYSICAL_STATE([4.37966, 7.91023e-12, 3.80887e-14], [-1.86079e-13, -1.78635e-15, 0.0], [0.0, 0.0, 0.0], -3.131993020313196)\n",
      "\n",
      "1\n",
      "1.5712623080939867\n",
      "accel_noise: 0.06807584775311598\n",
      "accels_speed[action]: -1.288\n",
      "BELIEF_STATE(MDP_STATE[SPEED_STATE(3291.86, 0.651285, 0.00959963, 0.0, 6.10524e-13, 1, 0.0)], [1.0])\n",
      "PHYSICAL_STATE([802.357, 608.245, 232.007], [0.0, 0.0, -7.82131], [0.0, 0.0, 0.0671026], -3.141592653578652)\n",
      "PHYSICAL_STATE([4.37966, 7.90844e-12, 3.80887e-14], [-1.86079e-13, -1.78635e-15, 0.0], [0.0, 0.0, 0.0], -3.131993020313196)\n",
      "\n",
      "1\n",
      "1.4365617814807106\n",
      "accel_noise: 0.17265700195597017\n",
      "accels_speed[action]: -1.288\n",
      "BELIEF_STATE(MDP_STATE[SPEED_STATE(3291.86, 0.651285, 0.00959963, 0.0, 6.10524e-13, 1, 0.0)], [1.0])\n",
      "PHYSICAL_STATE([802.357, 608.245, 224.221], [0.0, 0.0, -7.7507], [0.0, 0.0, 0.0706055], -3.141592653578652)\n",
      "PHYSICAL_STATE([4.37966, 7.90665e-12, 3.80887e-14], [-1.86079e-13, -1.78635e-15, 0.0], [0.0, 0.0, 0.0], -3.131993020313196)\n",
      "\n",
      "1\n",
      "1.5908450036392772\n",
      "accel_noise: 0.052871891584412196\n",
      "accels_speed[action]: -1.288\n",
      "BELIEF_STATE(MDP_STATE[SPEED_STATE(3291.86, 0.651285, 0.00959963, 0.0, 6.10524e-13, 1, 0.0)], [1.0])\n",
      "PHYSICAL_STATE([802.357, 608.245, 216.507], [0.0, 0.0, -7.67659], [0.0, 0.0, 0.0741083], -3.141592653578652)\n",
      "PHYSICAL_STATE([4.37966, 7.90487e-12, 3.80887e-14], [-1.86079e-13, -1.78635e-15, 0.0], [0.0, 0.0, 0.0], -3.131993020313196)\n",
      "\n",
      "1\n",
      "1.3244246813189868\n",
      "accel_noise: 0.2597199679200413\n",
      "accels_speed[action]: -1.288\n",
      "BELIEF_STATE(MDP_STATE[SPEED_STATE(3291.86, 0.651285, 0.00959963, 0.0, 6.10524e-13, 1, 0.0)], [1.0])\n",
      "PHYSICAL_STATE([802.357, 608.245, 208.869], [0.0, 0.0, -7.59898], [0.0, 0.0, 0.0776112], -3.141592653578652)\n",
      "PHYSICAL_STATE([4.37966, 7.90308e-12, 3.80887e-14], [-1.86079e-13, -1.78635e-15, 0.0], [0.0, 0.0, 0.0], -3.131993020313196)\n",
      "\n",
      "1\n",
      "1.6158215044732567\n",
      "accel_noise: 0.03348019839032885\n",
      "accels_speed[action]: -1.288\n",
      "BELIEF_STATE(MDP_STATE[SPEED_STATE(3291.86, 0.651285, 0.00959963, 0.0, 6.10524e-13, 1, 0.0)], [1.0])\n",
      "PHYSICAL_STATE([802.357, 608.245, 201.311], [0.0, 0.0, -7.51787], [0.0, 0.0, 0.0811141], -3.141592653578652)\n",
      "PHYSICAL_STATE([4.37966, 7.9013e-12, 3.80887e-14], [-1.86079e-13, -1.78635e-15, 0.0], [0.0, 0.0, 0.0], -3.131993020313196)\n",
      "\n",
      "1\n",
      "2.039144427368912\n",
      "accel_noise: -0.2951866672118883\n",
      "accels_speed[action]: -1.288\n",
      "BELIEF_STATE(MDP_STATE[SPEED_STATE(3291.86, 0.651285, 0.00959963, 0.0, 6.10524e-13, 1, 0.0)], [1.0])\n",
      "PHYSICAL_STATE([802.357, 608.245, 193.835], [0.0, 0.0, -7.43325], [0.0, 0.0, 0.084617], -3.141592653578652)\n",
      "PHYSICAL_STATE([4.37966, 7.89951e-12, 3.80887e-14], [-1.86079e-13, -1.78635e-15, 0.0], [0.0, 0.0, 0.0], -3.131993020313196)\n",
      "\n",
      "1\n",
      "1.5778997778737667\n",
      "accel_noise: 0.06292253270670281\n",
      "accels_speed[action]: -1.288\n",
      "BELIEF_STATE(MDP_STATE[SPEED_STATE(3291.86, 0.651285, 0.00959963, 0.0, 6.10524e-13, 1, 0.0)], [1.0])\n",
      "PHYSICAL_STATE([802.357, 608.245, 186.446], [0.0, 0.0, -7.34513], [0.0, 0.0, 0.0881198], -3.141592653578652)\n",
      "PHYSICAL_STATE([4.37966, 7.89772e-12, 3.80887e-14], [-1.86079e-13, -1.78635e-15, 0.0], [0.0, 0.0, 0.0], -3.131993020313196)\n",
      "\n",
      "1\n",
      "1.7823843047383445\n",
      "accel_noise: -0.09583874591486372\n",
      "accels_speed[action]: -1.288\n",
      "BELIEF_STATE(MDP_STATE[SPEED_STATE(3291.86, 0.651285, 0.00959963, 0.0, 6.10524e-13, 1, 0.0)], [1.0])\n",
      "PHYSICAL_STATE([802.357, 608.245, 179.147], [0.0, 0.0, -7.25351], [0.0, 0.0, 0.0916227], -3.141592653578652)\n",
      "PHYSICAL_STATE([4.37966, 7.89594e-12, 3.80887e-14], [-1.86079e-13, -1.78635e-15, 0.0], [0.0, 0.0, 0.0], -3.131993020313196)\n",
      "\n",
      "1\n",
      "2.1758528439076943\n",
      "accel_noise: -0.40132674216435865\n",
      "accels_speed[action]: -1.288\n",
      "BELIEF_STATE(MDP_STATE[SPEED_STATE(3291.86, 0.651285, 0.00959963, 0.0, 6.10524e-13, 1, 0.0)], [1.0])\n",
      "PHYSICAL_STATE([802.357, 608.245, 171.941], [0.0, 0.0, -7.15838], [0.0, 0.0, 0.0951256], -3.141592653578652)\n",
      "PHYSICAL_STATE([4.37966, 7.89415e-12, 3.80887e-14], [-1.86079e-13, -1.78635e-15, 0.0], [0.0, 0.0, 0.0], -3.131993020313196)\n",
      "\n",
      "1\n",
      "1.6648178352564607\n",
      "accel_noise: -0.004560431099736457\n",
      "accels_speed[action]: -1.288\n",
      "BELIEF_STATE(MDP_STATE[SPEED_STATE(3291.86, 0.651285, 0.00959963, 0.0, 6.10524e-13, 1, 0.0)], [1.0])\n",
      "PHYSICAL_STATE([802.357, 608.245, 164.832], [0.0, 0.0, -7.05976], [0.0, 0.0, 0.0986285], -3.141592653578652)\n",
      "PHYSICAL_STATE([4.37966, 7.89236e-12, 3.80887e-14], [-1.86079e-13, -1.78635e-15, 0.0], [0.0, 0.0, 0.0], -3.131993020313196)\n",
      "\n",
      "1\n",
      "3.4128100442926796\n",
      "accel_noise: -1.3616972393576705\n",
      "accels_speed[action]: -1.288\n",
      "BELIEF_STATE(MDP_STATE[SPEED_STATE(3291.86, 0.651285, 0.00959963, 0.0, 6.10524e-13, 1, 0.0)], [1.0])\n",
      "PHYSICAL_STATE([802.357, 608.245, 157.823], [0.0, 0.0, -6.95762], [0.0, 0.0, 0.102131], -3.141592653578652)\n",
      "PHYSICAL_STATE([4.37966, 7.89058e-12, 3.80887e-14], [-1.86079e-13, -1.78635e-15, 0.0], [0.0, 0.0, 0.0], -3.131993020313196)\n",
      "\n",
      "1\n",
      "1.3381117268987155\n",
      "accel_noise: 0.24909337973702222\n",
      "accels_speed[action]: -1.288\n",
      "BELIEF_STATE(MDP_STATE[SPEED_STATE(3291.86, 0.651285, 0.00959963, 0.0, 6.10524e-13, 1, 0.0)], [1.0])\n",
      "PHYSICAL_STATE([802.357, 608.245, 150.918], [0.0, 0.0, -6.85199], [0.0, 0.0, 0.105634], -3.141592653578652)\n",
      "PHYSICAL_STATE([4.37966, 7.88879e-12, 3.80887e-14], [-1.86079e-13, -1.78635e-15, 0.0], [0.0, 0.0, 0.0], -3.131993020313196)\n",
      "\n",
      "1\n",
      "0.9850955365117284\n",
      "accel_noise: 0.5231742728946208\n",
      "accels_speed[action]: -1.288\n",
      "BELIEF_STATE(MDP_STATE[SPEED_STATE(3291.86, 0.651285, 0.00959963, 0.0, 6.10524e-13, 1, 0.0)], [1.0])\n",
      "PHYSICAL_STATE([802.357, 608.245, 144.121], [0.0, 0.0, -6.74285], [0.0, 0.0, 0.109137], -3.141592653578652)\n",
      "PHYSICAL_STATE([4.37966, 7.887e-12, 3.80887e-14], [-1.86079e-13, -1.78635e-15, 0.0], [0.0, 0.0, 0.0], -3.131993020313196)\n",
      "\n",
      "1\n",
      "1.221310943141881\n",
      "accel_noise: 0.3397772180575459\n",
      "accels_speed[action]: -1.288\n",
      "BELIEF_STATE(MDP_STATE[SPEED_STATE(3291.86, 0.651285, 0.00959963, 0.0, 6.10524e-13, 1, 0.0)], [1.0])\n",
      "PHYSICAL_STATE([802.357, 608.245, 137.434], [0.0, 0.0, -6.63021], [0.0, 0.0, 0.11264], -3.141592653578652)\n",
      "PHYSICAL_STATE([4.37966, 7.88522e-12, 3.80887e-14], [-1.86079e-13, -1.78635e-15, 0.0], [0.0, 0.0, 0.0], -3.131993020313196)\n",
      "\n",
      "1\n",
      "1.4341457746533994\n",
      "accel_noise: 0.17453278365419309\n",
      "accels_speed[action]: -1.288\n",
      "BELIEF_STATE(MDP_STATE[SPEED_STATE(3291.86, 0.651285, 0.00959963, 0.0, 6.10524e-13, 1, 0.0)], [1.0])\n",
      "PHYSICAL_STATE([802.357, 608.245, 130.862], [0.0, 0.0, -6.51407], [0.0, 0.0, 0.116143], -3.141592653578652)\n",
      "PHYSICAL_STATE([4.37966, 7.88343e-12, 3.80887e-14], [-1.86079e-13, -1.78635e-15, 0.0], [0.0, 0.0, 0.0], -3.131993020313196)\n",
      "\n",
      "1\n",
      "0.7146805728591292\n",
      "accel_noise: 0.7331237788360798\n",
      "accels_speed[action]: -1.288\n",
      "BELIEF_STATE(MDP_STATE[SPEED_STATE(3291.86, 0.651285, 0.00959963, 0.0, 6.10524e-13, 1, 0.0)], [1.0])\n",
      "PHYSICAL_STATE([802.357, 608.245, 124.408], [0.0, 0.0, -6.39442], [0.0, 0.0, 0.119646], -3.141592653578652)\n",
      "PHYSICAL_STATE([4.37966, 7.88165e-12, 3.80887e-14], [-1.86079e-13, -1.78635e-15, 0.0], [0.0, 0.0, 0.0], -3.131993020313196)\n",
      "\n",
      "1\n",
      "2.6586282833630217\n",
      "accel_noise: -0.7761523939153896\n",
      "accels_speed[action]: -1.288\n",
      "BELIEF_STATE(MDP_STATE[SPEED_STATE(3291.86, 0.651285, 0.00959963, 0.0, 6.10524e-13, 1, 0.0)], [1.0])\n",
      "PHYSICAL_STATE([802.357, 608.245, 118.075], [0.0, 0.0, -6.27128], [0.0, 0.0, 0.123149], -3.141592653578652)\n",
      "PHYSICAL_STATE([4.37966, 7.87986e-12, 3.80887e-14], [-1.86079e-13, -1.78635e-15, 0.0], [0.0, 0.0, 0.0], -3.131993020313196)\n",
      "\n",
      "1\n",
      "3.307160674882787\n",
      "accel_noise: -1.279671331430735\n",
      "accels_speed[action]: -1.288\n",
      "BELIEF_STATE(MDP_STATE[SPEED_STATE(3291.86, 0.651285, 0.00959963, 0.0, 6.10524e-13, 1, 0.0)], [1.0])\n",
      "PHYSICAL_STATE([802.357, 608.245, 111.867], [0.0, 0.0, -6.14462], [0.0, 0.0, 0.126652], -3.141592653578652)\n",
      "PHYSICAL_STATE([4.37966, 7.87807e-12, 3.80887e-14], [-1.86079e-13, -1.78635e-15, 0.0], [0.0, 0.0, 0.0], -3.131993020313196)\n",
      "\n",
      "1\n",
      "2.2754766128764543\n",
      "accel_noise: -0.47867438887923475\n",
      "accels_speed[action]: -1.288\n",
      "BELIEF_STATE(MDP_STATE[SPEED_STATE(3291.86, 0.651285, 0.00959963, 0.0, 6.10524e-13, 1, 0.0)], [1.0])\n",
      "PHYSICAL_STATE([802.357, 608.245, 105.787], [0.0, 0.0, -6.01447], [0.0, 0.0, 0.130154], -3.141592653578652)\n",
      "PHYSICAL_STATE([4.37966, 7.87629e-12, 3.80887e-14], [-1.86079e-13, -1.78635e-15, 0.0], [0.0, 0.0, 0.0], -3.131993020313196)\n",
      "\n",
      "1\n",
      "1.8052923460657206\n",
      "accel_noise: -0.11362449228705025\n",
      "accels_speed[action]: -1.288\n",
      "BELIEF_STATE(MDP_STATE[SPEED_STATE(3291.86, 0.651285, 0.00959963, 0.0, 6.10524e-13, 1, 0.0)], [1.0])\n",
      "PHYSICAL_STATE([802.357, 608.245, 99.8398], [0.0, 0.0, -5.88081], [0.0, 0.0, 0.133657], -3.141592653578652)\n",
      "PHYSICAL_STATE([4.37966, 7.8745e-12, 3.80887e-14], [-1.86079e-13, -1.78635e-15, 0.0], [0.0, 0.0, 0.0], -3.131993020313196)\n",
      "\n",
      "1\n",
      "2.1608773583489667\n",
      "accel_noise: -0.38969981238273804\n",
      "accels_speed[action]: -1.288\n",
      "BELIEF_STATE(MDP_STATE[SPEED_STATE(3291.86, 0.651285, 0.00959963, 0.0, 6.10524e-13, 1, 0.0)], [1.0])\n",
      "PHYSICAL_STATE([802.357, 608.245, 94.0275], [0.0, 0.0, -5.74365], [0.0, 0.0, 0.13716], -3.141592653578652)\n",
      "PHYSICAL_STATE([4.37966, 7.87271e-12, 3.80887e-14], [-1.86079e-13, -1.78635e-15, 0.0], [0.0, 0.0, 0.0], -3.131993020313196)\n",
      "\n",
      "1\n",
      "0.33597010067974403\n",
      "accel_noise: 1.0271536485405715\n",
      "accels_speed[action]: -1.288\n",
      "BELIEF_STATE(MDP_STATE[SPEED_STATE(3291.86, 0.651285, 0.00959963, 0.0, 6.10524e-13, 1, 0.0)], [1.0])\n",
      "PHYSICAL_STATE([802.357, 608.245, 88.3542], [0.0, 0.0, -5.60299], [0.0, 0.0, 0.140663], -3.141592653578652)\n",
      "PHYSICAL_STATE([4.37966, 7.87093e-12, 3.80887e-14], [-1.86079e-13, -1.78635e-15, 0.0], [0.0, 0.0, 0.0], -3.131993020313196)\n",
      "\n",
      "1\n",
      "1.6335372964718442\n",
      "accel_noise: 0.019725701497015424\n",
      "accels_speed[action]: -1.288\n",
      "BELIEF_STATE(MDP_STATE[SPEED_STATE(3291.86, 0.651285, 0.00959963, 0.0, 6.10524e-13, 1, 0.0)], [1.0])\n"
     ]
    },
    {
     "name": "stdout",
     "output_type": "stream",
     "text": [
      "PHYSICAL_STATE([802.357, 608.245, 82.8233], [0.0, 0.0, -5.45882], [0.0, 0.0, 0.144166], -3.141592653578652)\n",
      "PHYSICAL_STATE([4.37966, 7.86914e-12, 3.80887e-14], [-1.86079e-13, -1.78635e-15, 0.0], [0.0, 0.0, 0.0], -3.131993020313196)\n",
      "\n",
      "1\n",
      "1.656442163763837\n",
      "accel_noise: 0.0019424194380147843\n",
      "accels_speed[action]: -1.288\n",
      "BELIEF_STATE(MDP_STATE[SPEED_STATE(3291.86, 0.651285, 0.00959963, 0.0, 6.10524e-13, 1, 0.0)], [1.0])\n",
      "PHYSICAL_STATE([802.357, 608.245, 77.4383], [0.0, 0.0, -5.31115], [0.0, 0.0, 0.147669], -3.141592653578652)\n",
      "PHYSICAL_STATE([4.37966, 7.86736e-12, 3.80887e-14], [-1.86079e-13, -1.78635e-15, 0.0], [0.0, 0.0, 0.0], -3.131993020313196)\n",
      "\n",
      "1\n",
      "0.5539585936330851\n",
      "accel_noise: 0.8579079241979154\n",
      "accels_speed[action]: -1.288\n",
      "BELIEF_STATE(MDP_STATE[SPEED_STATE(3291.86, 0.651285, 0.00959963, 0.0, 6.10524e-13, 1, 0.0)], [1.0])\n",
      "PHYSICAL_STATE([802.357, 608.245, 72.2028], [0.0, 0.0, -5.15998], [0.0, 0.0, 0.151172], -3.141592653578652)\n",
      "PHYSICAL_STATE([4.37966, 7.86557e-12, 3.80887e-14], [-1.86079e-13, -1.78635e-15, 0.0], [0.0, 0.0, 0.0], -3.131993020313196)\n",
      "\n",
      "1\n",
      "2.228761340767774\n",
      "accel_noise: -0.4424047676768433\n",
      "accels_speed[action]: -1.288\n",
      "BELIEF_STATE(MDP_STATE[SPEED_STATE(3291.86, 0.651285, 0.00959963, 0.0, 6.10524e-13, 1, 0.0)], [1.0])\n",
      "PHYSICAL_STATE([802.357, 608.245, 67.1201], [0.0, 0.0, -5.00531], [0.0, 0.0, 0.154675], -3.141592653578652)\n",
      "PHYSICAL_STATE([4.37966, 7.86378e-12, 3.80887e-14], [-1.86079e-13, -1.78635e-15, 0.0], [0.0, 0.0, 0.0], -3.131993020313196)\n",
      "\n",
      "1\n",
      "2.266443188770174\n",
      "accel_noise: -0.4716608608464083\n",
      "accels_speed[action]: -1.288\n",
      "BELIEF_STATE(MDP_STATE[SPEED_STATE(3291.86, 0.651285, 0.00959963, 0.0, 6.10524e-13, 1, 0.0)], [1.0])\n",
      "PHYSICAL_STATE([802.357, 608.245, 62.1939], [0.0, 0.0, -4.84713], [0.0, 0.0, 0.158178], -3.141592653578652)\n",
      "PHYSICAL_STATE([4.37966, 7.862e-12, 3.80887e-14], [-1.86079e-13, -1.78635e-15, 0.0], [0.0, 0.0, 0.0], -3.131993020313196)\n",
      "\n",
      "1\n",
      "1.8922732575760062\n",
      "accel_noise: -0.18115625588199244\n",
      "accels_speed[action]: -1.288\n",
      "BELIEF_STATE(MDP_STATE[SPEED_STATE(3291.86, 0.651285, 0.00959963, 0.0, 6.10524e-13, 1, 0.0)], [1.0])\n",
      "PHYSICAL_STATE([802.357, 608.245, 57.4276], [0.0, 0.0, -4.68545], [0.0, 0.0, 0.16168], -3.141592653578652)\n",
      "PHYSICAL_STATE([4.37966, 7.86021e-12, 3.80887e-14], [-1.86079e-13, -1.78635e-15, 0.0], [0.0, 0.0, 0.0], -3.131993020313196)\n",
      "\n",
      "1\n",
      "-0.8535828687705045\n",
      "accel_noise: 1.9507196186106401\n",
      "accels_speed[action]: -1.288\n",
      "BELIEF_STATE(MDP_STATE[SPEED_STATE(3291.86, 0.651285, 0.00959963, 0.0, 6.10524e-13, 1, 0.0)], [1.0])\n",
      "PHYSICAL_STATE([802.357, 608.245, 52.8247], [0.0, 0.0, -4.52027], [0.0, 0.0, 0.165183], -3.141592653578652)\n",
      "PHYSICAL_STATE([4.37966, 7.85842e-12, 3.80887e-14], [-1.86079e-13, -1.78635e-15, 0.0], [0.0, 0.0, 0.0], -3.131993020313196)\n",
      "\n",
      "1\n",
      "1.7071038117369797\n",
      "accel_noise: -0.03739115818088482\n",
      "accels_speed[action]: -1.288\n",
      "BELIEF_STATE(MDP_STATE[SPEED_STATE(3291.86, 0.651285, 0.00959963, 0.0, 6.10524e-13, 1, 0.0)], [1.0])\n",
      "PHYSICAL_STATE([802.357, 608.245, 48.3888], [0.0, 0.0, -4.35158], [0.0, 0.0, 0.168686], -3.141592653578652)\n",
      "PHYSICAL_STATE([4.37966, 7.85664e-12, 3.80887e-14], [-1.86079e-13, -1.78635e-15, 0.0], [0.0, 0.0, 0.0], -3.131993020313196)\n",
      "\n",
      "1\n",
      "2.7331350819253983\n",
      "accel_noise: -0.83399928720916\n",
      "accels_speed[action]: -1.288\n",
      "BELIEF_STATE(MDP_STATE[SPEED_STATE(3291.86, 0.651285, 0.00959963, 0.0, 6.10524e-13, 1, 0.0)], [1.0])\n",
      "PHYSICAL_STATE([802.357, 608.245, 44.1233], [0.0, 0.0, -4.17939], [0.0, 0.0, 0.172189], -3.141592653578652)\n",
      "PHYSICAL_STATE([4.37966, 7.85485e-12, 3.80887e-14], [-1.86079e-13, -1.78635e-15, 0.0], [0.0, 0.0, 0.0], -3.131993020313196)\n",
      "\n",
      "1\n",
      "1.4042705931831614\n",
      "accel_noise: 0.19772780032363238\n",
      "accels_speed[action]: -1.288\n",
      "BELIEF_STATE(MDP_STATE[SPEED_STATE(3291.86, 0.651285, 0.00959963, 0.0, 6.10524e-13, 1, 0.0)], [1.0])\n",
      "PHYSICAL_STATE([802.357, 608.245, 40.0318], [0.0, 0.0, -4.0037], [0.0, 0.0, 0.175692], -3.141592653578652)\n",
      "PHYSICAL_STATE([4.37966, 7.85306e-12, 1.67071e-13], [-1.86079e-13, -1.78635e-15, 2.57965e-13], [0.0, 0.0, 2.57965e-13], -3.131993020313196)\n",
      "\n",
      "1\n",
      "0.5639940633247457\n",
      "accel_noise: 0.850116410462154\n",
      "accels_speed[action]: -1.288\n",
      "BELIEF_STATE(MDP_STATE[SPEED_STATE(3291.86, 0.651285, 0.00959963, 0.0, 6.59438e-9, 1, 0.0)], [1.0])\n",
      "PHYSICAL_STATE([802.357, 608.245, 36.1177], [0.0, 0.0, -3.8245], [0.0, 0.0, 0.179195], -3.141592653578652)\n",
      "PHYSICAL_STATE([4.37966, -1.79515e-12, 4.58333], [-2.00987e-9, -1.92946e-11, 9.16667], [-2.00969e-9, -1.92929e-11, 9.16667], -3.1319930203131663)\n",
      "\n",
      "1\n",
      "0.7109146731990874\n",
      "accel_noise: 0.7360476139758638\n",
      "accels_speed[action]: -1.288\n",
      "BELIEF_STATE(MDP_STATE[SPEED_STATE(3291.86, 0.651285, 0.00959963, 0.0, 6.64922e-9, 1, 0.0)], [1.0])\n",
      "PHYSICAL_STATE([802.357, 608.245, 32.3845], [0.0, 0.0, -3.64181], [0.0, 0.0, 0.182698], -3.141592653578652)\n",
      "PHYSICAL_STATE([4.37966, -2.117e-11, 13.75], [-2.02659e-9, -1.94551e-11, 9.16667], [-1.67153e-11, -1.60466e-13, -3.5385e-12], -3.1319930203131663)\n",
      "\n",
      "1\n",
      "1.7964907969017057\n",
      "accel_noise: -0.10679099138331188\n",
      "accels_speed[action]: -1.288\n",
      "BELIEF_STATE(MDP_STATE[SPEED_STATE(3291.86, 0.651285, 0.00959963, 0.0, 6.65668e-9, 1, 0.0)], [1.0])\n",
      "PHYSICAL_STATE([802.357, 608.245, 28.8358], [0.0, 0.0, -3.45561], [0.0, 0.0, 0.186201], -3.141592653578652)\n",
      "PHYSICAL_STATE([4.37966, -4.06361e-11, 22.9167], [-2.02886e-9, -1.94769e-11, 9.16667], [-2.27442e-12, -2.18343e-14, -1.61826e-12], -3.1319930203131663)\n",
      "\n",
      "1\n",
      "1.4211260496935936\n",
      "accel_noise: 0.1846412657658436\n",
      "accels_speed[action]: -1.288\n",
      "BELIEF_STATE(MDP_STATE[SPEED_STATE(3291.86, 0.651285, 0.00959963, 0.0, 6.65817e-9, 1, 0.0)], [1.0])\n",
      "PHYSICAL_STATE([802.357, 608.245, 25.4751], [0.0, 0.0, -3.2659], [0.0, 0.0, 0.189704], -3.141592653578652)\n",
      "PHYSICAL_STATE([4.37966, -6.01152e-11, 32.0833], [-2.02932e-9, -1.94813e-11, 9.16667], [-4.52895e-13, -4.34776e-15, -9.87654e-13], -3.1319930203131663)\n",
      "\n",
      "1\n",
      "1.6258596866367165\n",
      "accel_noise: 0.025686578698201467\n",
      "accels_speed[action]: -1.288\n",
      "BELIEF_STATE(MDP_STATE[SPEED_STATE(3291.86, 0.651285, 0.00959963, 0.0, 6.65896e-9, 1, 0.0)], [1.0])\n",
      "PHYSICAL_STATE([802.357, 608.245, 22.3058], [0.0, 0.0, -3.0727], [0.0, 0.0, 0.193207], -3.141592653578652)\n",
      "PHYSICAL_STATE([4.37966, -7.95976e-11, 41.25], [-2.02956e-9, -1.94836e-11, 9.16667], [-2.4145e-13, -2.3179e-15, -6.6791e-13], -3.1319930203131663)\n",
      "\n",
      "1\n",
      "2.688699845941763\n",
      "accel_noise: -0.7994998803895677\n",
      "accels_speed[action]: -1.288\n",
      "BELIEF_STATE(MDP_STATE[SPEED_STATE(3291.86, 0.651285, 0.00959963, 0.0, 6.65942e-9, 1, 0.0)], [1.0])\n",
      "PHYSICAL_STATE([802.357, 608.245, 19.3314], [0.0, 0.0, -2.87599], [0.0, 0.0, 0.196709], -3.141592653578652)\n",
      "PHYSICAL_STATE([4.37966, -9.90819e-11, 50.4167], [-2.0297e-9, -1.9485e-11, 9.16667], [-1.3993e-13, -1.34331e-15, -5.8975e-13], -3.1319930203131663)\n",
      "\n",
      "1\n",
      "1.3819463984121727\n",
      "accel_noise: 0.21506024967999032\n",
      "accels_speed[action]: -1.288\n",
      "BELIEF_STATE(MDP_STATE[SPEED_STATE(3291.86, 0.651285, 0.00959963, 0.0, 6.65969e-9, 1, 0.0)], [1.0])\n",
      "PHYSICAL_STATE([802.357, 608.245, 16.5556], [0.0, 0.0, -2.67577], [0.0, 0.0, 0.200212], -3.141592653578652)\n",
      "PHYSICAL_STATE([4.37966, -1.18567e-10, 59.5833], [-2.02978e-9, -1.94857e-11, 9.16667], [-8.27732e-14, -7.94617e-16, -5.8975e-13], -3.1319930203131663)\n",
      "\n",
      "1\n",
      "2.6392724058749906\n",
      "accel_noise: -0.7611245387228187\n",
      "accels_speed[action]: -1.288\n",
      "BELIEF_STATE(MDP_STATE[SPEED_STATE(3291.86, 0.651285, 0.00959963, 0.0, 6.65988e-9, 1, 0.0)], [1.0])\n",
      "PHYSICAL_STATE([802.357, 608.245, 13.9816], [0.0, 0.0, -2.47206], [0.0, 0.0, 0.203715], -3.141592653578652)\n",
      "PHYSICAL_STATE([4.37966, -1.38053e-10, 68.75], [-2.02984e-9, -1.94863e-11, 9.16667], [-5.60291e-14, -5.37876e-16, -6.53699e-13], -3.1319930203131663)\n",
      "\n",
      "1\n",
      "2.254087730182872\n",
      "accel_noise: -0.4620681134960186\n",
      "accels_speed[action]: -1.288\n",
      "BELIEF_STATE(MDP_STATE[SPEED_STATE(3291.86, 0.651285, 0.00959963, 0.0, 6.66002e-9, 1, 0.0)], [1.0])\n",
      "PHYSICAL_STATE([802.357, 608.245, 11.6132], [0.0, 0.0, -2.26484], [0.0, 0.0, 0.207218], -3.141592653578652)\n",
      "PHYSICAL_STATE([4.37966, -1.5754e-10, 77.9167], [-2.02988e-9, -1.94867e-11, 9.16667], [-4.4707e-14, -4.29184e-16, -6.25278e-13], -3.1319930203131663)\n",
      "\n",
      "1\n",
      "2.26130532983671\n",
      "accel_noise: -0.46767183993533357\n",
      "accels_speed[action]: -1.288\n",
      "BELIEF_STATE(MDP_STATE[SPEED_STATE(3291.86, 0.651285, 0.00959963, 0.0, 6.66015e-9, 1, 0.0)], [1.0])\n",
      "PHYSICAL_STATE([802.357, 608.245, 9.45371], [0.0, 0.0, -2.05412], [0.0, 0.0, 0.210721], -3.141592653578652)\n",
      "PHYSICAL_STATE([4.37966, -1.77027e-10, 87.0833], [-2.02992e-9, -1.94871e-11, 9.16667], [-3.98726e-14, -3.82774e-16, -6.53699e-13], -3.1319930203131663)\n",
      "\n",
      "1\n",
      "2.1857216201365763\n",
      "accel_noise: -0.4089888355097643\n",
      "accels_speed[action]: -1.288\n",
      "BELIEF_STATE(MDP_STATE[SPEED_STATE(3291.86, 0.651285, 0.00959963, 0.0, 6.66028e-9, 1, 0.0)], [1.0])\n",
      "PHYSICAL_STATE([802.357, 608.245, 7.5067], [0.0, 0.0, -1.8399], [0.0, 0.0, 0.214224], -3.141592653578652)\n",
      "PHYSICAL_STATE([4.37966, -1.96514e-10, 96.25], [-2.02996e-9, -1.94875e-11, 9.16667], [-3.79226e-14, -3.64054e-16, -6.11067e-13], -3.1319930203131663)\n",
      "\n",
      "1\n",
      "1.158520768915946\n",
      "accel_noise: 0.388527353326129\n",
      "accels_speed[action]: -1.288\n",
      "BELIEF_STATE(MDP_STATE[SPEED_STATE(3291.86, 0.651285, 0.00959963, 0.0, 6.6604e-9, 1, 0.0)], [1.0])\n",
      "PHYSICAL_STATE([802.357, 608.245, 5.77567], [0.0, 0.0, -1.62217], [0.0, 0.0, 0.217727], -3.141592653578652)\n",
      "PHYSICAL_STATE([4.37966, -2.16002e-10, 105.417], [-2.03e-9, -1.94878e-11, 9.16667], [-3.79408e-14, -3.64229e-16, -5.25802e-13], -3.1319930203131663)\n",
      "\n",
      "1\n",
      "2.1174095650339\n",
      "accel_noise: -0.35595152564743787\n",
      "accels_speed[action]: -1.288\n",
      "BELIEF_STATE(MDP_STATE[SPEED_STATE(3291.86, 0.651285, 0.00959963, 0.0, 6.66053e-9, 1, 0.976495)], [1.0])\n",
      "PHYSICAL_STATE([802.357, 608.245, 4.26412], [0.0, 0.0, -1.40094], [0.0, 0.0, 0.22123], -3.141592653578652)\n",
      "PHYSICAL_STATE([4.37966, -2.3549e-10, 114.583], [-2.03004e-9, -1.94882e-11, 9.16667], [-3.99407e-14, -3.83428e-16, -4.9738e-13], -3.1319930203131663)\n",
      "\n",
      "1\n",
      "2.397592888367172\n",
      "accel_noise: -0.5734851617757546\n",
      "accels_speed[action]: -1.288\n",
      "BELIEF_STATE(MDP_STATE[SPEED_STATE(3291.86, 0.651285, 0.00959963, 0.0, 6.66068e-9, 1, 2.00858)], [1.0])\n",
      "PHYSICAL_STATE([802.357, 608.245, 2.97554], [0.0, 0.0, -1.17621], [0.0, 0.0, 0.224733], -3.141592653578652)\n",
      "PHYSICAL_STATE([4.37966, -2.54978e-10, 123.75], [-2.03008e-9, -1.94886e-11, 9.16667], [-4.39756e-14, -4.22163e-16, -4.26326e-13], -3.1319930203131663)\n",
      "\n",
      "1\n",
      "0.8073359490644314\n",
      "accel_noise: 0.6611863749499757\n",
      "accels_speed[action]: -1.288\n"
     ]
    },
    {
     "name": "stdout",
     "output_type": "stream",
     "text": [
      "BELIEF_STATE(MDP_STATE[SPEED_STATE(3291.86, 0.651285, 0.00959963, 0.0, 6.66084e-9, 1, 3.06518)], [1.0])\n",
      "PHYSICAL_STATE([802.357, 608.245, 1.91346], [0.0, 0.0, -0.947971], [0.0, 0.0, 0.228235], -3.141592653578652)\n",
      "PHYSICAL_STATE([4.37966, -2.74467e-10, 132.917], [-2.03013e-9, -1.94891e-11, 9.16667], [-4.97323e-14, -4.77427e-16, -3.12639e-13], -3.1319930203131663)\n",
      "\n",
      "1\n",
      "1.641518994177979\n",
      "accel_noise: 0.013528731228277158\n",
      "accels_speed[action]: -1.288\n",
      "BELIEF_STATE(MDP_STATE[SPEED_STATE(3291.86, 0.651285, 0.00959963, 0.0, 6.66103e-9, 1, 4.14878)], [1.0])\n",
      "PHYSICAL_STATE([802.357, 608.245, 1.08135], [0.0, 0.0, -0.716232], [0.0, 0.0, 0.231738], -3.141592653578652)\n",
      "PHYSICAL_STATE([4.37966, -2.93956e-10, 142.083], [-2.03019e-9, -1.94897e-11, 9.16667], [-5.72873e-14, -5.49954e-16, -1.98952e-13], -3.1319930203131663)\n",
      "\n",
      "1\n",
      "0.060712615165628425\n",
      "accel_noise: 1.2408628764242016\n",
      "accels_speed[action]: -1.288\n",
      "BELIEF_STATE(MDP_STATE[SPEED_STATE(3291.86, 0.651285, 0.00959963, 0.0, 6.66126e-9, 1, 5.26213)], [1.0])\n",
      "PHYSICAL_STATE([802.357, 608.245, 0.482743], [0.0, 0.0, -0.480991], [0.0, 0.0, 0.235241], -3.141592653578652)\n",
      "PHYSICAL_STATE([4.37966, -3.13446e-10, 151.25], [-2.03026e-9, -1.94903e-11, 9.16667], [-7.19671e-14, -6.90879e-16, -5.68434e-14], -3.1319930203131663)\n",
      "\n",
      "1\n",
      "1.4020599958507485\n",
      "accel_noise: 0.1994441026003506\n",
      "accels_speed[action]: -1.288\n",
      "BELIEF_STATE(MDP_STATE[SPEED_STATE(3291.86, 0.651285, 0.00959963, 0.0, 6.66165e-9, 1, 6.40834)], [1.0])\n",
      "PHYSICAL_STATE([802.357, 608.245, 0.121124], [0.0, 0.0, -0.242247], [0.0, 0.0, 0.238744], -3.141592653578652)\n",
      "PHYSICAL_STATE([4.37966, -3.32937e-10, 160.417], [-2.03038e-9, -1.94915e-11, 9.16667], [-1.17039e-13, -1.12357e-15, 1.42109e-13], -3.1319930203131663)\n",
      "\n",
      "1\n",
      "0.4383655905347146\n",
      "accel_noise: 0.9476540446159049\n",
      "accels_speed[action]: -1.288\n",
      "BELIEF_STATE(MDP_STATE[SPEED_STATE(3291.86, 0.651285, 0.00959963, 0.0, 6.66245e-9, 1, 7.59091)], [1.0])\n",
      "PHYSICAL_STATE([802.357, 608.245, 1.91384e-12], [0.0, 0.0, -2.61294e-12], [0.0, 0.0, 0.242247], -3.141592653578652)\n",
      "PHYSICAL_STATE([4.37966, -3.5243e-10, 169.583], [-2.03062e-9, -1.94938e-11, 9.16667], [-2.45263e-13, -2.35451e-15, 1.98952e-13], -3.1319930203131663)\n",
      "\n"
     ]
    }
   ],
   "source": [
    "Random.seed!(24)\n",
    "xr_sim!(sim, [6], verbose=true);"
   ]
  },
  {
   "cell_type": "code",
   "execution_count": null,
   "metadata": {},
   "outputs": [],
   "source": []
  },
  {
   "cell_type": "code",
   "execution_count": 21,
   "metadata": {},
   "outputs": [],
   "source": [
    "sim = simulation()\n",
    "sim.sim_out = small_simulation_output()\n",
    "sim.enc_file = \"../data_files/uam_suas.bin\";"
   ]
  },
  {
   "cell_type": "code",
   "execution_count": 59,
   "metadata": {},
   "outputs": [
    {
     "data": {
      "text/plain": [
       "1727"
      ]
     },
     "execution_count": 59,
     "metadata": {},
     "output_type": "execute_result"
    }
   ],
   "source": [
    "xr_sim!(sim)\n",
    "sim.sim_out.nmacs"
   ]
  },
  {
   "cell_type": "code",
   "execution_count": null,
   "metadata": {},
   "outputs": [],
   "source": []
  }
 ],
 "metadata": {
  "@webio": {
   "lastCommId": "65cb2cf3d8a74cdd8b7c796ded2aadc0",
   "lastKernelId": "2b84e950-cac3-40e5-bda6-77838ec0d286"
  },
  "kernelspec": {
   "display_name": "Julia 1.1.0",
   "language": "julia",
   "name": "julia-1.1"
  },
  "language_info": {
   "file_extension": ".jl",
   "mimetype": "application/julia",
   "name": "julia",
   "version": "1.1.0"
  }
 },
 "nbformat": 4,
 "nbformat_minor": 2
}
