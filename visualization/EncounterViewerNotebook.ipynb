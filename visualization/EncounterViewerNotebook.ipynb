{
 "cells": [
  {
   "cell_type": "code",
   "execution_count": 14,
   "metadata": {},
   "outputs": [
    {
     "data": {
      "text/plain": [
       "convert_bin_to_h5 (generic function with 1 method)"
      ]
     },
     "execution_count": 14,
     "metadata": {},
     "output_type": "execute_result"
    }
   ],
   "source": [
    "using Random\n",
    "include(\"../src/Xr.jl\")"
   ]
  },
  {
   "cell_type": "code",
   "execution_count": 2,
   "metadata": {},
   "outputs": [],
   "source": [
    "sim = simulation()\n",
    "#sim.acs[1] = uam_speed(q_file = \"../data_files/test_speed.bin\")\n",
    "sim.acs[1] = uam_blended(q_file_vert=\"../data_files/test.bin\", q_file_speed=\"../data_files/test_speed.bin\")\n",
    "sim.sim_out = small_simulation_output()\n",
    "sim.enc_file = \"../data_files/uam_manned.bin\";"
   ]
  },
  {
   "cell_type": "code",
   "execution_count": 13,
   "metadata": {},
   "outputs": [],
   "source": [
    "Random.seed!(24)\n",
    "xr_sim!(sim);"
   ]
  },
  {
   "cell_type": "code",
   "execution_count": 14,
   "metadata": {
    "scrolled": true
   },
   "outputs": [
    {
     "data": {
      "text/plain": [
       "15"
      ]
     },
     "execution_count": 14,
     "metadata": {},
     "output_type": "execute_result"
    }
   ],
   "source": [
    "sim.sim_out.nmacs"
   ]
  },
  {
   "cell_type": "code",
   "execution_count": 15,
   "metadata": {},
   "outputs": [],
   "source": [
    "nInds = sim.sim_out.nmac_inds;"
   ]
  },
  {
   "cell_type": "code",
   "execution_count": 16,
   "metadata": {},
   "outputs": [],
   "source": [
    "sim = simulation()\n",
    "#sim.acs[1] = uam_speed(q_file = \"/scratch/smkatz/speed_table_0.4.bin\")\n",
    "#sim.acs[1] = uam_vert(q_file = \"../data_files/test.bin\")\n",
    "sim.acs[1] = uam_blended(q_file_vert=\"../data_files/test.bin\", q_file_speed=\"../data_files/test_speed.bin\")\n",
    "sim.enc_file = \"../data_files/uam_hd.bin\";"
   ]
  },
  {
   "cell_type": "code",
   "execution_count": 17,
   "metadata": {},
   "outputs": [],
   "source": [
    "Random.seed!(24)\n",
    "xr_sim!(sim, collect(200:250));"
   ]
  },
  {
   "cell_type": "code",
   "execution_count": 26,
   "metadata": {},
   "outputs": [],
   "source": [
    "include(\"UAMEncounterViewer.jl\");"
   ]
  },
  {
   "cell_type": "code",
   "execution_count": 27,
   "metadata": {
    "scrolled": false
   },
   "outputs": [
    {
     "data": {
      "application/vnd.webio.node+json": {
       "children": [
        {
         "children": [
          {
           "children": [
            {
             "children": [
              {
               "children": [
                {
                 "children": [
                  "File Name"
                 ],
                 "instanceArgs": {
                  "namespace": "html",
                  "tag": "label"
                 },
                 "nodeType": "DOM",
                 "props": {
                  "className": "interact ",
                  "style": {
                   "padding": "5px 10px 0px 10px"
                  }
                 },
                 "type": "node"
                }
               ],
               "instanceArgs": {
                "namespace": "html",
                "tag": "div"
               },
               "nodeType": "DOM",
               "props": {
                "className": "interact-flex-row-left"
               },
               "type": "node"
              },
              {
               "children": [
                {
                 "children": [],
                 "instanceArgs": {
                  "namespace": "html",
                  "tag": "input"
                 },
                 "nodeType": "DOM",
                 "props": {
                  "attributes": {
                   "data-bind": "value: value, valueUpdate: 'input', event: {change: function (){this.changes(this.changes()+1)}}",
                   "type": "text"
                  },
                  "className": "input ",
                  "placeholder": "",
                  "style": {}
                 },
                 "type": "node"
                }
               ],
               "instanceArgs": {
                "namespace": "html",
                "tag": "div"
               },
               "nodeType": "DOM",
               "props": {
                "className": "interact-flex-row-center"
               },
               "type": "node"
              },
              {
               "children": [
                {
                 "children": [],
                 "instanceArgs": {
                  "namespace": "html",
                  "tag": "div"
                 },
                 "nodeType": "DOM",
                 "props": {},
                 "type": "node"
                }
               ],
               "instanceArgs": {
                "namespace": "html",
                "tag": "div"
               },
               "nodeType": "DOM",
               "props": {
                "className": "interact-flex-row-right"
               },
               "type": "node"
              }
             ],
             "instanceArgs": {
              "namespace": "html",
              "tag": "div"
             },
             "nodeType": "DOM",
             "props": {
              "className": "interact-flex-row interact-widget"
             },
             "type": "node"
            }
           ],
           "instanceArgs": {
            "handlers": {
             "changes": [
              "(function (val){return (val!=this.model[\"changes\"]()) ? (this.valueFromJulia[\"changes\"]=true, this.model[\"changes\"](val)) : undefined})"
             ],
             "value": [
              "(function (val){return (val!=this.model[\"value\"]()) ? (this.valueFromJulia[\"value\"]=true, this.model[\"value\"](val)) : undefined})"
             ]
            },
            "id": "937082067056442627",
            "imports": {
             "data": [
              {
               "name": "knockout",
               "type": "js",
               "url": "/assetserver/3bd9b1de736b098e415b41735ebb66f92146af63-knockout.js"
              },
              {
               "name": "knockout_punches",
               "type": "js",
               "url": "/assetserver/f693c45e4673819d9631890b2dbb7b49bac52036-knockout_punches.js"
              },
              {
               "name": null,
               "type": "js",
               "url": "/assetserver/dadd00ee86bab68922605b4c34c155a51b0e2466-all.js"
              },
              {
               "name": null,
               "type": "css",
               "url": "/assetserver/783bf076fab44d74d9ad020ce784f4d35b2c125e-style.css"
              },
              {
               "name": null,
               "type": "css",
               "url": "/assetserver/81f83aa7d914707240f02251f8f73fd02ba8c8be-bulma_confined.min.css"
              }
             ],
             "type": "async_block"
            },
            "mount_callbacks": [
             "function () {\n    var handler = (function (ko, koPunches) {\n    ko.punches.enableAll();\n    ko.bindingHandlers.numericValue = {\n        init: function(element, valueAccessor, allBindings, data, context) {\n            var stringified = ko.observable(ko.unwrap(valueAccessor()));\n            stringified.subscribe(function(value) {\n                var val = parseFloat(value);\n                if (!isNaN(val)) {\n                    valueAccessor()(val);\n                }\n            });\n            valueAccessor().subscribe(function(value) {\n                var str = JSON.stringify(value);\n                if ((str == \"0\") && ([\"-0\", \"-0.\"].indexOf(stringified()) >= 0))\n                     return;\n                 if ([\"null\", \"\"].indexOf(str) >= 0)\n                     return;\n                stringified(str);\n            });\n            ko.applyBindingsToNode(\n                element,\n                {\n                    value: stringified,\n                    valueUpdate: allBindings.get('valueUpdate'),\n                },\n                context,\n            );\n        }\n    };\n    var json_data = {\"changes\":WebIO.getval({\"name\":\"changes\",\"scope\":\"937082067056442627\",\"id\":\"ob_90\",\"type\":\"observable\"}),\"value\":WebIO.getval({\"name\":\"value\",\"scope\":\"937082067056442627\",\"id\":\"ob_89\",\"type\":\"observable\"})};\n    var self = this;\n    function AppViewModel() {\n        for (var key in json_data) {\n            var el = json_data[key];\n            this[key] = Array.isArray(el) ? ko.observableArray(el) : ko.observable(el);\n        }\n        \n        \n        [this[\"changes\"].subscribe((function (val){!(this.valueFromJulia[\"changes\"]) ? (WebIO.setval({\"name\":\"changes\",\"scope\":\"937082067056442627\",\"id\":\"ob_90\",\"type\":\"observable\"},val)) : undefined; return this.valueFromJulia[\"changes\"]=false}),self),this[\"value\"].subscribe((function (val){!(this.valueFromJulia[\"value\"]) ? (WebIO.setval({\"name\":\"value\",\"scope\":\"937082067056442627\",\"id\":\"ob_89\",\"type\":\"observable\"},val)) : undefined; return this.valueFromJulia[\"value\"]=false}),self)]\n        \n    }\n    self.model = new AppViewModel();\n    self.valueFromJulia = {};\n    for (var key in json_data) {\n        self.valueFromJulia[key] = false;\n    }\n    ko.applyBindings(self.model, self.dom);\n}\n);\n    (WebIO.importBlock({\"data\":[{\"name\":\"knockout\",\"type\":\"js\",\"url\":\"/assetserver/3bd9b1de736b098e415b41735ebb66f92146af63-knockout.js\"},{\"name\":\"knockout_punches\",\"type\":\"js\",\"url\":\"/assetserver/f693c45e4673819d9631890b2dbb7b49bac52036-knockout_punches.js\"}],\"type\":\"async_block\"})).then((imports) => handler.apply(this, imports));\n}\n"
            ],
            "observables": {
             "changes": {
              "id": "ob_90",
              "sync": true,
              "value": 0
             },
             "value": {
              "id": "ob_89",
              "sync": false,
              "value": "myFile.pdf"
             }
            },
            "systemjs_options": null
           },
           "nodeType": "Scope",
           "props": {},
           "type": "node"
          }
         ],
         "instanceArgs": {
          "namespace": "html",
          "tag": "div"
         },
         "nodeType": "DOM",
         "props": {
          "className": "field interact-widget"
         },
         "type": "node"
        },
        {
         "children": [
          {
           "children": [
            {
             "children": [
              "Save Plot"
             ],
             "instanceArgs": {
              "namespace": "html",
              "tag": "button"
             },
             "nodeType": "DOM",
             "props": {
              "attributes": {
               "data-bind": "click: function (){this.clicks(this.clicks()+1)}, css: {'is-loading' : loading}"
              },
              "className": "is-medium button is-primary",
              "style": {}
             },
             "type": "node"
            }
           ],
           "instanceArgs": {
            "handlers": {
             "clicks": [
              "(function (val){return (val!=this.model[\"clicks\"]()) ? (this.valueFromJulia[\"clicks\"]=true, this.model[\"clicks\"](val)) : undefined})"
             ],
             "loading": [
              "(function (val){return (val!=this.model[\"loading\"]()) ? (this.valueFromJulia[\"loading\"]=true, this.model[\"loading\"](val)) : undefined})"
             ]
            },
            "id": "1949509288436261334",
            "imports": {
             "data": [
              {
               "name": "knockout",
               "type": "js",
               "url": "/assetserver/3bd9b1de736b098e415b41735ebb66f92146af63-knockout.js"
              },
              {
               "name": "knockout_punches",
               "type": "js",
               "url": "/assetserver/f693c45e4673819d9631890b2dbb7b49bac52036-knockout_punches.js"
              },
              {
               "name": null,
               "type": "js",
               "url": "/assetserver/dadd00ee86bab68922605b4c34c155a51b0e2466-all.js"
              },
              {
               "name": null,
               "type": "css",
               "url": "/assetserver/783bf076fab44d74d9ad020ce784f4d35b2c125e-style.css"
              },
              {
               "name": null,
               "type": "css",
               "url": "/assetserver/81f83aa7d914707240f02251f8f73fd02ba8c8be-bulma_confined.min.css"
              }
             ],
             "type": "async_block"
            },
            "mount_callbacks": [
             "function () {\n    var handler = (function (ko, koPunches) {\n    ko.punches.enableAll();\n    ko.bindingHandlers.numericValue = {\n        init: function(element, valueAccessor, allBindings, data, context) {\n            var stringified = ko.observable(ko.unwrap(valueAccessor()));\n            stringified.subscribe(function(value) {\n                var val = parseFloat(value);\n                if (!isNaN(val)) {\n                    valueAccessor()(val);\n                }\n            });\n            valueAccessor().subscribe(function(value) {\n                var str = JSON.stringify(value);\n                if ((str == \"0\") && ([\"-0\", \"-0.\"].indexOf(stringified()) >= 0))\n                     return;\n                 if ([\"null\", \"\"].indexOf(str) >= 0)\n                     return;\n                stringified(str);\n            });\n            ko.applyBindingsToNode(\n                element,\n                {\n                    value: stringified,\n                    valueUpdate: allBindings.get('valueUpdate'),\n                },\n                context,\n            );\n        }\n    };\n    var json_data = {\"loading\":WebIO.getval({\"name\":\"loading\",\"scope\":\"1949509288436261334\",\"id\":\"ob_93\",\"type\":\"observable\"}),\"clicks\":WebIO.getval({\"name\":\"clicks\",\"scope\":\"1949509288436261334\",\"id\":\"ob_92\",\"type\":\"observable\"})};\n    var self = this;\n    function AppViewModel() {\n        for (var key in json_data) {\n            var el = json_data[key];\n            this[key] = Array.isArray(el) ? ko.observableArray(el) : ko.observable(el);\n        }\n        \n        \n        [this[\"loading\"].subscribe((function (val){!(this.valueFromJulia[\"loading\"]) ? (WebIO.setval({\"name\":\"loading\",\"scope\":\"1949509288436261334\",\"id\":\"ob_93\",\"type\":\"observable\"},val)) : undefined; return this.valueFromJulia[\"loading\"]=false}),self),this[\"clicks\"].subscribe((function (val){!(this.valueFromJulia[\"clicks\"]) ? (WebIO.setval({\"name\":\"clicks\",\"scope\":\"1949509288436261334\",\"id\":\"ob_92\",\"type\":\"observable\"},val)) : undefined; return this.valueFromJulia[\"clicks\"]=false}),self)]\n        \n    }\n    self.model = new AppViewModel();\n    self.valueFromJulia = {};\n    for (var key in json_data) {\n        self.valueFromJulia[key] = false;\n    }\n    ko.applyBindings(self.model, self.dom);\n}\n);\n    (WebIO.importBlock({\"data\":[{\"name\":\"knockout\",\"type\":\"js\",\"url\":\"/assetserver/3bd9b1de736b098e415b41735ebb66f92146af63-knockout.js\"},{\"name\":\"knockout_punches\",\"type\":\"js\",\"url\":\"/assetserver/f693c45e4673819d9631890b2dbb7b49bac52036-knockout_punches.js\"}],\"type\":\"async_block\"})).then((imports) => handler.apply(this, imports));\n}\n"
            ],
            "observables": {
             "clicks": {
              "id": "ob_92",
              "sync": true,
              "value": 0
             },
             "loading": {
              "id": "ob_93",
              "sync": false,
              "value": false
             }
            },
            "systemjs_options": null
           },
           "nodeType": "Scope",
           "props": {},
           "type": "node"
          }
         ],
         "instanceArgs": {
          "namespace": "html",
          "tag": "div"
         },
         "nodeType": "DOM",
         "props": {
          "className": "field interact-widget"
         },
         "type": "node"
        },
        {
         "children": [
          {
           "children": [
            {
             "children": [],
             "instanceArgs": {
              "namespace": "html",
              "tag": "input"
             },
             "nodeType": "DOM",
             "props": {
              "attributes": {
               "data-bind": "numericValue: value, valueUpdate: 'input', event: {change: function (){this.changes(this.changes()+1)}}",
               "type": "number"
              },
              "className": "input ",
              "max": 51,
              "min": 1,
              "placeholder": "",
              "step": 1,
              "style": {}
             },
             "type": "node"
            }
           ],
           "instanceArgs": {
            "handlers": {
             "changes": [
              "(function (val){return (val!=this.model[\"changes\"]()) ? (this.valueFromJulia[\"changes\"]=true, this.model[\"changes\"](val)) : undefined})"
             ],
             "value": [
              "(function (val){return (val!=this.model[\"value\"]()) ? (this.valueFromJulia[\"value\"]=true, this.model[\"value\"](val)) : undefined})"
             ]
            },
            "id": "366141073293675721",
            "imports": {
             "data": [
              {
               "name": "knockout",
               "type": "js",
               "url": "/assetserver/3bd9b1de736b098e415b41735ebb66f92146af63-knockout.js"
              },
              {
               "name": "knockout_punches",
               "type": "js",
               "url": "/assetserver/f693c45e4673819d9631890b2dbb7b49bac52036-knockout_punches.js"
              },
              {
               "name": null,
               "type": "js",
               "url": "/assetserver/dadd00ee86bab68922605b4c34c155a51b0e2466-all.js"
              },
              {
               "name": null,
               "type": "css",
               "url": "/assetserver/783bf076fab44d74d9ad020ce784f4d35b2c125e-style.css"
              },
              {
               "name": null,
               "type": "css",
               "url": "/assetserver/81f83aa7d914707240f02251f8f73fd02ba8c8be-bulma_confined.min.css"
              }
             ],
             "type": "async_block"
            },
            "mount_callbacks": [
             "function () {\n    var handler = (function (ko, koPunches) {\n    ko.punches.enableAll();\n    ko.bindingHandlers.numericValue = {\n        init: function(element, valueAccessor, allBindings, data, context) {\n            var stringified = ko.observable(ko.unwrap(valueAccessor()));\n            stringified.subscribe(function(value) {\n                var val = parseFloat(value);\n                if (!isNaN(val)) {\n                    valueAccessor()(val);\n                }\n            });\n            valueAccessor().subscribe(function(value) {\n                var str = JSON.stringify(value);\n                if ((str == \"0\") && ([\"-0\", \"-0.\"].indexOf(stringified()) >= 0))\n                     return;\n                 if ([\"null\", \"\"].indexOf(str) >= 0)\n                     return;\n                stringified(str);\n            });\n            ko.applyBindingsToNode(\n                element,\n                {\n                    value: stringified,\n                    valueUpdate: allBindings.get('valueUpdate'),\n                },\n                context,\n            );\n        }\n    };\n    var json_data = {\"changes\":WebIO.getval({\"name\":\"changes\",\"scope\":\"366141073293675721\",\"id\":\"ob_95\",\"type\":\"observable\"}),\"value\":WebIO.getval({\"name\":\"value\",\"scope\":\"366141073293675721\",\"id\":\"ob_94\",\"type\":\"observable\"})};\n    var self = this;\n    function AppViewModel() {\n        for (var key in json_data) {\n            var el = json_data[key];\n            this[key] = Array.isArray(el) ? ko.observableArray(el) : ko.observable(el);\n        }\n        \n        \n        [this[\"changes\"].subscribe((function (val){!(this.valueFromJulia[\"changes\"]) ? (WebIO.setval({\"name\":\"changes\",\"scope\":\"366141073293675721\",\"id\":\"ob_95\",\"type\":\"observable\"},val)) : undefined; return this.valueFromJulia[\"changes\"]=false}),self),this[\"value\"].subscribe((function (val){!(this.valueFromJulia[\"value\"]) ? (WebIO.setval({\"name\":\"value\",\"scope\":\"366141073293675721\",\"id\":\"ob_94\",\"type\":\"observable\"},val)) : undefined; return this.valueFromJulia[\"value\"]=false}),self)]\n        \n    }\n    self.model = new AppViewModel();\n    self.valueFromJulia = {};\n    for (var key in json_data) {\n        self.valueFromJulia[key] = false;\n    }\n    ko.applyBindings(self.model, self.dom);\n}\n);\n    (WebIO.importBlock({\"data\":[{\"name\":\"knockout\",\"type\":\"js\",\"url\":\"/assetserver/3bd9b1de736b098e415b41735ebb66f92146af63-knockout.js\"},{\"name\":\"knockout_punches\",\"type\":\"js\",\"url\":\"/assetserver/f693c45e4673819d9631890b2dbb7b49bac52036-knockout_punches.js\"}],\"type\":\"async_block\"})).then((imports) => handler.apply(this, imports));\n}\n"
            ],
            "observables": {
             "changes": {
              "id": "ob_95",
              "sync": false,
              "value": 0
             },
             "value": {
              "id": "ob_94",
              "sync": true,
              "value": 1
             }
            },
            "systemjs_options": null
           },
           "nodeType": "Scope",
           "props": {},
           "type": "node"
          }
         ],
         "instanceArgs": {
          "namespace": "html",
          "tag": "div"
         },
         "nodeType": "DOM",
         "props": {
          "className": "field interact-widget"
         },
         "type": "node"
        },
        {
         "children": [
          {
           "children": [
            {
             "children": [
              {
               "children": [
                {
                 "children": [
                  ""
                 ],
                 "instanceArgs": {
                  "namespace": "html",
                  "tag": "label"
                 },
                 "nodeType": "DOM",
                 "props": {
                  "className": "interact ",
                  "style": {
                   "padding": "5px 10px 0px 10px"
                  }
                 },
                 "type": "node"
                }
               ],
               "instanceArgs": {
                "namespace": "html",
                "tag": "div"
               },
               "nodeType": "DOM",
               "props": {
                "className": "interact-flex-row-left"
               },
               "type": "node"
              },
              {
               "children": [
                {
                 "children": [],
                 "instanceArgs": {
                  "namespace": "html",
                  "tag": "input"
                 },
                 "nodeType": "DOM",
                 "props": {
                  "attributes": {
                   "data-bind": "numericValue: index, valueUpdate: 'input', event: {change: function (){this.changes(this.changes()+1)}}",
                   "orient": "horizontal",
                   "type": "range"
                  },
                  "className": "slider slider is-fullwidth",
                  "max": 121,
                  "min": 1,
                  "step": 1,
                  "style": {}
                 },
                 "type": "node"
                }
               ],
               "instanceArgs": {
                "namespace": "html",
                "tag": "div"
               },
               "nodeType": "DOM",
               "props": {
                "className": "interact-flex-row-center"
               },
               "type": "node"
              },
              {
               "children": [
                {
                 "children": [],
                 "instanceArgs": {
                  "namespace": "html",
                  "tag": "p"
                 },
                 "nodeType": "DOM",
                 "props": {
                  "attributes": {
                   "data-bind": "text: formatted_val"
                  }
                 },
                 "type": "node"
                }
               ],
               "instanceArgs": {
                "namespace": "html",
                "tag": "div"
               },
               "nodeType": "DOM",
               "props": {
                "className": "interact-flex-row-right"
               },
               "type": "node"
              }
             ],
             "instanceArgs": {
              "namespace": "html",
              "tag": "div"
             },
             "nodeType": "DOM",
             "props": {
              "className": "interact-flex-row interact-widget"
             },
             "type": "node"
            }
           ],
           "instanceArgs": {
            "handlers": {
             "changes": [
              "(function (val){return (val!=this.model[\"changes\"]()) ? (this.valueFromJulia[\"changes\"]=true, this.model[\"changes\"](val)) : undefined})"
             ],
             "index": [
              "(function (val){return (val!=this.model[\"index\"]()) ? (this.valueFromJulia[\"index\"]=true, this.model[\"index\"](val)) : undefined})"
             ]
            },
            "id": "10951020670634605094",
            "imports": {
             "data": [
              {
               "name": "knockout",
               "type": "js",
               "url": "/assetserver/3bd9b1de736b098e415b41735ebb66f92146af63-knockout.js"
              },
              {
               "name": "knockout_punches",
               "type": "js",
               "url": "/assetserver/f693c45e4673819d9631890b2dbb7b49bac52036-knockout_punches.js"
              },
              {
               "name": null,
               "type": "js",
               "url": "/assetserver/dadd00ee86bab68922605b4c34c155a51b0e2466-all.js"
              },
              {
               "name": null,
               "type": "css",
               "url": "/assetserver/783bf076fab44d74d9ad020ce784f4d35b2c125e-style.css"
              },
              {
               "name": null,
               "type": "css",
               "url": "/assetserver/81f83aa7d914707240f02251f8f73fd02ba8c8be-bulma_confined.min.css"
              }
             ],
             "type": "async_block"
            },
            "mount_callbacks": [
             "function () {\n    var handler = (function (ko, koPunches) {\n    ko.punches.enableAll();\n    ko.bindingHandlers.numericValue = {\n        init: function(element, valueAccessor, allBindings, data, context) {\n            var stringified = ko.observable(ko.unwrap(valueAccessor()));\n            stringified.subscribe(function(value) {\n                var val = parseFloat(value);\n                if (!isNaN(val)) {\n                    valueAccessor()(val);\n                }\n            });\n            valueAccessor().subscribe(function(value) {\n                var str = JSON.stringify(value);\n                if ((str == \"0\") && ([\"-0\", \"-0.\"].indexOf(stringified()) >= 0))\n                     return;\n                 if ([\"null\", \"\"].indexOf(str) >= 0)\n                     return;\n                stringified(str);\n            });\n            ko.applyBindingsToNode(\n                element,\n                {\n                    value: stringified,\n                    valueUpdate: allBindings.get('valueUpdate'),\n                },\n                context,\n            );\n        }\n    };\n    var json_data = {\"formatted_vals\":[\"0.0\",\"1.0\",\"2.0\",\"3.0\",\"4.0\",\"5.0\",\"6.0\",\"7.0\",\"8.0\",\"9.0\",\"10.0\",\"11.0\",\"12.0\",\"13.0\",\"14.0\",\"15.0\",\"16.0\",\"17.0\",\"18.0\",\"19.0\",\"20.0\",\"21.0\",\"22.0\",\"23.0\",\"24.0\",\"25.0\",\"26.0\",\"27.0\",\"28.0\",\"29.0\",\"30.0\",\"31.0\",\"32.0\",\"33.0\",\"34.0\",\"35.0\",\"36.0\",\"37.0\",\"38.0\",\"39.0\",\"40.0\",\"41.0\",\"42.0\",\"43.0\",\"44.0\",\"45.0\",\"46.0\",\"47.0\",\"48.0\",\"49.0\",\"50.0\",\"51.0\",\"52.0\",\"53.0\",\"54.0\",\"55.0\",\"56.0\",\"57.0\",\"58.0\",\"59.0\",\"60.0\",\"61.0\",\"62.0\",\"63.0\",\"64.0\",\"65.0\",\"66.0\",\"67.0\",\"68.0\",\"69.0\",\"70.0\",\"71.0\",\"72.0\",\"73.0\",\"74.0\",\"75.0\",\"76.0\",\"77.0\",\"78.0\",\"79.0\",\"80.0\",\"81.0\",\"82.0\",\"83.0\",\"84.0\",\"85.0\",\"86.0\",\"87.0\",\"88.0\",\"89.0\",\"90.0\",\"91.0\",\"92.0\",\"93.0\",\"94.0\",\"95.0\",\"96.0\",\"97.0\",\"98.0\",\"99.0\",\"100.0\",\"101.0\",\"102.0\",\"103.0\",\"104.0\",\"105.0\",\"106.0\",\"107.0\",\"108.0\",\"109.0\",\"110.0\",\"111.0\",\"112.0\",\"113.0\",\"114.0\",\"115.0\",\"116.0\",\"117.0\",\"118.0\",\"119.0\",\"120.0\"],\"changes\":WebIO.getval({\"name\":\"changes\",\"scope\":\"10951020670634605094\",\"id\":\"ob_98\",\"type\":\"observable\"}),\"index\":WebIO.getval({\"name\":\"index\",\"scope\":\"10951020670634605094\",\"id\":\"ob_97\",\"type\":\"observable\"})};\n    var self = this;\n    function AppViewModel() {\n        for (var key in json_data) {\n            var el = json_data[key];\n            this[key] = Array.isArray(el) ? ko.observableArray(el) : ko.observable(el);\n        }\n        \n        [this[\"formatted_val\"]=ko.computed(    function(){\n        return this.formatted_vals()[parseInt(this.index())-(1)];\n    }\n,this)]\n        [this[\"changes\"].subscribe((function (val){!(this.valueFromJulia[\"changes\"]) ? (WebIO.setval({\"name\":\"changes\",\"scope\":\"10951020670634605094\",\"id\":\"ob_98\",\"type\":\"observable\"},val)) : undefined; return this.valueFromJulia[\"changes\"]=false}),self),this[\"index\"].subscribe((function (val){!(this.valueFromJulia[\"index\"]) ? (WebIO.setval({\"name\":\"index\",\"scope\":\"10951020670634605094\",\"id\":\"ob_97\",\"type\":\"observable\"},val)) : undefined; return this.valueFromJulia[\"index\"]=false}),self)]\n        \n    }\n    self.model = new AppViewModel();\n    self.valueFromJulia = {};\n    for (var key in json_data) {\n        self.valueFromJulia[key] = false;\n    }\n    ko.applyBindings(self.model, self.dom);\n}\n);\n    (WebIO.importBlock({\"data\":[{\"name\":\"knockout\",\"type\":\"js\",\"url\":\"/assetserver/3bd9b1de736b098e415b41735ebb66f92146af63-knockout.js\"},{\"name\":\"knockout_punches\",\"type\":\"js\",\"url\":\"/assetserver/f693c45e4673819d9631890b2dbb7b49bac52036-knockout_punches.js\"}],\"type\":\"async_block\"})).then((imports) => handler.apply(this, imports));\n}\n"
            ],
            "observables": {
             "changes": {
              "id": "ob_98",
              "sync": false,
              "value": 0
             },
             "index": {
              "id": "ob_97",
              "sync": true,
              "value": 1
             }
            },
            "systemjs_options": null
           },
           "nodeType": "Scope",
           "props": {},
           "type": "node"
          }
         ],
         "instanceArgs": {
          "namespace": "html",
          "tag": "div"
         },
         "nodeType": "DOM",
         "props": {
          "className": "field interact-widget"
         },
         "type": "node"
        },
        {
         "children": [
          {
           "children": [],
           "instanceArgs": {
            "id": "ob_104",
            "name": "obs-node"
           },
           "nodeType": "ObservableNode",
           "props": {},
           "type": "node"
          }
         ],
         "instanceArgs": {
          "handlers": {},
          "id": "18310835278479984881",
          "imports": {
           "data": [],
           "type": "async_block"
          },
          "mount_callbacks": [],
          "observables": {
           "obs-node": {
            "id": "ob_104",
            "sync": false,
            "value": {
             "children": [
              {
               "children": [],
               "instanceArgs": {
                "namespace": "html",
                "tag": "div"
               },
               "nodeType": "DOM",
               "props": {
                "setInnerHtml": ""
               },
               "type": "node"
              }
             ],
             "instanceArgs": {
              "namespace": "html",
              "tag": "div"
             },
             "nodeType": "DOM",
             "props": {
              "className": "interact-flex-row interact-widget"
             },
             "type": "node"
            }
           }
          },
          "systemjs_options": null
         },
         "nodeType": "Scope",
         "props": {},
         "type": "node"
        }
       ],
       "instanceArgs": {
        "namespace": "html",
        "tag": "div"
       },
       "nodeType": "DOM",
       "props": {},
       "type": "node"
      },
      "text/html": [
       "<div\n",
       "    class=\"webio-mountpoint\"\n",
       "    data-webio-mountpoint=\"2720867372109768229\"\n",
       ">\n",
       "    <script>\n",
       "    if (window.require && require.defined && require.defined(\"nbextensions/webio-jupyter-notebook\")) {\n",
       "        console.log(\"Jupyter WebIO extension detected, not mounting.\");\n",
       "    } else if (window.WebIO) {\n",
       "        WebIO.mount(\n",
       "            document.querySelector('[data-webio-mountpoint=\"2720867372109768229\"]'),\n",
       "            {\"props\":{},\"nodeType\":\"DOM\",\"type\":\"node\",\"instanceArgs\":{\"namespace\":\"html\",\"tag\":\"div\"},\"children\":[{\"props\":{\"className\":\"field interact-widget\"},\"nodeType\":\"DOM\",\"type\":\"node\",\"instanceArgs\":{\"namespace\":\"html\",\"tag\":\"div\"},\"children\":[{\"props\":{},\"nodeType\":\"Scope\",\"type\":\"node\",\"instanceArgs\":{\"imports\":{\"data\":[{\"name\":\"knockout\",\"type\":\"js\",\"url\":\"\\/assetserver\\/3bd9b1de736b098e415b41735ebb66f92146af63-knockout.js\"},{\"name\":\"knockout_punches\",\"type\":\"js\",\"url\":\"\\/assetserver\\/f693c45e4673819d9631890b2dbb7b49bac52036-knockout_punches.js\"},{\"name\":null,\"type\":\"js\",\"url\":\"\\/assetserver\\/dadd00ee86bab68922605b4c34c155a51b0e2466-all.js\"},{\"name\":null,\"type\":\"css\",\"url\":\"\\/assetserver\\/783bf076fab44d74d9ad020ce784f4d35b2c125e-style.css\"},{\"name\":null,\"type\":\"css\",\"url\":\"\\/assetserver\\/81f83aa7d914707240f02251f8f73fd02ba8c8be-bulma_confined.min.css\"}],\"type\":\"async_block\"},\"id\":\"937082067056442627\",\"handlers\":{\"changes\":[\"(function (val){return (val!=this.model[\\\"changes\\\"]()) ? (this.valueFromJulia[\\\"changes\\\"]=true, this.model[\\\"changes\\\"](val)) : undefined})\"],\"value\":[\"(function (val){return (val!=this.model[\\\"value\\\"]()) ? (this.valueFromJulia[\\\"value\\\"]=true, this.model[\\\"value\\\"](val)) : undefined})\"]},\"systemjs_options\":null,\"mount_callbacks\":[\"function () {\\n    var handler = (function (ko, koPunches) {\\n    ko.punches.enableAll();\\n    ko.bindingHandlers.numericValue = {\\n        init: function(element, valueAccessor, allBindings, data, context) {\\n            var stringified = ko.observable(ko.unwrap(valueAccessor()));\\n            stringified.subscribe(function(value) {\\n                var val = parseFloat(value);\\n                if (!isNaN(val)) {\\n                    valueAccessor()(val);\\n                }\\n            });\\n            valueAccessor().subscribe(function(value) {\\n                var str = JSON.stringify(value);\\n                if ((str == \\\"0\\\") && ([\\\"-0\\\", \\\"-0.\\\"].indexOf(stringified()) >= 0))\\n                     return;\\n                 if ([\\\"null\\\", \\\"\\\"].indexOf(str) >= 0)\\n                     return;\\n                stringified(str);\\n            });\\n            ko.applyBindingsToNode(\\n                element,\\n                {\\n                    value: stringified,\\n                    valueUpdate: allBindings.get('valueUpdate'),\\n                },\\n                context,\\n            );\\n        }\\n    };\\n    var json_data = {\\\"changes\\\":WebIO.getval({\\\"name\\\":\\\"changes\\\",\\\"scope\\\":\\\"937082067056442627\\\",\\\"id\\\":\\\"ob_90\\\",\\\"type\\\":\\\"observable\\\"}),\\\"value\\\":WebIO.getval({\\\"name\\\":\\\"value\\\",\\\"scope\\\":\\\"937082067056442627\\\",\\\"id\\\":\\\"ob_89\\\",\\\"type\\\":\\\"observable\\\"})};\\n    var self = this;\\n    function AppViewModel() {\\n        for (var key in json_data) {\\n            var el = json_data[key];\\n            this[key] = Array.isArray(el) ? ko.observableArray(el) : ko.observable(el);\\n        }\\n        \\n        \\n        [this[\\\"changes\\\"].subscribe((function (val){!(this.valueFromJulia[\\\"changes\\\"]) ? (WebIO.setval({\\\"name\\\":\\\"changes\\\",\\\"scope\\\":\\\"937082067056442627\\\",\\\"id\\\":\\\"ob_90\\\",\\\"type\\\":\\\"observable\\\"},val)) : undefined; return this.valueFromJulia[\\\"changes\\\"]=false}),self),this[\\\"value\\\"].subscribe((function (val){!(this.valueFromJulia[\\\"value\\\"]) ? (WebIO.setval({\\\"name\\\":\\\"value\\\",\\\"scope\\\":\\\"937082067056442627\\\",\\\"id\\\":\\\"ob_89\\\",\\\"type\\\":\\\"observable\\\"},val)) : undefined; return this.valueFromJulia[\\\"value\\\"]=false}),self)]\\n        \\n    }\\n    self.model = new AppViewModel();\\n    self.valueFromJulia = {};\\n    for (var key in json_data) {\\n        self.valueFromJulia[key] = false;\\n    }\\n    ko.applyBindings(self.model, self.dom);\\n}\\n);\\n    (WebIO.importBlock({\\\"data\\\":[{\\\"name\\\":\\\"knockout\\\",\\\"type\\\":\\\"js\\\",\\\"url\\\":\\\"\\/assetserver\\/3bd9b1de736b098e415b41735ebb66f92146af63-knockout.js\\\"},{\\\"name\\\":\\\"knockout_punches\\\",\\\"type\\\":\\\"js\\\",\\\"url\\\":\\\"\\/assetserver\\/f693c45e4673819d9631890b2dbb7b49bac52036-knockout_punches.js\\\"}],\\\"type\\\":\\\"async_block\\\"})).then((imports) => handler.apply(this, imports));\\n}\\n\"],\"observables\":{\"changes\":{\"sync\":true,\"id\":\"ob_90\",\"value\":0},\"value\":{\"sync\":false,\"id\":\"ob_89\",\"value\":\"myFile.pdf\"}}},\"children\":[{\"props\":{\"className\":\"interact-flex-row interact-widget\"},\"nodeType\":\"DOM\",\"type\":\"node\",\"instanceArgs\":{\"namespace\":\"html\",\"tag\":\"div\"},\"children\":[{\"props\":{\"className\":\"interact-flex-row-left\"},\"nodeType\":\"DOM\",\"type\":\"node\",\"instanceArgs\":{\"namespace\":\"html\",\"tag\":\"div\"},\"children\":[{\"props\":{\"className\":\"interact \",\"style\":{\"padding\":\"5px 10px 0px 10px\"}},\"nodeType\":\"DOM\",\"type\":\"node\",\"instanceArgs\":{\"namespace\":\"html\",\"tag\":\"label\"},\"children\":[\"File Name\"]}]},{\"props\":{\"className\":\"interact-flex-row-center\"},\"nodeType\":\"DOM\",\"type\":\"node\",\"instanceArgs\":{\"namespace\":\"html\",\"tag\":\"div\"},\"children\":[{\"props\":{\"attributes\":{\"type\":\"text\",\"data-bind\":\"value: value, valueUpdate: 'input', event: {change: function (){this.changes(this.changes()+1)}}\"},\"placeholder\":\"\",\"className\":\"input \",\"style\":{}},\"nodeType\":\"DOM\",\"type\":\"node\",\"instanceArgs\":{\"namespace\":\"html\",\"tag\":\"input\"},\"children\":[]}]},{\"props\":{\"className\":\"interact-flex-row-right\"},\"nodeType\":\"DOM\",\"type\":\"node\",\"instanceArgs\":{\"namespace\":\"html\",\"tag\":\"div\"},\"children\":[{\"props\":{},\"nodeType\":\"DOM\",\"type\":\"node\",\"instanceArgs\":{\"namespace\":\"html\",\"tag\":\"div\"},\"children\":[]}]}]}]}]},{\"props\":{\"className\":\"field interact-widget\"},\"nodeType\":\"DOM\",\"type\":\"node\",\"instanceArgs\":{\"namespace\":\"html\",\"tag\":\"div\"},\"children\":[{\"props\":{},\"nodeType\":\"Scope\",\"type\":\"node\",\"instanceArgs\":{\"imports\":{\"data\":[{\"name\":\"knockout\",\"type\":\"js\",\"url\":\"\\/assetserver\\/3bd9b1de736b098e415b41735ebb66f92146af63-knockout.js\"},{\"name\":\"knockout_punches\",\"type\":\"js\",\"url\":\"\\/assetserver\\/f693c45e4673819d9631890b2dbb7b49bac52036-knockout_punches.js\"},{\"name\":null,\"type\":\"js\",\"url\":\"\\/assetserver\\/dadd00ee86bab68922605b4c34c155a51b0e2466-all.js\"},{\"name\":null,\"type\":\"css\",\"url\":\"\\/assetserver\\/783bf076fab44d74d9ad020ce784f4d35b2c125e-style.css\"},{\"name\":null,\"type\":\"css\",\"url\":\"\\/assetserver\\/81f83aa7d914707240f02251f8f73fd02ba8c8be-bulma_confined.min.css\"}],\"type\":\"async_block\"},\"id\":\"1949509288436261334\",\"handlers\":{\"loading\":[\"(function (val){return (val!=this.model[\\\"loading\\\"]()) ? (this.valueFromJulia[\\\"loading\\\"]=true, this.model[\\\"loading\\\"](val)) : undefined})\"],\"clicks\":[\"(function (val){return (val!=this.model[\\\"clicks\\\"]()) ? (this.valueFromJulia[\\\"clicks\\\"]=true, this.model[\\\"clicks\\\"](val)) : undefined})\"]},\"systemjs_options\":null,\"mount_callbacks\":[\"function () {\\n    var handler = (function (ko, koPunches) {\\n    ko.punches.enableAll();\\n    ko.bindingHandlers.numericValue = {\\n        init: function(element, valueAccessor, allBindings, data, context) {\\n            var stringified = ko.observable(ko.unwrap(valueAccessor()));\\n            stringified.subscribe(function(value) {\\n                var val = parseFloat(value);\\n                if (!isNaN(val)) {\\n                    valueAccessor()(val);\\n                }\\n            });\\n            valueAccessor().subscribe(function(value) {\\n                var str = JSON.stringify(value);\\n                if ((str == \\\"0\\\") && ([\\\"-0\\\", \\\"-0.\\\"].indexOf(stringified()) >= 0))\\n                     return;\\n                 if ([\\\"null\\\", \\\"\\\"].indexOf(str) >= 0)\\n                     return;\\n                stringified(str);\\n            });\\n            ko.applyBindingsToNode(\\n                element,\\n                {\\n                    value: stringified,\\n                    valueUpdate: allBindings.get('valueUpdate'),\\n                },\\n                context,\\n            );\\n        }\\n    };\\n    var json_data = {\\\"loading\\\":WebIO.getval({\\\"name\\\":\\\"loading\\\",\\\"scope\\\":\\\"1949509288436261334\\\",\\\"id\\\":\\\"ob_93\\\",\\\"type\\\":\\\"observable\\\"}),\\\"clicks\\\":WebIO.getval({\\\"name\\\":\\\"clicks\\\",\\\"scope\\\":\\\"1949509288436261334\\\",\\\"id\\\":\\\"ob_92\\\",\\\"type\\\":\\\"observable\\\"})};\\n    var self = this;\\n    function AppViewModel() {\\n        for (var key in json_data) {\\n            var el = json_data[key];\\n            this[key] = Array.isArray(el) ? ko.observableArray(el) : ko.observable(el);\\n        }\\n        \\n        \\n        [this[\\\"loading\\\"].subscribe((function (val){!(this.valueFromJulia[\\\"loading\\\"]) ? (WebIO.setval({\\\"name\\\":\\\"loading\\\",\\\"scope\\\":\\\"1949509288436261334\\\",\\\"id\\\":\\\"ob_93\\\",\\\"type\\\":\\\"observable\\\"},val)) : undefined; return this.valueFromJulia[\\\"loading\\\"]=false}),self),this[\\\"clicks\\\"].subscribe((function (val){!(this.valueFromJulia[\\\"clicks\\\"]) ? (WebIO.setval({\\\"name\\\":\\\"clicks\\\",\\\"scope\\\":\\\"1949509288436261334\\\",\\\"id\\\":\\\"ob_92\\\",\\\"type\\\":\\\"observable\\\"},val)) : undefined; return this.valueFromJulia[\\\"clicks\\\"]=false}),self)]\\n        \\n    }\\n    self.model = new AppViewModel();\\n    self.valueFromJulia = {};\\n    for (var key in json_data) {\\n        self.valueFromJulia[key] = false;\\n    }\\n    ko.applyBindings(self.model, self.dom);\\n}\\n);\\n    (WebIO.importBlock({\\\"data\\\":[{\\\"name\\\":\\\"knockout\\\",\\\"type\\\":\\\"js\\\",\\\"url\\\":\\\"\\/assetserver\\/3bd9b1de736b098e415b41735ebb66f92146af63-knockout.js\\\"},{\\\"name\\\":\\\"knockout_punches\\\",\\\"type\\\":\\\"js\\\",\\\"url\\\":\\\"\\/assetserver\\/f693c45e4673819d9631890b2dbb7b49bac52036-knockout_punches.js\\\"}],\\\"type\\\":\\\"async_block\\\"})).then((imports) => handler.apply(this, imports));\\n}\\n\"],\"observables\":{\"loading\":{\"sync\":false,\"id\":\"ob_93\",\"value\":false},\"clicks\":{\"sync\":true,\"id\":\"ob_92\",\"value\":0}}},\"children\":[{\"props\":{\"attributes\":{\"data-bind\":\"click: function (){this.clicks(this.clicks()+1)}, css: {'is-loading' : loading}\"},\"className\":\"is-medium button is-primary\",\"style\":{}},\"nodeType\":\"DOM\",\"type\":\"node\",\"instanceArgs\":{\"namespace\":\"html\",\"tag\":\"button\"},\"children\":[\"Save Plot\"]}]}]},{\"props\":{\"className\":\"field interact-widget\"},\"nodeType\":\"DOM\",\"type\":\"node\",\"instanceArgs\":{\"namespace\":\"html\",\"tag\":\"div\"},\"children\":[{\"props\":{},\"nodeType\":\"Scope\",\"type\":\"node\",\"instanceArgs\":{\"imports\":{\"data\":[{\"name\":\"knockout\",\"type\":\"js\",\"url\":\"\\/assetserver\\/3bd9b1de736b098e415b41735ebb66f92146af63-knockout.js\"},{\"name\":\"knockout_punches\",\"type\":\"js\",\"url\":\"\\/assetserver\\/f693c45e4673819d9631890b2dbb7b49bac52036-knockout_punches.js\"},{\"name\":null,\"type\":\"js\",\"url\":\"\\/assetserver\\/dadd00ee86bab68922605b4c34c155a51b0e2466-all.js\"},{\"name\":null,\"type\":\"css\",\"url\":\"\\/assetserver\\/783bf076fab44d74d9ad020ce784f4d35b2c125e-style.css\"},{\"name\":null,\"type\":\"css\",\"url\":\"\\/assetserver\\/81f83aa7d914707240f02251f8f73fd02ba8c8be-bulma_confined.min.css\"}],\"type\":\"async_block\"},\"id\":\"366141073293675721\",\"handlers\":{\"changes\":[\"(function (val){return (val!=this.model[\\\"changes\\\"]()) ? (this.valueFromJulia[\\\"changes\\\"]=true, this.model[\\\"changes\\\"](val)) : undefined})\"],\"value\":[\"(function (val){return (val!=this.model[\\\"value\\\"]()) ? (this.valueFromJulia[\\\"value\\\"]=true, this.model[\\\"value\\\"](val)) : undefined})\"]},\"systemjs_options\":null,\"mount_callbacks\":[\"function () {\\n    var handler = (function (ko, koPunches) {\\n    ko.punches.enableAll();\\n    ko.bindingHandlers.numericValue = {\\n        init: function(element, valueAccessor, allBindings, data, context) {\\n            var stringified = ko.observable(ko.unwrap(valueAccessor()));\\n            stringified.subscribe(function(value) {\\n                var val = parseFloat(value);\\n                if (!isNaN(val)) {\\n                    valueAccessor()(val);\\n                }\\n            });\\n            valueAccessor().subscribe(function(value) {\\n                var str = JSON.stringify(value);\\n                if ((str == \\\"0\\\") && ([\\\"-0\\\", \\\"-0.\\\"].indexOf(stringified()) >= 0))\\n                     return;\\n                 if ([\\\"null\\\", \\\"\\\"].indexOf(str) >= 0)\\n                     return;\\n                stringified(str);\\n            });\\n            ko.applyBindingsToNode(\\n                element,\\n                {\\n                    value: stringified,\\n                    valueUpdate: allBindings.get('valueUpdate'),\\n                },\\n                context,\\n            );\\n        }\\n    };\\n    var json_data = {\\\"changes\\\":WebIO.getval({\\\"name\\\":\\\"changes\\\",\\\"scope\\\":\\\"366141073293675721\\\",\\\"id\\\":\\\"ob_95\\\",\\\"type\\\":\\\"observable\\\"}),\\\"value\\\":WebIO.getval({\\\"name\\\":\\\"value\\\",\\\"scope\\\":\\\"366141073293675721\\\",\\\"id\\\":\\\"ob_94\\\",\\\"type\\\":\\\"observable\\\"})};\\n    var self = this;\\n    function AppViewModel() {\\n        for (var key in json_data) {\\n            var el = json_data[key];\\n            this[key] = Array.isArray(el) ? ko.observableArray(el) : ko.observable(el);\\n        }\\n        \\n        \\n        [this[\\\"changes\\\"].subscribe((function (val){!(this.valueFromJulia[\\\"changes\\\"]) ? (WebIO.setval({\\\"name\\\":\\\"changes\\\",\\\"scope\\\":\\\"366141073293675721\\\",\\\"id\\\":\\\"ob_95\\\",\\\"type\\\":\\\"observable\\\"},val)) : undefined; return this.valueFromJulia[\\\"changes\\\"]=false}),self),this[\\\"value\\\"].subscribe((function (val){!(this.valueFromJulia[\\\"value\\\"]) ? (WebIO.setval({\\\"name\\\":\\\"value\\\",\\\"scope\\\":\\\"366141073293675721\\\",\\\"id\\\":\\\"ob_94\\\",\\\"type\\\":\\\"observable\\\"},val)) : undefined; return this.valueFromJulia[\\\"value\\\"]=false}),self)]\\n        \\n    }\\n    self.model = new AppViewModel();\\n    self.valueFromJulia = {};\\n    for (var key in json_data) {\\n        self.valueFromJulia[key] = false;\\n    }\\n    ko.applyBindings(self.model, self.dom);\\n}\\n);\\n    (WebIO.importBlock({\\\"data\\\":[{\\\"name\\\":\\\"knockout\\\",\\\"type\\\":\\\"js\\\",\\\"url\\\":\\\"\\/assetserver\\/3bd9b1de736b098e415b41735ebb66f92146af63-knockout.js\\\"},{\\\"name\\\":\\\"knockout_punches\\\",\\\"type\\\":\\\"js\\\",\\\"url\\\":\\\"\\/assetserver\\/f693c45e4673819d9631890b2dbb7b49bac52036-knockout_punches.js\\\"}],\\\"type\\\":\\\"async_block\\\"})).then((imports) => handler.apply(this, imports));\\n}\\n\"],\"observables\":{\"changes\":{\"sync\":false,\"id\":\"ob_95\",\"value\":0},\"value\":{\"sync\":true,\"id\":\"ob_94\",\"value\":1}}},\"children\":[{\"props\":{\"max\":51,\"min\":1,\"attributes\":{\"type\":\"number\",\"data-bind\":\"numericValue: value, valueUpdate: 'input', event: {change: function (){this.changes(this.changes()+1)}}\"},\"step\":1,\"placeholder\":\"\",\"className\":\"input \",\"style\":{}},\"nodeType\":\"DOM\",\"type\":\"node\",\"instanceArgs\":{\"namespace\":\"html\",\"tag\":\"input\"},\"children\":[]}]}]},{\"props\":{\"className\":\"field interact-widget\"},\"nodeType\":\"DOM\",\"type\":\"node\",\"instanceArgs\":{\"namespace\":\"html\",\"tag\":\"div\"},\"children\":[{\"props\":{},\"nodeType\":\"Scope\",\"type\":\"node\",\"instanceArgs\":{\"imports\":{\"data\":[{\"name\":\"knockout\",\"type\":\"js\",\"url\":\"\\/assetserver\\/3bd9b1de736b098e415b41735ebb66f92146af63-knockout.js\"},{\"name\":\"knockout_punches\",\"type\":\"js\",\"url\":\"\\/assetserver\\/f693c45e4673819d9631890b2dbb7b49bac52036-knockout_punches.js\"},{\"name\":null,\"type\":\"js\",\"url\":\"\\/assetserver\\/dadd00ee86bab68922605b4c34c155a51b0e2466-all.js\"},{\"name\":null,\"type\":\"css\",\"url\":\"\\/assetserver\\/783bf076fab44d74d9ad020ce784f4d35b2c125e-style.css\"},{\"name\":null,\"type\":\"css\",\"url\":\"\\/assetserver\\/81f83aa7d914707240f02251f8f73fd02ba8c8be-bulma_confined.min.css\"}],\"type\":\"async_block\"},\"id\":\"10951020670634605094\",\"handlers\":{\"changes\":[\"(function (val){return (val!=this.model[\\\"changes\\\"]()) ? (this.valueFromJulia[\\\"changes\\\"]=true, this.model[\\\"changes\\\"](val)) : undefined})\"],\"index\":[\"(function (val){return (val!=this.model[\\\"index\\\"]()) ? (this.valueFromJulia[\\\"index\\\"]=true, this.model[\\\"index\\\"](val)) : undefined})\"]},\"systemjs_options\":null,\"mount_callbacks\":[\"function () {\\n    var handler = (function (ko, koPunches) {\\n    ko.punches.enableAll();\\n    ko.bindingHandlers.numericValue = {\\n        init: function(element, valueAccessor, allBindings, data, context) {\\n            var stringified = ko.observable(ko.unwrap(valueAccessor()));\\n            stringified.subscribe(function(value) {\\n                var val = parseFloat(value);\\n                if (!isNaN(val)) {\\n                    valueAccessor()(val);\\n                }\\n            });\\n            valueAccessor().subscribe(function(value) {\\n                var str = JSON.stringify(value);\\n                if ((str == \\\"0\\\") && ([\\\"-0\\\", \\\"-0.\\\"].indexOf(stringified()) >= 0))\\n                     return;\\n                 if ([\\\"null\\\", \\\"\\\"].indexOf(str) >= 0)\\n                     return;\\n                stringified(str);\\n            });\\n            ko.applyBindingsToNode(\\n                element,\\n                {\\n                    value: stringified,\\n                    valueUpdate: allBindings.get('valueUpdate'),\\n                },\\n                context,\\n            );\\n        }\\n    };\\n    var json_data = {\\\"formatted_vals\\\":[\\\"0.0\\\",\\\"1.0\\\",\\\"2.0\\\",\\\"3.0\\\",\\\"4.0\\\",\\\"5.0\\\",\\\"6.0\\\",\\\"7.0\\\",\\\"8.0\\\",\\\"9.0\\\",\\\"10.0\\\",\\\"11.0\\\",\\\"12.0\\\",\\\"13.0\\\",\\\"14.0\\\",\\\"15.0\\\",\\\"16.0\\\",\\\"17.0\\\",\\\"18.0\\\",\\\"19.0\\\",\\\"20.0\\\",\\\"21.0\\\",\\\"22.0\\\",\\\"23.0\\\",\\\"24.0\\\",\\\"25.0\\\",\\\"26.0\\\",\\\"27.0\\\",\\\"28.0\\\",\\\"29.0\\\",\\\"30.0\\\",\\\"31.0\\\",\\\"32.0\\\",\\\"33.0\\\",\\\"34.0\\\",\\\"35.0\\\",\\\"36.0\\\",\\\"37.0\\\",\\\"38.0\\\",\\\"39.0\\\",\\\"40.0\\\",\\\"41.0\\\",\\\"42.0\\\",\\\"43.0\\\",\\\"44.0\\\",\\\"45.0\\\",\\\"46.0\\\",\\\"47.0\\\",\\\"48.0\\\",\\\"49.0\\\",\\\"50.0\\\",\\\"51.0\\\",\\\"52.0\\\",\\\"53.0\\\",\\\"54.0\\\",\\\"55.0\\\",\\\"56.0\\\",\\\"57.0\\\",\\\"58.0\\\",\\\"59.0\\\",\\\"60.0\\\",\\\"61.0\\\",\\\"62.0\\\",\\\"63.0\\\",\\\"64.0\\\",\\\"65.0\\\",\\\"66.0\\\",\\\"67.0\\\",\\\"68.0\\\",\\\"69.0\\\",\\\"70.0\\\",\\\"71.0\\\",\\\"72.0\\\",\\\"73.0\\\",\\\"74.0\\\",\\\"75.0\\\",\\\"76.0\\\",\\\"77.0\\\",\\\"78.0\\\",\\\"79.0\\\",\\\"80.0\\\",\\\"81.0\\\",\\\"82.0\\\",\\\"83.0\\\",\\\"84.0\\\",\\\"85.0\\\",\\\"86.0\\\",\\\"87.0\\\",\\\"88.0\\\",\\\"89.0\\\",\\\"90.0\\\",\\\"91.0\\\",\\\"92.0\\\",\\\"93.0\\\",\\\"94.0\\\",\\\"95.0\\\",\\\"96.0\\\",\\\"97.0\\\",\\\"98.0\\\",\\\"99.0\\\",\\\"100.0\\\",\\\"101.0\\\",\\\"102.0\\\",\\\"103.0\\\",\\\"104.0\\\",\\\"105.0\\\",\\\"106.0\\\",\\\"107.0\\\",\\\"108.0\\\",\\\"109.0\\\",\\\"110.0\\\",\\\"111.0\\\",\\\"112.0\\\",\\\"113.0\\\",\\\"114.0\\\",\\\"115.0\\\",\\\"116.0\\\",\\\"117.0\\\",\\\"118.0\\\",\\\"119.0\\\",\\\"120.0\\\"],\\\"changes\\\":WebIO.getval({\\\"name\\\":\\\"changes\\\",\\\"scope\\\":\\\"10951020670634605094\\\",\\\"id\\\":\\\"ob_98\\\",\\\"type\\\":\\\"observable\\\"}),\\\"index\\\":WebIO.getval({\\\"name\\\":\\\"index\\\",\\\"scope\\\":\\\"10951020670634605094\\\",\\\"id\\\":\\\"ob_97\\\",\\\"type\\\":\\\"observable\\\"})};\\n    var self = this;\\n    function AppViewModel() {\\n        for (var key in json_data) {\\n            var el = json_data[key];\\n            this[key] = Array.isArray(el) ? ko.observableArray(el) : ko.observable(el);\\n        }\\n        \\n        [this[\\\"formatted_val\\\"]=ko.computed(    function(){\\n        return this.formatted_vals()[parseInt(this.index())-(1)];\\n    }\\n,this)]\\n        [this[\\\"changes\\\"].subscribe((function (val){!(this.valueFromJulia[\\\"changes\\\"]) ? (WebIO.setval({\\\"name\\\":\\\"changes\\\",\\\"scope\\\":\\\"10951020670634605094\\\",\\\"id\\\":\\\"ob_98\\\",\\\"type\\\":\\\"observable\\\"},val)) : undefined; return this.valueFromJulia[\\\"changes\\\"]=false}),self),this[\\\"index\\\"].subscribe((function (val){!(this.valueFromJulia[\\\"index\\\"]) ? (WebIO.setval({\\\"name\\\":\\\"index\\\",\\\"scope\\\":\\\"10951020670634605094\\\",\\\"id\\\":\\\"ob_97\\\",\\\"type\\\":\\\"observable\\\"},val)) : undefined; return this.valueFromJulia[\\\"index\\\"]=false}),self)]\\n        \\n    }\\n    self.model = new AppViewModel();\\n    self.valueFromJulia = {};\\n    for (var key in json_data) {\\n        self.valueFromJulia[key] = false;\\n    }\\n    ko.applyBindings(self.model, self.dom);\\n}\\n);\\n    (WebIO.importBlock({\\\"data\\\":[{\\\"name\\\":\\\"knockout\\\",\\\"type\\\":\\\"js\\\",\\\"url\\\":\\\"\\/assetserver\\/3bd9b1de736b098e415b41735ebb66f92146af63-knockout.js\\\"},{\\\"name\\\":\\\"knockout_punches\\\",\\\"type\\\":\\\"js\\\",\\\"url\\\":\\\"\\/assetserver\\/f693c45e4673819d9631890b2dbb7b49bac52036-knockout_punches.js\\\"}],\\\"type\\\":\\\"async_block\\\"})).then((imports) => handler.apply(this, imports));\\n}\\n\"],\"observables\":{\"changes\":{\"sync\":false,\"id\":\"ob_98\",\"value\":0},\"index\":{\"sync\":true,\"id\":\"ob_97\",\"value\":1}}},\"children\":[{\"props\":{\"className\":\"interact-flex-row interact-widget\"},\"nodeType\":\"DOM\",\"type\":\"node\",\"instanceArgs\":{\"namespace\":\"html\",\"tag\":\"div\"},\"children\":[{\"props\":{\"className\":\"interact-flex-row-left\"},\"nodeType\":\"DOM\",\"type\":\"node\",\"instanceArgs\":{\"namespace\":\"html\",\"tag\":\"div\"},\"children\":[{\"props\":{\"className\":\"interact \",\"style\":{\"padding\":\"5px 10px 0px 10px\"}},\"nodeType\":\"DOM\",\"type\":\"node\",\"instanceArgs\":{\"namespace\":\"html\",\"tag\":\"label\"},\"children\":[\"\"]}]},{\"props\":{\"className\":\"interact-flex-row-center\"},\"nodeType\":\"DOM\",\"type\":\"node\",\"instanceArgs\":{\"namespace\":\"html\",\"tag\":\"div\"},\"children\":[{\"props\":{\"max\":121,\"min\":1,\"attributes\":{\"type\":\"range\",\"data-bind\":\"numericValue: index, valueUpdate: 'input', event: {change: function (){this.changes(this.changes()+1)}}\",\"orient\":\"horizontal\"},\"step\":1,\"className\":\"slider slider is-fullwidth\",\"style\":{}},\"nodeType\":\"DOM\",\"type\":\"node\",\"instanceArgs\":{\"namespace\":\"html\",\"tag\":\"input\"},\"children\":[]}]},{\"props\":{\"className\":\"interact-flex-row-right\"},\"nodeType\":\"DOM\",\"type\":\"node\",\"instanceArgs\":{\"namespace\":\"html\",\"tag\":\"div\"},\"children\":[{\"props\":{\"attributes\":{\"data-bind\":\"text: formatted_val\"}},\"nodeType\":\"DOM\",\"type\":\"node\",\"instanceArgs\":{\"namespace\":\"html\",\"tag\":\"p\"},\"children\":[]}]}]}]}]},{\"props\":{},\"nodeType\":\"Scope\",\"type\":\"node\",\"instanceArgs\":{\"imports\":{\"data\":[],\"type\":\"async_block\"},\"id\":\"4366945931864009717\",\"handlers\":{},\"systemjs_options\":null,\"mount_callbacks\":[],\"observables\":{\"obs-node\":{\"sync\":false,\"id\":\"ob_102\",\"value\":{\"props\":{\"className\":\"interact-flex-row interact-widget\"},\"nodeType\":\"DOM\",\"type\":\"node\",\"instanceArgs\":{\"namespace\":\"html\",\"tag\":\"div\"},\"children\":[{\"props\":{\"setInnerHtml\":\"<?xml version=\\\"1.0\\\" encoding=\\\"UTF-8\\\"?>\\n<svg xmlns=\\\"http:\\/\\/www.w3.org\\/2000\\/svg\\\" xmlns:xlink=\\\"http:\\/\\/www.w3.org\\/1999\\/xlink\\\" width=\\\"762.23pt\\\" height=\\\"282.491pt\\\" viewBox=\\\"0 0 762.23 282.491\\\" version=\\\"1.1\\\">\\n<defs>\\n<g>\\n<symbol overflow=\\\"visible\\\" id=\\\"glyph-1562715734929674-0-0\\\">\\n<path style=\\\"stroke:none;\\\" d=\\\"\\\"\\/>\\n<\\/symbol>\\n<symbol overflow=\\\"visible\\\" id=\\\"glyph-1562715734929674-0-1\\\">\\n<path style=\\\"stroke:none;\\\" d=\\\"M 6.109375 -6.03125 C 6.109375 -6.390625 6.125 -6.5 6.890625 -6.5 L 7.140625 -6.5 L 7.140625 -6.8125 C 6.78125 -6.78125 6.046875 -6.78125 5.671875 -6.78125 C 5.296875 -6.78125 4.546875 -6.78125 4.203125 -6.8125 L 4.203125 -6.5 L 4.4375 -6.5 C 5.203125 -6.5 5.21875 -6.390625 5.21875 -6.03125 L 5.21875 -3.703125 L 2.25 -3.703125 L 2.25 -6.03125 C 2.25 -6.390625 2.265625 -6.5 3.03125 -6.5 L 3.265625 -6.5 L 3.265625 -6.8125 C 2.921875 -6.78125 2.1875 -6.78125 1.796875 -6.78125 C 1.421875 -6.78125 0.671875 -6.78125 0.328125 -6.8125 L 0.328125 -6.5 L 0.5625 -6.5 C 1.328125 -6.5 1.359375 -6.390625 1.359375 -6.03125 L 1.359375 -0.78125 C 1.359375 -0.421875 1.328125 -0.3125 0.5625 -0.3125 L 0.328125 -0.3125 L 0.328125 0 C 0.671875 -0.03125 1.421875 -0.03125 1.796875 -0.03125 C 2.171875 -0.03125 2.921875 -0.03125 3.265625 0 L 3.265625 -0.3125 L 3.03125 -0.3125 C 2.265625 -0.3125 2.25 -0.421875 2.25 -0.78125 L 2.25 -3.390625 L 5.21875 -3.390625 L 5.21875 -0.78125 C 5.21875 -0.421875 5.203125 -0.3125 4.4375 -0.3125 L 4.203125 -0.3125 L 4.203125 0 C 4.546875 -0.03125 5.28125 -0.03125 5.65625 -0.03125 C 6.046875 -0.03125 6.78125 -0.03125 7.140625 0 L 7.140625 -0.3125 L 6.890625 -0.3125 C 6.125 -0.3125 6.109375 -0.421875 6.109375 -0.78125 Z M 6.109375 -6.03125 \\\"\\/>\\n<\\/symbol>\\n<symbol overflow=\\\"visible\\\" id=\\\"glyph-1562715734929674-0-2\\\">\\n<path style=\\\"stroke:none;\\\" d=\\\"M 4.6875 -2.140625 C 4.6875 -3.40625 3.703125 -4.46875 2.5 -4.46875 C 1.25 -4.46875 0.28125 -3.375 0.28125 -2.140625 C 0.28125 -0.84375 1.3125 0.109375 2.484375 0.109375 C 3.6875 0.109375 4.6875 -0.875 4.6875 -2.140625 Z M 2.5 -0.140625 C 2.0625 -0.140625 1.625 -0.34375 1.359375 -0.8125 C 1.109375 -1.25 1.109375 -1.859375 1.109375 -2.21875 C 1.109375 -2.609375 1.109375 -3.140625 1.34375 -3.578125 C 1.609375 -4.03125 2.078125 -4.25 2.484375 -4.25 C 2.921875 -4.25 3.34375 -4.03125 3.609375 -3.59375 C 3.875 -3.171875 3.875 -2.59375 3.875 -2.21875 C 3.875 -1.859375 3.875 -1.3125 3.65625 -0.875 C 3.421875 -0.421875 2.984375 -0.140625 2.5 -0.140625 Z M 2.5 -0.140625 \\\"\\/>\\n<\\/symbol>\\n<symbol overflow=\\\"visible\\\" id=\\\"glyph-1562715734929674-0-3\\\">\\n<path style=\\\"stroke:none;\\\" d=\\\"M 1.671875 -3.3125 L 1.671875 -4.40625 L 0.28125 -4.296875 L 0.28125 -3.984375 C 0.984375 -3.984375 1.0625 -3.921875 1.0625 -3.421875 L 1.0625 -0.75 C 1.0625 -0.3125 0.953125 -0.3125 0.28125 -0.3125 L 0.28125 0 C 0.671875 -0.015625 1.140625 -0.03125 1.421875 -0.03125 C 1.8125 -0.03125 2.28125 -0.03125 2.6875 0 L 2.6875 -0.3125 L 2.46875 -0.3125 C 1.734375 -0.3125 1.71875 -0.421875 1.71875 -0.78125 L 1.71875 -2.3125 C 1.71875 -3.296875 2.140625 -4.1875 2.890625 -4.1875 C 2.953125 -4.1875 2.984375 -4.1875 3 -4.171875 C 2.96875 -4.171875 2.765625 -4.046875 2.765625 -3.78125 C 2.765625 -3.515625 2.984375 -3.359375 3.203125 -3.359375 C 3.375 -3.359375 3.625 -3.484375 3.625 -3.796875 C 3.625 -4.109375 3.3125 -4.40625 2.890625 -4.40625 C 2.15625 -4.40625 1.796875 -3.734375 1.671875 -3.3125 Z M 1.671875 -3.3125 \\\"\\/>\\n<\\/symbol>\\n<symbol overflow=\\\"visible\\\" id=\\\"glyph-1562715734929674-0-4\\\">\\n<path style=\\\"stroke:none;\\\" d=\\\"M 1.765625 -4.40625 L 0.375 -4.296875 L 0.375 -3.984375 C 1.015625 -3.984375 1.109375 -3.921875 1.109375 -3.4375 L 1.109375 -0.75 C 1.109375 -0.3125 1 -0.3125 0.328125 -0.3125 L 0.328125 0 C 0.640625 -0.015625 1.1875 -0.03125 1.421875 -0.03125 C 1.78125 -0.03125 2.125 -0.015625 2.46875 0 L 2.46875 -0.3125 C 1.796875 -0.3125 1.765625 -0.359375 1.765625 -0.75 Z M 1.796875 -6.140625 C 1.796875 -6.453125 1.5625 -6.671875 1.28125 -6.671875 C 0.96875 -6.671875 0.75 -6.40625 0.75 -6.140625 C 0.75 -5.875 0.96875 -5.609375 1.28125 -5.609375 C 1.5625 -5.609375 1.796875 -5.828125 1.796875 -6.140625 Z M 1.796875 -6.140625 \\\"\\/>\\n<\\/symbol>\\n<symbol overflow=\\\"visible\\\" id=\\\"glyph-1562715734929674-0-5\\\">\\n<path style=\\\"stroke:none;\\\" d=\\\"M 3.890625 -4 C 3.984375 -4.109375 3.984375 -4.125 3.984375 -4.171875 C 3.984375 -4.296875 3.890625 -4.296875 3.71875 -4.296875 L 0.53125 -4.296875 L 0.421875 -2.6875 L 0.671875 -2.6875 C 0.734375 -3.703125 0.921875 -4.078125 2.015625 -4.078125 L 3.15625 -4.078125 L 0.375 -0.3125 C 0.28125 -0.203125 0.28125 -0.1875 0.28125 -0.140625 C 0.28125 0 0.34375 0 0.53125 0 L 3.828125 0 L 4 -1.859375 L 3.75 -1.859375 C 3.65625 -0.6875 3.453125 -0.25 2.296875 -0.25 L 1.109375 -0.25 Z M 3.890625 -4 \\\"\\/>\\n<\\/symbol>\\n<symbol overflow=\\\"visible\\\" id=\\\"glyph-1562715734929674-0-6\\\">\\n<path style=\\\"stroke:none;\\\" d=\\\"M 1.09375 -3.421875 L 1.09375 -0.75 C 1.09375 -0.3125 0.984375 -0.3125 0.3125 -0.3125 L 0.3125 0 C 0.671875 -0.015625 1.171875 -0.03125 1.453125 -0.03125 C 1.703125 -0.03125 2.21875 -0.015625 2.5625 0 L 2.5625 -0.3125 C 1.890625 -0.3125 1.78125 -0.3125 1.78125 -0.75 L 1.78125 -2.59375 C 1.78125 -3.625 2.5 -4.1875 3.125 -4.1875 C 3.765625 -4.1875 3.875 -3.65625 3.875 -3.078125 L 3.875 -0.75 C 3.875 -0.3125 3.765625 -0.3125 3.09375 -0.3125 L 3.09375 0 C 3.4375 -0.015625 3.953125 -0.03125 4.21875 -0.03125 C 4.46875 -0.03125 5 -0.015625 5.328125 0 L 5.328125 -0.3125 C 4.8125 -0.3125 4.5625 -0.3125 4.5625 -0.609375 L 4.5625 -2.515625 C 4.5625 -3.375 4.5625 -3.671875 4.25 -4.03125 C 4.109375 -4.203125 3.78125 -4.40625 3.203125 -4.40625 C 2.46875 -4.40625 2 -3.984375 1.71875 -3.359375 L 1.71875 -4.40625 L 0.3125 -4.296875 L 0.3125 -3.984375 C 1.015625 -3.984375 1.09375 -3.921875 1.09375 -3.421875 Z M 1.09375 -3.421875 \\\"\\/>\\n<\\/symbol>\\n<symbol overflow=\\\"visible\\\" id=\\\"glyph-1562715734929674-0-7\\\">\\n<path style=\\\"stroke:none;\\\" d=\\\"M 1.71875 -3.984375 L 3.15625 -3.984375 L 3.15625 -4.296875 L 1.71875 -4.296875 L 1.71875 -6.125 L 1.46875 -6.125 C 1.46875 -5.3125 1.171875 -4.25 0.1875 -4.203125 L 0.1875 -3.984375 L 1.03125 -3.984375 L 1.03125 -1.234375 C 1.03125 -0.015625 1.96875 0.109375 2.328125 0.109375 C 3.03125 0.109375 3.3125 -0.59375 3.3125 -1.234375 L 3.3125 -1.796875 L 3.0625 -1.796875 L 3.0625 -1.25 C 3.0625 -0.515625 2.765625 -0.140625 2.390625 -0.140625 C 1.71875 -0.140625 1.71875 -1.046875 1.71875 -1.21875 Z M 1.71875 -3.984375 \\\"\\/>\\n<\\/symbol>\\n<symbol overflow=\\\"visible\\\" id=\\\"glyph-1562715734929674-0-8\\\">\\n<path style=\\\"stroke:none;\\\" d=\\\"M 3.3125 -0.75 C 3.359375 -0.359375 3.625 0.0625 4.09375 0.0625 C 4.3125 0.0625 4.921875 -0.078125 4.921875 -0.890625 L 4.921875 -1.453125 L 4.671875 -1.453125 L 4.671875 -0.890625 C 4.671875 -0.3125 4.421875 -0.25 4.3125 -0.25 C 3.984375 -0.25 3.9375 -0.703125 3.9375 -0.75 L 3.9375 -2.734375 C 3.9375 -3.15625 3.9375 -3.546875 3.578125 -3.921875 C 3.1875 -4.3125 2.6875 -4.46875 2.21875 -4.46875 C 1.390625 -4.46875 0.703125 -4 0.703125 -3.34375 C 0.703125 -3.046875 0.90625 -2.875 1.171875 -2.875 C 1.453125 -2.875 1.625 -3.078125 1.625 -3.328125 C 1.625 -3.453125 1.578125 -3.78125 1.109375 -3.78125 C 1.390625 -4.140625 1.875 -4.25 2.1875 -4.25 C 2.6875 -4.25 3.25 -3.859375 3.25 -2.96875 L 3.25 -2.609375 C 2.734375 -2.578125 2.046875 -2.546875 1.421875 -2.25 C 0.671875 -1.90625 0.421875 -1.390625 0.421875 -0.953125 C 0.421875 -0.140625 1.390625 0.109375 2.015625 0.109375 C 2.671875 0.109375 3.125 -0.296875 3.3125 -0.75 Z M 3.25 -2.390625 L 3.25 -1.390625 C 3.25 -0.453125 2.53125 -0.109375 2.078125 -0.109375 C 1.59375 -0.109375 1.1875 -0.453125 1.1875 -0.953125 C 1.1875 -1.5 1.609375 -2.328125 3.25 -2.390625 Z M 3.25 -2.390625 \\\"\\/>\\n<\\/symbol>\\n<symbol overflow=\\\"visible\\\" id=\\\"glyph-1562715734929674-0-9\\\">\\n<path style=\\\"stroke:none;\\\" d=\\\"M 1.765625 -6.921875 L 0.328125 -6.8125 L 0.328125 -6.5 C 1.03125 -6.5 1.109375 -6.4375 1.109375 -5.9375 L 1.109375 -0.75 C 1.109375 -0.3125 1 -0.3125 0.328125 -0.3125 L 0.328125 0 C 0.65625 -0.015625 1.1875 -0.03125 1.4375 -0.03125 C 1.6875 -0.03125 2.171875 -0.015625 2.546875 0 L 2.546875 -0.3125 C 1.875 -0.3125 1.765625 -0.3125 1.765625 -0.75 Z M 1.765625 -6.921875 \\\"\\/>\\n<\\/symbol>\\n<symbol overflow=\\\"visible\\\" id=\\\"glyph-1562715734929674-0-10\\\">\\n<path style=\\\"stroke:none;\\\" d=\\\"M 2.234375 -3.515625 L 2.234375 -6.09375 C 2.234375 -6.328125 2.234375 -6.453125 2.453125 -6.484375 C 2.546875 -6.5 2.84375 -6.5 3.046875 -6.5 C 3.9375 -6.5 5.046875 -6.453125 5.046875 -5.015625 C 5.046875 -4.328125 4.8125 -3.515625 3.34375 -3.515625 Z M 4.34375 -3.390625 C 5.296875 -3.625 6.078125 -4.234375 6.078125 -5.015625 C 6.078125 -5.96875 4.9375 -6.8125 3.484375 -6.8125 L 0.34375 -6.8125 L 0.34375 -6.5 L 0.59375 -6.5 C 1.359375 -6.5 1.375 -6.390625 1.375 -6.03125 L 1.375 -0.78125 C 1.375 -0.421875 1.359375 -0.3125 0.59375 -0.3125 L 0.34375 -0.3125 L 0.34375 0 C 0.703125 -0.03125 1.421875 -0.03125 1.796875 -0.03125 C 2.1875 -0.03125 2.90625 -0.03125 3.265625 0 L 3.265625 -0.3125 L 3.015625 -0.3125 C 2.25 -0.3125 2.234375 -0.421875 2.234375 -0.78125 L 2.234375 -3.296875 L 3.375 -3.296875 C 3.53125 -3.296875 3.953125 -3.296875 4.3125 -2.953125 C 4.6875 -2.609375 4.6875 -2.296875 4.6875 -1.625 C 4.6875 -0.984375 4.6875 -0.578125 5.09375 -0.203125 C 5.5 0.15625 6.046875 0.21875 6.34375 0.21875 C 7.125 0.21875 7.296875 -0.59375 7.296875 -0.875 C 7.296875 -0.9375 7.296875 -1.046875 7.171875 -1.046875 C 7.0625 -1.046875 7.0625 -0.953125 7.046875 -0.890625 C 6.984375 -0.171875 6.640625 0 6.390625 0 C 5.90625 0 5.828125 -0.515625 5.6875 -1.4375 L 5.546875 -2.234375 C 5.375 -2.875 4.890625 -3.203125 4.34375 -3.390625 Z M 4.34375 -3.390625 \\\"\\/>\\n<\\/symbol>\\n<symbol overflow=\\\"visible\\\" id=\\\"glyph-1562715734929674-0-11\\\">\\n<path style=\\\"stroke:none;\\\" d=\\\"M 2.21875 -1.71875 C 1.34375 -1.71875 1.34375 -2.71875 1.34375 -2.9375 C 1.34375 -3.203125 1.359375 -3.53125 1.5 -3.78125 C 1.578125 -3.890625 1.8125 -4.171875 2.21875 -4.171875 C 3.078125 -4.171875 3.078125 -3.1875 3.078125 -2.953125 C 3.078125 -2.6875 3.078125 -2.359375 2.921875 -2.109375 C 2.84375 -2 2.609375 -1.71875 2.21875 -1.71875 Z M 1.0625 -1.328125 C 1.0625 -1.359375 1.0625 -1.59375 1.21875 -1.796875 C 1.609375 -1.515625 2.03125 -1.484375 2.21875 -1.484375 C 3.140625 -1.484375 3.828125 -2.171875 3.828125 -2.9375 C 3.828125 -3.3125 3.671875 -3.671875 3.421875 -3.90625 C 3.78125 -4.25 4.140625 -4.296875 4.3125 -4.296875 C 4.34375 -4.296875 4.390625 -4.296875 4.421875 -4.28125 C 4.3125 -4.25 4.25 -4.140625 4.25 -4.015625 C 4.25 -3.84375 4.390625 -3.734375 4.546875 -3.734375 C 4.640625 -3.734375 4.828125 -3.796875 4.828125 -4.03125 C 4.828125 -4.203125 4.71875 -4.515625 4.328125 -4.515625 C 4.125 -4.515625 3.6875 -4.453125 3.265625 -4.046875 C 2.84375 -4.375 2.4375 -4.40625 2.21875 -4.40625 C 1.28125 -4.40625 0.59375 -3.71875 0.59375 -2.953125 C 0.59375 -2.515625 0.8125 -2.140625 1.0625 -1.921875 C 0.9375 -1.78125 0.75 -1.453125 0.75 -1.09375 C 0.75 -0.78125 0.890625 -0.40625 1.203125 -0.203125 C 0.59375 -0.046875 0.28125 0.390625 0.28125 0.78125 C 0.28125 1.5 1.265625 2.046875 2.484375 2.046875 C 3.65625 2.046875 4.6875 1.546875 4.6875 0.765625 C 4.6875 0.421875 4.5625 -0.09375 4.046875 -0.375 C 3.515625 -0.640625 2.9375 -0.640625 2.328125 -0.640625 C 2.078125 -0.640625 1.65625 -0.640625 1.578125 -0.65625 C 1.265625 -0.703125 1.0625 -1 1.0625 -1.328125 Z M 2.5 1.828125 C 1.484375 1.828125 0.796875 1.3125 0.796875 0.78125 C 0.796875 0.328125 1.171875 -0.046875 1.609375 -0.0625 L 2.203125 -0.0625 C 3.0625 -0.0625 4.171875 -0.0625 4.171875 0.78125 C 4.171875 1.328125 3.46875 1.828125 2.5 1.828125 Z M 2.5 1.828125 \\\"\\/>\\n<\\/symbol>\\n<symbol overflow=\\\"visible\\\" id=\\\"glyph-1562715734929674-0-12\\\">\\n<path style=\\\"stroke:none;\\\" d=\\\"M 1.109375 -2.515625 C 1.171875 -4 2.015625 -4.25 2.359375 -4.25 C 3.375 -4.25 3.484375 -2.90625 3.484375 -2.515625 Z M 1.109375 -2.296875 L 3.890625 -2.296875 C 4.109375 -2.296875 4.140625 -2.296875 4.140625 -2.515625 C 4.140625 -3.5 3.59375 -4.46875 2.359375 -4.46875 C 1.203125 -4.46875 0.28125 -3.4375 0.28125 -2.1875 C 0.28125 -0.859375 1.328125 0.109375 2.46875 0.109375 C 3.6875 0.109375 4.140625 -1 4.140625 -1.1875 C 4.140625 -1.28125 4.0625 -1.3125 4 -1.3125 C 3.921875 -1.3125 3.890625 -1.25 3.875 -1.171875 C 3.53125 -0.140625 2.625 -0.140625 2.53125 -0.140625 C 2.03125 -0.140625 1.640625 -0.4375 1.40625 -0.8125 C 1.109375 -1.28125 1.109375 -1.9375 1.109375 -2.296875 Z M 1.109375 -2.296875 \\\"\\/>\\n<\\/symbol>\\n<symbol overflow=\\\"visible\\\" id=\\\"glyph-1562715734929674-0-13\\\">\\n<path style=\\\"stroke:none;\\\" d=\\\"M 1.90625 -3.765625 C 1.90625 -4.0625 1.671875 -4.296875 1.390625 -4.296875 C 1.09375 -4.296875 0.859375 -4.0625 0.859375 -3.765625 C 0.859375 -3.484375 1.09375 -3.234375 1.390625 -3.234375 C 1.671875 -3.234375 1.90625 -3.484375 1.90625 -3.765625 Z M 1.90625 -0.53125 C 1.90625 -0.8125 1.671875 -1.0625 1.390625 -1.0625 C 1.09375 -1.0625 0.859375 -0.8125 0.859375 -0.53125 C 0.859375 -0.234375 1.09375 0 1.390625 0 C 1.671875 0 1.90625 -0.234375 1.90625 -0.53125 Z M 1.90625 -0.53125 \\\"\\/>\\n<\\/symbol>\\n<symbol overflow=\\\"visible\\\" id=\\\"glyph-1562715734929674-0-14\\\">\\n<path style=\\\"stroke:none;\\\" d=\\\"M 4.46875 -2 C 4.46875 -3.1875 3.65625 -4.1875 2.578125 -4.1875 C 2.109375 -4.1875 1.671875 -4.03125 1.3125 -3.671875 L 1.3125 -5.625 C 1.515625 -5.5625 1.84375 -5.5 2.15625 -5.5 C 3.390625 -5.5 4.09375 -6.40625 4.09375 -6.53125 C 4.09375 -6.59375 4.0625 -6.640625 3.984375 -6.640625 C 3.984375 -6.640625 3.953125 -6.640625 3.90625 -6.609375 C 3.703125 -6.515625 3.21875 -6.3125 2.546875 -6.3125 C 2.15625 -6.3125 1.6875 -6.390625 1.21875 -6.59375 C 1.140625 -6.625 1.125 -6.625 1.109375 -6.625 C 1 -6.625 1 -6.546875 1 -6.390625 L 1 -3.4375 C 1 -3.265625 1 -3.1875 1.140625 -3.1875 C 1.21875 -3.1875 1.234375 -3.203125 1.28125 -3.265625 C 1.390625 -3.421875 1.75 -3.96875 2.5625 -3.96875 C 3.078125 -3.96875 3.328125 -3.515625 3.40625 -3.328125 C 3.5625 -2.953125 3.59375 -2.578125 3.59375 -2.078125 C 3.59375 -1.71875 3.59375 -1.125 3.34375 -0.703125 C 3.109375 -0.3125 2.734375 -0.0625 2.28125 -0.0625 C 1.5625 -0.0625 0.984375 -0.59375 0.8125 -1.171875 C 0.84375 -1.171875 0.875 -1.15625 0.984375 -1.15625 C 1.3125 -1.15625 1.484375 -1.40625 1.484375 -1.640625 C 1.484375 -1.890625 1.3125 -2.140625 0.984375 -2.140625 C 0.84375 -2.140625 0.5 -2.0625 0.5 -1.609375 C 0.5 -0.75 1.1875 0.21875 2.296875 0.21875 C 3.453125 0.21875 4.46875 -0.734375 4.46875 -2 Z M 4.46875 -2 \\\"\\/>\\n<\\/symbol>\\n<symbol overflow=\\\"visible\\\" id=\\\"glyph-1562715734929674-0-15\\\">\\n<path style=\\\"stroke:none;\\\" d=\\\"M 1.3125 -3.265625 L 1.3125 -3.515625 C 1.3125 -6.03125 2.546875 -6.390625 3.0625 -6.390625 C 3.296875 -6.390625 3.71875 -6.328125 3.9375 -5.984375 C 3.78125 -5.984375 3.390625 -5.984375 3.390625 -5.546875 C 3.390625 -5.234375 3.625 -5.078125 3.84375 -5.078125 C 4 -5.078125 4.3125 -5.171875 4.3125 -5.5625 C 4.3125 -6.15625 3.875 -6.640625 3.046875 -6.640625 C 1.765625 -6.640625 0.421875 -5.359375 0.421875 -3.15625 C 0.421875 -0.484375 1.578125 0.21875 2.5 0.21875 C 3.609375 0.21875 4.5625 -0.71875 4.5625 -2.03125 C 4.5625 -3.296875 3.671875 -4.25 2.5625 -4.25 C 1.890625 -4.25 1.515625 -3.75 1.3125 -3.265625 Z M 2.5 -0.0625 C 1.875 -0.0625 1.578125 -0.65625 1.515625 -0.8125 C 1.328125 -1.28125 1.328125 -2.078125 1.328125 -2.25 C 1.328125 -3.03125 1.65625 -4.03125 2.546875 -4.03125 C 2.71875 -4.03125 3.171875 -4.03125 3.484375 -3.40625 C 3.65625 -3.046875 3.65625 -2.53125 3.65625 -2.046875 C 3.65625 -1.5625 3.65625 -1.0625 3.484375 -0.703125 C 3.1875 -0.109375 2.734375 -0.0625 2.5 -0.0625 Z M 2.5 -0.0625 \\\"\\/>\\n<\\/symbol>\\n<symbol overflow=\\\"visible\\\" id=\\\"glyph-1562715734929674-0-16\\\">\\n<path style=\\\"stroke:none;\\\" d=\\\"M 6.1875 -5.828125 C 6.328125 -6.203125 6.59375 -6.484375 7.28125 -6.5 L 7.28125 -6.8125 C 6.96875 -6.78125 6.5625 -6.78125 6.3125 -6.78125 C 6.015625 -6.78125 5.4375 -6.796875 5.171875 -6.8125 L 5.171875 -6.5 C 5.6875 -6.484375 5.90625 -6.234375 5.90625 -6 C 5.90625 -5.921875 5.875 -5.859375 5.859375 -5.796875 L 4.03125 -1 L 2.125 -6.03125 C 2.0625 -6.171875 2.0625 -6.1875 2.0625 -6.203125 C 2.0625 -6.5 2.625 -6.5 2.875 -6.5 L 2.875 -6.8125 C 2.515625 -6.78125 1.828125 -6.78125 1.453125 -6.78125 C 0.984375 -6.78125 0.546875 -6.796875 0.1875 -6.8125 L 0.1875 -6.5 C 0.84375 -6.5 1.03125 -6.5 1.171875 -6.125 L 3.484375 0 C 3.546875 0.1875 3.59375 0.21875 3.734375 0.21875 C 3.890625 0.21875 3.921875 0.171875 3.96875 0.03125 Z M 6.1875 -5.828125 \\\"\\/>\\n<\\/symbol>\\n<symbol overflow=\\\"visible\\\" id=\\\"glyph-1562715734929674-0-17\\\">\\n<path style=\\\"stroke:none;\\\" d=\\\"M 1.171875 -2.171875 C 1.171875 -3.796875 1.984375 -4.21875 2.515625 -4.21875 C 2.609375 -4.21875 3.234375 -4.203125 3.578125 -3.84375 C 3.171875 -3.8125 3.109375 -3.515625 3.109375 -3.390625 C 3.109375 -3.125 3.296875 -2.9375 3.5625 -2.9375 C 3.828125 -2.9375 4.03125 -3.09375 4.03125 -3.40625 C 4.03125 -4.078125 3.265625 -4.46875 2.5 -4.46875 C 1.25 -4.46875 0.34375 -3.390625 0.34375 -2.15625 C 0.34375 -0.875 1.328125 0.109375 2.484375 0.109375 C 3.8125 0.109375 4.140625 -1.09375 4.140625 -1.1875 C 4.140625 -1.28125 4.03125 -1.28125 4 -1.28125 C 3.921875 -1.28125 3.890625 -1.25 3.875 -1.1875 C 3.59375 -0.265625 2.9375 -0.140625 2.578125 -0.140625 C 2.046875 -0.140625 1.171875 -0.5625 1.171875 -2.171875 Z M 1.171875 -2.171875 \\\"\\/>\\n<\\/symbol>\\n<symbol overflow=\\\"visible\\\" id=\\\"glyph-1562715734929674-0-18\\\">\\n<path style=\\\"stroke:none;\\\" d=\\\"M 2.9375 -1.640625 L 2.9375 -0.78125 C 2.9375 -0.421875 2.90625 -0.3125 2.171875 -0.3125 L 1.96875 -0.3125 L 1.96875 0 C 2.375 -0.03125 2.890625 -0.03125 3.3125 -0.03125 C 3.734375 -0.03125 4.25 -0.03125 4.671875 0 L 4.671875 -0.3125 L 4.453125 -0.3125 C 3.71875 -0.3125 3.703125 -0.421875 3.703125 -0.78125 L 3.703125 -1.640625 L 4.6875 -1.640625 L 4.6875 -1.953125 L 3.703125 -1.953125 L 3.703125 -6.484375 C 3.703125 -6.6875 3.703125 -6.75 3.53125 -6.75 C 3.453125 -6.75 3.421875 -6.75 3.34375 -6.625 L 0.28125 -1.953125 L 0.28125 -1.640625 Z M 2.984375 -1.953125 L 0.5625 -1.953125 L 2.984375 -5.671875 Z M 2.984375 -1.953125 \\\"\\/>\\n<\\/symbol>\\n<symbol overflow=\\\"visible\\\" id=\\\"glyph-1562715734929674-0-19\\\">\\n<path style=\\\"stroke:none;\\\" d=\\\"M 2.9375 -6.375 C 2.9375 -6.625 2.9375 -6.640625 2.703125 -6.640625 C 2.078125 -6 1.203125 -6 0.890625 -6 L 0.890625 -5.6875 C 1.09375 -5.6875 1.671875 -5.6875 2.1875 -5.953125 L 2.1875 -0.78125 C 2.1875 -0.421875 2.15625 -0.3125 1.265625 -0.3125 L 0.953125 -0.3125 L 0.953125 0 C 1.296875 -0.03125 2.15625 -0.03125 2.5625 -0.03125 C 2.953125 -0.03125 3.828125 -0.03125 4.171875 0 L 4.171875 -0.3125 L 3.859375 -0.3125 C 2.953125 -0.3125 2.9375 -0.421875 2.9375 -0.78125 Z M 2.9375 -6.375 \\\"\\/>\\n<\\/symbol>\\n<symbol overflow=\\\"visible\\\" id=\\\"glyph-1562715734929674-0-20\\\">\\n<path style=\\\"stroke:none;\\\" d=\\\"M 1.90625 -0.53125 C 1.90625 -0.8125 1.671875 -1.0625 1.390625 -1.0625 C 1.09375 -1.0625 0.859375 -0.8125 0.859375 -0.53125 C 0.859375 -0.234375 1.09375 0 1.390625 0 C 1.671875 0 1.90625 -0.234375 1.90625 -0.53125 Z M 1.90625 -0.53125 \\\"\\/>\\n<\\/symbol>\\n<symbol overflow=\\\"visible\\\" id=\\\"glyph-1562715734929674-0-21\\\">\\n<path style=\\\"stroke:none;\\\" d=\\\"M 1.265625 -0.765625 L 2.328125 -1.796875 C 3.875 -3.171875 4.46875 -3.703125 4.46875 -4.703125 C 4.46875 -5.84375 3.578125 -6.640625 2.359375 -6.640625 C 1.234375 -6.640625 0.5 -5.71875 0.5 -4.828125 C 0.5 -4.28125 1 -4.28125 1.03125 -4.28125 C 1.203125 -4.28125 1.546875 -4.390625 1.546875 -4.8125 C 1.546875 -5.0625 1.359375 -5.328125 1.015625 -5.328125 C 0.9375 -5.328125 0.921875 -5.328125 0.890625 -5.3125 C 1.109375 -5.96875 1.65625 -6.328125 2.234375 -6.328125 C 3.140625 -6.328125 3.5625 -5.515625 3.5625 -4.703125 C 3.5625 -3.90625 3.078125 -3.125 2.515625 -2.5 L 0.609375 -0.375 C 0.5 -0.265625 0.5 -0.234375 0.5 0 L 4.203125 0 L 4.46875 -1.734375 L 4.234375 -1.734375 C 4.171875 -1.4375 4.109375 -1 4 -0.84375 C 3.9375 -0.765625 3.28125 -0.765625 3.0625 -0.765625 Z M 1.265625 -0.765625 \\\"\\/>\\n<\\/symbol>\\n<symbol overflow=\\\"visible\\\" id=\\\"glyph-1562715734929674-0-22\\\">\\n<path style=\\\"stroke:none;\\\" d=\\\"M 4.578125 -3.1875 C 4.578125 -3.984375 4.53125 -4.78125 4.1875 -5.515625 C 3.734375 -6.484375 2.90625 -6.640625 2.5 -6.640625 C 1.890625 -6.640625 1.171875 -6.375 0.75 -5.453125 C 0.4375 -4.765625 0.390625 -3.984375 0.390625 -3.1875 C 0.390625 -2.4375 0.421875 -1.546875 0.84375 -0.78125 C 1.265625 0.015625 2 0.21875 2.484375 0.21875 C 3.015625 0.21875 3.78125 0.015625 4.21875 -0.9375 C 4.53125 -1.625 4.578125 -2.40625 4.578125 -3.1875 Z M 2.484375 0 C 2.09375 0 1.5 -0.25 1.328125 -1.203125 C 1.21875 -1.796875 1.21875 -2.71875 1.21875 -3.3125 C 1.21875 -3.953125 1.21875 -4.609375 1.296875 -5.140625 C 1.484375 -6.328125 2.234375 -6.421875 2.484375 -6.421875 C 2.8125 -6.421875 3.46875 -6.234375 3.65625 -5.25 C 3.765625 -4.6875 3.765625 -3.9375 3.765625 -3.3125 C 3.765625 -2.5625 3.765625 -1.890625 3.65625 -1.25 C 3.5 -0.296875 2.9375 0 2.484375 0 Z M 2.484375 0 \\\"\\/>\\n<\\/symbol>\\n<symbol overflow=\\\"visible\\\" id=\\\"glyph-1562715734929674-0-23\\\">\\n<path style=\\\"stroke:none;\\\" d=\\\"M 1.625 -4.5625 C 1.171875 -4.859375 1.125 -5.1875 1.125 -5.359375 C 1.125 -5.96875 1.78125 -6.390625 2.484375 -6.390625 C 3.203125 -6.390625 3.84375 -5.875 3.84375 -5.15625 C 3.84375 -4.578125 3.453125 -4.109375 2.859375 -3.765625 Z M 3.078125 -3.609375 C 3.796875 -3.984375 4.28125 -4.5 4.28125 -5.15625 C 4.28125 -6.078125 3.40625 -6.640625 2.5 -6.640625 C 1.5 -6.640625 0.6875 -5.90625 0.6875 -4.96875 C 0.6875 -4.796875 0.703125 -4.34375 1.125 -3.875 C 1.234375 -3.765625 1.609375 -3.515625 1.859375 -3.34375 C 1.28125 -3.046875 0.421875 -2.5 0.421875 -1.5 C 0.421875 -0.453125 1.4375 0.21875 2.484375 0.21875 C 3.609375 0.21875 4.5625 -0.609375 4.5625 -1.671875 C 4.5625 -2.03125 4.453125 -2.484375 4.0625 -2.90625 C 3.875 -3.109375 3.71875 -3.203125 3.078125 -3.609375 Z M 2.078125 -3.1875 L 3.3125 -2.40625 C 3.59375 -2.21875 4.0625 -1.921875 4.0625 -1.3125 C 4.0625 -0.578125 3.3125 -0.0625 2.5 -0.0625 C 1.640625 -0.0625 0.921875 -0.671875 0.921875 -1.5 C 0.921875 -2.078125 1.234375 -2.71875 2.078125 -3.1875 Z M 2.078125 -3.1875 \\\"\\/>\\n<\\/symbol>\\n<symbol overflow=\\\"visible\\\" id=\\\"glyph-1562715734929674-0-24\\\">\\n<path style=\\\"stroke:none;\\\" d=\\\"M 1.359375 -0.78125 C 1.359375 -0.421875 1.328125 -0.3125 0.5625 -0.3125 L 0.328125 -0.3125 L 0.328125 0 L 6.078125 0 L 6.5 -2.578125 L 6.25 -2.578125 C 6 -1.03125 5.765625 -0.3125 4.0625 -0.3125 L 2.734375 -0.3125 C 2.265625 -0.3125 2.25 -0.375 2.25 -0.703125 L 2.25 -3.375 L 3.140625 -3.375 C 4.109375 -3.375 4.21875 -3.046875 4.21875 -2.203125 L 4.46875 -2.203125 L 4.46875 -4.84375 L 4.21875 -4.84375 C 4.21875 -3.984375 4.109375 -3.671875 3.140625 -3.671875 L 2.25 -3.671875 L 2.25 -6.078125 C 2.25 -6.40625 2.265625 -6.46875 2.734375 -6.46875 L 4.015625 -6.46875 C 5.546875 -6.46875 5.8125 -5.921875 5.96875 -4.53125 L 6.21875 -4.53125 L 5.9375 -6.78125 L 0.328125 -6.78125 L 0.328125 -6.46875 L 0.5625 -6.46875 C 1.328125 -6.46875 1.359375 -6.359375 1.359375 -6 Z M 1.359375 -0.78125 \\\"\\/>\\n<\\/symbol>\\n<symbol overflow=\\\"visible\\\" id=\\\"glyph-1562715734929674-0-25\\\">\\n<path style=\\\"stroke:none;\\\" d=\\\"M 2.078125 -1.9375 C 2.296875 -1.890625 3.109375 -1.734375 3.109375 -1.015625 C 3.109375 -0.515625 2.765625 -0.109375 1.984375 -0.109375 C 1.140625 -0.109375 0.78125 -0.671875 0.59375 -1.53125 C 0.5625 -1.65625 0.5625 -1.6875 0.453125 -1.6875 C 0.328125 -1.6875 0.328125 -1.625 0.328125 -1.453125 L 0.328125 -0.125 C 0.328125 0.046875 0.328125 0.109375 0.4375 0.109375 C 0.484375 0.109375 0.5 0.09375 0.6875 -0.09375 C 0.703125 -0.109375 0.703125 -0.125 0.890625 -0.3125 C 1.328125 0.09375 1.78125 0.109375 1.984375 0.109375 C 3.125 0.109375 3.59375 -0.5625 3.59375 -1.28125 C 3.59375 -1.796875 3.296875 -2.109375 3.171875 -2.21875 C 2.84375 -2.546875 2.453125 -2.625 2.03125 -2.703125 C 1.46875 -2.8125 0.8125 -2.9375 0.8125 -3.515625 C 0.8125 -3.875 1.0625 -4.28125 1.921875 -4.28125 C 3.015625 -4.28125 3.078125 -3.375 3.09375 -3.078125 C 3.09375 -2.984375 3.1875 -2.984375 3.203125 -2.984375 C 3.34375 -2.984375 3.34375 -3.03125 3.34375 -3.21875 L 3.34375 -4.234375 C 3.34375 -4.390625 3.34375 -4.46875 3.234375 -4.46875 C 3.1875 -4.46875 3.15625 -4.46875 3.03125 -4.34375 C 3 -4.3125 2.90625 -4.21875 2.859375 -4.1875 C 2.484375 -4.46875 2.078125 -4.46875 1.921875 -4.46875 C 0.703125 -4.46875 0.328125 -3.796875 0.328125 -3.234375 C 0.328125 -2.890625 0.484375 -2.609375 0.75 -2.390625 C 1.078125 -2.140625 1.359375 -2.078125 2.078125 -1.9375 Z M 2.078125 -1.9375 \\\"\\/>\\n<\\/symbol>\\n<symbol overflow=\\\"visible\\\" id=\\\"glyph-1562715734929674-0-26\\\">\\n<path style=\\\"stroke:none;\\\" d=\\\"M 3.296875 2.390625 C 3.296875 2.359375 3.296875 2.34375 3.125 2.171875 C 1.890625 0.921875 1.5625 -0.96875 1.5625 -2.5 C 1.5625 -4.234375 1.9375 -5.96875 3.171875 -7.203125 C 3.296875 -7.328125 3.296875 -7.34375 3.296875 -7.375 C 3.296875 -7.453125 3.265625 -7.484375 3.203125 -7.484375 C 3.09375 -7.484375 2.203125 -6.796875 1.609375 -5.53125 C 1.109375 -4.4375 0.984375 -3.328125 0.984375 -2.5 C 0.984375 -1.71875 1.09375 -0.515625 1.640625 0.625 C 2.25 1.84375 3.09375 2.5 3.203125 2.5 C 3.265625 2.5 3.296875 2.46875 3.296875 2.390625 Z M 3.296875 2.390625 \\\"\\/>\\n<\\/symbol>\\n<symbol overflow=\\\"visible\\\" id=\\\"glyph-1562715734929674-0-27\\\">\\n<path style=\\\"stroke:none;\\\" d=\\\"M 1.09375 -3.421875 L 1.09375 -0.75 C 1.09375 -0.3125 0.984375 -0.3125 0.3125 -0.3125 L 0.3125 0 C 0.671875 -0.015625 1.171875 -0.03125 1.453125 -0.03125 C 1.703125 -0.03125 2.21875 -0.015625 2.5625 0 L 2.5625 -0.3125 C 1.890625 -0.3125 1.78125 -0.3125 1.78125 -0.75 L 1.78125 -2.59375 C 1.78125 -3.625 2.5 -4.1875 3.125 -4.1875 C 3.765625 -4.1875 3.875 -3.65625 3.875 -3.078125 L 3.875 -0.75 C 3.875 -0.3125 3.765625 -0.3125 3.09375 -0.3125 L 3.09375 0 C 3.4375 -0.015625 3.953125 -0.03125 4.21875 -0.03125 C 4.46875 -0.03125 5 -0.015625 5.328125 0 L 5.328125 -0.3125 C 4.671875 -0.3125 4.5625 -0.3125 4.5625 -0.75 L 4.5625 -2.59375 C 4.5625 -3.625 5.265625 -4.1875 5.90625 -4.1875 C 6.53125 -4.1875 6.640625 -3.65625 6.640625 -3.078125 L 6.640625 -0.75 C 6.640625 -0.3125 6.53125 -0.3125 5.859375 -0.3125 L 5.859375 0 C 6.203125 -0.015625 6.71875 -0.03125 6.984375 -0.03125 C 7.25 -0.03125 7.765625 -0.015625 8.109375 0 L 8.109375 -0.3125 C 7.59375 -0.3125 7.34375 -0.3125 7.328125 -0.609375 L 7.328125 -2.515625 C 7.328125 -3.375 7.328125 -3.671875 7.015625 -4.03125 C 6.875 -4.203125 6.546875 -4.40625 5.96875 -4.40625 C 5.140625 -4.40625 4.6875 -3.8125 4.53125 -3.421875 C 4.390625 -4.296875 3.65625 -4.40625 3.203125 -4.40625 C 2.46875 -4.40625 2 -3.984375 1.71875 -3.359375 L 1.71875 -4.40625 L 0.3125 -4.296875 L 0.3125 -3.984375 C 1.015625 -3.984375 1.09375 -3.921875 1.09375 -3.421875 Z M 1.09375 -3.421875 \\\"\\/>\\n<\\/symbol>\\n<symbol overflow=\\\"visible\\\" id=\\\"glyph-1562715734929674-0-28\\\">\\n<path style=\\\"stroke:none;\\\" d=\\\"M 2.875 -2.5 C 2.875 -3.265625 2.765625 -4.46875 2.21875 -5.609375 C 1.625 -6.828125 0.765625 -7.484375 0.671875 -7.484375 C 0.609375 -7.484375 0.5625 -7.4375 0.5625 -7.375 C 0.5625 -7.34375 0.5625 -7.328125 0.75 -7.140625 C 1.734375 -6.15625 2.296875 -4.578125 2.296875 -2.5 C 2.296875 -0.78125 1.9375 0.96875 0.703125 2.21875 C 0.5625 2.34375 0.5625 2.359375 0.5625 2.390625 C 0.5625 2.453125 0.609375 2.5 0.671875 2.5 C 0.765625 2.5 1.671875 1.8125 2.25 0.546875 C 2.765625 -0.546875 2.875 -1.65625 2.875 -2.5 Z M 2.875 -2.5 \\\"\\/>\\n<\\/symbol>\\n<symbol overflow=\\\"visible\\\" id=\\\"glyph-1562715734929674-0-29\\\">\\n<path style=\\\"stroke:none;\\\" d=\\\"M 5.90625 -0.625 C 6.046875 -0.40625 6.4375 -0.015625 6.546875 -0.015625 C 6.640625 -0.015625 6.640625 -0.09375 6.640625 -0.234375 L 6.640625 -1.96875 C 6.640625 -2.359375 6.671875 -2.40625 7.328125 -2.40625 L 7.328125 -2.71875 C 6.953125 -2.71875 6.40625 -2.6875 6.109375 -2.6875 C 5.71875 -2.6875 4.859375 -2.6875 4.5 -2.71875 L 4.5 -2.40625 L 4.828125 -2.40625 C 5.71875 -2.40625 5.75 -2.296875 5.75 -1.9375 L 5.75 -1.296875 C 5.75 -0.171875 4.484375 -0.09375 4.203125 -0.09375 C 3.5625 -0.09375 1.578125 -0.4375 1.578125 -3.40625 C 1.578125 -6.390625 3.546875 -6.71875 4.140625 -6.71875 C 5.21875 -6.71875 6.125 -5.828125 6.3125 -4.359375 C 6.34375 -4.21875 6.34375 -4.1875 6.484375 -4.1875 C 6.640625 -4.1875 6.640625 -4.21875 6.640625 -4.421875 L 6.640625 -6.78125 C 6.640625 -6.953125 6.640625 -7.03125 6.53125 -7.03125 C 6.484375 -7.03125 6.453125 -7.03125 6.375 -6.90625 L 5.875 -6.171875 C 5.546875 -6.484375 5.015625 -7.03125 4.03125 -7.03125 C 2.171875 -7.03125 0.5625 -5.453125 0.5625 -3.40625 C 0.5625 -1.359375 2.15625 0.21875 4.046875 0.21875 C 4.78125 0.21875 5.578125 -0.046875 5.90625 -0.625 Z M 5.90625 -0.625 \\\"\\/>\\n<\\/symbol>\\n<symbol overflow=\\\"visible\\\" id=\\\"glyph-1562715734929674-0-30\\\">\\n<path style=\\\"stroke:none;\\\" d=\\\"M 3.890625 -0.78125 L 3.890625 0.109375 L 5.328125 0 L 5.328125 -0.3125 C 4.640625 -0.3125 4.5625 -0.375 4.5625 -0.875 L 4.5625 -4.40625 L 3.09375 -4.296875 L 3.09375 -3.984375 C 3.78125 -3.984375 3.875 -3.921875 3.875 -3.421875 L 3.875 -1.65625 C 3.875 -0.78125 3.390625 -0.109375 2.65625 -0.109375 C 1.828125 -0.109375 1.78125 -0.578125 1.78125 -1.09375 L 1.78125 -4.40625 L 0.3125 -4.296875 L 0.3125 -3.984375 C 1.09375 -3.984375 1.09375 -3.953125 1.09375 -3.078125 L 1.09375 -1.578125 C 1.09375 -0.796875 1.09375 0.109375 2.609375 0.109375 C 3.171875 0.109375 3.609375 -0.171875 3.890625 -0.78125 Z M 3.890625 -0.78125 \\\"\\/>\\n<\\/symbol>\\n<symbol overflow=\\\"visible\\\" id=\\\"glyph-1562715734929674-0-31\\\">\\n<path style=\\\"stroke:none;\\\" d=\\\"M 3.78125 -0.546875 L 3.78125 0.109375 L 5.25 0 L 5.25 -0.3125 C 4.5625 -0.3125 4.46875 -0.375 4.46875 -0.875 L 4.46875 -6.921875 L 3.046875 -6.8125 L 3.046875 -6.5 C 3.734375 -6.5 3.8125 -6.4375 3.8125 -5.9375 L 3.8125 -3.78125 C 3.53125 -4.140625 3.09375 -4.40625 2.5625 -4.40625 C 1.390625 -4.40625 0.34375 -3.421875 0.34375 -2.140625 C 0.34375 -0.875 1.3125 0.109375 2.453125 0.109375 C 3.09375 0.109375 3.53125 -0.234375 3.78125 -0.546875 Z M 3.78125 -3.21875 L 3.78125 -1.171875 C 3.78125 -1 3.78125 -0.984375 3.671875 -0.8125 C 3.375 -0.328125 2.9375 -0.109375 2.5 -0.109375 C 2.046875 -0.109375 1.6875 -0.375 1.453125 -0.75 C 1.203125 -1.15625 1.171875 -1.71875 1.171875 -2.140625 C 1.171875 -2.5 1.1875 -3.09375 1.46875 -3.546875 C 1.6875 -3.859375 2.0625 -4.1875 2.609375 -4.1875 C 2.953125 -4.1875 3.375 -4.03125 3.671875 -3.59375 C 3.78125 -3.421875 3.78125 -3.40625 3.78125 -3.21875 Z M 3.78125 -3.21875 \\\"\\/>\\n<\\/symbol>\\n<symbol overflow=\\\"visible\\\" id=\\\"glyph-1562715734929674-0-32\\\">\\n<path style=\\\"stroke:none;\\\" d=\\\"M 6.640625 -6.75 L 0.546875 -6.75 L 0.359375 -4.5 L 0.609375 -4.5 C 0.75 -6.109375 0.890625 -6.4375 2.40625 -6.4375 C 2.578125 -6.4375 2.84375 -6.4375 2.9375 -6.421875 C 3.15625 -6.375 3.15625 -6.265625 3.15625 -6.046875 L 3.15625 -0.78125 C 3.15625 -0.453125 3.15625 -0.3125 2.109375 -0.3125 L 1.703125 -0.3125 L 1.703125 0 C 2.109375 -0.03125 3.125 -0.03125 3.59375 -0.03125 C 4.046875 -0.03125 5.078125 -0.03125 5.484375 0 L 5.484375 -0.3125 L 5.078125 -0.3125 C 4.03125 -0.3125 4.03125 -0.453125 4.03125 -0.78125 L 4.03125 -6.046875 C 4.03125 -6.234375 4.03125 -6.375 4.21875 -6.421875 C 4.328125 -6.4375 4.59375 -6.4375 4.78125 -6.4375 C 6.296875 -6.4375 6.4375 -6.109375 6.578125 -4.5 L 6.828125 -4.5 Z M 6.640625 -6.75 \\\"\\/>\\n<\\/symbol>\\n<symbol overflow=\\\"visible\\\" id=\\\"glyph-1562715734929674-0-33\\\">\\n<path style=\\\"stroke:none;\\\" d=\\\"M 1.0625 -0.75 C 1.0625 -0.3125 0.953125 -0.3125 0.28125 -0.3125 L 0.28125 0 C 0.609375 -0.015625 1.078125 -0.03125 1.359375 -0.03125 C 1.671875 -0.03125 2.0625 -0.015625 2.46875 0 L 2.46875 -0.3125 C 1.796875 -0.3125 1.6875 -0.3125 1.6875 -0.75 L 1.6875 -1.78125 L 2.328125 -2.328125 C 3.09375 -1.28125 3.515625 -0.71875 3.515625 -0.53125 C 3.515625 -0.34375 3.34375 -0.3125 3.15625 -0.3125 L 3.15625 0 C 3.421875 -0.015625 4.015625 -0.03125 4.234375 -0.03125 C 4.515625 -0.03125 4.8125 -0.015625 5.09375 0 L 5.09375 -0.3125 C 4.71875 -0.3125 4.5 -0.3125 4.125 -0.84375 L 2.859375 -2.625 C 2.84375 -2.640625 2.796875 -2.703125 2.796875 -2.734375 C 2.796875 -2.765625 3.515625 -3.375 3.609375 -3.453125 C 4.234375 -3.953125 4.65625 -3.984375 4.859375 -3.984375 L 4.859375 -4.296875 C 4.578125 -4.265625 4.453125 -4.265625 4.171875 -4.265625 C 3.8125 -4.265625 3.1875 -4.28125 3.046875 -4.296875 L 3.046875 -3.984375 C 3.234375 -3.984375 3.34375 -3.875 3.34375 -3.734375 C 3.34375 -3.53125 3.203125 -3.421875 3.125 -3.34375 L 1.71875 -2.140625 L 1.71875 -6.921875 L 0.28125 -6.8125 L 0.28125 -6.5 C 0.984375 -6.5 1.0625 -6.4375 1.0625 -5.9375 Z M 1.0625 -0.75 \\\"\\/>\\n<\\/symbol>\\n<symbol overflow=\\\"visible\\\" id=\\\"glyph-1562715734929674-0-34\\\">\\n<path style=\\\"stroke:none;\\\" d=\\\"M 2.890625 -3.515625 C 3.703125 -3.78125 4.28125 -4.46875 4.28125 -5.265625 C 4.28125 -6.078125 3.40625 -6.640625 2.453125 -6.640625 C 1.453125 -6.640625 0.6875 -6.046875 0.6875 -5.28125 C 0.6875 -4.953125 0.90625 -4.765625 1.203125 -4.765625 C 1.5 -4.765625 1.703125 -4.984375 1.703125 -5.28125 C 1.703125 -5.765625 1.234375 -5.765625 1.09375 -5.765625 C 1.390625 -6.265625 2.046875 -6.390625 2.40625 -6.390625 C 2.828125 -6.390625 3.375 -6.171875 3.375 -5.28125 C 3.375 -5.15625 3.34375 -4.578125 3.09375 -4.140625 C 2.796875 -3.65625 2.453125 -3.625 2.203125 -3.625 C 2.125 -3.609375 1.890625 -3.59375 1.8125 -3.59375 C 1.734375 -3.578125 1.671875 -3.5625 1.671875 -3.46875 C 1.671875 -3.359375 1.734375 -3.359375 1.90625 -3.359375 L 2.34375 -3.359375 C 3.15625 -3.359375 3.53125 -2.6875 3.53125 -1.703125 C 3.53125 -0.34375 2.84375 -0.0625 2.40625 -0.0625 C 1.96875 -0.0625 1.21875 -0.234375 0.875 -0.8125 C 1.21875 -0.765625 1.53125 -0.984375 1.53125 -1.359375 C 1.53125 -1.71875 1.265625 -1.921875 0.984375 -1.921875 C 0.734375 -1.921875 0.421875 -1.78125 0.421875 -1.34375 C 0.421875 -0.4375 1.34375 0.21875 2.4375 0.21875 C 3.65625 0.21875 4.5625 -0.6875 4.5625 -1.703125 C 4.5625 -2.515625 3.921875 -3.296875 2.890625 -3.515625 Z M 2.890625 -3.515625 \\\"\\/>\\n<\\/symbol>\\n<symbol overflow=\\\"visible\\\" id=\\\"glyph-1562715734929674-0-35\\\">\\n<path style=\\\"stroke:none;\\\" d=\\\"M 2.265625 -3.15625 L 3.953125 -3.15625 C 5.140625 -3.15625 6.21875 -3.953125 6.21875 -4.953125 C 6.21875 -5.9375 5.234375 -6.8125 3.875 -6.8125 L 0.34375 -6.8125 L 0.34375 -6.5 L 0.59375 -6.5 C 1.359375 -6.5 1.375 -6.390625 1.375 -6.03125 L 1.375 -0.78125 C 1.375 -0.421875 1.359375 -0.3125 0.59375 -0.3125 L 0.34375 -0.3125 L 0.34375 0 C 0.703125 -0.03125 1.4375 -0.03125 1.8125 -0.03125 C 2.1875 -0.03125 2.9375 -0.03125 3.296875 0 L 3.296875 -0.3125 L 3.046875 -0.3125 C 2.28125 -0.3125 2.265625 -0.421875 2.265625 -0.78125 Z M 2.234375 -3.40625 L 2.234375 -6.09375 C 2.234375 -6.4375 2.25 -6.5 2.71875 -6.5 L 3.609375 -6.5 C 5.1875 -6.5 5.1875 -5.4375 5.1875 -4.953125 C 5.1875 -4.484375 5.1875 -3.40625 3.609375 -3.40625 Z M 2.234375 -3.40625 \\\"\\/>\\n<\\/symbol>\\n<symbol overflow=\\\"visible\\\" id=\\\"glyph-1562715734929674-0-36\\\">\\n<path style=\\\"stroke:none;\\\" d=\\\"M 3.296875 -3.984375 C 3.75 -3.984375 3.8125 -3.859375 3.8125 -3.453125 L 3.8125 -0.75 C 3.8125 -0.3125 3.703125 -0.3125 3.046875 -0.3125 L 3.046875 0 C 3.375 -0.015625 3.890625 -0.03125 4.140625 -0.03125 C 4.390625 -0.03125 4.890625 -0.015625 5.25 0 L 5.25 -0.3125 C 4.578125 -0.3125 4.46875 -0.3125 4.46875 -0.75 L 4.46875 -4.421875 L 3.21875 -4.328125 C 3.0625 -4.3125 3.046875 -4.3125 3.046875 -4.3125 C 3.015625 -4.296875 3 -4.296875 2.859375 -4.296875 L 1.6875 -4.296875 L 1.6875 -5.421875 C 1.6875 -6.40625 2.546875 -6.8125 3.15625 -6.8125 C 3.453125 -6.8125 3.8125 -6.703125 4.015625 -6.484375 C 3.609375 -6.453125 3.546875 -6.1875 3.546875 -6.015625 C 3.546875 -5.6875 3.8125 -5.5625 4 -5.5625 C 4.234375 -5.5625 4.453125 -5.71875 4.453125 -6.015625 C 4.453125 -6.609375 3.90625 -7.03125 3.171875 -7.03125 C 2.25 -7.03125 1.0625 -6.515625 1.0625 -5.4375 L 1.0625 -4.296875 L 0.265625 -4.296875 L 0.265625 -3.984375 L 1.0625 -3.984375 L 1.0625 -0.75 C 1.0625 -0.3125 0.953125 -0.3125 0.28125 -0.3125 L 0.28125 0 C 0.609375 -0.015625 1.140625 -0.03125 1.390625 -0.03125 C 1.640625 -0.03125 2.125 -0.015625 2.5 0 L 2.5 -0.3125 C 1.828125 -0.3125 1.71875 -0.3125 1.71875 -0.75 L 1.71875 -3.984375 Z M 3.296875 -3.984375 \\\"\\/>\\n<\\/symbol>\\n<symbol overflow=\\\"visible\\\" id=\\\"glyph-1562715734929674-0-37\\\">\\n<path style=\\\"stroke:none;\\\" d=\\\"M 3.96875 -6.9375 C 3.921875 -7.0625 3.890625 -7.140625 3.734375 -7.140625 C 3.578125 -7.140625 3.546875 -7.078125 3.5 -6.9375 L 1.4375 -0.984375 C 1.25 -0.46875 0.859375 -0.3125 0.3125 -0.3125 L 0.3125 0 C 0.546875 -0.015625 0.984375 -0.03125 1.328125 -0.03125 C 1.640625 -0.03125 2.15625 -0.015625 2.484375 0 L 2.484375 -0.3125 C 1.984375 -0.3125 1.734375 -0.5625 1.734375 -0.8125 C 1.734375 -0.84375 1.75 -0.953125 1.75 -0.96875 L 2.21875 -2.265625 L 4.671875 -2.265625 L 5.203125 -0.75 C 5.21875 -0.703125 5.234375 -0.640625 5.234375 -0.609375 C 5.234375 -0.3125 4.671875 -0.3125 4.40625 -0.3125 L 4.40625 0 C 4.765625 -0.03125 5.46875 -0.03125 5.84375 -0.03125 C 6.265625 -0.03125 6.734375 -0.015625 7.140625 0 L 7.140625 -0.3125 L 6.96875 -0.3125 C 6.375 -0.3125 6.234375 -0.375 6.125 -0.703125 Z M 3.4375 -5.828125 L 4.5625 -2.578125 L 2.328125 -2.578125 Z M 3.4375 -5.828125 \\\"\\/>\\n<\\/symbol>\\n<symbol overflow=\\\"visible\\\" id=\\\"glyph-1562715734929674-0-38\\\">\\n<path style=\\\"stroke:none;\\\" d=\\\"M 0.5625 -3.40625 C 0.5625 -1.34375 2.171875 0.21875 4.03125 0.21875 C 5.65625 0.21875 6.625 -1.171875 6.625 -2.328125 C 6.625 -2.421875 6.625 -2.5 6.5 -2.5 C 6.390625 -2.5 6.390625 -2.4375 6.375 -2.328125 C 6.296875 -0.90625 5.234375 -0.09375 4.140625 -0.09375 C 3.53125 -0.09375 1.578125 -0.421875 1.578125 -3.40625 C 1.578125 -6.375 3.53125 -6.71875 4.140625 -6.71875 C 5.21875 -6.71875 6.109375 -5.8125 6.3125 -4.359375 C 6.328125 -4.21875 6.328125 -4.1875 6.46875 -4.1875 C 6.625 -4.1875 6.625 -4.21875 6.625 -4.421875 L 6.625 -6.78125 C 6.625 -6.953125 6.625 -7.03125 6.515625 -7.03125 C 6.484375 -7.03125 6.4375 -7.03125 6.359375 -6.90625 L 5.859375 -6.171875 C 5.5 -6.53125 4.984375 -7.03125 4.03125 -7.03125 C 2.15625 -7.03125 0.5625 -5.4375 0.5625 -3.40625 Z M 0.5625 -3.40625 \\\"\\/>\\n<\\/symbol>\\n<symbol overflow=\\\"visible\\\" id=\\\"glyph-1562715734929674-0-39\\\">\\n<path style=\\\"stroke:none;\\\" d=\\\"M 7.1875 -3.375 C 7.1875 -5.40625 5.6875 -7.03125 3.875 -7.03125 C 2.078125 -7.03125 0.5625 -5.4375 0.5625 -3.375 C 0.5625 -1.328125 2.09375 0.21875 3.875 0.21875 C 5.6875 0.21875 7.1875 -1.359375 7.1875 -3.375 Z M 3.875 -0.046875 C 2.921875 -0.046875 1.578125 -0.921875 1.578125 -3.515625 C 1.578125 -6.09375 3.046875 -6.78125 3.875 -6.78125 C 4.734375 -6.78125 6.15625 -6.078125 6.15625 -3.515625 C 6.15625 -0.875 4.796875 -0.046875 3.875 -0.046875 Z M 3.875 -0.046875 \\\"\\/>\\n<\\/symbol>\\n<symbol overflow=\\\"visible\\\" id=\\\"glyph-1562715734929674-0-40\\\">\\n<path style=\\\"stroke:none;\\\" d=\\\"M 9.0625 -5.828125 C 9.234375 -6.40625 9.671875 -6.5 10.0625 -6.5 L 10.0625 -6.8125 C 9.765625 -6.78125 9.453125 -6.78125 9.15625 -6.78125 C 8.859375 -6.78125 8.21875 -6.796875 7.96875 -6.8125 L 7.96875 -6.5 C 8.640625 -6.484375 8.828125 -6.15625 8.828125 -5.96875 C 8.828125 -5.90625 8.796875 -5.828125 8.78125 -5.765625 L 7.28125 -1.171875 L 5.6875 -6.046875 C 5.6875 -6.09375 5.65625 -6.15625 5.65625 -6.203125 C 5.65625 -6.5 6.234375 -6.5 6.5 -6.5 L 6.5 -6.8125 C 6.140625 -6.78125 5.46875 -6.78125 5.078125 -6.78125 C 4.703125 -6.78125 4.28125 -6.796875 3.875 -6.8125 L 3.875 -6.5 C 4.4375 -6.5 4.640625 -6.5 4.765625 -6.140625 L 4.984375 -5.4375 L 3.59375 -1.171875 L 2 -6.078125 C 1.984375 -6.09375 1.96875 -6.171875 1.96875 -6.203125 C 1.96875 -6.5 2.546875 -6.5 2.8125 -6.5 L 2.8125 -6.8125 C 2.453125 -6.78125 1.78125 -6.78125 1.390625 -6.78125 C 1.015625 -6.78125 0.59375 -6.796875 0.171875 -6.8125 L 0.171875 -6.5 C 0.921875 -6.5 0.96875 -6.453125 1.09375 -6.078125 L 3.078125 0.03125 C 3.109375 0.125 3.140625 0.21875 3.265625 0.21875 C 3.40625 0.21875 3.421875 0.15625 3.46875 0.015625 L 5.109375 -5.046875 L 6.765625 0.03125 C 6.796875 0.125 6.828125 0.21875 6.953125 0.21875 C 7.09375 0.21875 7.125 0.15625 7.15625 0.015625 Z M 9.0625 -5.828125 \\\"\\/>\\n<\\/symbol>\\n<symbol overflow=\\\"visible\\\" id=\\\"glyph-1562715734929674-0-41\\\">\\n<path style=\\\"stroke:none;\\\" d=\\\"M 0.34375 -6.8125 L 0.34375 -6.5 L 0.59375 -6.5 C 1.359375 -6.5 1.375 -6.390625 1.375 -6.03125 L 1.375 -0.78125 C 1.375 -0.421875 1.359375 -0.3125 0.59375 -0.3125 L 0.34375 -0.3125 L 0.34375 0 L 4 0 C 5.671875 0 7.046875 -1.46875 7.046875 -3.34375 C 7.046875 -5.25 5.703125 -6.8125 4 -6.8125 Z M 2.71875 -0.3125 C 2.25 -0.3125 2.234375 -0.375 2.234375 -0.703125 L 2.234375 -6.09375 C 2.234375 -6.4375 2.25 -6.5 2.71875 -6.5 L 3.71875 -6.5 C 4.34375 -6.5 5.03125 -6.28125 5.53125 -5.578125 C 5.96875 -4.984375 6.046875 -4.125 6.046875 -3.34375 C 6.046875 -2.25 5.859375 -1.640625 5.5 -1.15625 C 5.296875 -0.890625 4.734375 -0.3125 3.734375 -0.3125 Z M 2.71875 -0.3125 \\\"\\/>\\n<\\/symbol>\\n<symbol overflow=\\\"visible\\\" id=\\\"glyph-1562715734929674-0-42\\\">\\n<path style=\\\"stroke:none;\\\" d=\\\"M 3.484375 -3.875 L 2.203125 -4.171875 C 1.578125 -4.328125 1.203125 -4.859375 1.203125 -5.4375 C 1.203125 -6.140625 1.734375 -6.75 2.515625 -6.75 C 4.171875 -6.75 4.390625 -5.109375 4.453125 -4.671875 C 4.46875 -4.609375 4.46875 -4.546875 4.578125 -4.546875 C 4.703125 -4.546875 4.703125 -4.59375 4.703125 -4.78125 L 4.703125 -6.78125 C 4.703125 -6.953125 4.703125 -7.03125 4.59375 -7.03125 C 4.53125 -7.03125 4.515625 -7.015625 4.453125 -6.890625 L 4.09375 -6.328125 C 3.796875 -6.625 3.390625 -7.03125 2.5 -7.03125 C 1.390625 -7.03125 0.5625 -6.15625 0.5625 -5.09375 C 0.5625 -4.265625 1.09375 -3.53125 1.859375 -3.265625 C 1.96875 -3.234375 2.484375 -3.109375 3.1875 -2.9375 C 3.453125 -2.875 3.75 -2.796875 4.03125 -2.4375 C 4.234375 -2.171875 4.34375 -1.84375 4.34375 -1.515625 C 4.34375 -0.8125 3.84375 -0.09375 3 -0.09375 C 2.71875 -0.09375 1.953125 -0.140625 1.421875 -0.625 C 0.84375 -1.171875 0.8125 -1.796875 0.8125 -2.15625 C 0.796875 -2.265625 0.71875 -2.265625 0.6875 -2.265625 C 0.5625 -2.265625 0.5625 -2.1875 0.5625 -2.015625 L 0.5625 -0.015625 C 0.5625 0.15625 0.5625 0.21875 0.671875 0.21875 C 0.734375 0.21875 0.75 0.203125 0.8125 0.09375 C 0.8125 0.078125 0.84375 0.046875 1.171875 -0.484375 C 1.484375 -0.140625 2.125 0.21875 3.015625 0.21875 C 4.171875 0.21875 4.96875 -0.75 4.96875 -1.859375 C 4.96875 -2.84375 4.3125 -3.671875 3.484375 -3.875 Z M 3.484375 -3.875 \\\"\\/>\\n<\\/symbol>\\n<symbol overflow=\\\"visible\\\" id=\\\"glyph-1562715734929674-0-43\\\">\\n<path style=\\\"stroke:none;\\\" d=\\\"M 3.984375 -4.171875 L 5.78125 -5.90625 C 5.859375 -5.984375 6.390625 -6.484375 7.203125 -6.5 L 7.203125 -6.8125 C 6.9375 -6.78125 6.625 -6.78125 6.34375 -6.78125 C 5.984375 -6.78125 5.421875 -6.78125 5.078125 -6.8125 L 5.078125 -6.5 C 5.484375 -6.484375 5.546875 -6.265625 5.546875 -6.171875 C 5.546875 -6.015625 5.4375 -5.90625 5.359375 -5.84375 L 2.25 -2.859375 L 2.25 -6.03125 C 2.25 -6.390625 2.265625 -6.5 3.03125 -6.5 L 3.265625 -6.5 L 3.265625 -6.8125 C 2.921875 -6.78125 2.1875 -6.78125 1.796875 -6.78125 C 1.421875 -6.78125 0.671875 -6.78125 0.328125 -6.8125 L 0.328125 -6.5 L 0.5625 -6.5 C 1.328125 -6.5 1.359375 -6.390625 1.359375 -6.03125 L 1.359375 -0.78125 C 1.359375 -0.421875 1.328125 -0.3125 0.5625 -0.3125 L 0.328125 -0.3125 L 0.328125 0 C 0.671875 -0.03125 1.421875 -0.03125 1.796875 -0.03125 C 2.171875 -0.03125 2.921875 -0.03125 3.265625 0 L 3.265625 -0.3125 L 3.03125 -0.3125 C 2.265625 -0.3125 2.25 -0.421875 2.25 -0.78125 L 2.25 -2.515625 L 3.40625 -3.625 L 5.203125 -0.953125 C 5.265625 -0.859375 5.359375 -0.734375 5.359375 -0.609375 C 5.359375 -0.3125 4.96875 -0.3125 4.765625 -0.3125 L 4.765625 0 C 5.109375 -0.03125 5.8125 -0.03125 6.1875 -0.03125 C 6.546875 -0.03125 6.921875 -0.015625 7.34375 0 L 7.34375 -0.3125 C 6.796875 -0.3125 6.59375 -0.34375 6.296875 -0.78125 Z M 3.984375 -4.171875 \\\"\\/>\\n<\\/symbol>\\n<symbol overflow=\\\"visible\\\" id=\\\"glyph-1562715734929674-0-44\\\">\\n<path style=\\\"stroke:none;\\\" d=\\\"M 6.078125 -5.859375 C 6.453125 -6.453125 7.03125 -6.5 7.359375 -6.5 L 7.359375 -6.8125 C 7.046875 -6.78125 6.65625 -6.78125 6.375 -6.78125 C 6.078125 -6.78125 5.5 -6.796875 5.234375 -6.8125 L 5.234375 -6.5 C 5.640625 -6.5 5.796875 -6.3125 5.796875 -6.109375 C 5.796875 -6 5.734375 -5.875 5.703125 -5.8125 L 4.0625 -3.140625 L 2.25 -6.078125 C 2.1875 -6.1875 2.1875 -6.203125 2.1875 -6.25 C 2.1875 -6.453125 2.4375 -6.5 2.875 -6.5 L 2.875 -6.8125 C 2.515625 -6.78125 1.796875 -6.78125 1.40625 -6.78125 C 0.984375 -6.78125 0.53125 -6.78125 0.109375 -6.8125 L 0.109375 -6.5 L 0.296875 -6.5 C 0.96875 -6.5 1.046875 -6.390625 1.203125 -6.125 L 3.296875 -2.71875 L 3.296875 -0.78125 C 3.296875 -0.421875 3.28125 -0.3125 2.515625 -0.3125 L 2.265625 -0.3125 L 2.265625 0 C 2.625 -0.03125 3.34375 -0.03125 3.734375 -0.03125 C 4.109375 -0.03125 4.828125 -0.03125 5.1875 0 L 5.1875 -0.3125 L 4.953125 -0.3125 C 4.1875 -0.3125 4.15625 -0.40625 4.15625 -0.796875 L 4.15625 -2.71875 Z M 6.078125 -5.859375 \\\"\\/>\\n<\\/symbol>\\n<symbol overflow=\\\"visible\\\" id=\\\"glyph-1562715734929674-1-0\\\">\\n<path style=\\\"stroke:none;\\\" d=\\\"\\\"\\/>\\n<\\/symbol>\\n<symbol overflow=\\\"visible\\\" id=\\\"glyph-1562715734929674-1-1\\\">\\n<path style=\\\"stroke:none;\\\" d=\\\"M 2.03125 -0.015625 C 2.03125 -0.671875 1.78125 -1.0625 1.390625 -1.0625 C 1.0625 -1.0625 0.859375 -0.8125 0.859375 -0.53125 C 0.859375 -0.265625 1.0625 0 1.390625 0 C 1.5 0 1.640625 -0.046875 1.734375 -0.125 C 1.765625 -0.15625 1.78125 -0.15625 1.78125 -0.15625 C 1.796875 -0.15625 1.796875 -0.15625 1.796875 -0.015625 C 1.796875 0.734375 1.453125 1.328125 1.125 1.65625 C 1.015625 1.765625 1.015625 1.78125 1.015625 1.8125 C 1.015625 1.890625 1.0625 1.921875 1.109375 1.921875 C 1.21875 1.921875 2.03125 1.15625 2.03125 -0.015625 Z M 2.03125 -0.015625 \\\"\\/>\\n<\\/symbol>\\n<symbol overflow=\\\"visible\\\" id=\\\"glyph-1562715734929674-2-0\\\">\\n<path style=\\\"stroke:none;\\\" d=\\\"\\\"\\/>\\n<\\/symbol>\\n<symbol overflow=\\\"visible\\\" id=\\\"glyph-1562715734929674-2-1\\\">\\n<path style=\\\"stroke:none;\\\" d=\\\"M 6.5625 -2.296875 C 6.734375 -2.296875 6.921875 -2.296875 6.921875 -2.5 C 6.921875 -2.6875 6.734375 -2.6875 6.5625 -2.6875 L 1.171875 -2.6875 C 1 -2.6875 0.828125 -2.6875 0.828125 -2.5 C 0.828125 -2.296875 1 -2.296875 1.171875 -2.296875 Z M 6.5625 -2.296875 \\\"\\/>\\n<\\/symbol>\\n<symbol overflow=\\\"visible\\\" id=\\\"glyph-1562715734929674-3-0\\\">\\n<path style=\\\"stroke:none;\\\" d=\\\"\\\"\\/>\\n<\\/symbol>\\n<symbol overflow=\\\"visible\\\" id=\\\"glyph-1562715734929674-3-1\\\">\\n<path style=\\\"stroke:none;\\\" d=\\\"M -6.671875 -2.3125 C -6.796875 -2.21875 -6.8125 -2.21875 -6.8125 -2.03125 L -6.8125 -0.328125 L -6.5 -0.328125 L -6.5 -0.625 C -6.5 -0.765625 -6.484375 -0.96875 -6.484375 -1.109375 C -6.453125 -1.34375 -6.4375 -1.359375 -6.25 -1.359375 L -1.046875 -1.359375 C -0.78125 -1.359375 -0.3125 -1.359375 -0.3125 -0.328125 L 0 -0.328125 C -0.015625 -0.671875 -0.03125 -1.171875 -0.03125 -1.5 C -0.03125 -1.828125 -0.015625 -2.3125 0 -2.65625 L -0.3125 -2.65625 C -0.3125 -1.640625 -0.78125 -1.640625 -1.046875 -1.640625 L -6.234375 -1.640625 C -6.1875 -1.6875 -6.171875 -1.6875 -6.109375 -1.734375 L -0.125 -5.796875 C -0.015625 -5.890625 0 -5.90625 0 -5.96875 C 0 -6.109375 -0.0625 -6.109375 -0.265625 -6.109375 L -5.765625 -6.109375 C -6.03125 -6.109375 -6.5 -6.109375 -6.5 -7.140625 L -6.8125 -7.140625 C -6.796875 -6.78125 -6.78125 -6.296875 -6.78125 -5.96875 C -6.78125 -5.640625 -6.796875 -5.15625 -6.8125 -4.8125 L -6.5 -4.8125 C -6.5 -5.828125 -6.03125 -5.828125 -5.765625 -5.828125 L -1.5 -5.828125 Z M -6.671875 -2.3125 \\\"\\/>\\n<\\/symbol>\\n<symbol overflow=\\\"visible\\\" id=\\\"glyph-1562715734929674-3-2\\\">\\n<path style=\\\"stroke:none;\\\" d=\\\"M -2.140625 -4.6875 C -3.40625 -4.6875 -4.46875 -3.703125 -4.46875 -2.5 C -4.46875 -1.25 -3.375 -0.28125 -2.140625 -0.28125 C -0.84375 -0.28125 0.109375 -1.3125 0.109375 -2.484375 C 0.109375 -3.6875 -0.875 -4.6875 -2.140625 -4.6875 Z M -0.140625 -2.5 C -0.140625 -2.0625 -0.34375 -1.625 -0.8125 -1.359375 C -1.25 -1.109375 -1.859375 -1.109375 -2.21875 -1.109375 C -2.609375 -1.109375 -3.140625 -1.109375 -3.578125 -1.34375 C -4.03125 -1.609375 -4.25 -2.078125 -4.25 -2.484375 C -4.25 -2.921875 -4.03125 -3.34375 -3.59375 -3.609375 C -3.171875 -3.875 -2.59375 -3.875 -2.21875 -3.875 C -1.859375 -3.875 -1.3125 -3.875 -0.875 -3.65625 C -0.421875 -3.421875 -0.140625 -2.984375 -0.140625 -2.5 Z M -0.140625 -2.5 \\\"\\/>\\n<\\/symbol>\\n<symbol overflow=\\\"visible\\\" id=\\\"glyph-1562715734929674-3-3\\\">\\n<path style=\\\"stroke:none;\\\" d=\\\"M -3.3125 -1.671875 L -4.40625 -1.671875 L -4.296875 -0.28125 L -3.984375 -0.28125 C -3.984375 -0.984375 -3.921875 -1.0625 -3.421875 -1.0625 L -0.75 -1.0625 C -0.3125 -1.0625 -0.3125 -0.953125 -0.3125 -0.28125 L 0 -0.28125 C -0.015625 -0.671875 -0.03125 -1.140625 -0.03125 -1.421875 C -0.03125 -1.8125 -0.03125 -2.28125 0 -2.6875 L -0.3125 -2.6875 L -0.3125 -2.46875 C -0.3125 -1.734375 -0.421875 -1.71875 -0.78125 -1.71875 L -2.3125 -1.71875 C -3.296875 -1.71875 -4.1875 -2.140625 -4.1875 -2.890625 C -4.1875 -2.953125 -4.1875 -2.984375 -4.171875 -3 C -4.171875 -2.96875 -4.046875 -2.765625 -3.78125 -2.765625 C -3.515625 -2.765625 -3.359375 -2.984375 -3.359375 -3.203125 C -3.359375 -3.375 -3.484375 -3.625 -3.796875 -3.625 C -4.109375 -3.625 -4.40625 -3.3125 -4.40625 -2.890625 C -4.40625 -2.15625 -3.734375 -1.796875 -3.3125 -1.671875 Z M -3.3125 -1.671875 \\\"\\/>\\n<\\/symbol>\\n<symbol overflow=\\\"visible\\\" id=\\\"glyph-1562715734929674-3-4\\\">\\n<path style=\\\"stroke:none;\\\" d=\\\"M -3.984375 -1.71875 L -3.984375 -3.15625 L -4.296875 -3.15625 L -4.296875 -1.71875 L -6.125 -1.71875 L -6.125 -1.46875 C -5.3125 -1.46875 -4.25 -1.171875 -4.203125 -0.1875 L -3.984375 -0.1875 L -3.984375 -1.03125 L -1.234375 -1.03125 C -0.015625 -1.03125 0.109375 -1.96875 0.109375 -2.328125 C 0.109375 -3.03125 -0.59375 -3.3125 -1.234375 -3.3125 L -1.796875 -3.3125 L -1.796875 -3.0625 L -1.25 -3.0625 C -0.515625 -3.0625 -0.140625 -2.765625 -0.140625 -2.390625 C -0.140625 -1.71875 -1.046875 -1.71875 -1.21875 -1.71875 Z M -3.984375 -1.71875 \\\"\\/>\\n<\\/symbol>\\n<symbol overflow=\\\"visible\\\" id=\\\"glyph-1562715734929674-3-5\\\">\\n<path style=\\\"stroke:none;\\\" d=\\\"M -0.75 -1.09375 C -0.3125 -1.09375 -0.3125 -0.984375 -0.3125 -0.3125 L 0 -0.3125 C -0.015625 -0.671875 -0.03125 -1.171875 -0.03125 -1.453125 C -0.03125 -1.703125 -0.015625 -2.21875 0 -2.5625 L -0.3125 -2.5625 C -0.3125 -1.890625 -0.3125 -1.78125 -0.75 -1.78125 L -2.59375 -1.78125 C -3.625 -1.78125 -4.1875 -2.5 -4.1875 -3.125 C -4.1875 -3.765625 -3.65625 -3.875 -3.078125 -3.875 L -0.75 -3.875 C -0.3125 -3.875 -0.3125 -3.765625 -0.3125 -3.09375 L 0 -3.09375 C -0.015625 -3.4375 -0.03125 -3.953125 -0.03125 -4.21875 C -0.03125 -4.46875 -0.015625 -5 0 -5.328125 L -0.3125 -5.328125 C -0.3125 -4.8125 -0.3125 -4.5625 -0.609375 -4.5625 L -2.515625 -4.5625 C -3.375 -4.5625 -3.671875 -4.5625 -4.03125 -4.25 C -4.203125 -4.109375 -4.40625 -3.78125 -4.40625 -3.203125 C -4.40625 -2.359375 -3.8125 -1.921875 -3.421875 -1.75 L -6.921875 -1.75 L -6.8125 -0.3125 L -6.5 -0.3125 C -6.5 -1.015625 -6.4375 -1.09375 -5.9375 -1.09375 Z M -0.75 -1.09375 \\\"\\/>\\n<\\/symbol>\\n<symbol overflow=\\\"visible\\\" id=\\\"glyph-1562715734929674-3-6\\\">\\n<path style=\\\"stroke:none;\\\" d=\\\"M 2.390625 -3.296875 C 2.359375 -3.296875 2.34375 -3.296875 2.171875 -3.125 C 0.921875 -1.890625 -0.96875 -1.5625 -2.5 -1.5625 C -4.234375 -1.5625 -5.96875 -1.9375 -7.203125 -3.171875 C -7.328125 -3.296875 -7.34375 -3.296875 -7.375 -3.296875 C -7.453125 -3.296875 -7.484375 -3.265625 -7.484375 -3.203125 C -7.484375 -3.09375 -6.796875 -2.203125 -5.53125 -1.609375 C -4.4375 -1.109375 -3.328125 -0.984375 -2.5 -0.984375 C -1.71875 -0.984375 -0.515625 -1.09375 0.625 -1.640625 C 1.84375 -2.25 2.5 -3.09375 2.5 -3.203125 C 2.5 -3.265625 2.46875 -3.296875 2.390625 -3.296875 Z M 2.390625 -3.296875 \\\"\\/>\\n<\\/symbol>\\n<symbol overflow=\\\"visible\\\" id=\\\"glyph-1562715734929674-3-7\\\">\\n<path style=\\\"stroke:none;\\\" d=\\\"M -3.421875 -1.09375 L -0.75 -1.09375 C -0.3125 -1.09375 -0.3125 -0.984375 -0.3125 -0.3125 L 0 -0.3125 C -0.015625 -0.671875 -0.03125 -1.171875 -0.03125 -1.453125 C -0.03125 -1.703125 -0.015625 -2.21875 0 -2.5625 L -0.3125 -2.5625 C -0.3125 -1.890625 -0.3125 -1.78125 -0.75 -1.78125 L -2.59375 -1.78125 C -3.625 -1.78125 -4.1875 -2.5 -4.1875 -3.125 C -4.1875 -3.765625 -3.65625 -3.875 -3.078125 -3.875 L -0.75 -3.875 C -0.3125 -3.875 -0.3125 -3.765625 -0.3125 -3.09375 L 0 -3.09375 C -0.015625 -3.4375 -0.03125 -3.953125 -0.03125 -4.21875 C -0.03125 -4.46875 -0.015625 -5 0 -5.328125 L -0.3125 -5.328125 C -0.3125 -4.671875 -0.3125 -4.5625 -0.75 -4.5625 L -2.59375 -4.5625 C -3.625 -4.5625 -4.1875 -5.265625 -4.1875 -5.90625 C -4.1875 -6.53125 -3.65625 -6.640625 -3.078125 -6.640625 L -0.75 -6.640625 C -0.3125 -6.640625 -0.3125 -6.53125 -0.3125 -5.859375 L 0 -5.859375 C -0.015625 -6.203125 -0.03125 -6.71875 -0.03125 -6.984375 C -0.03125 -7.25 -0.015625 -7.765625 0 -8.109375 L -0.3125 -8.109375 C -0.3125 -7.59375 -0.3125 -7.34375 -0.609375 -7.328125 L -2.515625 -7.328125 C -3.375 -7.328125 -3.671875 -7.328125 -4.03125 -7.015625 C -4.203125 -6.875 -4.40625 -6.546875 -4.40625 -5.96875 C -4.40625 -5.140625 -3.8125 -4.6875 -3.421875 -4.53125 C -4.296875 -4.390625 -4.40625 -3.65625 -4.40625 -3.203125 C -4.40625 -2.46875 -3.984375 -2 -3.359375 -1.71875 L -4.40625 -1.71875 L -4.296875 -0.3125 L -3.984375 -0.3125 C -3.984375 -1.015625 -3.921875 -1.09375 -3.421875 -1.09375 Z M -3.421875 -1.09375 \\\"\\/>\\n<\\/symbol>\\n<symbol overflow=\\\"visible\\\" id=\\\"glyph-1562715734929674-3-8\\\">\\n<path style=\\\"stroke:none;\\\" d=\\\"M -2.5 -2.875 C -3.265625 -2.875 -4.46875 -2.765625 -5.609375 -2.21875 C -6.828125 -1.625 -7.484375 -0.765625 -7.484375 -0.671875 C -7.484375 -0.609375 -7.4375 -0.5625 -7.375 -0.5625 C -7.34375 -0.5625 -7.328125 -0.5625 -7.140625 -0.75 C -6.15625 -1.734375 -4.578125 -2.296875 -2.5 -2.296875 C -0.78125 -2.296875 0.96875 -1.9375 2.21875 -0.703125 C 2.34375 -0.5625 2.359375 -0.5625 2.390625 -0.5625 C 2.453125 -0.5625 2.5 -0.609375 2.5 -0.671875 C 2.5 -0.765625 1.8125 -1.671875 0.546875 -2.25 C -0.546875 -2.765625 -1.65625 -2.875 -2.5 -2.875 Z M -2.5 -2.875 \\\"\\/>\\n<\\/symbol>\\n<symbol overflow=\\\"visible\\\" id=\\\"glyph-1562715734929674-3-9\\\">\\n<path style=\\\"stroke:none;\\\" d=\\\"M -6.9375 -3.96875 C -7.0625 -3.921875 -7.140625 -3.890625 -7.140625 -3.734375 C -7.140625 -3.578125 -7.078125 -3.546875 -6.9375 -3.5 L -0.984375 -1.4375 C -0.46875 -1.25 -0.3125 -0.859375 -0.3125 -0.3125 L 0 -0.3125 C -0.015625 -0.546875 -0.03125 -0.984375 -0.03125 -1.328125 C -0.03125 -1.640625 -0.015625 -2.15625 0 -2.484375 L -0.3125 -2.484375 C -0.3125 -1.984375 -0.5625 -1.734375 -0.8125 -1.734375 C -0.84375 -1.734375 -0.953125 -1.75 -0.96875 -1.75 L -2.265625 -2.21875 L -2.265625 -4.671875 L -0.75 -5.203125 C -0.703125 -5.21875 -0.640625 -5.234375 -0.609375 -5.234375 C -0.3125 -5.234375 -0.3125 -4.671875 -0.3125 -4.40625 L 0 -4.40625 C -0.03125 -4.765625 -0.03125 -5.46875 -0.03125 -5.84375 C -0.03125 -6.265625 -0.015625 -6.734375 0 -7.140625 L -0.3125 -7.140625 L -0.3125 -6.96875 C -0.3125 -6.375 -0.375 -6.234375 -0.703125 -6.125 Z M -5.828125 -3.4375 L -2.578125 -4.5625 L -2.578125 -2.328125 Z M -5.828125 -3.4375 \\\"\\/>\\n<\\/symbol>\\n<symbol overflow=\\\"visible\\\" id=\\\"glyph-1562715734929674-3-10\\\">\\n<path style=\\\"stroke:none;\\\" d=\\\"M -6.921875 -1.765625 L -6.8125 -0.328125 L -6.5 -0.328125 C -6.5 -1.03125 -6.4375 -1.109375 -5.9375 -1.109375 L -0.75 -1.109375 C -0.3125 -1.109375 -0.3125 -1 -0.3125 -0.328125 L 0 -0.328125 C -0.015625 -0.65625 -0.03125 -1.1875 -0.03125 -1.4375 C -0.03125 -1.6875 -0.015625 -2.171875 0 -2.546875 L -0.3125 -2.546875 C -0.3125 -1.875 -0.3125 -1.765625 -0.75 -1.765625 Z M -6.921875 -1.765625 \\\"\\/>\\n<\\/symbol>\\n<symbol overflow=\\\"visible\\\" id=\\\"glyph-1562715734929674-3-11\\\">\\n<path style=\\\"stroke:none;\\\" d=\\\"M -4.40625 -1.765625 L -4.296875 -0.375 L -3.984375 -0.375 C -3.984375 -1.015625 -3.921875 -1.109375 -3.4375 -1.109375 L -0.75 -1.109375 C -0.3125 -1.109375 -0.3125 -1 -0.3125 -0.328125 L 0 -0.328125 C -0.015625 -0.640625 -0.03125 -1.1875 -0.03125 -1.421875 C -0.03125 -1.78125 -0.015625 -2.125 0 -2.46875 L -0.3125 -2.46875 C -0.3125 -1.796875 -0.359375 -1.765625 -0.75 -1.765625 Z M -6.140625 -1.796875 C -6.453125 -1.796875 -6.671875 -1.5625 -6.671875 -1.28125 C -6.671875 -0.96875 -6.40625 -0.75 -6.140625 -0.75 C -5.875 -0.75 -5.609375 -0.96875 -5.609375 -1.28125 C -5.609375 -1.5625 -5.828125 -1.796875 -6.140625 -1.796875 Z M -6.140625 -1.796875 \\\"\\/>\\n<\\/symbol>\\n<symbol overflow=\\\"visible\\\" id=\\\"glyph-1562715734929674-3-12\\\">\\n<path style=\\\"stroke:none;\\\" d=\\\"M -0.78125 -3.890625 L 0.109375 -3.890625 L 0 -5.328125 L -0.3125 -5.328125 C -0.3125 -4.640625 -0.375 -4.5625 -0.875 -4.5625 L -4.40625 -4.5625 L -4.296875 -3.09375 L -3.984375 -3.09375 C -3.984375 -3.78125 -3.921875 -3.875 -3.421875 -3.875 L -1.65625 -3.875 C -0.78125 -3.875 -0.109375 -3.390625 -0.109375 -2.65625 C -0.109375 -1.828125 -0.578125 -1.78125 -1.09375 -1.78125 L -4.40625 -1.78125 L -4.296875 -0.3125 L -3.984375 -0.3125 C -3.984375 -1.09375 -3.953125 -1.09375 -3.078125 -1.09375 L -1.578125 -1.09375 C -0.796875 -1.09375 0.109375 -1.09375 0.109375 -2.609375 C 0.109375 -3.171875 -0.171875 -3.609375 -0.78125 -3.890625 Z M -0.78125 -3.890625 \\\"\\/>\\n<\\/symbol>\\n<symbol overflow=\\\"visible\\\" id=\\\"glyph-1562715734929674-3-13\\\">\\n<path style=\\\"stroke:none;\\\" d=\\\"M -0.546875 -3.78125 L 0.109375 -3.78125 L 0 -5.25 L -0.3125 -5.25 C -0.3125 -4.5625 -0.375 -4.46875 -0.875 -4.46875 L -6.921875 -4.46875 L -6.8125 -3.046875 L -6.5 -3.046875 C -6.5 -3.734375 -6.4375 -3.8125 -5.9375 -3.8125 L -3.78125 -3.8125 C -4.140625 -3.53125 -4.40625 -3.09375 -4.40625 -2.5625 C -4.40625 -1.390625 -3.421875 -0.34375 -2.140625 -0.34375 C -0.875 -0.34375 0.109375 -1.3125 0.109375 -2.453125 C 0.109375 -3.09375 -0.234375 -3.53125 -0.546875 -3.78125 Z M -3.21875 -3.78125 L -1.171875 -3.78125 C -1 -3.78125 -0.984375 -3.78125 -0.8125 -3.671875 C -0.328125 -3.375 -0.109375 -2.9375 -0.109375 -2.5 C -0.109375 -2.046875 -0.375 -1.6875 -0.75 -1.453125 C -1.15625 -1.203125 -1.71875 -1.171875 -2.140625 -1.171875 C -2.5 -1.171875 -3.09375 -1.1875 -3.546875 -1.46875 C -3.859375 -1.6875 -4.1875 -2.0625 -4.1875 -2.609375 C -4.1875 -2.953125 -4.03125 -3.375 -3.59375 -3.671875 C -3.421875 -3.78125 -3.40625 -3.78125 -3.21875 -3.78125 Z M -3.21875 -3.78125 \\\"\\/>\\n<\\/symbol>\\n<symbol overflow=\\\"visible\\\" id=\\\"glyph-1562715734929674-3-14\\\">\\n<path style=\\\"stroke:none;\\\" d=\\\"M -2.515625 -1.109375 C -4 -1.171875 -4.25 -2.015625 -4.25 -2.359375 C -4.25 -3.375 -2.90625 -3.484375 -2.515625 -3.484375 Z M -2.296875 -1.109375 L -2.296875 -3.890625 C -2.296875 -4.109375 -2.296875 -4.140625 -2.515625 -4.140625 C -3.5 -4.140625 -4.46875 -3.59375 -4.46875 -2.359375 C -4.46875 -1.203125 -3.4375 -0.28125 -2.1875 -0.28125 C -0.859375 -0.28125 0.109375 -1.328125 0.109375 -2.46875 C 0.109375 -3.6875 -1 -4.140625 -1.1875 -4.140625 C -1.28125 -4.140625 -1.3125 -4.0625 -1.3125 -4 C -1.3125 -3.921875 -1.25 -3.890625 -1.171875 -3.875 C -0.140625 -3.53125 -0.140625 -2.625 -0.140625 -2.53125 C -0.140625 -2.03125 -0.4375 -1.640625 -0.8125 -1.40625 C -1.28125 -1.109375 -1.9375 -1.109375 -2.296875 -1.109375 Z M -2.296875 -1.109375 \\\"\\/>\\n<\\/symbol>\\n<symbol overflow=\\\"visible\\\" id=\\\"glyph-1562715734929674-3-15\\\">\\n<path style=\\\"stroke:none;\\\" d=\\\"M -4.296875 -1.75 L -5.453125 -1.75 C -6.328125 -1.75 -6.8125 -2.21875 -6.8125 -2.65625 C -6.8125 -2.6875 -6.8125 -2.84375 -6.734375 -2.984375 C -6.703125 -2.875 -6.5625 -2.6875 -6.3125 -2.6875 C -6.09375 -2.6875 -5.890625 -2.84375 -5.890625 -3.125 C -5.890625 -3.40625 -6.09375 -3.5625 -6.328125 -3.5625 C -6.703125 -3.5625 -7.03125 -3.1875 -7.03125 -2.65625 C -7.03125 -1.96875 -6.5 -1.109375 -5.4375 -1.109375 L -4.296875 -1.109375 L -4.296875 -0.328125 L -3.984375 -0.328125 L -3.984375 -1.109375 L -0.75 -1.109375 C -0.3125 -1.109375 -0.3125 -1 -0.3125 -0.34375 L 0 -0.34375 C -0.015625 -0.734375 -0.03125 -1.203125 -0.03125 -1.46875 C -0.03125 -1.875 -0.03125 -2.34375 0 -2.734375 L -0.3125 -2.734375 L -0.3125 -2.53125 C -0.3125 -1.796875 -0.421875 -1.78125 -0.78125 -1.78125 L -3.984375 -1.78125 L -3.984375 -2.90625 L -4.296875 -2.90625 Z M -4.296875 -1.75 \\\"\\/>\\n<\\/symbol>\\n<\\/g>\\n<clipPath id=\\\"clip-1562715734929674-1\\\">\\n  <path d=\\\"M 46.335938 0 L 284.972656 0 L 284.972656 11.855469 L 46.335938 11.855469 Z M 46.335938 0 \\\"\\/>\\n<\\/clipPath>\\n<image style=\\\"image-rendering: pixelated;\\\" id=\\\"image-1562715734929674-5\\\" width=\\\"100\\\" height=\\\"100\\\" xlink:href=\\\"data:image\\/png;base64,iVBORw0KGgoAAAANSUhEUgAAAGQAAABkCAIAAAD\\/gAIDAAAABmJLR0QA\\/wD\\/AP+gvaeTAAAA6ElEQVR4nO3QwQ3AIBDAsNL9dz5WIC+EZE8QZc3Mx5n\\/dsBLzArMCswKzArMCswKzArMCswKzArMCswKzArMCswKzArMCswKzArMCswKzArMCswKzArMCswKzArMCswKzArMCswKzArMCswKzArMCswKzArMCswKzArMCswKzArMCswKzArMCswKzArMCswKzArMCswKzArMCswKzArMCswKzArMCswKzArMCswKzArMCswKzArMCswKzArMCswKzArMCswKzArMCswKzArMCswKzArMCswKzArMCswKzArMCswKzArMCjbP8QPFyqa8aAAAAABJRU5ErkJggg==\\\"\\/>\\n<clipPath id=\\\"clip-1562715734929674-2\\\">\\n  <path d=\\\"M 163 4 L 192 4 L 192 11.855469 L 163 11.855469 Z M 163 4 \\\"\\/>\\n<\\/clipPath>\\n<clipPath id=\\\"clip-1562715734929674-3\\\">\\n  <path d=\\\"M 197 4 L 217 4 L 217 11.855469 L 197 11.855469 Z M 197 4 \\\"\\/>\\n<\\/clipPath>\\n<clipPath id=\\\"clip-1562715734929674-4\\\">\\n  <path d=\\\"M 342 0 L 580 0 L 580 11.855469 L 342 11.855469 Z M 342 0 \\\"\\/>\\n<\\/clipPath>\\n<image style=\\\"image-rendering: pixelated;\\\" id=\\\"image-1562715734929674-8\\\" width=\\\"100\\\" height=\\\"100\\\" xlink:href=\\\"data:image\\/png;base64,iVBORw0KGgoAAAANSUhEUgAAAGQAAABkCAIAAAD\\/gAIDAAAABmJLR0QA\\/wD\\/AP+gvaeTAAAA6ElEQVR4nO3QwQ3AIBDAsNL9dz5WIC+EZE8QZc3Mx5n\\/dsBLzArMCswKzArMCswKzArMCswKzArMCswKzArMCswKzArMCswKzArMCswKzArMCswKzArMCswKzArMCswKzArMCswKzArMCswKzArMCswKzArMCswKzArMCswKzArMCswKzArMCswKzArMCswKzArMCswKzArMCswKzArMCswKzArMCswKzArMCswKzArMCswKzArMCswKzArMCswKzArMCswKzArMCswKzArMCswKzArMCswKzArMCswKzArMCswKzArMCjbP8QPFyqa8aAAAAABJRU5ErkJggg==\\\"\\/>\\n<clipPath id=\\\"clip-1562715734929674-5\\\">\\n  <path d=\\\"M 414 4 L 422 4 L 422 11.855469 L 414 11.855469 Z M 414 4 \\\"\\/>\\n<\\/clipPath>\\n<clipPath id=\\\"clip-1562715734929674-6\\\">\\n  <path d=\\\"M 451 4 L 481 4 L 481 11.855469 L 451 11.855469 Z M 451 4 \\\"\\/>\\n<\\/clipPath>\\n<clipPath id=\\\"clip-1562715734929674-7\\\">\\n  <path d=\\\"M 485 4 L 508 4 L 508 11.855469 L 485 11.855469 Z M 485 4 \\\"\\/>\\n<\\/clipPath>\\n<clipPath id=\\\"clip-1562715734929674-8\\\">\\n  <path d=\\\"M 637 0 L 762 0 L 762 11.855469 L 637 11.855469 Z M 637 0 \\\"\\/>\\n<\\/clipPath>\\n<image style=\\\"image-rendering: pixelated;\\\" id=\\\"image-1562715734929674-11\\\" width=\\\"100\\\" height=\\\"100\\\" xlink:href=\\\"data:image\\/png;base64,iVBORw0KGgoAAAANSUhEUgAAAGQAAABkCAIAAAD\\/gAIDAAAABmJLR0QA\\/wD\\/AP+gvaeTAAAA6ElEQVR4nO3QwQ3AIBDAsNL9dz5WIC+EZE8QZc3Mx5n\\/dsBLzArMCswKzArMCswKzArMCswKzArMCswKzArMCswKzArMCswKzArMCswKzArMCswKzArMCswKzArMCswKzArMCswKzArMCswKzArMCswKzArMCswKzArMCswKzArMCswKzArMCswKzArMCswKzArMCswKzArMCswKzArMCswKzArMCswKzArMCswKzArMCswKzArMCswKzArMCswKzArMCswKzArMCswKzArMCswKzArMCswKzArMCswKzArMCswKzArMCjbP8QPFyqa8aAAAAABJRU5ErkJggg==\\\"\\/>\\n<image style=\\\"image-rendering: pixelated;\\\" id=\\\"image-1562715734929674-14\\\" width=\\\"100\\\" height=\\\"100\\\" xlink:href=\\\"data:image\\/png;base64,iVBORw0KGgoAAAANSUhEUgAAAGQAAABkCAIAAAD\\/gAIDAAAABmJLR0QA\\/wD\\/AP+gvaeTAAAA6ElEQVR4nO3QwQ3AIBDAsNL9dz5WIC+EZE8QZc3Mx5n\\/dsBLzArMCswKzArMCswKzArMCswKzArMCswKzArMCswKzArMCswKzArMCswKzArMCswKzArMCswKzArMCswKzArMCswKzArMCswKzArMCswKzArMCswKzArMCswKzArMCswKzArMCswKzArMCswKzArMCswKzArMCswKzArMCswKzArMCswKzArMCswKzArMCswKzArMCswKzArMCswKzArMCswKzArMCswKzArMCswKzArMCswKzArMCswKzArMCswKzArMCjbP8QPFyqa8aAAAAABJRU5ErkJggg==\\\"\\/>\\n<\\/defs>\\n<g id=\\\"surface1\\\">\\n<g clip-path=\\\"url(#clip-1562715734929674-1)\\\" clip-rule=\\\"nonzero\\\">\\n<use xlink:href=\\\"#image-1562715734929674-5\\\" transform=\\\"matrix(2.38667,0,0,0.11856,46.337,-0.000000000000064024)\\\"\\/>\\n<\\/g>\\n<g style=\\\"fill:rgb(0%,0%,0%);fill-opacity:1;\\\">\\n  <use xlink:href=\\\"#glyph-1562715734929674-0-1\\\" x=\\\"114.096\\\" y=\\\"10.849\\\"\\/>\\n  <use xlink:href=\\\"#glyph-1562715734929674-0-2\\\" x=\\\"121.56798\\\" y=\\\"10.849\\\"\\/>\\n  <use xlink:href=\\\"#glyph-1562715734929674-0-3\\\" x=\\\"126.5493\\\" y=\\\"10.849\\\"\\/>\\n  <use xlink:href=\\\"#glyph-1562715734929674-0-4\\\" x=\\\"130.451666\\\" y=\\\"10.849\\\"\\/>\\n  <use xlink:href=\\\"#glyph-1562715734929674-0-5\\\" x=\\\"133.219287\\\" y=\\\"10.849\\\"\\/>\\n  <use xlink:href=\\\"#glyph-1562715734929674-0-2\\\" x=\\\"137.646685\\\" y=\\\"10.849\\\"\\/>\\n  <use xlink:href=\\\"#glyph-1562715734929674-0-6\\\" x=\\\"142.628005\\\" y=\\\"10.849\\\"\\/>\\n<\\/g>\\n<g style=\\\"fill:rgb(0%,0%,0%);fill-opacity:1;\\\">\\n  <use xlink:href=\\\"#glyph-1562715734929674-0-7\\\" x=\\\"147.894256\\\" y=\\\"10.849\\\"\\/>\\n  <use xlink:href=\\\"#glyph-1562715734929674-0-8\\\" x=\\\"151.768727\\\" y=\\\"10.849\\\"\\/>\\n  <use xlink:href=\\\"#glyph-1562715734929674-0-9\\\" x=\\\"156.750047\\\" y=\\\"10.849\\\"\\/>\\n<\\/g>\\n<g clip-path=\\\"url(#clip-1562715734929674-2)\\\" clip-rule=\\\"nonzero\\\">\\n<g style=\\\"fill:rgb(0%,0%,0%);fill-opacity:1;\\\">\\n  <use xlink:href=\\\"#glyph-1562715734929674-0-10\\\" x=\\\"162.825265\\\" y=\\\"10.849\\\"\\/>\\n  <use xlink:href=\\\"#glyph-1562715734929674-0-8\\\" x=\\\"170.158764\\\" y=\\\"10.849\\\"\\/>\\n  <use xlink:href=\\\"#glyph-1562715734929674-0-6\\\" x=\\\"175.140084\\\" y=\\\"10.849\\\"\\/>\\n  <use xlink:href=\\\"#glyph-1562715734929674-0-11\\\" x=\\\"180.675327\\\" y=\\\"10.849\\\"\\/>\\n  <use xlink:href=\\\"#glyph-1562715734929674-0-12\\\" x=\\\"185.656647\\\" y=\\\"10.849\\\"\\/>\\n  <use xlink:href=\\\"#glyph-1562715734929674-0-13\\\" x=\\\"190.084044\\\" y=\\\"10.849\\\"\\/>\\n<\\/g>\\n<\\/g>\\n<g clip-path=\\\"url(#clip-1562715734929674-3)\\\" clip-rule=\\\"nonzero\\\">\\n<g style=\\\"fill:rgb(0%,0%,0%);fill-opacity:1;\\\">\\n  <use xlink:href=\\\"#glyph-1562715734929674-0-14\\\" x=\\\"197.275078\\\" y=\\\"10.849\\\"\\/>\\n  <use xlink:href=\\\"#glyph-1562715734929674-0-14\\\" x=\\\"202.256398\\\" y=\\\"10.849\\\"\\/>\\n  <use xlink:href=\\\"#glyph-1562715734929674-0-15\\\" x=\\\"207.237718\\\" y=\\\"10.849\\\"\\/>\\n  <use xlink:href=\\\"#glyph-1562715734929674-0-14\\\" x=\\\"212.219038\\\" y=\\\"10.849\\\"\\/>\\n<\\/g>\\n<\\/g>\\n<g clip-path=\\\"url(#clip-1562715734929674-4)\\\" clip-rule=\\\"nonzero\\\">\\n<use xlink:href=\\\"#image-1562715734929674-8\\\" transform=\\\"matrix(2.38667,0,0,0.11856,341.662,-0.000000000000064024)\\\"\\/>\\n<\\/g>\\n<g clip-path=\\\"url(#clip-1562715734929674-5)\\\" clip-rule=\\\"nonzero\\\">\\n<g style=\\\"fill:rgb(0%,0%,0%);fill-opacity:1;\\\">\\n  <use xlink:href=\\\"#glyph-1562715734929674-0-16\\\" x=\\\"413.848\\\" y=\\\"10.849\\\"\\/>\\n<\\/g>\\n<\\/g>\\n<g style=\\\"fill:rgb(0%,0%,0%);fill-opacity:1;\\\">\\n  <use xlink:href=\\\"#glyph-1562715734929674-0-12\\\" x=\\\"420.493081\\\" y=\\\"10.849\\\"\\/>\\n  <use xlink:href=\\\"#glyph-1562715734929674-0-3\\\" x=\\\"424.920478\\\" y=\\\"10.849\\\"\\/>\\n  <use xlink:href=\\\"#glyph-1562715734929674-0-7\\\" x=\\\"428.822844\\\" y=\\\"10.849\\\"\\/>\\n  <use xlink:href=\\\"#glyph-1562715734929674-0-4\\\" x=\\\"432.697315\\\" y=\\\"10.849\\\"\\/>\\n  <use xlink:href=\\\"#glyph-1562715734929674-0-17\\\" x=\\\"435.464936\\\" y=\\\"10.849\\\"\\/>\\n  <use xlink:href=\\\"#glyph-1562715734929674-0-8\\\" x=\\\"439.892333\\\" y=\\\"10.849\\\"\\/>\\n  <use xlink:href=\\\"#glyph-1562715734929674-0-9\\\" x=\\\"444.873653\\\" y=\\\"10.849\\\"\\/>\\n<\\/g>\\n<g clip-path=\\\"url(#clip-1562715734929674-6)\\\" clip-rule=\\\"nonzero\\\">\\n<g style=\\\"fill:rgb(0%,0%,0%);fill-opacity:1;\\\">\\n  <use xlink:href=\\\"#glyph-1562715734929674-0-10\\\" x=\\\"450.958834\\\" y=\\\"10.849\\\"\\/>\\n  <use xlink:href=\\\"#glyph-1562715734929674-0-8\\\" x=\\\"458.292333\\\" y=\\\"10.849\\\"\\/>\\n  <use xlink:href=\\\"#glyph-1562715734929674-0-6\\\" x=\\\"463.273653\\\" y=\\\"10.849\\\"\\/>\\n  <use xlink:href=\\\"#glyph-1562715734929674-0-11\\\" x=\\\"468.808896\\\" y=\\\"10.849\\\"\\/>\\n  <use xlink:href=\\\"#glyph-1562715734929674-0-12\\\" x=\\\"473.790216\\\" y=\\\"10.849\\\"\\/>\\n  <use xlink:href=\\\"#glyph-1562715734929674-0-13\\\" x=\\\"478.217613\\\" y=\\\"10.849\\\"\\/>\\n<\\/g>\\n<\\/g>\\n<g clip-path=\\\"url(#clip-1562715734929674-7)\\\" clip-rule=\\\"nonzero\\\">\\n<g style=\\\"fill:rgb(0%,0%,0%);fill-opacity:1;\\\">\\n  <use xlink:href=\\\"#glyph-1562715734929674-0-18\\\" x=\\\"485.408647\\\" y=\\\"10.849\\\"\\/>\\n  <use xlink:href=\\\"#glyph-1562715734929674-0-19\\\" x=\\\"490.389967\\\" y=\\\"10.849\\\"\\/>\\n  <use xlink:href=\\\"#glyph-1562715734929674-0-15\\\" x=\\\"495.371287\\\" y=\\\"10.849\\\"\\/>\\n  <use xlink:href=\\\"#glyph-1562715734929674-0-20\\\" x=\\\"500.352607\\\" y=\\\"10.849\\\"\\/>\\n  <use xlink:href=\\\"#glyph-1562715734929674-0-21\\\" x=\\\"503.120228\\\" y=\\\"10.849\\\"\\/>\\n<\\/g>\\n<\\/g>\\n<g clip-path=\\\"url(#clip-1562715734929674-8)\\\" clip-rule=\\\"nonzero\\\">\\n<use xlink:href=\\\"#image-1562715734929674-11\\\" transform=\\\"matrix(1.25253,0,0,0.11856,636.986,-0.000000000000064024)\\\"\\/>\\n<\\/g>\\n<path style=\\\"fill:none;stroke-width:0.19925;stroke-linecap:butt;stroke-linejoin:miter;stroke:rgb(50%,50%,50%);stroke-opacity:1;stroke-miterlimit:10;\\\" d=\\\"M -0.00034375 -79.896188 L -0.00034375 -75.642281 M 23.523094 -79.896188 L 23.523094 -75.642281 M 47.046531 -79.896188 L 47.046531 -75.642281 M 70.569969 -79.896188 L 70.569969 -75.642281 M 94.093406 -79.896188 L 94.093406 -75.642281 M 117.616844 -79.896188 L 117.616844 -75.642281 M 141.140281 -79.896188 L 141.140281 -75.642281 M 164.663719 -79.896188 L 164.663719 -75.642281 M 188.187156 -79.896188 L 188.187156 -75.642281 M 211.710594 -79.896188 L 211.710594 -75.642281 M -0.00034375 102.049125 L -0.00034375 97.795219 M 23.523094 102.049125 L 23.523094 97.795219 M 47.046531 102.049125 L 47.046531 97.795219 M 70.569969 102.049125 L 70.569969 97.795219 M 94.093406 102.049125 L 94.093406 97.795219 M 117.616844 102.049125 L 117.616844 97.795219 M 141.140281 102.049125 L 141.140281 97.795219 M 164.663719 102.049125 L 164.663719 97.795219 M 188.187156 102.049125 L 188.187156 97.795219 M 211.710594 102.049125 L 211.710594 97.795219 \\\" transform=\\\"matrix(1,0,0,-1,66.223,170.596)\\\"\\/>\\n<path style=\\\"fill:none;stroke-width:0.19925;stroke-linecap:butt;stroke-linejoin:miter;stroke:rgb(50%,50%,50%);stroke-opacity:1;stroke-miterlimit:10;\\\" d=\\\"M -19.887062 -76.029 L -15.633156 -76.029 M -19.887062 -52.505563 L -15.633156 -52.505563 M -19.887062 -28.982125 L -15.633156 -28.982125 M -19.887062 -5.458688 L -15.633156 -5.458688 M -19.887062 18.06475 L -15.633156 18.06475 M -19.887062 41.588187 L -15.633156 41.588187 M -19.887062 65.111625 L -15.633156 65.111625 M -19.887062 88.635062 L -15.633156 88.635062 M 218.749656 -76.029 L 214.49575 -76.029 M 218.749656 -52.505563 L 214.49575 -52.505563 M 218.749656 -28.982125 L 214.49575 -28.982125 M 218.749656 -5.458688 L 214.49575 -5.458688 M 218.749656 18.06475 L 214.49575 18.06475 M 218.749656 41.588187 L 214.49575 41.588187 M 218.749656 65.111625 L 214.49575 65.111625 M 218.749656 88.635062 L 214.49575 88.635062 \\\" transform=\\\"matrix(1,0,0,-1,66.223,170.596)\\\"\\/>\\n<path style=\\\"fill:none;stroke-width:0.3985;stroke-linecap:butt;stroke-linejoin:miter;stroke:rgb(0%,0%,0%);stroke-opacity:1;stroke-miterlimit:10;\\\" d=\\\"M -19.887062 -79.896188 L -19.887062 102.049125 L 218.749656 102.049125 L 218.749656 -79.896188 Z M -19.887062 -79.896188 \\\" transform=\\\"matrix(1,0,0,-1,66.223,170.596)\\\"\\/>\\n<g style=\\\"fill:rgb(0%,0%,0%);fill-opacity:1;\\\">\\n  <use xlink:href=\\\"#glyph-1562715734929674-0-22\\\" x=\\\"63.732\\\" y=\\\"260.43\\\"\\/>\\n<\\/g>\\n<g style=\\\"fill:rgb(0%,0%,0%);fill-opacity:1;\\\">\\n  <use xlink:href=\\\"#glyph-1562715734929674-0-21\\\" x=\\\"82.274\\\" y=\\\"260.43\\\"\\/>\\n  <use xlink:href=\\\"#glyph-1562715734929674-0-22\\\" x=\\\"87.25532\\\" y=\\\"260.43\\\"\\/>\\n  <use xlink:href=\\\"#glyph-1562715734929674-0-22\\\" x=\\\"92.23664\\\" y=\\\"260.43\\\"\\/>\\n<\\/g>\\n<g style=\\\"fill:rgb(0%,0%,0%);fill-opacity:1;\\\">\\n  <use xlink:href=\\\"#glyph-1562715734929674-0-18\\\" x=\\\"105.797\\\" y=\\\"260.43\\\"\\/>\\n  <use xlink:href=\\\"#glyph-1562715734929674-0-22\\\" x=\\\"110.77832\\\" y=\\\"260.43\\\"\\/>\\n  <use xlink:href=\\\"#glyph-1562715734929674-0-22\\\" x=\\\"115.75964\\\" y=\\\"260.43\\\"\\/>\\n<\\/g>\\n<g style=\\\"fill:rgb(0%,0%,0%);fill-opacity:1;\\\">\\n  <use xlink:href=\\\"#glyph-1562715734929674-0-15\\\" x=\\\"129.32\\\" y=\\\"260.43\\\"\\/>\\n  <use xlink:href=\\\"#glyph-1562715734929674-0-22\\\" x=\\\"134.30132\\\" y=\\\"260.43\\\"\\/>\\n  <use xlink:href=\\\"#glyph-1562715734929674-0-22\\\" x=\\\"139.28264\\\" y=\\\"260.43\\\"\\/>\\n<\\/g>\\n<g style=\\\"fill:rgb(0%,0%,0%);fill-opacity:1;\\\">\\n  <use xlink:href=\\\"#glyph-1562715734929674-0-23\\\" x=\\\"152.843\\\" y=\\\"260.43\\\"\\/>\\n  <use xlink:href=\\\"#glyph-1562715734929674-0-22\\\" x=\\\"157.82432\\\" y=\\\"260.43\\\"\\/>\\n  <use xlink:href=\\\"#glyph-1562715734929674-0-22\\\" x=\\\"162.80564\\\" y=\\\"260.43\\\"\\/>\\n<\\/g>\\n<g style=\\\"fill:rgb(0%,0%,0%);fill-opacity:1;\\\">\\n  <use xlink:href=\\\"#glyph-1562715734929674-0-19\\\" x=\\\"172.491\\\" y=\\\"260.43\\\"\\/>\\n<\\/g>\\n<g style=\\\"fill:rgb(0%,0%,0%);fill-opacity:1;\\\">\\n  <use xlink:href=\\\"#glyph-1562715734929674-1-1\\\" x=\\\"177.473\\\" y=\\\"260.43\\\"\\/>\\n<\\/g>\\n<g style=\\\"fill:rgb(0%,0%,0%);fill-opacity:1;\\\">\\n  <use xlink:href=\\\"#glyph-1562715734929674-0-22\\\" x=\\\"180.24\\\" y=\\\"260.43\\\"\\/>\\n  <use xlink:href=\\\"#glyph-1562715734929674-0-22\\\" x=\\\"185.22132\\\" y=\\\"260.43\\\"\\/>\\n  <use xlink:href=\\\"#glyph-1562715734929674-0-22\\\" x=\\\"190.20264\\\" y=\\\"260.43\\\"\\/>\\n<\\/g>\\n<g style=\\\"fill:rgb(0%,0%,0%);fill-opacity:1;\\\">\\n  <use xlink:href=\\\"#glyph-1562715734929674-0-19\\\" x=\\\"196.014\\\" y=\\\"260.43\\\"\\/>\\n<\\/g>\\n<g style=\\\"fill:rgb(0%,0%,0%);fill-opacity:1;\\\">\\n  <use xlink:href=\\\"#glyph-1562715734929674-1-1\\\" x=\\\"200.996\\\" y=\\\"260.43\\\"\\/>\\n<\\/g>\\n<g style=\\\"fill:rgb(0%,0%,0%);fill-opacity:1;\\\">\\n  <use xlink:href=\\\"#glyph-1562715734929674-0-21\\\" x=\\\"203.763\\\" y=\\\"260.43\\\"\\/>\\n  <use xlink:href=\\\"#glyph-1562715734929674-0-22\\\" x=\\\"208.74432\\\" y=\\\"260.43\\\"\\/>\\n  <use xlink:href=\\\"#glyph-1562715734929674-0-22\\\" x=\\\"213.72564\\\" y=\\\"260.43\\\"\\/>\\n<\\/g>\\n<g style=\\\"fill:rgb(0%,0%,0%);fill-opacity:1;\\\">\\n  <use xlink:href=\\\"#glyph-1562715734929674-0-19\\\" x=\\\"219.537\\\" y=\\\"260.43\\\"\\/>\\n<\\/g>\\n<g style=\\\"fill:rgb(0%,0%,0%);fill-opacity:1;\\\">\\n  <use xlink:href=\\\"#glyph-1562715734929674-1-1\\\" x=\\\"224.519\\\" y=\\\"260.43\\\"\\/>\\n<\\/g>\\n<g style=\\\"fill:rgb(0%,0%,0%);fill-opacity:1;\\\">\\n  <use xlink:href=\\\"#glyph-1562715734929674-0-18\\\" x=\\\"227.286\\\" y=\\\"260.43\\\"\\/>\\n  <use xlink:href=\\\"#glyph-1562715734929674-0-22\\\" x=\\\"232.26732\\\" y=\\\"260.43\\\"\\/>\\n  <use xlink:href=\\\"#glyph-1562715734929674-0-22\\\" x=\\\"237.24864\\\" y=\\\"260.43\\\"\\/>\\n<\\/g>\\n<g style=\\\"fill:rgb(0%,0%,0%);fill-opacity:1;\\\">\\n  <use xlink:href=\\\"#glyph-1562715734929674-0-19\\\" x=\\\"243.06\\\" y=\\\"260.43\\\"\\/>\\n<\\/g>\\n<g style=\\\"fill:rgb(0%,0%,0%);fill-opacity:1;\\\">\\n  <use xlink:href=\\\"#glyph-1562715734929674-1-1\\\" x=\\\"248.042\\\" y=\\\"260.43\\\"\\/>\\n<\\/g>\\n<g style=\\\"fill:rgb(0%,0%,0%);fill-opacity:1;\\\">\\n  <use xlink:href=\\\"#glyph-1562715734929674-0-15\\\" x=\\\"250.809\\\" y=\\\"260.43\\\"\\/>\\n  <use xlink:href=\\\"#glyph-1562715734929674-0-22\\\" x=\\\"255.79032\\\" y=\\\"260.43\\\"\\/>\\n  <use xlink:href=\\\"#glyph-1562715734929674-0-22\\\" x=\\\"260.77164\\\" y=\\\"260.43\\\"\\/>\\n<\\/g>\\n<g style=\\\"fill:rgb(0%,0%,0%);fill-opacity:1;\\\">\\n  <use xlink:href=\\\"#glyph-1562715734929674-0-19\\\" x=\\\"266.583\\\" y=\\\"260.43\\\"\\/>\\n<\\/g>\\n<g style=\\\"fill:rgb(0%,0%,0%);fill-opacity:1;\\\">\\n  <use xlink:href=\\\"#glyph-1562715734929674-1-1\\\" x=\\\"271.565\\\" y=\\\"260.43\\\"\\/>\\n<\\/g>\\n<g style=\\\"fill:rgb(0%,0%,0%);fill-opacity:1;\\\">\\n  <use xlink:href=\\\"#glyph-1562715734929674-0-23\\\" x=\\\"274.332\\\" y=\\\"260.43\\\"\\/>\\n  <use xlink:href=\\\"#glyph-1562715734929674-0-22\\\" x=\\\"279.31332\\\" y=\\\"260.43\\\"\\/>\\n  <use xlink:href=\\\"#glyph-1562715734929674-0-22\\\" x=\\\"284.29464\\\" y=\\\"260.43\\\"\\/>\\n<\\/g>\\n<g style=\\\"fill:rgb(0%,0%,0%);fill-opacity:1;\\\">\\n  <use xlink:href=\\\"#glyph-1562715734929674-2-1\\\" x=\\\"20.123\\\" y=\\\"249.419\\\"\\/>\\n<\\/g>\\n<g style=\\\"fill:rgb(0%,0%,0%);fill-opacity:1;\\\">\\n  <use xlink:href=\\\"#glyph-1562715734929674-0-23\\\" x=\\\"27.872\\\" y=\\\"249.419\\\"\\/>\\n  <use xlink:href=\\\"#glyph-1562715734929674-0-22\\\" x=\\\"32.85332\\\" y=\\\"249.419\\\"\\/>\\n  <use xlink:href=\\\"#glyph-1562715734929674-0-22\\\" x=\\\"37.83464\\\" y=\\\"249.419\\\"\\/>\\n<\\/g>\\n<g style=\\\"fill:rgb(0%,0%,0%);fill-opacity:1;\\\">\\n  <use xlink:href=\\\"#glyph-1562715734929674-2-1\\\" x=\\\"20.123\\\" y=\\\"225.896\\\"\\/>\\n<\\/g>\\n<g style=\\\"fill:rgb(0%,0%,0%);fill-opacity:1;\\\">\\n  <use xlink:href=\\\"#glyph-1562715734929674-0-15\\\" x=\\\"27.872\\\" y=\\\"225.896\\\"\\/>\\n  <use xlink:href=\\\"#glyph-1562715734929674-0-22\\\" x=\\\"32.85332\\\" y=\\\"225.896\\\"\\/>\\n  <use xlink:href=\\\"#glyph-1562715734929674-0-22\\\" x=\\\"37.83464\\\" y=\\\"225.896\\\"\\/>\\n<\\/g>\\n<g style=\\\"fill:rgb(0%,0%,0%);fill-opacity:1;\\\">\\n  <use xlink:href=\\\"#glyph-1562715734929674-2-1\\\" x=\\\"20.123\\\" y=\\\"202.373\\\"\\/>\\n<\\/g>\\n<g style=\\\"fill:rgb(0%,0%,0%);fill-opacity:1;\\\">\\n  <use xlink:href=\\\"#glyph-1562715734929674-0-18\\\" x=\\\"27.872\\\" y=\\\"202.373\\\"\\/>\\n  <use xlink:href=\\\"#glyph-1562715734929674-0-22\\\" x=\\\"32.85332\\\" y=\\\"202.373\\\"\\/>\\n  <use xlink:href=\\\"#glyph-1562715734929674-0-22\\\" x=\\\"37.83464\\\" y=\\\"202.373\\\"\\/>\\n<\\/g>\\n<g style=\\\"fill:rgb(0%,0%,0%);fill-opacity:1;\\\">\\n  <use xlink:href=\\\"#glyph-1562715734929674-2-1\\\" x=\\\"20.123\\\" y=\\\"178.85\\\"\\/>\\n<\\/g>\\n<g style=\\\"fill:rgb(0%,0%,0%);fill-opacity:1;\\\">\\n  <use xlink:href=\\\"#glyph-1562715734929674-0-21\\\" x=\\\"27.872\\\" y=\\\"178.85\\\"\\/>\\n  <use xlink:href=\\\"#glyph-1562715734929674-0-22\\\" x=\\\"32.85332\\\" y=\\\"178.85\\\"\\/>\\n  <use xlink:href=\\\"#glyph-1562715734929674-0-22\\\" x=\\\"37.83464\\\" y=\\\"178.85\\\"\\/>\\n<\\/g>\\n<g style=\\\"fill:rgb(0%,0%,0%);fill-opacity:1;\\\">\\n  <use xlink:href=\\\"#glyph-1562715734929674-0-22\\\" x=\\\"37.835\\\" y=\\\"155.742\\\"\\/>\\n<\\/g>\\n<g style=\\\"fill:rgb(0%,0%,0%);fill-opacity:1;\\\">\\n  <use xlink:href=\\\"#glyph-1562715734929674-0-21\\\" x=\\\"27.872\\\" y=\\\"132.219\\\"\\/>\\n  <use xlink:href=\\\"#glyph-1562715734929674-0-22\\\" x=\\\"32.85332\\\" y=\\\"132.219\\\"\\/>\\n  <use xlink:href=\\\"#glyph-1562715734929674-0-22\\\" x=\\\"37.83464\\\" y=\\\"132.219\\\"\\/>\\n<\\/g>\\n<g style=\\\"fill:rgb(0%,0%,0%);fill-opacity:1;\\\">\\n  <use xlink:href=\\\"#glyph-1562715734929674-0-18\\\" x=\\\"27.872\\\" y=\\\"108.696\\\"\\/>\\n  <use xlink:href=\\\"#glyph-1562715734929674-0-22\\\" x=\\\"32.85332\\\" y=\\\"108.696\\\"\\/>\\n  <use xlink:href=\\\"#glyph-1562715734929674-0-22\\\" x=\\\"37.83464\\\" y=\\\"108.696\\\"\\/>\\n<\\/g>\\n<g style=\\\"fill:rgb(0%,0%,0%);fill-opacity:1;\\\">\\n  <use xlink:href=\\\"#glyph-1562715734929674-0-15\\\" x=\\\"27.872\\\" y=\\\"85.173\\\"\\/>\\n  <use xlink:href=\\\"#glyph-1562715734929674-0-22\\\" x=\\\"32.85332\\\" y=\\\"85.173\\\"\\/>\\n  <use xlink:href=\\\"#glyph-1562715734929674-0-22\\\" x=\\\"37.83464\\\" y=\\\"85.173\\\"\\/>\\n<\\/g>\\n<path style=\\\"fill:none;stroke-width:0.3985;stroke-linecap:butt;stroke-linejoin:miter;stroke:rgb(0%,0%,0%);stroke-opacity:1;stroke-miterlimit:10;\\\" d=\\\"M -0.00034375 18.06475 L 0.362938 18.06475 \\\" transform=\\\"matrix(1,0,0,-1,66.223,170.596)\\\"\\/>\\n<path style=\\\"fill:none;stroke-width:0.3985;stroke-linecap:butt;stroke-linejoin:miter;stroke:rgb(0%,0%,0%);stroke-opacity:1;stroke-miterlimit:10;\\\" d=\\\"M 198.862937 2.209281 L 198.851219 2.18975 L 198.831687 2.1585 L 198.800437 2.111625 L 198.761375 2.06475 L 198.718406 2.010062 L 198.671531 1.951469 L 198.632469 1.896781 L 198.636375 1.857719 L 198.652 1.846 L 198.648094 1.846 L 198.644187 1.849906 L 198.628562 1.849906 L 198.601219 1.857719 L 198.569969 1.869437 L 198.527 1.885062 L 198.480125 1.900687 L 198.425437 1.916312 L 198.366844 1.931937 L 198.30825 1.951469 L 198.24575 1.967094 L 198.163719 1.986625 L 198.042625 2.017875 L 197.859031 2.056937 L 197.601219 2.103812 L 197.237937 2.166312 L 196.737937 2.244437 L 196.101219 2.338187 L 195.390281 2.435844 L 194.659812 2.5335 L 193.925437 2.62725 L 193.18325 2.721 L 192.425437 2.81475 L 191.659812 2.9085 L 190.882469 3.006156 L 190.093406 3.099906 L 189.300437 3.197562 L 188.503562 3.291312 L 187.702781 3.388969 L 186.894187 3.486625 L 186.077781 3.584281 L 185.24575 3.681937 L 184.374656 3.787406 L 183.441062 3.896781 L 182.444969 4.017875 L 181.398094 4.142875 L 180.284812 4.271781 L 179.128562 4.412406 L 177.925437 4.553031 L 176.652 4.728812 L 175.277 4.990531 L 173.835594 5.334281 L 172.366844 5.697562 L 170.886375 6.060844 L 169.394187 6.416312 L 167.898094 6.763969 L 166.398094 7.111625 L 164.890281 7.451469 L 163.378562 7.791312 L 161.859031 8.123344 L 160.327781 8.459281 L 158.792625 8.791312 L 157.249656 9.123344 L 155.702781 9.451469 L 154.144187 9.779594 L 152.581687 10.107719 L 151.007469 10.435844 L 149.425437 10.763969 L 147.831687 11.092094 L 146.241844 11.420219 L 144.655906 11.744437 L 143.081687 12.06475 L 141.511375 12.381156 L 139.944969 12.697562 L 138.386375 13.013969 L 136.8395 13.326469 L 135.30825 13.631156 L 133.784812 13.935844 L 132.277 14.236625 L 130.777 14.537406 L 129.288719 14.834281 L 127.80825 15.12725 L 126.3395 15.416312 L 124.878563 15.709281 L 123.425438 15.994437 L 121.980125 16.279594 L 120.542625 16.56475 L 119.112938 16.846 L 117.687156 17.123344 L 116.269188 17.404594 L 114.87075 17.678031 L 113.530906 17.93975 L 112.273094 18.18975 L 111.093406 18.420219 L 109.972313 18.638969 L 108.882469 18.849906 L 107.773094 19.068656 L 106.597313 19.299125 L 105.343406 19.541312 L 104.050438 19.795219 L 102.737938 20.049125 L 101.421531 20.306937 \\\" transform=\\\"matrix(1,0,0,-1,66.223,170.596)\\\"\\/>\\n<path style=\\\"fill-rule:nonzero;fill:rgb(0%,0%,0%);fill-opacity:1;stroke-width:0.3985;stroke-linecap:butt;stroke-linejoin:miter;stroke:rgb(100%,100%,100%);stroke-opacity:1;stroke-miterlimit:10;\\\" d=\\\"M 2.87075 12.885062 L 2.667625 12.963187 L 2.640281 13.088187 L 2.640281 13.728812 L 2.437156 13.779594 L 2.179344 13.818656 L 1.976219 13.869437 L 0.956688 13.869437 L 0.726219 13.920219 L 0.675438 14.045219 L 0.726219 14.174125 L 0.956688 14.236625 L 1.976219 14.236625 L 2.077781 14.326469 L 2.077781 16.111625 L 1.952781 16.18975 L 0.929344 16.18975 L 0.726219 16.25225 L 0.675438 16.381156 L 0.472313 16.420219 L -0.805031 16.420219 L -1.312844 16.443656 L -1.543312 16.431937 L -1.570656 16.303031 L -1.824562 16.25225 L -1.976906 16.18975 L -1.976906 15.170219 L -1.773781 15.131156 L -1.543312 15.053031 L -1.570656 14.928031 L -1.824562 14.87725 L -1.976906 14.810844 L -1.976906 14.685844 L -2.12925 14.635062 L -2.387062 14.670219 L -2.640969 14.697562 L -2.742531 14.619437 L -2.742531 14.365531 L -2.945656 14.275687 L -3.176125 14.31475 L -3.25425 14.443656 L -3.25425 14.697562 L -3.37925 14.787406 L -3.637062 14.826469 L -3.890969 14.849906 L -4.144875 14.87725 L -4.398781 14.912406 L -4.453469 15.041312 L -4.246437 15.131156 L -4.043312 15.170219 L -4.043312 16.18975 L -4.195656 16.25225 L -4.426125 16.318656 L -4.426125 16.443656 L -4.195656 16.510062 L -4.043312 16.572562 L -4.043312 16.701469 L -4.144875 16.803031 L -4.398781 16.865531 L -4.656594 16.928031 L -5.164406 17.084281 L -5.422219 17.185844 L -5.676125 17.299125 L -5.906594 17.428031 L -6.086281 17.553031 L -6.211281 17.681937 L -6.289406 17.810844 L -6.340187 17.935844 L -6.340187 18.193656 L -6.262062 18.318656 L -6.137062 18.447562 L -6.008156 18.576469 L -5.805031 18.701469 L -5.547219 18.830375 L -5.293312 18.931937 L -5.039406 19.021781 L -4.781594 19.096 L -4.527687 19.174125 L -4.273781 19.236625 L -4.043312 19.303031 L -4.043312 19.685844 L -4.297219 19.709281 L -4.453469 19.810844 L -4.348 19.928031 L -4.094094 19.951469 L -4.043312 20.068656 L -4.043312 20.959281 L -4.094094 21.076469 L -4.348 21.099906 L -4.453469 21.217094 L -4.297219 21.318656 L -4.043312 21.330375 L -3.531594 21.330375 L -3.277687 21.369437 L -3.25425 21.494437 L -3.25425 21.75225 L -3.203469 21.87725 L -2.973 21.943656 L -2.769875 21.853812 L -2.742531 21.724906 L -2.742531 21.471 L -2.539406 21.459281 L -2.281594 21.482719 L -2.027687 21.510062 L -1.976906 21.404594 L -1.848 21.330375 L -1.594094 21.291312 L -1.543312 21.162406 L -1.746437 21.088187 L -1.976906 21.049125 L -1.976906 20.029594 L -1.848 19.951469 L -1.594094 19.912406 L -1.543312 19.787406 L -1.746437 19.709281 L -1.976906 19.670219 L -1.898781 19.584281 L -1.390969 19.607719 L -1.137062 19.635062 L -0.87925 19.635062 L -0.625344 19.646781 L 0.652 19.646781 L 0.675438 19.748344 L 0.702781 19.87725 L 0.878563 19.967094 L 1.136375 19.978812 L 1.902 19.978812 L 2.077781 20.029594 L 2.077781 21.81475 L 2.027 21.928031 L 1.007469 21.928031 L 0.753563 21.955375 L 0.675438 22.084281 L 0.726219 22.209281 L 0.956688 22.275687 L 2.234031 22.275687 L 2.487938 22.287406 L 2.640281 22.361625 L 2.640281 23.12725 L 2.792625 23.228812 L 3.050438 23.228812 L 3.175438 23.103812 L 3.175438 22.467094 L 3.277 22.388969 L 3.534813 22.412406 L 3.788719 22.451469 L 4.042625 22.478812 L 4.144188 22.400687 L 4.171531 22.275687 L 4.679344 22.275687 L 4.937156 22.260062 L 5.116844 22.1585 L 5.116844 22.029594 L 4.937156 21.928031 L 4.171531 21.928031 L 4.144188 21.803031 L 4.144188 20.017875 L 4.351219 19.978812 L 4.859031 19.978812 L 5.0895 19.900687 L 5.140281 19.775687 L 5.062156 19.646781 L 4.80825 19.607719 L 4.300438 19.607719 L 4.144188 19.545219 L 4.144188 19.287406 L 4.351219 19.213187 L 4.605125 19.150687 L 4.859031 19.084281 L 5.116844 18.994437 L 5.37075 18.904594 L 5.624656 18.791312 L 5.855125 18.662406 L 6.05825 18.537406 L 6.187156 18.4085 L 6.288719 18.279594 L 6.3395 18.154594 L 6.3395 17.900687 L 6.261375 17.771781 L 6.159813 17.642875 L 6.034813 17.517875 L 5.827781 17.388969 L 5.601219 17.260062 L 5.343406 17.146781 L 5.0895 17.056937 L 4.835594 16.978812 L 4.577781 16.904594 L 4.323875 16.838187 L 4.144188 16.763969 L 4.144188 16.635062 L 4.273094 16.560844 L 4.784813 16.560844 L 5.038719 16.521781 L 5.140281 16.392875 L 5.0895 16.267875 L 4.886375 16.18975 L 4.374656 16.18975 L 4.144188 16.162406 L 4.144188 14.25225 L 4.402 14.236625 L 4.909813 14.236625 L 5.116844 14.135062 L 5.116844 14.010062 L 5.011375 13.892875 L 4.757469 13.869437 L 4.24575 13.869437 L 4.144188 13.779594 L 4.144188 13.650687 L 4.019188 13.588187 L 3.761375 13.611625 L 3.507469 13.650687 L 3.253563 13.678031 L 3.175438 13.588187 L 3.175438 13.076469 L 3.124656 12.951469 L 2.894188 12.885062 Z M 2.87075 12.885062 \\\" transform=\\\"matrix(1,0,0,-1,66.223,170.596)\\\"\\/>\\n<path style=\\\"fill-rule:nonzero;fill:rgb(0%,0%,0%);fill-opacity:1;stroke-width:0.3985;stroke-linecap:butt;stroke-linejoin:miter;stroke:rgb(0%,0%,0%);stroke-opacity:1;stroke-miterlimit:10;\\\" d=\\\"M 198.62075 1.760062 C 198.87075 1.62725 199.179344 1.721 199.312156 1.971 C 199.444969 2.217094 199.351219 2.525687 199.101219 2.6585 C 198.855125 2.791312 198.542625 2.697562 198.413719 2.447562 C 198.280906 2.201469 198.374656 1.892875 198.62075 1.760062 Z M 198.827781 -1.384469 C 199.573875 -1.782906 200.499656 -1.49775 200.898094 -0.751656 C 201.292625 -0.0055625 201.011375 0.920219 200.265281 1.318656 C 199.519187 1.713187 198.593406 1.431937 198.194969 0.685844 C 197.796531 -0.06025 198.081687 -0.986031 198.827781 -1.384469 Z M 197.460594 3.099906 C 198.206687 2.705375 199.132469 2.986625 199.530906 3.732719 C 199.925437 4.478812 199.644187 5.404594 198.898094 5.803031 C 198.152 6.201469 197.226219 5.916312 196.827781 5.170219 C 196.429344 4.424125 196.7145 3.498344 197.460594 3.099906 Z M 195.898094 0.174125 C 196.644187 -0.224313 197.573875 0.0608437 197.968406 0.806937 C 198.366844 1.553031 198.085594 2.478812 197.3395 2.87725 C 196.593406 3.275687 195.667625 2.990531 195.269187 2.244437 C 194.87075 1.498344 195.152 0.572562 195.898094 0.174125 Z M 200.386375 1.541312 C 201.132469 1.142875 202.05825 1.428031 202.456687 2.174125 C 202.855125 2.920219 202.569969 3.846 201.823875 4.244437 C 201.077781 4.642875 200.152 4.357719 199.753562 3.611625 C 199.355125 2.865531 199.640281 1.93975 200.386375 1.541312 Z M 198.917625 -1.2165 C 199.569969 -1.564156 200.378562 -1.318063 200.726219 -0.661813 C 201.073875 -0.00946875 200.827781 0.799125 200.175437 1.146781 C 199.523094 1.494437 198.710594 1.248344 198.362937 0.596 C 198.015281 -0.0563438 198.265281 -0.868844 198.917625 -1.2165 Z M 197.550437 3.271781 C 198.202781 2.924125 199.011375 3.170219 199.359031 3.822562 C 199.706687 4.474906 199.460594 5.287406 198.80825 5.635062 C 198.155906 5.982719 197.343406 5.736625 196.99575 5.080375 C 196.648094 4.428031 196.894187 3.619437 197.550437 3.271781 Z M 195.987937 0.342094 C 196.644187 -0.0055625 197.452781 0.244437 197.800437 0.896781 C 198.148094 1.549125 197.902 2.361625 197.249656 2.709281 C 196.597312 3.056937 195.784812 2.806937 195.437156 2.154594 C 195.0895 1.50225 195.335594 0.68975 195.987937 0.342094 Z M 200.476219 1.709281 C 201.128562 1.361625 201.941062 1.611625 202.288719 2.263969 C 202.636375 2.916312 202.386375 3.728812 201.734031 4.076469 C 201.081687 4.424125 200.269187 4.174125 199.921531 3.521781 C 199.573875 2.869437 199.823875 2.060844 200.476219 1.709281 Z M 198.796531 -1.439156 C 199.573875 -1.853219 200.538719 -1.56025 200.952781 -0.782906 C 201.366844 -0.0055625 201.073875 0.959281 200.296531 1.373344 C 199.519187 1.787406 198.554344 1.494437 198.140281 0.717094 C 197.726219 -0.06025 198.019187 -1.025094 198.796531 -1.439156 Z M 197.429344 3.045219 C 198.206687 2.631156 199.171531 2.924125 199.585594 3.701469 C 199.999656 4.478812 199.706687 5.443656 198.929344 5.857719 C 198.152 6.271781 197.187156 5.978812 196.773094 5.201469 C 196.359031 4.424125 196.652 3.459281 197.429344 3.045219 Z M 195.87075 0.119437 C 196.648094 -0.294625 197.612937 -0.00165625 198.027 0.775687 C 198.441062 1.553031 198.144187 2.517875 197.37075 2.931937 C 196.593406 3.346 195.624656 3.053031 195.210594 2.275687 C 194.796531 1.498344 195.093406 0.5335 195.87075 0.119437 Z M 200.355125 1.486625 C 201.132469 1.072562 202.097312 1.365531 202.511375 2.142875 C 202.925437 2.920219 202.632469 3.885062 201.855125 4.299125 C 201.077781 4.713187 200.112937 4.420219 199.698875 3.642875 C 199.284812 2.865531 199.577781 1.900687 200.355125 1.486625 Z M 199.472312 -0.173531 C 199.550437 -0.2165 199.644187 -0.18525 199.687156 -0.107125 C 199.726219 -0.029 199.698875 0.06475 199.62075 0.107719 C 199.542625 0.146781 199.444969 0.119437 199.405906 0.0413125 C 199.362937 -0.0368125 199.394187 -0.134469 199.472312 -0.173531 Z M 198.105125 4.310844 C 198.18325 4.271781 198.277 4.299125 198.319969 4.37725 C 198.359031 4.455375 198.331687 4.553031 198.253562 4.592094 C 198.175437 4.635062 198.077781 4.603812 198.038719 4.525687 C 197.99575 4.451469 198.027 4.353812 198.105125 4.310844 Z M 196.542625 1.385062 C 196.62075 1.342094 196.718406 1.373344 196.761375 1.451469 C 196.800437 1.529594 196.773094 1.623344 196.694969 1.666312 C 196.616844 1.709281 196.519187 1.678031 196.480125 1.599906 C 196.437156 1.521781 196.468406 1.428031 196.542625 1.385062 Z M 201.030906 2.75225 C 201.109031 2.709281 201.202781 2.740531 201.24575 2.818656 C 201.288719 2.896781 201.257469 2.990531 201.179344 3.0335 C 201.101219 3.076469 201.007469 3.045219 200.9645 2.967094 C 200.921531 2.888969 200.952781 2.795219 201.030906 2.75225 Z M 198.890281 2.263969 L 199.577781 0.0217812 L 199.515281 -0.0915 L 198.831687 2.154594 Z M 198.831687 2.154594 L 201.073875 2.838187 L 201.136375 2.947562 L 198.890281 2.263969 Z M 198.890281 2.263969 L 196.648094 1.580375 L 196.5895 1.471 L 198.831687 2.154594 Z M 198.831687 2.154594 L 198.148094 4.396781 L 198.206687 4.510062 L 198.890281 2.263969 Z M 198.831687 2.154594 \\\" transform=\\\"matrix(1,0,0,-1,66.223,170.596)\\\"\\/>\\n<path style=\\\"fill-rule:nonzero;fill:rgb(100%,79.998779%,59.999084%);fill-opacity:1;stroke-width:0.3985;stroke-linecap:butt;stroke-linejoin:miter;stroke:rgb(100%,79.998779%,59.999084%);stroke-opacity:1;stroke-miterlimit:10;\\\" d=\\\"M 0.99575 18.06475 C 0.99575 18.615531 0.550438 19.060844 -0.00034375 19.060844 C -0.551125 19.060844 -0.996437 18.615531 -0.996437 18.06475 C -0.996437 17.513969 -0.551125 17.068656 -0.00034375 17.068656 C 0.550438 17.068656 0.99575 17.513969 0.99575 18.06475 Z M 0.99575 18.06475 \\\" transform=\\\"matrix(1,0,0,-1,66.223,170.596)\\\"\\/>\\n<path style=\\\"fill-rule:nonzero;fill:rgb(100%,79.998779%,59.999084%);fill-opacity:1;stroke-width:0.3985;stroke-linecap:butt;stroke-linejoin:miter;stroke:rgb(100%,79.998779%,59.999084%);stroke-opacity:1;stroke-miterlimit:10;\\\" d=\\\"M 0.99575 18.06475 C 0.99575 18.615531 0.550438 19.060844 -0.00034375 19.060844 C -0.551125 19.060844 -0.996437 18.615531 -0.996437 18.06475 C -0.996437 17.513969 -0.551125 17.068656 -0.00034375 17.068656 C 0.550438 17.068656 0.99575 17.513969 0.99575 18.06475 Z M 0.99575 18.06475 \\\" transform=\\\"matrix(1,0,0,-1,66.223,170.596)\\\"\\/>\\n<path style=\\\"fill-rule:nonzero;fill:rgb(100%,79.998779%,59.999084%);fill-opacity:1;stroke-width:0.3985;stroke-linecap:butt;stroke-linejoin:miter;stroke:rgb(100%,79.998779%,59.999084%);stroke-opacity:1;stroke-miterlimit:10;\\\" d=\\\"M 0.99575 18.06475 C 0.99575 18.615531 0.550438 19.060844 -0.00034375 19.060844 C -0.551125 19.060844 -0.996437 18.615531 -0.996437 18.06475 C -0.996437 17.513969 -0.551125 17.068656 -0.00034375 17.068656 C 0.550438 17.068656 0.99575 17.513969 0.99575 18.06475 Z M 0.99575 18.06475 \\\" transform=\\\"matrix(1,0,0,-1,66.223,170.596)\\\"\\/>\\n<path style=\\\"fill-rule:nonzero;fill:rgb(100%,50.195312%,0%);fill-opacity:1;stroke-width:0.3985;stroke-linecap:butt;stroke-linejoin:miter;stroke:rgb(100%,50.195312%,0%);stroke-opacity:1;stroke-miterlimit:10;\\\" d=\\\"M 0.99575 18.06475 C 0.99575 18.615531 0.550438 19.060844 -0.00034375 19.060844 C -0.551125 19.060844 -0.996437 18.615531 -0.996437 18.06475 C -0.996437 17.513969 -0.551125 17.068656 -0.00034375 17.068656 C 0.550438 17.068656 0.99575 17.513969 0.99575 18.06475 Z M 0.99575 18.06475 \\\" transform=\\\"matrix(1,0,0,-1,66.223,170.596)\\\"\\/>\\n<path style=\\\"fill-rule:nonzero;fill:rgb(100%,50.195312%,0%);fill-opacity:1;stroke-width:0.3985;stroke-linecap:butt;stroke-linejoin:miter;stroke:rgb(100%,50.195312%,0%);stroke-opacity:1;stroke-miterlimit:10;\\\" d=\\\"M 0.99575 18.06475 C 0.99575 18.615531 0.550438 19.060844 -0.00034375 19.060844 C -0.551125 19.060844 -0.996437 18.615531 -0.996437 18.06475 C -0.996437 17.513969 -0.551125 17.068656 -0.00034375 17.068656 C 0.550438 17.068656 0.99575 17.513969 0.99575 18.06475 Z M 0.99575 18.06475 \\\" transform=\\\"matrix(1,0,0,-1,66.223,170.596)\\\"\\/>\\n<path style=\\\"fill-rule:nonzero;fill:rgb(100%,50.195312%,0%);fill-opacity:1;stroke-width:0.3985;stroke-linecap:butt;stroke-linejoin:miter;stroke:rgb(100%,50.195312%,0%);stroke-opacity:1;stroke-miterlimit:10;\\\" d=\\\"M 0.99575 18.06475 C 0.99575 18.615531 0.550438 19.060844 -0.00034375 19.060844 C -0.551125 19.060844 -0.996437 18.615531 -0.996437 18.06475 C -0.996437 17.513969 -0.551125 17.068656 -0.00034375 17.068656 C 0.550438 17.068656 0.99575 17.513969 0.99575 18.06475 Z M 0.99575 18.06475 \\\" transform=\\\"matrix(1,0,0,-1,66.223,170.596)\\\"\\/>\\n<path style=\\\"fill-rule:nonzero;fill:rgb(100%,50.195312%,0%);fill-opacity:1;stroke-width:0.3985;stroke-linecap:butt;stroke-linejoin:miter;stroke:rgb(100%,50.195312%,0%);stroke-opacity:1;stroke-miterlimit:10;\\\" d=\\\"M 0.99575 18.06475 C 0.99575 18.615531 0.550438 19.060844 -0.00034375 19.060844 C -0.551125 19.060844 -0.996437 18.615531 -0.996437 18.06475 C -0.996437 17.513969 -0.551125 17.068656 -0.00034375 17.068656 C 0.550438 17.068656 0.99575 17.513969 0.99575 18.06475 Z M 0.99575 18.06475 \\\" transform=\\\"matrix(1,0,0,-1,66.223,170.596)\\\"\\/>\\n<path style=\\\"fill-rule:nonzero;fill:rgb(100%,50.195312%,0%);fill-opacity:1;stroke-width:0.3985;stroke-linecap:butt;stroke-linejoin:miter;stroke:rgb(100%,50.195312%,0%);stroke-opacity:1;stroke-miterlimit:10;\\\" d=\\\"M 0.99575 18.06475 C 0.99575 18.615531 0.550438 19.060844 -0.00034375 19.060844 C -0.551125 19.060844 -0.996437 18.615531 -0.996437 18.06475 C -0.996437 17.513969 -0.551125 17.068656 -0.00034375 17.068656 C 0.550438 17.068656 0.99575 17.513969 0.99575 18.06475 Z M 0.99575 18.06475 \\\" transform=\\\"matrix(1,0,0,-1,66.223,170.596)\\\"\\/>\\n<path style=\\\"fill-rule:nonzero;fill:rgb(100%,50.195312%,0%);fill-opacity:1;stroke-width:0.3985;stroke-linecap:butt;stroke-linejoin:miter;stroke:rgb(100%,50.195312%,0%);stroke-opacity:1;stroke-miterlimit:10;\\\" d=\\\"M 0.99575 18.06475 C 0.99575 18.615531 0.550438 19.060844 -0.00034375 19.060844 C -0.551125 19.060844 -0.996437 18.615531 -0.996437 18.06475 C -0.996437 17.513969 -0.551125 17.068656 -0.00034375 17.068656 C 0.550438 17.068656 0.99575 17.513969 0.99575 18.06475 Z M 0.99575 18.06475 \\\" transform=\\\"matrix(1,0,0,-1,66.223,170.596)\\\"\\/>\\n<path style=\\\"fill-rule:nonzero;fill:rgb(100%,50.195312%,0%);fill-opacity:1;stroke-width:0.3985;stroke-linecap:butt;stroke-linejoin:miter;stroke:rgb(100%,50.195312%,0%);stroke-opacity:1;stroke-miterlimit:10;\\\" d=\\\"M 0.99575 18.06475 C 0.99575 18.615531 0.550438 19.060844 -0.00034375 19.060844 C -0.551125 19.060844 -0.996437 18.615531 -0.996437 18.06475 C -0.996437 17.513969 -0.551125 17.068656 -0.00034375 17.068656 C 0.550438 17.068656 0.99575 17.513969 0.99575 18.06475 Z M 0.99575 18.06475 \\\" transform=\\\"matrix(1,0,0,-1,66.223,170.596)\\\"\\/>\\n<path style=\\\"fill-rule:nonzero;fill:rgb(100%,50.195312%,0%);fill-opacity:1;stroke-width:0.3985;stroke-linecap:butt;stroke-linejoin:miter;stroke:rgb(100%,50.195312%,0%);stroke-opacity:1;stroke-miterlimit:10;\\\" d=\\\"M 0.99575 18.06475 C 0.99575 18.615531 0.550438 19.060844 -0.00034375 19.060844 C -0.551125 19.060844 -0.996437 18.615531 -0.996437 18.06475 C -0.996437 17.513969 -0.551125 17.068656 -0.00034375 17.068656 C 0.550438 17.068656 0.99575 17.513969 0.99575 18.06475 Z M 0.99575 18.06475 \\\" transform=\\\"matrix(1,0,0,-1,66.223,170.596)\\\"\\/>\\n<path style=\\\"fill-rule:nonzero;fill:rgb(100%,50.195312%,0%);fill-opacity:1;stroke-width:0.3985;stroke-linecap:butt;stroke-linejoin:miter;stroke:rgb(100%,50.195312%,0%);stroke-opacity:1;stroke-miterlimit:10;\\\" d=\\\"M 0.99575 18.06475 C 0.99575 18.615531 0.550438 19.060844 -0.00034375 19.060844 C -0.551125 19.060844 -0.996437 18.615531 -0.996437 18.06475 C -0.996437 17.513969 -0.551125 17.068656 -0.00034375 17.068656 C 0.550438 17.068656 0.99575 17.513969 0.99575 18.06475 Z M 0.99575 18.06475 \\\" transform=\\\"matrix(1,0,0,-1,66.223,170.596)\\\"\\/>\\n<path style=\\\"fill-rule:nonzero;fill:rgb(100%,50.195312%,0%);fill-opacity:1;stroke-width:0.3985;stroke-linecap:butt;stroke-linejoin:miter;stroke:rgb(100%,50.195312%,0%);stroke-opacity:1;stroke-miterlimit:10;\\\" d=\\\"M 0.99575 18.06475 C 0.99575 18.615531 0.550438 19.060844 -0.00034375 19.060844 C -0.551125 19.060844 -0.996437 18.615531 -0.996437 18.06475 C -0.996437 17.513969 -0.551125 17.068656 -0.00034375 17.068656 C 0.550438 17.068656 0.99575 17.513969 0.99575 18.06475 Z M 0.99575 18.06475 \\\" transform=\\\"matrix(1,0,0,-1,66.223,170.596)\\\"\\/>\\n<path style=\\\"fill-rule:nonzero;fill:rgb(100%,50.195312%,0%);fill-opacity:1;stroke-width:0.3985;stroke-linecap:butt;stroke-linejoin:miter;stroke:rgb(100%,50.195312%,0%);stroke-opacity:1;stroke-miterlimit:10;\\\" d=\\\"M 0.99575 18.06475 C 0.99575 18.615531 0.550438 19.060844 -0.00034375 19.060844 C -0.551125 19.060844 -0.996437 18.615531 -0.996437 18.06475 C -0.996437 17.513969 -0.551125 17.068656 -0.00034375 17.068656 C 0.550438 17.068656 0.99575 17.513969 0.99575 18.06475 Z M 0.99575 18.06475 \\\" transform=\\\"matrix(1,0,0,-1,66.223,170.596)\\\"\\/>\\n<path style=\\\"fill-rule:nonzero;fill:rgb(100%,50.195312%,0%);fill-opacity:1;stroke-width:0.3985;stroke-linecap:butt;stroke-linejoin:miter;stroke:rgb(100%,50.195312%,0%);stroke-opacity:1;stroke-miterlimit:10;\\\" d=\\\"M 0.99575 18.06475 C 0.99575 18.615531 0.550438 19.060844 -0.00034375 19.060844 C -0.551125 19.060844 -0.996437 18.615531 -0.996437 18.06475 C -0.996437 17.513969 -0.551125 17.068656 -0.00034375 17.068656 C 0.550438 17.068656 0.99575 17.513969 0.99575 18.06475 Z M 0.99575 18.06475 \\\" transform=\\\"matrix(1,0,0,-1,66.223,170.596)\\\"\\/>\\n<path style=\\\"fill-rule:nonzero;fill:rgb(100%,50.195312%,0%);fill-opacity:1;stroke-width:0.3985;stroke-linecap:butt;stroke-linejoin:miter;stroke:rgb(100%,50.195312%,0%);stroke-opacity:1;stroke-miterlimit:10;\\\" d=\\\"M 0.99575 18.06475 C 0.99575 18.615531 0.550438 19.060844 -0.00034375 19.060844 C -0.551125 19.060844 -0.996437 18.615531 -0.996437 18.06475 C -0.996437 17.513969 -0.551125 17.068656 -0.00034375 17.068656 C 0.550438 17.068656 0.99575 17.513969 0.99575 18.06475 Z M 0.99575 18.06475 \\\" transform=\\\"matrix(1,0,0,-1,66.223,170.596)\\\"\\/>\\n<path style=\\\"fill-rule:nonzero;fill:rgb(100%,50.195312%,0%);fill-opacity:1;stroke-width:0.3985;stroke-linecap:butt;stroke-linejoin:miter;stroke:rgb(100%,50.195312%,0%);stroke-opacity:1;stroke-miterlimit:10;\\\" d=\\\"M 0.99575 18.06475 C 0.99575 18.615531 0.550438 19.060844 -0.00034375 19.060844 C -0.551125 19.060844 -0.996437 18.615531 -0.996437 18.06475 C -0.996437 17.513969 -0.551125 17.068656 -0.00034375 17.068656 C 0.550438 17.068656 0.99575 17.513969 0.99575 18.06475 Z M 0.99575 18.06475 \\\" transform=\\\"matrix(1,0,0,-1,66.223,170.596)\\\"\\/>\\n<path style=\\\"fill-rule:nonzero;fill:rgb(100%,50.195312%,0%);fill-opacity:1;stroke-width:0.3985;stroke-linecap:butt;stroke-linejoin:miter;stroke:rgb(100%,50.195312%,0%);stroke-opacity:1;stroke-miterlimit:10;\\\" d=\\\"M 0.99575 18.06475 C 0.99575 18.615531 0.550438 19.060844 -0.00034375 19.060844 C -0.551125 19.060844 -0.996437 18.615531 -0.996437 18.06475 C -0.996437 17.513969 -0.551125 17.068656 -0.00034375 17.068656 C 0.550438 17.068656 0.99575 17.513969 0.99575 18.06475 Z M 0.99575 18.06475 \\\" transform=\\\"matrix(1,0,0,-1,66.223,170.596)\\\"\\/>\\n<path style=\\\"fill-rule:nonzero;fill:rgb(100%,79.998779%,59.999084%);fill-opacity:1;stroke-width:0.3985;stroke-linecap:butt;stroke-linejoin:miter;stroke:rgb(100%,79.998779%,59.999084%);stroke-opacity:1;stroke-miterlimit:10;\\\" d=\\\"M 1.359031 18.06475 C 1.359031 18.615531 0.913719 19.060844 0.362938 19.060844 C -0.187844 19.060844 -0.633156 18.615531 -0.633156 18.06475 C -0.633156 17.513969 -0.187844 17.068656 0.362938 17.068656 C 0.913719 17.068656 1.359031 17.513969 1.359031 18.06475 Z M 1.359031 18.06475 \\\" transform=\\\"matrix(1,0,0,-1,66.223,170.596)\\\"\\/>\\n<path style=\\\"fill-rule:nonzero;fill:rgb(100%,79.998779%,59.999084%);fill-opacity:1;stroke-width:0.3985;stroke-linecap:butt;stroke-linejoin:miter;stroke:rgb(100%,79.998779%,59.999084%);stroke-opacity:1;stroke-miterlimit:10;\\\" d=\\\"M 1.359031 18.06475 C 1.359031 18.615531 0.913719 19.060844 0.362938 19.060844 C -0.187844 19.060844 -0.633156 18.615531 -0.633156 18.06475 C -0.633156 17.513969 -0.187844 17.068656 0.362938 17.068656 C 0.913719 17.068656 1.359031 17.513969 1.359031 18.06475 Z M 1.359031 18.06475 \\\" transform=\\\"matrix(1,0,0,-1,66.223,170.596)\\\"\\/>\\n<path style=\\\"fill-rule:nonzero;fill:rgb(100%,79.998779%,59.999084%);fill-opacity:1;stroke-width:0.3985;stroke-linecap:butt;stroke-linejoin:miter;stroke:rgb(100%,79.998779%,59.999084%);stroke-opacity:1;stroke-miterlimit:10;\\\" d=\\\"M 1.359031 18.06475 C 1.359031 18.615531 0.913719 19.060844 0.362938 19.060844 C -0.187844 19.060844 -0.633156 18.615531 -0.633156 18.06475 C -0.633156 17.513969 -0.187844 17.068656 0.362938 17.068656 C 0.913719 17.068656 1.359031 17.513969 1.359031 18.06475 Z M 1.359031 18.06475 \\\" transform=\\\"matrix(1,0,0,-1,66.223,170.596)\\\"\\/>\\n<path style=\\\"fill-rule:nonzero;fill:rgb(100%,79.998779%,59.999084%);fill-opacity:1;stroke-width:0.3985;stroke-linecap:butt;stroke-linejoin:miter;stroke:rgb(100%,79.998779%,59.999084%);stroke-opacity:1;stroke-miterlimit:10;\\\" d=\\\"M 1.359031 18.06475 C 1.359031 18.615531 0.913719 19.060844 0.362938 19.060844 C -0.187844 19.060844 -0.633156 18.615531 -0.633156 18.06475 C -0.633156 17.513969 -0.187844 17.068656 0.362938 17.068656 C 0.913719 17.068656 1.359031 17.513969 1.359031 18.06475 Z M 1.359031 18.06475 \\\" transform=\\\"matrix(1,0,0,-1,66.223,170.596)\\\"\\/>\\n<path style=\\\"fill-rule:nonzero;fill:rgb(100%,79.998779%,59.999084%);fill-opacity:1;stroke-width:0.3985;stroke-linecap:butt;stroke-linejoin:miter;stroke:rgb(100%,79.998779%,59.999084%);stroke-opacity:1;stroke-miterlimit:10;\\\" d=\\\"M 1.359031 18.06475 C 1.359031 18.615531 0.913719 19.060844 0.362938 19.060844 C -0.187844 19.060844 -0.633156 18.615531 -0.633156 18.06475 C -0.633156 17.513969 -0.187844 17.068656 0.362938 17.068656 C 0.913719 17.068656 1.359031 17.513969 1.359031 18.06475 Z M 1.359031 18.06475 \\\" transform=\\\"matrix(1,0,0,-1,66.223,170.596)\\\"\\/>\\n<path style=\\\"fill-rule:nonzero;fill:rgb(100%,79.998779%,59.999084%);fill-opacity:1;stroke-width:0.3985;stroke-linecap:butt;stroke-linejoin:miter;stroke:rgb(100%,79.998779%,59.999084%);stroke-opacity:1;stroke-miterlimit:10;\\\" d=\\\"M 1.359031 18.06475 C 1.359031 18.615531 0.913719 19.060844 0.362938 19.060844 C -0.187844 19.060844 -0.633156 18.615531 -0.633156 18.06475 C -0.633156 17.513969 -0.187844 17.068656 0.362938 17.068656 C 0.913719 17.068656 1.359031 17.513969 1.359031 18.06475 Z M 1.359031 18.06475 \\\" transform=\\\"matrix(1,0,0,-1,66.223,170.596)\\\"\\/>\\n<path style=\\\"fill-rule:nonzero;fill:rgb(100%,79.998779%,59.999084%);fill-opacity:1;stroke-width:0.3985;stroke-linecap:butt;stroke-linejoin:miter;stroke:rgb(100%,79.998779%,59.999084%);stroke-opacity:1;stroke-miterlimit:10;\\\" d=\\\"M 1.359031 18.06475 C 1.359031 18.615531 0.913719 19.060844 0.362938 19.060844 C -0.187844 19.060844 -0.633156 18.615531 -0.633156 18.06475 C -0.633156 17.513969 -0.187844 17.068656 0.362938 17.068656 C 0.913719 17.068656 1.359031 17.513969 1.359031 18.06475 Z M 1.359031 18.06475 \\\" transform=\\\"matrix(1,0,0,-1,66.223,170.596)\\\"\\/>\\n<path style=\\\"fill-rule:nonzero;fill:rgb(100%,79.998779%,59.999084%);fill-opacity:1;stroke-width:0.3985;stroke-linecap:butt;stroke-linejoin:miter;stroke:rgb(100%,79.998779%,59.999084%);stroke-opacity:1;stroke-miterlimit:10;\\\" d=\\\"M 1.359031 18.06475 C 1.359031 18.615531 0.913719 19.060844 0.362938 19.060844 C -0.187844 19.060844 -0.633156 18.615531 -0.633156 18.06475 C -0.633156 17.513969 -0.187844 17.068656 0.362938 17.068656 C 0.913719 17.068656 1.359031 17.513969 1.359031 18.06475 Z M 1.359031 18.06475 \\\" transform=\\\"matrix(1,0,0,-1,66.223,170.596)\\\"\\/>\\n<path style=\\\"fill-rule:nonzero;fill:rgb(100%,79.998779%,59.999084%);fill-opacity:1;stroke-width:0.3985;stroke-linecap:butt;stroke-linejoin:miter;stroke:rgb(100%,79.998779%,59.999084%);stroke-opacity:1;stroke-miterlimit:10;\\\" d=\\\"M 1.359031 18.06475 C 1.359031 18.615531 0.913719 19.060844 0.362938 19.060844 C -0.187844 19.060844 -0.633156 18.615531 -0.633156 18.06475 C -0.633156 17.513969 -0.187844 17.068656 0.362938 17.068656 C 0.913719 17.068656 1.359031 17.513969 1.359031 18.06475 Z M 1.359031 18.06475 \\\" transform=\\\"matrix(1,0,0,-1,66.223,170.596)\\\"\\/>\\n<path style=\\\"fill-rule:nonzero;fill:rgb(100%,79.998779%,59.999084%);fill-opacity:1;stroke-width:0.3985;stroke-linecap:butt;stroke-linejoin:miter;stroke:rgb(100%,79.998779%,59.999084%);stroke-opacity:1;stroke-miterlimit:10;\\\" d=\\\"M 1.359031 18.06475 C 1.359031 18.615531 0.913719 19.060844 0.362938 19.060844 C -0.187844 19.060844 -0.633156 18.615531 -0.633156 18.06475 C -0.633156 17.513969 -0.187844 17.068656 0.362938 17.068656 C 0.913719 17.068656 1.359031 17.513969 1.359031 18.06475 Z M 1.359031 18.06475 \\\" transform=\\\"matrix(1,0,0,-1,66.223,170.596)\\\"\\/>\\n<path style=\\\"fill-rule:nonzero;fill:rgb(100%,79.998779%,59.999084%);fill-opacity:1;stroke-width:0.3985;stroke-linecap:butt;stroke-linejoin:miter;stroke:rgb(100%,79.998779%,59.999084%);stroke-opacity:1;stroke-miterlimit:10;\\\" d=\\\"M 1.359031 18.06475 C 1.359031 18.615531 0.913719 19.060844 0.362938 19.060844 C -0.187844 19.060844 -0.633156 18.615531 -0.633156 18.06475 C -0.633156 17.513969 -0.187844 17.068656 0.362938 17.068656 C 0.913719 17.068656 1.359031 17.513969 1.359031 18.06475 Z M 1.359031 18.06475 \\\" transform=\\\"matrix(1,0,0,-1,66.223,170.596)\\\"\\/>\\n<path style=\\\"fill-rule:nonzero;fill:rgb(100%,79.998779%,59.999084%);fill-opacity:1;stroke-width:0.3985;stroke-linecap:butt;stroke-linejoin:miter;stroke:rgb(100%,79.998779%,59.999084%);stroke-opacity:1;stroke-miterlimit:10;\\\" d=\\\"M 1.359031 18.06475 C 1.359031 18.615531 0.913719 19.060844 0.362938 19.060844 C -0.187844 19.060844 -0.633156 18.615531 -0.633156 18.06475 C -0.633156 17.513969 -0.187844 17.068656 0.362938 17.068656 C 0.913719 17.068656 1.359031 17.513969 1.359031 18.06475 Z M 1.359031 18.06475 \\\" transform=\\\"matrix(1,0,0,-1,66.223,170.596)\\\"\\/>\\n<path style=\\\"fill-rule:nonzero;fill:rgb(100%,79.998779%,59.999084%);fill-opacity:1;stroke-width:0.3985;stroke-linecap:butt;stroke-linejoin:miter;stroke:rgb(100%,79.998779%,59.999084%);stroke-opacity:1;stroke-miterlimit:10;\\\" d=\\\"M 1.359031 18.06475 C 1.359031 18.615531 0.913719 19.060844 0.362938 19.060844 C -0.187844 19.060844 -0.633156 18.615531 -0.633156 18.06475 C -0.633156 17.513969 -0.187844 17.068656 0.362938 17.068656 C 0.913719 17.068656 1.359031 17.513969 1.359031 18.06475 Z M 1.359031 18.06475 \\\" transform=\\\"matrix(1,0,0,-1,66.223,170.596)\\\"\\/>\\n<path style=\\\"fill-rule:nonzero;fill:rgb(100%,50.195312%,0%);fill-opacity:1;stroke-width:0.3985;stroke-linecap:butt;stroke-linejoin:miter;stroke:rgb(100%,50.195312%,0%);stroke-opacity:1;stroke-miterlimit:10;\\\" d=\\\"M 1.359031 18.06475 C 1.359031 18.615531 0.913719 19.060844 0.362938 19.060844 C -0.187844 19.060844 -0.633156 18.615531 -0.633156 18.06475 C -0.633156 17.513969 -0.187844 17.068656 0.362938 17.068656 C 0.913719 17.068656 1.359031 17.513969 1.359031 18.06475 Z M 1.359031 18.06475 \\\" transform=\\\"matrix(1,0,0,-1,66.223,170.596)\\\"\\/>\\n<path style=\\\"fill-rule:nonzero;fill:rgb(100%,50.195312%,0%);fill-opacity:1;stroke-width:0.3985;stroke-linecap:butt;stroke-linejoin:miter;stroke:rgb(100%,50.195312%,0%);stroke-opacity:1;stroke-miterlimit:10;\\\" d=\\\"M 1.359031 18.06475 C 1.359031 18.615531 0.913719 19.060844 0.362938 19.060844 C -0.187844 19.060844 -0.633156 18.615531 -0.633156 18.06475 C -0.633156 17.513969 -0.187844 17.068656 0.362938 17.068656 C 0.913719 17.068656 1.359031 17.513969 1.359031 18.06475 Z M 1.359031 18.06475 \\\" transform=\\\"matrix(1,0,0,-1,66.223,170.596)\\\"\\/>\\n<path style=\\\"fill-rule:nonzero;fill:rgb(100%,50.195312%,0%);fill-opacity:1;stroke-width:0.3985;stroke-linecap:butt;stroke-linejoin:miter;stroke:rgb(100%,50.195312%,0%);stroke-opacity:1;stroke-miterlimit:10;\\\" d=\\\"M 1.359031 18.06475 C 1.359031 18.615531 0.913719 19.060844 0.362938 19.060844 C -0.187844 19.060844 -0.633156 18.615531 -0.633156 18.06475 C -0.633156 17.513969 -0.187844 17.068656 0.362938 17.068656 C 0.913719 17.068656 1.359031 17.513969 1.359031 18.06475 Z M 1.359031 18.06475 \\\" transform=\\\"matrix(1,0,0,-1,66.223,170.596)\\\"\\/>\\n<path style=\\\"fill-rule:nonzero;fill:rgb(100%,50.195312%,0%);fill-opacity:1;stroke-width:0.3985;stroke-linecap:butt;stroke-linejoin:miter;stroke:rgb(100%,50.195312%,0%);stroke-opacity:1;stroke-miterlimit:10;\\\" d=\\\"M 1.359031 18.06475 C 1.359031 18.615531 0.913719 19.060844 0.362938 19.060844 C -0.187844 19.060844 -0.633156 18.615531 -0.633156 18.06475 C -0.633156 17.513969 -0.187844 17.068656 0.362938 17.068656 C 0.913719 17.068656 1.359031 17.513969 1.359031 18.06475 Z M 1.359031 18.06475 \\\" transform=\\\"matrix(1,0,0,-1,66.223,170.596)\\\"\\/>\\n<path style=\\\"fill-rule:nonzero;fill:rgb(100%,50.195312%,0%);fill-opacity:1;stroke-width:0.3985;stroke-linecap:butt;stroke-linejoin:miter;stroke:rgb(100%,50.195312%,0%);stroke-opacity:1;stroke-miterlimit:10;\\\" d=\\\"M 1.359031 18.06475 C 1.359031 18.615531 0.913719 19.060844 0.362938 19.060844 C -0.187844 19.060844 -0.633156 18.615531 -0.633156 18.06475 C -0.633156 17.513969 -0.187844 17.068656 0.362938 17.068656 C 0.913719 17.068656 1.359031 17.513969 1.359031 18.06475 Z M 1.359031 18.06475 \\\" transform=\\\"matrix(1,0,0,-1,66.223,170.596)\\\"\\/>\\n<path style=\\\"fill-rule:nonzero;fill:rgb(100%,50.195312%,0%);fill-opacity:1;stroke-width:0.3985;stroke-linecap:butt;stroke-linejoin:miter;stroke:rgb(100%,50.195312%,0%);stroke-opacity:1;stroke-miterlimit:10;\\\" d=\\\"M 1.359031 18.06475 C 1.359031 18.615531 0.913719 19.060844 0.362938 19.060844 C -0.187844 19.060844 -0.633156 18.615531 -0.633156 18.06475 C -0.633156 17.513969 -0.187844 17.068656 0.362938 17.068656 C 0.913719 17.068656 1.359031 17.513969 1.359031 18.06475 Z M 1.359031 18.06475 \\\" transform=\\\"matrix(1,0,0,-1,66.223,170.596)\\\"\\/>\\n<path style=\\\"fill-rule:nonzero;fill:rgb(100%,50.195312%,0%);fill-opacity:1;stroke-width:0.3985;stroke-linecap:butt;stroke-linejoin:miter;stroke:rgb(100%,50.195312%,0%);stroke-opacity:1;stroke-miterlimit:10;\\\" d=\\\"M 1.359031 18.06475 C 1.359031 18.615531 0.913719 19.060844 0.362938 19.060844 C -0.187844 19.060844 -0.633156 18.615531 -0.633156 18.06475 C -0.633156 17.513969 -0.187844 17.068656 0.362938 17.068656 C 0.913719 17.068656 1.359031 17.513969 1.359031 18.06475 Z M 1.359031 18.06475 \\\" transform=\\\"matrix(1,0,0,-1,66.223,170.596)\\\"\\/>\\n<path style=\\\"fill-rule:nonzero;fill:rgb(100%,50.195312%,0%);fill-opacity:1;stroke-width:0.3985;stroke-linecap:butt;stroke-linejoin:miter;stroke:rgb(100%,50.195312%,0%);stroke-opacity:1;stroke-miterlimit:10;\\\" d=\\\"M 1.359031 18.06475 C 1.359031 18.615531 0.913719 19.060844 0.362938 19.060844 C -0.187844 19.060844 -0.633156 18.615531 -0.633156 18.06475 C -0.633156 17.513969 -0.187844 17.068656 0.362938 17.068656 C 0.913719 17.068656 1.359031 17.513969 1.359031 18.06475 Z M 1.359031 18.06475 \\\" transform=\\\"matrix(1,0,0,-1,66.223,170.596)\\\"\\/>\\n<path style=\\\"fill-rule:nonzero;fill:rgb(100%,50.195312%,0%);fill-opacity:1;stroke-width:0.3985;stroke-linecap:butt;stroke-linejoin:miter;stroke:rgb(100%,50.195312%,0%);stroke-opacity:1;stroke-miterlimit:10;\\\" d=\\\"M 1.359031 18.06475 C 1.359031 18.615531 0.913719 19.060844 0.362938 19.060844 C -0.187844 19.060844 -0.633156 18.615531 -0.633156 18.06475 C -0.633156 17.513969 -0.187844 17.068656 0.362938 17.068656 C 0.913719 17.068656 1.359031 17.513969 1.359031 18.06475 Z M 1.359031 18.06475 \\\" transform=\\\"matrix(1,0,0,-1,66.223,170.596)\\\"\\/>\\n<path style=\\\"fill-rule:nonzero;fill:rgb(100%,50.195312%,0%);fill-opacity:1;stroke-width:0.3985;stroke-linecap:butt;stroke-linejoin:miter;stroke:rgb(100%,50.195312%,0%);stroke-opacity:1;stroke-miterlimit:10;\\\" d=\\\"M 1.359031 18.06475 C 1.359031 18.615531 0.913719 19.060844 0.362938 19.060844 C -0.187844 19.060844 -0.633156 18.615531 -0.633156 18.06475 C -0.633156 17.513969 -0.187844 17.068656 0.362938 17.068656 C 0.913719 17.068656 1.359031 17.513969 1.359031 18.06475 Z M 1.359031 18.06475 \\\" transform=\\\"matrix(1,0,0,-1,66.223,170.596)\\\"\\/>\\n<path style=\\\"fill-rule:nonzero;fill:rgb(100%,50.195312%,0%);fill-opacity:1;stroke-width:0.3985;stroke-linecap:butt;stroke-linejoin:miter;stroke:rgb(100%,50.195312%,0%);stroke-opacity:1;stroke-miterlimit:10;\\\" d=\\\"M 1.359031 18.06475 C 1.359031 18.615531 0.913719 19.060844 0.362938 19.060844 C -0.187844 19.060844 -0.633156 18.615531 -0.633156 18.06475 C -0.633156 17.513969 -0.187844 17.068656 0.362938 17.068656 C 0.913719 17.068656 1.359031 17.513969 1.359031 18.06475 Z M 1.359031 18.06475 \\\" transform=\\\"matrix(1,0,0,-1,66.223,170.596)\\\"\\/>\\n<path style=\\\"fill-rule:nonzero;fill:rgb(100%,50.195312%,0%);fill-opacity:1;stroke-width:0.3985;stroke-linecap:butt;stroke-linejoin:miter;stroke:rgb(100%,50.195312%,0%);stroke-opacity:1;stroke-miterlimit:10;\\\" d=\\\"M 1.359031 18.06475 C 1.359031 18.615531 0.913719 19.060844 0.362938 19.060844 C -0.187844 19.060844 -0.633156 18.615531 -0.633156 18.06475 C -0.633156 17.513969 -0.187844 17.068656 0.362938 17.068656 C 0.913719 17.068656 1.359031 17.513969 1.359031 18.06475 Z M 1.359031 18.06475 \\\" transform=\\\"matrix(1,0,0,-1,66.223,170.596)\\\"\\/>\\n<path style=\\\"fill-rule:nonzero;fill:rgb(100%,50.195312%,0%);fill-opacity:1;stroke-width:0.3985;stroke-linecap:butt;stroke-linejoin:miter;stroke:rgb(100%,50.195312%,0%);stroke-opacity:1;stroke-miterlimit:10;\\\" d=\\\"M 1.359031 18.06475 C 1.359031 18.615531 0.913719 19.060844 0.362938 19.060844 C -0.187844 19.060844 -0.633156 18.615531 -0.633156 18.06475 C -0.633156 17.513969 -0.187844 17.068656 0.362938 17.068656 C 0.913719 17.068656 1.359031 17.513969 1.359031 18.06475 Z M 1.359031 18.06475 \\\" transform=\\\"matrix(1,0,0,-1,66.223,170.596)\\\"\\/>\\n<path style=\\\"fill-rule:nonzero;fill:rgb(100%,50.195312%,0%);fill-opacity:1;stroke-width:0.3985;stroke-linecap:butt;stroke-linejoin:miter;stroke:rgb(100%,50.195312%,0%);stroke-opacity:1;stroke-miterlimit:10;\\\" d=\\\"M 1.359031 18.06475 C 1.359031 18.615531 0.913719 19.060844 0.362938 19.060844 C -0.187844 19.060844 -0.633156 18.615531 -0.633156 18.06475 C -0.633156 17.513969 -0.187844 17.068656 0.362938 17.068656 C 0.913719 17.068656 1.359031 17.513969 1.359031 18.06475 Z M 1.359031 18.06475 \\\" transform=\\\"matrix(1,0,0,-1,66.223,170.596)\\\"\\/>\\n<path style=\\\"fill-rule:nonzero;fill:rgb(100%,50.195312%,0%);fill-opacity:1;stroke-width:0.3985;stroke-linecap:butt;stroke-linejoin:miter;stroke:rgb(100%,50.195312%,0%);stroke-opacity:1;stroke-miterlimit:10;\\\" d=\\\"M 1.359031 18.06475 C 1.359031 18.615531 0.913719 19.060844 0.362938 19.060844 C -0.187844 19.060844 -0.633156 18.615531 -0.633156 18.06475 C -0.633156 17.513969 -0.187844 17.068656 0.362938 17.068656 C 0.913719 17.068656 1.359031 17.513969 1.359031 18.06475 Z M 1.359031 18.06475 \\\" transform=\\\"matrix(1,0,0,-1,66.223,170.596)\\\"\\/>\\n<path style=\\\"fill-rule:nonzero;fill:rgb(100%,50.195312%,0%);fill-opacity:1;stroke-width:0.3985;stroke-linecap:butt;stroke-linejoin:miter;stroke:rgb(100%,50.195312%,0%);stroke-opacity:1;stroke-miterlimit:10;\\\" d=\\\"M 1.359031 18.06475 C 1.359031 18.615531 0.913719 19.060844 0.362938 19.060844 C -0.187844 19.060844 -0.633156 18.615531 -0.633156 18.06475 C -0.633156 17.513969 -0.187844 17.068656 0.362938 17.068656 C 0.913719 17.068656 1.359031 17.513969 1.359031 18.06475 Z M 1.359031 18.06475 \\\" transform=\\\"matrix(1,0,0,-1,66.223,170.596)\\\"\\/>\\n<path style=\\\"fill-rule:nonzero;fill:rgb(100%,50.195312%,0%);fill-opacity:1;stroke-width:0.3985;stroke-linecap:butt;stroke-linejoin:miter;stroke:rgb(100%,50.195312%,0%);stroke-opacity:1;stroke-miterlimit:10;\\\" d=\\\"M 1.359031 18.06475 C 1.359031 18.615531 0.913719 19.060844 0.362938 19.060844 C -0.187844 19.060844 -0.633156 18.615531 -0.633156 18.06475 C -0.633156 17.513969 -0.187844 17.068656 0.362938 17.068656 C 0.913719 17.068656 1.359031 17.513969 1.359031 18.06475 Z M 1.359031 18.06475 \\\" transform=\\\"matrix(1,0,0,-1,66.223,170.596)\\\"\\/>\\n<path style=\\\"fill-rule:nonzero;fill:rgb(100%,50.195312%,0%);fill-opacity:1;stroke-width:0.3985;stroke-linecap:butt;stroke-linejoin:miter;stroke:rgb(100%,50.195312%,0%);stroke-opacity:1;stroke-miterlimit:10;\\\" d=\\\"M 1.359031 18.06475 C 1.359031 18.615531 0.913719 19.060844 0.362938 19.060844 C -0.187844 19.060844 -0.633156 18.615531 -0.633156 18.06475 C -0.633156 17.513969 -0.187844 17.068656 0.362938 17.068656 C 0.913719 17.068656 1.359031 17.513969 1.359031 18.06475 Z M 1.359031 18.06475 \\\" transform=\\\"matrix(1,0,0,-1,66.223,170.596)\\\"\\/>\\n<path style=\\\"fill-rule:nonzero;fill:rgb(100%,50.195312%,0%);fill-opacity:1;stroke-width:0.3985;stroke-linecap:butt;stroke-linejoin:miter;stroke:rgb(100%,50.195312%,0%);stroke-opacity:1;stroke-miterlimit:10;\\\" d=\\\"M 1.359031 18.06475 C 1.359031 18.615531 0.913719 19.060844 0.362938 19.060844 C -0.187844 19.060844 -0.633156 18.615531 -0.633156 18.06475 C -0.633156 17.513969 -0.187844 17.068656 0.362938 17.068656 C 0.913719 17.068656 1.359031 17.513969 1.359031 18.06475 Z M 1.359031 18.06475 \\\" transform=\\\"matrix(1,0,0,-1,66.223,170.596)\\\"\\/>\\n<path style=\\\"fill-rule:nonzero;fill:rgb(100%,50.195312%,0%);fill-opacity:1;stroke-width:0.3985;stroke-linecap:butt;stroke-linejoin:miter;stroke:rgb(100%,50.195312%,0%);stroke-opacity:1;stroke-miterlimit:10;\\\" d=\\\"M 1.359031 18.06475 C 1.359031 18.615531 0.913719 19.060844 0.362938 19.060844 C -0.187844 19.060844 -0.633156 18.615531 -0.633156 18.06475 C -0.633156 17.513969 -0.187844 17.068656 0.362938 17.068656 C 0.913719 17.068656 1.359031 17.513969 1.359031 18.06475 Z M 1.359031 18.06475 \\\" transform=\\\"matrix(1,0,0,-1,66.223,170.596)\\\"\\/>\\n<path style=\\\"fill-rule:nonzero;fill:rgb(100%,50.195312%,0%);fill-opacity:1;stroke-width:0.3985;stroke-linecap:butt;stroke-linejoin:miter;stroke:rgb(100%,50.195312%,0%);stroke-opacity:1;stroke-miterlimit:10;\\\" d=\\\"M 1.359031 18.06475 C 1.359031 18.615531 0.913719 19.060844 0.362938 19.060844 C -0.187844 19.060844 -0.633156 18.615531 -0.633156 18.06475 C -0.633156 17.513969 -0.187844 17.068656 0.362938 17.068656 C 0.913719 17.068656 1.359031 17.513969 1.359031 18.06475 Z M 1.359031 18.06475 \\\" transform=\\\"matrix(1,0,0,-1,66.223,170.596)\\\"\\/>\\n<path style=\\\"fill-rule:nonzero;fill:rgb(100%,50.195312%,0%);fill-opacity:1;stroke-width:0.3985;stroke-linecap:butt;stroke-linejoin:miter;stroke:rgb(100%,50.195312%,0%);stroke-opacity:1;stroke-miterlimit:10;\\\" d=\\\"M 1.359031 18.06475 C 1.359031 18.615531 0.913719 19.060844 0.362938 19.060844 C -0.187844 19.060844 -0.633156 18.615531 -0.633156 18.06475 C -0.633156 17.513969 -0.187844 17.068656 0.362938 17.068656 C 0.913719 17.068656 1.359031 17.513969 1.359031 18.06475 Z M 1.359031 18.06475 \\\" transform=\\\"matrix(1,0,0,-1,66.223,170.596)\\\"\\/>\\n<path style=\\\"fill-rule:nonzero;fill:rgb(100%,50.195312%,0%);fill-opacity:1;stroke-width:0.3985;stroke-linecap:butt;stroke-linejoin:miter;stroke:rgb(100%,50.195312%,0%);stroke-opacity:1;stroke-miterlimit:10;\\\" d=\\\"M 1.359031 18.06475 C 1.359031 18.615531 0.913719 19.060844 0.362938 19.060844 C -0.187844 19.060844 -0.633156 18.615531 -0.633156 18.06475 C -0.633156 17.513969 -0.187844 17.068656 0.362938 17.068656 C 0.913719 17.068656 1.359031 17.513969 1.359031 18.06475 Z M 1.359031 18.06475 \\\" transform=\\\"matrix(1,0,0,-1,66.223,170.596)\\\"\\/>\\n<path style=\\\"fill-rule:nonzero;fill:rgb(100%,50.195312%,0%);fill-opacity:1;stroke-width:0.3985;stroke-linecap:butt;stroke-linejoin:miter;stroke:rgb(100%,50.195312%,0%);stroke-opacity:1;stroke-miterlimit:10;\\\" d=\\\"M 1.359031 18.06475 C 1.359031 18.615531 0.913719 19.060844 0.362938 19.060844 C -0.187844 19.060844 -0.633156 18.615531 -0.633156 18.06475 C -0.633156 17.513969 -0.187844 17.068656 0.362938 17.068656 C 0.913719 17.068656 1.359031 17.513969 1.359031 18.06475 Z M 1.359031 18.06475 \\\" transform=\\\"matrix(1,0,0,-1,66.223,170.596)\\\"\\/>\\n<path style=\\\"fill-rule:nonzero;fill:rgb(100%,50.195312%,0%);fill-opacity:1;stroke-width:0.3985;stroke-linecap:butt;stroke-linejoin:miter;stroke:rgb(100%,50.195312%,0%);stroke-opacity:1;stroke-miterlimit:10;\\\" d=\\\"M 1.359031 18.06475 C 1.359031 18.615531 0.913719 19.060844 0.362938 19.060844 C -0.187844 19.060844 -0.633156 18.615531 -0.633156 18.06475 C -0.633156 17.513969 -0.187844 17.068656 0.362938 17.068656 C 0.913719 17.068656 1.359031 17.513969 1.359031 18.06475 Z M 1.359031 18.06475 \\\" transform=\\\"matrix(1,0,0,-1,66.223,170.596)\\\"\\/>\\n<path style=\\\"fill-rule:nonzero;fill:rgb(100%,50.195312%,0%);fill-opacity:1;stroke-width:0.3985;stroke-linecap:butt;stroke-linejoin:miter;stroke:rgb(100%,50.195312%,0%);stroke-opacity:1;stroke-miterlimit:10;\\\" d=\\\"M 1.359031 18.06475 C 1.359031 18.615531 0.913719 19.060844 0.362938 19.060844 C -0.187844 19.060844 -0.633156 18.615531 -0.633156 18.06475 C -0.633156 17.513969 -0.187844 17.068656 0.362938 17.068656 C 0.913719 17.068656 1.359031 17.513969 1.359031 18.06475 Z M 1.359031 18.06475 \\\" transform=\\\"matrix(1,0,0,-1,66.223,170.596)\\\"\\/>\\n<path style=\\\"fill-rule:nonzero;fill:rgb(100%,50.195312%,0%);fill-opacity:1;stroke-width:0.3985;stroke-linecap:butt;stroke-linejoin:miter;stroke:rgb(100%,50.195312%,0%);stroke-opacity:1;stroke-miterlimit:10;\\\" d=\\\"M 1.359031 18.06475 C 1.359031 18.615531 0.913719 19.060844 0.362938 19.060844 C -0.187844 19.060844 -0.633156 18.615531 -0.633156 18.06475 C -0.633156 17.513969 -0.187844 17.068656 0.362938 17.068656 C 0.913719 17.068656 1.359031 17.513969 1.359031 18.06475 Z M 1.359031 18.06475 \\\" transform=\\\"matrix(1,0,0,-1,66.223,170.596)\\\"\\/>\\n<path style=\\\"fill-rule:nonzero;fill:rgb(100%,50.195312%,0%);fill-opacity:1;stroke-width:0.3985;stroke-linecap:butt;stroke-linejoin:miter;stroke:rgb(100%,50.195312%,0%);stroke-opacity:1;stroke-miterlimit:10;\\\" d=\\\"M 1.359031 18.06475 C 1.359031 18.615531 0.913719 19.060844 0.362938 19.060844 C -0.187844 19.060844 -0.633156 18.615531 -0.633156 18.06475 C -0.633156 17.513969 -0.187844 17.068656 0.362938 17.068656 C 0.913719 17.068656 1.359031 17.513969 1.359031 18.06475 Z M 1.359031 18.06475 \\\" transform=\\\"matrix(1,0,0,-1,66.223,170.596)\\\"\\/>\\n<path style=\\\"fill-rule:nonzero;fill:rgb(100%,50.195312%,0%);fill-opacity:1;stroke-width:0.3985;stroke-linecap:butt;stroke-linejoin:miter;stroke:rgb(100%,50.195312%,0%);stroke-opacity:1;stroke-miterlimit:10;\\\" d=\\\"M 1.359031 18.06475 C 1.359031 18.615531 0.913719 19.060844 0.362938 19.060844 C -0.187844 19.060844 -0.633156 18.615531 -0.633156 18.06475 C -0.633156 17.513969 -0.187844 17.068656 0.362938 17.068656 C 0.913719 17.068656 1.359031 17.513969 1.359031 18.06475 Z M 1.359031 18.06475 \\\" transform=\\\"matrix(1,0,0,-1,66.223,170.596)\\\"\\/>\\n<path style=\\\"fill-rule:nonzero;fill:rgb(100%,50.195312%,0%);fill-opacity:1;stroke-width:0.3985;stroke-linecap:butt;stroke-linejoin:miter;stroke:rgb(100%,50.195312%,0%);stroke-opacity:1;stroke-miterlimit:10;\\\" d=\\\"M 1.359031 18.06475 C 1.359031 18.615531 0.913719 19.060844 0.362938 19.060844 C -0.187844 19.060844 -0.633156 18.615531 -0.633156 18.06475 C -0.633156 17.513969 -0.187844 17.068656 0.362938 17.068656 C 0.913719 17.068656 1.359031 17.513969 1.359031 18.06475 Z M 1.359031 18.06475 \\\" transform=\\\"matrix(1,0,0,-1,66.223,170.596)\\\"\\/>\\n<path style=\\\"fill-rule:nonzero;fill:rgb(100%,50.195312%,0%);fill-opacity:1;stroke-width:0.3985;stroke-linecap:butt;stroke-linejoin:miter;stroke:rgb(100%,50.195312%,0%);stroke-opacity:1;stroke-miterlimit:10;\\\" d=\\\"M 1.359031 18.06475 C 1.359031 18.615531 0.913719 19.060844 0.362938 19.060844 C -0.187844 19.060844 -0.633156 18.615531 -0.633156 18.06475 C -0.633156 17.513969 -0.187844 17.068656 0.362938 17.068656 C 0.913719 17.068656 1.359031 17.513969 1.359031 18.06475 Z M 1.359031 18.06475 \\\" transform=\\\"matrix(1,0,0,-1,66.223,170.596)\\\"\\/>\\n<path style=\\\"fill-rule:nonzero;fill:rgb(100%,50.195312%,0%);fill-opacity:1;stroke-width:0.3985;stroke-linecap:butt;stroke-linejoin:miter;stroke:rgb(100%,50.195312%,0%);stroke-opacity:1;stroke-miterlimit:10;\\\" d=\\\"M 1.359031 18.06475 C 1.359031 18.615531 0.913719 19.060844 0.362938 19.060844 C -0.187844 19.060844 -0.633156 18.615531 -0.633156 18.06475 C -0.633156 17.513969 -0.187844 17.068656 0.362938 17.068656 C 0.913719 17.068656 1.359031 17.513969 1.359031 18.06475 Z M 1.359031 18.06475 \\\" transform=\\\"matrix(1,0,0,-1,66.223,170.596)\\\"\\/>\\n<path style=\\\"fill-rule:nonzero;fill:rgb(100%,50.195312%,0%);fill-opacity:1;stroke-width:0.3985;stroke-linecap:butt;stroke-linejoin:miter;stroke:rgb(100%,50.195312%,0%);stroke-opacity:1;stroke-miterlimit:10;\\\" d=\\\"M 1.359031 18.06475 C 1.359031 18.615531 0.913719 19.060844 0.362938 19.060844 C -0.187844 19.060844 -0.633156 18.615531 -0.633156 18.06475 C -0.633156 17.513969 -0.187844 17.068656 0.362938 17.068656 C 0.913719 17.068656 1.359031 17.513969 1.359031 18.06475 Z M 1.359031 18.06475 \\\" transform=\\\"matrix(1,0,0,-1,66.223,170.596)\\\"\\/>\\n<path style=\\\"fill-rule:nonzero;fill:rgb(100%,50.195312%,0%);fill-opacity:1;stroke-width:0.3985;stroke-linecap:butt;stroke-linejoin:miter;stroke:rgb(100%,50.195312%,0%);stroke-opacity:1;stroke-miterlimit:10;\\\" d=\\\"M 1.359031 18.06475 C 1.359031 18.615531 0.913719 19.060844 0.362938 19.060844 C -0.187844 19.060844 -0.633156 18.615531 -0.633156 18.06475 C -0.633156 17.513969 -0.187844 17.068656 0.362938 17.068656 C 0.913719 17.068656 1.359031 17.513969 1.359031 18.06475 Z M 1.359031 18.06475 \\\" transform=\\\"matrix(1,0,0,-1,66.223,170.596)\\\"\\/>\\n<path style=\\\"fill-rule:nonzero;fill:rgb(100%,50.195312%,0%);fill-opacity:1;stroke-width:0.3985;stroke-linecap:butt;stroke-linejoin:miter;stroke:rgb(100%,50.195312%,0%);stroke-opacity:1;stroke-miterlimit:10;\\\" d=\\\"M 1.359031 18.06475 C 1.359031 18.615531 0.913719 19.060844 0.362938 19.060844 C -0.187844 19.060844 -0.633156 18.615531 -0.633156 18.06475 C -0.633156 17.513969 -0.187844 17.068656 0.362938 17.068656 C 0.913719 17.068656 1.359031 17.513969 1.359031 18.06475 Z M 1.359031 18.06475 \\\" transform=\\\"matrix(1,0,0,-1,66.223,170.596)\\\"\\/>\\n<path style=\\\"fill-rule:nonzero;fill:rgb(100%,50.195312%,0%);fill-opacity:1;stroke-width:0.3985;stroke-linecap:butt;stroke-linejoin:miter;stroke:rgb(100%,50.195312%,0%);stroke-opacity:1;stroke-miterlimit:10;\\\" d=\\\"M 1.359031 18.06475 C 1.359031 18.615531 0.913719 19.060844 0.362938 19.060844 C -0.187844 19.060844 -0.633156 18.615531 -0.633156 18.06475 C -0.633156 17.513969 -0.187844 17.068656 0.362938 17.068656 C 0.913719 17.068656 1.359031 17.513969 1.359031 18.06475 Z M 1.359031 18.06475 \\\" transform=\\\"matrix(1,0,0,-1,66.223,170.596)\\\"\\/>\\n<path style=\\\"fill-rule:nonzero;fill:rgb(100%,50.195312%,0%);fill-opacity:1;stroke-width:0.3985;stroke-linecap:butt;stroke-linejoin:miter;stroke:rgb(100%,50.195312%,0%);stroke-opacity:1;stroke-miterlimit:10;\\\" d=\\\"M 1.359031 18.06475 C 1.359031 18.615531 0.913719 19.060844 0.362938 19.060844 C -0.187844 19.060844 -0.633156 18.615531 -0.633156 18.06475 C -0.633156 17.513969 -0.187844 17.068656 0.362938 17.068656 C 0.913719 17.068656 1.359031 17.513969 1.359031 18.06475 Z M 1.359031 18.06475 \\\" transform=\\\"matrix(1,0,0,-1,66.223,170.596)\\\"\\/>\\n<path style=\\\"fill-rule:nonzero;fill:rgb(100%,50.195312%,0%);fill-opacity:1;stroke-width:0.3985;stroke-linecap:butt;stroke-linejoin:miter;stroke:rgb(100%,50.195312%,0%);stroke-opacity:1;stroke-miterlimit:10;\\\" d=\\\"M 1.359031 18.06475 C 1.359031 18.615531 0.913719 19.060844 0.362938 19.060844 C -0.187844 19.060844 -0.633156 18.615531 -0.633156 18.06475 C -0.633156 17.513969 -0.187844 17.068656 0.362938 17.068656 C 0.913719 17.068656 1.359031 17.513969 1.359031 18.06475 Z M 1.359031 18.06475 \\\" transform=\\\"matrix(1,0,0,-1,66.223,170.596)\\\"\\/>\\n<g style=\\\"fill:rgb(0%,0%,0%);fill-opacity:1;\\\">\\n  <use xlink:href=\\\"#glyph-1562715734929674-0-24\\\" x=\\\"146.184\\\" y=\\\"276.68\\\"\\/>\\n  <use xlink:href=\\\"#glyph-1562715734929674-0-8\\\" x=\\\"152.964573\\\" y=\\\"276.68\\\"\\/>\\n  <use xlink:href=\\\"#glyph-1562715734929674-0-25\\\" x=\\\"157.945893\\\" y=\\\"276.68\\\"\\/>\\n  <use xlink:href=\\\"#glyph-1562715734929674-0-7\\\" x=\\\"161.875158\\\" y=\\\"276.68\\\"\\/>\\n<\\/g>\\n<g style=\\\"fill:rgb(0%,0%,0%);fill-opacity:1;\\\">\\n  <use xlink:href=\\\"#glyph-1562715734929674-0-26\\\" x=\\\"169.067188\\\" y=\\\"276.68\\\"\\/>\\n  <use xlink:href=\\\"#glyph-1562715734929674-0-27\\\" x=\\\"172.941659\\\" y=\\\"276.68\\\"\\/>\\n  <use xlink:href=\\\"#glyph-1562715734929674-0-28\\\" x=\\\"181.243526\\\" y=\\\"276.68\\\"\\/>\\n<\\/g>\\n<g style=\\\"fill:rgb(0%,0%,0%);fill-opacity:1;\\\">\\n  <use xlink:href=\\\"#glyph-1562715734929674-3-1\\\" x=\\\"10.792\\\" y=\\\"182.088\\\"\\/>\\n  <use xlink:href=\\\"#glyph-1562715734929674-3-2\\\" x=\\\"10.792\\\" y=\\\"174.61602\\\"\\/>\\n  <use xlink:href=\\\"#glyph-1562715734929674-3-3\\\" x=\\\"10.792\\\" y=\\\"169.6347\\\"\\/>\\n  <use xlink:href=\\\"#glyph-1562715734929674-3-4\\\" x=\\\"10.792\\\" y=\\\"165.732334\\\"\\/>\\n  <use xlink:href=\\\"#glyph-1562715734929674-3-5\\\" x=\\\"10.792\\\" y=\\\"161.857863\\\"\\/>\\n<\\/g>\\n<g style=\\\"fill:rgb(0%,0%,0%);fill-opacity:1;\\\">\\n  <use xlink:href=\\\"#glyph-1562715734929674-3-6\\\" x=\\\"10.792\\\" y=\\\"153.005061\\\"\\/>\\n  <use xlink:href=\\\"#glyph-1562715734929674-3-7\\\" x=\\\"10.792\\\" y=\\\"149.130591\\\"\\/>\\n  <use xlink:href=\\\"#glyph-1562715734929674-3-8\\\" x=\\\"10.792\\\" y=\\\"140.828723\\\"\\/>\\n<\\/g>\\n<g style=\\\"fill:rgb(0%,0%,0%);fill-opacity:1;\\\">\\n  <use xlink:href=\\\"#glyph-1562715734929674-0-29\\\" x=\\\"135.011\\\" y=\\\"59.052\\\"\\/>\\n  <use xlink:href=\\\"#glyph-1562715734929674-0-3\\\" x=\\\"142.828684\\\" y=\\\"59.052\\\"\\/>\\n  <use xlink:href=\\\"#glyph-1562715734929674-0-2\\\" x=\\\"146.73105\\\" y=\\\"59.052\\\"\\/>\\n  <use xlink:href=\\\"#glyph-1562715734929674-0-30\\\" x=\\\"151.71237\\\" y=\\\"59.052\\\"\\/>\\n  <use xlink:href=\\\"#glyph-1562715734929674-0-6\\\" x=\\\"157.247612\\\" y=\\\"59.052\\\"\\/>\\n  <use xlink:href=\\\"#glyph-1562715734929674-0-31\\\" x=\\\"162.782855\\\" y=\\\"59.052\\\"\\/>\\n<\\/g>\\n<g style=\\\"fill:rgb(0%,0%,0%);fill-opacity:1;\\\">\\n  <use xlink:href=\\\"#glyph-1562715734929674-0-32\\\" x=\\\"171.635657\\\" y=\\\"59.052\\\"\\/>\\n<\\/g>\\n<g style=\\\"fill:rgb(0%,0%,0%);fill-opacity:1;\\\">\\n  <use xlink:href=\\\"#glyph-1562715734929674-0-3\\\" x=\\\"178.003777\\\" y=\\\"59.052\\\"\\/>\\n  <use xlink:href=\\\"#glyph-1562715734929674-0-8\\\" x=\\\"181.906143\\\" y=\\\"59.052\\\"\\/>\\n  <use xlink:href=\\\"#glyph-1562715734929674-0-17\\\" x=\\\"186.887463\\\" y=\\\"59.052\\\"\\/>\\n<\\/g>\\n<g style=\\\"fill:rgb(0%,0%,0%);fill-opacity:1;\\\">\\n  <use xlink:href=\\\"#glyph-1562715734929674-0-33\\\" x=\\\"191.045869\\\" y=\\\"59.052\\\"\\/>\\n<\\/g>\\n<path style=\\\"fill:none;stroke-width:0.19925;stroke-linecap:butt;stroke-linejoin:miter;stroke:rgb(50%,50%,50%);stroke-opacity:1;stroke-miterlimit:10;\\\" d=\\\"M -0.001125 -15.162281 L -0.001125 -10.912281 M 33.143406 -15.162281 L 33.143406 -10.912281 M 66.287938 -15.162281 L 66.287938 -10.912281 M 99.432469 -15.162281 L 99.432469 -10.912281 M 132.573094 -15.162281 L 132.573094 -10.912281 M 165.717625 -15.162281 L 165.717625 -10.912281 M 198.862156 -15.162281 L 198.862156 -10.912281 M -0.001125 166.779125 L -0.001125 162.525219 M 33.143406 166.779125 L 33.143406 162.525219 M 66.287938 166.779125 L 66.287938 162.525219 M 99.432469 166.779125 L 99.432469 162.525219 M 132.573094 166.779125 L 132.573094 162.525219 M 165.717625 166.779125 L 165.717625 162.525219 M 198.862156 166.779125 L 198.862156 162.525219 \\\" transform=\\\"matrix(1,0,0,-1,361.548,235.326)\\\"\\/>\\n<path style=\\\"fill:none;stroke-width:0.19925;stroke-linecap:butt;stroke-linejoin:miter;stroke:rgb(50%,50%,50%);stroke-opacity:1;stroke-miterlimit:10;\\\" d=\\\"M -19.887844 0.00178125 L -15.633937 0.00178125 M -19.887844 29.411937 L -15.633937 29.411937 M -19.887844 58.826 L -15.633937 58.826 M -19.887844 88.240062 L -15.633937 88.240062 M -19.887844 117.650219 L -15.633937 117.650219 M -19.887844 147.064281 L -15.633937 147.064281 M 218.748875 0.00178125 L 214.498875 0.00178125 M 218.748875 29.411937 L 214.498875 29.411937 M 218.748875 58.826 L 214.498875 58.826 M 218.748875 88.240062 L 214.498875 88.240062 M 218.748875 117.650219 L 214.498875 117.650219 M 218.748875 147.064281 L 214.498875 147.064281 \\\" transform=\\\"matrix(1,0,0,-1,361.548,235.326)\\\"\\/>\\n<path style=\\\"fill:none;stroke-width:0.3985;stroke-linecap:butt;stroke-linejoin:miter;stroke:rgb(0%,0%,0%);stroke-opacity:1;stroke-miterlimit:10;\\\" d=\\\"M -19.887844 -15.162281 L -19.887844 166.779125 L 218.748875 166.779125 L 218.748875 -15.162281 Z M -19.887844 -15.162281 \\\" transform=\\\"matrix(1,0,0,-1,361.548,235.326)\\\"\\/>\\n<g style=\\\"fill:rgb(0%,0%,0%);fill-opacity:1;\\\">\\n  <use xlink:href=\\\"#glyph-1562715734929674-0-22\\\" x=\\\"359.057\\\" y=\\\"260.428\\\"\\/>\\n<\\/g>\\n<g style=\\\"fill:rgb(0%,0%,0%);fill-opacity:1;\\\">\\n  <use xlink:href=\\\"#glyph-1562715734929674-0-21\\\" x=\\\"389.71\\\" y=\\\"260.428\\\"\\/>\\n  <use xlink:href=\\\"#glyph-1562715734929674-0-22\\\" x=\\\"394.69132\\\" y=\\\"260.428\\\"\\/>\\n<\\/g>\\n<g style=\\\"fill:rgb(0%,0%,0%);fill-opacity:1;\\\">\\n  <use xlink:href=\\\"#glyph-1562715734929674-0-18\\\" x=\\\"422.853\\\" y=\\\"260.428\\\"\\/>\\n  <use xlink:href=\\\"#glyph-1562715734929674-0-22\\\" x=\\\"427.83432\\\" y=\\\"260.428\\\"\\/>\\n<\\/g>\\n<g style=\\\"fill:rgb(0%,0%,0%);fill-opacity:1;\\\">\\n  <use xlink:href=\\\"#glyph-1562715734929674-0-15\\\" x=\\\"455.996\\\" y=\\\"260.428\\\"\\/>\\n  <use xlink:href=\\\"#glyph-1562715734929674-0-22\\\" x=\\\"460.97732\\\" y=\\\"260.428\\\"\\/>\\n<\\/g>\\n<g style=\\\"fill:rgb(0%,0%,0%);fill-opacity:1;\\\">\\n  <use xlink:href=\\\"#glyph-1562715734929674-0-23\\\" x=\\\"489.139\\\" y=\\\"260.428\\\"\\/>\\n  <use xlink:href=\\\"#glyph-1562715734929674-0-22\\\" x=\\\"494.12032\\\" y=\\\"260.428\\\"\\/>\\n<\\/g>\\n<g style=\\\"fill:rgb(0%,0%,0%);fill-opacity:1;\\\">\\n  <use xlink:href=\\\"#glyph-1562715734929674-0-19\\\" x=\\\"519.792\\\" y=\\\"260.428\\\"\\/>\\n  <use xlink:href=\\\"#glyph-1562715734929674-0-22\\\" x=\\\"524.77332\\\" y=\\\"260.428\\\"\\/>\\n  <use xlink:href=\\\"#glyph-1562715734929674-0-22\\\" x=\\\"529.75464\\\" y=\\\"260.428\\\"\\/>\\n<\\/g>\\n<g style=\\\"fill:rgb(0%,0%,0%);fill-opacity:1;\\\">\\n  <use xlink:href=\\\"#glyph-1562715734929674-0-19\\\" x=\\\"552.935\\\" y=\\\"260.428\\\"\\/>\\n  <use xlink:href=\\\"#glyph-1562715734929674-0-21\\\" x=\\\"557.91632\\\" y=\\\"260.428\\\"\\/>\\n  <use xlink:href=\\\"#glyph-1562715734929674-0-22\\\" x=\\\"562.89764\\\" y=\\\"260.428\\\"\\/>\\n<\\/g>\\n<g style=\\\"fill:rgb(0%,0%,0%);fill-opacity:1;\\\">\\n  <use xlink:href=\\\"#glyph-1562715734929674-0-22\\\" x=\\\"333.159\\\" y=\\\"238.536\\\"\\/>\\n<\\/g>\\n<g style=\\\"fill:rgb(0%,0%,0%);fill-opacity:1;\\\">\\n  <use xlink:href=\\\"#glyph-1562715734929674-0-19\\\" x=\\\"323.197\\\" y=\\\"209.123\\\"\\/>\\n  <use xlink:href=\\\"#glyph-1562715734929674-0-22\\\" x=\\\"328.17832\\\" y=\\\"209.123\\\"\\/>\\n  <use xlink:href=\\\"#glyph-1562715734929674-0-22\\\" x=\\\"333.15964\\\" y=\\\"209.123\\\"\\/>\\n<\\/g>\\n<g style=\\\"fill:rgb(0%,0%,0%);fill-opacity:1;\\\">\\n  <use xlink:href=\\\"#glyph-1562715734929674-0-21\\\" x=\\\"323.197\\\" y=\\\"179.711\\\"\\/>\\n  <use xlink:href=\\\"#glyph-1562715734929674-0-22\\\" x=\\\"328.17832\\\" y=\\\"179.711\\\"\\/>\\n  <use xlink:href=\\\"#glyph-1562715734929674-0-22\\\" x=\\\"333.15964\\\" y=\\\"179.711\\\"\\/>\\n<\\/g>\\n<g style=\\\"fill:rgb(0%,0%,0%);fill-opacity:1;\\\">\\n  <use xlink:href=\\\"#glyph-1562715734929674-0-34\\\" x=\\\"323.197\\\" y=\\\"150.298\\\"\\/>\\n  <use xlink:href=\\\"#glyph-1562715734929674-0-22\\\" x=\\\"328.17832\\\" y=\\\"150.298\\\"\\/>\\n  <use xlink:href=\\\"#glyph-1562715734929674-0-22\\\" x=\\\"333.15964\\\" y=\\\"150.298\\\"\\/>\\n<\\/g>\\n<g style=\\\"fill:rgb(0%,0%,0%);fill-opacity:1;\\\">\\n  <use xlink:href=\\\"#glyph-1562715734929674-0-18\\\" x=\\\"323.197\\\" y=\\\"120.886\\\"\\/>\\n  <use xlink:href=\\\"#glyph-1562715734929674-0-22\\\" x=\\\"328.17832\\\" y=\\\"120.886\\\"\\/>\\n  <use xlink:href=\\\"#glyph-1562715734929674-0-22\\\" x=\\\"333.15964\\\" y=\\\"120.886\\\"\\/>\\n<\\/g>\\n<g style=\\\"fill:rgb(0%,0%,0%);fill-opacity:1;\\\">\\n  <use xlink:href=\\\"#glyph-1562715734929674-0-14\\\" x=\\\"323.197\\\" y=\\\"91.474\\\"\\/>\\n  <use xlink:href=\\\"#glyph-1562715734929674-0-22\\\" x=\\\"328.17832\\\" y=\\\"91.474\\\"\\/>\\n  <use xlink:href=\\\"#glyph-1562715734929674-0-22\\\" x=\\\"333.15964\\\" y=\\\"91.474\\\"\\/>\\n<\\/g>\\n<path style=\\\"fill:none;stroke-width:0.3985;stroke-linecap:butt;stroke-linejoin:miter;stroke:rgb(0%,0%,0%);stroke-opacity:1;stroke-miterlimit:10;\\\" d=\\\"M -0.001125 0.00178125 L 1.659031 0.076 L 3.315281 0.302562 L 4.971531 0.661937 L 6.627781 1.154125 L 8.284031 1.767406 L 9.944188 2.486156 L 11.600438 3.306469 L 13.256688 4.216625 L 14.912938 5.212719 L 16.573094 6.275219 L 18.229344 7.400219 L 19.885594 8.579906 L 21.541844 9.802562 L 23.202 11.056469 L 24.85825 12.333812 L 28.17075 14.927562 L 29.830906 16.220531 L 31.487156 17.497875 L 33.143406 18.755687 L 34.799656 19.974437 L 36.459813 21.154125 L 38.116063 22.279125 L 39.772313 23.345531 L 41.428563 24.337719 L 43.088719 25.247875 L 44.744969 26.068187 L 46.401219 26.790844 L 48.057469 27.400219 L 49.713719 27.892406 L 51.373875 28.255687 L 53.030125 28.478344 L 54.686375 28.556469 L 56.342625 28.556469 L 58.002781 29.904125 L 61.315281 35.29475 L 62.971531 37.993969 L 64.631688 40.689281 L 69.600438 48.775219 L 71.260594 51.474437 L 76.229344 59.560375 L 77.8895 62.259594 L 82.85825 70.345531 L 84.518406 73.04475 L 91.143406 83.826 L 92.803563 86.525219 L 96.116063 91.915844 L 97.772313 94.60725 L 99.432469 97.275219 L 101.088719 99.896312 L 102.744969 102.466625 L 104.401219 104.986156 L 106.061375 107.443187 L 107.717625 109.837719 L 109.373875 112.158031 L 111.030125 114.404125 L 112.690281 116.568187 L 114.346531 118.654125 L 116.002781 120.654125 L 117.659031 122.576 L 119.319188 124.415844 L 120.975438 126.16975 L 122.631688 127.845531 L 124.287938 129.439281 L 125.948094 130.951 L 127.604344 132.380687 L 129.260594 133.728344 L 130.916844 134.993969 L 132.573094 136.181469 L 134.23325 137.283031 L 135.8895 138.302562 L 137.54575 139.243969 L 139.202 140.099437 L 140.862156 140.876781 L 142.518406 141.572094 L 144.174656 142.185375 L 145.830906 142.716625 L 147.491063 143.161937 L 149.147313 143.529125 L 150.803563 143.818187 L 152.459813 144.021312 L 154.119969 144.142406 L 155.776219 144.181469 L 198.862156 144.181469 \\\" transform=\\\"matrix(1,0,0,-1,361.548,235.326)\\\"\\/>\\n<path style=\\\"fill:none;stroke-width:0.3985;stroke-linecap:butt;stroke-linejoin:miter;stroke:rgb(0%,0%,0%);stroke-opacity:1;stroke-miterlimit:10;\\\" d=\\\"M -0.001125 122.41975 L 1.659031 122.478344 L 3.315281 122.521312 L 4.971531 122.568187 L 6.627781 122.642406 L 8.284031 122.720531 L 9.944188 122.798656 L 11.600438 122.908031 L 13.256688 123.021312 L 14.912938 123.115062 L 16.573094 123.193187 L 18.229344 123.275219 L 19.885594 123.365062 L 21.541844 123.451 L 23.202 123.501781 L 24.85825 123.540844 L 26.5145 123.622875 L 28.17075 123.712719 L 29.830906 123.759594 L 31.487156 123.79475 L 33.143406 123.861156 L 34.799656 123.954906 L 36.459813 124.040844 L 38.116063 124.122875 L 39.772313 124.216625 L 41.428563 124.306469 L 43.088719 124.396312 L 44.744969 124.458812 L 46.401219 124.497875 L 48.057469 124.533031 L 49.713719 124.595531 L 51.373875 124.665844 L 53.030125 124.728344 L 54.686375 124.771312 L 56.342625 124.786937 L 81.202 124.786937 L 82.85825 124.810375 L 84.518406 124.85725 L 86.174656 124.900219 L 87.830906 124.911937 L 106.061375 124.911937 L 107.717625 124.923656 L 109.373875 124.962719 L 111.030125 125.021312 L 112.690281 125.064281 L 114.346531 125.083812 L 116.002781 125.134594 L 117.659031 125.208812 L 119.319188 125.267406 L 122.631688 125.376781 L 124.287938 125.435375 L 125.948094 125.509594 L 127.604344 125.693187 L 129.260594 126.240062 L 130.916844 127.173656 L 132.573094 128.0135 L 134.23325 128.486156 L 135.8895 128.79475 L 137.54575 129.35725 L 139.202 130.322094 L 140.862156 131.279125 L 142.518406 132.029125 L 144.174656 132.962719 L 145.830906 134.193187 L 147.491063 135.501781 L 149.147313 136.755687 L 150.803563 137.728344 L 152.459813 138.603344 L 154.119969 139.704906 L 155.776219 140.85725 L 157.432469 141.740062 L 159.088719 142.368969 L 160.748875 143.158031 L 162.405125 144.130687 L 164.061375 144.911937 L 165.717625 145.646312 L 167.377781 146.665844 L 169.034031 147.861156 L 170.690281 149.087719 L 172.346531 150.259594 L 174.002781 151.068187 L 175.662938 151.380687 L 178.975438 151.568187 L 180.631688 151.618969 L 182.291844 151.587719 L 183.948094 151.521312 L 185.604344 151.470531 L 187.260594 151.423656 L 188.92075 151.349437 L 190.577 151.251781 L 192.23325 151.16975 L 193.8895 151.10725 L 195.549656 151.064281 L 197.205906 151.021312 L 198.862156 150.962719 \\\" transform=\\\"matrix(1,0,0,-1,361.548,235.326)\\\"\\/>\\n<path style=\\\"fill-rule:nonzero;fill:rgb(100%,100%,100%);fill-opacity:1;stroke-width:0.3985;stroke-linecap:butt;stroke-linejoin:miter;stroke:rgb(0%,0%,0%);stroke-opacity:1;stroke-miterlimit:10;\\\" d=\\\"M -9.626125 0.658031 L -9.548 1.431469 L -9.352687 1.818187 L -8.965969 2.048656 L -8.57925 2.243969 L -8.196437 2.474437 L -7.809719 2.626781 L -7.036281 2.626781 L -6.649562 2.552562 L -6.262844 2.35725 L -5.876125 2.126781 L -5.489406 1.892406 L -5.180812 1.583812 L -5.102687 1.197094 L -5.102687 0.810375 L -5.063625 0.423656 L -5.063625 0.0369375 L -5.294094 -0.0372813 L -5.684719 0.115062 L -6.071437 0.271312 L -6.45425 0.423656 L -6.840969 0.579906 L -7.153469 0.462719 L -7.497219 0.423656 L -7.809719 0.618969 L -8.196437 0.462719 L -8.57925 0.306469 L -9.352687 0.00178125 L -9.626125 0.00178125 Z M -8.930812 3.0135 L -7.962062 3.0135 L -7.923 2.861156 L -7.962062 2.704906 L -8.930812 2.704906 Z M -7.883937 3.400219 L -7.809719 3.595531 L -7.692531 3.786937 L -7.497219 3.904125 L -7.305812 3.943187 L -7.1105 3.904125 L -6.919094 3.751781 L -6.801906 3.556469 L -6.76675 3.365062 L -6.76675 3.16975 L -6.880031 3.091625 L -7.848781 3.091625 L -7.883937 3.247875 Z M -6.76675 3.0135 L -5.798 3.0135 L -5.719875 2.900219 L -5.719875 2.704906 L -6.684719 2.704906 L -6.76675 2.822094 Z M -5.645656 2.318187 L -1.005031 2.318187 L -0.231594 2.283031 L 0.541844 2.201 L 1.315281 2.087719 L 2.088719 1.931469 L 2.85825 1.740062 L 3.631688 1.505687 L 4.409031 1.236156 L 5.178563 0.8885 L 5.952 0.501781 L 6.725438 0.076 L 7.498875 -0.388844 L 7.963719 -1.08025 L 7.303563 -1.740406 L 6.534031 -2.244313 L 5.760594 -2.357594 L 1.893406 -2.357594 L 1.119969 -2.318531 L 0.350438 -2.201344 L -0.426906 -2.009938 L -1.200344 -1.818531 L -1.969875 -1.545094 L -2.743312 -1.2365 L -3.51675 -0.888844 L -4.290187 -0.424 L -4.755031 0.154125 L -4.020656 -0.193531 L -3.247219 -0.619313 L -2.473781 -1.006031 L -0.926906 -1.545094 L -0.153469 -1.740406 L 0.619969 -1.931813 L 1.393406 -2.049 L 5.256688 -2.049 L 6.030125 -2.009938 L 6.803563 -1.701344 L 7.577 -1.08025 L 6.994969 -0.502125 L 6.221531 -0.0372813 L 5.452 0.306469 L 4.678563 -0.388844 L 3.905125 -0.810719 L 3.131688 -0.966969 L 2.35825 -0.966969 L 1.584813 -0.927906 L 0.811375 -0.658375 L 0.0379375 -0.193531 L -0.731594 0.271312 L -1.274562 0.927562 L -1.778469 1.236156 L -4.098781 1.353344 L -4.794094 1.431469 L -4.251125 1.583812 L -3.477687 1.583812 L -2.708156 1.54475 L -1.930812 1.505687 L -1.157375 1.431469 L -1.044094 2.009594 L -4.907375 2.009594 Z M -3.051906 -4.482594 L -2.899562 -4.095875 L -2.743312 -3.709156 L -2.551906 -3.439625 L -1.005031 -3.439625 L -0.848781 -3.595875 L -1.083156 -3.982594 L -0.926906 -4.174 L 3.327 -4.174 L 3.709813 -4.134938 L 4.018406 -3.865406 L 4.369969 -2.70525 L 4.600438 -2.474781 L 4.752781 -2.670094 L 4.6395 -3.052906 L 4.522313 -3.439625 L 4.409031 -3.826344 L 4.213719 -4.213063 L 3.866063 -4.482594 L 3.479344 -4.521656 L -2.708156 -4.521656 Z M -2.590969 -3.209156 L -2.434719 -2.822438 L -2.282375 -2.435719 L -2.317531 -2.049 L -2.395656 -1.662281 L -2.165187 -1.584156 L -1.969875 -1.89275 L -1.895656 -2.279469 L -2.008937 -2.670094 L -1.930812 -2.939625 L -1.157375 -2.939625 L -0.813625 -2.822438 L -0.57925 -2.435719 L -0.348781 -2.166188 L -0.118312 -2.318531 L -0.57925 -3.091969 L -0.848781 -3.283375 L -2.395656 -3.283375 Z M 0.580906 0.3885 L 0.772313 0.462719 L 0.967625 0.462719 L 1.04575 0.271312 L 0.928563 0.271312 L 0.772313 0.349437 L 0.655125 0.23225 L 0.580906 0.349437 Z M 1.702 0.849437 L 1.776219 1.04475 L 1.932469 1.236156 L 2.127781 1.314281 L 2.5145 1.314281 L 2.705906 1.158031 L 2.823094 0.966625 L 2.85825 0.775219 L 2.85825 0.579906 L 2.744969 0.3885 L 2.549656 0.23225 L 2.35825 0.193187 L 2.162938 0.193187 L 1.971531 0.271312 L 1.819188 0.423656 L 1.741063 0.618969 L 1.702 0.810375 Z M 7.190281 -2.049 L 8.155125 -2.049 L 8.23325 -2.166188 L 8.23325 -2.357594 L 7.268406 -2.357594 L 7.190281 -2.244313 Z M 8.23325 -1.970875 L 8.272313 -1.775563 L 8.311375 -1.584156 L 8.385594 -1.39275 L 8.541844 -1.2365 L 8.737156 -1.158375 L 8.928563 -1.158375 L 9.123875 -1.2365 L 9.276219 -1.431813 L 9.354344 -1.623219 L 9.393406 -1.818531 L 9.393406 -2.009938 L 9.584813 -2.049 L 10.35825 -2.049 L 10.436375 -2.166188 L 10.436375 -2.357594 L 9.471531 -2.357594 L 9.393406 -2.244313 L 9.393406 -2.049 L 9.198094 -2.009938 L 8.428563 -2.009938 Z M 8.272313 -2.435719 L 9.237156 -2.435719 L 9.354344 -2.513844 L 9.354344 -3.283375 L 9.315281 -3.478688 L 9.276219 -3.670094 L 9.237156 -3.865406 L 9.198094 -4.056813 L 9.159031 -4.252125 L 9.084813 -4.447438 L 9.006688 -4.638844 L 8.811375 -4.752125 L 8.619969 -4.638844 L 8.541844 -4.447438 L 8.463719 -4.252125 L 8.428563 -4.056813 L 8.385594 -3.865406 L 8.350438 -3.670094 L 8.311375 -3.478688 L 8.311375 -3.283375 L 8.272313 -3.091969 Z M -9.278469 0.579906 L -9.2355 0.73225 L -9.2355 1.314281 L -9.161281 1.431469 L -9.083156 1.54475 L -8.965969 1.622875 L -8.852687 1.701 L -8.696437 1.740062 L -8.57925 1.818187 L -8.465969 1.892406 L -8.348781 1.970531 L -8.2355 2.048656 L -8.07925 2.087719 L -7.962062 2.165844 L -7.883937 2.126781 L -7.883937 1.740062 L -7.848781 1.583812 L -7.848781 1.392406 L -7.809719 1.236156 L -7.770656 1.083812 L -7.848781 0.966625 L -8.001125 0.927562 L -8.157375 0.8885 L -8.270656 0.810375 L -8.426906 0.775219 L -8.544094 0.697094 L -8.696437 0.658031 L -8.813625 0.579906 L -8.965969 0.540844 L -9.122219 0.501781 L -9.2355 0.423656 Z M -7.536281 2.283031 L -7.153469 2.283031 L -7.153469 1.779125 L -7.188625 1.622875 L -7.227687 1.470531 L -7.305812 1.158031 L -7.344875 1.005687 L -7.344875 1.04475 L -7.383937 1.197094 L -7.423 1.353344 L -7.462062 1.505687 L -7.462062 1.701 L -7.497219 1.85725 L -7.497219 2.048656 L -7.536281 2.201 Z M -6.919094 1.04475 L -6.880031 1.197094 L -6.840969 1.353344 L -6.801906 1.505687 L -6.76675 1.661937 L -6.76675 2.048656 L -6.684719 2.165844 L -6.571437 2.087719 L -6.45425 2.009594 L -6.340969 1.931469 L -6.184719 1.892406 L -6.071437 1.818187 L -5.719875 1.583812 L -5.567531 1.54475 L -5.489406 1.431469 L -5.450344 1.275219 L -5.450344 0.501781 L -5.528469 0.462719 L -5.684719 0.501781 L -5.798 0.579906 L -5.95425 0.618969 L -6.071437 0.697094 L -6.223781 0.73225 L -6.340969 0.810375 L -6.493312 0.849437 L -6.649562 0.8885 L -6.76675 0.966625 L -6.919094 1.005687 Z M -2.512844 -4.095875 L -2.434719 -3.982594 L -2.395656 -3.826344 L -1.430812 -3.826344 L -1.508937 -3.943531 L -1.583156 -4.056813 L -1.700344 -4.134938 L -2.473781 -4.134938 Z M -0.926906 1.04475 L -0.774562 1.275219 L -0.618312 1.505687 L -0.462062 1.740062 L -0.270656 1.931469 L 0.077 1.892406 L 0.424656 1.85725 L 0.772313 1.818187 L 1.080906 1.740062 L 1.432469 1.701 L 2.049656 1.54475 L 2.397313 1.505687 L 2.666844 1.392406 L 3.284031 1.236156 L 3.557469 1.118969 L 3.866063 1.04475 L 4.135594 0.927562 L 4.409031 0.810375 L 4.678563 0.697094 L 4.948094 0.579906 L 5.026219 0.423656 L 4.830906 0.23225 L 4.6395 0.0369375 L 4.409031 -0.115406 L 4.174656 -0.271656 L 3.944188 -0.424 L 3.631688 -0.502125 L 3.327 -0.58025 L 3.131688 -0.463063 L 2.975438 -0.232594 L 2.784031 -0.0372813 L 2.5145 0.076 L 2.127781 0.076 L 1.819188 0.00178125 L 1.702 -0.271656 L 1.623875 -0.58025 L 1.467625 -0.349781 L 1.467625 0.0369375 L 1.237156 0.193187 L 0.463719 0.193187 L 0.194188 0.154125 L -0.0401875 0.306469 L -0.309719 0.423656 L -0.540187 0.579906 L -0.774562 0.73225 L -0.926906 0.966625 Z M 8.619969 -2.783375 L 9.006688 -2.783375 L 9.006688 -3.170094 L 8.967625 -3.326344 L 8.967625 -3.51775 L 8.928563 -3.670094 L 8.8895 -3.826344 L 8.854344 -3.982594 L 8.811375 -4.134938 L 8.811375 -4.021656 L 8.772313 -3.865406 L 8.737156 -3.709156 L 8.698094 -3.556813 L 8.659031 -3.400563 L 8.659031 -3.209156 L 8.619969 -3.052906 Z M 8.619969 -2.783375 \\\" transform=\\\"matrix(1,0,0,-1,361.548,235.326)\\\"\\/>\\n<path style=\\\"fill-rule:nonzero;fill:rgb(0%,0%,0%);fill-opacity:1;stroke-width:0.3985;stroke-linecap:butt;stroke-linejoin:miter;stroke:rgb(0%,0%,0%);stroke-opacity:1;stroke-miterlimit:10;\\\" d=\\\"M -2.551906 122.247875 L 2.549656 122.247875 L 2.549656 122.587719 L -2.551906 122.587719 Z M 2.127781 122.587719 L 2.127781 123.693187 Z M -2.126125 122.587719 L -2.126125 123.693187 Z M -2.977687 123.693187 L -1.274562 123.693187 Z M 1.276219 123.693187 L 2.975438 123.693187 Z M -0.001125 122.587719 L -0.001125 123.267406 Z M -0.848781 123.267406 L 0.850438 123.267406 Z M -0.848781 123.267406 \\\" transform=\\\"matrix(1,0,0,-1,361.548,235.326)\\\"\\/>\\n<path style=\\\"fill-rule:nonzero;fill:rgb(59.999084%,79.998779%,100%);fill-opacity:1;stroke-width:0.3985;stroke-linecap:butt;stroke-linejoin:miter;stroke:rgb(59.999084%,79.998779%,100%);stroke-opacity:1;stroke-miterlimit:10;\\\" d=\\\"M 168.369969 144.181469 C 168.369969 144.73225 167.924656 145.177562 167.373875 145.177562 C 166.827 145.177562 166.377781 144.73225 166.377781 144.181469 C 166.377781 143.630687 166.827 143.185375 167.373875 143.185375 C 167.924656 143.185375 168.369969 143.630687 168.369969 144.181469 Z M 168.369969 144.181469 \\\" transform=\\\"matrix(1,0,0,-1,361.548,235.326)\\\"\\/>\\n<path style=\\\"fill-rule:nonzero;fill:rgb(59.999084%,79.998779%,100%);fill-opacity:1;stroke-width:0.3985;stroke-linecap:butt;stroke-linejoin:miter;stroke:rgb(59.999084%,79.998779%,100%);stroke-opacity:1;stroke-miterlimit:10;\\\" d=\\\"M 170.030125 144.181469 C 170.030125 144.73225 169.584813 145.177562 169.034031 145.177562 C 168.48325 145.177562 168.037938 144.73225 168.037938 144.181469 C 168.037938 143.630687 168.48325 143.185375 169.034031 143.185375 C 169.584813 143.185375 170.030125 143.630687 170.030125 144.181469 Z M 170.030125 144.181469 \\\" transform=\\\"matrix(1,0,0,-1,361.548,235.326)\\\"\\/>\\n<path style=\\\"fill-rule:nonzero;fill:rgb(59.999084%,79.998779%,100%);fill-opacity:1;stroke-width:0.3985;stroke-linecap:butt;stroke-linejoin:miter;stroke:rgb(59.999084%,79.998779%,100%);stroke-opacity:1;stroke-miterlimit:10;\\\" d=\\\"M 171.686375 144.181469 C 171.686375 144.73225 171.241063 145.177562 170.690281 145.177562 C 170.1395 145.177562 169.694188 144.73225 169.694188 144.181469 C 169.694188 143.630687 170.1395 143.185375 170.690281 143.185375 C 171.241063 143.185375 171.686375 143.630687 171.686375 144.181469 Z M 171.686375 144.181469 \\\" transform=\\\"matrix(1,0,0,-1,361.548,235.326)\\\"\\/>\\n<path style=\\\"fill-rule:nonzero;fill:rgb(59.999084%,79.998779%,100%);fill-opacity:1;stroke-width:0.3985;stroke-linecap:butt;stroke-linejoin:miter;stroke:rgb(59.999084%,79.998779%,100%);stroke-opacity:1;stroke-miterlimit:10;\\\" d=\\\"M 173.342625 144.181469 C 173.342625 144.73225 172.897313 145.177562 172.346531 145.177562 C 171.79575 145.177562 171.350438 144.73225 171.350438 144.181469 C 171.350438 143.630687 171.79575 143.185375 172.346531 143.185375 C 172.897313 143.185375 173.342625 143.630687 173.342625 144.181469 Z M 173.342625 144.181469 \\\" transform=\\\"matrix(1,0,0,-1,361.548,235.326)\\\"\\/>\\n<path style=\\\"fill-rule:nonzero;fill:rgb(59.999084%,79.998779%,100%);fill-opacity:1;stroke-width:0.3985;stroke-linecap:butt;stroke-linejoin:miter;stroke:rgb(59.999084%,79.998779%,100%);stroke-opacity:1;stroke-miterlimit:10;\\\" d=\\\"M 174.998875 144.181469 C 174.998875 144.73225 174.553563 145.177562 174.002781 145.177562 C 173.455906 145.177562 173.006688 144.73225 173.006688 144.181469 C 173.006688 143.630687 173.455906 143.185375 174.002781 143.185375 C 174.553563 143.185375 174.998875 143.630687 174.998875 144.181469 Z M 174.998875 144.181469 \\\" transform=\\\"matrix(1,0,0,-1,361.548,235.326)\\\"\\/>\\n<path style=\\\"fill-rule:nonzero;fill:rgb(59.999084%,79.998779%,100%);fill-opacity:1;stroke-width:0.3985;stroke-linecap:butt;stroke-linejoin:miter;stroke:rgb(59.999084%,79.998779%,100%);stroke-opacity:1;stroke-miterlimit:10;\\\" d=\\\"M 176.659031 144.181469 C 176.659031 144.73225 176.209813 145.177562 175.662938 145.177562 C 175.112156 145.177562 174.666844 144.73225 174.666844 144.181469 C 174.666844 143.630687 175.112156 143.185375 175.662938 143.185375 C 176.209813 143.185375 176.659031 143.630687 176.659031 144.181469 Z M 176.659031 144.181469 \\\" transform=\\\"matrix(1,0,0,-1,361.548,235.326)\\\"\\/>\\n<path style=\\\"fill-rule:nonzero;fill:rgb(59.999084%,79.998779%,100%);fill-opacity:1;stroke-width:0.3985;stroke-linecap:butt;stroke-linejoin:miter;stroke:rgb(59.999084%,79.998779%,100%);stroke-opacity:1;stroke-miterlimit:10;\\\" d=\\\"M 178.315281 144.181469 C 178.315281 144.73225 177.869969 145.177562 177.319188 145.177562 C 176.768406 145.177562 176.323094 144.73225 176.323094 144.181469 C 176.323094 143.630687 176.768406 143.185375 177.319188 143.185375 C 177.869969 143.185375 178.315281 143.630687 178.315281 144.181469 Z M 178.315281 144.181469 \\\" transform=\\\"matrix(1,0,0,-1,361.548,235.326)\\\"\\/>\\n<path style=\\\"fill-rule:nonzero;fill:rgb(59.999084%,79.998779%,100%);fill-opacity:1;stroke-width:0.3985;stroke-linecap:butt;stroke-linejoin:miter;stroke:rgb(59.999084%,79.998779%,100%);stroke-opacity:1;stroke-miterlimit:10;\\\" d=\\\"M 179.971531 144.181469 C 179.971531 144.73225 179.526219 145.177562 178.975438 145.177562 C 178.424656 145.177562 177.979344 144.73225 177.979344 144.181469 C 177.979344 143.630687 178.424656 143.185375 178.975438 143.185375 C 179.526219 143.185375 179.971531 143.630687 179.971531 144.181469 Z M 179.971531 144.181469 \\\" transform=\\\"matrix(1,0,0,-1,361.548,235.326)\\\"\\/>\\n<path style=\\\"fill-rule:nonzero;fill:rgb(59.999084%,79.998779%,100%);fill-opacity:1;stroke-width:0.3985;stroke-linecap:butt;stroke-linejoin:miter;stroke:rgb(59.999084%,79.998779%,100%);stroke-opacity:1;stroke-miterlimit:10;\\\" d=\\\"M 181.627781 144.181469 C 181.627781 144.73225 181.182469 145.177562 180.631688 145.177562 C 180.080906 145.177562 179.635594 144.73225 179.635594 144.181469 C 179.635594 143.630687 180.080906 143.185375 180.631688 143.185375 C 181.182469 143.185375 181.627781 143.630687 181.627781 144.181469 Z M 181.627781 144.181469 \\\" transform=\\\"matrix(1,0,0,-1,361.548,235.326)\\\"\\/>\\n<path style=\\\"fill-rule:nonzero;fill:rgb(59.999084%,79.998779%,100%);fill-opacity:1;stroke-width:0.3985;stroke-linecap:butt;stroke-linejoin:miter;stroke:rgb(59.999084%,79.998779%,100%);stroke-opacity:1;stroke-miterlimit:10;\\\" d=\\\"M 183.287938 144.181469 C 183.287938 144.73225 182.838719 145.177562 182.291844 145.177562 C 181.741063 145.177562 181.29575 144.73225 181.29575 144.181469 C 181.29575 143.630687 181.741063 143.185375 182.291844 143.185375 C 182.838719 143.185375 183.287938 143.630687 183.287938 144.181469 Z M 183.287938 144.181469 \\\" transform=\\\"matrix(1,0,0,-1,361.548,235.326)\\\"\\/>\\n<path style=\\\"fill-rule:nonzero;fill:rgb(59.999084%,79.998779%,100%);fill-opacity:1;stroke-width:0.3985;stroke-linecap:butt;stroke-linejoin:miter;stroke:rgb(59.999084%,79.998779%,100%);stroke-opacity:1;stroke-miterlimit:10;\\\" d=\\\"M 184.944188 144.181469 C 184.944188 144.73225 184.498875 145.177562 183.948094 145.177562 C 183.397313 145.177562 182.952 144.73225 182.952 144.181469 C 182.952 143.630687 183.397313 143.185375 183.948094 143.185375 C 184.498875 143.185375 184.944188 143.630687 184.944188 144.181469 Z M 184.944188 144.181469 \\\" transform=\\\"matrix(1,0,0,-1,361.548,235.326)\\\"\\/>\\n<path style=\\\"fill-rule:nonzero;fill:rgb(59.999084%,79.998779%,100%);fill-opacity:1;stroke-width:0.3985;stroke-linecap:butt;stroke-linejoin:miter;stroke:rgb(59.999084%,79.998779%,100%);stroke-opacity:1;stroke-miterlimit:10;\\\" d=\\\"M 186.600438 144.181469 C 186.600438 144.73225 186.155125 145.177562 185.604344 145.177562 C 185.053563 145.177562 184.60825 144.73225 184.60825 144.181469 C 184.60825 143.630687 185.053563 143.185375 185.604344 143.185375 C 186.155125 143.185375 186.600438 143.630687 186.600438 144.181469 Z M 186.600438 144.181469 \\\" transform=\\\"matrix(1,0,0,-1,361.548,235.326)\\\"\\/>\\n<path style=\\\"fill-rule:nonzero;fill:rgb(59.999084%,79.998779%,100%);fill-opacity:1;stroke-width:0.3985;stroke-linecap:butt;stroke-linejoin:miter;stroke:rgb(59.999084%,79.998779%,100%);stroke-opacity:1;stroke-miterlimit:10;\\\" d=\\\"M 188.256688 144.181469 C 188.256688 144.73225 187.811375 145.177562 187.260594 145.177562 C 186.709813 145.177562 186.2645 144.73225 186.2645 144.181469 C 186.2645 143.630687 186.709813 143.185375 187.260594 143.185375 C 187.811375 143.185375 188.256688 143.630687 188.256688 144.181469 Z M 188.256688 144.181469 \\\" transform=\\\"matrix(1,0,0,-1,361.548,235.326)\\\"\\/>\\n<path style=\\\"fill-rule:nonzero;fill:rgb(59.999084%,79.998779%,100%);fill-opacity:1;stroke-width:0.3985;stroke-linecap:butt;stroke-linejoin:miter;stroke:rgb(59.999084%,79.998779%,100%);stroke-opacity:1;stroke-miterlimit:10;\\\" d=\\\"M 189.916844 144.181469 C 189.916844 144.73225 189.467625 145.177562 188.92075 145.177562 C 188.369969 145.177562 187.92075 144.73225 187.92075 144.181469 C 187.92075 143.630687 188.369969 143.185375 188.92075 143.185375 C 189.467625 143.185375 189.916844 143.630687 189.916844 144.181469 Z M 189.916844 144.181469 \\\" transform=\\\"matrix(1,0,0,-1,361.548,235.326)\\\"\\/>\\n<path style=\\\"fill-rule:nonzero;fill:rgb(59.999084%,79.998779%,100%);fill-opacity:1;stroke-width:0.3985;stroke-linecap:butt;stroke-linejoin:miter;stroke:rgb(59.999084%,79.998779%,100%);stroke-opacity:1;stroke-miterlimit:10;\\\" d=\\\"M 191.573094 144.181469 C 191.573094 144.73225 191.127781 145.177562 190.577 145.177562 C 190.026219 145.177562 189.580906 144.73225 189.580906 144.181469 C 189.580906 143.630687 190.026219 143.185375 190.577 143.185375 C 191.127781 143.185375 191.573094 143.630687 191.573094 144.181469 Z M 191.573094 144.181469 \\\" transform=\\\"matrix(1,0,0,-1,361.548,235.326)\\\"\\/>\\n<path style=\\\"fill-rule:nonzero;fill:rgb(59.999084%,79.998779%,100%);fill-opacity:1;stroke-width:0.3985;stroke-linecap:butt;stroke-linejoin:miter;stroke:rgb(59.999084%,79.998779%,100%);stroke-opacity:1;stroke-miterlimit:10;\\\" d=\\\"M 193.229344 144.181469 C 193.229344 144.73225 192.784031 145.177562 192.23325 145.177562 C 191.682469 145.177562 191.237156 144.73225 191.237156 144.181469 C 191.237156 143.630687 191.682469 143.185375 192.23325 143.185375 C 192.784031 143.185375 193.229344 143.630687 193.229344 144.181469 Z M 193.229344 144.181469 \\\" transform=\\\"matrix(1,0,0,-1,361.548,235.326)\\\"\\/>\\n<path style=\\\"fill-rule:nonzero;fill:rgb(59.999084%,79.998779%,100%);fill-opacity:1;stroke-width:0.3985;stroke-linecap:butt;stroke-linejoin:miter;stroke:rgb(59.999084%,79.998779%,100%);stroke-opacity:1;stroke-miterlimit:10;\\\" d=\\\"M 194.885594 144.181469 C 194.885594 144.73225 194.440281 145.177562 193.8895 145.177562 C 193.338719 145.177562 192.893406 144.73225 192.893406 144.181469 C 192.893406 143.630687 193.338719 143.185375 193.8895 143.185375 C 194.440281 143.185375 194.885594 143.630687 194.885594 144.181469 Z M 194.885594 144.181469 \\\" transform=\\\"matrix(1,0,0,-1,361.548,235.326)\\\"\\/>\\n<path style=\\\"fill-rule:nonzero;fill:rgb(59.999084%,79.998779%,100%);fill-opacity:1;stroke-width:0.3985;stroke-linecap:butt;stroke-linejoin:miter;stroke:rgb(59.999084%,79.998779%,100%);stroke-opacity:1;stroke-miterlimit:10;\\\" d=\\\"M 196.54575 144.181469 C 196.54575 144.73225 196.096531 145.177562 195.54575 145.177562 C 194.998875 145.177562 194.549656 144.73225 194.549656 144.181469 C 194.549656 143.630687 194.998875 143.185375 195.54575 143.185375 C 196.096531 143.185375 196.54575 143.630687 196.54575 144.181469 Z M 196.54575 144.181469 \\\" transform=\\\"matrix(1,0,0,-1,361.548,235.326)\\\"\\/>\\n<path style=\\\"fill-rule:nonzero;fill:rgb(59.999084%,79.998779%,100%);fill-opacity:1;stroke-width:0.3985;stroke-linecap:butt;stroke-linejoin:miter;stroke:rgb(59.999084%,79.998779%,100%);stroke-opacity:1;stroke-miterlimit:10;\\\" d=\\\"M 198.202 144.181469 C 198.202 144.73225 197.756688 145.177562 197.205906 145.177562 C 196.655125 145.177562 196.209813 144.73225 196.209813 144.181469 C 196.209813 143.630687 196.655125 143.185375 197.205906 143.185375 C 197.756688 143.185375 198.202 143.630687 198.202 144.181469 Z M 198.202 144.181469 \\\" transform=\\\"matrix(1,0,0,-1,361.548,235.326)\\\"\\/>\\n<path style=\\\"fill-rule:nonzero;fill:rgb(59.999084%,79.998779%,100%);fill-opacity:1;stroke-width:0.3985;stroke-linecap:butt;stroke-linejoin:miter;stroke:rgb(59.999084%,79.998779%,100%);stroke-opacity:1;stroke-miterlimit:10;\\\" d=\\\"M 199.85825 144.181469 C 199.85825 144.73225 199.412938 145.177562 198.862156 145.177562 C 198.311375 145.177562 197.866063 144.73225 197.866063 144.181469 C 197.866063 143.630687 198.311375 143.185375 198.862156 143.185375 C 199.412938 143.185375 199.85825 143.630687 199.85825 144.181469 Z M 199.85825 144.181469 \\\" transform=\\\"matrix(1,0,0,-1,361.548,235.326)\\\"\\/>\\n<g style=\\\"fill:rgb(0%,0%,0%);fill-opacity:1;\\\">\\n  <use xlink:href=\\\"#glyph-1562715734929674-0-32\\\" x=\\\"442.131\\\" y=\\\"274.74\\\"\\/>\\n  <use xlink:href=\\\"#glyph-1562715734929674-0-4\\\" x=\\\"449.326019\\\" y=\\\"274.74\\\"\\/>\\n  <use xlink:href=\\\"#glyph-1562715734929674-0-27\\\" x=\\\"452.09364\\\" y=\\\"274.74\\\"\\/>\\n  <use xlink:href=\\\"#glyph-1562715734929674-0-12\\\" x=\\\"460.395508\\\" y=\\\"274.74\\\"\\/>\\n<\\/g>\\n<g style=\\\"fill:rgb(0%,0%,0%);fill-opacity:1;\\\">\\n  <use xlink:href=\\\"#glyph-1562715734929674-0-26\\\" x=\\\"468.140464\\\" y=\\\"274.74\\\"\\/>\\n  <use xlink:href=\\\"#glyph-1562715734929674-0-25\\\" x=\\\"472.014935\\\" y=\\\"274.74\\\"\\/>\\n  <use xlink:href=\\\"#glyph-1562715734929674-0-28\\\" x=\\\"475.9442\\\" y=\\\"274.74\\\"\\/>\\n<\\/g>\\n<g style=\\\"fill:rgb(0%,0%,0%);fill-opacity:1;\\\">\\n  <use xlink:href=\\\"#glyph-1562715734929674-3-9\\\" x=\\\"313.866\\\" y=\\\"186.639\\\"\\/>\\n  <use xlink:href=\\\"#glyph-1562715734929674-3-10\\\" x=\\\"313.866\\\" y=\\\"179.16702\\\"\\/>\\n  <use xlink:href=\\\"#glyph-1562715734929674-3-4\\\" x=\\\"313.866\\\" y=\\\"176.399399\\\"\\/>\\n  <use xlink:href=\\\"#glyph-1562715734929674-3-11\\\" x=\\\"313.866\\\" y=\\\"172.524928\\\"\\/>\\n  <use xlink:href=\\\"#glyph-1562715734929674-3-4\\\" x=\\\"313.866\\\" y=\\\"169.757307\\\"\\/>\\n  <use xlink:href=\\\"#glyph-1562715734929674-3-12\\\" x=\\\"313.866\\\" y=\\\"165.882836\\\"\\/>\\n  <use xlink:href=\\\"#glyph-1562715734929674-3-13\\\" x=\\\"313.866\\\" y=\\\"160.347593\\\"\\/>\\n  <use xlink:href=\\\"#glyph-1562715734929674-3-14\\\" x=\\\"313.866\\\" y=\\\"154.81235\\\"\\/>\\n<\\/g>\\n<g style=\\\"fill:rgb(0%,0%,0%);fill-opacity:1;\\\">\\n  <use xlink:href=\\\"#glyph-1562715734929674-3-6\\\" x=\\\"313.866\\\" y=\\\"147.067394\\\"\\/>\\n  <use xlink:href=\\\"#glyph-1562715734929674-3-15\\\" x=\\\"313.866\\\" y=\\\"143.192923\\\"\\/>\\n  <use xlink:href=\\\"#glyph-1562715734929674-3-4\\\" x=\\\"313.866\\\" y=\\\"140.14834\\\"\\/>\\n  <use xlink:href=\\\"#glyph-1562715734929674-3-8\\\" x=\\\"313.866\\\" y=\\\"136.27387\\\"\\/>\\n<\\/g>\\n<g style=\\\"fill:rgb(0%,0%,0%);fill-opacity:1;\\\">\\n  <use xlink:href=\\\"#glyph-1562715734929674-0-16\\\" x=\\\"428.225\\\" y=\\\"59.052\\\"\\/>\\n<\\/g>\\n<g style=\\\"fill:rgb(0%,0%,0%);fill-opacity:1;\\\">\\n  <use xlink:href=\\\"#glyph-1562715734929674-0-12\\\" x=\\\"434.870081\\\" y=\\\"59.052\\\"\\/>\\n  <use xlink:href=\\\"#glyph-1562715734929674-0-3\\\" x=\\\"439.297478\\\" y=\\\"59.052\\\"\\/>\\n  <use xlink:href=\\\"#glyph-1562715734929674-0-7\\\" x=\\\"443.199844\\\" y=\\\"59.052\\\"\\/>\\n  <use xlink:href=\\\"#glyph-1562715734929674-0-4\\\" x=\\\"447.074315\\\" y=\\\"59.052\\\"\\/>\\n  <use xlink:href=\\\"#glyph-1562715734929674-0-17\\\" x=\\\"449.841936\\\" y=\\\"59.052\\\"\\/>\\n  <use xlink:href=\\\"#glyph-1562715734929674-0-8\\\" x=\\\"454.269333\\\" y=\\\"59.052\\\"\\/>\\n  <use xlink:href=\\\"#glyph-1562715734929674-0-9\\\" x=\\\"459.250653\\\" y=\\\"59.052\\\"\\/>\\n<\\/g>\\n<g style=\\\"fill:rgb(0%,0%,0%);fill-opacity:1;\\\">\\n  <use xlink:href=\\\"#glyph-1562715734929674-0-35\\\" x=\\\"465.335834\\\" y=\\\"59.052\\\"\\/>\\n  <use xlink:href=\\\"#glyph-1562715734929674-0-3\\\" x=\\\"472.116407\\\" y=\\\"59.052\\\"\\/>\\n  <use xlink:href=\\\"#glyph-1562715734929674-0-2\\\" x=\\\"476.018773\\\" y=\\\"59.052\\\"\\/>\\n  <use xlink:href=\\\"#glyph-1562715734929674-0-36\\\" x=\\\"481.000093\\\" y=\\\"59.052\\\"\\/>\\n  <use xlink:href=\\\"#glyph-1562715734929674-0-9\\\" x=\\\"486.535336\\\" y=\\\"59.052\\\"\\/>\\n  <use xlink:href=\\\"#glyph-1562715734929674-0-12\\\" x=\\\"489.302957\\\" y=\\\"59.052\\\"\\/>\\n<\\/g>\\n<use xlink:href=\\\"#image-1562715734929674-14\\\" transform=\\\"matrix(1.25253,0,0,1.81963,636.986,68.521)\\\"\\/>\\n<g style=\\\"fill:rgb(0%,0%,0%);fill-opacity:1;\\\">\\n  <use xlink:href=\\\"#glyph-1562715734929674-0-10\\\" x=\\\"688.099\\\" y=\\\"87.419\\\"\\/>\\n  <use xlink:href=\\\"#glyph-1562715734929674-0-37\\\" x=\\\"695.432499\\\" y=\\\"87.419\\\"\\/>\\n<\\/g>\\n<g style=\\\"fill:rgb(0%,0%,0%);fill-opacity:1;\\\">\\n  <use xlink:href=\\\"#glyph-1562715734929674-0-19\\\" x=\\\"706.222038\\\" y=\\\"87.419\\\"\\/>\\n  <use xlink:href=\\\"#glyph-1562715734929674-0-13\\\" x=\\\"711.203358\\\" y=\\\"87.419\\\"\\/>\\n<\\/g>\\n<g style=\\\"fill:rgb(0%,0%,0%);fill-opacity:1;\\\">\\n  <use xlink:href=\\\"#glyph-1562715734929674-0-38\\\" x=\\\"718.394392\\\" y=\\\"87.419\\\"\\/>\\n  <use xlink:href=\\\"#glyph-1562715734929674-0-39\\\" x=\\\"725.589411\\\" y=\\\"87.419\\\"\\/>\\n  <use xlink:href=\\\"#glyph-1562715734929674-0-38\\\" x=\\\"733.338352\\\" y=\\\"87.419\\\"\\/>\\n<\\/g>\\n<g style=\\\"fill:rgb(0%,0%,0%);fill-opacity:1;\\\">\\n  <use xlink:href=\\\"#glyph-1562715734929674-0-10\\\" x=\\\"688.099\\\" y=\\\"110.16\\\"\\/>\\n  <use xlink:href=\\\"#glyph-1562715734929674-0-37\\\" x=\\\"695.432499\\\" y=\\\"110.16\\\"\\/>\\n<\\/g>\\n<g style=\\\"fill:rgb(0%,0%,0%);fill-opacity:1;\\\">\\n  <use xlink:href=\\\"#glyph-1562715734929674-0-21\\\" x=\\\"706.222038\\\" y=\\\"110.16\\\"\\/>\\n  <use xlink:href=\\\"#glyph-1562715734929674-0-13\\\" x=\\\"711.203358\\\" y=\\\"110.16\\\"\\/>\\n<\\/g>\\n<g style=\\\"fill:rgb(0%,0%,0%);fill-opacity:1;\\\">\\n  <use xlink:href=\\\"#glyph-1562715734929674-0-40\\\" x=\\\"718.394392\\\" y=\\\"110.16\\\"\\/>\\n  <use xlink:href=\\\"#glyph-1562715734929674-0-41\\\" x=\\\"728.633993\\\" y=\\\"110.16\\\"\\/>\\n<\\/g>\\n<g style=\\\"fill:rgb(0%,0%,0%);fill-opacity:1;\\\">\\n  <use xlink:href=\\\"#glyph-1562715734929674-0-10\\\" x=\\\"688.099\\\" y=\\\"132.902\\\"\\/>\\n  <use xlink:href=\\\"#glyph-1562715734929674-0-37\\\" x=\\\"695.432499\\\" y=\\\"132.902\\\"\\/>\\n<\\/g>\\n<g style=\\\"fill:rgb(0%,0%,0%);fill-opacity:1;\\\">\\n  <use xlink:href=\\\"#glyph-1562715734929674-0-34\\\" x=\\\"706.222038\\\" y=\\\"132.902\\\"\\/>\\n  <use xlink:href=\\\"#glyph-1562715734929674-0-13\\\" x=\\\"711.203358\\\" y=\\\"132.902\\\"\\/>\\n<\\/g>\\n<g style=\\\"fill:rgb(0%,0%,0%);fill-opacity:1;\\\">\\n  <use xlink:href=\\\"#glyph-1562715734929674-0-40\\\" x=\\\"718.394392\\\" y=\\\"132.902\\\"\\/>\\n<\\/g>\\n<g style=\\\"fill:rgb(0%,0%,0%);fill-opacity:1;\\\">\\n  <use xlink:href=\\\"#glyph-1562715734929674-0-37\\\" x=\\\"727.538103\\\" y=\\\"132.902\\\"\\/>\\n<\\/g>\\n<g style=\\\"fill:rgb(0%,0%,0%);fill-opacity:1;\\\">\\n  <use xlink:href=\\\"#glyph-1562715734929674-0-10\\\" x=\\\"688.099\\\" y=\\\"155.644\\\"\\/>\\n  <use xlink:href=\\\"#glyph-1562715734929674-0-37\\\" x=\\\"695.432499\\\" y=\\\"155.644\\\"\\/>\\n<\\/g>\\n<g style=\\\"fill:rgb(0%,0%,0%);fill-opacity:1;\\\">\\n  <use xlink:href=\\\"#glyph-1562715734929674-0-18\\\" x=\\\"706.222038\\\" y=\\\"155.644\\\"\\/>\\n  <use xlink:href=\\\"#glyph-1562715734929674-0-13\\\" x=\\\"711.203358\\\" y=\\\"155.644\\\"\\/>\\n<\\/g>\\n<g style=\\\"fill:rgb(0%,0%,0%);fill-opacity:1;\\\">\\n  <use xlink:href=\\\"#glyph-1562715734929674-0-42\\\" x=\\\"718.394392\\\" y=\\\"155.644\\\"\\/>\\n  <use xlink:href=\\\"#glyph-1562715734929674-0-41\\\" x=\\\"723.929635\\\" y=\\\"155.644\\\"\\/>\\n<\\/g>\\n<g style=\\\"fill:rgb(0%,0%,0%);fill-opacity:1;\\\">\\n  <use xlink:href=\\\"#glyph-1562715734929674-0-10\\\" x=\\\"688.099\\\" y=\\\"178.386\\\"\\/>\\n  <use xlink:href=\\\"#glyph-1562715734929674-0-37\\\" x=\\\"695.432499\\\" y=\\\"178.386\\\"\\/>\\n<\\/g>\\n<g style=\\\"fill:rgb(0%,0%,0%);fill-opacity:1;\\\">\\n  <use xlink:href=\\\"#glyph-1562715734929674-0-14\\\" x=\\\"706.222038\\\" y=\\\"178.386\\\"\\/>\\n  <use xlink:href=\\\"#glyph-1562715734929674-0-13\\\" x=\\\"711.203358\\\" y=\\\"178.386\\\"\\/>\\n<\\/g>\\n<g style=\\\"fill:rgb(0%,0%,0%);fill-opacity:1;\\\">\\n  <use xlink:href=\\\"#glyph-1562715734929674-0-42\\\" x=\\\"718.394392\\\" y=\\\"178.386\\\"\\/>\\n  <use xlink:href=\\\"#glyph-1562715734929674-0-37\\\" x=\\\"723.929635\\\" y=\\\"178.386\\\"\\/>\\n<\\/g>\\n<path style=\\\"fill:none;stroke-width:0.3985;stroke-linecap:butt;stroke-linejoin:miter;stroke:rgb(0%,0%,0%);stroke-opacity:1;stroke-miterlimit:10;\\\" d=\\\"M 31.596031 160.038687 L 43.553063 160.038687 L 43.553063 171.995719 L 31.596031 171.995719 Z M 31.596031 160.038687 \\\" transform=\\\"matrix(1,0,0,-1,636.986,250.484)\\\"\\/>\\n<path style=\\\"fill-rule:nonzero;fill:rgb(100%,79.998779%,59.999084%);fill-opacity:1;stroke-width:0.3985;stroke-linecap:butt;stroke-linejoin:miter;stroke:rgb(100%,79.998779%,59.999084%);stroke-opacity:1;stroke-miterlimit:10;\\\" d=\\\"M 31.596031 137.2965 L 43.553063 137.2965 L 43.553063 149.253531 L 31.596031 149.253531 Z M 31.596031 137.2965 \\\" transform=\\\"matrix(1,0,0,-1,636.986,250.484)\\\"\\/>\\n<path style=\\\"fill-rule:nonzero;fill:rgb(59.999084%,100%,59.999084%);fill-opacity:1;stroke-width:0.3985;stroke-linecap:butt;stroke-linejoin:miter;stroke:rgb(59.999084%,100%,59.999084%);stroke-opacity:1;stroke-miterlimit:10;\\\" d=\\\"M 31.596031 114.554312 L 43.553063 114.554312 L 43.553063 126.511344 L 31.596031 126.511344 Z M 31.596031 114.554312 \\\" transform=\\\"matrix(1,0,0,-1,636.986,250.484)\\\"\\/>\\n<path style=\\\"fill-rule:nonzero;fill:rgb(100%,50.195312%,0%);fill-opacity:1;stroke-width:0.3985;stroke-linecap:butt;stroke-linejoin:miter;stroke:rgb(100%,50.195312%,0%);stroke-opacity:1;stroke-miterlimit:10;\\\" d=\\\"M 31.596031 91.812125 L 43.553063 91.812125 L 43.553063 103.769156 L 31.596031 103.769156 Z M 31.596031 91.812125 \\\" transform=\\\"matrix(1,0,0,-1,636.986,250.484)\\\"\\/>\\n<path style=\\\"fill-rule:nonzero;fill:rgb(0%,59.999084%,0%);fill-opacity:1;stroke-width:0.3985;stroke-linecap:butt;stroke-linejoin:miter;stroke:rgb(0%,59.999084%,0%);stroke-opacity:1;stroke-miterlimit:10;\\\" d=\\\"M 31.596031 69.069937 L 43.553063 69.069937 L 43.553063 81.026969 L 31.596031 81.026969 Z M 31.596031 69.069937 \\\" transform=\\\"matrix(1,0,0,-1,636.986,250.484)\\\"\\/>\\n<g style=\\\"fill:rgb(0%,0%,0%);fill-opacity:1;\\\">\\n  <use xlink:href=\\\"#glyph-1562715734929674-0-43\\\" x=\\\"688.608\\\" y=\\\"59.052\\\"\\/>\\n  <use xlink:href=\\\"#glyph-1562715734929674-0-24\\\" x=\\\"696.356941\\\" y=\\\"59.052\\\"\\/>\\n  <use xlink:href=\\\"#glyph-1562715734929674-0-44\\\" x=\\\"703.137514\\\" y=\\\"59.052\\\"\\/>\\n<\\/g>\\n<\\/g>\\n<\\/svg>\\n\\n\"},\"nodeType\":\"DOM\",\"type\":\"node\",\"instanceArgs\":{\"namespace\":\"html\",\"tag\":\"div\"},\"children\":[]}]}}}},\"children\":[{\"props\":{},\"nodeType\":\"ObservableNode\",\"type\":\"node\",\"instanceArgs\":{\"id\":\"ob_102\",\"name\":\"obs-node\"},\"children\":[]}]}]},\n",
       "            window,\n",
       "        );\n",
       "    } else {\n",
       "        document\n",
       "            .querySelector('[data-webio-mountpoint=\"2720867372109768229\"]')\n",
       "            .innerHTML = (\n",
       "                '<strong>WebIO not detected. Please read ' +\n",
       "                '<a href=\"https://juliagizmos.github.io/WebIO.jl/latest/troubleshooting/not-detected/\">the troubleshooting guide</a> ' +\n",
       "                'for more information on how to resolve this issue.' +\n",
       "                '</strong>'\n",
       "            );\n",
       "    }\n",
       "    </script>\n",
       "</div>\n"
      ],
      "text/plain": [
       "Node{WebIO.DOM}(WebIO.DOM(:html, :div), Any[Node{DOM}(DOM(:html, :div), Any[Scope(Node{DOM}(DOM(:html, :div), Any[Node{DOM}(DOM(:html, :div), Any[Node{DOM}(DOM(:html, :label), Any[\"File Name\"], Dict{Symbol,Any}(:className=>\"interact \",:style=>Dict{Any,Any}(:padding=>\"5px 10px 0px 10px\")))], Dict{Symbol,Any}(:className=>\"interact-flex-row-left\")), Node{DOM}(DOM(:html, :div), Any[Node{DOM}(DOM(:html, :input), Any[], Dict{Symbol,Any}(:attributes=>Dict{Any,Any}(:type=>\"text\",Symbol(\"data-bind\")=>\"value: value, valueUpdate: 'input', event: {change: function (){this.changes(this.changes()+1)}}\"),:placeholder=>\"\",:className=>\"input \",:style=>Dict{Any,Any}()))], Dict{Symbol,Any}(:className=>\"interact-flex-row-center\")), Node{DOM}(DOM(:html, :div), Any[Node{DOM}(DOM(:html, :div), Any[], Dict{Symbol,Any}())], Dict{Symbol,Any}(:className=>\"interact-flex-row-right\"))], Dict{Symbol,Any}(:className=>\"interact-flex-row interact-widget\")), Dict{String,Tuple{Observables.AbstractObservable,Union{Nothing, Bool}}}(\"changes\"=>(Observable{Int64} with 2 listeners. Value:\n",
       "0, nothing),\"value\"=>(Observable{String} with 1 listeners. Value:\n",
       "\"myFile.pdf\", nothing)), Set(String[]), nothing, Asset[Asset(\"js\", \"knockout\", \"/home/smkatz/.julia/packages/Knockout/1sDlc/src/../assets/knockout.js\"), Asset(\"js\", \"knockout_punches\", \"/home/smkatz/.julia/packages/Knockout/1sDlc/src/../assets/knockout_punches.js\"), Asset(\"js\", nothing, \"/home/smkatz/.julia/packages/InteractBase/l8cEC/src/../assets/all.js\"), Asset(\"css\", nothing, \"/home/smkatz/.julia/packages/InteractBase/l8cEC/src/../assets/style.css\"), Asset(\"css\", nothing, \"/home/smkatz/.julia/packages/Interact/0klKX/src/../assets/bulma_confined.min.css\")], Dict{Any,Any}(\"changes\"=>Any[JSString(\"(function (val){return (val!=this.model[\\\"changes\\\"]()) ? (this.valueFromJulia[\\\"changes\\\"]=true, this.model[\\\"changes\\\"](val)) : undefined})\")],\"value\"=>Any[JSString(\"(function (val){return (val!=this.model[\\\"value\\\"]()) ? (this.valueFromJulia[\\\"value\\\"]=true, this.model[\\\"value\\\"](val)) : undefined})\")]), ConnectionPool(Channel{Any}(sz_max:32,sz_curr:0), Set(AbstractConnection[]), Condition(Any[Task (runnable) @0x00007fdbb8e2ebf0])), WebIO.JSString[JSString(\"function () {\\n    var handler = (function (ko, koPunches) {\\n    ko.punches.enableAll();\\n    ko.bindingHandlers.numericValue = {\\n        init: function(element, valueAccessor, allBindings, data, context) {\\n            var stringified = ko.observable(ko.unwrap(valueAccessor()));\\n            stringified.subscribe(function(value) {\\n                var val = parseFloat(value);\\n                if (!isNaN(val)) {\\n                    valueAccessor()(val);\\n                }\\n            });\\n            valueAccessor().subscribe(function(value) {\\n                var str = JSON.stringify(value);\\n                if ((str == \\\"0\\\") && ([\\\"-0\\\", \\\"-0.\\\"].indexOf(stringified()) >= 0))\\n                     return;\\n                 if ([\\\"null\\\", \\\"\\\"].indexOf(str) >= 0)\\n                     return;\\n                stringified(str);\\n            });\\n            ko.applyBindingsToNode(\\n                element,\\n                {\\n                    value: stringified,\\n                    valueUpdate: allBindings.get('valueUpdate'),\\n                },\\n                context,\\n            );\\n        }\\n    };\\n    var json_data = {\\\"changes\\\":WebIO.getval({\\\"name\\\":\\\"changes\\\",\\\"scope\\\":\\\"937082067056442627\\\",\\\"id\\\":\\\"ob_90\\\",\\\"type\\\":\\\"observable\\\"}),\\\"value\\\":WebIO.getval({\\\"name\\\":\\\"value\\\",\\\"scope\\\":\\\"937082067056442627\\\",\\\"id\\\":\\\"ob_89\\\",\\\"type\\\":\\\"observable\\\"})};\\n    var self = this;\\n    function AppViewModel() {\\n        for (var key in json_data) {\\n            var el = json_data[key];\\n            this[key] = Array.isArray(el) ? ko.observableArray(el) : ko.observable(el);\\n        }\\n        \\n        \\n        [this[\\\"changes\\\"].subscribe((function (val){!(this.valueFromJulia[\\\"changes\\\"]) ? (WebIO.setval({\\\"name\\\":\\\"changes\\\",\\\"scope\\\":\\\"937082067056442627\\\",\\\"id\\\":\\\"ob_90\\\",\\\"type\\\":\\\"observable\\\"},val)) : undefined; return this.valueFromJulia[\\\"changes\\\"]=false}),self),this[\\\"value\\\"].subscribe((function (val){!(this.valueFromJulia[\\\"value\\\"]) ? (WebIO.setval({\\\"name\\\":\\\"value\\\",\\\"scope\\\":\\\"937082067056442627\\\",\\\"id\\\":\\\"ob_89\\\",\\\"type\\\":\\\"observable\\\"},val)) : undefined; return this.valueFromJulia[\\\"value\\\"]=false}),self)]\\n        \\n    }\\n    self.model = new AppViewModel();\\n    self.valueFromJulia = {};\\n    for (var key in json_data) {\\n        self.valueFromJulia[key] = false;\\n    }\\n    ko.applyBindings(self.model, self.dom);\\n}\\n);\\n    (WebIO.importBlock({\\\"data\\\":[{\\\"name\\\":\\\"knockout\\\",\\\"type\\\":\\\"js\\\",\\\"url\\\":\\\"/assetserver/3bd9b1de736b098e415b41735ebb66f92146af63-knockout.js\\\"},{\\\"name\\\":\\\"knockout_punches\\\",\\\"type\\\":\\\"js\\\",\\\"url\\\":\\\"/assetserver/f693c45e4673819d9631890b2dbb7b49bac52036-knockout_punches.js\\\"}],\\\"type\\\":\\\"async_block\\\"})).then((imports) => handler.apply(this, imports));\\n}\\n\")])], Dict{Symbol,Any}(:className=>\"field interact-widget\")), Node{DOM}(DOM(:html, :div), Any[Scope(Node{DOM}(DOM(:html, :button), Any[\"Save Plot\"], Dict{Symbol,Any}(:attributes=>Dict{Any,Any}(\"data-bind\"=>\"click: function (){this.clicks(this.clicks()+1)}, css: {'is-loading' : loading}\"),:className=>\"is-medium button is-primary\",:style=>Dict{String,Any}())), Dict{String,Tuple{Observables.AbstractObservable,Union{Nothing, Bool}}}(\"loading\"=>(Observable{Bool} with 1 listeners. Value:\n",
       "false, nothing),\"clicks\"=>(Observable{Int64} with 2 listeners. Value:\n",
       "0, nothing)), Set(String[]), nothing, Asset[Asset(\"js\", \"knockout\", \"/home/smkatz/.julia/packages/Knockout/1sDlc/src/../assets/knockout.js\"), Asset(\"js\", \"knockout_punches\", \"/home/smkatz/.julia/packages/Knockout/1sDlc/src/../assets/knockout_punches.js\"), Asset(\"js\", nothing, \"/home/smkatz/.julia/packages/InteractBase/l8cEC/src/../assets/all.js\"), Asset(\"css\", nothing, \"/home/smkatz/.julia/packages/InteractBase/l8cEC/src/../assets/style.css\"), Asset(\"css\", nothing, \"/home/smkatz/.julia/packages/Interact/0klKX/src/../assets/bulma_confined.min.css\")], Dict{Any,Any}(\"loading\"=>Any[JSString(\"(function (val){return (val!=this.model[\\\"loading\\\"]()) ? (this.valueFromJulia[\\\"loading\\\"]=true, this.model[\\\"loading\\\"](val)) : undefined})\")],\"clicks\"=>Any[JSString(\"(function (val){return (val!=this.model[\\\"clicks\\\"]()) ? (this.valueFromJulia[\\\"clicks\\\"]=true, this.model[\\\"clicks\\\"](val)) : undefined})\")]), ConnectionPool(Channel{Any}(sz_max:32,sz_curr:0), Set(AbstractConnection[]), Condition(Any[Task (runnable) @0x00007fdbb8e2f0d0])), WebIO.JSString[JSString(\"function () {\\n    var handler = (function (ko, koPunches) {\\n    ko.punches.enableAll();\\n    ko.bindingHandlers.numericValue = {\\n        init: function(element, valueAccessor, allBindings, data, context) {\\n            var stringified = ko.observable(ko.unwrap(valueAccessor()));\\n            stringified.subscribe(function(value) {\\n                var val = parseFloat(value);\\n                if (!isNaN(val)) {\\n                    valueAccessor()(val);\\n                }\\n            });\\n            valueAccessor().subscribe(function(value) {\\n                var str = JSON.stringify(value);\\n                if ((str == \\\"0\\\") && ([\\\"-0\\\", \\\"-0.\\\"].indexOf(stringified()) >= 0))\\n                     return;\\n                 if ([\\\"null\\\", \\\"\\\"].indexOf(str) >= 0)\\n                     return;\\n                stringified(str);\\n            });\\n            ko.applyBindingsToNode(\\n                element,\\n                {\\n                    value: stringified,\\n                    valueUpdate: allBindings.get('valueUpdate'),\\n                },\\n                context,\\n            );\\n        }\\n    };\\n    var json_data = {\\\"loading\\\":WebIO.getval({\\\"name\\\":\\\"loading\\\",\\\"scope\\\":\\\"1949509288436261334\\\",\\\"id\\\":\\\"ob_93\\\",\\\"type\\\":\\\"observable\\\"}),\\\"clicks\\\":WebIO.getval({\\\"name\\\":\\\"clicks\\\",\\\"scope\\\":\\\"1949509288436261334\\\",\\\"id\\\":\\\"ob_92\\\",\\\"type\\\":\\\"observable\\\"})};\\n    var self = this;\\n    function AppViewModel() {\\n        for (var key in json_data) {\\n            var el = json_data[key];\\n            this[key] = Array.isArray(el) ? ko.observableArray(el) : ko.observable(el);\\n        }\\n        \\n        \\n        [this[\\\"loading\\\"].subscribe((function (val){!(this.valueFromJulia[\\\"loading\\\"]) ? (WebIO.setval({\\\"name\\\":\\\"loading\\\",\\\"scope\\\":\\\"1949509288436261334\\\",\\\"id\\\":\\\"ob_93\\\",\\\"type\\\":\\\"observable\\\"},val)) : undefined; return this.valueFromJulia[\\\"loading\\\"]=false}),self),this[\\\"clicks\\\"].subscribe((function (val){!(this.valueFromJulia[\\\"clicks\\\"]) ? (WebIO.setval({\\\"name\\\":\\\"clicks\\\",\\\"scope\\\":\\\"1949509288436261334\\\",\\\"id\\\":\\\"ob_92\\\",\\\"type\\\":\\\"observable\\\"},val)) : undefined; return this.valueFromJulia[\\\"clicks\\\"]=false}),self)]\\n        \\n    }\\n    self.model = new AppViewModel();\\n    self.valueFromJulia = {};\\n    for (var key in json_data) {\\n        self.valueFromJulia[key] = false;\\n    }\\n    ko.applyBindings(self.model, self.dom);\\n}\\n);\\n    (WebIO.importBlock({\\\"data\\\":[{\\\"name\\\":\\\"knockout\\\",\\\"type\\\":\\\"js\\\",\\\"url\\\":\\\"/assetserver/3bd9b1de736b098e415b41735ebb66f92146af63-knockout.js\\\"},{\\\"name\\\":\\\"knockout_punches\\\",\\\"type\\\":\\\"js\\\",\\\"url\\\":\\\"/assetserver/f693c45e4673819d9631890b2dbb7b49bac52036-knockout_punches.js\\\"}],\\\"type\\\":\\\"async_block\\\"})).then((imports) => handler.apply(this, imports));\\n}\\n\")])], Dict{Symbol,Any}(:className=>\"field interact-widget\")), Node{DOM}(DOM(:html, :div), Any[Scope(Node{DOM}(DOM(:html, :input), Any[], Dict{Symbol,Any}(:max=>51,:min=>1,:attributes=>Dict{Any,Any}(:type=>\"number\",Symbol(\"data-bind\")=>\"numericValue: value, valueUpdate: 'input', event: {change: function (){this.changes(this.changes()+1)}}\"),:step=>1,:placeholder=>\"\",:className=>\"input \",:style=>Dict{Any,Any}())), Dict{String,Tuple{Observables.AbstractObservable,Union{Nothing, Bool}}}(\"changes\"=>(Observable{Int64} with 1 listeners. Value:\n",
       "0, nothing),\"value\"=>(Observable{Union{Nothing, Int64}} with 2 listeners. Value:\n",
       "1, nothing)), Set(String[]), nothing, Asset[Asset(\"js\", \"knockout\", \"/home/smkatz/.julia/packages/Knockout/1sDlc/src/../assets/knockout.js\"), Asset(\"js\", \"knockout_punches\", \"/home/smkatz/.julia/packages/Knockout/1sDlc/src/../assets/knockout_punches.js\"), Asset(\"js\", nothing, \"/home/smkatz/.julia/packages/InteractBase/l8cEC/src/../assets/all.js\"), Asset(\"css\", nothing, \"/home/smkatz/.julia/packages/InteractBase/l8cEC/src/../assets/style.css\"), Asset(\"css\", nothing, \"/home/smkatz/.julia/packages/Interact/0klKX/src/../assets/bulma_confined.min.css\")], Dict{Any,Any}(\"changes\"=>Any[JSString(\"(function (val){return (val!=this.model[\\\"changes\\\"]()) ? (this.valueFromJulia[\\\"changes\\\"]=true, this.model[\\\"changes\\\"](val)) : undefined})\")],\"value\"=>Any[JSString(\"(function (val){return (val!=this.model[\\\"value\\\"]()) ? (this.valueFromJulia[\\\"value\\\"]=true, this.model[\\\"value\\\"](val)) : undefined})\")]), ConnectionPool(Channel{Any}(sz_max:32,sz_curr:0), Set(AbstractConnection[]), Condition(Any[Task (runnable) @0x00007fdbb8e2f340])), WebIO.JSString[JSString(\"function () {\\n    var handler = (function (ko, koPunches) {\\n    ko.punches.enableAll();\\n    ko.bindingHandlers.numericValue = {\\n        init: function(element, valueAccessor, allBindings, data, context) {\\n            var stringified = ko.observable(ko.unwrap(valueAccessor()));\\n            stringified.subscribe(function(value) {\\n                var val = parseFloat(value);\\n                if (!isNaN(val)) {\\n                    valueAccessor()(val);\\n                }\\n            });\\n            valueAccessor().subscribe(function(value) {\\n                var str = JSON.stringify(value);\\n                if ((str == \\\"0\\\") && ([\\\"-0\\\", \\\"-0.\\\"].indexOf(stringified()) >= 0))\\n                     return;\\n                 if ([\\\"null\\\", \\\"\\\"].indexOf(str) >= 0)\\n                     return;\\n                stringified(str);\\n            });\\n            ko.applyBindingsToNode(\\n                element,\\n                {\\n                    value: stringified,\\n                    valueUpdate: allBindings.get('valueUpdate'),\\n                },\\n                context,\\n            );\\n        }\\n    };\\n    var json_data = {\\\"changes\\\":WebIO.getval({\\\"name\\\":\\\"changes\\\",\\\"scope\\\":\\\"366141073293675721\\\",\\\"id\\\":\\\"ob_95\\\",\\\"type\\\":\\\"observable\\\"}),\\\"value\\\":WebIO.getval({\\\"name\\\":\\\"value\\\",\\\"scope\\\":\\\"366141073293675721\\\",\\\"id\\\":\\\"ob_94\\\",\\\"type\\\":\\\"observable\\\"})};\\n    var self = this;\\n    function AppViewModel() {\\n        for (var key in json_data) {\\n            var el = json_data[key];\\n            this[key] = Array.isArray(el) ? ko.observableArray(el) : ko.observable(el);\\n        }\\n        \\n        \\n        [this[\\\"changes\\\"].subscribe((function (val){!(this.valueFromJulia[\\\"changes\\\"]) ? (WebIO.setval({\\\"name\\\":\\\"changes\\\",\\\"scope\\\":\\\"366141073293675721\\\",\\\"id\\\":\\\"ob_95\\\",\\\"type\\\":\\\"observable\\\"},val)) : undefined; return this.valueFromJulia[\\\"changes\\\"]=false}),self),this[\\\"value\\\"].subscribe((function (val){!(this.valueFromJulia[\\\"value\\\"]) ? (WebIO.setval({\\\"name\\\":\\\"value\\\",\\\"scope\\\":\\\"366141073293675721\\\",\\\"id\\\":\\\"ob_94\\\",\\\"type\\\":\\\"observable\\\"},val)) : undefined; return this.valueFromJulia[\\\"value\\\"]=false}),self)]\\n        \\n    }\\n    self.model = new AppViewModel();\\n    self.valueFromJulia = {};\\n    for (var key in json_data) {\\n        self.valueFromJulia[key] = false;\\n    }\\n    ko.applyBindings(self.model, self.dom);\\n}\\n);\\n    (WebIO.importBlock({\\\"data\\\":[{\\\"name\\\":\\\"knockout\\\",\\\"type\\\":\\\"js\\\",\\\"url\\\":\\\"/assetserver/3bd9b1de736b098e415b41735ebb66f92146af63-knockout.js\\\"},{\\\"name\\\":\\\"knockout_punches\\\",\\\"type\\\":\\\"js\\\",\\\"url\\\":\\\"/assetserver/f693c45e4673819d9631890b2dbb7b49bac52036-knockout_punches.js\\\"}],\\\"type\\\":\\\"async_block\\\"})).then((imports) => handler.apply(this, imports));\\n}\\n\")])], Dict{Symbol,Any}(:className=>\"field interact-widget\")), Node{DOM}(DOM(:html, :div), Any[Scope(Node{DOM}(DOM(:html, :div), Any[Node{DOM}(DOM(:html, :div), Any[Node{DOM}(DOM(:html, :label), Any[nothing], Dict{Symbol,Any}(:className=>\"interact \",:style=>Dict{Any,Any}(:padding=>\"5px 10px 0px 10px\")))], Dict{Symbol,Any}(:className=>\"interact-flex-row-left\")), Node{DOM}(DOM(:html, :div), Any[Node{DOM}(DOM(:html, :input), Any[], Dict{Symbol,Any}(:max=>121,:min=>1,:attributes=>Dict{Any,Any}(:type=>\"range\",Symbol(\"data-bind\")=>\"numericValue: index, valueUpdate: 'input', event: {change: function (){this.changes(this.changes()+1)}}\",\"orient\"=>\"horizontal\"),:step=>1,:className=>\"slider slider is-fullwidth\",:style=>Dict{Any,Any}()))], Dict{Symbol,Any}(:className=>\"interact-flex-row-center\")), Node{DOM}(DOM(:html, :div), Any[Node{DOM}(DOM(:html, :p), Any[], Dict{Symbol,Any}(:attributes=>Dict(\"data-bind\"=>\"text: formatted_val\")))], Dict{Symbol,Any}(:className=>\"interact-flex-row-right\"))], Dict{Symbol,Any}(:className=>\"interact-flex-row interact-widget\")), Dict{String,Tuple{Observables.AbstractObservable,Union{Nothing, Bool}}}(\"changes\"=>(Observable{Int64} with 1 listeners. Value:\n",
       "0, nothing),\"index\"=>(Observable{Any} with 2 listeners. Value:\n",
       "1, nothing)), Set(String[]), nothing, Asset[Asset(\"js\", \"knockout\", \"/home/smkatz/.julia/packages/Knockout/1sDlc/src/../assets/knockout.js\"), Asset(\"js\", \"knockout_punches\", \"/home/smkatz/.julia/packages/Knockout/1sDlc/src/../assets/knockout_punches.js\"), Asset(\"js\", nothing, \"/home/smkatz/.julia/packages/InteractBase/l8cEC/src/../assets/all.js\"), Asset(\"css\", nothing, \"/home/smkatz/.julia/packages/InteractBase/l8cEC/src/../assets/style.css\"), Asset(\"css\", nothing, \"/home/smkatz/.julia/packages/Interact/0klKX/src/../assets/bulma_confined.min.css\")], Dict{Any,Any}(\"changes\"=>Any[JSString(\"(function (val){return (val!=this.model[\\\"changes\\\"]()) ? (this.valueFromJulia[\\\"changes\\\"]=true, this.model[\\\"changes\\\"](val)) : undefined})\")],\"index\"=>Any[JSString(\"(function (val){return (val!=this.model[\\\"index\\\"]()) ? (this.valueFromJulia[\\\"index\\\"]=true, this.model[\\\"index\\\"](val)) : undefined})\")]), ConnectionPool(Channel{Any}(sz_max:32,sz_curr:0), Set(AbstractConnection[]), Condition(Any[Task (runnable) @0x00007fdbb8e2f5b0])), WebIO.JSString[JSString(\"function () {\\n    var handler = (function (ko, koPunches) {\\n    ko.punches.enableAll();\\n    ko.bindingHandlers.numericValue = {\\n        init: function(element, valueAccessor, allBindings, data, context) {\\n            var stringified = ko.observable(ko.unwrap(valueAccessor()));\\n            stringified.subscribe(function(value) {\\n                var val = parseFloat(value);\\n                if (!isNaN(val)) {\\n                    valueAccessor()(val);\\n                }\\n            });\\n            valueAccessor().subscribe(function(value) {\\n                var str = JSON.stringify(value);\\n                if ((str == \\\"0\\\") && ([\\\"-0\\\", \\\"-0.\\\"].indexOf(stringified()) >= 0))\\n                     return;\\n                 if ([\\\"null\\\", \\\"\\\"].indexOf(str) >= 0)\\n                     return;\\n                stringified(str);\\n            });\\n            ko.applyBindingsToNode(\\n                element,\\n                {\\n                    value: stringified,\\n                    valueUpdate: allBindings.get('valueUpdate'),\\n                },\\n                context,\\n            );\\n        }\\n    };\\n    var json_data = {\\\"formatted_vals\\\":[\\\"0.0\\\",\\\"1.0\\\",\\\"2.0\\\",\\\"3.0\\\",\\\"4.0\\\",\\\"5.0\\\",\\\"6.0\\\",\\\"7.0\\\",\\\"8.0\\\",\\\"9.0\\\",\\\"10.0\\\",\\\"11.0\\\",\\\"12.0\\\",\\\"13.0\\\",\\\"14.0\\\",\\\"15.0\\\",\\\"16.0\\\",\\\"17.0\\\",\\\"18.0\\\",\\\"19.0\\\",\\\"20.0\\\",\\\"21.0\\\",\\\"22.0\\\",\\\"23.0\\\",\\\"24.0\\\",\\\"25.0\\\",\\\"26.0\\\",\\\"27.0\\\",\\\"28.0\\\",\\\"29.0\\\",\\\"30.0\\\",\\\"31.0\\\",\\\"32.0\\\",\\\"33.0\\\",\\\"34.0\\\",\\\"35.0\\\",\\\"36.0\\\",\\\"37.0\\\",\\\"38.0\\\",\\\"39.0\\\",\\\"40.0\\\",\\\"41.0\\\",\\\"42.0\\\",\\\"43.0\\\",\\\"44.0\\\",\\\"45.0\\\",\\\"46.0\\\",\\\"47.0\\\",\\\"48.0\\\",\\\"49.0\\\",\\\"50.0\\\",\\\"51.0\\\",\\\"52.0\\\",\\\"53.0\\\",\\\"54.0\\\",\\\"55.0\\\",\\\"56.0\\\",\\\"57.0\\\",\\\"58.0\\\",\\\"59.0\\\",\\\"60.0\\\",\\\"61.0\\\",\\\"62.0\\\",\\\"63.0\\\",\\\"64.0\\\",\\\"65.0\\\",\\\"66.0\\\",\\\"67.0\\\",\\\"68.0\\\",\\\"69.0\\\",\\\"70.0\\\",\\\"71.0\\\",\\\"72.0\\\",\\\"73.0\\\",\\\"74.0\\\",\\\"75.0\\\",\\\"76.0\\\",\\\"77.0\\\",\\\"78.0\\\",\\\"79.0\\\",\\\"80.0\\\",\\\"81.0\\\",\\\"82.0\\\",\\\"83.0\\\",\\\"84.0\\\",\\\"85.0\\\",\\\"86.0\\\",\\\"87.0\\\",\\\"88.0\\\",\\\"89.0\\\",\\\"90.0\\\",\\\"91.0\\\",\\\"92.0\\\",\\\"93.0\\\",\\\"94.0\\\",\\\"95.0\\\",\\\"96.0\\\",\\\"97.0\\\",\\\"98.0\\\",\\\"99.0\\\",\\\"100.0\\\",\\\"101.0\\\",\\\"102.0\\\",\\\"103.0\\\",\\\"104.0\\\",\\\"105.0\\\",\\\"106.0\\\",\\\"107.0\\\",\\\"108.0\\\",\\\"109.0\\\",\\\"110.0\\\",\\\"111.0\\\",\\\"112.0\\\",\\\"113.0\\\",\\\"114.0\\\",\\\"115.0\\\",\\\"116.0\\\",\\\"117.0\\\",\\\"118.0\\\",\\\"119.0\\\",\\\"120.0\\\"],\\\"changes\\\":WebIO.getval({\\\"name\\\":\\\"changes\\\",\\\"scope\\\":\\\"10951020670634605094\\\",\\\"id\\\":\\\"ob_98\\\",\\\"type\\\":\\\"observable\\\"}),\\\"index\\\":WebIO.getval({\\\"name\\\":\\\"index\\\",\\\"scope\\\":\\\"10951020670634605094\\\",\\\"id\\\":\\\"ob_97\\\",\\\"type\\\":\\\"observable\\\"})};\\n    var self = this;\\n    function AppViewModel() {\\n        for (var key in json_data) {\\n            var el = json_data[key];\\n            this[key] = Array.isArray(el) ? ko.observableArray(el) : ko.observable(el);\\n        }\\n        \\n        [this[\\\"formatted_val\\\"]=ko.computed(    function(){\\n        return this.formatted_vals()[parseInt(this.index())-(1)];\\n    }\\n,this)]\\n        [this[\\\"changes\\\"].subscribe((function (val){!(this.valueFromJulia[\\\"changes\\\"]) ? (WebIO.setval({\\\"name\\\":\\\"changes\\\",\\\"scope\\\":\\\"10951020670634605094\\\",\\\"id\\\":\\\"ob_98\\\",\\\"type\\\":\\\"observable\\\"},val)) : undefined; return this.valueFromJulia[\\\"changes\\\"]=false}),self),this[\\\"index\\\"].subscribe((function (val){!(this.valueFromJulia[\\\"index\\\"]) ? (WebIO.setval({\\\"name\\\":\\\"index\\\",\\\"scope\\\":\\\"10951020670634605094\\\",\\\"id\\\":\\\"ob_97\\\",\\\"type\\\":\\\"observable\\\"},val)) : undefined; return this.valueFromJulia[\\\"index\\\"]=false}),self)]\\n        \\n    }\\n    self.model = new AppViewModel();\\n    self.valueFromJulia = {};\\n    for (var key in json_data) {\\n        self.valueFromJulia[key] = false;\\n    }\\n    ko.applyBindings(self.model, self.dom);\\n}\\n);\\n    (WebIO.importBlock({\\\"data\\\":[{\\\"name\\\":\\\"knockout\\\",\\\"type\\\":\\\"js\\\",\\\"url\\\":\\\"/assetserver/3bd9b1de736b098e415b41735ebb66f92146af63-knockout.js\\\"},{\\\"name\\\":\\\"knockout_punches\\\",\\\"type\\\":\\\"js\\\",\\\"url\\\":\\\"/assetserver/f693c45e4673819d9631890b2dbb7b49bac52036-knockout_punches.js\\\"}],\\\"type\\\":\\\"async_block\\\"})).then((imports) => handler.apply(this, imports));\\n}\\n\")])], Dict{Symbol,Any}(:className=>\"field interact-widget\")), Observable{Any} with 0 listeners. Value:\n",
       "Node{DOM}(DOM(:html, :div), Any[GroupPlot(Axis[Axis(PGFPlots.Plots.Plot[Image(\"tmp_10000000000455.png\", -2, 2, -2, 2, 0.0, 2.0, nothing, false, nothing, RGBArrayMap(RGB{Float64}[RGB{Float64}(1.0,1.0,1.0)], 0x0000000000000000), nothing), Node(\"Horizontal Range: 5565\", nothing, 0, -0.82, nothing)], nothing, nothing, nothing, nothing, nothing, nothing, nothing, nothing, nothing, nothing, nothing, nothing, nothing, nothing, nothing, nothing, \"10 cm\", \"2cm\", nothing, nothing, nothing, nothing, nothing, nothing, nothing, true, nothing, \"axis\"), Axis(PGFPlots.Plots.Plot[Image(\"tmp_10000000000456.png\", -2, 2, -2, 2, 0.0, 2.0, nothing, false, nothing, RGBArrayMap(RGB{Float64}[RGB{Float64}(1.0,1.0,1.0)], 0x0000000000000000), nothing), Node(\"Vertical Range: 416.2\", nothing, 0, -0.82, nothing)], nothing, nothing, nothing, nothing, nothing, nothing, nothing, nothing, nothing, nothing, nothing, nothing, nothing, nothing, nothing, nothing, \"10 cm\", \"2cm\", nothing, nothing, nothing, nothing, nothing, nothing, nothing, true, nothing, \"axis\"), Axis(PGFPlots.Plots.Plot[Image(\"tmp_10000000000457.png\", -2, 2, -2, 2, 0.0, 2.0, nothing, false, nothing, RGBArrayMap(RGB{Float64}[RGB{Float64}(1.0,1.0,1.0)], 0x0000000000000000), nothing)], nothing, nothing, nothing, nothing, nothing, nothing, nothing, nothing, nothing, nothing, nothing, nothing, nothing, nothing, nothing, nothing, \"6cm\", \"2cm\", nothing, nothing, nothing, nothing, nothing, nothing, nothing, true, nothing, \"axis\"), Axis(PGFPlots.Plots.Plot[Linear(Real[0.0 0.0 … 3.08609 3.08609; 0.0 0.0 … 0.0 0.0], \"none\", nothing, \"black\", nothing, nothing, nothing), Linear(Real[1690.77 1690.68 … 873.489 862.3; -134.804 -134.962 … 16.8839 19.0641], \"none\", nothing, \"black\", nothing, nothing, nothing), Command(\"\\\\node[UAM top,fill=black,draw=white, minimum width=1.5cm,rotate=-90.0,scale = 0.15] at (axis cs:0.0, 0.0) {};\"), Command(\"\\\\node[quadcopter top,fill=black,draw=black,minimum width=1.5cm,rotate=-118.05204967270734,scale = 0.15] at (axis cs:1690.7730733338105, -134.80353006919026) {};\"), Scatter(Any[0.0 0.0 … 3.08609 3.08609; 0.0 0.0 … 0.0 0.0; \"ra_1\" \"ra_1\" … \"ra_4\" \"ra_4\"], nothing, nothing, nothing, nothing, true, \"{ra_1={mark=none},ra_2={mark=*, style={ra_2_speed, mark size=1}},ra_3={mark=*, style={ra_3_speed, mark size=1}},ra_4={mark=*, style={ra_4_speed, mark size=1}},ra_5={mark=*, style={ra_5_speed, mark size=1}}}\"), Scatter(Any[1690.77 1690.68 … 873.489 862.3; -134.804 -134.962 … 16.8839 19.0641; \"ra_1\" \"ra_1\" … \"ra_1\" \"ra_1\"], nothing, nothing, nothing, nothing, true, \"{ra_1={mark=none},ra_2={mark=*, style={ra_2_speed, mark size=1}},ra_3={mark=*, style={ra_3_speed, mark size=1}},ra_4={mark=*, style={ra_4_speed, mark size=1}},ra_5={mark=*, style={ra_5_speed, mark size=1}}}\")], \"Ground Track\", \"East (m)\", nothing, \"North (m)\", nothing, nothing, nothing, nothing, nothing, nothing, nothing, true, nothing, nothing, nothing, nothing, \"10cm\", \"8cm\", nothing, nothing, nothing, nothing, nothing, nothing, nothing, nothing, nothing, \"axis\"), Axis(PGFPlots.Plots.Plot[Linear(Real[0.0 1.0 … 119.0 120.0; 2.87278e-14 0.259584 … 490.201 490.201], \"none\", nothing, \"black\", nothing, nothing, nothing), Linear(Real[0.0 1.0 … 119.0 120.0; 416.207 416.409 … 513.446 513.252], \"none\", nothing, \"black\", nothing, nothing, nothing), Command(\"\\\\node[UAM side,fill=white,draw=black, minimum width=1.5cm,rotate=0,scale = 0.5] at (axis cs:0.0, 2.8727842180570474e-14) {};\"), Command(\"\\\\node[quadcopter side,fill=black,draw=black,minimum width=1.5cm,rotate=0,scale = 0.2] at (axis cs:0.0, 416.207181572359) {};\"), Scatter(Any[0.0 1.0 … 119.0 120.0; 2.87278e-14 0.259584 … 490.201 490.201; \"ra_1\" \"ra_1\" … \"ra_2\" \"ra_2\"], nothing, nothing, nothing, nothing, true, \"{ra_1={mark=none},ra_2={mark=*, style={ra_2, mark size=1}},ra_3={mark=*, style={ra_3, mark size=1}},ra_4={mark=*, style={ra_4, mark size=1}},ra_5={mark=*, style={ra_5, mark size=1}}}\"), Scatter(Any[0.0 1.0 … 119.0 120.0; 416.207 416.409 … 513.446 513.252; \"ra_1\" \"ra_1\" … \"ra_1\" \"ra_1\"], nothing, nothing, nothing, nothing, true, \"{ra_1={mark=none},ra_2={mark=*, style={ra_2, mark size=1}},ra_3={mark=*, style={ra_3, mark size=1}},ra_4={mark=*, style={ra_4, mark size=1}},ra_5={mark=*, style={ra_5, mark size=1}}}\")], \"Vertical Profile\", \"Time (s)\", nothing, \"Altitude (ft)\", nothing, nothing, nothing, nothing, nothing, nothing, nothing, nothing, nothing, nothing, nothing, nothing, \"10cm\", \"8cm\", nothing, nothing, nothing, nothing, nothing, nothing, nothing, nothing, nothing, \"axis\"), Axis(PGFPlots.Plots.Plot[Image(\"tmp_10000000000458.png\", -2, 2, -2, 2, 0.0, 2.0, nothing, false, nothing, RGBArrayMap(RGB{Float64}[RGB{Float64}(1.0,1.0,1.0)], 0x0000000000000000), nothing), Scatter(Any[-0.8 -0.8 … -0.8 -0.8; 1.65 1.15 … 0.15 -0.35; \"ra_1\" \"ra_2\" … \"ra_4\" \"ra_5\"], nothing, nothing, nothing, nothing, true, \"{ra_1={mark=square, style={black, mark options={fill=ra_1_speed}, mark size=6}},ra_2={style={ra_2_speed, mark size=6}},ra_3={style={ra_3_speed, mark size=6}},ra_4={style={ra_4_speed, mark size=6}},ra_5={style={ra_5_speed, mark size=6}}}\"), Node(\"RA 1: COC \", \"black,anchor=west\", 0.38, 0.915, \"axis description cs\"), Node(\"RA 2: WD \", \"black,anchor=west\", 0.38, 0.79, \"axis description cs\"), Node(\"RA 3: WA \", \"black,anchor=west\", 0.38, 0.665, \"axis description cs\"), Node(\"RA 4: SD \", \"black,anchor=west\", 0.38, 0.54, \"axis description cs\"), Node(\"RA 5: SA \", \"black,anchor=west\", 0.38, 0.415, \"axis description cs\")], \"KEY\", nothing, nothing, nothing, nothing, nothing, nothing, nothing, nothing, nothing, nothing, nothing, nothing, nothing, nothing, nothing, \"6cm\", \"8cm\", nothing, nothing, nothing, nothing, nothing, nothing, nothing, true, nothing, \"axis\")], (3, 2), nothing, \"horizontal sep=2cm, vertical sep=2cm\")], Dict{Symbol,Any}(:className=>\"interact-flex-row interact-widget\"))], Dict{Symbol,Any}())"
      ]
     },
     "execution_count": 27,
     "metadata": {
      "application/vnd.webio.node+json": {
       "kernelId": "38acdb64-e2f5-4fca-aa4f-62448150a07f"
      }
     },
     "output_type": "execute_result"
    }
   ],
   "source": [
    "encounter_viewer(sim.sim_out, int_type=:quad, alert_type=:blended)"
   ]
  },
  {
   "cell_type": "code",
   "execution_count": 41,
   "metadata": {},
   "outputs": [
    {
     "data": {
      "text/plain": [
       "convert_h5_to_bin (generic function with 1 method)"
      ]
     },
     "execution_count": 41,
     "metadata": {},
     "output_type": "execute_result"
    }
   ],
   "source": [
    "include(\"../src/Xr.jl\")"
   ]
  },
  {
   "cell_type": "code",
   "execution_count": 42,
   "metadata": {},
   "outputs": [],
   "source": [
    "sim = simulation()\n",
    "sim.acs[1] = uam_speed(q_file = \"../data_files/test_speed.bin\")\n",
    "sim.enc_file = \"../data_files/uam_uam.bin\";"
   ]
  },
  {
   "cell_type": "code",
   "execution_count": 43,
   "metadata": {
    "scrolled": true
   },
   "outputs": [
    {
     "name": "stdout",
     "output_type": "stream",
     "text": [
      "1\n",
      "2.7488732509450213\n",
      "accel_noise: -0.8462183625349542\n",
      "accels_speed[action]: -1.288\n",
      "BELIEF_STATE(MDP_STATE[SPEED_STATE(3797.43, 0.553305, 0.00959963, 97.5686, 6.10524e-13, 1, 0.0)], [1.0])\n",
      "PHYSICAL_STATE([989.134, 608.245, 550.837], [-29.7389, -3.31329e-10, 0.0], [2.13422, 2.37782e-11, 0.0], -3.141592653578652)\n",
      "PHYSICAL_STATE([4.37966, 8.0317e-12, 3.80887e-14], [-1.86079e-13, -1.78635e-15, 0.0], [0.0, 0.0, 0.0], -3.131993020313196)\n",
      "\n",
      "1\n",
      "1.5485923312163392\n",
      "accel_noise: 0.08567676147799755\n",
      "accels_speed[action]: -1.288\n",
      "BELIEF_STATE(MDP_STATE[SPEED_STATE(3716.43, 0.566823, 0.00959963, 93.624, 6.10524e-13, 1, 0.0)], [1.0])\n",
      "PHYSICAL_STATE([959.996, 608.245, 550.837], [-28.5366, -3.17933e-10, 0.0], [1.20232, 1.33956e-11, 0.0], -3.141592653578652)\n",
      "PHYSICAL_STATE([4.37966, 8.02991e-12, 3.80887e-14], [-1.86079e-13, -1.78635e-15, 0.0], [0.0, 0.0, 0.0], -3.131993020313196)\n",
      "\n",
      "3\n",
      "4.3881662463758815\n",
      "accel_noise: 0.8725193142950773\n",
      "accels_speed[action]: -2.576\n",
      "BELIEF_STATE(MDP_STATE[SPEED_STATE(3640.14, 0.580221, 0.00959963, 88.0351, 6.10524e-13, 3, 0.0)], [1.0])\n",
      "PHYSICAL_STATE([932.311, 608.245, 550.837], [-26.8331, -2.98954e-10, 0.0], [1.70348, 1.89792e-11, 0.0], -3.141592653578652)\n",
      "PHYSICAL_STATE([4.37966, 8.02813e-12, 3.80887e-14], [-1.86079e-13, -1.78635e-15, 0.0], [0.0, 0.0, 0.0], -3.131993020313196)\n",
      "\n",
      "3\n",
      "6.563417415222582\n",
      "accel_noise: 0.028089512724152926\n",
      "accels_speed[action]: -2.576\n",
      "BELIEF_STATE(MDP_STATE[SPEED_STATE(3570.3, 0.593097, 0.00959963, 79.6758, 6.10524e-13, 3, 0.0)], [1.0])\n",
      "PHYSICAL_STATE([906.752, 608.245, 550.837], [-24.2852, -2.70567e-10, 0.0], [2.54791, 2.83874e-11, 0.0], -3.141592653578652)\n",
      "PHYSICAL_STATE([4.37966, 8.02634e-12, 3.80887e-14], [-1.86079e-13, -1.78635e-15, 0.0], [0.0, 0.0, 0.0], -3.131993020313196)\n",
      "\n",
      "3\n",
      "8.685908807535643\n",
      "accel_noise: -0.7958590091365071\n",
      "accels_speed[action]: -2.576\n",
      "BELIEF_STATE(MDP_STATE[SPEED_STATE(3509.06, 0.604908, 0.00959963, 68.6133, 6.10524e-13, 3, 0.0)], [1.0])\n",
      "PHYSICAL_STATE([884.153, 608.245, 550.837], [-20.9133, -2.33e-10, 0.0], [3.37186, 3.75673e-11, 0.0], -3.1415926535786522)\n",
      "PHYSICAL_STATE([4.37966, 8.02455e-12, 3.80887e-14], [-1.86079e-13, -1.78635e-15, 0.0], [0.0, 0.0, 0.0], -3.131993020313196)\n",
      "\n",
      "3\n",
      "5.806639638415829\n",
      "accel_noise: 0.3218697055839175\n",
      "accels_speed[action]: -2.576\n",
      "BELIEF_STATE(MDP_STATE[SPEED_STATE(3455.86, 0.61559, 0.00959963, 61.2179, 6.10524e-13, 3, 0.0)], [1.0])\n",
      "PHYSICAL_STATE([864.367, 608.245, 550.837], [-18.6592, -2.07886e-10, 0.0], [2.25413, 2.51132e-11, 0.0], -3.141592653578652)\n",
      "PHYSICAL_STATE([4.37966, 8.02277e-12, 3.80887e-14], [-1.86079e-13, -1.78635e-15, 0.0], [0.0, 0.0, 0.0], -3.131993020313196)\n",
      "\n",
      "3\n",
      "6.272203386288405\n",
      "accel_noise: 0.14113843699984271\n",
      "accels_speed[action]: -2.576\n",
      "BELIEF_STATE(MDP_STATE[SPEED_STATE(3409.3, 0.625282, 0.00959963, 53.2295, 6.10524e-13, 3, 0.0)], [1.0])\n",
      "PHYSICAL_STATE([846.925, 608.245, 550.837], [-16.2243, -1.80758e-10, 0.0], [2.43486, 2.71278e-11, 0.0], -3.1415926535786522)\n",
      "PHYSICAL_STATE([4.37966, 8.02098e-12, 3.80887e-14], [-1.86079e-13, -1.78635e-15, 0.0], [0.0, 0.0, 0.0], -3.131993020313196)\n",
      "\n",
      "3\n",
      "7.670196703228741\n",
      "accel_noise: -0.40156083199873477\n",
      "accels_speed[action]: -2.576\n",
      "BELIEF_STATE(MDP_STATE[SPEED_STATE(3370.22, 0.633679, 0.00959963, 43.4606, 6.10524e-13, 3, 0.0)], [1.0])\n",
      "PHYSICAL_STATE([832.189, 608.245, 550.837], [-13.2468, -1.47585e-10, 0.0], [2.97756, 3.3173e-11, 0.0], -3.141592653578652)\n",
      "PHYSICAL_STATE([4.37966, 8.01919e-12, 3.80887e-14], [-1.86079e-13, -1.78635e-15, 0.0], [0.0, 0.0, 0.0], -3.131993020313196)\n",
      "\n",
      "3\n",
      "9.328714921903718\n",
      "accel_noise: -1.0453955442172813\n",
      "accels_speed[action]: -2.576\n",
      "BELIEF_STATE(MDP_STATE[SPEED_STATE(3340.06, 0.64033, 0.00959963, 31.5794, 6.10524e-13, 3, 0.0)], [1.0])\n",
      "PHYSICAL_STATE([820.753, 608.245, 550.837], [-9.62539, -1.07238e-10, 0.0], [3.6214, 4.03475e-11, 0.0], -3.1415926535786522)\n",
      "PHYSICAL_STATE([4.37966, 8.01741e-12, 3.80887e-14], [-1.86079e-13, -1.78635e-15, 0.0], [0.0, 0.0, 0.0], -3.131993020313196)\n",
      "\n",
      "3\n",
      "5.782148688010856\n",
      "accel_noise: 0.33137706210758716\n",
      "accels_speed[action]: -2.576\n",
      "BELIEF_STATE(MDP_STATE[SPEED_STATE(3317.73, 0.645354, 0.00959963, 24.2151, 6.10524e-13, 3, 0.0)], [1.0])\n",
      "PHYSICAL_STATE([812.25, 608.245, 550.837], [-7.38076, -8.22306e-11, 0.0], [2.24462, 2.50073e-11, 0.0], -3.1415926535786522)\n",
      "PHYSICAL_STATE([4.37966, 8.01562e-12, 3.80887e-14], [-1.86079e-13, -1.78635e-15, 0.0], [0.0, 0.0, 0.0], -3.131993020313196)\n",
      "\n",
      "3\n",
      "8.049269656141641\n",
      "accel_noise: -0.5487164814214444\n",
      "accels_speed[action]: -2.576\n",
      "BELIEF_STATE(MDP_STATE[SPEED_STATE(3302.5, 0.648831, 0.00959963, 13.9634, 6.10524e-13, 3, 0.0)], [1.0])\n",
      "PHYSICAL_STATE([806.432, 608.245, 550.837], [-4.25605, -4.74182e-11, 0.0], [3.12472, 3.48124e-11, 0.0], -3.141592653578652)\n",
      "PHYSICAL_STATE([4.37966, 8.01384e-12, 3.80887e-14], [-1.86079e-13, -1.78635e-15, 0.0], [0.0, 0.0, 0.0], -3.131993020313196)\n",
      "\n",
      "3\n",
      "5.9471962405636125\n",
      "accel_noise: 0.26730580723462266\n",
      "accels_speed[action]: -2.576\n",
      "BELIEF_STATE(MDP_STATE[SPEED_STATE(3294.4, 0.650697, 0.00959963, 6.38896, 6.10524e-13, 3, 0.0)], [1.0])\n",
      "PHYSICAL_STATE([803.33, 608.245, 550.837], [-1.94735, -2.1696e-11, 0.0], [2.30869, 2.57222e-11, 0.0], -3.141592653578652)\n",
      "PHYSICAL_STATE([4.37966, 8.01205e-12, 3.80887e-14], [-1.86079e-13, -1.78635e-15, 0.0], [0.0, 0.0, 0.0], -3.131993020313196)\n",
      "\n",
      "3\n",
      "8.720980897473002\n",
      "accel_noise: -0.8094739508823761\n",
      "accels_speed[action]: -2.576\n",
      "BELIEF_STATE(MDP_STATE[SPEED_STATE(3291.86, 0.651285, 0.00959963, 9.53805e-16, 6.10524e-13, 3, 0.0)], [1.0])\n",
      "PHYSICAL_STATE([802.357, 608.245, 550.837], [0.0, 2.9072e-16, 0.0], [1.94735, 2.16963e-11, 0.0], -3.141592653578652)\n",
      "PHYSICAL_STATE([4.37966, 8.01026e-12, 3.80887e-14], [-1.86079e-13, -1.78635e-15, 0.0], [0.0, 0.0, 0.0], -3.131993020313196)\n",
      "\n",
      "1\n",
      "1.8062289657984143\n",
      "accel_noise: -0.11435168152050781\n",
      "accels_speed[action]: -1.288\n",
      "BELIEF_STATE(MDP_STATE[SPEED_STATE(3291.86, 0.651285, 0.00959963, 5.84037e-32, 6.10524e-13, 1, 0.0)], [1.0])\n",
      "PHYSICAL_STATE([802.357, 608.245, 550.837], [-1.78014e-32, 0.0, 0.0], [-1.78014e-32, -2.9072e-16, 0.0], -3.141592653578652)\n",
      "PHYSICAL_STATE([4.37966, 8.00848e-12, 3.80887e-14], [-1.86079e-13, -1.78635e-15, 0.0], [0.0, 0.0, 0.0], -3.131993020313196)\n",
      "\n",
      "1\n",
      "2.0571507074422204\n",
      "accel_noise: -0.3091666983247053\n",
      "accels_speed[action]: -1.288\n",
      "BELIEF_STATE(MDP_STATE[SPEED_STATE(3291.86, 0.651285, 0.00959963, 7.15239e-48, 6.10524e-13, 1, 0.0)], [1.0])\n",
      "PHYSICAL_STATE([802.357, 608.245, 550.837], [0.0, -2.18005e-48, 0.0], [1.78014e-32, -2.18005e-48, 0.0], -3.141592653578652)\n",
      "PHYSICAL_STATE([4.37966, 8.00669e-12, 3.80887e-14], [-1.86079e-13, -1.78635e-15, 0.0], [0.0, 0.0, 0.0], -3.131993020313196)\n",
      "\n",
      "1\n",
      "3.2351398464683743\n",
      "accel_noise: -1.2237545391835203\n",
      "accels_speed[action]: -1.288\n",
      "BELIEF_STATE(MDP_STATE[SPEED_STATE(3291.86, 0.651285, 0.00959963, 4.37958e-64, 6.10524e-13, 1, 0.0)], [1.0])\n",
      "PHYSICAL_STATE([802.357, 608.245, 550.837], [-1.33489e-64, 0.0, 0.0], [-1.33489e-64, 2.18005e-48, 0.0], -3.141592653578652)\n",
      "PHYSICAL_STATE([4.37966, 8.0049e-12, 3.80887e-14], [-1.86079e-13, -1.78635e-15, 0.0], [0.0, 0.0, 0.0], -3.131993020313196)\n",
      "\n",
      "1\n",
      "2.4165400982132694\n",
      "accel_noise: -0.5881957284264512\n",
      "accels_speed[action]: -1.288\n",
      "BELIEF_STATE(MDP_STATE[SPEED_STATE(3291.86, 0.651285, 0.00959963, 5.36343e-80, 6.10524e-13, 1, 0.0)], [1.0])\n",
      "PHYSICAL_STATE([802.357, 608.245, 550.837], [0.0, -1.63477e-80, 0.0], [1.33489e-64, -1.63477e-80, 0.0], -3.141592653578652)\n",
      "PHYSICAL_STATE([4.37966, 8.00312e-12, 3.80887e-14], [-1.86079e-13, -1.78635e-15, 0.0], [0.0, 0.0, 0.0], -3.131993020313196)\n",
      "\n",
      "1\n",
      "1.1537866497446998\n",
      "accel_noise: 0.39220291168889765\n",
      "accels_speed[action]: -1.288\n",
      "BELIEF_STATE(MDP_STATE[SPEED_STATE(3291.86, 0.651285, 0.00959963, 3.28416e-96, 6.10524e-13, 1, 0.0)], [1.0])\n",
      "PHYSICAL_STATE([802.357, 608.245, 550.837], [-1.00101e-96, 0.0, 0.0], [-1.00101e-96, 1.63477e-80, 0.0], -3.141592653578652)\n",
      "PHYSICAL_STATE([4.37966, 8.00133e-12, 3.80887e-14], [-1.86079e-13, -1.78635e-15, 0.0], [0.0, 0.0, 0.0], -3.131993020313196)\n",
      "\n",
      "1\n",
      "1.4674475261373083\n",
      "accel_noise: 0.1486773865393569\n",
      "accels_speed[action]: -1.288\n",
      "BELIEF_STATE(MDP_STATE[SPEED_STATE(3291.86, 0.651285, 0.00959963, 4.02193e-112, 6.10524e-13, 1, 0.0)], [1.0])\n",
      "PHYSICAL_STATE([802.357, 608.245, 550.837], [0.0, -1.22588e-112, 0.0], [1.00101e-96, -1.22588e-112, 0.0], -3.141592653578652)\n",
      "PHYSICAL_STATE([4.37966, 7.99954e-12, 3.80887e-14], [-1.86079e-13, -1.78635e-15, 0.0], [0.0, 0.0, 0.0], -3.131993020313196)\n",
      "\n",
      "1\n",
      "2.6223385470647833\n",
      "accel_noise: -0.7479771328142728\n",
      "accels_speed[action]: -1.288\n",
      "BELIEF_STATE(MDP_STATE[SPEED_STATE(3291.86, 0.651285, 0.00959963, 2.46272e-128, 6.10524e-13, 1, 0.0)], [1.0])\n",
      "PHYSICAL_STATE([802.357, 608.245, 550.837], [-7.50638e-129, 0.0, 0.0], [-7.50638e-129, 1.22588e-112, 0.0], -3.141592653578652)\n",
      "PHYSICAL_STATE([4.37966, 7.99776e-12, 3.80887e-14], [-1.86079e-13, -1.78635e-15, 0.0], [0.0, 0.0, 0.0], -3.131993020313196)\n",
      "\n",
      "1\n",
      "-0.015601498754229084\n",
      "accel_noise: 1.300112964871296\n",
      "accels_speed[action]: -1.288\n",
      "BELIEF_STATE(MDP_STATE[SPEED_STATE(3291.86, 0.651285, 0.00959963, 2.46272e-128, 6.10524e-13, 1, 0.0)], [1.0])\n",
      "PHYSICAL_STATE([802.357, 608.245, 550.837], [-7.50638e-129, 0.0, 0.0], [-0.0, 0.0, 0.0], -3.141592653578652)\n",
      "PHYSICAL_STATE([4.37966, 7.99597e-12, 3.80887e-14], [-1.86079e-13, -1.78635e-15, 0.0], [0.0, 0.0, 0.0], -3.131993020313196)\n",
      "\n",
      "1\n",
      "2.0615607521126655\n",
      "accel_noise: -0.3125906460502062\n",
      "accels_speed[action]: -1.288\n",
      "BELIEF_STATE(MDP_STATE[SPEED_STATE(3291.86, 0.651285, 0.00959963, 3.01597e-144, 6.10524e-13, 1, 0.0)], [1.0])\n",
      "PHYSICAL_STATE([802.357, 608.245, 550.837], [0.0, -9.19266e-145, 0.0], [7.50638e-129, -9.19266e-145, 0.0], -3.141592653578652)\n",
      "PHYSICAL_STATE([4.37966, 7.99419e-12, 3.80887e-14], [-1.86079e-13, -1.78635e-15, 0.0], [0.0, 0.0, 0.0], -3.131993020313196)\n",
      "\n",
      "1\n",
      "1.2377020306861628\n",
      "accel_noise: 0.32705121841136436\n",
      "accels_speed[action]: -1.288\n",
      "BELIEF_STATE(MDP_STATE[SPEED_STATE(3291.86, 0.651285, 0.00959963, 1.84632e-160, 6.10524e-13, 1, 0.0)], [1.0])\n",
      "PHYSICAL_STATE([802.357, 608.245, 550.837], [-5.62888e-161, 0.0, 0.0], [-5.62888e-161, 9.19266e-145, 0.0], -3.141592653578652)\n",
      "PHYSICAL_STATE([4.37966, 7.9924e-12, 3.80887e-14], [-1.86079e-13, -1.78635e-15, 0.0], [0.0, 0.0, 0.0], -3.131993020313196)\n",
      "\n",
      "1\n",
      "1.2666683165935326\n",
      "accel_noise: 0.3045618659988102\n",
      "accels_speed[action]: -1.288\n"
     ]
    },
    {
     "name": "stdout",
     "output_type": "stream",
     "text": [
      "BELIEF_STATE(MDP_STATE[SPEED_STATE(3291.86, 0.651285, 0.00959963, 4.28469e-164, 6.10524e-13, 1, 0.0)], [1.0])\n",
      "PHYSICAL_STATE([802.357, 608.245, 550.837], [-1.30597e-164, -6.89179e-177, 0.0], [5.62758e-161, -6.89179e-177, 0.0], -3.141592653578652)\n",
      "PHYSICAL_STATE([4.37966, 7.99061e-12, 3.80887e-14], [-1.86079e-13, -1.78635e-15, 0.0], [0.0, 0.0, 0.0], -3.131993020313196)\n",
      "\n",
      "1\n",
      "0.8828846861697153\n",
      "accel_noise: 0.602530523160159\n",
      "accels_speed[action]: -1.288\n",
      "BELIEF_STATE(MDP_STATE[SPEED_STATE(3291.86, 0.651285, 0.00959963, 5.17617e-181, 6.10524e-13, 1, 0.0)], [1.0])\n",
      "PHYSICAL_STATE([802.357, 608.245, 550.837], [0.0, -1.5777e-181, 0.0], [1.30597e-164, 6.89163e-177, 0.0], -3.141592653578652)\n",
      "PHYSICAL_STATE([4.37966, 7.98883e-12, 3.80887e-14], [-1.86079e-13, -1.78635e-15, 0.0], [0.0, 0.0, 0.0], -3.131993020313196)\n",
      "\n",
      "1\n",
      "0.5798342354287429\n",
      "accel_noise: 0.8378181401950754\n",
      "accels_speed[action]: -1.288\n",
      "BELIEF_STATE(MDP_STATE[SPEED_STATE(3291.86, 0.651285, 0.00959963, 3.16949e-197, 6.10524e-13, 1, 0.0)], [1.0])\n",
      "PHYSICAL_STATE([802.357, 608.245, 550.837], [-9.6606e-198, 0.0, 0.0], [-9.6606e-198, 1.5777e-181, 0.0], -3.141592653578652)\n",
      "PHYSICAL_STATE([4.37966, 7.98704e-12, 3.80887e-14], [-1.86079e-13, -1.78635e-15, 0.0], [0.0, 0.0, 0.0], -3.131993020313196)\n",
      "\n",
      "1\n",
      "2.5538317134412543\n",
      "accel_noise: -0.6947885973922779\n",
      "accels_speed[action]: -1.288\n",
      "BELIEF_STATE(MDP_STATE[SPEED_STATE(3291.86, 0.651285, 0.00959963, 3.8815e-213, 6.10524e-13, 1, 0.0)], [1.0])\n",
      "PHYSICAL_STATE([802.357, 608.245, 550.837], [0.0, -1.18308e-213, 0.0], [9.6606e-198, -1.18308e-213, 0.0], -3.141592653578652)\n",
      "PHYSICAL_STATE([4.37966, 7.98525e-12, 3.80887e-14], [-1.86079e-13, -1.78635e-15, 0.0], [0.0, 0.0, 0.0], -3.131993020313196)\n",
      "\n",
      "1\n",
      "0.794916130497561\n",
      "accel_noise: 0.6708290912286017\n",
      "accels_speed[action]: -1.288\n",
      "BELIEF_STATE(MDP_STATE[SPEED_STATE(3291.86, 0.651285, 0.00959963, 2.37674e-229, 6.10524e-13, 1, 0.0)], [1.0])\n",
      "PHYSICAL_STATE([802.357, 608.245, 550.837], [-7.24429e-230, 0.0, 0.0], [-7.24429e-230, 1.18308e-213, 0.0], -3.141592653578652)\n",
      "PHYSICAL_STATE([4.37966, 7.98347e-12, 3.80887e-14], [-1.86079e-13, -1.78635e-15, 0.0], [0.0, 0.0, 0.0], -3.131993020313196)\n",
      "\n",
      "1\n",
      "0.9117992836028733\n",
      "accel_noise: 0.5800813015505643\n",
      "accels_speed[action]: -1.288\n",
      "BELIEF_STATE(MDP_STATE[SPEED_STATE(3291.86, 0.651285, 0.00959963, 2.91066e-245, 6.10524e-13, 1, 0.0)], [1.0])\n",
      "PHYSICAL_STATE([802.357, 608.245, 550.837], [0.0, -8.8717e-246, 0.0], [7.24429e-230, -8.8717e-246, 0.0], -3.141592653578652)\n",
      "PHYSICAL_STATE([4.37966, 7.98168e-12, 3.80887e-14], [-1.86079e-13, -1.78635e-15, 0.0], [0.0, 0.0, 0.0], -3.131993020313196)\n",
      "\n",
      "1\n",
      "0.5460721833109324\n",
      "accel_noise: 0.8640309135784686\n",
      "accels_speed[action]: -1.288\n",
      "BELIEF_STATE(MDP_STATE[SPEED_STATE(3291.86, 0.651285, 0.00959963, 1.78227e-261, 6.10524e-13, 1, 0.0)], [1.0])\n",
      "PHYSICAL_STATE([802.357, 608.245, 550.837], [-5.43235e-262, 0.0, 0.0], [-5.43235e-262, 8.8717e-246, 0.0], -3.141592653578652)\n",
      "PHYSICAL_STATE([4.37966, 7.97989e-12, 3.80887e-14], [-1.86079e-13, -1.78635e-15, 0.0], [0.0, 0.0, 0.0], -3.131993020313196)\n",
      "\n",
      "1\n",
      "1.5866028072797012\n",
      "accel_noise: 0.0561655222983687\n",
      "accels_speed[action]: -1.288\n",
      "BELIEF_STATE(MDP_STATE[SPEED_STATE(3291.86, 0.651285, 0.00959963, 2.18265e-277, 6.10524e-13, 1, 0.0)], [1.0])\n",
      "PHYSICAL_STATE([802.357, 608.245, 550.837], [0.0, -6.65271e-278, 0.0], [5.43235e-262, -6.65271e-278, 0.0], -3.141592653578652)\n",
      "PHYSICAL_STATE([4.37966, 7.97811e-12, 3.80887e-14], [-1.86079e-13, -1.78635e-15, 0.0], [0.0, 0.0, 0.0], -3.131993020313196)\n",
      "\n",
      "1\n",
      "1.2837573121297718\n",
      "accel_noise: 0.2912940123216058\n",
      "accels_speed[action]: -1.288\n",
      "BELIEF_STATE(MDP_STATE[SPEED_STATE(3291.86, 0.651285, 0.00959963, 1.33649e-293, 6.10524e-13, 1, 0.0)], [1.0])\n",
      "PHYSICAL_STATE([802.357, 608.245, 546.883], [-4.07361e-294, 0.0, -7.90871], [-4.07361e-294, 6.65271e-278, -7.90871], -3.141592653578652)\n",
      "PHYSICAL_STATE([4.37966, 7.97632e-12, 3.80887e-14], [-1.86079e-13, -1.78635e-15, 0.0], [0.0, 0.0, 0.0], -3.131993020313196)\n",
      "\n",
      "1\n",
      "2.1126978396660707\n",
      "accel_noise: -0.3522933537780053\n",
      "accels_speed[action]: -1.288\n",
      "BELIEF_STATE(MDP_STATE[SPEED_STATE(3291.86, 0.651285, 0.00959963, 1.63672e-309, 6.10524e-13, 1, 0.0)], [1.0])\n",
      "PHYSICAL_STATE([802.357, 608.245, 538.943], [0.0, -4.98873e-310, -7.97121], [4.07361e-294, -4.98873e-310, -0.062502], -3.141592653578652)\n",
      "PHYSICAL_STATE([4.37966, 7.97454e-12, 3.80887e-14], [-1.86079e-13, -1.78635e-15, 0.0], [0.0, 0.0, 0.0], -3.131993020313196)\n",
      "\n",
      "1\n",
      "0.8558047646543541\n",
      "accel_noise: 0.6235553069453773\n",
      "accels_speed[action]: -1.288\n",
      "BELIEF_STATE(MDP_STATE[SPEED_STATE(3291.86, 0.651285, 0.00959963, 0.0, 6.10524e-13, 1, 0.0)], [1.0])\n",
      "PHYSICAL_STATE([802.357, 608.245, 530.942], [0.0, 0.0, -8.03021], [-0.0, 4.98873e-310, -0.0589992], -3.141592653578652)\n",
      "PHYSICAL_STATE([4.37966, 7.97275e-12, 3.80887e-14], [-1.86079e-13, -1.78635e-15, 0.0], [0.0, 0.0, 0.0], -3.131993020313196)\n",
      "\n",
      "1\n",
      "0.2604016739817714\n",
      "accel_noise: 1.0858247872812334\n",
      "accels_speed[action]: -1.288\n",
      "BELIEF_STATE(MDP_STATE[SPEED_STATE(3291.86, 0.651285, 0.00959963, 0.0, 6.10524e-13, 1, 0.0)], [1.0])\n",
      "PHYSICAL_STATE([802.357, 608.245, 522.884], [0.0, 0.0, -8.08571], [0.0, 0.0, -0.0554965], -3.141592653578652)\n",
      "PHYSICAL_STATE([4.37966, 7.97096e-12, 3.80887e-14], [-1.86079e-13, -1.78635e-15, 0.0], [0.0, 0.0, 0.0], -3.131993020313196)\n",
      "\n",
      "1\n",
      "0.7353633088881572\n",
      "accel_noise: 0.7170657539688221\n",
      "accels_speed[action]: -1.288\n",
      "BELIEF_STATE(MDP_STATE[SPEED_STATE(3291.86, 0.651285, 0.00959963, 0.0, 6.10524e-13, 1, 0.0)], [1.0])\n",
      "PHYSICAL_STATE([802.357, 608.245, 514.773], [0.0, 0.0, -8.1377], [0.0, 0.0, -0.0519937], -3.141592653578652)\n",
      "PHYSICAL_STATE([4.37966, 7.96918e-12, 3.80887e-14], [-1.86079e-13, -1.78635e-15, 0.0], [0.0, 0.0, 0.0], -3.131993020313196)\n",
      "\n",
      "1\n",
      "2.918997131310178\n",
      "accel_noise: -0.9783021205824358\n",
      "accels_speed[action]: -1.288\n",
      "BELIEF_STATE(MDP_STATE[SPEED_STATE(3291.86, 0.651285, 0.00959963, 0.0, 6.10524e-13, 1, 0.0)], [1.0])\n",
      "PHYSICAL_STATE([802.357, 608.245, 506.611], [0.0, 0.0, -8.18619], [0.0, 0.0, -0.0484909], -3.141592653578652)\n",
      "PHYSICAL_STATE([4.37966, 7.96739e-12, 3.80887e-14], [-1.86079e-13, -1.78635e-15, 0.0], [0.0, 0.0, 0.0], -3.131993020313196)\n",
      "\n",
      "1\n",
      "1.8095807738208103\n",
      "accel_noise: -0.1169540169416228\n",
      "accels_speed[action]: -1.288\n",
      "BELIEF_STATE(MDP_STATE[SPEED_STATE(3291.86, 0.651285, 0.00959963, 0.0, 6.10524e-13, 1, 0.0)], [1.0])\n",
      "PHYSICAL_STATE([802.357, 608.245, 498.402], [0.0, 0.0, -8.23118], [0.0, 0.0, -0.0449881], -3.141592653578652)\n",
      "PHYSICAL_STATE([4.37966, 7.9656e-12, 3.80887e-14], [-1.86079e-13, -1.78635e-15, 0.0], [0.0, 0.0, 0.0], -3.131993020313196)\n",
      "\n",
      "1\n",
      "2.666029333304083\n",
      "accel_noise: -0.7818985507019276\n",
      "accels_speed[action]: -1.288\n",
      "BELIEF_STATE(MDP_STATE[SPEED_STATE(3291.86, 0.651285, 0.00959963, 0.0, 6.10524e-13, 1, 0.0)], [1.0])\n",
      "PHYSICAL_STATE([802.357, 608.245, 490.15], [0.0, 0.0, -8.27266], [0.0, 0.0, -0.0414853], -3.141592653578652)\n",
      "PHYSICAL_STATE([4.37966, 7.96382e-12, 3.80887e-14], [-1.86079e-13, -1.78635e-15, 0.0], [0.0, 0.0, 0.0], -3.131993020313196)\n",
      "\n",
      "1\n",
      "2.0706613424373246\n",
      "accel_noise: -0.31965632176810926\n",
      "accels_speed[action]: -1.288\n",
      "BELIEF_STATE(MDP_STATE[SPEED_STATE(3291.86, 0.651285, 0.00959963, 0.0, 6.10524e-13, 1, 0.0)], [1.0])\n",
      "PHYSICAL_STATE([802.357, 608.245, 481.859], [0.0, 0.0, -8.31065], [0.0, 0.0, -0.0379825], -3.141592653578652)\n",
      "PHYSICAL_STATE([4.37966, 7.96203e-12, 3.80887e-14], [-1.86079e-13, -1.78635e-15, 0.0], [0.0, 0.0, 0.0], -3.131993020313196)\n",
      "\n",
      "1\n",
      "1.0958789865267742\n",
      "accel_noise: 0.43716227754132436\n",
      "accels_speed[action]: -1.288\n",
      "BELIEF_STATE(MDP_STATE[SPEED_STATE(3291.86, 0.651285, 0.00959963, 0.0, 6.10524e-13, 1, 0.0)], [1.0])\n",
      "PHYSICAL_STATE([802.357, 608.245, 473.531], [0.0, 0.0, -8.34513], [0.0, 0.0, -0.0344797], -3.141592653578652)\n",
      "PHYSICAL_STATE([4.37966, 7.96025e-12, 3.80887e-14], [-1.86079e-13, -1.78635e-15, 0.0], [0.0, 0.0, 0.0], -3.131993020313196)\n",
      "\n",
      "1\n",
      "0.7404195933319915\n",
      "accel_noise: 0.7131400672888265\n",
      "accels_speed[action]: -1.288\n",
      "BELIEF_STATE(MDP_STATE[SPEED_STATE(3291.86, 0.651285, 0.00959963, 0.0, 6.10524e-13, 1, 0.0)], [1.0])\n",
      "PHYSICAL_STATE([802.357, 608.245, 465.17], [0.0, 0.0, -8.3761], [0.0, 0.0, -0.0309769], -3.141592653578652)\n",
      "PHYSICAL_STATE([4.37966, 7.95846e-12, 3.80887e-14], [-1.86079e-13, -1.78635e-15, 0.0], [0.0, 0.0, 0.0], -3.131993020313196)\n",
      "\n",
      "1\n",
      "2.1073439139433505\n",
      "accel_noise: -0.34813657914856405\n",
      "accels_speed[action]: -1.288\n",
      "BELIEF_STATE(MDP_STATE[SPEED_STATE(3291.86, 0.651285, 0.00959963, 0.0, 6.10524e-13, 1, 0.0)], [1.0])\n",
      "PHYSICAL_STATE([802.357, 608.245, 456.78], [0.0, 0.0, -8.40358], [0.0, 0.0, -0.0274741], -3.141592653578652)\n",
      "PHYSICAL_STATE([4.37966, 7.95667e-12, 3.80887e-14], [-1.86079e-13, -1.78635e-15, 0.0], [0.0, 0.0, 0.0], -3.131993020313196)\n",
      "\n",
      "1\n",
      "1.049310584243845\n",
      "accel_noise: 0.4733178693758968\n",
      "accels_speed[action]: -1.288\n",
      "BELIEF_STATE(MDP_STATE[SPEED_STATE(3291.86, 0.651285, 0.00959963, 0.0, 6.10524e-13, 1, 0.0)], [1.0])\n",
      "PHYSICAL_STATE([802.357, 608.245, 448.365], [0.0, 0.0, -8.42755], [0.0, 0.0, -0.0239713], -3.141592653578652)\n",
      "PHYSICAL_STATE([4.37966, 7.95489e-12, 3.80887e-14], [-1.86079e-13, -1.78635e-15, 0.0], [0.0, 0.0, 0.0], -3.131993020313196)\n",
      "\n",
      "1\n",
      "1.2187996135084727\n",
      "accel_noise: 0.3417270081455958\n",
      "accels_speed[action]: -1.288\n",
      "BELIEF_STATE(MDP_STATE[SPEED_STATE(3291.86, 0.651285, 0.00959963, 0.0, 6.10524e-13, 1, 0.0)], [1.0])\n",
      "PHYSICAL_STATE([802.357, 608.245, 439.927], [0.0, 0.0, -8.44802], [0.0, 0.0, -0.0204685], -3.141592653578652)\n",
      "PHYSICAL_STATE([4.37966, 7.9531e-12, 3.80887e-14], [-1.86079e-13, -1.78635e-15, 0.0], [0.0, 0.0, 0.0], -3.131993020313196)\n",
      "\n",
      "1\n",
      "2.1381923181533264\n",
      "accel_noise: -0.37208720353519115\n",
      "accels_speed[action]: -1.288\n",
      "BELIEF_STATE(MDP_STATE[SPEED_STATE(3291.86, 0.651285, 0.00959963, 0.0, 6.10524e-13, 1, 0.0)], [1.0])\n",
      "PHYSICAL_STATE([802.357, 608.245, 431.47], [0.0, 0.0, -8.46498], [0.0, 0.0, -0.0169657], -3.141592653578652)\n",
      "PHYSICAL_STATE([4.37966, 7.95131e-12, 3.80887e-14], [-1.86079e-13, -1.78635e-15, 0.0], [0.0, 0.0, 0.0], -3.131993020313196)\n",
      "\n",
      "1\n",
      "3.1166003039871466\n",
      "accel_noise: -1.1317207329092756\n",
      "accels_speed[action]: -1.288\n",
      "BELIEF_STATE(MDP_STATE[SPEED_STATE(3291.86, 0.651285, 0.00959963, 0.0, 6.10524e-13, 1, 0.0)], [1.0])\n",
      "PHYSICAL_STATE([802.357, 608.245, 422.999], [0.0, 0.0, -8.47845], [0.0, 0.0, -0.0134629], -3.141592653578652)\n",
      "PHYSICAL_STATE([4.37966, 7.94953e-12, 3.80887e-14], [-1.86079e-13, -1.78635e-15, 0.0], [0.0, 0.0, 0.0], -3.131993020313196)\n",
      "\n",
      "1\n",
      "2.093228362601549\n",
      "accel_noise: -0.33717730015648223\n",
      "accels_speed[action]: -1.288\n"
     ]
    },
    {
     "name": "stdout",
     "output_type": "stream",
     "text": [
      "BELIEF_STATE(MDP_STATE[SPEED_STATE(3291.86, 0.651285, 0.00959963, 0.0, 6.10524e-13, 1, 0.0)], [1.0])\n",
      "PHYSICAL_STATE([802.357, 608.245, 414.515], [0.0, 0.0, -8.48841], [0.0, 0.0, -0.00996005], -3.141592653578652)\n",
      "PHYSICAL_STATE([4.37966, 7.94774e-12, 3.80887e-14], [-1.86079e-13, -1.78635e-15, 0.0], [0.0, 0.0, 0.0], -3.131993020313196)\n",
      "\n",
      "1\n",
      "2.612529710742199\n",
      "accel_noise: -0.7403615766631979\n",
      "accels_speed[action]: -1.288\n",
      "BELIEF_STATE(MDP_STATE[SPEED_STATE(3291.86, 0.651285, 0.00959963, 0.0, 6.10524e-13, 1, 0.0)], [1.0])\n",
      "PHYSICAL_STATE([802.357, 608.245, 406.024], [0.0, 0.0, -8.49486], [0.0, 0.0, -0.00645723], -3.141592653578652)\n",
      "PHYSICAL_STATE([4.37966, 7.94595e-12, 3.80887e-14], [-1.86079e-13, -1.78635e-15, 0.0], [0.0, 0.0, 0.0], -3.131993020313196)\n",
      "\n",
      "1\n",
      "2.756436071804889\n",
      "accel_noise: -0.8520901178609387\n",
      "accels_speed[action]: -1.288\n",
      "BELIEF_STATE(MDP_STATE[SPEED_STATE(3291.86, 0.651285, 0.00959963, 0.0, 6.10524e-13, 1, 0.0)], [1.0])\n",
      "PHYSICAL_STATE([802.357, 608.245, 397.527], [0.0, 0.0, -8.49782], [0.0, 0.0, -0.0029544], -3.141592653578652)\n",
      "PHYSICAL_STATE([4.37966, 7.94417e-12, 3.80887e-14], [-1.86079e-13, -1.78635e-15, 0.0], [0.0, 0.0, 0.0], -3.131993020313196)\n",
      "\n",
      "1\n",
      "0.7684753397447394\n",
      "accel_noise: 0.6913576554776869\n",
      "accels_speed[action]: -1.288\n",
      "BELIEF_STATE(MDP_STATE[SPEED_STATE(3291.86, 0.651285, 0.00959963, 0.0, 6.10524e-13, 1, 0.0)], [1.0])\n",
      "PHYSICAL_STATE([802.357, 608.245, 389.03], [0.0, 0.0, -8.49727], [0.0, 0.0, 0.000548428], -3.141592653578652)\n",
      "PHYSICAL_STATE([4.37966, 7.94238e-12, 3.80887e-14], [-1.86079e-13, -1.78635e-15, 0.0], [0.0, 0.0, 0.0], -3.131993020313196)\n",
      "\n",
      "1\n",
      "2.414896490709254\n",
      "accel_noise: -0.5869196356438308\n",
      "accels_speed[action]: -1.288\n",
      "BELIEF_STATE(MDP_STATE[SPEED_STATE(3291.86, 0.651285, 0.00959963, 0.0, 6.10524e-13, 1, 0.0)], [1.0])\n",
      "PHYSICAL_STATE([802.357, 608.245, 380.534], [0.0, 0.0, -8.49322], [0.0, 0.0, 0.00405126], -3.141592653578652)\n",
      "PHYSICAL_STATE([4.37966, 7.9406e-12, 3.80887e-14], [-1.86079e-13, -1.78635e-15, 0.0], [0.0, 0.0, 0.0], -3.131993020313196)\n",
      "\n",
      "1\n",
      "0.716756365827052\n",
      "accel_noise: 0.7315121383330342\n",
      "accels_speed[action]: -1.288\n",
      "BELIEF_STATE(MDP_STATE[SPEED_STATE(3291.86, 0.651285, 0.00959963, 0.0, 6.10524e-13, 1, 0.0)], [1.0])\n",
      "PHYSICAL_STATE([802.357, 608.245, 372.045], [0.0, 0.0, -8.48566], [0.0, 0.0, 0.00755409], -3.141592653578652)\n",
      "PHYSICAL_STATE([4.37966, 7.93881e-12, 3.80887e-14], [-1.86079e-13, -1.78635e-15, 0.0], [0.0, 0.0, 0.0], -3.131993020313196)\n",
      "\n",
      "1\n",
      "0.33735667114289336\n",
      "accel_noise: 1.0260771186778779\n",
      "accels_speed[action]: -1.288\n",
      "BELIEF_STATE(MDP_STATE[SPEED_STATE(3291.86, 0.651285, 0.00959963, 0.0, 6.10524e-13, 1, 0.0)], [1.0])\n",
      "PHYSICAL_STATE([802.357, 608.245, 363.565], [0.0, 0.0, -8.47461], [0.0, 0.0, 0.0110569], -3.141592653578652)\n",
      "PHYSICAL_STATE([4.37966, 7.93702e-12, 3.80887e-14], [-1.86079e-13, -1.78635e-15, 0.0], [0.0, 0.0, 0.0], -3.131993020313196)\n",
      "\n",
      "1\n",
      "1.3213146218751135\n",
      "accel_noise: 0.26213461034540864\n",
      "accels_speed[action]: -1.288\n",
      "BELIEF_STATE(MDP_STATE[SPEED_STATE(3291.86, 0.651285, 0.00959963, 0.0, 6.10524e-13, 1, 0.0)], [1.0])\n",
      "PHYSICAL_STATE([802.357, 608.245, 355.098], [0.0, 0.0, -8.46005], [0.0, 0.0, 0.0145598], -3.141592653578652)\n",
      "PHYSICAL_STATE([4.37966, 7.93524e-12, 3.80887e-14], [-1.86079e-13, -1.78635e-15, 0.0], [0.0, 0.0, 0.0], -3.131993020313196)\n",
      "\n",
      "1\n",
      "2.1641906495412973\n",
      "accel_noise: -0.3922722434326842\n",
      "accels_speed[action]: -1.288\n",
      "BELIEF_STATE(MDP_STATE[SPEED_STATE(3291.86, 0.651285, 0.00959963, 0.0, 6.10524e-13, 1, 0.0)], [1.0])\n",
      "PHYSICAL_STATE([802.357, 608.245, 346.647], [0.0, 0.0, -8.44198], [0.0, 0.0, 0.0180626], -3.141592653578652)\n",
      "PHYSICAL_STATE([4.37966, 7.93345e-12, 3.80887e-14], [-1.86079e-13, -1.78635e-15, 0.0], [0.0, 0.0, 0.0], -3.131993020313196)\n",
      "\n",
      "1\n",
      "0.9294880350426966\n",
      "accel_noise: 0.566347798879894\n",
      "accels_speed[action]: -1.288\n",
      "BELIEF_STATE(MDP_STATE[SPEED_STATE(3291.86, 0.651285, 0.00959963, 0.0, 6.10524e-13, 1, 0.0)], [1.0])\n",
      "PHYSICAL_STATE([802.357, 608.245, 338.215], [0.0, 0.0, -8.42042], [0.0, 0.0, 0.0215655], -3.141592653578652)\n",
      "PHYSICAL_STATE([4.37966, 7.93166e-12, 3.80887e-14], [-1.86079e-13, -1.78635e-15, 0.0], [0.0, 0.0, 0.0], -3.131993020313196)\n",
      "\n",
      "1\n",
      "0.6214579708318281\n",
      "accel_noise: 0.8055015754411273\n",
      "accels_speed[action]: -1.288\n",
      "BELIEF_STATE(MDP_STATE[SPEED_STATE(3291.86, 0.651285, 0.00959963, 0.0, 6.10524e-13, 1, 0.0)], [1.0])\n",
      "PHYSICAL_STATE([802.357, 608.245, 329.807], [0.0, 0.0, -8.39535], [0.0, 0.0, 0.0250683], -3.141592653578652)\n",
      "PHYSICAL_STATE([4.37966, 7.92988e-12, 3.80887e-14], [-1.86079e-13, -1.78635e-15, 0.0], [0.0, 0.0, 0.0], -3.131993020313196)\n",
      "\n",
      "1\n",
      "2.2903138048869076\n",
      "accel_noise: -0.49019394789356174\n",
      "accels_speed[action]: -1.288\n",
      "BELIEF_STATE(MDP_STATE[SPEED_STATE(3291.86, 0.651285, 0.00959963, 0.0, 6.10524e-13, 1, 0.0)], [1.0])\n",
      "PHYSICAL_STATE([802.357, 608.245, 321.426], [0.0, 0.0, -8.36678], [0.0, 0.0, 0.0285711], -3.141592653578652)\n",
      "PHYSICAL_STATE([4.37966, 7.92809e-12, 3.80887e-14], [-1.86079e-13, -1.78635e-15, 0.0], [0.0, 0.0, 0.0], -3.131993020313196)\n",
      "\n",
      "1\n",
      "2.293268169663437\n",
      "accel_noise: -0.4924877093660222\n",
      "accels_speed[action]: -1.288\n",
      "BELIEF_STATE(MDP_STATE[SPEED_STATE(3291.86, 0.651285, 0.00959963, 0.0, 6.10524e-13, 1, 0.0)], [1.0])\n",
      "PHYSICAL_STATE([802.357, 608.245, 313.076], [0.0, 0.0, -8.33471], [0.0, 0.0, 0.032074], -3.141592653578652)\n",
      "PHYSICAL_STATE([4.37966, 7.9263e-12, 3.80887e-14], [-1.86079e-13, -1.78635e-15, 0.0], [0.0, 0.0, 0.0], -3.131993020313196)\n",
      "\n",
      "1\n",
      "1.5572130863626434\n",
      "accel_noise: 0.07898362860043223\n",
      "accels_speed[action]: -1.288\n",
      "BELIEF_STATE(MDP_STATE[SPEED_STATE(3291.86, 0.651285, 0.00959963, 0.0, 6.10524e-13, 1, 0.0)], [1.0])\n",
      "PHYSICAL_STATE([802.357, 608.245, 304.759], [0.0, 0.0, -8.29913], [0.0, 0.0, 0.0355768], -3.141592653578652)\n",
      "PHYSICAL_STATE([4.37966, 7.92452e-12, 3.80887e-14], [-1.86079e-13, -1.78635e-15, 0.0], [0.0, 0.0, 0.0], -3.131993020313196)\n",
      "\n",
      "1\n",
      "2.671598786978627\n",
      "accel_noise: -0.786222660697692\n",
      "accels_speed[action]: -1.288\n",
      "BELIEF_STATE(MDP_STATE[SPEED_STATE(3291.86, 0.651285, 0.00959963, 0.0, 6.10524e-13, 1, 0.0)], [1.0])\n",
      "PHYSICAL_STATE([802.357, 608.245, 296.479], [0.0, 0.0, -8.26005], [0.0, 0.0, 0.0390797], -3.141592653578652)\n",
      "PHYSICAL_STATE([4.37966, 7.92273e-12, 3.80887e-14], [-1.86079e-13, -1.78635e-15, 0.0], [0.0, 0.0, 0.0], -3.131993020313196)\n",
      "\n",
      "1\n",
      "2.445544999434589\n",
      "accel_noise: -0.6107150616728171\n",
      "accels_speed[action]: -1.288\n",
      "BELIEF_STATE(MDP_STATE[SPEED_STATE(3291.86, 0.651285, 0.00959963, 0.0, 6.10524e-13, 1, 0.0)], [1.0])\n",
      "PHYSICAL_STATE([802.357, 608.245, 288.24], [0.0, 0.0, -8.21747], [0.0, 0.0, 0.0425826], -3.141592653578652)\n",
      "PHYSICAL_STATE([4.37966, 7.92095e-12, 3.80887e-14], [-1.86079e-13, -1.78635e-15, 0.0], [0.0, 0.0, 0.0], -3.131993020313196)\n",
      "\n",
      "1\n",
      "2.951587440520645\n",
      "accel_noise: -1.0036051556837307\n",
      "accels_speed[action]: -1.288\n",
      "BELIEF_STATE(MDP_STATE[SPEED_STATE(3291.86, 0.651285, 0.00959963, 0.0, 6.10524e-13, 1, 0.0)], [1.0])\n",
      "PHYSICAL_STATE([802.357, 608.245, 280.046], [0.0, 0.0, -8.17138], [0.0, 0.0, 0.0460854], -3.141592653578652)\n",
      "PHYSICAL_STATE([4.37966, 7.91916e-12, 3.80887e-14], [-1.86079e-13, -1.78635e-15, 0.0], [0.0, 0.0, 0.0], -3.131993020313196)\n",
      "\n",
      "1\n",
      "0.09877732213706625\n",
      "accel_noise: 1.2113095325022778\n",
      "accels_speed[action]: -1.288\n",
      "BELIEF_STATE(MDP_STATE[SPEED_STATE(3291.86, 0.651285, 0.00959963, 0.0, 6.10524e-13, 1, 0.0)], [1.0])\n",
      "PHYSICAL_STATE([802.357, 608.245, 271.899], [0.0, 0.0, -8.12179], [0.0, 0.0, 0.0495883], -3.141592653578652)\n",
      "PHYSICAL_STATE([4.37966, 7.91737e-12, 3.80887e-14], [-1.86079e-13, -1.78635e-15, 0.0], [0.0, 0.0, 0.0], -3.131993020313196)\n",
      "\n",
      "1\n",
      "1.239981332524571\n",
      "accel_noise: 0.325281574126886\n",
      "accels_speed[action]: -1.288\n",
      "BELIEF_STATE(MDP_STATE[SPEED_STATE(3291.86, 0.651285, 0.00959963, 0.0, 6.10524e-13, 1, 0.0)], [1.0])\n",
      "PHYSICAL_STATE([802.357, 608.245, 263.804], [0.0, 0.0, -8.0687], [0.0, 0.0, 0.0530911], -3.141592653578652)\n",
      "PHYSICAL_STATE([4.37966, 7.91559e-12, 3.80887e-14], [-1.86079e-13, -1.78635e-15, 0.0], [0.0, 0.0, 0.0], -3.131993020313196)\n",
      "\n",
      "1\n",
      "0.399423307823881\n",
      "accel_noise: 0.9778887361615831\n",
      "accels_speed[action]: -1.288\n",
      "BELIEF_STATE(MDP_STATE[SPEED_STATE(3291.86, 0.651285, 0.00959963, 0.0, 6.10524e-13, 1, 0.0)], [1.0])\n",
      "PHYSICAL_STATE([802.357, 608.245, 255.764], [0.0, 0.0, -8.01211], [0.0, 0.0, 0.056594], -3.141592653578652)\n",
      "PHYSICAL_STATE([4.37966, 7.9138e-12, 3.80887e-14], [-1.86079e-13, -1.78635e-15, 0.0], [0.0, 0.0, 0.0], -3.131993020313196)\n",
      "\n",
      "1\n",
      "2.4685860283581893\n",
      "accel_noise: -0.6286040592843083\n",
      "accels_speed[action]: -1.288\n",
      "BELIEF_STATE(MDP_STATE[SPEED_STATE(3291.86, 0.651285, 0.00959963, 0.0, 6.10524e-13, 1, 0.0)], [1.0])\n",
      "PHYSICAL_STATE([802.357, 608.245, 247.782], [0.0, 0.0, -7.95201], [0.0, 0.0, 0.0600969], -3.141592653578652)\n",
      "PHYSICAL_STATE([4.37966, 7.91201e-12, 3.80887e-14], [-1.86079e-13, -1.78635e-15, 0.0], [0.0, 0.0, 0.0], -3.131993020313196)\n",
      "\n",
      "1\n",
      "1.340334010778624\n",
      "accel_noise: 0.24736800405386353\n",
      "accels_speed[action]: -1.288\n",
      "BELIEF_STATE(MDP_STATE[SPEED_STATE(3291.86, 0.651285, 0.00959963, 0.0, 6.10524e-13, 1, 0.0)], [1.0])\n",
      "PHYSICAL_STATE([802.357, 608.245, 239.861], [0.0, 0.0, -7.88841], [0.0, 0.0, 0.0635997], -3.141592653578652)\n",
      "PHYSICAL_STATE([4.37966, 7.91023e-12, 3.80887e-14], [-1.86079e-13, -1.78635e-15, 0.0], [0.0, 0.0, 0.0], -3.131993020313196)\n",
      "\n",
      "1\n",
      "1.5712623080939867\n",
      "accel_noise: 0.06807584775311598\n",
      "accels_speed[action]: -1.288\n",
      "BELIEF_STATE(MDP_STATE[SPEED_STATE(3291.86, 0.651285, 0.00959963, 0.0, 6.10524e-13, 1, 0.0)], [1.0])\n",
      "PHYSICAL_STATE([802.357, 608.245, 232.007], [0.0, 0.0, -7.82131], [0.0, 0.0, 0.0671026], -3.141592653578652)\n",
      "PHYSICAL_STATE([4.37966, 7.90844e-12, 3.80887e-14], [-1.86079e-13, -1.78635e-15, 0.0], [0.0, 0.0, 0.0], -3.131993020313196)\n",
      "\n",
      "1\n",
      "1.4365617814807106\n",
      "accel_noise: 0.17265700195597017\n",
      "accels_speed[action]: -1.288\n",
      "BELIEF_STATE(MDP_STATE[SPEED_STATE(3291.86, 0.651285, 0.00959963, 0.0, 6.10524e-13, 1, 0.0)], [1.0])\n",
      "PHYSICAL_STATE([802.357, 608.245, 224.221], [0.0, 0.0, -7.7507], [0.0, 0.0, 0.0706055], -3.141592653578652)\n",
      "PHYSICAL_STATE([4.37966, 7.90665e-12, 3.80887e-14], [-1.86079e-13, -1.78635e-15, 0.0], [0.0, 0.0, 0.0], -3.131993020313196)\n",
      "\n",
      "1\n",
      "1.5908450036392772\n",
      "accel_noise: 0.052871891584412196\n",
      "accels_speed[action]: -1.288\n",
      "BELIEF_STATE(MDP_STATE[SPEED_STATE(3291.86, 0.651285, 0.00959963, 0.0, 6.10524e-13, 1, 0.0)], [1.0])\n",
      "PHYSICAL_STATE([802.357, 608.245, 216.507], [0.0, 0.0, -7.67659], [0.0, 0.0, 0.0741083], -3.141592653578652)\n",
      "PHYSICAL_STATE([4.37966, 7.90487e-12, 3.80887e-14], [-1.86079e-13, -1.78635e-15, 0.0], [0.0, 0.0, 0.0], -3.131993020313196)\n",
      "\n",
      "1\n",
      "1.3244246813189868\n",
      "accel_noise: 0.2597199679200413\n",
      "accels_speed[action]: -1.288\n",
      "BELIEF_STATE(MDP_STATE[SPEED_STATE(3291.86, 0.651285, 0.00959963, 0.0, 6.10524e-13, 1, 0.0)], [1.0])\n",
      "PHYSICAL_STATE([802.357, 608.245, 208.869], [0.0, 0.0, -7.59898], [0.0, 0.0, 0.0776112], -3.141592653578652)\n",
      "PHYSICAL_STATE([4.37966, 7.90308e-12, 3.80887e-14], [-1.86079e-13, -1.78635e-15, 0.0], [0.0, 0.0, 0.0], -3.131993020313196)\n",
      "\n",
      "1\n",
      "1.6158215044732567\n",
      "accel_noise: 0.03348019839032885\n",
      "accels_speed[action]: -1.288\n",
      "BELIEF_STATE(MDP_STATE[SPEED_STATE(3291.86, 0.651285, 0.00959963, 0.0, 6.10524e-13, 1, 0.0)], [1.0])\n",
      "PHYSICAL_STATE([802.357, 608.245, 201.311], [0.0, 0.0, -7.51787], [0.0, 0.0, 0.0811141], -3.141592653578652)\n",
      "PHYSICAL_STATE([4.37966, 7.9013e-12, 3.80887e-14], [-1.86079e-13, -1.78635e-15, 0.0], [0.0, 0.0, 0.0], -3.131993020313196)\n",
      "\n",
      "1\n",
      "2.039144427368912\n",
      "accel_noise: -0.2951866672118883\n",
      "accels_speed[action]: -1.288\n",
      "BELIEF_STATE(MDP_STATE[SPEED_STATE(3291.86, 0.651285, 0.00959963, 0.0, 6.10524e-13, 1, 0.0)], [1.0])\n",
      "PHYSICAL_STATE([802.357, 608.245, 193.835], [0.0, 0.0, -7.43325], [0.0, 0.0, 0.084617], -3.141592653578652)\n",
      "PHYSICAL_STATE([4.37966, 7.89951e-12, 3.80887e-14], [-1.86079e-13, -1.78635e-15, 0.0], [0.0, 0.0, 0.0], -3.131993020313196)\n",
      "\n",
      "1\n",
      "1.5778997778737667\n",
      "accel_noise: 0.06292253270670281\n",
      "accels_speed[action]: -1.288\n",
      "BELIEF_STATE(MDP_STATE[SPEED_STATE(3291.86, 0.651285, 0.00959963, 0.0, 6.10524e-13, 1, 0.0)], [1.0])\n",
      "PHYSICAL_STATE([802.357, 608.245, 186.446], [0.0, 0.0, -7.34513], [0.0, 0.0, 0.0881198], -3.141592653578652)\n",
      "PHYSICAL_STATE([4.37966, 7.89772e-12, 3.80887e-14], [-1.86079e-13, -1.78635e-15, 0.0], [0.0, 0.0, 0.0], -3.131993020313196)\n",
      "\n",
      "1\n",
      "1.7823843047383445\n",
      "accel_noise: -0.09583874591486372\n",
      "accels_speed[action]: -1.288\n",
      "BELIEF_STATE(MDP_STATE[SPEED_STATE(3291.86, 0.651285, 0.00959963, 0.0, 6.10524e-13, 1, 0.0)], [1.0])\n",
      "PHYSICAL_STATE([802.357, 608.245, 179.147], [0.0, 0.0, -7.25351], [0.0, 0.0, 0.0916227], -3.141592653578652)\n",
      "PHYSICAL_STATE([4.37966, 7.89594e-12, 3.80887e-14], [-1.86079e-13, -1.78635e-15, 0.0], [0.0, 0.0, 0.0], -3.131993020313196)\n",
      "\n",
      "1\n",
      "2.1758528439076943\n",
      "accel_noise: -0.40132674216435865\n",
      "accels_speed[action]: -1.288\n",
      "BELIEF_STATE(MDP_STATE[SPEED_STATE(3291.86, 0.651285, 0.00959963, 0.0, 6.10524e-13, 1, 0.0)], [1.0])\n",
      "PHYSICAL_STATE([802.357, 608.245, 171.941], [0.0, 0.0, -7.15838], [0.0, 0.0, 0.0951256], -3.141592653578652)\n",
      "PHYSICAL_STATE([4.37966, 7.89415e-12, 3.80887e-14], [-1.86079e-13, -1.78635e-15, 0.0], [0.0, 0.0, 0.0], -3.131993020313196)\n",
      "\n",
      "1\n",
      "1.6648178352564607\n",
      "accel_noise: -0.004560431099736457\n",
      "accels_speed[action]: -1.288\n",
      "BELIEF_STATE(MDP_STATE[SPEED_STATE(3291.86, 0.651285, 0.00959963, 0.0, 6.10524e-13, 1, 0.0)], [1.0])\n",
      "PHYSICAL_STATE([802.357, 608.245, 164.832], [0.0, 0.0, -7.05976], [0.0, 0.0, 0.0986285], -3.141592653578652)\n",
      "PHYSICAL_STATE([4.37966, 7.89236e-12, 3.80887e-14], [-1.86079e-13, -1.78635e-15, 0.0], [0.0, 0.0, 0.0], -3.131993020313196)\n",
      "\n",
      "1\n",
      "3.4128100442926796\n",
      "accel_noise: -1.3616972393576705\n",
      "accels_speed[action]: -1.288\n",
      "BELIEF_STATE(MDP_STATE[SPEED_STATE(3291.86, 0.651285, 0.00959963, 0.0, 6.10524e-13, 1, 0.0)], [1.0])\n",
      "PHYSICAL_STATE([802.357, 608.245, 157.823], [0.0, 0.0, -6.95762], [0.0, 0.0, 0.102131], -3.141592653578652)\n",
      "PHYSICAL_STATE([4.37966, 7.89058e-12, 3.80887e-14], [-1.86079e-13, -1.78635e-15, 0.0], [0.0, 0.0, 0.0], -3.131993020313196)\n",
      "\n",
      "1\n",
      "1.3381117268987155\n",
      "accel_noise: 0.24909337973702222\n",
      "accels_speed[action]: -1.288\n",
      "BELIEF_STATE(MDP_STATE[SPEED_STATE(3291.86, 0.651285, 0.00959963, 0.0, 6.10524e-13, 1, 0.0)], [1.0])\n",
      "PHYSICAL_STATE([802.357, 608.245, 150.918], [0.0, 0.0, -6.85199], [0.0, 0.0, 0.105634], -3.141592653578652)\n",
      "PHYSICAL_STATE([4.37966, 7.88879e-12, 3.80887e-14], [-1.86079e-13, -1.78635e-15, 0.0], [0.0, 0.0, 0.0], -3.131993020313196)\n",
      "\n",
      "1\n",
      "0.9850955365117284\n",
      "accel_noise: 0.5231742728946208\n",
      "accels_speed[action]: -1.288\n",
      "BELIEF_STATE(MDP_STATE[SPEED_STATE(3291.86, 0.651285, 0.00959963, 0.0, 6.10524e-13, 1, 0.0)], [1.0])\n",
      "PHYSICAL_STATE([802.357, 608.245, 144.121], [0.0, 0.0, -6.74285], [0.0, 0.0, 0.109137], -3.141592653578652)\n",
      "PHYSICAL_STATE([4.37966, 7.887e-12, 3.80887e-14], [-1.86079e-13, -1.78635e-15, 0.0], [0.0, 0.0, 0.0], -3.131993020313196)\n",
      "\n",
      "1\n",
      "1.221310943141881\n",
      "accel_noise: 0.3397772180575459\n",
      "accels_speed[action]: -1.288\n",
      "BELIEF_STATE(MDP_STATE[SPEED_STATE(3291.86, 0.651285, 0.00959963, 0.0, 6.10524e-13, 1, 0.0)], [1.0])\n",
      "PHYSICAL_STATE([802.357, 608.245, 137.434], [0.0, 0.0, -6.63021], [0.0, 0.0, 0.11264], -3.141592653578652)\n",
      "PHYSICAL_STATE([4.37966, 7.88522e-12, 3.80887e-14], [-1.86079e-13, -1.78635e-15, 0.0], [0.0, 0.0, 0.0], -3.131993020313196)\n",
      "\n",
      "1\n",
      "1.4341457746533994\n",
      "accel_noise: 0.17453278365419309\n",
      "accels_speed[action]: -1.288\n",
      "BELIEF_STATE(MDP_STATE[SPEED_STATE(3291.86, 0.651285, 0.00959963, 0.0, 6.10524e-13, 1, 0.0)], [1.0])\n",
      "PHYSICAL_STATE([802.357, 608.245, 130.862], [0.0, 0.0, -6.51407], [0.0, 0.0, 0.116143], -3.141592653578652)\n",
      "PHYSICAL_STATE([4.37966, 7.88343e-12, 3.80887e-14], [-1.86079e-13, -1.78635e-15, 0.0], [0.0, 0.0, 0.0], -3.131993020313196)\n",
      "\n",
      "1\n",
      "0.7146805728591292\n",
      "accel_noise: 0.7331237788360798\n",
      "accels_speed[action]: -1.288\n",
      "BELIEF_STATE(MDP_STATE[SPEED_STATE(3291.86, 0.651285, 0.00959963, 0.0, 6.10524e-13, 1, 0.0)], [1.0])\n",
      "PHYSICAL_STATE([802.357, 608.245, 124.408], [0.0, 0.0, -6.39442], [0.0, 0.0, 0.119646], -3.141592653578652)\n",
      "PHYSICAL_STATE([4.37966, 7.88165e-12, 3.80887e-14], [-1.86079e-13, -1.78635e-15, 0.0], [0.0, 0.0, 0.0], -3.131993020313196)\n",
      "\n",
      "1\n",
      "2.6586282833630217\n",
      "accel_noise: -0.7761523939153896\n",
      "accels_speed[action]: -1.288\n",
      "BELIEF_STATE(MDP_STATE[SPEED_STATE(3291.86, 0.651285, 0.00959963, 0.0, 6.10524e-13, 1, 0.0)], [1.0])\n",
      "PHYSICAL_STATE([802.357, 608.245, 118.075], [0.0, 0.0, -6.27128], [0.0, 0.0, 0.123149], -3.141592653578652)\n",
      "PHYSICAL_STATE([4.37966, 7.87986e-12, 3.80887e-14], [-1.86079e-13, -1.78635e-15, 0.0], [0.0, 0.0, 0.0], -3.131993020313196)\n",
      "\n",
      "1\n",
      "3.307160674882787\n",
      "accel_noise: -1.279671331430735\n",
      "accels_speed[action]: -1.288\n",
      "BELIEF_STATE(MDP_STATE[SPEED_STATE(3291.86, 0.651285, 0.00959963, 0.0, 6.10524e-13, 1, 0.0)], [1.0])\n",
      "PHYSICAL_STATE([802.357, 608.245, 111.867], [0.0, 0.0, -6.14462], [0.0, 0.0, 0.126652], -3.141592653578652)\n",
      "PHYSICAL_STATE([4.37966, 7.87807e-12, 3.80887e-14], [-1.86079e-13, -1.78635e-15, 0.0], [0.0, 0.0, 0.0], -3.131993020313196)\n",
      "\n",
      "1\n",
      "2.2754766128764543\n",
      "accel_noise: -0.47867438887923475\n",
      "accels_speed[action]: -1.288\n",
      "BELIEF_STATE(MDP_STATE[SPEED_STATE(3291.86, 0.651285, 0.00959963, 0.0, 6.10524e-13, 1, 0.0)], [1.0])\n",
      "PHYSICAL_STATE([802.357, 608.245, 105.787], [0.0, 0.0, -6.01447], [0.0, 0.0, 0.130154], -3.141592653578652)\n",
      "PHYSICAL_STATE([4.37966, 7.87629e-12, 3.80887e-14], [-1.86079e-13, -1.78635e-15, 0.0], [0.0, 0.0, 0.0], -3.131993020313196)\n",
      "\n",
      "1\n",
      "1.8052923460657206\n",
      "accel_noise: -0.11362449228705025\n",
      "accels_speed[action]: -1.288\n",
      "BELIEF_STATE(MDP_STATE[SPEED_STATE(3291.86, 0.651285, 0.00959963, 0.0, 6.10524e-13, 1, 0.0)], [1.0])\n",
      "PHYSICAL_STATE([802.357, 608.245, 99.8398], [0.0, 0.0, -5.88081], [0.0, 0.0, 0.133657], -3.141592653578652)\n",
      "PHYSICAL_STATE([4.37966, 7.8745e-12, 3.80887e-14], [-1.86079e-13, -1.78635e-15, 0.0], [0.0, 0.0, 0.0], -3.131993020313196)\n",
      "\n",
      "1\n",
      "2.1608773583489667\n",
      "accel_noise: -0.38969981238273804\n",
      "accels_speed[action]: -1.288\n",
      "BELIEF_STATE(MDP_STATE[SPEED_STATE(3291.86, 0.651285, 0.00959963, 0.0, 6.10524e-13, 1, 0.0)], [1.0])\n",
      "PHYSICAL_STATE([802.357, 608.245, 94.0275], [0.0, 0.0, -5.74365], [0.0, 0.0, 0.13716], -3.141592653578652)\n",
      "PHYSICAL_STATE([4.37966, 7.87271e-12, 3.80887e-14], [-1.86079e-13, -1.78635e-15, 0.0], [0.0, 0.0, 0.0], -3.131993020313196)\n",
      "\n",
      "1\n",
      "0.33597010067974403\n",
      "accel_noise: 1.0271536485405715\n",
      "accels_speed[action]: -1.288\n",
      "BELIEF_STATE(MDP_STATE[SPEED_STATE(3291.86, 0.651285, 0.00959963, 0.0, 6.10524e-13, 1, 0.0)], [1.0])\n",
      "PHYSICAL_STATE([802.357, 608.245, 88.3542], [0.0, 0.0, -5.60299], [0.0, 0.0, 0.140663], -3.141592653578652)\n",
      "PHYSICAL_STATE([4.37966, 7.87093e-12, 3.80887e-14], [-1.86079e-13, -1.78635e-15, 0.0], [0.0, 0.0, 0.0], -3.131993020313196)\n",
      "\n",
      "1\n",
      "1.6335372964718442\n",
      "accel_noise: 0.019725701497015424\n",
      "accels_speed[action]: -1.288\n",
      "BELIEF_STATE(MDP_STATE[SPEED_STATE(3291.86, 0.651285, 0.00959963, 0.0, 6.10524e-13, 1, 0.0)], [1.0])\n"
     ]
    },
    {
     "name": "stdout",
     "output_type": "stream",
     "text": [
      "PHYSICAL_STATE([802.357, 608.245, 82.8233], [0.0, 0.0, -5.45882], [0.0, 0.0, 0.144166], -3.141592653578652)\n",
      "PHYSICAL_STATE([4.37966, 7.86914e-12, 3.80887e-14], [-1.86079e-13, -1.78635e-15, 0.0], [0.0, 0.0, 0.0], -3.131993020313196)\n",
      "\n",
      "1\n",
      "1.656442163763837\n",
      "accel_noise: 0.0019424194380147843\n",
      "accels_speed[action]: -1.288\n",
      "BELIEF_STATE(MDP_STATE[SPEED_STATE(3291.86, 0.651285, 0.00959963, 0.0, 6.10524e-13, 1, 0.0)], [1.0])\n",
      "PHYSICAL_STATE([802.357, 608.245, 77.4383], [0.0, 0.0, -5.31115], [0.0, 0.0, 0.147669], -3.141592653578652)\n",
      "PHYSICAL_STATE([4.37966, 7.86736e-12, 3.80887e-14], [-1.86079e-13, -1.78635e-15, 0.0], [0.0, 0.0, 0.0], -3.131993020313196)\n",
      "\n",
      "1\n",
      "0.5539585936330851\n",
      "accel_noise: 0.8579079241979154\n",
      "accels_speed[action]: -1.288\n",
      "BELIEF_STATE(MDP_STATE[SPEED_STATE(3291.86, 0.651285, 0.00959963, 0.0, 6.10524e-13, 1, 0.0)], [1.0])\n",
      "PHYSICAL_STATE([802.357, 608.245, 72.2028], [0.0, 0.0, -5.15998], [0.0, 0.0, 0.151172], -3.141592653578652)\n",
      "PHYSICAL_STATE([4.37966, 7.86557e-12, 3.80887e-14], [-1.86079e-13, -1.78635e-15, 0.0], [0.0, 0.0, 0.0], -3.131993020313196)\n",
      "\n",
      "1\n",
      "2.228761340767774\n",
      "accel_noise: -0.4424047676768433\n",
      "accels_speed[action]: -1.288\n",
      "BELIEF_STATE(MDP_STATE[SPEED_STATE(3291.86, 0.651285, 0.00959963, 0.0, 6.10524e-13, 1, 0.0)], [1.0])\n",
      "PHYSICAL_STATE([802.357, 608.245, 67.1201], [0.0, 0.0, -5.00531], [0.0, 0.0, 0.154675], -3.141592653578652)\n",
      "PHYSICAL_STATE([4.37966, 7.86378e-12, 3.80887e-14], [-1.86079e-13, -1.78635e-15, 0.0], [0.0, 0.0, 0.0], -3.131993020313196)\n",
      "\n",
      "1\n",
      "2.266443188770174\n",
      "accel_noise: -0.4716608608464083\n",
      "accels_speed[action]: -1.288\n",
      "BELIEF_STATE(MDP_STATE[SPEED_STATE(3291.86, 0.651285, 0.00959963, 0.0, 6.10524e-13, 1, 0.0)], [1.0])\n",
      "PHYSICAL_STATE([802.357, 608.245, 62.1939], [0.0, 0.0, -4.84713], [0.0, 0.0, 0.158178], -3.141592653578652)\n",
      "PHYSICAL_STATE([4.37966, 7.862e-12, 3.80887e-14], [-1.86079e-13, -1.78635e-15, 0.0], [0.0, 0.0, 0.0], -3.131993020313196)\n",
      "\n",
      "1\n",
      "1.8922732575760062\n",
      "accel_noise: -0.18115625588199244\n",
      "accels_speed[action]: -1.288\n",
      "BELIEF_STATE(MDP_STATE[SPEED_STATE(3291.86, 0.651285, 0.00959963, 0.0, 6.10524e-13, 1, 0.0)], [1.0])\n",
      "PHYSICAL_STATE([802.357, 608.245, 57.4276], [0.0, 0.0, -4.68545], [0.0, 0.0, 0.16168], -3.141592653578652)\n",
      "PHYSICAL_STATE([4.37966, 7.86021e-12, 3.80887e-14], [-1.86079e-13, -1.78635e-15, 0.0], [0.0, 0.0, 0.0], -3.131993020313196)\n",
      "\n",
      "1\n",
      "-0.8535828687705045\n",
      "accel_noise: 1.9507196186106401\n",
      "accels_speed[action]: -1.288\n",
      "BELIEF_STATE(MDP_STATE[SPEED_STATE(3291.86, 0.651285, 0.00959963, 0.0, 6.10524e-13, 1, 0.0)], [1.0])\n",
      "PHYSICAL_STATE([802.357, 608.245, 52.8247], [0.0, 0.0, -4.52027], [0.0, 0.0, 0.165183], -3.141592653578652)\n",
      "PHYSICAL_STATE([4.37966, 7.85842e-12, 3.80887e-14], [-1.86079e-13, -1.78635e-15, 0.0], [0.0, 0.0, 0.0], -3.131993020313196)\n",
      "\n",
      "1\n",
      "1.7071038117369797\n",
      "accel_noise: -0.03739115818088482\n",
      "accels_speed[action]: -1.288\n",
      "BELIEF_STATE(MDP_STATE[SPEED_STATE(3291.86, 0.651285, 0.00959963, 0.0, 6.10524e-13, 1, 0.0)], [1.0])\n",
      "PHYSICAL_STATE([802.357, 608.245, 48.3888], [0.0, 0.0, -4.35158], [0.0, 0.0, 0.168686], -3.141592653578652)\n",
      "PHYSICAL_STATE([4.37966, 7.85664e-12, 3.80887e-14], [-1.86079e-13, -1.78635e-15, 0.0], [0.0, 0.0, 0.0], -3.131993020313196)\n",
      "\n",
      "1\n",
      "2.7331350819253983\n",
      "accel_noise: -0.83399928720916\n",
      "accels_speed[action]: -1.288\n",
      "BELIEF_STATE(MDP_STATE[SPEED_STATE(3291.86, 0.651285, 0.00959963, 0.0, 6.10524e-13, 1, 0.0)], [1.0])\n",
      "PHYSICAL_STATE([802.357, 608.245, 44.1233], [0.0, 0.0, -4.17939], [0.0, 0.0, 0.172189], -3.141592653578652)\n",
      "PHYSICAL_STATE([4.37966, 7.85485e-12, 3.80887e-14], [-1.86079e-13, -1.78635e-15, 0.0], [0.0, 0.0, 0.0], -3.131993020313196)\n",
      "\n",
      "1\n",
      "1.4042705931831614\n",
      "accel_noise: 0.19772780032363238\n",
      "accels_speed[action]: -1.288\n",
      "BELIEF_STATE(MDP_STATE[SPEED_STATE(3291.86, 0.651285, 0.00959963, 0.0, 6.10524e-13, 1, 0.0)], [1.0])\n",
      "PHYSICAL_STATE([802.357, 608.245, 40.0318], [0.0, 0.0, -4.0037], [0.0, 0.0, 0.175692], -3.141592653578652)\n",
      "PHYSICAL_STATE([4.37966, 7.85306e-12, 1.67071e-13], [-1.86079e-13, -1.78635e-15, 2.57965e-13], [0.0, 0.0, 2.57965e-13], -3.131993020313196)\n",
      "\n",
      "1\n",
      "0.5639940633247457\n",
      "accel_noise: 0.850116410462154\n",
      "accels_speed[action]: -1.288\n",
      "BELIEF_STATE(MDP_STATE[SPEED_STATE(3291.86, 0.651285, 0.00959963, 0.0, 6.59438e-9, 1, 0.0)], [1.0])\n",
      "PHYSICAL_STATE([802.357, 608.245, 36.1177], [0.0, 0.0, -3.8245], [0.0, 0.0, 0.179195], -3.141592653578652)\n",
      "PHYSICAL_STATE([4.37966, -1.79515e-12, 4.58333], [-2.00987e-9, -1.92946e-11, 9.16667], [-2.00969e-9, -1.92929e-11, 9.16667], -3.1319930203131663)\n",
      "\n",
      "1\n",
      "0.7109146731990874\n",
      "accel_noise: 0.7360476139758638\n",
      "accels_speed[action]: -1.288\n",
      "BELIEF_STATE(MDP_STATE[SPEED_STATE(3291.86, 0.651285, 0.00959963, 0.0, 6.64922e-9, 1, 0.0)], [1.0])\n",
      "PHYSICAL_STATE([802.357, 608.245, 32.3845], [0.0, 0.0, -3.64181], [0.0, 0.0, 0.182698], -3.141592653578652)\n",
      "PHYSICAL_STATE([4.37966, -2.117e-11, 13.75], [-2.02659e-9, -1.94551e-11, 9.16667], [-1.67153e-11, -1.60466e-13, -3.5385e-12], -3.1319930203131663)\n",
      "\n",
      "1\n",
      "1.7964907969017057\n",
      "accel_noise: -0.10679099138331188\n",
      "accels_speed[action]: -1.288\n",
      "BELIEF_STATE(MDP_STATE[SPEED_STATE(3291.86, 0.651285, 0.00959963, 0.0, 6.65668e-9, 1, 0.0)], [1.0])\n",
      "PHYSICAL_STATE([802.357, 608.245, 28.8358], [0.0, 0.0, -3.45561], [0.0, 0.0, 0.186201], -3.141592653578652)\n",
      "PHYSICAL_STATE([4.37966, -4.06361e-11, 22.9167], [-2.02886e-9, -1.94769e-11, 9.16667], [-2.27442e-12, -2.18343e-14, -1.61826e-12], -3.1319930203131663)\n",
      "\n",
      "1\n",
      "1.4211260496935936\n",
      "accel_noise: 0.1846412657658436\n",
      "accels_speed[action]: -1.288\n",
      "BELIEF_STATE(MDP_STATE[SPEED_STATE(3291.86, 0.651285, 0.00959963, 0.0, 6.65817e-9, 1, 0.0)], [1.0])\n",
      "PHYSICAL_STATE([802.357, 608.245, 25.4751], [0.0, 0.0, -3.2659], [0.0, 0.0, 0.189704], -3.141592653578652)\n",
      "PHYSICAL_STATE([4.37966, -6.01152e-11, 32.0833], [-2.02932e-9, -1.94813e-11, 9.16667], [-4.52895e-13, -4.34776e-15, -9.87654e-13], -3.1319930203131663)\n",
      "\n",
      "1\n",
      "1.6258596866367165\n",
      "accel_noise: 0.025686578698201467\n",
      "accels_speed[action]: -1.288\n",
      "BELIEF_STATE(MDP_STATE[SPEED_STATE(3291.86, 0.651285, 0.00959963, 0.0, 6.65896e-9, 1, 0.0)], [1.0])\n",
      "PHYSICAL_STATE([802.357, 608.245, 22.3058], [0.0, 0.0, -3.0727], [0.0, 0.0, 0.193207], -3.141592653578652)\n",
      "PHYSICAL_STATE([4.37966, -7.95976e-11, 41.25], [-2.02956e-9, -1.94836e-11, 9.16667], [-2.4145e-13, -2.3179e-15, -6.6791e-13], -3.1319930203131663)\n",
      "\n",
      "1\n",
      "2.688699845941763\n",
      "accel_noise: -0.7994998803895677\n",
      "accels_speed[action]: -1.288\n",
      "BELIEF_STATE(MDP_STATE[SPEED_STATE(3291.86, 0.651285, 0.00959963, 0.0, 6.65942e-9, 1, 0.0)], [1.0])\n",
      "PHYSICAL_STATE([802.357, 608.245, 19.3314], [0.0, 0.0, -2.87599], [0.0, 0.0, 0.196709], -3.141592653578652)\n",
      "PHYSICAL_STATE([4.37966, -9.90819e-11, 50.4167], [-2.0297e-9, -1.9485e-11, 9.16667], [-1.3993e-13, -1.34331e-15, -5.8975e-13], -3.1319930203131663)\n",
      "\n",
      "1\n",
      "1.3819463984121727\n",
      "accel_noise: 0.21506024967999032\n",
      "accels_speed[action]: -1.288\n",
      "BELIEF_STATE(MDP_STATE[SPEED_STATE(3291.86, 0.651285, 0.00959963, 0.0, 6.65969e-9, 1, 0.0)], [1.0])\n",
      "PHYSICAL_STATE([802.357, 608.245, 16.5556], [0.0, 0.0, -2.67577], [0.0, 0.0, 0.200212], -3.141592653578652)\n",
      "PHYSICAL_STATE([4.37966, -1.18567e-10, 59.5833], [-2.02978e-9, -1.94857e-11, 9.16667], [-8.27732e-14, -7.94617e-16, -5.8975e-13], -3.1319930203131663)\n",
      "\n",
      "1\n",
      "2.6392724058749906\n",
      "accel_noise: -0.7611245387228187\n",
      "accels_speed[action]: -1.288\n",
      "BELIEF_STATE(MDP_STATE[SPEED_STATE(3291.86, 0.651285, 0.00959963, 0.0, 6.65988e-9, 1, 0.0)], [1.0])\n",
      "PHYSICAL_STATE([802.357, 608.245, 13.9816], [0.0, 0.0, -2.47206], [0.0, 0.0, 0.203715], -3.141592653578652)\n",
      "PHYSICAL_STATE([4.37966, -1.38053e-10, 68.75], [-2.02984e-9, -1.94863e-11, 9.16667], [-5.60291e-14, -5.37876e-16, -6.53699e-13], -3.1319930203131663)\n",
      "\n",
      "1\n",
      "2.254087730182872\n",
      "accel_noise: -0.4620681134960186\n",
      "accels_speed[action]: -1.288\n",
      "BELIEF_STATE(MDP_STATE[SPEED_STATE(3291.86, 0.651285, 0.00959963, 0.0, 6.66002e-9, 1, 0.0)], [1.0])\n",
      "PHYSICAL_STATE([802.357, 608.245, 11.6132], [0.0, 0.0, -2.26484], [0.0, 0.0, 0.207218], -3.141592653578652)\n",
      "PHYSICAL_STATE([4.37966, -1.5754e-10, 77.9167], [-2.02988e-9, -1.94867e-11, 9.16667], [-4.4707e-14, -4.29184e-16, -6.25278e-13], -3.1319930203131663)\n",
      "\n",
      "1\n",
      "2.26130532983671\n",
      "accel_noise: -0.46767183993533357\n",
      "accels_speed[action]: -1.288\n",
      "BELIEF_STATE(MDP_STATE[SPEED_STATE(3291.86, 0.651285, 0.00959963, 0.0, 6.66015e-9, 1, 0.0)], [1.0])\n",
      "PHYSICAL_STATE([802.357, 608.245, 9.45371], [0.0, 0.0, -2.05412], [0.0, 0.0, 0.210721], -3.141592653578652)\n",
      "PHYSICAL_STATE([4.37966, -1.77027e-10, 87.0833], [-2.02992e-9, -1.94871e-11, 9.16667], [-3.98726e-14, -3.82774e-16, -6.53699e-13], -3.1319930203131663)\n",
      "\n",
      "1\n",
      "2.1857216201365763\n",
      "accel_noise: -0.4089888355097643\n",
      "accels_speed[action]: -1.288\n",
      "BELIEF_STATE(MDP_STATE[SPEED_STATE(3291.86, 0.651285, 0.00959963, 0.0, 6.66028e-9, 1, 0.0)], [1.0])\n",
      "PHYSICAL_STATE([802.357, 608.245, 7.5067], [0.0, 0.0, -1.8399], [0.0, 0.0, 0.214224], -3.141592653578652)\n",
      "PHYSICAL_STATE([4.37966, -1.96514e-10, 96.25], [-2.02996e-9, -1.94875e-11, 9.16667], [-3.79226e-14, -3.64054e-16, -6.11067e-13], -3.1319930203131663)\n",
      "\n",
      "1\n",
      "1.158520768915946\n",
      "accel_noise: 0.388527353326129\n",
      "accels_speed[action]: -1.288\n",
      "BELIEF_STATE(MDP_STATE[SPEED_STATE(3291.86, 0.651285, 0.00959963, 0.0, 6.6604e-9, 1, 0.0)], [1.0])\n",
      "PHYSICAL_STATE([802.357, 608.245, 5.77567], [0.0, 0.0, -1.62217], [0.0, 0.0, 0.217727], -3.141592653578652)\n",
      "PHYSICAL_STATE([4.37966, -2.16002e-10, 105.417], [-2.03e-9, -1.94878e-11, 9.16667], [-3.79408e-14, -3.64229e-16, -5.25802e-13], -3.1319930203131663)\n",
      "\n",
      "1\n",
      "2.1174095650339\n",
      "accel_noise: -0.35595152564743787\n",
      "accels_speed[action]: -1.288\n",
      "BELIEF_STATE(MDP_STATE[SPEED_STATE(3291.86, 0.651285, 0.00959963, 0.0, 6.66053e-9, 1, 0.976495)], [1.0])\n",
      "PHYSICAL_STATE([802.357, 608.245, 4.26412], [0.0, 0.0, -1.40094], [0.0, 0.0, 0.22123], -3.141592653578652)\n",
      "PHYSICAL_STATE([4.37966, -2.3549e-10, 114.583], [-2.03004e-9, -1.94882e-11, 9.16667], [-3.99407e-14, -3.83428e-16, -4.9738e-13], -3.1319930203131663)\n",
      "\n",
      "1\n",
      "2.397592888367172\n",
      "accel_noise: -0.5734851617757546\n",
      "accels_speed[action]: -1.288\n",
      "BELIEF_STATE(MDP_STATE[SPEED_STATE(3291.86, 0.651285, 0.00959963, 0.0, 6.66068e-9, 1, 2.00858)], [1.0])\n",
      "PHYSICAL_STATE([802.357, 608.245, 2.97554], [0.0, 0.0, -1.17621], [0.0, 0.0, 0.224733], -3.141592653578652)\n",
      "PHYSICAL_STATE([4.37966, -2.54978e-10, 123.75], [-2.03008e-9, -1.94886e-11, 9.16667], [-4.39756e-14, -4.22163e-16, -4.26326e-13], -3.1319930203131663)\n",
      "\n",
      "1\n",
      "0.8073359490644314\n",
      "accel_noise: 0.6611863749499757\n",
      "accels_speed[action]: -1.288\n"
     ]
    },
    {
     "name": "stdout",
     "output_type": "stream",
     "text": [
      "BELIEF_STATE(MDP_STATE[SPEED_STATE(3291.86, 0.651285, 0.00959963, 0.0, 6.66084e-9, 1, 3.06518)], [1.0])\n",
      "PHYSICAL_STATE([802.357, 608.245, 1.91346], [0.0, 0.0, -0.947971], [0.0, 0.0, 0.228235], -3.141592653578652)\n",
      "PHYSICAL_STATE([4.37966, -2.74467e-10, 132.917], [-2.03013e-9, -1.94891e-11, 9.16667], [-4.97323e-14, -4.77427e-16, -3.12639e-13], -3.1319930203131663)\n",
      "\n",
      "1\n",
      "1.641518994177979\n",
      "accel_noise: 0.013528731228277158\n",
      "accels_speed[action]: -1.288\n",
      "BELIEF_STATE(MDP_STATE[SPEED_STATE(3291.86, 0.651285, 0.00959963, 0.0, 6.66103e-9, 1, 4.14878)], [1.0])\n",
      "PHYSICAL_STATE([802.357, 608.245, 1.08135], [0.0, 0.0, -0.716232], [0.0, 0.0, 0.231738], -3.141592653578652)\n",
      "PHYSICAL_STATE([4.37966, -2.93956e-10, 142.083], [-2.03019e-9, -1.94897e-11, 9.16667], [-5.72873e-14, -5.49954e-16, -1.98952e-13], -3.1319930203131663)\n",
      "\n",
      "1\n",
      "0.060712615165628425\n",
      "accel_noise: 1.2408628764242016\n",
      "accels_speed[action]: -1.288\n",
      "BELIEF_STATE(MDP_STATE[SPEED_STATE(3291.86, 0.651285, 0.00959963, 0.0, 6.66126e-9, 1, 5.26213)], [1.0])\n",
      "PHYSICAL_STATE([802.357, 608.245, 0.482743], [0.0, 0.0, -0.480991], [0.0, 0.0, 0.235241], -3.141592653578652)\n",
      "PHYSICAL_STATE([4.37966, -3.13446e-10, 151.25], [-2.03026e-9, -1.94903e-11, 9.16667], [-7.19671e-14, -6.90879e-16, -5.68434e-14], -3.1319930203131663)\n",
      "\n",
      "1\n",
      "1.4020599958507485\n",
      "accel_noise: 0.1994441026003506\n",
      "accels_speed[action]: -1.288\n",
      "BELIEF_STATE(MDP_STATE[SPEED_STATE(3291.86, 0.651285, 0.00959963, 0.0, 6.66165e-9, 1, 6.40834)], [1.0])\n",
      "PHYSICAL_STATE([802.357, 608.245, 0.121124], [0.0, 0.0, -0.242247], [0.0, 0.0, 0.238744], -3.141592653578652)\n",
      "PHYSICAL_STATE([4.37966, -3.32937e-10, 160.417], [-2.03038e-9, -1.94915e-11, 9.16667], [-1.17039e-13, -1.12357e-15, 1.42109e-13], -3.1319930203131663)\n",
      "\n",
      "1\n",
      "0.4383655905347146\n",
      "accel_noise: 0.9476540446159049\n",
      "accels_speed[action]: -1.288\n",
      "BELIEF_STATE(MDP_STATE[SPEED_STATE(3291.86, 0.651285, 0.00959963, 0.0, 6.66245e-9, 1, 7.59091)], [1.0])\n",
      "PHYSICAL_STATE([802.357, 608.245, 1.91384e-12], [0.0, 0.0, -2.61294e-12], [0.0, 0.0, 0.242247], -3.141592653578652)\n",
      "PHYSICAL_STATE([4.37966, -3.5243e-10, 169.583], [-2.03062e-9, -1.94938e-11, 9.16667], [-2.45263e-13, -2.35451e-15, 1.98952e-13], -3.1319930203131663)\n",
      "\n"
     ]
    }
   ],
   "source": [
    "Random.seed!(24)\n",
    "xr_sim!(sim, [6], verbose=true);"
   ]
  },
  {
   "cell_type": "code",
   "execution_count": null,
   "metadata": {},
   "outputs": [],
   "source": []
  },
  {
   "cell_type": "code",
   "execution_count": 21,
   "metadata": {},
   "outputs": [],
   "source": [
    "sim = simulation()\n",
    "sim.sim_out = small_simulation_output()\n",
    "sim.enc_file = \"../data_files/uam_suas.bin\";"
   ]
  },
  {
   "cell_type": "code",
   "execution_count": 59,
   "metadata": {},
   "outputs": [
    {
     "data": {
      "text/plain": [
       "1727"
      ]
     },
     "execution_count": 59,
     "metadata": {},
     "output_type": "execute_result"
    }
   ],
   "source": [
    "xr_sim!(sim)\n",
    "sim.sim_out.nmacs"
   ]
  },
  {
   "cell_type": "code",
   "execution_count": null,
   "metadata": {},
   "outputs": [],
   "source": []
  }
 ],
 "metadata": {
  "@webio": {
   "lastCommId": "0236608f7f6e447f826ed5e37eec42e9",
   "lastKernelId": "38acdb64-e2f5-4fca-aa4f-62448150a07f"
  },
  "kernelspec": {
   "display_name": "Julia 1.1.0",
   "language": "julia",
   "name": "julia-1.1"
  },
  "language_info": {
   "file_extension": ".jl",
   "mimetype": "application/julia",
   "name": "julia",
   "version": "1.1.0"
  }
 },
 "nbformat": 4,
 "nbformat_minor": 2
}
