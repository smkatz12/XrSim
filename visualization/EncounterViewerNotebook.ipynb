{
 "cells": [
  {
   "cell_type": "code",
   "execution_count": 1,
   "metadata": {},
   "outputs": [],
   "source": [
    "using Random\n",
    "include(\"../src/Xr.jl\");"
   ]
  },
  {
   "cell_type": "code",
   "execution_count": 2,
   "metadata": {},
   "outputs": [],
   "source": [
    "Random.seed!(24)\n",
    "sim = simulation()\n",
    "sim.enc_file = \"../data_files/uam_hd_fixed_v2.bin\"\n",
    "# sim.sim_out = small_simulation_output()\n",
    "# sim.acs[1] = heuristic_vert()\n",
    "# sim.acs[2] = heuristic_vert()\n",
    "sim.acs[1] = uam_vert(q_file = \"../data_files/test.bin\");\n",
    "# sim.acs[2] = uam_vert(q_file = \"../data_files/closeness_noRev.bin\")"
   ]
  },
  {
   "cell_type": "code",
   "execution_count": 3,
   "metadata": {},
   "outputs": [],
   "source": [
    "xr_sim!(sim, collect(1:30));"
   ]
  },
  {
   "cell_type": "code",
   "execution_count": 15,
   "metadata": {},
   "outputs": [
    {
     "name": "stdout",
     "output_type": "stream",
     "text": [
      "0\n",
      "MDP_STATE(538.2426765439766, 0.6472304955513947, 0.17080566322078994, 0, Inf)\n",
      "0\n",
      "MDP_STATE(537.3788079292231, 1.2513123971764475, 0.0, 0, Inf)\n",
      "0\n",
      "MDP_STATE(535.9295529904879, 1.8122456318296256, 0.16504815153575692, 0, Inf)\n",
      "0\n",
      "MDP_STATE(534.0234632370016, 2.330030178214473, 0.16504815153575692, 0, Inf)\n",
      "0\n",
      "MDP_STATE(531.5664575970372, 2.804666020313262, 0.055636767063333536, 0, Inf)\n",
      "0\n",
      "MDP_STATE(528.6431233702643, 3.236153144927243, 0.13851394463131328, 0, Inf)\n",
      "0\n",
      "MDP_STATE(525.4084177339818, 3.6244915461151135, 0.2527194738459002, 0, Inf)\n",
      "0\n",
      "MDP_STATE(521.8841014066069, 3.9696812248221574, 0.2928206423416668, 0, Inf)\n",
      "0\n",
      "MDP_STATE(518.0155298422318, 4.271722185472435, 0.2114396392028084, 0, Inf)\n",
      "0\n",
      "MDP_STATE(513.8471598626977, 4.530614432673723, 0.2541570198750378, 0, Inf)\n",
      "0\n",
      "MDP_STATE(509.45841320598237, 4.7463579691086535, 0.24532206847675297, 0, Inf)\n",
      "0\n",
      "MDP_STATE(504.83757634223065, 4.918952794813588, 0.17831496794201485, 0, Inf)\n",
      "0\n",
      "MDP_STATE(500.2887396515774, 5.04839890789021, 0.6913633534552446, 0, Inf)\n",
      "0\n",
      "MDP_STATE(496.9421871233327, 5.134696306056546, 2.798626804002197, 0, Inf)\n",
      "0\n",
      "MDP_STATE(494.99015827473863, 5.177844987844038, 3.6098567927101612, 0, Inf)\n",
      "0\n",
      "MDP_STATE(492.85320513591824, 5.177844952844104, 2.4719268703372563, 0, Inf)\n",
      "0\n",
      "MDP_STATE(489.8181987821086, 5.1346962015251165, 1.7706015764126732, 0, Inf)\n",
      "0\n",
      "MDP_STATE(486.37798464691264, 5.0483987352018, 1.5320650899222983, 0, Inf)\n",
      "0\n",
      "MDP_STATE(483.62627488990887, 4.918952556120373, 2.9318666873923576, 0, Inf)\n",
      "0\n",
      "MDP_STATE(481.55690527145947, 4.746357667916922, 2.5947042997461267, 0, Inf)\n",
      "0\n",
      "MDP_STATE(479.67391702623024, 4.530614076188101, 2.916290953900443, 0, Inf)\n",
      "0\n",
      "MDP_STATE(478.2591561900838, 4.271721786353501, 3.056523236348312, 0, Inf)\n",
      "0\n",
      "MDP_STATE(476.447976039476, 3.9696808007535345, 1.5625190495429706, 0, Inf)\n",
      "0\n",
      "MDP_STATE(475.1400875232473, 3.624491115571861, 3.4158758343251066, 0, Inf)\n",
      "0\n",
      "MDP_STATE(475.49983442014627, 3.2361527214158103, 4.164261796460551, 0, Inf)\n",
      "0\n",
      "MDP_STATE(475.85083650830717, 2.80466563163104, 2.578560732908045, 0, Inf)\n",
      "0\n",
      "MDP_STATE(475.90098220786666, 2.330029863773678, 2.6564261616156273, 0, Inf)\n",
      "0\n",
      "MDP_STATE(476.07749620014346, 1.8122453929892828, 1.8388770797009784, 0, Inf)\n",
      "0\n",
      "MDP_STATE(475.60572541046355, 1.2513122305108895, 0.28113896443937847, 0, Inf)\n",
      "0\n",
      "MDP_STATE(474.91573869581686, 0.6472303973687221, 0.23743023414681375, 0, Inf)\n",
      "0\n",
      "MDP_STATE(474.81751912310216, 2.0317081350640365e-14, 0.21336101779252203, 0, Inf)\n",
      "0\n",
      "MDP_STATE(475.0529639961316, 1.9699729341396085e-13, 0.2575287282666068, 0, Inf)\n",
      "0\n",
      "MDP_STATE(470.7002046089456, 9.166666661781447, 0.20361915914304518, 0, Inf)\n",
      "0\n",
      "MDP_STATE(461.6955965153547, 9.166666661503019, 0.12049797695954112, 0, Inf)\n",
      "0\n",
      "MDP_STATE(452.5891788423477, 9.166666661470495, 0.0, 0, Inf)\n",
      "0\n",
      "MDP_STATE(443.3592896944314, 9.166666661456885, -0.12644497290511936, 0, Inf)\n",
      "0\n",
      "MDP_STATE(434.0345967860332, 9.166666661422889, -0.18960752101156686, 0, Inf)\n",
      "0\n",
      "MDP_STATE(423.5803819064847, 9.166666661366305, -2.385488915296264, 0, Inf)\n",
      "0\n",
      "MDP_STATE(411.32023061108896, 9.166666661286456, -3.801480352842418, 0, Inf)\n",
      "0\n",
      "MDP_STATE(399.367111892054, 9.166666661182308, -1.7714237627587863, 0, Inf)\n",
      "0\n",
      "MDP_STATE(389.0604710712326, 9.166666661051726, -0.5085245566499452, 0, Inf)\n",
      "0\n",
      "MDP_STATE(379.08048078659806, 9.16666666089133, -1.1181226906760457, 0, Inf)\n",
      "0\n",
      "MDP_STATE(368.2748009490267, 9.166666660696238, -2.15990366287906, 0, Inf)\n",
      "0\n",
      "MDP_STATE(356.30709433545076, 9.166666660459606, -3.4421762431170464, 0, Inf)\n",
      "0\n",
      "MDP_STATE(343.52791601759293, 9.166666660171828, -3.782847071967126, 0, Inf)\n",
      "0\n",
      "MDP_STATE(331.24060932548946, 9.1666666598192, -2.458432992248845, 0, Inf)\n",
      "0\n",
      "MDP_STATE(320.11476552523743, 9.166666659381765, -1.4599212890541367, 0, Inf)\n",
      "0\n",
      "MDP_STATE(309.618116818164, 9.166666658829817, -1.2000428068811289, 0, Inf)\n",
      "0\n",
      "MDP_STATE(298.3280524780246, 9.16666665811827, -3.0467525564497464, 0, Inf)\n",
      "0\n",
      "MDP_STATE(285.9195122354891, 9.166666657177268, -3.4369946133256235, 0, Inf)\n",
      "0\n",
      "MDP_STATE(273.77397477560476, 9.166666655894025, -2.5207469933718585, 0, Inf)\n",
      "0\n",
      "MDP_STATE(261.5726037208066, 9.166666654078366, -3.5486618062520847, 0, Inf)\n",
      "0\n",
      "MDP_STATE(249.5083720794056, 9.166666651469718, -2.2464681710018795, 0, 3078.5478622775536)\n",
      "0\n",
      "MDP_STATE(238.68769777416048, 9.16666664743436, -1.0615471405842527, 0, 428.5803694091797)\n",
      "0\n",
      "MDP_STATE(227.39572932180783, 9.1666666398478, -3.189056476838914, 0, 205.79836052111165)\n",
      "0\n",
      "MDP_STATE(214.7328790401894, 9.16666662063937, -3.803310825910785, 0, 133.19040058932154)\n",
      "0\n",
      "MDP_STATE(202.02093952126, 9.16666650602143, -3.287235085287193, 0, 102.90470752838974)\n",
      "0\n",
      "MDP_STATE(189.3494369261507, 9.023774225164752, -3.865329373745226, 0, 88.17485329332693)\n",
      "0\n",
      "MDP_STATE(176.8541505272301, 8.748465907143125, -3.353003291788127, 0, 78.35359317251839)\n",
      "0\n",
      "MDP_STATE(165.29936910921487, 8.473206058271758, -2.5348875788274654, 0, 70.12845756138002)\n",
      "0\n",
      "MDP_STATE(154.29827219764132, 8.197958358080404, -2.7961418279674035, 0, 63.286089852940265)\n",
      "0\n",
      "MDP_STATE(142.90855973441944, 7.922713635895914, -3.862611104500047, 0, 57.385287945258455)\n",
      "1\n",
      "MDP_STATE(134.13449038355265, 2.0222097982666174, -3.7406041630710547, 1, 52.18894050962242)\n",
      "0\n",
      "MDP_STATE(128.6147950256268, 2.0222097982666174, -3.254366956247395, 0, 47.7253362385455)\n",
      "1\n",
      "MDP_STATE(124.70801526812869, 0.0, -2.5369827604822603, 1, 43.791874615439745)\n",
      "0\n",
      "MDP_STATE(122.09897566641422, 0.0, -2.681096442946682, 0, 40.178748265509725)\n",
      "1\n",
      "MDP_STATE(119.16772015159455, 0.0, -3.1814145866926538, 1, 36.903481408646)\n",
      "0\n",
      "MDP_STATE(116.21228670296392, 0.0, -2.729452310568604, 0, 33.937490414810554)\n",
      "1\n",
      "MDP_STATE(112.99150926005626, 0.0, -3.7121025752467176, 1, 31.24758185351107)\n",
      "0\n",
      "MDP_STATE(109.13590279314718, 0.0, -3.9991103585714427, 0, 28.797109937206784)\n",
      "1\n",
      "MDP_STATE(105.38846725181071, 0.0, -3.495760724101501, 1, 26.499077971298835)\n",
      "0\n",
      "MDP_STATE(102.14903659777741, 0.0, -2.983100583965097, 0, 24.33229771764867)\n",
      "1\n",
      "MDP_STATE(99.18408926087096, 0.0, -2.946794089847799, 1, 22.3072322634977)\n",
      "0\n",
      "MDP_STATE(96.2101504183251, 0.0, -3.0010835952439265, 0, 20.42872351005106)\n",
      "1\n",
      "MDP_STATE(93.09921841309387, 0.0, -3.2207804152185417, 1, 18.669562257997246)\n",
      "0\n",
      "MDP_STATE(89.97545705125668, 0.0, -3.026742308455823, 0, 16.987468376891975)\n",
      "1\n",
      "MDP_STATE(86.97894633696268, 0.0, -2.966279120132185, 1, 15.38395694552328)\n",
      "3\n",
      "MDP_STATE(81.27126899104042, 4.166666666666667, -4.282408905045713, 3, 13.870738130965599)\n",
      "0\n",
      "MDP_STATE(73.045370212151, 4.166666666666667, -3.8360553193997475, 0, 12.431790877994295)\n",
      "1\n",
      "MDP_STATE(67.16175226084994, 0.0, -3.764513916535634, 1, 10.969681315151021)\n",
      "3\n",
      "MDP_STATE(61.80062244734654, 4.166666666666667, -2.7910790438045296, 3, 9.439728885312167)\n",
      "0\n",
      "MDP_STATE(54.89124808791058, 4.166666666666667, -2.694336341734015, 0, 7.928882599804466)\n",
      "1\n",
      "MDP_STATE(50.03922656785329, 0.0, -2.8430400317138265, 1, 6.509873015719452)\n",
      "0\n",
      "MDP_STATE(47.4815352032129, 0.0, -2.2723426975669554, 0, 5.18403266985725)\n",
      "1\n",
      "MDP_STATE(44.81928319846912, 0.0, -3.0521613119205995, 1, 3.9494227092492764)\n",
      "3\n",
      "MDP_STATE(40.32891536847694, 4.166666666666667, -1.7619076813971333, 3, 2.809715409719535)\n",
      "0\n",
      "MDP_STATE(34.599346339994725, 4.166666666666667, -1.3638970422339298, 0, 1.7392132658753652)\n",
      "1\n",
      "MDP_STATE(30.137329870430733, 0.0, -3.3934692302273106, 1, 0.7097343906435223)\n",
      "3\n",
      "MDP_STATE(24.41943273430479, 4.166666666666667, -3.8756583753579434, 3, 0.0)\n",
      "0\n",
      "MDP_STATE(17.009556335361765, 4.166666666666667, -2.610761089194739, 0, 0.0)\n",
      "2\n",
      "MDP_STATE(9.800330741771063, 4.166666666666667, -3.474356764653294, 2, 0.0)\n",
      "0\n",
      "MDP_STATE(1.7060477352511612, 4.166666666666667, -4.380875915053139, 0, 0.0)\n",
      "2\n",
      "MDP_STATE(-6.752992076520854, 4.166666666666667, -4.203870375157521, 2, 0.0)\n",
      "0\n",
      "MDP_STATE(-14.816891074554803, 4.166666666666667, -3.590594287577005, 0, 0.0)\n",
      "2\n",
      "MDP_STATE(-21.77308410033754, 4.166666666666667, -1.9884584306551005, 2, 0.0)\n",
      "0\n",
      "MDP_STATE(-28.375914788896296, 4.166666666666667, -2.8838696131290362, 0, Inf)\n",
      "0\n",
      "MDP_STATE(-36.350666722954884, 4.166666666666667, -4.732300921654769, 0, Inf)\n",
      "0\n",
      "MDP_STATE(-45.207888785296234, 4.166666666666667, -4.64880986969456, 0, Inf)\n",
      "0\n",
      "MDP_STATE(-53.589980697957344, 4.166666666666667, -3.7820406222942893, 0, Inf)\n",
      "0\n",
      "MDP_STATE(-60.839364175888534, 4.166666666666667, -2.383393000234719, 0, Inf)\n",
      "0\n",
      "MDP_STATE(-67.50768412815364, 4.166666666666667, -2.619913570962126, 0, Inf)\n",
      "0\n",
      "MDP_STATE(-74.14705126505197, 4.166666666666667, -2.325487369501161, 0, Inf)\n",
      "0\n",
      "MDP_STATE(-80.88390305504925, 4.166666666666667, -2.8148828771600165, 0, Inf)\n",
      "0\n",
      "MDP_STATE(-88.08266870647043, 4.166666666666667, -3.2493150923489793, 0, Inf)\n",
      "0\n",
      "MDP_STATE(-95.11372251577814, 4.166666666666667, -2.4794591929330636, 0, Inf)\n",
      "0\n",
      "MDP_STATE(-101.77170551008152, 4.166666666666667, -2.503173462340328, 0, Inf)\n",
      "0\n",
      "MDP_STATE(-108.32382664963393, 4.166666666666667, -2.2677354834311245, 0, Inf)\n",
      "0\n",
      "MDP_STATE(-115.11623097130843, 4.166666666666667, -2.9837398265844968, 0, Inf)\n",
      "0\n",
      "MDP_STATE(-122.8251349089063, 4.166666666666667, -4.100734715277895, 0, Inf)\n",
      "0\n",
      "MDP_STATE(-131.24866840371823, 4.166666666666667, -4.4129989410125745, 0, Inf)\n",
      "0\n",
      "MDP_STATE(-138.82957421963613, 4.166666666666667, -2.4154793574898576, 0, Inf)\n",
      "0\n",
      "MDP_STATE(-145.22606762901995, 4.166666666666667, -2.044174127944416, 0, Inf)\n",
      "0\n",
      "MDP_STATE(-151.79037448583404, 4.166666666666667, -2.7511062523503824, 0, Inf)\n",
      "0\n",
      "MDP_STATE(-158.10744297164547, 4.166666666666667, -1.5496973859392256, 0, Inf)\n",
      "0\n",
      "MDP_STATE(-163.92784116176085, 4.166666666666667, -1.7577656609582846, 0, Inf)\n",
      "0\n",
      "MDP_STATE(-170.33588918816542, 4.166666666666667, -2.7249970585176015, 0, Inf)\n",
      "0\n",
      "MDP_STATE(-177.37236306251293, 4.166666666666667, -3.0146173568441554, 0, Inf)\n",
      "0\n",
      "MDP_STATE(-184.2331134612624, 4.166666666666667, -2.3735501073215346, 0, Inf)\n",
      "0\n",
      "MDP_STATE(-190.6207160879336, 4.166666666666667, -2.0683218126876, 0, Inf)\n",
      "0\n",
      "MDP_STATE(-196.85570456728783, 4.166666666666667, -2.0683218126876, 0, Inf)\n"
     ]
    }
   ],
   "source": [
    "xr_sim!(sim, [sim_inds[2]], verbose=true);"
   ]
  },
  {
   "cell_type": "code",
   "execution_count": 4,
   "metadata": {},
   "outputs": [
    {
     "data": {
      "text/html": [
       "<script>\n",
       "// Immediately-invoked-function-expression to avoid global variables.\n",
       "(function() {\n",
       "    var warning_div = document.getElementById(\"webio-warning-13360039380624373228\");\n",
       "    var hide = function () {\n",
       "        var script = document.getElementById(\"webio-setup-401086317458305227\");\n",
       "        var parent = script && script.parentElement;\n",
       "        var grandparent = parent && parent.parentElement;\n",
       "        if (grandparent) {\n",
       "            grandparent.style.display = \"none\";\n",
       "        }\n",
       "        warning_div.style.display = \"none\";\n",
       "    };\n",
       "    if (typeof Jupyter !== \"undefined\") {\n",
       "        console.log(\"WebIO detected Jupyter notebook environment.\");\n",
       "        // Jupyter notebook.\n",
       "        var extensions = (\n",
       "            Jupyter\n",
       "            && Jupyter.notebook.config.data\n",
       "            && Jupyter.notebook.config.data.load_extensions\n",
       "        );\n",
       "        if (extensions && extensions[\"webio/main\"]) {\n",
       "            // Extension already loaded.\n",
       "            console.log(\"Jupyter WebIO nbextension detected; not loading ad-hoc.\");\n",
       "            hide();\n",
       "            return;\n",
       "        }\n",
       "        console.warn(\"Loading WebIO Jupyter extension on an ad-hoc basis. Consider enabling the WebIO nbextension for a stabler experience (this should happen automatically when building WebIO).\");\n",
       "        warning_div.innerHTML = \"<strong>Loading WebIO Jupyter extension on an ad-hoc basis. Consider enabling the WebIO nbextension for a stabler experience (this should happen automatically when building WebIO).</strong>\";\n",
       "    } else if (window.location.pathname.includes(\"/lab\")) {\n",
       "        // Guessing JupyterLa\n",
       "        console.log(\"Jupyter Lab detected; make sure the @webio/jupyter-lab-provider labextension is installed.\");\n",
       "        hide();\n",
       "        return;\n",
       "    }\n",
       "})();\n",
       "\n",
       "</script>\n",
       "<p\n",
       "    id=\"webio-warning-13360039380624373228\"\n",
       "    class=\"output_text output_stderr\"\n",
       "    style=\"padding: 1em; font-weight: bold;\"\n",
       ">\n",
       "    Unable to load WebIO. Please make sure WebIO works for your Jupyter client.\n",
       "    For troubleshooting, please see <a href=\"https://juliagizmos.github.io/WebIO.jl/latest/providers/ijulia/\">\n",
       "    the WebIO/IJulia documentation</a>.\n",
       "    <!-- TODO: link to installation docs. -->\n",
       "</p>\n"
      ],
      "text/plain": [
       "HTML{String}(\"<script>\\n// Immediately-invoked-function-expression to avoid global variables.\\n(function() {\\n    var warning_div = document.getElementById(\\\"webio-warning-13360039380624373228\\\");\\n    var hide = function () {\\n        var script = document.getElementById(\\\"webio-setup-401086317458305227\\\");\\n        var parent = script && script.parentElement;\\n        var grandparent = parent && parent.parentElement;\\n        if (grandparent) {\\n            grandparent.style.display = \\\"none\\\";\\n        }\\n        warning_div.style.display = \\\"none\\\";\\n    };\\n    if (typeof Jupyter !== \\\"undefined\\\") {\\n        console.log(\\\"WebIO detected Jupyter notebook environment.\\\");\\n        // Jupyter notebook.\\n        var extensions = (\\n            Jupyter\\n            && Jupyter.notebook.config.data\\n            && Jupyter.notebook.config.data.load_extensions\\n        );\\n        if (extensions && extensions[\\\"webio/main\\\"]) {\\n            // Extension already loaded.\\n            console.log(\\\"Jupyter WebIO nbextension detected; not loading ad-hoc.\\\");\\n            hide();\\n            return;\\n        }\\n        console.warn(\\\"Loading WebIO Jupyter extension on an ad-hoc basis. Consider enabling the WebIO nbextension for a stabler experience (this should happen automatically when building WebIO).\\\");\\n        warning_div.innerHTML = \\\"<strong>Loading WebIO Jupyter extension on an ad-hoc basis. Consider enabling the WebIO nbextension for a stabler experience (this should happen automatically when building WebIO).</strong>\\\";\\n    } else if (window.location.pathname.includes(\\\"/lab\\\")) {\\n        // Guessing JupyterLa\\n        console.log(\\\"Jupyter Lab detected; make sure the @webio/jupyter-lab-provider labextension is installed.\\\");\\n        hide();\\n        return;\\n    }\\n})();\\n\\n</script>\\n<p\\n    id=\\\"webio-warning-13360039380624373228\\\"\\n    class=\\\"output_text output_stderr\\\"\\n    style=\\\"padding: 1em; font-weight: bold;\\\"\\n>\\n    Unable to load WebIO. Please make sure WebIO works for your Jupyter client.\\n    For troubleshooting, please see <a href=\\\"https://juliagizmos.github.io/WebIO.jl/latest/providers/ijulia/\\\">\\n    the WebIO/IJulia documentation</a>.\\n    <!-- TODO: link to installation docs. -->\\n</p>\\n\")"
      ]
     },
     "metadata": {},
     "output_type": "display_data"
    }
   ],
   "source": [
    "include(\"UAMEncounterViewer.jl\");"
   ]
  },
  {
   "cell_type": "code",
   "execution_count": 5,
   "metadata": {
    "scrolled": false
   },
   "outputs": [
    {
     "name": "stderr",
     "output_type": "stream",
     "text": [
      "┌ Warning: Accessing `scope.id` is deprecated, use `scopeid(scope)` instead.\n",
      "│   caller = ip:0x0\n",
      "└ @ Core :-1\n"
     ]
    },
    {
     "data": {
      "application/vnd.webio.node+json": {
       "children": [
        {
         "children": [
          {
           "children": [
            {
             "children": [
              {
               "children": [
                {
                 "children": [
                  "File Name"
                 ],
                 "instanceArgs": {
                  "namespace": "html",
                  "tag": "label"
                 },
                 "nodeType": "DOM",
                 "props": {
                  "className": "interact ",
                  "style": {
                   "padding": "5px 10px 0px 10px"
                  }
                 },
                 "type": "node"
                }
               ],
               "instanceArgs": {
                "namespace": "html",
                "tag": "div"
               },
               "nodeType": "DOM",
               "props": {
                "className": "interact-flex-row-left"
               },
               "type": "node"
              },
              {
               "children": [
                {
                 "children": [],
                 "instanceArgs": {
                  "namespace": "html",
                  "tag": "input"
                 },
                 "nodeType": "DOM",
                 "props": {
                  "attributes": {
                   "data-bind": "value: value, valueUpdate: 'input', event: {change: function (){this.changes(this.changes()+1)}}",
                   "type": "text"
                  },
                  "className": "input ",
                  "placeholder": "",
                  "style": {}
                 },
                 "type": "node"
                }
               ],
               "instanceArgs": {
                "namespace": "html",
                "tag": "div"
               },
               "nodeType": "DOM",
               "props": {
                "className": "interact-flex-row-center"
               },
               "type": "node"
              },
              {
               "children": [
                {
                 "children": [],
                 "instanceArgs": {
                  "namespace": "html",
                  "tag": "div"
                 },
                 "nodeType": "DOM",
                 "props": {},
                 "type": "node"
                }
               ],
               "instanceArgs": {
                "namespace": "html",
                "tag": "div"
               },
               "nodeType": "DOM",
               "props": {
                "className": "interact-flex-row-right"
               },
               "type": "node"
              }
             ],
             "instanceArgs": {
              "namespace": "html",
              "tag": "div"
             },
             "nodeType": "DOM",
             "props": {
              "className": "interact-flex-row interact-widget"
             },
             "type": "node"
            }
           ],
           "instanceArgs": {
            "handlers": {
             "changes": [
              "(function (val){return (val!=this.model[\"changes\"]()) ? (this.valueFromJulia[\"changes\"]=true, this.model[\"changes\"](val)) : undefined})"
             ],
             "value": [
              "(function (val){return (val!=this.model[\"value\"]()) ? (this.valueFromJulia[\"value\"]=true, this.model[\"value\"](val)) : undefined})"
             ]
            },
            "id": "6517840312886293633",
            "imports": {
             "data": [
              {
               "name": "knockout",
               "type": "js",
               "url": "/assetserver/3bd9b1de736b098e415b41735ebb66f92146af63-knockout.js"
              },
              {
               "name": "knockout_punches",
               "type": "js",
               "url": "/assetserver/f693c45e4673819d9631890b2dbb7b49bac52036-knockout_punches.js"
              },
              {
               "name": null,
               "type": "js",
               "url": "/assetserver/dadd00ee86bab68922605b4c34c155a51b0e2466-all.js"
              },
              {
               "name": null,
               "type": "css",
               "url": "/assetserver/783bf076fab44d74d9ad020ce784f4d35b2c125e-style.css"
              },
              {
               "name": null,
               "type": "css",
               "url": "/assetserver/81f83aa7d914707240f02251f8f73fd02ba8c8be-bulma_confined.min.css"
              }
             ],
             "type": "async_block"
            },
            "mount_callbacks": [
             "function () {\n    var handler = (function (ko, koPunches) {\n    ko.punches.enableAll();\n    ko.bindingHandlers.numericValue = {\n        init: function(element, valueAccessor, allBindings, data, context) {\n            var stringified = ko.observable(ko.unwrap(valueAccessor()));\n            stringified.subscribe(function(value) {\n                var val = parseFloat(value);\n                if (!isNaN(val)) {\n                    valueAccessor()(val);\n                }\n            });\n            valueAccessor().subscribe(function(value) {\n                var str = JSON.stringify(value);\n                if ((str == \"0\") && ([\"-0\", \"-0.\"].indexOf(stringified()) >= 0))\n                     return;\n                 if ([\"null\", \"\"].indexOf(str) >= 0)\n                     return;\n                stringified(str);\n            });\n            ko.applyBindingsToNode(\n                element,\n                {\n                    value: stringified,\n                    valueUpdate: allBindings.get('valueUpdate'),\n                },\n                context,\n            );\n        }\n    };\n    var json_data = {\"changes\":WebIO.getval({\"name\":\"changes\",\"scope\":\"6517840312886293633\",\"id\":\"ob_02\",\"type\":\"observable\"}),\"value\":WebIO.getval({\"name\":\"value\",\"scope\":\"6517840312886293633\",\"id\":\"ob_01\",\"type\":\"observable\"})};\n    var self = this;\n    function AppViewModel() {\n        for (var key in json_data) {\n            var el = json_data[key];\n            this[key] = Array.isArray(el) ? ko.observableArray(el) : ko.observable(el);\n        }\n        \n        \n        [this[\"changes\"].subscribe((function (val){!(this.valueFromJulia[\"changes\"]) ? (WebIO.setval({\"name\":\"changes\",\"scope\":\"6517840312886293633\",\"id\":\"ob_02\",\"type\":\"observable\"},val)) : undefined; return this.valueFromJulia[\"changes\"]=false}),self),this[\"value\"].subscribe((function (val){!(this.valueFromJulia[\"value\"]) ? (WebIO.setval({\"name\":\"value\",\"scope\":\"6517840312886293633\",\"id\":\"ob_01\",\"type\":\"observable\"},val)) : undefined; return this.valueFromJulia[\"value\"]=false}),self)]\n        \n    }\n    self.model = new AppViewModel();\n    self.valueFromJulia = {};\n    for (var key in json_data) {\n        self.valueFromJulia[key] = false;\n    }\n    ko.applyBindings(self.model, self.dom);\n}\n);\n    (WebIO.importBlock({\"data\":[{\"name\":\"knockout\",\"type\":\"js\",\"url\":\"/assetserver/3bd9b1de736b098e415b41735ebb66f92146af63-knockout.js\"},{\"name\":\"knockout_punches\",\"type\":\"js\",\"url\":\"/assetserver/f693c45e4673819d9631890b2dbb7b49bac52036-knockout_punches.js\"}],\"type\":\"async_block\"})).then((imports) => handler.apply(this, imports));\n}\n"
            ],
            "observables": {
             "changes": {
              "id": "ob_02",
              "sync": true,
              "value": 0
             },
             "value": {
              "id": "ob_01",
              "sync": false,
              "value": "myFile.pdf"
             }
            },
            "systemjs_options": null
           },
           "nodeType": "Scope",
           "props": {},
           "type": "node"
          }
         ],
         "instanceArgs": {
          "namespace": "html",
          "tag": "div"
         },
         "nodeType": "DOM",
         "props": {
          "className": "field interact-widget"
         },
         "type": "node"
        },
        {
         "children": [
          {
           "children": [
            {
             "children": [
              "Save Plot"
             ],
             "instanceArgs": {
              "namespace": "html",
              "tag": "button"
             },
             "nodeType": "DOM",
             "props": {
              "attributes": {
               "data-bind": "click: function (){this.clicks(this.clicks()+1)}, css: {'is-loading' : loading}"
              },
              "className": "is-medium button is-primary",
              "style": {}
             },
             "type": "node"
            }
           ],
           "instanceArgs": {
            "handlers": {
             "clicks": [
              "(function (val){return (val!=this.model[\"clicks\"]()) ? (this.valueFromJulia[\"clicks\"]=true, this.model[\"clicks\"](val)) : undefined})"
             ],
             "loading": [
              "(function (val){return (val!=this.model[\"loading\"]()) ? (this.valueFromJulia[\"loading\"]=true, this.model[\"loading\"](val)) : undefined})"
             ]
            },
            "id": "4072744720899215630",
            "imports": {
             "data": [
              {
               "name": "knockout",
               "type": "js",
               "url": "/assetserver/3bd9b1de736b098e415b41735ebb66f92146af63-knockout.js"
              },
              {
               "name": "knockout_punches",
               "type": "js",
               "url": "/assetserver/f693c45e4673819d9631890b2dbb7b49bac52036-knockout_punches.js"
              },
              {
               "name": null,
               "type": "js",
               "url": "/assetserver/dadd00ee86bab68922605b4c34c155a51b0e2466-all.js"
              },
              {
               "name": null,
               "type": "css",
               "url": "/assetserver/783bf076fab44d74d9ad020ce784f4d35b2c125e-style.css"
              },
              {
               "name": null,
               "type": "css",
               "url": "/assetserver/81f83aa7d914707240f02251f8f73fd02ba8c8be-bulma_confined.min.css"
              }
             ],
             "type": "async_block"
            },
            "mount_callbacks": [
             "function () {\n    var handler = (function (ko, koPunches) {\n    ko.punches.enableAll();\n    ko.bindingHandlers.numericValue = {\n        init: function(element, valueAccessor, allBindings, data, context) {\n            var stringified = ko.observable(ko.unwrap(valueAccessor()));\n            stringified.subscribe(function(value) {\n                var val = parseFloat(value);\n                if (!isNaN(val)) {\n                    valueAccessor()(val);\n                }\n            });\n            valueAccessor().subscribe(function(value) {\n                var str = JSON.stringify(value);\n                if ((str == \"0\") && ([\"-0\", \"-0.\"].indexOf(stringified()) >= 0))\n                     return;\n                 if ([\"null\", \"\"].indexOf(str) >= 0)\n                     return;\n                stringified(str);\n            });\n            ko.applyBindingsToNode(\n                element,\n                {\n                    value: stringified,\n                    valueUpdate: allBindings.get('valueUpdate'),\n                },\n                context,\n            );\n        }\n    };\n    var json_data = {\"loading\":WebIO.getval({\"name\":\"loading\",\"scope\":\"4072744720899215630\",\"id\":\"ob_05\",\"type\":\"observable\"}),\"clicks\":WebIO.getval({\"name\":\"clicks\",\"scope\":\"4072744720899215630\",\"id\":\"ob_04\",\"type\":\"observable\"})};\n    var self = this;\n    function AppViewModel() {\n        for (var key in json_data) {\n            var el = json_data[key];\n            this[key] = Array.isArray(el) ? ko.observableArray(el) : ko.observable(el);\n        }\n        \n        \n        [this[\"loading\"].subscribe((function (val){!(this.valueFromJulia[\"loading\"]) ? (WebIO.setval({\"name\":\"loading\",\"scope\":\"4072744720899215630\",\"id\":\"ob_05\",\"type\":\"observable\"},val)) : undefined; return this.valueFromJulia[\"loading\"]=false}),self),this[\"clicks\"].subscribe((function (val){!(this.valueFromJulia[\"clicks\"]) ? (WebIO.setval({\"name\":\"clicks\",\"scope\":\"4072744720899215630\",\"id\":\"ob_04\",\"type\":\"observable\"},val)) : undefined; return this.valueFromJulia[\"clicks\"]=false}),self)]\n        \n    }\n    self.model = new AppViewModel();\n    self.valueFromJulia = {};\n    for (var key in json_data) {\n        self.valueFromJulia[key] = false;\n    }\n    ko.applyBindings(self.model, self.dom);\n}\n);\n    (WebIO.importBlock({\"data\":[{\"name\":\"knockout\",\"type\":\"js\",\"url\":\"/assetserver/3bd9b1de736b098e415b41735ebb66f92146af63-knockout.js\"},{\"name\":\"knockout_punches\",\"type\":\"js\",\"url\":\"/assetserver/f693c45e4673819d9631890b2dbb7b49bac52036-knockout_punches.js\"}],\"type\":\"async_block\"})).then((imports) => handler.apply(this, imports));\n}\n"
            ],
            "observables": {
             "clicks": {
              "id": "ob_04",
              "sync": true,
              "value": 0
             },
             "loading": {
              "id": "ob_05",
              "sync": false,
              "value": false
             }
            },
            "systemjs_options": null
           },
           "nodeType": "Scope",
           "props": {},
           "type": "node"
          }
         ],
         "instanceArgs": {
          "namespace": "html",
          "tag": "div"
         },
         "nodeType": "DOM",
         "props": {
          "className": "field interact-widget"
         },
         "type": "node"
        },
        {
         "children": [
          {
           "children": [
            {
             "children": [],
             "instanceArgs": {
              "namespace": "html",
              "tag": "input"
             },
             "nodeType": "DOM",
             "props": {
              "attributes": {
               "data-bind": "numericValue: value, valueUpdate: 'input', event: {change: function (){this.changes(this.changes()+1)}}",
               "type": "number"
              },
              "className": "input ",
              "max": 30,
              "min": 1,
              "placeholder": "",
              "step": 1,
              "style": {}
             },
             "type": "node"
            }
           ],
           "instanceArgs": {
            "handlers": {
             "changes": [
              "(function (val){return (val!=this.model[\"changes\"]()) ? (this.valueFromJulia[\"changes\"]=true, this.model[\"changes\"](val)) : undefined})"
             ],
             "value": [
              "(function (val){return (val!=this.model[\"value\"]()) ? (this.valueFromJulia[\"value\"]=true, this.model[\"value\"](val)) : undefined})"
             ]
            },
            "id": "7243953727319850096",
            "imports": {
             "data": [
              {
               "name": "knockout",
               "type": "js",
               "url": "/assetserver/3bd9b1de736b098e415b41735ebb66f92146af63-knockout.js"
              },
              {
               "name": "knockout_punches",
               "type": "js",
               "url": "/assetserver/f693c45e4673819d9631890b2dbb7b49bac52036-knockout_punches.js"
              },
              {
               "name": null,
               "type": "js",
               "url": "/assetserver/dadd00ee86bab68922605b4c34c155a51b0e2466-all.js"
              },
              {
               "name": null,
               "type": "css",
               "url": "/assetserver/783bf076fab44d74d9ad020ce784f4d35b2c125e-style.css"
              },
              {
               "name": null,
               "type": "css",
               "url": "/assetserver/81f83aa7d914707240f02251f8f73fd02ba8c8be-bulma_confined.min.css"
              }
             ],
             "type": "async_block"
            },
            "mount_callbacks": [
             "function () {\n    var handler = (function (ko, koPunches) {\n    ko.punches.enableAll();\n    ko.bindingHandlers.numericValue = {\n        init: function(element, valueAccessor, allBindings, data, context) {\n            var stringified = ko.observable(ko.unwrap(valueAccessor()));\n            stringified.subscribe(function(value) {\n                var val = parseFloat(value);\n                if (!isNaN(val)) {\n                    valueAccessor()(val);\n                }\n            });\n            valueAccessor().subscribe(function(value) {\n                var str = JSON.stringify(value);\n                if ((str == \"0\") && ([\"-0\", \"-0.\"].indexOf(stringified()) >= 0))\n                     return;\n                 if ([\"null\", \"\"].indexOf(str) >= 0)\n                     return;\n                stringified(str);\n            });\n            ko.applyBindingsToNode(\n                element,\n                {\n                    value: stringified,\n                    valueUpdate: allBindings.get('valueUpdate'),\n                },\n                context,\n            );\n        }\n    };\n    var json_data = {\"changes\":WebIO.getval({\"name\":\"changes\",\"scope\":\"7243953727319850096\",\"id\":\"ob_07\",\"type\":\"observable\"}),\"value\":WebIO.getval({\"name\":\"value\",\"scope\":\"7243953727319850096\",\"id\":\"ob_06\",\"type\":\"observable\"})};\n    var self = this;\n    function AppViewModel() {\n        for (var key in json_data) {\n            var el = json_data[key];\n            this[key] = Array.isArray(el) ? ko.observableArray(el) : ko.observable(el);\n        }\n        \n        \n        [this[\"changes\"].subscribe((function (val){!(this.valueFromJulia[\"changes\"]) ? (WebIO.setval({\"name\":\"changes\",\"scope\":\"7243953727319850096\",\"id\":\"ob_07\",\"type\":\"observable\"},val)) : undefined; return this.valueFromJulia[\"changes\"]=false}),self),this[\"value\"].subscribe((function (val){!(this.valueFromJulia[\"value\"]) ? (WebIO.setval({\"name\":\"value\",\"scope\":\"7243953727319850096\",\"id\":\"ob_06\",\"type\":\"observable\"},val)) : undefined; return this.valueFromJulia[\"value\"]=false}),self)]\n        \n    }\n    self.model = new AppViewModel();\n    self.valueFromJulia = {};\n    for (var key in json_data) {\n        self.valueFromJulia[key] = false;\n    }\n    ko.applyBindings(self.model, self.dom);\n}\n);\n    (WebIO.importBlock({\"data\":[{\"name\":\"knockout\",\"type\":\"js\",\"url\":\"/assetserver/3bd9b1de736b098e415b41735ebb66f92146af63-knockout.js\"},{\"name\":\"knockout_punches\",\"type\":\"js\",\"url\":\"/assetserver/f693c45e4673819d9631890b2dbb7b49bac52036-knockout_punches.js\"}],\"type\":\"async_block\"})).then((imports) => handler.apply(this, imports));\n}\n"
            ],
            "observables": {
             "changes": {
              "id": "ob_07",
              "sync": false,
              "value": 0
             },
             "value": {
              "id": "ob_06",
              "sync": true,
              "value": 1
             }
            },
            "systemjs_options": null
           },
           "nodeType": "Scope",
           "props": {},
           "type": "node"
          }
         ],
         "instanceArgs": {
          "namespace": "html",
          "tag": "div"
         },
         "nodeType": "DOM",
         "props": {
          "className": "field interact-widget"
         },
         "type": "node"
        },
        {
         "children": [
          {
           "children": [
            {
             "children": [
              {
               "children": [
                {
                 "children": [
                  ""
                 ],
                 "instanceArgs": {
                  "namespace": "html",
                  "tag": "label"
                 },
                 "nodeType": "DOM",
                 "props": {
                  "className": "interact ",
                  "style": {
                   "padding": "5px 10px 0px 10px"
                  }
                 },
                 "type": "node"
                }
               ],
               "instanceArgs": {
                "namespace": "html",
                "tag": "div"
               },
               "nodeType": "DOM",
               "props": {
                "className": "interact-flex-row-left"
               },
               "type": "node"
              },
              {
               "children": [
                {
                 "children": [],
                 "instanceArgs": {
                  "namespace": "html",
                  "tag": "input"
                 },
                 "nodeType": "DOM",
                 "props": {
                  "attributes": {
                   "data-bind": "numericValue: index, valueUpdate: 'input', event: {change: function (){this.changes(this.changes()+1)}}",
                   "orient": "horizontal",
                   "type": "range"
                  },
                  "className": "slider slider is-fullwidth",
                  "max": 121,
                  "min": 1,
                  "step": 1,
                  "style": {}
                 },
                 "type": "node"
                }
               ],
               "instanceArgs": {
                "namespace": "html",
                "tag": "div"
               },
               "nodeType": "DOM",
               "props": {
                "className": "interact-flex-row-center"
               },
               "type": "node"
              },
              {
               "children": [
                {
                 "children": [],
                 "instanceArgs": {
                  "namespace": "html",
                  "tag": "p"
                 },
                 "nodeType": "DOM",
                 "props": {
                  "attributes": {
                   "data-bind": "text: formatted_val"
                  }
                 },
                 "type": "node"
                }
               ],
               "instanceArgs": {
                "namespace": "html",
                "tag": "div"
               },
               "nodeType": "DOM",
               "props": {
                "className": "interact-flex-row-right"
               },
               "type": "node"
              }
             ],
             "instanceArgs": {
              "namespace": "html",
              "tag": "div"
             },
             "nodeType": "DOM",
             "props": {
              "className": "interact-flex-row interact-widget"
             },
             "type": "node"
            }
           ],
           "instanceArgs": {
            "handlers": {
             "changes": [
              "(function (val){return (val!=this.model[\"changes\"]()) ? (this.valueFromJulia[\"changes\"]=true, this.model[\"changes\"](val)) : undefined})"
             ],
             "index": [
              "(function (val){return (val!=this.model[\"index\"]()) ? (this.valueFromJulia[\"index\"]=true, this.model[\"index\"](val)) : undefined})"
             ]
            },
            "id": "6951983681891165989",
            "imports": {
             "data": [
              {
               "name": "knockout",
               "type": "js",
               "url": "/assetserver/3bd9b1de736b098e415b41735ebb66f92146af63-knockout.js"
              },
              {
               "name": "knockout_punches",
               "type": "js",
               "url": "/assetserver/f693c45e4673819d9631890b2dbb7b49bac52036-knockout_punches.js"
              },
              {
               "name": null,
               "type": "js",
               "url": "/assetserver/dadd00ee86bab68922605b4c34c155a51b0e2466-all.js"
              },
              {
               "name": null,
               "type": "css",
               "url": "/assetserver/783bf076fab44d74d9ad020ce784f4d35b2c125e-style.css"
              },
              {
               "name": null,
               "type": "css",
               "url": "/assetserver/81f83aa7d914707240f02251f8f73fd02ba8c8be-bulma_confined.min.css"
              }
             ],
             "type": "async_block"
            },
            "mount_callbacks": [
             "function () {\n    var handler = (function (ko, koPunches) {\n    ko.punches.enableAll();\n    ko.bindingHandlers.numericValue = {\n        init: function(element, valueAccessor, allBindings, data, context) {\n            var stringified = ko.observable(ko.unwrap(valueAccessor()));\n            stringified.subscribe(function(value) {\n                var val = parseFloat(value);\n                if (!isNaN(val)) {\n                    valueAccessor()(val);\n                }\n            });\n            valueAccessor().subscribe(function(value) {\n                var str = JSON.stringify(value);\n                if ((str == \"0\") && ([\"-0\", \"-0.\"].indexOf(stringified()) >= 0))\n                     return;\n                 if ([\"null\", \"\"].indexOf(str) >= 0)\n                     return;\n                stringified(str);\n            });\n            ko.applyBindingsToNode(\n                element,\n                {\n                    value: stringified,\n                    valueUpdate: allBindings.get('valueUpdate'),\n                },\n                context,\n            );\n        }\n    };\n    var json_data = {\"formatted_vals\":[\"0.0\",\"1.0\",\"2.0\",\"3.0\",\"4.0\",\"5.0\",\"6.0\",\"7.0\",\"8.0\",\"9.0\",\"10.0\",\"11.0\",\"12.0\",\"13.0\",\"14.0\",\"15.0\",\"16.0\",\"17.0\",\"18.0\",\"19.0\",\"20.0\",\"21.0\",\"22.0\",\"23.0\",\"24.0\",\"25.0\",\"26.0\",\"27.0\",\"28.0\",\"29.0\",\"30.0\",\"31.0\",\"32.0\",\"33.0\",\"34.0\",\"35.0\",\"36.0\",\"37.0\",\"38.0\",\"39.0\",\"40.0\",\"41.0\",\"42.0\",\"43.0\",\"44.0\",\"45.0\",\"46.0\",\"47.0\",\"48.0\",\"49.0\",\"50.0\",\"51.0\",\"52.0\",\"53.0\",\"54.0\",\"55.0\",\"56.0\",\"57.0\",\"58.0\",\"59.0\",\"60.0\",\"61.0\",\"62.0\",\"63.0\",\"64.0\",\"65.0\",\"66.0\",\"67.0\",\"68.0\",\"69.0\",\"70.0\",\"71.0\",\"72.0\",\"73.0\",\"74.0\",\"75.0\",\"76.0\",\"77.0\",\"78.0\",\"79.0\",\"80.0\",\"81.0\",\"82.0\",\"83.0\",\"84.0\",\"85.0\",\"86.0\",\"87.0\",\"88.0\",\"89.0\",\"90.0\",\"91.0\",\"92.0\",\"93.0\",\"94.0\",\"95.0\",\"96.0\",\"97.0\",\"98.0\",\"99.0\",\"100.0\",\"101.0\",\"102.0\",\"103.0\",\"104.0\",\"105.0\",\"106.0\",\"107.0\",\"108.0\",\"109.0\",\"110.0\",\"111.0\",\"112.0\",\"113.0\",\"114.0\",\"115.0\",\"116.0\",\"117.0\",\"118.0\",\"119.0\",\"120.0\"],\"changes\":WebIO.getval({\"name\":\"changes\",\"scope\":\"6951983681891165989\",\"id\":\"ob_10\",\"type\":\"observable\"}),\"index\":WebIO.getval({\"name\":\"index\",\"scope\":\"6951983681891165989\",\"id\":\"ob_09\",\"type\":\"observable\"})};\n    var self = this;\n    function AppViewModel() {\n        for (var key in json_data) {\n            var el = json_data[key];\n            this[key] = Array.isArray(el) ? ko.observableArray(el) : ko.observable(el);\n        }\n        \n        [this[\"formatted_val\"]=ko.computed(    function(){\n        return this.formatted_vals()[parseInt(this.index())-(1)];\n    }\n,this)]\n        [this[\"changes\"].subscribe((function (val){!(this.valueFromJulia[\"changes\"]) ? (WebIO.setval({\"name\":\"changes\",\"scope\":\"6951983681891165989\",\"id\":\"ob_10\",\"type\":\"observable\"},val)) : undefined; return this.valueFromJulia[\"changes\"]=false}),self),this[\"index\"].subscribe((function (val){!(this.valueFromJulia[\"index\"]) ? (WebIO.setval({\"name\":\"index\",\"scope\":\"6951983681891165989\",\"id\":\"ob_09\",\"type\":\"observable\"},val)) : undefined; return this.valueFromJulia[\"index\"]=false}),self)]\n        \n    }\n    self.model = new AppViewModel();\n    self.valueFromJulia = {};\n    for (var key in json_data) {\n        self.valueFromJulia[key] = false;\n    }\n    ko.applyBindings(self.model, self.dom);\n}\n);\n    (WebIO.importBlock({\"data\":[{\"name\":\"knockout\",\"type\":\"js\",\"url\":\"/assetserver/3bd9b1de736b098e415b41735ebb66f92146af63-knockout.js\"},{\"name\":\"knockout_punches\",\"type\":\"js\",\"url\":\"/assetserver/f693c45e4673819d9631890b2dbb7b49bac52036-knockout_punches.js\"}],\"type\":\"async_block\"})).then((imports) => handler.apply(this, imports));\n}\n"
            ],
            "observables": {
             "changes": {
              "id": "ob_10",
              "sync": false,
              "value": 0
             },
             "index": {
              "id": "ob_09",
              "sync": true,
              "value": 1
             }
            },
            "systemjs_options": null
           },
           "nodeType": "Scope",
           "props": {},
           "type": "node"
          }
         ],
         "instanceArgs": {
          "namespace": "html",
          "tag": "div"
         },
         "nodeType": "DOM",
         "props": {
          "className": "field interact-widget"
         },
         "type": "node"
        },
        {
         "children": [
          {
           "children": [],
           "instanceArgs": {
            "id": "ob_16",
            "name": "obs-node"
           },
           "nodeType": "ObservableNode",
           "props": {},
           "type": "node"
          }
         ],
         "instanceArgs": {
          "handlers": {},
          "id": "878366559682614830",
          "imports": {
           "data": [],
           "type": "async_block"
          },
          "mount_callbacks": [],
          "observables": {
           "obs-node": {
            "id": "ob_16",
            "sync": false,
            "value": {
             "children": [
              {
               "children": [],
               "instanceArgs": {
                "namespace": "html",
                "tag": "div"
               },
               "nodeType": "DOM",
               "props": {
                "setInnerHtml": ""
               },
               "type": "node"
              }
             ],
             "instanceArgs": {
              "namespace": "html",
              "tag": "div"
             },
             "nodeType": "DOM",
             "props": {
              "className": "interact-flex-row interact-widget"
             },
             "type": "node"
            }
           }
          },
          "systemjs_options": null
         },
         "nodeType": "Scope",
         "props": {},
         "type": "node"
        }
       ],
       "instanceArgs": {
        "namespace": "html",
        "tag": "div"
       },
       "nodeType": "DOM",
       "props": {},
       "type": "node"
      },
      "text/html": [
       "<div\n",
       "    class=\"webio-mountpoint\"\n",
       "    data-webio-mountpoint=\"8108326362976044271\"\n",
       ">\n",
       "    <script>\n",
       "    if (window.require && require.defined && require.defined(\"nbextensions/webio/main\")) {\n",
       "        console.log(\"Jupyter WebIO extension detected, not mounting.\");\n",
       "    } else if (window.WebIO) {\n",
       "        WebIO.mount(\n",
       "            document.querySelector('[data-webio-mountpoint=\"8108326362976044271\"]'),\n",
       "            {\"props\":{},\"nodeType\":\"DOM\",\"type\":\"node\",\"instanceArgs\":{\"namespace\":\"html\",\"tag\":\"div\"},\"children\":[{\"props\":{\"className\":\"field interact-widget\"},\"nodeType\":\"DOM\",\"type\":\"node\",\"instanceArgs\":{\"namespace\":\"html\",\"tag\":\"div\"},\"children\":[{\"props\":{},\"nodeType\":\"Scope\",\"type\":\"node\",\"instanceArgs\":{\"imports\":{\"data\":[{\"name\":\"knockout\",\"type\":\"js\",\"url\":\"\\/assetserver\\/3bd9b1de736b098e415b41735ebb66f92146af63-knockout.js\"},{\"name\":\"knockout_punches\",\"type\":\"js\",\"url\":\"\\/assetserver\\/f693c45e4673819d9631890b2dbb7b49bac52036-knockout_punches.js\"},{\"name\":null,\"type\":\"js\",\"url\":\"\\/assetserver\\/dadd00ee86bab68922605b4c34c155a51b0e2466-all.js\"},{\"name\":null,\"type\":\"css\",\"url\":\"\\/assetserver\\/783bf076fab44d74d9ad020ce784f4d35b2c125e-style.css\"},{\"name\":null,\"type\":\"css\",\"url\":\"\\/assetserver\\/81f83aa7d914707240f02251f8f73fd02ba8c8be-bulma_confined.min.css\"}],\"type\":\"async_block\"},\"id\":\"6517840312886293633\",\"handlers\":{\"changes\":[\"(function (val){return (val!=this.model[\\\"changes\\\"]()) ? (this.valueFromJulia[\\\"changes\\\"]=true, this.model[\\\"changes\\\"](val)) : undefined})\"],\"value\":[\"(function (val){return (val!=this.model[\\\"value\\\"]()) ? (this.valueFromJulia[\\\"value\\\"]=true, this.model[\\\"value\\\"](val)) : undefined})\"]},\"systemjs_options\":null,\"mount_callbacks\":[\"function () {\\n    var handler = (function (ko, koPunches) {\\n    ko.punches.enableAll();\\n    ko.bindingHandlers.numericValue = {\\n        init: function(element, valueAccessor, allBindings, data, context) {\\n            var stringified = ko.observable(ko.unwrap(valueAccessor()));\\n            stringified.subscribe(function(value) {\\n                var val = parseFloat(value);\\n                if (!isNaN(val)) {\\n                    valueAccessor()(val);\\n                }\\n            });\\n            valueAccessor().subscribe(function(value) {\\n                var str = JSON.stringify(value);\\n                if ((str == \\\"0\\\") && ([\\\"-0\\\", \\\"-0.\\\"].indexOf(stringified()) >= 0))\\n                     return;\\n                 if ([\\\"null\\\", \\\"\\\"].indexOf(str) >= 0)\\n                     return;\\n                stringified(str);\\n            });\\n            ko.applyBindingsToNode(\\n                element,\\n                {\\n                    value: stringified,\\n                    valueUpdate: allBindings.get('valueUpdate'),\\n                },\\n                context,\\n            );\\n        }\\n    };\\n    var json_data = {\\\"changes\\\":WebIO.getval({\\\"name\\\":\\\"changes\\\",\\\"scope\\\":\\\"6517840312886293633\\\",\\\"id\\\":\\\"ob_02\\\",\\\"type\\\":\\\"observable\\\"}),\\\"value\\\":WebIO.getval({\\\"name\\\":\\\"value\\\",\\\"scope\\\":\\\"6517840312886293633\\\",\\\"id\\\":\\\"ob_01\\\",\\\"type\\\":\\\"observable\\\"})};\\n    var self = this;\\n    function AppViewModel() {\\n        for (var key in json_data) {\\n            var el = json_data[key];\\n            this[key] = Array.isArray(el) ? ko.observableArray(el) : ko.observable(el);\\n        }\\n        \\n        \\n        [this[\\\"changes\\\"].subscribe((function (val){!(this.valueFromJulia[\\\"changes\\\"]) ? (WebIO.setval({\\\"name\\\":\\\"changes\\\",\\\"scope\\\":\\\"6517840312886293633\\\",\\\"id\\\":\\\"ob_02\\\",\\\"type\\\":\\\"observable\\\"},val)) : undefined; return this.valueFromJulia[\\\"changes\\\"]=false}),self),this[\\\"value\\\"].subscribe((function (val){!(this.valueFromJulia[\\\"value\\\"]) ? (WebIO.setval({\\\"name\\\":\\\"value\\\",\\\"scope\\\":\\\"6517840312886293633\\\",\\\"id\\\":\\\"ob_01\\\",\\\"type\\\":\\\"observable\\\"},val)) : undefined; return this.valueFromJulia[\\\"value\\\"]=false}),self)]\\n        \\n    }\\n    self.model = new AppViewModel();\\n    self.valueFromJulia = {};\\n    for (var key in json_data) {\\n        self.valueFromJulia[key] = false;\\n    }\\n    ko.applyBindings(self.model, self.dom);\\n}\\n);\\n    (WebIO.importBlock({\\\"data\\\":[{\\\"name\\\":\\\"knockout\\\",\\\"type\\\":\\\"js\\\",\\\"url\\\":\\\"\\/assetserver\\/3bd9b1de736b098e415b41735ebb66f92146af63-knockout.js\\\"},{\\\"name\\\":\\\"knockout_punches\\\",\\\"type\\\":\\\"js\\\",\\\"url\\\":\\\"\\/assetserver\\/f693c45e4673819d9631890b2dbb7b49bac52036-knockout_punches.js\\\"}],\\\"type\\\":\\\"async_block\\\"})).then((imports) => handler.apply(this, imports));\\n}\\n\"],\"observables\":{\"changes\":{\"sync\":true,\"id\":\"ob_02\",\"value\":0},\"value\":{\"sync\":false,\"id\":\"ob_01\",\"value\":\"myFile.pdf\"}}},\"children\":[{\"props\":{\"className\":\"interact-flex-row interact-widget\"},\"nodeType\":\"DOM\",\"type\":\"node\",\"instanceArgs\":{\"namespace\":\"html\",\"tag\":\"div\"},\"children\":[{\"props\":{\"className\":\"interact-flex-row-left\"},\"nodeType\":\"DOM\",\"type\":\"node\",\"instanceArgs\":{\"namespace\":\"html\",\"tag\":\"div\"},\"children\":[{\"props\":{\"className\":\"interact \",\"style\":{\"padding\":\"5px 10px 0px 10px\"}},\"nodeType\":\"DOM\",\"type\":\"node\",\"instanceArgs\":{\"namespace\":\"html\",\"tag\":\"label\"},\"children\":[\"File Name\"]}]},{\"props\":{\"className\":\"interact-flex-row-center\"},\"nodeType\":\"DOM\",\"type\":\"node\",\"instanceArgs\":{\"namespace\":\"html\",\"tag\":\"div\"},\"children\":[{\"props\":{\"attributes\":{\"type\":\"text\",\"data-bind\":\"value: value, valueUpdate: 'input', event: {change: function (){this.changes(this.changes()+1)}}\"},\"placeholder\":\"\",\"className\":\"input \",\"style\":{}},\"nodeType\":\"DOM\",\"type\":\"node\",\"instanceArgs\":{\"namespace\":\"html\",\"tag\":\"input\"},\"children\":[]}]},{\"props\":{\"className\":\"interact-flex-row-right\"},\"nodeType\":\"DOM\",\"type\":\"node\",\"instanceArgs\":{\"namespace\":\"html\",\"tag\":\"div\"},\"children\":[{\"props\":{},\"nodeType\":\"DOM\",\"type\":\"node\",\"instanceArgs\":{\"namespace\":\"html\",\"tag\":\"div\"},\"children\":[]}]}]}]}]},{\"props\":{\"className\":\"field interact-widget\"},\"nodeType\":\"DOM\",\"type\":\"node\",\"instanceArgs\":{\"namespace\":\"html\",\"tag\":\"div\"},\"children\":[{\"props\":{},\"nodeType\":\"Scope\",\"type\":\"node\",\"instanceArgs\":{\"imports\":{\"data\":[{\"name\":\"knockout\",\"type\":\"js\",\"url\":\"\\/assetserver\\/3bd9b1de736b098e415b41735ebb66f92146af63-knockout.js\"},{\"name\":\"knockout_punches\",\"type\":\"js\",\"url\":\"\\/assetserver\\/f693c45e4673819d9631890b2dbb7b49bac52036-knockout_punches.js\"},{\"name\":null,\"type\":\"js\",\"url\":\"\\/assetserver\\/dadd00ee86bab68922605b4c34c155a51b0e2466-all.js\"},{\"name\":null,\"type\":\"css\",\"url\":\"\\/assetserver\\/783bf076fab44d74d9ad020ce784f4d35b2c125e-style.css\"},{\"name\":null,\"type\":\"css\",\"url\":\"\\/assetserver\\/81f83aa7d914707240f02251f8f73fd02ba8c8be-bulma_confined.min.css\"}],\"type\":\"async_block\"},\"id\":\"4072744720899215630\",\"handlers\":{\"loading\":[\"(function (val){return (val!=this.model[\\\"loading\\\"]()) ? (this.valueFromJulia[\\\"loading\\\"]=true, this.model[\\\"loading\\\"](val)) : undefined})\"],\"clicks\":[\"(function (val){return (val!=this.model[\\\"clicks\\\"]()) ? (this.valueFromJulia[\\\"clicks\\\"]=true, this.model[\\\"clicks\\\"](val)) : undefined})\"]},\"systemjs_options\":null,\"mount_callbacks\":[\"function () {\\n    var handler = (function (ko, koPunches) {\\n    ko.punches.enableAll();\\n    ko.bindingHandlers.numericValue = {\\n        init: function(element, valueAccessor, allBindings, data, context) {\\n            var stringified = ko.observable(ko.unwrap(valueAccessor()));\\n            stringified.subscribe(function(value) {\\n                var val = parseFloat(value);\\n                if (!isNaN(val)) {\\n                    valueAccessor()(val);\\n                }\\n            });\\n            valueAccessor().subscribe(function(value) {\\n                var str = JSON.stringify(value);\\n                if ((str == \\\"0\\\") && ([\\\"-0\\\", \\\"-0.\\\"].indexOf(stringified()) >= 0))\\n                     return;\\n                 if ([\\\"null\\\", \\\"\\\"].indexOf(str) >= 0)\\n                     return;\\n                stringified(str);\\n            });\\n            ko.applyBindingsToNode(\\n                element,\\n                {\\n                    value: stringified,\\n                    valueUpdate: allBindings.get('valueUpdate'),\\n                },\\n                context,\\n            );\\n        }\\n    };\\n    var json_data = {\\\"loading\\\":WebIO.getval({\\\"name\\\":\\\"loading\\\",\\\"scope\\\":\\\"4072744720899215630\\\",\\\"id\\\":\\\"ob_05\\\",\\\"type\\\":\\\"observable\\\"}),\\\"clicks\\\":WebIO.getval({\\\"name\\\":\\\"clicks\\\",\\\"scope\\\":\\\"4072744720899215630\\\",\\\"id\\\":\\\"ob_04\\\",\\\"type\\\":\\\"observable\\\"})};\\n    var self = this;\\n    function AppViewModel() {\\n        for (var key in json_data) {\\n            var el = json_data[key];\\n            this[key] = Array.isArray(el) ? ko.observableArray(el) : ko.observable(el);\\n        }\\n        \\n        \\n        [this[\\\"loading\\\"].subscribe((function (val){!(this.valueFromJulia[\\\"loading\\\"]) ? (WebIO.setval({\\\"name\\\":\\\"loading\\\",\\\"scope\\\":\\\"4072744720899215630\\\",\\\"id\\\":\\\"ob_05\\\",\\\"type\\\":\\\"observable\\\"},val)) : undefined; return this.valueFromJulia[\\\"loading\\\"]=false}),self),this[\\\"clicks\\\"].subscribe((function (val){!(this.valueFromJulia[\\\"clicks\\\"]) ? (WebIO.setval({\\\"name\\\":\\\"clicks\\\",\\\"scope\\\":\\\"4072744720899215630\\\",\\\"id\\\":\\\"ob_04\\\",\\\"type\\\":\\\"observable\\\"},val)) : undefined; return this.valueFromJulia[\\\"clicks\\\"]=false}),self)]\\n        \\n    }\\n    self.model = new AppViewModel();\\n    self.valueFromJulia = {};\\n    for (var key in json_data) {\\n        self.valueFromJulia[key] = false;\\n    }\\n    ko.applyBindings(self.model, self.dom);\\n}\\n);\\n    (WebIO.importBlock({\\\"data\\\":[{\\\"name\\\":\\\"knockout\\\",\\\"type\\\":\\\"js\\\",\\\"url\\\":\\\"\\/assetserver\\/3bd9b1de736b098e415b41735ebb66f92146af63-knockout.js\\\"},{\\\"name\\\":\\\"knockout_punches\\\",\\\"type\\\":\\\"js\\\",\\\"url\\\":\\\"\\/assetserver\\/f693c45e4673819d9631890b2dbb7b49bac52036-knockout_punches.js\\\"}],\\\"type\\\":\\\"async_block\\\"})).then((imports) => handler.apply(this, imports));\\n}\\n\"],\"observables\":{\"loading\":{\"sync\":false,\"id\":\"ob_05\",\"value\":false},\"clicks\":{\"sync\":true,\"id\":\"ob_04\",\"value\":0}}},\"children\":[{\"props\":{\"attributes\":{\"data-bind\":\"click: function (){this.clicks(this.clicks()+1)}, css: {'is-loading' : loading}\"},\"className\":\"is-medium button is-primary\",\"style\":{}},\"nodeType\":\"DOM\",\"type\":\"node\",\"instanceArgs\":{\"namespace\":\"html\",\"tag\":\"button\"},\"children\":[\"Save Plot\"]}]}]},{\"props\":{\"className\":\"field interact-widget\"},\"nodeType\":\"DOM\",\"type\":\"node\",\"instanceArgs\":{\"namespace\":\"html\",\"tag\":\"div\"},\"children\":[{\"props\":{},\"nodeType\":\"Scope\",\"type\":\"node\",\"instanceArgs\":{\"imports\":{\"data\":[{\"name\":\"knockout\",\"type\":\"js\",\"url\":\"\\/assetserver\\/3bd9b1de736b098e415b41735ebb66f92146af63-knockout.js\"},{\"name\":\"knockout_punches\",\"type\":\"js\",\"url\":\"\\/assetserver\\/f693c45e4673819d9631890b2dbb7b49bac52036-knockout_punches.js\"},{\"name\":null,\"type\":\"js\",\"url\":\"\\/assetserver\\/dadd00ee86bab68922605b4c34c155a51b0e2466-all.js\"},{\"name\":null,\"type\":\"css\",\"url\":\"\\/assetserver\\/783bf076fab44d74d9ad020ce784f4d35b2c125e-style.css\"},{\"name\":null,\"type\":\"css\",\"url\":\"\\/assetserver\\/81f83aa7d914707240f02251f8f73fd02ba8c8be-bulma_confined.min.css\"}],\"type\":\"async_block\"},\"id\":\"7243953727319850096\",\"handlers\":{\"changes\":[\"(function (val){return (val!=this.model[\\\"changes\\\"]()) ? (this.valueFromJulia[\\\"changes\\\"]=true, this.model[\\\"changes\\\"](val)) : undefined})\"],\"value\":[\"(function (val){return (val!=this.model[\\\"value\\\"]()) ? (this.valueFromJulia[\\\"value\\\"]=true, this.model[\\\"value\\\"](val)) : undefined})\"]},\"systemjs_options\":null,\"mount_callbacks\":[\"function () {\\n    var handler = (function (ko, koPunches) {\\n    ko.punches.enableAll();\\n    ko.bindingHandlers.numericValue = {\\n        init: function(element, valueAccessor, allBindings, data, context) {\\n            var stringified = ko.observable(ko.unwrap(valueAccessor()));\\n            stringified.subscribe(function(value) {\\n                var val = parseFloat(value);\\n                if (!isNaN(val)) {\\n                    valueAccessor()(val);\\n                }\\n            });\\n            valueAccessor().subscribe(function(value) {\\n                var str = JSON.stringify(value);\\n                if ((str == \\\"0\\\") && ([\\\"-0\\\", \\\"-0.\\\"].indexOf(stringified()) >= 0))\\n                     return;\\n                 if ([\\\"null\\\", \\\"\\\"].indexOf(str) >= 0)\\n                     return;\\n                stringified(str);\\n            });\\n            ko.applyBindingsToNode(\\n                element,\\n                {\\n                    value: stringified,\\n                    valueUpdate: allBindings.get('valueUpdate'),\\n                },\\n                context,\\n            );\\n        }\\n    };\\n    var json_data = {\\\"changes\\\":WebIO.getval({\\\"name\\\":\\\"changes\\\",\\\"scope\\\":\\\"7243953727319850096\\\",\\\"id\\\":\\\"ob_07\\\",\\\"type\\\":\\\"observable\\\"}),\\\"value\\\":WebIO.getval({\\\"name\\\":\\\"value\\\",\\\"scope\\\":\\\"7243953727319850096\\\",\\\"id\\\":\\\"ob_06\\\",\\\"type\\\":\\\"observable\\\"})};\\n    var self = this;\\n    function AppViewModel() {\\n        for (var key in json_data) {\\n            var el = json_data[key];\\n            this[key] = Array.isArray(el) ? ko.observableArray(el) : ko.observable(el);\\n        }\\n        \\n        \\n        [this[\\\"changes\\\"].subscribe((function (val){!(this.valueFromJulia[\\\"changes\\\"]) ? (WebIO.setval({\\\"name\\\":\\\"changes\\\",\\\"scope\\\":\\\"7243953727319850096\\\",\\\"id\\\":\\\"ob_07\\\",\\\"type\\\":\\\"observable\\\"},val)) : undefined; return this.valueFromJulia[\\\"changes\\\"]=false}),self),this[\\\"value\\\"].subscribe((function (val){!(this.valueFromJulia[\\\"value\\\"]) ? (WebIO.setval({\\\"name\\\":\\\"value\\\",\\\"scope\\\":\\\"7243953727319850096\\\",\\\"id\\\":\\\"ob_06\\\",\\\"type\\\":\\\"observable\\\"},val)) : undefined; return this.valueFromJulia[\\\"value\\\"]=false}),self)]\\n        \\n    }\\n    self.model = new AppViewModel();\\n    self.valueFromJulia = {};\\n    for (var key in json_data) {\\n        self.valueFromJulia[key] = false;\\n    }\\n    ko.applyBindings(self.model, self.dom);\\n}\\n);\\n    (WebIO.importBlock({\\\"data\\\":[{\\\"name\\\":\\\"knockout\\\",\\\"type\\\":\\\"js\\\",\\\"url\\\":\\\"\\/assetserver\\/3bd9b1de736b098e415b41735ebb66f92146af63-knockout.js\\\"},{\\\"name\\\":\\\"knockout_punches\\\",\\\"type\\\":\\\"js\\\",\\\"url\\\":\\\"\\/assetserver\\/f693c45e4673819d9631890b2dbb7b49bac52036-knockout_punches.js\\\"}],\\\"type\\\":\\\"async_block\\\"})).then((imports) => handler.apply(this, imports));\\n}\\n\"],\"observables\":{\"changes\":{\"sync\":false,\"id\":\"ob_07\",\"value\":0},\"value\":{\"sync\":true,\"id\":\"ob_06\",\"value\":1}}},\"children\":[{\"props\":{\"max\":30,\"min\":1,\"attributes\":{\"type\":\"number\",\"data-bind\":\"numericValue: value, valueUpdate: 'input', event: {change: function (){this.changes(this.changes()+1)}}\"},\"step\":1,\"placeholder\":\"\",\"className\":\"input \",\"style\":{}},\"nodeType\":\"DOM\",\"type\":\"node\",\"instanceArgs\":{\"namespace\":\"html\",\"tag\":\"input\"},\"children\":[]}]}]},{\"props\":{\"className\":\"field interact-widget\"},\"nodeType\":\"DOM\",\"type\":\"node\",\"instanceArgs\":{\"namespace\":\"html\",\"tag\":\"div\"},\"children\":[{\"props\":{},\"nodeType\":\"Scope\",\"type\":\"node\",\"instanceArgs\":{\"imports\":{\"data\":[{\"name\":\"knockout\",\"type\":\"js\",\"url\":\"\\/assetserver\\/3bd9b1de736b098e415b41735ebb66f92146af63-knockout.js\"},{\"name\":\"knockout_punches\",\"type\":\"js\",\"url\":\"\\/assetserver\\/f693c45e4673819d9631890b2dbb7b49bac52036-knockout_punches.js\"},{\"name\":null,\"type\":\"js\",\"url\":\"\\/assetserver\\/dadd00ee86bab68922605b4c34c155a51b0e2466-all.js\"},{\"name\":null,\"type\":\"css\",\"url\":\"\\/assetserver\\/783bf076fab44d74d9ad020ce784f4d35b2c125e-style.css\"},{\"name\":null,\"type\":\"css\",\"url\":\"\\/assetserver\\/81f83aa7d914707240f02251f8f73fd02ba8c8be-bulma_confined.min.css\"}],\"type\":\"async_block\"},\"id\":\"6951983681891165989\",\"handlers\":{\"changes\":[\"(function (val){return (val!=this.model[\\\"changes\\\"]()) ? (this.valueFromJulia[\\\"changes\\\"]=true, this.model[\\\"changes\\\"](val)) : undefined})\"],\"index\":[\"(function (val){return (val!=this.model[\\\"index\\\"]()) ? (this.valueFromJulia[\\\"index\\\"]=true, this.model[\\\"index\\\"](val)) : undefined})\"]},\"systemjs_options\":null,\"mount_callbacks\":[\"function () {\\n    var handler = (function (ko, koPunches) {\\n    ko.punches.enableAll();\\n    ko.bindingHandlers.numericValue = {\\n        init: function(element, valueAccessor, allBindings, data, context) {\\n            var stringified = ko.observable(ko.unwrap(valueAccessor()));\\n            stringified.subscribe(function(value) {\\n                var val = parseFloat(value);\\n                if (!isNaN(val)) {\\n                    valueAccessor()(val);\\n                }\\n            });\\n            valueAccessor().subscribe(function(value) {\\n                var str = JSON.stringify(value);\\n                if ((str == \\\"0\\\") && ([\\\"-0\\\", \\\"-0.\\\"].indexOf(stringified()) >= 0))\\n                     return;\\n                 if ([\\\"null\\\", \\\"\\\"].indexOf(str) >= 0)\\n                     return;\\n                stringified(str);\\n            });\\n            ko.applyBindingsToNode(\\n                element,\\n                {\\n                    value: stringified,\\n                    valueUpdate: allBindings.get('valueUpdate'),\\n                },\\n                context,\\n            );\\n        }\\n    };\\n    var json_data = {\\\"formatted_vals\\\":[\\\"0.0\\\",\\\"1.0\\\",\\\"2.0\\\",\\\"3.0\\\",\\\"4.0\\\",\\\"5.0\\\",\\\"6.0\\\",\\\"7.0\\\",\\\"8.0\\\",\\\"9.0\\\",\\\"10.0\\\",\\\"11.0\\\",\\\"12.0\\\",\\\"13.0\\\",\\\"14.0\\\",\\\"15.0\\\",\\\"16.0\\\",\\\"17.0\\\",\\\"18.0\\\",\\\"19.0\\\",\\\"20.0\\\",\\\"21.0\\\",\\\"22.0\\\",\\\"23.0\\\",\\\"24.0\\\",\\\"25.0\\\",\\\"26.0\\\",\\\"27.0\\\",\\\"28.0\\\",\\\"29.0\\\",\\\"30.0\\\",\\\"31.0\\\",\\\"32.0\\\",\\\"33.0\\\",\\\"34.0\\\",\\\"35.0\\\",\\\"36.0\\\",\\\"37.0\\\",\\\"38.0\\\",\\\"39.0\\\",\\\"40.0\\\",\\\"41.0\\\",\\\"42.0\\\",\\\"43.0\\\",\\\"44.0\\\",\\\"45.0\\\",\\\"46.0\\\",\\\"47.0\\\",\\\"48.0\\\",\\\"49.0\\\",\\\"50.0\\\",\\\"51.0\\\",\\\"52.0\\\",\\\"53.0\\\",\\\"54.0\\\",\\\"55.0\\\",\\\"56.0\\\",\\\"57.0\\\",\\\"58.0\\\",\\\"59.0\\\",\\\"60.0\\\",\\\"61.0\\\",\\\"62.0\\\",\\\"63.0\\\",\\\"64.0\\\",\\\"65.0\\\",\\\"66.0\\\",\\\"67.0\\\",\\\"68.0\\\",\\\"69.0\\\",\\\"70.0\\\",\\\"71.0\\\",\\\"72.0\\\",\\\"73.0\\\",\\\"74.0\\\",\\\"75.0\\\",\\\"76.0\\\",\\\"77.0\\\",\\\"78.0\\\",\\\"79.0\\\",\\\"80.0\\\",\\\"81.0\\\",\\\"82.0\\\",\\\"83.0\\\",\\\"84.0\\\",\\\"85.0\\\",\\\"86.0\\\",\\\"87.0\\\",\\\"88.0\\\",\\\"89.0\\\",\\\"90.0\\\",\\\"91.0\\\",\\\"92.0\\\",\\\"93.0\\\",\\\"94.0\\\",\\\"95.0\\\",\\\"96.0\\\",\\\"97.0\\\",\\\"98.0\\\",\\\"99.0\\\",\\\"100.0\\\",\\\"101.0\\\",\\\"102.0\\\",\\\"103.0\\\",\\\"104.0\\\",\\\"105.0\\\",\\\"106.0\\\",\\\"107.0\\\",\\\"108.0\\\",\\\"109.0\\\",\\\"110.0\\\",\\\"111.0\\\",\\\"112.0\\\",\\\"113.0\\\",\\\"114.0\\\",\\\"115.0\\\",\\\"116.0\\\",\\\"117.0\\\",\\\"118.0\\\",\\\"119.0\\\",\\\"120.0\\\"],\\\"changes\\\":WebIO.getval({\\\"name\\\":\\\"changes\\\",\\\"scope\\\":\\\"6951983681891165989\\\",\\\"id\\\":\\\"ob_10\\\",\\\"type\\\":\\\"observable\\\"}),\\\"index\\\":WebIO.getval({\\\"name\\\":\\\"index\\\",\\\"scope\\\":\\\"6951983681891165989\\\",\\\"id\\\":\\\"ob_09\\\",\\\"type\\\":\\\"observable\\\"})};\\n    var self = this;\\n    function AppViewModel() {\\n        for (var key in json_data) {\\n            var el = json_data[key];\\n            this[key] = Array.isArray(el) ? ko.observableArray(el) : ko.observable(el);\\n        }\\n        \\n        [this[\\\"formatted_val\\\"]=ko.computed(    function(){\\n        return this.formatted_vals()[parseInt(this.index())-(1)];\\n    }\\n,this)]\\n        [this[\\\"changes\\\"].subscribe((function (val){!(this.valueFromJulia[\\\"changes\\\"]) ? (WebIO.setval({\\\"name\\\":\\\"changes\\\",\\\"scope\\\":\\\"6951983681891165989\\\",\\\"id\\\":\\\"ob_10\\\",\\\"type\\\":\\\"observable\\\"},val)) : undefined; return this.valueFromJulia[\\\"changes\\\"]=false}),self),this[\\\"index\\\"].subscribe((function (val){!(this.valueFromJulia[\\\"index\\\"]) ? (WebIO.setval({\\\"name\\\":\\\"index\\\",\\\"scope\\\":\\\"6951983681891165989\\\",\\\"id\\\":\\\"ob_09\\\",\\\"type\\\":\\\"observable\\\"},val)) : undefined; return this.valueFromJulia[\\\"index\\\"]=false}),self)]\\n        \\n    }\\n    self.model = new AppViewModel();\\n    self.valueFromJulia = {};\\n    for (var key in json_data) {\\n        self.valueFromJulia[key] = false;\\n    }\\n    ko.applyBindings(self.model, self.dom);\\n}\\n);\\n    (WebIO.importBlock({\\\"data\\\":[{\\\"name\\\":\\\"knockout\\\",\\\"type\\\":\\\"js\\\",\\\"url\\\":\\\"\\/assetserver\\/3bd9b1de736b098e415b41735ebb66f92146af63-knockout.js\\\"},{\\\"name\\\":\\\"knockout_punches\\\",\\\"type\\\":\\\"js\\\",\\\"url\\\":\\\"\\/assetserver\\/f693c45e4673819d9631890b2dbb7b49bac52036-knockout_punches.js\\\"}],\\\"type\\\":\\\"async_block\\\"})).then((imports) => handler.apply(this, imports));\\n}\\n\"],\"observables\":{\"changes\":{\"sync\":false,\"id\":\"ob_10\",\"value\":0},\"index\":{\"sync\":true,\"id\":\"ob_09\",\"value\":1}}},\"children\":[{\"props\":{\"className\":\"interact-flex-row interact-widget\"},\"nodeType\":\"DOM\",\"type\":\"node\",\"instanceArgs\":{\"namespace\":\"html\",\"tag\":\"div\"},\"children\":[{\"props\":{\"className\":\"interact-flex-row-left\"},\"nodeType\":\"DOM\",\"type\":\"node\",\"instanceArgs\":{\"namespace\":\"html\",\"tag\":\"div\"},\"children\":[{\"props\":{\"className\":\"interact \",\"style\":{\"padding\":\"5px 10px 0px 10px\"}},\"nodeType\":\"DOM\",\"type\":\"node\",\"instanceArgs\":{\"namespace\":\"html\",\"tag\":\"label\"},\"children\":[\"\"]}]},{\"props\":{\"className\":\"interact-flex-row-center\"},\"nodeType\":\"DOM\",\"type\":\"node\",\"instanceArgs\":{\"namespace\":\"html\",\"tag\":\"div\"},\"children\":[{\"props\":{\"max\":121,\"min\":1,\"attributes\":{\"type\":\"range\",\"data-bind\":\"numericValue: index, valueUpdate: 'input', event: {change: function (){this.changes(this.changes()+1)}}\",\"orient\":\"horizontal\"},\"step\":1,\"className\":\"slider slider is-fullwidth\",\"style\":{}},\"nodeType\":\"DOM\",\"type\":\"node\",\"instanceArgs\":{\"namespace\":\"html\",\"tag\":\"input\"},\"children\":[]}]},{\"props\":{\"className\":\"interact-flex-row-right\"},\"nodeType\":\"DOM\",\"type\":\"node\",\"instanceArgs\":{\"namespace\":\"html\",\"tag\":\"div\"},\"children\":[{\"props\":{\"attributes\":{\"data-bind\":\"text: formatted_val\"}},\"nodeType\":\"DOM\",\"type\":\"node\",\"instanceArgs\":{\"namespace\":\"html\",\"tag\":\"p\"},\"children\":[]}]}]}]}]},{\"props\":{},\"nodeType\":\"Scope\",\"type\":\"node\",\"instanceArgs\":{\"imports\":{\"data\":[],\"type\":\"async_block\"},\"id\":\"9391242277108613094\",\"handlers\":{},\"systemjs_options\":null,\"mount_callbacks\":[],\"observables\":{\"obs-node\":{\"sync\":false,\"id\":\"ob_14\",\"value\":{\"props\":{\"className\":\"interact-flex-row interact-widget\"},\"nodeType\":\"DOM\",\"type\":\"node\",\"instanceArgs\":{\"namespace\":\"html\",\"tag\":\"div\"},\"children\":[{\"props\":{\"setInnerHtml\":\"<?xml version=\\\"1.0\\\" encoding=\\\"UTF-8\\\"?>\\n<svg xmlns=\\\"http:\\/\\/www.w3.org\\/2000\\/svg\\\" xmlns:xlink=\\\"http:\\/\\/www.w3.org\\/1999\\/xlink\\\" width=\\\"565.859pt\\\" height=\\\"261.943pt\\\" viewBox=\\\"0 0 565.859 261.943\\\" version=\\\"1.1\\\">\\n<defs>\\n<g>\\n<symbol overflow=\\\"visible\\\" id=\\\"glyph-1562715734929561-0-0\\\">\\n<path style=\\\"stroke:none;\\\" d=\\\"\\\"\\/>\\n<\\/symbol>\\n<symbol overflow=\\\"visible\\\" id=\\\"glyph-1562715734929561-0-1\\\">\\n<path style=\\\"stroke:none;\\\" d=\\\"M 6.109375 -6.03125 C 6.109375 -6.390625 6.125 -6.5 6.890625 -6.5 L 7.140625 -6.5 L 7.140625 -6.8125 C 6.78125 -6.78125 6.046875 -6.78125 5.671875 -6.78125 C 5.296875 -6.78125 4.546875 -6.78125 4.203125 -6.8125 L 4.203125 -6.5 L 4.4375 -6.5 C 5.203125 -6.5 5.21875 -6.390625 5.21875 -6.03125 L 5.21875 -3.703125 L 2.25 -3.703125 L 2.25 -6.03125 C 2.25 -6.390625 2.265625 -6.5 3.03125 -6.5 L 3.265625 -6.5 L 3.265625 -6.8125 C 2.921875 -6.78125 2.1875 -6.78125 1.796875 -6.78125 C 1.421875 -6.78125 0.671875 -6.78125 0.328125 -6.8125 L 0.328125 -6.5 L 0.5625 -6.5 C 1.328125 -6.5 1.359375 -6.390625 1.359375 -6.03125 L 1.359375 -0.78125 C 1.359375 -0.421875 1.328125 -0.3125 0.5625 -0.3125 L 0.328125 -0.3125 L 0.328125 0 C 0.671875 -0.03125 1.421875 -0.03125 1.796875 -0.03125 C 2.171875 -0.03125 2.921875 -0.03125 3.265625 0 L 3.265625 -0.3125 L 3.03125 -0.3125 C 2.265625 -0.3125 2.25 -0.421875 2.25 -0.78125 L 2.25 -3.390625 L 5.21875 -3.390625 L 5.21875 -0.78125 C 5.21875 -0.421875 5.203125 -0.3125 4.4375 -0.3125 L 4.203125 -0.3125 L 4.203125 0 C 4.546875 -0.03125 5.28125 -0.03125 5.65625 -0.03125 C 6.046875 -0.03125 6.78125 -0.03125 7.140625 0 L 7.140625 -0.3125 L 6.890625 -0.3125 C 6.125 -0.3125 6.109375 -0.421875 6.109375 -0.78125 Z M 6.109375 -6.03125 \\\"\\/>\\n<\\/symbol>\\n<symbol overflow=\\\"visible\\\" id=\\\"glyph-1562715734929561-0-2\\\">\\n<path style=\\\"stroke:none;\\\" d=\\\"M 4.6875 -2.140625 C 4.6875 -3.40625 3.703125 -4.46875 2.5 -4.46875 C 1.25 -4.46875 0.28125 -3.375 0.28125 -2.140625 C 0.28125 -0.84375 1.3125 0.109375 2.484375 0.109375 C 3.6875 0.109375 4.6875 -0.875 4.6875 -2.140625 Z M 2.5 -0.140625 C 2.0625 -0.140625 1.625 -0.34375 1.359375 -0.8125 C 1.109375 -1.25 1.109375 -1.859375 1.109375 -2.21875 C 1.109375 -2.609375 1.109375 -3.140625 1.34375 -3.578125 C 1.609375 -4.03125 2.078125 -4.25 2.484375 -4.25 C 2.921875 -4.25 3.34375 -4.03125 3.609375 -3.59375 C 3.875 -3.171875 3.875 -2.59375 3.875 -2.21875 C 3.875 -1.859375 3.875 -1.3125 3.65625 -0.875 C 3.421875 -0.421875 2.984375 -0.140625 2.5 -0.140625 Z M 2.5 -0.140625 \\\"\\/>\\n<\\/symbol>\\n<symbol overflow=\\\"visible\\\" id=\\\"glyph-1562715734929561-0-3\\\">\\n<path style=\\\"stroke:none;\\\" d=\\\"M 1.671875 -3.3125 L 1.671875 -4.40625 L 0.28125 -4.296875 L 0.28125 -3.984375 C 0.984375 -3.984375 1.0625 -3.921875 1.0625 -3.421875 L 1.0625 -0.75 C 1.0625 -0.3125 0.953125 -0.3125 0.28125 -0.3125 L 0.28125 0 C 0.671875 -0.015625 1.140625 -0.03125 1.421875 -0.03125 C 1.8125 -0.03125 2.28125 -0.03125 2.6875 0 L 2.6875 -0.3125 L 2.46875 -0.3125 C 1.734375 -0.3125 1.71875 -0.421875 1.71875 -0.78125 L 1.71875 -2.3125 C 1.71875 -3.296875 2.140625 -4.1875 2.890625 -4.1875 C 2.953125 -4.1875 2.984375 -4.1875 3 -4.171875 C 2.96875 -4.171875 2.765625 -4.046875 2.765625 -3.78125 C 2.765625 -3.515625 2.984375 -3.359375 3.203125 -3.359375 C 3.375 -3.359375 3.625 -3.484375 3.625 -3.796875 C 3.625 -4.109375 3.3125 -4.40625 2.890625 -4.40625 C 2.15625 -4.40625 1.796875 -3.734375 1.671875 -3.3125 Z M 1.671875 -3.3125 \\\"\\/>\\n<\\/symbol>\\n<symbol overflow=\\\"visible\\\" id=\\\"glyph-1562715734929561-0-4\\\">\\n<path style=\\\"stroke:none;\\\" d=\\\"M 1.765625 -4.40625 L 0.375 -4.296875 L 0.375 -3.984375 C 1.015625 -3.984375 1.109375 -3.921875 1.109375 -3.4375 L 1.109375 -0.75 C 1.109375 -0.3125 1 -0.3125 0.328125 -0.3125 L 0.328125 0 C 0.640625 -0.015625 1.1875 -0.03125 1.421875 -0.03125 C 1.78125 -0.03125 2.125 -0.015625 2.46875 0 L 2.46875 -0.3125 C 1.796875 -0.3125 1.765625 -0.359375 1.765625 -0.75 Z M 1.796875 -6.140625 C 1.796875 -6.453125 1.5625 -6.671875 1.28125 -6.671875 C 0.96875 -6.671875 0.75 -6.40625 0.75 -6.140625 C 0.75 -5.875 0.96875 -5.609375 1.28125 -5.609375 C 1.5625 -5.609375 1.796875 -5.828125 1.796875 -6.140625 Z M 1.796875 -6.140625 \\\"\\/>\\n<\\/symbol>\\n<symbol overflow=\\\"visible\\\" id=\\\"glyph-1562715734929561-0-5\\\">\\n<path style=\\\"stroke:none;\\\" d=\\\"M 3.890625 -4 C 3.984375 -4.109375 3.984375 -4.125 3.984375 -4.171875 C 3.984375 -4.296875 3.890625 -4.296875 3.71875 -4.296875 L 0.53125 -4.296875 L 0.421875 -2.6875 L 0.671875 -2.6875 C 0.734375 -3.703125 0.921875 -4.078125 2.015625 -4.078125 L 3.15625 -4.078125 L 0.375 -0.3125 C 0.28125 -0.203125 0.28125 -0.1875 0.28125 -0.140625 C 0.28125 0 0.34375 0 0.53125 0 L 3.828125 0 L 4 -1.859375 L 3.75 -1.859375 C 3.65625 -0.6875 3.453125 -0.25 2.296875 -0.25 L 1.109375 -0.25 Z M 3.890625 -4 \\\"\\/>\\n<\\/symbol>\\n<symbol overflow=\\\"visible\\\" id=\\\"glyph-1562715734929561-0-6\\\">\\n<path style=\\\"stroke:none;\\\" d=\\\"M 1.09375 -3.421875 L 1.09375 -0.75 C 1.09375 -0.3125 0.984375 -0.3125 0.3125 -0.3125 L 0.3125 0 C 0.671875 -0.015625 1.171875 -0.03125 1.453125 -0.03125 C 1.703125 -0.03125 2.21875 -0.015625 2.5625 0 L 2.5625 -0.3125 C 1.890625 -0.3125 1.78125 -0.3125 1.78125 -0.75 L 1.78125 -2.59375 C 1.78125 -3.625 2.5 -4.1875 3.125 -4.1875 C 3.765625 -4.1875 3.875 -3.65625 3.875 -3.078125 L 3.875 -0.75 C 3.875 -0.3125 3.765625 -0.3125 3.09375 -0.3125 L 3.09375 0 C 3.4375 -0.015625 3.953125 -0.03125 4.21875 -0.03125 C 4.46875 -0.03125 5 -0.015625 5.328125 0 L 5.328125 -0.3125 C 4.8125 -0.3125 4.5625 -0.3125 4.5625 -0.609375 L 4.5625 -2.515625 C 4.5625 -3.375 4.5625 -3.671875 4.25 -4.03125 C 4.109375 -4.203125 3.78125 -4.40625 3.203125 -4.40625 C 2.46875 -4.40625 2 -3.984375 1.71875 -3.359375 L 1.71875 -4.40625 L 0.3125 -4.296875 L 0.3125 -3.984375 C 1.015625 -3.984375 1.09375 -3.921875 1.09375 -3.421875 Z M 1.09375 -3.421875 \\\"\\/>\\n<\\/symbol>\\n<symbol overflow=\\\"visible\\\" id=\\\"glyph-1562715734929561-0-7\\\">\\n<path style=\\\"stroke:none;\\\" d=\\\"M 1.71875 -3.984375 L 3.15625 -3.984375 L 3.15625 -4.296875 L 1.71875 -4.296875 L 1.71875 -6.125 L 1.46875 -6.125 C 1.46875 -5.3125 1.171875 -4.25 0.1875 -4.203125 L 0.1875 -3.984375 L 1.03125 -3.984375 L 1.03125 -1.234375 C 1.03125 -0.015625 1.96875 0.109375 2.328125 0.109375 C 3.03125 0.109375 3.3125 -0.59375 3.3125 -1.234375 L 3.3125 -1.796875 L 3.0625 -1.796875 L 3.0625 -1.25 C 3.0625 -0.515625 2.765625 -0.140625 2.390625 -0.140625 C 1.71875 -0.140625 1.71875 -1.046875 1.71875 -1.21875 Z M 1.71875 -3.984375 \\\"\\/>\\n<\\/symbol>\\n<symbol overflow=\\\"visible\\\" id=\\\"glyph-1562715734929561-0-8\\\">\\n<path style=\\\"stroke:none;\\\" d=\\\"M 3.3125 -0.75 C 3.359375 -0.359375 3.625 0.0625 4.09375 0.0625 C 4.3125 0.0625 4.921875 -0.078125 4.921875 -0.890625 L 4.921875 -1.453125 L 4.671875 -1.453125 L 4.671875 -0.890625 C 4.671875 -0.3125 4.421875 -0.25 4.3125 -0.25 C 3.984375 -0.25 3.9375 -0.703125 3.9375 -0.75 L 3.9375 -2.734375 C 3.9375 -3.15625 3.9375 -3.546875 3.578125 -3.921875 C 3.1875 -4.3125 2.6875 -4.46875 2.21875 -4.46875 C 1.390625 -4.46875 0.703125 -4 0.703125 -3.34375 C 0.703125 -3.046875 0.90625 -2.875 1.171875 -2.875 C 1.453125 -2.875 1.625 -3.078125 1.625 -3.328125 C 1.625 -3.453125 1.578125 -3.78125 1.109375 -3.78125 C 1.390625 -4.140625 1.875 -4.25 2.1875 -4.25 C 2.6875 -4.25 3.25 -3.859375 3.25 -2.96875 L 3.25 -2.609375 C 2.734375 -2.578125 2.046875 -2.546875 1.421875 -2.25 C 0.671875 -1.90625 0.421875 -1.390625 0.421875 -0.953125 C 0.421875 -0.140625 1.390625 0.109375 2.015625 0.109375 C 2.671875 0.109375 3.125 -0.296875 3.3125 -0.75 Z M 3.25 -2.390625 L 3.25 -1.390625 C 3.25 -0.453125 2.53125 -0.109375 2.078125 -0.109375 C 1.59375 -0.109375 1.1875 -0.453125 1.1875 -0.953125 C 1.1875 -1.5 1.609375 -2.328125 3.25 -2.390625 Z M 3.25 -2.390625 \\\"\\/>\\n<\\/symbol>\\n<symbol overflow=\\\"visible\\\" id=\\\"glyph-1562715734929561-0-9\\\">\\n<path style=\\\"stroke:none;\\\" d=\\\"M 1.765625 -6.921875 L 0.328125 -6.8125 L 0.328125 -6.5 C 1.03125 -6.5 1.109375 -6.4375 1.109375 -5.9375 L 1.109375 -0.75 C 1.109375 -0.3125 1 -0.3125 0.328125 -0.3125 L 0.328125 0 C 0.65625 -0.015625 1.1875 -0.03125 1.4375 -0.03125 C 1.6875 -0.03125 2.171875 -0.015625 2.546875 0 L 2.546875 -0.3125 C 1.875 -0.3125 1.765625 -0.3125 1.765625 -0.75 Z M 1.765625 -6.921875 \\\"\\/>\\n<\\/symbol>\\n<symbol overflow=\\\"visible\\\" id=\\\"glyph-1562715734929561-0-10\\\">\\n<path style=\\\"stroke:none;\\\" d=\\\"M 2.234375 -3.515625 L 2.234375 -6.09375 C 2.234375 -6.328125 2.234375 -6.453125 2.453125 -6.484375 C 2.546875 -6.5 2.84375 -6.5 3.046875 -6.5 C 3.9375 -6.5 5.046875 -6.453125 5.046875 -5.015625 C 5.046875 -4.328125 4.8125 -3.515625 3.34375 -3.515625 Z M 4.34375 -3.390625 C 5.296875 -3.625 6.078125 -4.234375 6.078125 -5.015625 C 6.078125 -5.96875 4.9375 -6.8125 3.484375 -6.8125 L 0.34375 -6.8125 L 0.34375 -6.5 L 0.59375 -6.5 C 1.359375 -6.5 1.375 -6.390625 1.375 -6.03125 L 1.375 -0.78125 C 1.375 -0.421875 1.359375 -0.3125 0.59375 -0.3125 L 0.34375 -0.3125 L 0.34375 0 C 0.703125 -0.03125 1.421875 -0.03125 1.796875 -0.03125 C 2.1875 -0.03125 2.90625 -0.03125 3.265625 0 L 3.265625 -0.3125 L 3.015625 -0.3125 C 2.25 -0.3125 2.234375 -0.421875 2.234375 -0.78125 L 2.234375 -3.296875 L 3.375 -3.296875 C 3.53125 -3.296875 3.953125 -3.296875 4.3125 -2.953125 C 4.6875 -2.609375 4.6875 -2.296875 4.6875 -1.625 C 4.6875 -0.984375 4.6875 -0.578125 5.09375 -0.203125 C 5.5 0.15625 6.046875 0.21875 6.34375 0.21875 C 7.125 0.21875 7.296875 -0.59375 7.296875 -0.875 C 7.296875 -0.9375 7.296875 -1.046875 7.171875 -1.046875 C 7.0625 -1.046875 7.0625 -0.953125 7.046875 -0.890625 C 6.984375 -0.171875 6.640625 0 6.390625 0 C 5.90625 0 5.828125 -0.515625 5.6875 -1.4375 L 5.546875 -2.234375 C 5.375 -2.875 4.890625 -3.203125 4.34375 -3.390625 Z M 4.34375 -3.390625 \\\"\\/>\\n<\\/symbol>\\n<symbol overflow=\\\"visible\\\" id=\\\"glyph-1562715734929561-0-11\\\">\\n<path style=\\\"stroke:none;\\\" d=\\\"M 2.21875 -1.71875 C 1.34375 -1.71875 1.34375 -2.71875 1.34375 -2.9375 C 1.34375 -3.203125 1.359375 -3.53125 1.5 -3.78125 C 1.578125 -3.890625 1.8125 -4.171875 2.21875 -4.171875 C 3.078125 -4.171875 3.078125 -3.1875 3.078125 -2.953125 C 3.078125 -2.6875 3.078125 -2.359375 2.921875 -2.109375 C 2.84375 -2 2.609375 -1.71875 2.21875 -1.71875 Z M 1.0625 -1.328125 C 1.0625 -1.359375 1.0625 -1.59375 1.21875 -1.796875 C 1.609375 -1.515625 2.03125 -1.484375 2.21875 -1.484375 C 3.140625 -1.484375 3.828125 -2.171875 3.828125 -2.9375 C 3.828125 -3.3125 3.671875 -3.671875 3.421875 -3.90625 C 3.78125 -4.25 4.140625 -4.296875 4.3125 -4.296875 C 4.34375 -4.296875 4.390625 -4.296875 4.421875 -4.28125 C 4.3125 -4.25 4.25 -4.140625 4.25 -4.015625 C 4.25 -3.84375 4.390625 -3.734375 4.546875 -3.734375 C 4.640625 -3.734375 4.828125 -3.796875 4.828125 -4.03125 C 4.828125 -4.203125 4.71875 -4.515625 4.328125 -4.515625 C 4.125 -4.515625 3.6875 -4.453125 3.265625 -4.046875 C 2.84375 -4.375 2.4375 -4.40625 2.21875 -4.40625 C 1.28125 -4.40625 0.59375 -3.71875 0.59375 -2.953125 C 0.59375 -2.515625 0.8125 -2.140625 1.0625 -1.921875 C 0.9375 -1.78125 0.75 -1.453125 0.75 -1.09375 C 0.75 -0.78125 0.890625 -0.40625 1.203125 -0.203125 C 0.59375 -0.046875 0.28125 0.390625 0.28125 0.78125 C 0.28125 1.5 1.265625 2.046875 2.484375 2.046875 C 3.65625 2.046875 4.6875 1.546875 4.6875 0.765625 C 4.6875 0.421875 4.5625 -0.09375 4.046875 -0.375 C 3.515625 -0.640625 2.9375 -0.640625 2.328125 -0.640625 C 2.078125 -0.640625 1.65625 -0.640625 1.578125 -0.65625 C 1.265625 -0.703125 1.0625 -1 1.0625 -1.328125 Z M 2.5 1.828125 C 1.484375 1.828125 0.796875 1.3125 0.796875 0.78125 C 0.796875 0.328125 1.171875 -0.046875 1.609375 -0.0625 L 2.203125 -0.0625 C 3.0625 -0.0625 4.171875 -0.0625 4.171875 0.78125 C 4.171875 1.328125 3.46875 1.828125 2.5 1.828125 Z M 2.5 1.828125 \\\"\\/>\\n<\\/symbol>\\n<symbol overflow=\\\"visible\\\" id=\\\"glyph-1562715734929561-0-12\\\">\\n<path style=\\\"stroke:none;\\\" d=\\\"M 1.109375 -2.515625 C 1.171875 -4 2.015625 -4.25 2.359375 -4.25 C 3.375 -4.25 3.484375 -2.90625 3.484375 -2.515625 Z M 1.109375 -2.296875 L 3.890625 -2.296875 C 4.109375 -2.296875 4.140625 -2.296875 4.140625 -2.515625 C 4.140625 -3.5 3.59375 -4.46875 2.359375 -4.46875 C 1.203125 -4.46875 0.28125 -3.4375 0.28125 -2.1875 C 0.28125 -0.859375 1.328125 0.109375 2.46875 0.109375 C 3.6875 0.109375 4.140625 -1 4.140625 -1.1875 C 4.140625 -1.28125 4.0625 -1.3125 4 -1.3125 C 3.921875 -1.3125 3.890625 -1.25 3.875 -1.171875 C 3.53125 -0.140625 2.625 -0.140625 2.53125 -0.140625 C 2.03125 -0.140625 1.640625 -0.4375 1.40625 -0.8125 C 1.109375 -1.28125 1.109375 -1.9375 1.109375 -2.296875 Z M 1.109375 -2.296875 \\\"\\/>\\n<\\/symbol>\\n<symbol overflow=\\\"visible\\\" id=\\\"glyph-1562715734929561-0-13\\\">\\n<path style=\\\"stroke:none;\\\" d=\\\"M 1.90625 -3.765625 C 1.90625 -4.0625 1.671875 -4.296875 1.390625 -4.296875 C 1.09375 -4.296875 0.859375 -4.0625 0.859375 -3.765625 C 0.859375 -3.484375 1.09375 -3.234375 1.390625 -3.234375 C 1.671875 -3.234375 1.90625 -3.484375 1.90625 -3.765625 Z M 1.90625 -0.53125 C 1.90625 -0.8125 1.671875 -1.0625 1.390625 -1.0625 C 1.09375 -1.0625 0.859375 -0.8125 0.859375 -0.53125 C 0.859375 -0.234375 1.09375 0 1.390625 0 C 1.671875 0 1.90625 -0.234375 1.90625 -0.53125 Z M 1.90625 -0.53125 \\\"\\/>\\n<\\/symbol>\\n<symbol overflow=\\\"visible\\\" id=\\\"glyph-1562715734929561-0-14\\\">\\n<path style=\\\"stroke:none;\\\" d=\\\"M 1.625 -4.5625 C 1.171875 -4.859375 1.125 -5.1875 1.125 -5.359375 C 1.125 -5.96875 1.78125 -6.390625 2.484375 -6.390625 C 3.203125 -6.390625 3.84375 -5.875 3.84375 -5.15625 C 3.84375 -4.578125 3.453125 -4.109375 2.859375 -3.765625 Z M 3.078125 -3.609375 C 3.796875 -3.984375 4.28125 -4.5 4.28125 -5.15625 C 4.28125 -6.078125 3.40625 -6.640625 2.5 -6.640625 C 1.5 -6.640625 0.6875 -5.90625 0.6875 -4.96875 C 0.6875 -4.796875 0.703125 -4.34375 1.125 -3.875 C 1.234375 -3.765625 1.609375 -3.515625 1.859375 -3.34375 C 1.28125 -3.046875 0.421875 -2.5 0.421875 -1.5 C 0.421875 -0.453125 1.4375 0.21875 2.484375 0.21875 C 3.609375 0.21875 4.5625 -0.609375 4.5625 -1.671875 C 4.5625 -2.03125 4.453125 -2.484375 4.0625 -2.90625 C 3.875 -3.109375 3.71875 -3.203125 3.078125 -3.609375 Z M 2.078125 -3.1875 L 3.3125 -2.40625 C 3.59375 -2.21875 4.0625 -1.921875 4.0625 -1.3125 C 4.0625 -0.578125 3.3125 -0.0625 2.5 -0.0625 C 1.640625 -0.0625 0.921875 -0.671875 0.921875 -1.5 C 0.921875 -2.078125 1.234375 -2.71875 2.078125 -3.1875 Z M 2.078125 -3.1875 \\\"\\/>\\n<\\/symbol>\\n<symbol overflow=\\\"visible\\\" id=\\\"glyph-1562715734929561-0-15\\\">\\n<path style=\\\"stroke:none;\\\" d=\\\"M 2.890625 -3.515625 C 3.703125 -3.78125 4.28125 -4.46875 4.28125 -5.265625 C 4.28125 -6.078125 3.40625 -6.640625 2.453125 -6.640625 C 1.453125 -6.640625 0.6875 -6.046875 0.6875 -5.28125 C 0.6875 -4.953125 0.90625 -4.765625 1.203125 -4.765625 C 1.5 -4.765625 1.703125 -4.984375 1.703125 -5.28125 C 1.703125 -5.765625 1.234375 -5.765625 1.09375 -5.765625 C 1.390625 -6.265625 2.046875 -6.390625 2.40625 -6.390625 C 2.828125 -6.390625 3.375 -6.171875 3.375 -5.28125 C 3.375 -5.15625 3.34375 -4.578125 3.09375 -4.140625 C 2.796875 -3.65625 2.453125 -3.625 2.203125 -3.625 C 2.125 -3.609375 1.890625 -3.59375 1.8125 -3.59375 C 1.734375 -3.578125 1.671875 -3.5625 1.671875 -3.46875 C 1.671875 -3.359375 1.734375 -3.359375 1.90625 -3.359375 L 2.34375 -3.359375 C 3.15625 -3.359375 3.53125 -2.6875 3.53125 -1.703125 C 3.53125 -0.34375 2.84375 -0.0625 2.40625 -0.0625 C 1.96875 -0.0625 1.21875 -0.234375 0.875 -0.8125 C 1.21875 -0.765625 1.53125 -0.984375 1.53125 -1.359375 C 1.53125 -1.71875 1.265625 -1.921875 0.984375 -1.921875 C 0.734375 -1.921875 0.421875 -1.78125 0.421875 -1.34375 C 0.421875 -0.4375 1.34375 0.21875 2.4375 0.21875 C 3.65625 0.21875 4.5625 -0.6875 4.5625 -1.703125 C 4.5625 -2.515625 3.921875 -3.296875 2.890625 -3.515625 Z M 2.890625 -3.515625 \\\"\\/>\\n<\\/symbol>\\n<symbol overflow=\\\"visible\\\" id=\\\"glyph-1562715734929561-0-16\\\">\\n<path style=\\\"stroke:none;\\\" d=\\\"M 4.578125 -3.1875 C 4.578125 -3.984375 4.53125 -4.78125 4.1875 -5.515625 C 3.734375 -6.484375 2.90625 -6.640625 2.5 -6.640625 C 1.890625 -6.640625 1.171875 -6.375 0.75 -5.453125 C 0.4375 -4.765625 0.390625 -3.984375 0.390625 -3.1875 C 0.390625 -2.4375 0.421875 -1.546875 0.84375 -0.78125 C 1.265625 0.015625 2 0.21875 2.484375 0.21875 C 3.015625 0.21875 3.78125 0.015625 4.21875 -0.9375 C 4.53125 -1.625 4.578125 -2.40625 4.578125 -3.1875 Z M 2.484375 0 C 2.09375 0 1.5 -0.25 1.328125 -1.203125 C 1.21875 -1.796875 1.21875 -2.71875 1.21875 -3.3125 C 1.21875 -3.953125 1.21875 -4.609375 1.296875 -5.140625 C 1.484375 -6.328125 2.234375 -6.421875 2.484375 -6.421875 C 2.8125 -6.421875 3.46875 -6.234375 3.65625 -5.25 C 3.765625 -4.6875 3.765625 -3.9375 3.765625 -3.3125 C 3.765625 -2.5625 3.765625 -1.890625 3.65625 -1.25 C 3.5 -0.296875 2.9375 0 2.484375 0 Z M 2.484375 0 \\\"\\/>\\n<\\/symbol>\\n<symbol overflow=\\\"visible\\\" id=\\\"glyph-1562715734929561-0-17\\\">\\n<path style=\\\"stroke:none;\\\" d=\\\"M 3.65625 -3.171875 L 3.65625 -2.84375 C 3.65625 -0.515625 2.625 -0.0625 2.046875 -0.0625 C 1.875 -0.0625 1.328125 -0.078125 1.0625 -0.421875 C 1.5 -0.421875 1.578125 -0.703125 1.578125 -0.875 C 1.578125 -1.1875 1.34375 -1.328125 1.125 -1.328125 C 0.96875 -1.328125 0.671875 -1.25 0.671875 -0.859375 C 0.671875 -0.1875 1.203125 0.21875 2.046875 0.21875 C 3.34375 0.21875 4.5625 -1.140625 4.5625 -3.28125 C 4.5625 -5.96875 3.40625 -6.640625 2.515625 -6.640625 C 1.96875 -6.640625 1.484375 -6.453125 1.0625 -6.015625 C 0.640625 -5.5625 0.421875 -5.140625 0.421875 -4.390625 C 0.421875 -3.15625 1.296875 -2.171875 2.40625 -2.171875 C 3.015625 -2.171875 3.421875 -2.59375 3.65625 -3.171875 Z M 2.421875 -2.40625 C 2.265625 -2.40625 1.796875 -2.40625 1.5 -3.03125 C 1.3125 -3.40625 1.3125 -3.890625 1.3125 -4.390625 C 1.3125 -4.921875 1.3125 -5.390625 1.53125 -5.765625 C 1.796875 -6.265625 2.171875 -6.390625 2.515625 -6.390625 C 2.984375 -6.390625 3.3125 -6.046875 3.484375 -5.609375 C 3.59375 -5.28125 3.640625 -4.65625 3.640625 -4.203125 C 3.640625 -3.375 3.296875 -2.40625 2.421875 -2.40625 Z M 2.421875 -2.40625 \\\"\\/>\\n<\\/symbol>\\n<symbol overflow=\\\"visible\\\" id=\\\"glyph-1562715734929561-0-18\\\">\\n<path style=\\\"stroke:none;\\\" d=\\\"M 6.1875 -5.828125 C 6.328125 -6.203125 6.59375 -6.484375 7.28125 -6.5 L 7.28125 -6.8125 C 6.96875 -6.78125 6.5625 -6.78125 6.3125 -6.78125 C 6.015625 -6.78125 5.4375 -6.796875 5.171875 -6.8125 L 5.171875 -6.5 C 5.6875 -6.484375 5.90625 -6.234375 5.90625 -6 C 5.90625 -5.921875 5.875 -5.859375 5.859375 -5.796875 L 4.03125 -1 L 2.125 -6.03125 C 2.0625 -6.171875 2.0625 -6.1875 2.0625 -6.203125 C 2.0625 -6.5 2.625 -6.5 2.875 -6.5 L 2.875 -6.8125 C 2.515625 -6.78125 1.828125 -6.78125 1.453125 -6.78125 C 0.984375 -6.78125 0.546875 -6.796875 0.1875 -6.8125 L 0.1875 -6.5 C 0.84375 -6.5 1.03125 -6.5 1.171875 -6.125 L 3.484375 0 C 3.546875 0.1875 3.59375 0.21875 3.734375 0.21875 C 3.890625 0.21875 3.921875 0.171875 3.96875 0.03125 Z M 6.1875 -5.828125 \\\"\\/>\\n<\\/symbol>\\n<symbol overflow=\\\"visible\\\" id=\\\"glyph-1562715734929561-0-19\\\">\\n<path style=\\\"stroke:none;\\\" d=\\\"M 1.171875 -2.171875 C 1.171875 -3.796875 1.984375 -4.21875 2.515625 -4.21875 C 2.609375 -4.21875 3.234375 -4.203125 3.578125 -3.84375 C 3.171875 -3.8125 3.109375 -3.515625 3.109375 -3.390625 C 3.109375 -3.125 3.296875 -2.9375 3.5625 -2.9375 C 3.828125 -2.9375 4.03125 -3.09375 4.03125 -3.40625 C 4.03125 -4.078125 3.265625 -4.46875 2.5 -4.46875 C 1.25 -4.46875 0.34375 -3.390625 0.34375 -2.15625 C 0.34375 -0.875 1.328125 0.109375 2.484375 0.109375 C 3.8125 0.109375 4.140625 -1.09375 4.140625 -1.1875 C 4.140625 -1.28125 4.03125 -1.28125 4 -1.28125 C 3.921875 -1.28125 3.890625 -1.25 3.875 -1.1875 C 3.59375 -0.265625 2.9375 -0.140625 2.578125 -0.140625 C 2.046875 -0.140625 1.171875 -0.5625 1.171875 -2.171875 Z M 1.171875 -2.171875 \\\"\\/>\\n<\\/symbol>\\n<symbol overflow=\\\"visible\\\" id=\\\"glyph-1562715734929561-0-20\\\">\\n<path style=\\\"stroke:none;\\\" d=\\\"M 2.9375 -6.375 C 2.9375 -6.625 2.9375 -6.640625 2.703125 -6.640625 C 2.078125 -6 1.203125 -6 0.890625 -6 L 0.890625 -5.6875 C 1.09375 -5.6875 1.671875 -5.6875 2.1875 -5.953125 L 2.1875 -0.78125 C 2.1875 -0.421875 2.15625 -0.3125 1.265625 -0.3125 L 0.953125 -0.3125 L 0.953125 0 C 1.296875 -0.03125 2.15625 -0.03125 2.5625 -0.03125 C 2.953125 -0.03125 3.828125 -0.03125 4.171875 0 L 4.171875 -0.3125 L 3.859375 -0.3125 C 2.953125 -0.3125 2.9375 -0.421875 2.9375 -0.78125 Z M 2.9375 -6.375 \\\"\\/>\\n<\\/symbol>\\n<symbol overflow=\\\"visible\\\" id=\\\"glyph-1562715734929561-0-21\\\">\\n<path style=\\\"stroke:none;\\\" d=\\\"M 4.46875 -2 C 4.46875 -3.1875 3.65625 -4.1875 2.578125 -4.1875 C 2.109375 -4.1875 1.671875 -4.03125 1.3125 -3.671875 L 1.3125 -5.625 C 1.515625 -5.5625 1.84375 -5.5 2.15625 -5.5 C 3.390625 -5.5 4.09375 -6.40625 4.09375 -6.53125 C 4.09375 -6.59375 4.0625 -6.640625 3.984375 -6.640625 C 3.984375 -6.640625 3.953125 -6.640625 3.90625 -6.609375 C 3.703125 -6.515625 3.21875 -6.3125 2.546875 -6.3125 C 2.15625 -6.3125 1.6875 -6.390625 1.21875 -6.59375 C 1.140625 -6.625 1.125 -6.625 1.109375 -6.625 C 1 -6.625 1 -6.546875 1 -6.390625 L 1 -3.4375 C 1 -3.265625 1 -3.1875 1.140625 -3.1875 C 1.21875 -3.1875 1.234375 -3.203125 1.28125 -3.265625 C 1.390625 -3.421875 1.75 -3.96875 2.5625 -3.96875 C 3.078125 -3.96875 3.328125 -3.515625 3.40625 -3.328125 C 3.5625 -2.953125 3.59375 -2.578125 3.59375 -2.078125 C 3.59375 -1.71875 3.59375 -1.125 3.34375 -0.703125 C 3.109375 -0.3125 2.734375 -0.0625 2.28125 -0.0625 C 1.5625 -0.0625 0.984375 -0.59375 0.8125 -1.171875 C 0.84375 -1.171875 0.875 -1.15625 0.984375 -1.15625 C 1.3125 -1.15625 1.484375 -1.40625 1.484375 -1.640625 C 1.484375 -1.890625 1.3125 -2.140625 0.984375 -2.140625 C 0.84375 -2.140625 0.5 -2.0625 0.5 -1.609375 C 0.5 -0.75 1.1875 0.21875 2.296875 0.21875 C 3.453125 0.21875 4.46875 -0.734375 4.46875 -2 Z M 4.46875 -2 \\\"\\/>\\n<\\/symbol>\\n<symbol overflow=\\\"visible\\\" id=\\\"glyph-1562715734929561-0-22\\\">\\n<path style=\\\"stroke:none;\\\" d=\\\"M 2.9375 -1.640625 L 2.9375 -0.78125 C 2.9375 -0.421875 2.90625 -0.3125 2.171875 -0.3125 L 1.96875 -0.3125 L 1.96875 0 C 2.375 -0.03125 2.890625 -0.03125 3.3125 -0.03125 C 3.734375 -0.03125 4.25 -0.03125 4.671875 0 L 4.671875 -0.3125 L 4.453125 -0.3125 C 3.71875 -0.3125 3.703125 -0.421875 3.703125 -0.78125 L 3.703125 -1.640625 L 4.6875 -1.640625 L 4.6875 -1.953125 L 3.703125 -1.953125 L 3.703125 -6.484375 C 3.703125 -6.6875 3.703125 -6.75 3.53125 -6.75 C 3.453125 -6.75 3.421875 -6.75 3.34375 -6.625 L 0.28125 -1.953125 L 0.28125 -1.640625 Z M 2.984375 -1.953125 L 0.5625 -1.953125 L 2.984375 -5.671875 Z M 2.984375 -1.953125 \\\"\\/>\\n<\\/symbol>\\n<symbol overflow=\\\"visible\\\" id=\\\"glyph-1562715734929561-0-23\\\">\\n<path style=\\\"stroke:none;\\\" d=\\\"M 1.90625 -0.53125 C 1.90625 -0.8125 1.671875 -1.0625 1.390625 -1.0625 C 1.09375 -1.0625 0.859375 -0.8125 0.859375 -0.53125 C 0.859375 -0.234375 1.09375 0 1.390625 0 C 1.671875 0 1.90625 -0.234375 1.90625 -0.53125 Z M 1.90625 -0.53125 \\\"\\/>\\n<\\/symbol>\\n<symbol overflow=\\\"visible\\\" id=\\\"glyph-1562715734929561-0-24\\\">\\n<path style=\\\"stroke:none;\\\" d=\\\"M 1.265625 -0.765625 L 2.328125 -1.796875 C 3.875 -3.171875 4.46875 -3.703125 4.46875 -4.703125 C 4.46875 -5.84375 3.578125 -6.640625 2.359375 -6.640625 C 1.234375 -6.640625 0.5 -5.71875 0.5 -4.828125 C 0.5 -4.28125 1 -4.28125 1.03125 -4.28125 C 1.203125 -4.28125 1.546875 -4.390625 1.546875 -4.8125 C 1.546875 -5.0625 1.359375 -5.328125 1.015625 -5.328125 C 0.9375 -5.328125 0.921875 -5.328125 0.890625 -5.3125 C 1.109375 -5.96875 1.65625 -6.328125 2.234375 -6.328125 C 3.140625 -6.328125 3.5625 -5.515625 3.5625 -4.703125 C 3.5625 -3.90625 3.078125 -3.125 2.515625 -2.5 L 0.609375 -0.375 C 0.5 -0.265625 0.5 -0.234375 0.5 0 L 4.203125 0 L 4.46875 -1.734375 L 4.234375 -1.734375 C 4.171875 -1.4375 4.109375 -1 4 -0.84375 C 3.9375 -0.765625 3.28125 -0.765625 3.0625 -0.765625 Z M 1.265625 -0.765625 \\\"\\/>\\n<\\/symbol>\\n<symbol overflow=\\\"visible\\\" id=\\\"glyph-1562715734929561-0-25\\\">\\n<path style=\\\"stroke:none;\\\" d=\\\"M 1.359375 -0.78125 C 1.359375 -0.421875 1.328125 -0.3125 0.5625 -0.3125 L 0.328125 -0.3125 L 0.328125 0 L 6.078125 0 L 6.5 -2.578125 L 6.25 -2.578125 C 6 -1.03125 5.765625 -0.3125 4.0625 -0.3125 L 2.734375 -0.3125 C 2.265625 -0.3125 2.25 -0.375 2.25 -0.703125 L 2.25 -3.375 L 3.140625 -3.375 C 4.109375 -3.375 4.21875 -3.046875 4.21875 -2.203125 L 4.46875 -2.203125 L 4.46875 -4.84375 L 4.21875 -4.84375 C 4.21875 -3.984375 4.109375 -3.671875 3.140625 -3.671875 L 2.25 -3.671875 L 2.25 -6.078125 C 2.25 -6.40625 2.265625 -6.46875 2.734375 -6.46875 L 4.015625 -6.46875 C 5.546875 -6.46875 5.8125 -5.921875 5.96875 -4.53125 L 6.21875 -4.53125 L 5.9375 -6.78125 L 0.328125 -6.78125 L 0.328125 -6.46875 L 0.5625 -6.46875 C 1.328125 -6.46875 1.359375 -6.359375 1.359375 -6 Z M 1.359375 -0.78125 \\\"\\/>\\n<\\/symbol>\\n<symbol overflow=\\\"visible\\\" id=\\\"glyph-1562715734929561-0-26\\\">\\n<path style=\\\"stroke:none;\\\" d=\\\"M 2.078125 -1.9375 C 2.296875 -1.890625 3.109375 -1.734375 3.109375 -1.015625 C 3.109375 -0.515625 2.765625 -0.109375 1.984375 -0.109375 C 1.140625 -0.109375 0.78125 -0.671875 0.59375 -1.53125 C 0.5625 -1.65625 0.5625 -1.6875 0.453125 -1.6875 C 0.328125 -1.6875 0.328125 -1.625 0.328125 -1.453125 L 0.328125 -0.125 C 0.328125 0.046875 0.328125 0.109375 0.4375 0.109375 C 0.484375 0.109375 0.5 0.09375 0.6875 -0.09375 C 0.703125 -0.109375 0.703125 -0.125 0.890625 -0.3125 C 1.328125 0.09375 1.78125 0.109375 1.984375 0.109375 C 3.125 0.109375 3.59375 -0.5625 3.59375 -1.28125 C 3.59375 -1.796875 3.296875 -2.109375 3.171875 -2.21875 C 2.84375 -2.546875 2.453125 -2.625 2.03125 -2.703125 C 1.46875 -2.8125 0.8125 -2.9375 0.8125 -3.515625 C 0.8125 -3.875 1.0625 -4.28125 1.921875 -4.28125 C 3.015625 -4.28125 3.078125 -3.375 3.09375 -3.078125 C 3.09375 -2.984375 3.1875 -2.984375 3.203125 -2.984375 C 3.34375 -2.984375 3.34375 -3.03125 3.34375 -3.21875 L 3.34375 -4.234375 C 3.34375 -4.390625 3.34375 -4.46875 3.234375 -4.46875 C 3.1875 -4.46875 3.15625 -4.46875 3.03125 -4.34375 C 3 -4.3125 2.90625 -4.21875 2.859375 -4.1875 C 2.484375 -4.46875 2.078125 -4.46875 1.921875 -4.46875 C 0.703125 -4.46875 0.328125 -3.796875 0.328125 -3.234375 C 0.328125 -2.890625 0.484375 -2.609375 0.75 -2.390625 C 1.078125 -2.140625 1.359375 -2.078125 2.078125 -1.9375 Z M 2.078125 -1.9375 \\\"\\/>\\n<\\/symbol>\\n<symbol overflow=\\\"visible\\\" id=\\\"glyph-1562715734929561-0-27\\\">\\n<path style=\\\"stroke:none;\\\" d=\\\"M 3.296875 2.390625 C 3.296875 2.359375 3.296875 2.34375 3.125 2.171875 C 1.890625 0.921875 1.5625 -0.96875 1.5625 -2.5 C 1.5625 -4.234375 1.9375 -5.96875 3.171875 -7.203125 C 3.296875 -7.328125 3.296875 -7.34375 3.296875 -7.375 C 3.296875 -7.453125 3.265625 -7.484375 3.203125 -7.484375 C 3.09375 -7.484375 2.203125 -6.796875 1.609375 -5.53125 C 1.109375 -4.4375 0.984375 -3.328125 0.984375 -2.5 C 0.984375 -1.71875 1.09375 -0.515625 1.640625 0.625 C 2.25 1.84375 3.09375 2.5 3.203125 2.5 C 3.265625 2.5 3.296875 2.46875 3.296875 2.390625 Z M 3.296875 2.390625 \\\"\\/>\\n<\\/symbol>\\n<symbol overflow=\\\"visible\\\" id=\\\"glyph-1562715734929561-0-28\\\">\\n<path style=\\\"stroke:none;\\\" d=\\\"M 1.09375 -3.421875 L 1.09375 -0.75 C 1.09375 -0.3125 0.984375 -0.3125 0.3125 -0.3125 L 0.3125 0 C 0.671875 -0.015625 1.171875 -0.03125 1.453125 -0.03125 C 1.703125 -0.03125 2.21875 -0.015625 2.5625 0 L 2.5625 -0.3125 C 1.890625 -0.3125 1.78125 -0.3125 1.78125 -0.75 L 1.78125 -2.59375 C 1.78125 -3.625 2.5 -4.1875 3.125 -4.1875 C 3.765625 -4.1875 3.875 -3.65625 3.875 -3.078125 L 3.875 -0.75 C 3.875 -0.3125 3.765625 -0.3125 3.09375 -0.3125 L 3.09375 0 C 3.4375 -0.015625 3.953125 -0.03125 4.21875 -0.03125 C 4.46875 -0.03125 5 -0.015625 5.328125 0 L 5.328125 -0.3125 C 4.671875 -0.3125 4.5625 -0.3125 4.5625 -0.75 L 4.5625 -2.59375 C 4.5625 -3.625 5.265625 -4.1875 5.90625 -4.1875 C 6.53125 -4.1875 6.640625 -3.65625 6.640625 -3.078125 L 6.640625 -0.75 C 6.640625 -0.3125 6.53125 -0.3125 5.859375 -0.3125 L 5.859375 0 C 6.203125 -0.015625 6.71875 -0.03125 6.984375 -0.03125 C 7.25 -0.03125 7.765625 -0.015625 8.109375 0 L 8.109375 -0.3125 C 7.59375 -0.3125 7.34375 -0.3125 7.328125 -0.609375 L 7.328125 -2.515625 C 7.328125 -3.375 7.328125 -3.671875 7.015625 -4.03125 C 6.875 -4.203125 6.546875 -4.40625 5.96875 -4.40625 C 5.140625 -4.40625 4.6875 -3.8125 4.53125 -3.421875 C 4.390625 -4.296875 3.65625 -4.40625 3.203125 -4.40625 C 2.46875 -4.40625 2 -3.984375 1.71875 -3.359375 L 1.71875 -4.40625 L 0.3125 -4.296875 L 0.3125 -3.984375 C 1.015625 -3.984375 1.09375 -3.921875 1.09375 -3.421875 Z M 1.09375 -3.421875 \\\"\\/>\\n<\\/symbol>\\n<symbol overflow=\\\"visible\\\" id=\\\"glyph-1562715734929561-0-29\\\">\\n<path style=\\\"stroke:none;\\\" d=\\\"M 2.875 -2.5 C 2.875 -3.265625 2.765625 -4.46875 2.21875 -5.609375 C 1.625 -6.828125 0.765625 -7.484375 0.671875 -7.484375 C 0.609375 -7.484375 0.5625 -7.4375 0.5625 -7.375 C 0.5625 -7.34375 0.5625 -7.328125 0.75 -7.140625 C 1.734375 -6.15625 2.296875 -4.578125 2.296875 -2.5 C 2.296875 -0.78125 1.9375 0.96875 0.703125 2.21875 C 0.5625 2.34375 0.5625 2.359375 0.5625 2.390625 C 0.5625 2.453125 0.609375 2.5 0.671875 2.5 C 0.765625 2.5 1.671875 1.8125 2.25 0.546875 C 2.765625 -0.546875 2.875 -1.65625 2.875 -2.5 Z M 2.875 -2.5 \\\"\\/>\\n<\\/symbol>\\n<symbol overflow=\\\"visible\\\" id=\\\"glyph-1562715734929561-0-30\\\">\\n<path style=\\\"stroke:none;\\\" d=\\\"M 5.90625 -0.625 C 6.046875 -0.40625 6.4375 -0.015625 6.546875 -0.015625 C 6.640625 -0.015625 6.640625 -0.09375 6.640625 -0.234375 L 6.640625 -1.96875 C 6.640625 -2.359375 6.671875 -2.40625 7.328125 -2.40625 L 7.328125 -2.71875 C 6.953125 -2.71875 6.40625 -2.6875 6.109375 -2.6875 C 5.71875 -2.6875 4.859375 -2.6875 4.5 -2.71875 L 4.5 -2.40625 L 4.828125 -2.40625 C 5.71875 -2.40625 5.75 -2.296875 5.75 -1.9375 L 5.75 -1.296875 C 5.75 -0.171875 4.484375 -0.09375 4.203125 -0.09375 C 3.5625 -0.09375 1.578125 -0.4375 1.578125 -3.40625 C 1.578125 -6.390625 3.546875 -6.71875 4.140625 -6.71875 C 5.21875 -6.71875 6.125 -5.828125 6.3125 -4.359375 C 6.34375 -4.21875 6.34375 -4.1875 6.484375 -4.1875 C 6.640625 -4.1875 6.640625 -4.21875 6.640625 -4.421875 L 6.640625 -6.78125 C 6.640625 -6.953125 6.640625 -7.03125 6.53125 -7.03125 C 6.484375 -7.03125 6.453125 -7.03125 6.375 -6.90625 L 5.875 -6.171875 C 5.546875 -6.484375 5.015625 -7.03125 4.03125 -7.03125 C 2.171875 -7.03125 0.5625 -5.453125 0.5625 -3.40625 C 0.5625 -1.359375 2.15625 0.21875 4.046875 0.21875 C 4.78125 0.21875 5.578125 -0.046875 5.90625 -0.625 Z M 5.90625 -0.625 \\\"\\/>\\n<\\/symbol>\\n<symbol overflow=\\\"visible\\\" id=\\\"glyph-1562715734929561-0-31\\\">\\n<path style=\\\"stroke:none;\\\" d=\\\"M 3.890625 -0.78125 L 3.890625 0.109375 L 5.328125 0 L 5.328125 -0.3125 C 4.640625 -0.3125 4.5625 -0.375 4.5625 -0.875 L 4.5625 -4.40625 L 3.09375 -4.296875 L 3.09375 -3.984375 C 3.78125 -3.984375 3.875 -3.921875 3.875 -3.421875 L 3.875 -1.65625 C 3.875 -0.78125 3.390625 -0.109375 2.65625 -0.109375 C 1.828125 -0.109375 1.78125 -0.578125 1.78125 -1.09375 L 1.78125 -4.40625 L 0.3125 -4.296875 L 0.3125 -3.984375 C 1.09375 -3.984375 1.09375 -3.953125 1.09375 -3.078125 L 1.09375 -1.578125 C 1.09375 -0.796875 1.09375 0.109375 2.609375 0.109375 C 3.171875 0.109375 3.609375 -0.171875 3.890625 -0.78125 Z M 3.890625 -0.78125 \\\"\\/>\\n<\\/symbol>\\n<symbol overflow=\\\"visible\\\" id=\\\"glyph-1562715734929561-0-32\\\">\\n<path style=\\\"stroke:none;\\\" d=\\\"M 3.78125 -0.546875 L 3.78125 0.109375 L 5.25 0 L 5.25 -0.3125 C 4.5625 -0.3125 4.46875 -0.375 4.46875 -0.875 L 4.46875 -6.921875 L 3.046875 -6.8125 L 3.046875 -6.5 C 3.734375 -6.5 3.8125 -6.4375 3.8125 -5.9375 L 3.8125 -3.78125 C 3.53125 -4.140625 3.09375 -4.40625 2.5625 -4.40625 C 1.390625 -4.40625 0.34375 -3.421875 0.34375 -2.140625 C 0.34375 -0.875 1.3125 0.109375 2.453125 0.109375 C 3.09375 0.109375 3.53125 -0.234375 3.78125 -0.546875 Z M 3.78125 -3.21875 L 3.78125 -1.171875 C 3.78125 -1 3.78125 -0.984375 3.671875 -0.8125 C 3.375 -0.328125 2.9375 -0.109375 2.5 -0.109375 C 2.046875 -0.109375 1.6875 -0.375 1.453125 -0.75 C 1.203125 -1.15625 1.171875 -1.71875 1.171875 -2.140625 C 1.171875 -2.5 1.1875 -3.09375 1.46875 -3.546875 C 1.6875 -3.859375 2.0625 -4.1875 2.609375 -4.1875 C 2.953125 -4.1875 3.375 -4.03125 3.671875 -3.59375 C 3.78125 -3.421875 3.78125 -3.40625 3.78125 -3.21875 Z M 3.78125 -3.21875 \\\"\\/>\\n<\\/symbol>\\n<symbol overflow=\\\"visible\\\" id=\\\"glyph-1562715734929561-0-33\\\">\\n<path style=\\\"stroke:none;\\\" d=\\\"M 6.640625 -6.75 L 0.546875 -6.75 L 0.359375 -4.5 L 0.609375 -4.5 C 0.75 -6.109375 0.890625 -6.4375 2.40625 -6.4375 C 2.578125 -6.4375 2.84375 -6.4375 2.9375 -6.421875 C 3.15625 -6.375 3.15625 -6.265625 3.15625 -6.046875 L 3.15625 -0.78125 C 3.15625 -0.453125 3.15625 -0.3125 2.109375 -0.3125 L 1.703125 -0.3125 L 1.703125 0 C 2.109375 -0.03125 3.125 -0.03125 3.59375 -0.03125 C 4.046875 -0.03125 5.078125 -0.03125 5.484375 0 L 5.484375 -0.3125 L 5.078125 -0.3125 C 4.03125 -0.3125 4.03125 -0.453125 4.03125 -0.78125 L 4.03125 -6.046875 C 4.03125 -6.234375 4.03125 -6.375 4.21875 -6.421875 C 4.328125 -6.4375 4.59375 -6.4375 4.78125 -6.4375 C 6.296875 -6.4375 6.4375 -6.109375 6.578125 -4.5 L 6.828125 -4.5 Z M 6.640625 -6.75 \\\"\\/>\\n<\\/symbol>\\n<symbol overflow=\\\"visible\\\" id=\\\"glyph-1562715734929561-0-34\\\">\\n<path style=\\\"stroke:none;\\\" d=\\\"M 1.0625 -0.75 C 1.0625 -0.3125 0.953125 -0.3125 0.28125 -0.3125 L 0.28125 0 C 0.609375 -0.015625 1.078125 -0.03125 1.359375 -0.03125 C 1.671875 -0.03125 2.0625 -0.015625 2.46875 0 L 2.46875 -0.3125 C 1.796875 -0.3125 1.6875 -0.3125 1.6875 -0.75 L 1.6875 -1.78125 L 2.328125 -2.328125 C 3.09375 -1.28125 3.515625 -0.71875 3.515625 -0.53125 C 3.515625 -0.34375 3.34375 -0.3125 3.15625 -0.3125 L 3.15625 0 C 3.421875 -0.015625 4.015625 -0.03125 4.234375 -0.03125 C 4.515625 -0.03125 4.8125 -0.015625 5.09375 0 L 5.09375 -0.3125 C 4.71875 -0.3125 4.5 -0.3125 4.125 -0.84375 L 2.859375 -2.625 C 2.84375 -2.640625 2.796875 -2.703125 2.796875 -2.734375 C 2.796875 -2.765625 3.515625 -3.375 3.609375 -3.453125 C 4.234375 -3.953125 4.65625 -3.984375 4.859375 -3.984375 L 4.859375 -4.296875 C 4.578125 -4.265625 4.453125 -4.265625 4.171875 -4.265625 C 3.8125 -4.265625 3.1875 -4.28125 3.046875 -4.296875 L 3.046875 -3.984375 C 3.234375 -3.984375 3.34375 -3.875 3.34375 -3.734375 C 3.34375 -3.53125 3.203125 -3.421875 3.125 -3.34375 L 1.71875 -2.140625 L 1.71875 -6.921875 L 0.28125 -6.8125 L 0.28125 -6.5 C 0.984375 -6.5 1.0625 -6.4375 1.0625 -5.9375 Z M 1.0625 -0.75 \\\"\\/>\\n<\\/symbol>\\n<symbol overflow=\\\"visible\\\" id=\\\"glyph-1562715734929561-0-35\\\">\\n<path style=\\\"stroke:none;\\\" d=\\\"M 1.3125 -3.265625 L 1.3125 -3.515625 C 1.3125 -6.03125 2.546875 -6.390625 3.0625 -6.390625 C 3.296875 -6.390625 3.71875 -6.328125 3.9375 -5.984375 C 3.78125 -5.984375 3.390625 -5.984375 3.390625 -5.546875 C 3.390625 -5.234375 3.625 -5.078125 3.84375 -5.078125 C 4 -5.078125 4.3125 -5.171875 4.3125 -5.5625 C 4.3125 -6.15625 3.875 -6.640625 3.046875 -6.640625 C 1.765625 -6.640625 0.421875 -5.359375 0.421875 -3.15625 C 0.421875 -0.484375 1.578125 0.21875 2.5 0.21875 C 3.609375 0.21875 4.5625 -0.71875 4.5625 -2.03125 C 4.5625 -3.296875 3.671875 -4.25 2.5625 -4.25 C 1.890625 -4.25 1.515625 -3.75 1.3125 -3.265625 Z M 2.5 -0.0625 C 1.875 -0.0625 1.578125 -0.65625 1.515625 -0.8125 C 1.328125 -1.28125 1.328125 -2.078125 1.328125 -2.25 C 1.328125 -3.03125 1.65625 -4.03125 2.546875 -4.03125 C 2.71875 -4.03125 3.171875 -4.03125 3.484375 -3.40625 C 3.65625 -3.046875 3.65625 -2.53125 3.65625 -2.046875 C 3.65625 -1.5625 3.65625 -1.0625 3.484375 -0.703125 C 3.1875 -0.109375 2.734375 -0.0625 2.5 -0.0625 Z M 2.5 -0.0625 \\\"\\/>\\n<\\/symbol>\\n<symbol overflow=\\\"visible\\\" id=\\\"glyph-1562715734929561-0-36\\\">\\n<path style=\\\"stroke:none;\\\" d=\\\"M 2.265625 -3.15625 L 3.953125 -3.15625 C 5.140625 -3.15625 6.21875 -3.953125 6.21875 -4.953125 C 6.21875 -5.9375 5.234375 -6.8125 3.875 -6.8125 L 0.34375 -6.8125 L 0.34375 -6.5 L 0.59375 -6.5 C 1.359375 -6.5 1.375 -6.390625 1.375 -6.03125 L 1.375 -0.78125 C 1.375 -0.421875 1.359375 -0.3125 0.59375 -0.3125 L 0.34375 -0.3125 L 0.34375 0 C 0.703125 -0.03125 1.4375 -0.03125 1.8125 -0.03125 C 2.1875 -0.03125 2.9375 -0.03125 3.296875 0 L 3.296875 -0.3125 L 3.046875 -0.3125 C 2.28125 -0.3125 2.265625 -0.421875 2.265625 -0.78125 Z M 2.234375 -3.40625 L 2.234375 -6.09375 C 2.234375 -6.4375 2.25 -6.5 2.71875 -6.5 L 3.609375 -6.5 C 5.1875 -6.5 5.1875 -5.4375 5.1875 -4.953125 C 5.1875 -4.484375 5.1875 -3.40625 3.609375 -3.40625 Z M 2.234375 -3.40625 \\\"\\/>\\n<\\/symbol>\\n<symbol overflow=\\\"visible\\\" id=\\\"glyph-1562715734929561-0-37\\\">\\n<path style=\\\"stroke:none;\\\" d=\\\"M 3.296875 -3.984375 C 3.75 -3.984375 3.8125 -3.859375 3.8125 -3.453125 L 3.8125 -0.75 C 3.8125 -0.3125 3.703125 -0.3125 3.046875 -0.3125 L 3.046875 0 C 3.375 -0.015625 3.890625 -0.03125 4.140625 -0.03125 C 4.390625 -0.03125 4.890625 -0.015625 5.25 0 L 5.25 -0.3125 C 4.578125 -0.3125 4.46875 -0.3125 4.46875 -0.75 L 4.46875 -4.421875 L 3.21875 -4.328125 C 3.0625 -4.3125 3.046875 -4.3125 3.046875 -4.3125 C 3.015625 -4.296875 3 -4.296875 2.859375 -4.296875 L 1.6875 -4.296875 L 1.6875 -5.421875 C 1.6875 -6.40625 2.546875 -6.8125 3.15625 -6.8125 C 3.453125 -6.8125 3.8125 -6.703125 4.015625 -6.484375 C 3.609375 -6.453125 3.546875 -6.1875 3.546875 -6.015625 C 3.546875 -5.6875 3.8125 -5.5625 4 -5.5625 C 4.234375 -5.5625 4.453125 -5.71875 4.453125 -6.015625 C 4.453125 -6.609375 3.90625 -7.03125 3.171875 -7.03125 C 2.25 -7.03125 1.0625 -6.515625 1.0625 -5.4375 L 1.0625 -4.296875 L 0.265625 -4.296875 L 0.265625 -3.984375 L 1.0625 -3.984375 L 1.0625 -0.75 C 1.0625 -0.3125 0.953125 -0.3125 0.28125 -0.3125 L 0.28125 0 C 0.609375 -0.015625 1.140625 -0.03125 1.390625 -0.03125 C 1.640625 -0.03125 2.125 -0.015625 2.5 0 L 2.5 -0.3125 C 1.828125 -0.3125 1.71875 -0.3125 1.71875 -0.75 L 1.71875 -3.984375 Z M 3.296875 -3.984375 \\\"\\/>\\n<\\/symbol>\\n<symbol overflow=\\\"visible\\\" id=\\\"glyph-1562715734929561-1-0\\\">\\n<path style=\\\"stroke:none;\\\" d=\\\"\\\"\\/>\\n<\\/symbol>\\n<symbol overflow=\\\"visible\\\" id=\\\"glyph-1562715734929561-1-1\\\">\\n<path style=\\\"stroke:none;\\\" d=\\\"M 6.5625 -2.296875 C 6.734375 -2.296875 6.921875 -2.296875 6.921875 -2.5 C 6.921875 -2.6875 6.734375 -2.6875 6.5625 -2.6875 L 1.171875 -2.6875 C 1 -2.6875 0.828125 -2.6875 0.828125 -2.5 C 0.828125 -2.296875 1 -2.296875 1.171875 -2.296875 Z M 6.5625 -2.296875 \\\"\\/>\\n<\\/symbol>\\n<symbol overflow=\\\"visible\\\" id=\\\"glyph-1562715734929561-2-0\\\">\\n<path style=\\\"stroke:none;\\\" d=\\\"\\\"\\/>\\n<\\/symbol>\\n<symbol overflow=\\\"visible\\\" id=\\\"glyph-1562715734929561-2-1\\\">\\n<path style=\\\"stroke:none;\\\" d=\\\"M 2.03125 -0.015625 C 2.03125 -0.671875 1.78125 -1.0625 1.390625 -1.0625 C 1.0625 -1.0625 0.859375 -0.8125 0.859375 -0.53125 C 0.859375 -0.265625 1.0625 0 1.390625 0 C 1.5 0 1.640625 -0.046875 1.734375 -0.125 C 1.765625 -0.15625 1.78125 -0.15625 1.78125 -0.15625 C 1.796875 -0.15625 1.796875 -0.15625 1.796875 -0.015625 C 1.796875 0.734375 1.453125 1.328125 1.125 1.65625 C 1.015625 1.765625 1.015625 1.78125 1.015625 1.8125 C 1.015625 1.890625 1.0625 1.921875 1.109375 1.921875 C 1.21875 1.921875 2.03125 1.15625 2.03125 -0.015625 Z M 2.03125 -0.015625 \\\"\\/>\\n<\\/symbol>\\n<symbol overflow=\\\"visible\\\" id=\\\"glyph-1562715734929561-3-0\\\">\\n<path style=\\\"stroke:none;\\\" d=\\\"\\\"\\/>\\n<\\/symbol>\\n<symbol overflow=\\\"visible\\\" id=\\\"glyph-1562715734929561-3-1\\\">\\n<path style=\\\"stroke:none;\\\" d=\\\"M -6.671875 -2.3125 C -6.796875 -2.21875 -6.8125 -2.21875 -6.8125 -2.03125 L -6.8125 -0.328125 L -6.5 -0.328125 L -6.5 -0.625 C -6.5 -0.765625 -6.484375 -0.96875 -6.484375 -1.109375 C -6.453125 -1.34375 -6.4375 -1.359375 -6.25 -1.359375 L -1.046875 -1.359375 C -0.78125 -1.359375 -0.3125 -1.359375 -0.3125 -0.328125 L 0 -0.328125 C -0.015625 -0.671875 -0.03125 -1.171875 -0.03125 -1.5 C -0.03125 -1.828125 -0.015625 -2.3125 0 -2.65625 L -0.3125 -2.65625 C -0.3125 -1.640625 -0.78125 -1.640625 -1.046875 -1.640625 L -6.234375 -1.640625 C -6.1875 -1.6875 -6.171875 -1.6875 -6.109375 -1.734375 L -0.125 -5.796875 C -0.015625 -5.890625 0 -5.90625 0 -5.96875 C 0 -6.109375 -0.0625 -6.109375 -0.265625 -6.109375 L -5.765625 -6.109375 C -6.03125 -6.109375 -6.5 -6.109375 -6.5 -7.140625 L -6.8125 -7.140625 C -6.796875 -6.78125 -6.78125 -6.296875 -6.78125 -5.96875 C -6.78125 -5.640625 -6.796875 -5.15625 -6.8125 -4.8125 L -6.5 -4.8125 C -6.5 -5.828125 -6.03125 -5.828125 -5.765625 -5.828125 L -1.5 -5.828125 Z M -6.671875 -2.3125 \\\"\\/>\\n<\\/symbol>\\n<symbol overflow=\\\"visible\\\" id=\\\"glyph-1562715734929561-3-2\\\">\\n<path style=\\\"stroke:none;\\\" d=\\\"M -2.140625 -4.6875 C -3.40625 -4.6875 -4.46875 -3.703125 -4.46875 -2.5 C -4.46875 -1.25 -3.375 -0.28125 -2.140625 -0.28125 C -0.84375 -0.28125 0.109375 -1.3125 0.109375 -2.484375 C 0.109375 -3.6875 -0.875 -4.6875 -2.140625 -4.6875 Z M -0.140625 -2.5 C -0.140625 -2.0625 -0.34375 -1.625 -0.8125 -1.359375 C -1.25 -1.109375 -1.859375 -1.109375 -2.21875 -1.109375 C -2.609375 -1.109375 -3.140625 -1.109375 -3.578125 -1.34375 C -4.03125 -1.609375 -4.25 -2.078125 -4.25 -2.484375 C -4.25 -2.921875 -4.03125 -3.34375 -3.59375 -3.609375 C -3.171875 -3.875 -2.59375 -3.875 -2.21875 -3.875 C -1.859375 -3.875 -1.3125 -3.875 -0.875 -3.65625 C -0.421875 -3.421875 -0.140625 -2.984375 -0.140625 -2.5 Z M -0.140625 -2.5 \\\"\\/>\\n<\\/symbol>\\n<symbol overflow=\\\"visible\\\" id=\\\"glyph-1562715734929561-3-3\\\">\\n<path style=\\\"stroke:none;\\\" d=\\\"M -3.3125 -1.671875 L -4.40625 -1.671875 L -4.296875 -0.28125 L -3.984375 -0.28125 C -3.984375 -0.984375 -3.921875 -1.0625 -3.421875 -1.0625 L -0.75 -1.0625 C -0.3125 -1.0625 -0.3125 -0.953125 -0.3125 -0.28125 L 0 -0.28125 C -0.015625 -0.671875 -0.03125 -1.140625 -0.03125 -1.421875 C -0.03125 -1.8125 -0.03125 -2.28125 0 -2.6875 L -0.3125 -2.6875 L -0.3125 -2.46875 C -0.3125 -1.734375 -0.421875 -1.71875 -0.78125 -1.71875 L -2.3125 -1.71875 C -3.296875 -1.71875 -4.1875 -2.140625 -4.1875 -2.890625 C -4.1875 -2.953125 -4.1875 -2.984375 -4.171875 -3 C -4.171875 -2.96875 -4.046875 -2.765625 -3.78125 -2.765625 C -3.515625 -2.765625 -3.359375 -2.984375 -3.359375 -3.203125 C -3.359375 -3.375 -3.484375 -3.625 -3.796875 -3.625 C -4.109375 -3.625 -4.40625 -3.3125 -4.40625 -2.890625 C -4.40625 -2.15625 -3.734375 -1.796875 -3.3125 -1.671875 Z M -3.3125 -1.671875 \\\"\\/>\\n<\\/symbol>\\n<symbol overflow=\\\"visible\\\" id=\\\"glyph-1562715734929561-3-4\\\">\\n<path style=\\\"stroke:none;\\\" d=\\\"M -3.984375 -1.71875 L -3.984375 -3.15625 L -4.296875 -3.15625 L -4.296875 -1.71875 L -6.125 -1.71875 L -6.125 -1.46875 C -5.3125 -1.46875 -4.25 -1.171875 -4.203125 -0.1875 L -3.984375 -0.1875 L -3.984375 -1.03125 L -1.234375 -1.03125 C -0.015625 -1.03125 0.109375 -1.96875 0.109375 -2.328125 C 0.109375 -3.03125 -0.59375 -3.3125 -1.234375 -3.3125 L -1.796875 -3.3125 L -1.796875 -3.0625 L -1.25 -3.0625 C -0.515625 -3.0625 -0.140625 -2.765625 -0.140625 -2.390625 C -0.140625 -1.71875 -1.046875 -1.71875 -1.21875 -1.71875 Z M -3.984375 -1.71875 \\\"\\/>\\n<\\/symbol>\\n<symbol overflow=\\\"visible\\\" id=\\\"glyph-1562715734929561-3-5\\\">\\n<path style=\\\"stroke:none;\\\" d=\\\"M -0.75 -1.09375 C -0.3125 -1.09375 -0.3125 -0.984375 -0.3125 -0.3125 L 0 -0.3125 C -0.015625 -0.671875 -0.03125 -1.171875 -0.03125 -1.453125 C -0.03125 -1.703125 -0.015625 -2.21875 0 -2.5625 L -0.3125 -2.5625 C -0.3125 -1.890625 -0.3125 -1.78125 -0.75 -1.78125 L -2.59375 -1.78125 C -3.625 -1.78125 -4.1875 -2.5 -4.1875 -3.125 C -4.1875 -3.765625 -3.65625 -3.875 -3.078125 -3.875 L -0.75 -3.875 C -0.3125 -3.875 -0.3125 -3.765625 -0.3125 -3.09375 L 0 -3.09375 C -0.015625 -3.4375 -0.03125 -3.953125 -0.03125 -4.21875 C -0.03125 -4.46875 -0.015625 -5 0 -5.328125 L -0.3125 -5.328125 C -0.3125 -4.8125 -0.3125 -4.5625 -0.609375 -4.5625 L -2.515625 -4.5625 C -3.375 -4.5625 -3.671875 -4.5625 -4.03125 -4.25 C -4.203125 -4.109375 -4.40625 -3.78125 -4.40625 -3.203125 C -4.40625 -2.359375 -3.8125 -1.921875 -3.421875 -1.75 L -6.921875 -1.75 L -6.8125 -0.3125 L -6.5 -0.3125 C -6.5 -1.015625 -6.4375 -1.09375 -5.9375 -1.09375 Z M -0.75 -1.09375 \\\"\\/>\\n<\\/symbol>\\n<symbol overflow=\\\"visible\\\" id=\\\"glyph-1562715734929561-3-6\\\">\\n<path style=\\\"stroke:none;\\\" d=\\\"M 2.390625 -3.296875 C 2.359375 -3.296875 2.34375 -3.296875 2.171875 -3.125 C 0.921875 -1.890625 -0.96875 -1.5625 -2.5 -1.5625 C -4.234375 -1.5625 -5.96875 -1.9375 -7.203125 -3.171875 C -7.328125 -3.296875 -7.34375 -3.296875 -7.375 -3.296875 C -7.453125 -3.296875 -7.484375 -3.265625 -7.484375 -3.203125 C -7.484375 -3.09375 -6.796875 -2.203125 -5.53125 -1.609375 C -4.4375 -1.109375 -3.328125 -0.984375 -2.5 -0.984375 C -1.71875 -0.984375 -0.515625 -1.09375 0.625 -1.640625 C 1.84375 -2.25 2.5 -3.09375 2.5 -3.203125 C 2.5 -3.265625 2.46875 -3.296875 2.390625 -3.296875 Z M 2.390625 -3.296875 \\\"\\/>\\n<\\/symbol>\\n<symbol overflow=\\\"visible\\\" id=\\\"glyph-1562715734929561-3-7\\\">\\n<path style=\\\"stroke:none;\\\" d=\\\"M -3.421875 -1.09375 L -0.75 -1.09375 C -0.3125 -1.09375 -0.3125 -0.984375 -0.3125 -0.3125 L 0 -0.3125 C -0.015625 -0.671875 -0.03125 -1.171875 -0.03125 -1.453125 C -0.03125 -1.703125 -0.015625 -2.21875 0 -2.5625 L -0.3125 -2.5625 C -0.3125 -1.890625 -0.3125 -1.78125 -0.75 -1.78125 L -2.59375 -1.78125 C -3.625 -1.78125 -4.1875 -2.5 -4.1875 -3.125 C -4.1875 -3.765625 -3.65625 -3.875 -3.078125 -3.875 L -0.75 -3.875 C -0.3125 -3.875 -0.3125 -3.765625 -0.3125 -3.09375 L 0 -3.09375 C -0.015625 -3.4375 -0.03125 -3.953125 -0.03125 -4.21875 C -0.03125 -4.46875 -0.015625 -5 0 -5.328125 L -0.3125 -5.328125 C -0.3125 -4.671875 -0.3125 -4.5625 -0.75 -4.5625 L -2.59375 -4.5625 C -3.625 -4.5625 -4.1875 -5.265625 -4.1875 -5.90625 C -4.1875 -6.53125 -3.65625 -6.640625 -3.078125 -6.640625 L -0.75 -6.640625 C -0.3125 -6.640625 -0.3125 -6.53125 -0.3125 -5.859375 L 0 -5.859375 C -0.015625 -6.203125 -0.03125 -6.71875 -0.03125 -6.984375 C -0.03125 -7.25 -0.015625 -7.765625 0 -8.109375 L -0.3125 -8.109375 C -0.3125 -7.59375 -0.3125 -7.34375 -0.609375 -7.328125 L -2.515625 -7.328125 C -3.375 -7.328125 -3.671875 -7.328125 -4.03125 -7.015625 C -4.203125 -6.875 -4.40625 -6.546875 -4.40625 -5.96875 C -4.40625 -5.140625 -3.8125 -4.6875 -3.421875 -4.53125 C -4.296875 -4.390625 -4.40625 -3.65625 -4.40625 -3.203125 C -4.40625 -2.46875 -3.984375 -2 -3.359375 -1.71875 L -4.40625 -1.71875 L -4.296875 -0.3125 L -3.984375 -0.3125 C -3.984375 -1.015625 -3.921875 -1.09375 -3.421875 -1.09375 Z M -3.421875 -1.09375 \\\"\\/>\\n<\\/symbol>\\n<symbol overflow=\\\"visible\\\" id=\\\"glyph-1562715734929561-3-8\\\">\\n<path style=\\\"stroke:none;\\\" d=\\\"M -2.5 -2.875 C -3.265625 -2.875 -4.46875 -2.765625 -5.609375 -2.21875 C -6.828125 -1.625 -7.484375 -0.765625 -7.484375 -0.671875 C -7.484375 -0.609375 -7.4375 -0.5625 -7.375 -0.5625 C -7.34375 -0.5625 -7.328125 -0.5625 -7.140625 -0.75 C -6.15625 -1.734375 -4.578125 -2.296875 -2.5 -2.296875 C -0.78125 -2.296875 0.96875 -1.9375 2.21875 -0.703125 C 2.34375 -0.5625 2.359375 -0.5625 2.390625 -0.5625 C 2.453125 -0.5625 2.5 -0.609375 2.5 -0.671875 C 2.5 -0.765625 1.8125 -1.671875 0.546875 -2.25 C -0.546875 -2.765625 -1.65625 -2.875 -2.5 -2.875 Z M -2.5 -2.875 \\\"\\/>\\n<\\/symbol>\\n<symbol overflow=\\\"visible\\\" id=\\\"glyph-1562715734929561-3-9\\\">\\n<path style=\\\"stroke:none;\\\" d=\\\"M -6.9375 -3.96875 C -7.0625 -3.921875 -7.140625 -3.890625 -7.140625 -3.734375 C -7.140625 -3.578125 -7.078125 -3.546875 -6.9375 -3.5 L -0.984375 -1.4375 C -0.46875 -1.25 -0.3125 -0.859375 -0.3125 -0.3125 L 0 -0.3125 C -0.015625 -0.546875 -0.03125 -0.984375 -0.03125 -1.328125 C -0.03125 -1.640625 -0.015625 -2.15625 0 -2.484375 L -0.3125 -2.484375 C -0.3125 -1.984375 -0.5625 -1.734375 -0.8125 -1.734375 C -0.84375 -1.734375 -0.953125 -1.75 -0.96875 -1.75 L -2.265625 -2.21875 L -2.265625 -4.671875 L -0.75 -5.203125 C -0.703125 -5.21875 -0.640625 -5.234375 -0.609375 -5.234375 C -0.3125 -5.234375 -0.3125 -4.671875 -0.3125 -4.40625 L 0 -4.40625 C -0.03125 -4.765625 -0.03125 -5.46875 -0.03125 -5.84375 C -0.03125 -6.265625 -0.015625 -6.734375 0 -7.140625 L -0.3125 -7.140625 L -0.3125 -6.96875 C -0.3125 -6.375 -0.375 -6.234375 -0.703125 -6.125 Z M -5.828125 -3.4375 L -2.578125 -4.5625 L -2.578125 -2.328125 Z M -5.828125 -3.4375 \\\"\\/>\\n<\\/symbol>\\n<symbol overflow=\\\"visible\\\" id=\\\"glyph-1562715734929561-3-10\\\">\\n<path style=\\\"stroke:none;\\\" d=\\\"M -6.921875 -1.765625 L -6.8125 -0.328125 L -6.5 -0.328125 C -6.5 -1.03125 -6.4375 -1.109375 -5.9375 -1.109375 L -0.75 -1.109375 C -0.3125 -1.109375 -0.3125 -1 -0.3125 -0.328125 L 0 -0.328125 C -0.015625 -0.65625 -0.03125 -1.1875 -0.03125 -1.4375 C -0.03125 -1.6875 -0.015625 -2.171875 0 -2.546875 L -0.3125 -2.546875 C -0.3125 -1.875 -0.3125 -1.765625 -0.75 -1.765625 Z M -6.921875 -1.765625 \\\"\\/>\\n<\\/symbol>\\n<symbol overflow=\\\"visible\\\" id=\\\"glyph-1562715734929561-3-11\\\">\\n<path style=\\\"stroke:none;\\\" d=\\\"M -4.40625 -1.765625 L -4.296875 -0.375 L -3.984375 -0.375 C -3.984375 -1.015625 -3.921875 -1.109375 -3.4375 -1.109375 L -0.75 -1.109375 C -0.3125 -1.109375 -0.3125 -1 -0.3125 -0.328125 L 0 -0.328125 C -0.015625 -0.640625 -0.03125 -1.1875 -0.03125 -1.421875 C -0.03125 -1.78125 -0.015625 -2.125 0 -2.46875 L -0.3125 -2.46875 C -0.3125 -1.796875 -0.359375 -1.765625 -0.75 -1.765625 Z M -6.140625 -1.796875 C -6.453125 -1.796875 -6.671875 -1.5625 -6.671875 -1.28125 C -6.671875 -0.96875 -6.40625 -0.75 -6.140625 -0.75 C -5.875 -0.75 -5.609375 -0.96875 -5.609375 -1.28125 C -5.609375 -1.5625 -5.828125 -1.796875 -6.140625 -1.796875 Z M -6.140625 -1.796875 \\\"\\/>\\n<\\/symbol>\\n<symbol overflow=\\\"visible\\\" id=\\\"glyph-1562715734929561-3-12\\\">\\n<path style=\\\"stroke:none;\\\" d=\\\"M -0.78125 -3.890625 L 0.109375 -3.890625 L 0 -5.328125 L -0.3125 -5.328125 C -0.3125 -4.640625 -0.375 -4.5625 -0.875 -4.5625 L -4.40625 -4.5625 L -4.296875 -3.09375 L -3.984375 -3.09375 C -3.984375 -3.78125 -3.921875 -3.875 -3.421875 -3.875 L -1.65625 -3.875 C -0.78125 -3.875 -0.109375 -3.390625 -0.109375 -2.65625 C -0.109375 -1.828125 -0.578125 -1.78125 -1.09375 -1.78125 L -4.40625 -1.78125 L -4.296875 -0.3125 L -3.984375 -0.3125 C -3.984375 -1.09375 -3.953125 -1.09375 -3.078125 -1.09375 L -1.578125 -1.09375 C -0.796875 -1.09375 0.109375 -1.09375 0.109375 -2.609375 C 0.109375 -3.171875 -0.171875 -3.609375 -0.78125 -3.890625 Z M -0.78125 -3.890625 \\\"\\/>\\n<\\/symbol>\\n<symbol overflow=\\\"visible\\\" id=\\\"glyph-1562715734929561-3-13\\\">\\n<path style=\\\"stroke:none;\\\" d=\\\"M -0.546875 -3.78125 L 0.109375 -3.78125 L 0 -5.25 L -0.3125 -5.25 C -0.3125 -4.5625 -0.375 -4.46875 -0.875 -4.46875 L -6.921875 -4.46875 L -6.8125 -3.046875 L -6.5 -3.046875 C -6.5 -3.734375 -6.4375 -3.8125 -5.9375 -3.8125 L -3.78125 -3.8125 C -4.140625 -3.53125 -4.40625 -3.09375 -4.40625 -2.5625 C -4.40625 -1.390625 -3.421875 -0.34375 -2.140625 -0.34375 C -0.875 -0.34375 0.109375 -1.3125 0.109375 -2.453125 C 0.109375 -3.09375 -0.234375 -3.53125 -0.546875 -3.78125 Z M -3.21875 -3.78125 L -1.171875 -3.78125 C -1 -3.78125 -0.984375 -3.78125 -0.8125 -3.671875 C -0.328125 -3.375 -0.109375 -2.9375 -0.109375 -2.5 C -0.109375 -2.046875 -0.375 -1.6875 -0.75 -1.453125 C -1.15625 -1.203125 -1.71875 -1.171875 -2.140625 -1.171875 C -2.5 -1.171875 -3.09375 -1.1875 -3.546875 -1.46875 C -3.859375 -1.6875 -4.1875 -2.0625 -4.1875 -2.609375 C -4.1875 -2.953125 -4.03125 -3.375 -3.59375 -3.671875 C -3.421875 -3.78125 -3.40625 -3.78125 -3.21875 -3.78125 Z M -3.21875 -3.78125 \\\"\\/>\\n<\\/symbol>\\n<symbol overflow=\\\"visible\\\" id=\\\"glyph-1562715734929561-3-14\\\">\\n<path style=\\\"stroke:none;\\\" d=\\\"M -2.515625 -1.109375 C -4 -1.171875 -4.25 -2.015625 -4.25 -2.359375 C -4.25 -3.375 -2.90625 -3.484375 -2.515625 -3.484375 Z M -2.296875 -1.109375 L -2.296875 -3.890625 C -2.296875 -4.109375 -2.296875 -4.140625 -2.515625 -4.140625 C -3.5 -4.140625 -4.46875 -3.59375 -4.46875 -2.359375 C -4.46875 -1.203125 -3.4375 -0.28125 -2.1875 -0.28125 C -0.859375 -0.28125 0.109375 -1.328125 0.109375 -2.46875 C 0.109375 -3.6875 -1 -4.140625 -1.1875 -4.140625 C -1.28125 -4.140625 -1.3125 -4.0625 -1.3125 -4 C -1.3125 -3.921875 -1.25 -3.890625 -1.171875 -3.875 C -0.140625 -3.53125 -0.140625 -2.625 -0.140625 -2.53125 C -0.140625 -2.03125 -0.4375 -1.640625 -0.8125 -1.40625 C -1.28125 -1.109375 -1.9375 -1.109375 -2.296875 -1.109375 Z M -2.296875 -1.109375 \\\"\\/>\\n<\\/symbol>\\n<symbol overflow=\\\"visible\\\" id=\\\"glyph-1562715734929561-3-15\\\">\\n<path style=\\\"stroke:none;\\\" d=\\\"M -4.296875 -1.75 L -5.453125 -1.75 C -6.328125 -1.75 -6.8125 -2.21875 -6.8125 -2.65625 C -6.8125 -2.6875 -6.8125 -2.84375 -6.734375 -2.984375 C -6.703125 -2.875 -6.5625 -2.6875 -6.3125 -2.6875 C -6.09375 -2.6875 -5.890625 -2.84375 -5.890625 -3.125 C -5.890625 -3.40625 -6.09375 -3.5625 -6.328125 -3.5625 C -6.703125 -3.5625 -7.03125 -3.1875 -7.03125 -2.65625 C -7.03125 -1.96875 -6.5 -1.109375 -5.4375 -1.109375 L -4.296875 -1.109375 L -4.296875 -0.328125 L -3.984375 -0.328125 L -3.984375 -1.109375 L -0.75 -1.109375 C -0.3125 -1.109375 -0.3125 -1 -0.3125 -0.34375 L 0 -0.34375 C -0.015625 -0.734375 -0.03125 -1.203125 -0.03125 -1.46875 C -0.03125 -1.875 -0.03125 -2.34375 0 -2.734375 L -0.3125 -2.734375 L -0.3125 -2.53125 C -0.3125 -1.796875 -0.421875 -1.78125 -0.78125 -1.78125 L -3.984375 -1.78125 L -3.984375 -2.90625 L -4.296875 -2.90625 Z M -4.296875 -1.75 \\\"\\/>\\n<\\/symbol>\\n<\\/g>\\n<clipPath id=\\\"clip-1562715734929561-1\\\">\\n  <path d=\\\"M 32 0 L 270.539062 0 L 270.539062 11.855469 L 32 11.855469 Z M 32 0 \\\"\\/>\\n<\\/clipPath>\\n<image style=\\\"image-rendering: pixelated;\\\" id=\\\"image-1562715734929561-5\\\" width=\\\"100\\\" height=\\\"100\\\" xlink:href=\\\"data:image\\/png;base64,iVBORw0KGgoAAAANSUhEUgAAAGQAAABkCAIAAAD\\/gAIDAAAABmJLR0QA\\/wD\\/AP+gvaeTAAAA6ElEQVR4nO3QwQ3AIBDAsNL9dz5WIC+EZE8QZc3Mx5n\\/dsBLzArMCswKzArMCswKzArMCswKzArMCswKzArMCswKzArMCswKzArMCswKzArMCswKzArMCswKzArMCswKzArMCswKzArMCswKzArMCswKzArMCswKzArMCswKzArMCswKzArMCswKzArMCswKzArMCswKzArMCswKzArMCswKzArMCswKzArMCswKzArMCswKzArMCswKzArMCswKzArMCswKzArMCswKzArMCswKzArMCswKzArMCswKzArMCswKzArMCjbP8QPFyqa8aAAAAABJRU5ErkJggg==\\\"\\/>\\n<clipPath id=\\\"clip-1562715734929561-2\\\">\\n  <path d=\\\"M 148 4 L 178 4 L 178 11.855469 L 148 11.855469 Z M 148 4 \\\"\\/>\\n<\\/clipPath>\\n<clipPath id=\\\"clip-1562715734929561-3\\\">\\n  <path d=\\\"M 183 4 L 203 4 L 203 11.855469 L 183 11.855469 Z M 183 4 \\\"\\/>\\n<\\/clipPath>\\n<clipPath id=\\\"clip-1562715734929561-4\\\">\\n  <path d=\\\"M 327.226562 0 L 565.859375 0 L 565.859375 11.855469 L 327.226562 11.855469 Z M 327.226562 0 \\\"\\/>\\n<\\/clipPath>\\n<image style=\\\"image-rendering: pixelated;\\\" id=\\\"image-1562715734929561-8\\\" width=\\\"100\\\" height=\\\"100\\\" xlink:href=\\\"data:image\\/png;base64,iVBORw0KGgoAAAANSUhEUgAAAGQAAABkCAIAAAD\\/gAIDAAAABmJLR0QA\\/wD\\/AP+gvaeTAAAA6ElEQVR4nO3QwQ3AIBDAsNL9dz5WIC+EZE8QZc3Mx5n\\/dsBLzArMCswKzArMCswKzArMCswKzArMCswKzArMCswKzArMCswKzArMCswKzArMCswKzArMCswKzArMCswKzArMCswKzArMCswKzArMCswKzArMCswKzArMCswKzArMCswKzArMCswKzArMCswKzArMCswKzArMCswKzArMCswKzArMCswKzArMCswKzArMCswKzArMCswKzArMCswKzArMCswKzArMCswKzArMCswKzArMCswKzArMCswKzArMCswKzArMCjbP8QPFyqa8aAAAAABJRU5ErkJggg==\\\"\\/>\\n<clipPath id=\\\"clip-1562715734929561-5\\\">\\n  <path d=\\\"M 399 4 L 407 4 L 407 11.855469 L 399 11.855469 Z M 399 4 \\\"\\/>\\n<\\/clipPath>\\n<clipPath id=\\\"clip-1562715734929561-6\\\">\\n  <path d=\\\"M 436 4 L 466 4 L 466 11.855469 L 436 11.855469 Z M 436 4 \\\"\\/>\\n<\\/clipPath>\\n<clipPath id=\\\"clip-1562715734929561-7\\\">\\n  <path d=\\\"M 471 4 L 494 4 L 494 11.855469 L 471 11.855469 Z M 471 4 \\\"\\/>\\n<\\/clipPath>\\n<\\/defs>\\n<g id=\\\"surface1\\\">\\n<g clip-path=\\\"url(#clip-1562715734929561-1)\\\" clip-rule=\\\"nonzero\\\">\\n<use xlink:href=\\\"#image-1562715734929561-5\\\" transform=\\\"matrix(2.38667,0,0,0.11856,31.903,-0.000000000000035382)\\\"\\/>\\n<\\/g>\\n<g style=\\\"fill:rgb(0%,0%,0%);fill-opacity:1;\\\">\\n  <use xlink:href=\\\"#glyph-1562715734929561-0-1\\\" x=\\\"99.662\\\" y=\\\"10.849\\\"\\/>\\n  <use xlink:href=\\\"#glyph-1562715734929561-0-2\\\" x=\\\"107.13398\\\" y=\\\"10.849\\\"\\/>\\n  <use xlink:href=\\\"#glyph-1562715734929561-0-3\\\" x=\\\"112.1153\\\" y=\\\"10.849\\\"\\/>\\n  <use xlink:href=\\\"#glyph-1562715734929561-0-4\\\" x=\\\"116.017666\\\" y=\\\"10.849\\\"\\/>\\n  <use xlink:href=\\\"#glyph-1562715734929561-0-5\\\" x=\\\"118.785287\\\" y=\\\"10.849\\\"\\/>\\n  <use xlink:href=\\\"#glyph-1562715734929561-0-2\\\" x=\\\"123.212685\\\" y=\\\"10.849\\\"\\/>\\n  <use xlink:href=\\\"#glyph-1562715734929561-0-6\\\" x=\\\"128.194005\\\" y=\\\"10.849\\\"\\/>\\n<\\/g>\\n<g style=\\\"fill:rgb(0%,0%,0%);fill-opacity:1;\\\">\\n  <use xlink:href=\\\"#glyph-1562715734929561-0-7\\\" x=\\\"133.460256\\\" y=\\\"10.849\\\"\\/>\\n  <use xlink:href=\\\"#glyph-1562715734929561-0-8\\\" x=\\\"137.334727\\\" y=\\\"10.849\\\"\\/>\\n  <use xlink:href=\\\"#glyph-1562715734929561-0-9\\\" x=\\\"142.316047\\\" y=\\\"10.849\\\"\\/>\\n<\\/g>\\n<g clip-path=\\\"url(#clip-1562715734929561-2)\\\" clip-rule=\\\"nonzero\\\">\\n<g style=\\\"fill:rgb(0%,0%,0%);fill-opacity:1;\\\">\\n  <use xlink:href=\\\"#glyph-1562715734929561-0-10\\\" x=\\\"148.391265\\\" y=\\\"10.849\\\"\\/>\\n  <use xlink:href=\\\"#glyph-1562715734929561-0-8\\\" x=\\\"155.724764\\\" y=\\\"10.849\\\"\\/>\\n  <use xlink:href=\\\"#glyph-1562715734929561-0-6\\\" x=\\\"160.706084\\\" y=\\\"10.849\\\"\\/>\\n  <use xlink:href=\\\"#glyph-1562715734929561-0-11\\\" x=\\\"166.241327\\\" y=\\\"10.849\\\"\\/>\\n  <use xlink:href=\\\"#glyph-1562715734929561-0-12\\\" x=\\\"171.222647\\\" y=\\\"10.849\\\"\\/>\\n  <use xlink:href=\\\"#glyph-1562715734929561-0-13\\\" x=\\\"175.650044\\\" y=\\\"10.849\\\"\\/>\\n<\\/g>\\n<\\/g>\\n<g clip-path=\\\"url(#clip-1562715734929561-3)\\\" clip-rule=\\\"nonzero\\\">\\n<g style=\\\"fill:rgb(0%,0%,0%);fill-opacity:1;\\\">\\n  <use xlink:href=\\\"#glyph-1562715734929561-0-14\\\" x=\\\"182.85104\\\" y=\\\"10.849\\\"\\/>\\n  <use xlink:href=\\\"#glyph-1562715734929561-0-15\\\" x=\\\"187.83236\\\" y=\\\"10.849\\\"\\/>\\n  <use xlink:href=\\\"#glyph-1562715734929561-0-16\\\" x=\\\"192.81368\\\" y=\\\"10.849\\\"\\/>\\n  <use xlink:href=\\\"#glyph-1562715734929561-0-17\\\" x=\\\"197.795\\\" y=\\\"10.849\\\"\\/>\\n<\\/g>\\n<\\/g>\\n<g clip-path=\\\"url(#clip-1562715734929561-4)\\\" clip-rule=\\\"nonzero\\\">\\n<use xlink:href=\\\"#image-1562715734929561-8\\\" transform=\\\"matrix(2.38667,0,0,0.11856,327.228,-0.000000000000035382)\\\"\\/>\\n<\\/g>\\n<g clip-path=\\\"url(#clip-1562715734929561-5)\\\" clip-rule=\\\"nonzero\\\">\\n<g style=\\\"fill:rgb(0%,0%,0%);fill-opacity:1;\\\">\\n  <use xlink:href=\\\"#glyph-1562715734929561-0-18\\\" x=\\\"399.415\\\" y=\\\"10.849\\\"\\/>\\n<\\/g>\\n<\\/g>\\n<g style=\\\"fill:rgb(0%,0%,0%);fill-opacity:1;\\\">\\n  <use xlink:href=\\\"#glyph-1562715734929561-0-12\\\" x=\\\"406.060081\\\" y=\\\"10.849\\\"\\/>\\n  <use xlink:href=\\\"#glyph-1562715734929561-0-3\\\" x=\\\"410.487478\\\" y=\\\"10.849\\\"\\/>\\n  <use xlink:href=\\\"#glyph-1562715734929561-0-7\\\" x=\\\"414.389844\\\" y=\\\"10.849\\\"\\/>\\n  <use xlink:href=\\\"#glyph-1562715734929561-0-4\\\" x=\\\"418.264315\\\" y=\\\"10.849\\\"\\/>\\n  <use xlink:href=\\\"#glyph-1562715734929561-0-19\\\" x=\\\"421.031936\\\" y=\\\"10.849\\\"\\/>\\n  <use xlink:href=\\\"#glyph-1562715734929561-0-8\\\" x=\\\"425.459333\\\" y=\\\"10.849\\\"\\/>\\n  <use xlink:href=\\\"#glyph-1562715734929561-0-9\\\" x=\\\"430.440653\\\" y=\\\"10.849\\\"\\/>\\n<\\/g>\\n<g clip-path=\\\"url(#clip-1562715734929561-6)\\\" clip-rule=\\\"nonzero\\\">\\n<g style=\\\"fill:rgb(0%,0%,0%);fill-opacity:1;\\\">\\n  <use xlink:href=\\\"#glyph-1562715734929561-0-10\\\" x=\\\"436.525834\\\" y=\\\"10.849\\\"\\/>\\n  <use xlink:href=\\\"#glyph-1562715734929561-0-8\\\" x=\\\"443.859333\\\" y=\\\"10.849\\\"\\/>\\n  <use xlink:href=\\\"#glyph-1562715734929561-0-6\\\" x=\\\"448.840653\\\" y=\\\"10.849\\\"\\/>\\n  <use xlink:href=\\\"#glyph-1562715734929561-0-11\\\" x=\\\"454.375896\\\" y=\\\"10.849\\\"\\/>\\n  <use xlink:href=\\\"#glyph-1562715734929561-0-12\\\" x=\\\"459.357216\\\" y=\\\"10.849\\\"\\/>\\n  <use xlink:href=\\\"#glyph-1562715734929561-0-13\\\" x=\\\"463.784613\\\" y=\\\"10.849\\\"\\/>\\n<\\/g>\\n<\\/g>\\n<g clip-path=\\\"url(#clip-1562715734929561-7)\\\" clip-rule=\\\"nonzero\\\">\\n<g style=\\\"fill:rgb(0%,0%,0%);fill-opacity:1;\\\">\\n  <use xlink:href=\\\"#glyph-1562715734929561-0-20\\\" x=\\\"470.975647\\\" y=\\\"10.849\\\"\\/>\\n  <use xlink:href=\\\"#glyph-1562715734929561-0-21\\\" x=\\\"475.956967\\\" y=\\\"10.849\\\"\\/>\\n  <use xlink:href=\\\"#glyph-1562715734929561-0-22\\\" x=\\\"480.938287\\\" y=\\\"10.849\\\"\\/>\\n  <use xlink:href=\\\"#glyph-1562715734929561-0-23\\\" x=\\\"485.919607\\\" y=\\\"10.849\\\"\\/>\\n  <use xlink:href=\\\"#glyph-1562715734929561-0-17\\\" x=\\\"488.687228\\\" y=\\\"10.849\\\"\\/>\\n<\\/g>\\n<\\/g>\\n<path style=\\\"fill:none;stroke-width:0.19925;stroke-linecap:butt;stroke-linejoin:miter;stroke:rgb(50%,50%,50%);stroke-opacity:1;stroke-miterlimit:10;\\\" d=\\\"M -3.317969 -77.583406 L -3.317969 -73.333406 M 31.244531 -77.583406 L 31.244531 -73.333406 M 65.803125 -77.583406 L 65.803125 -73.333406 M 100.365625 -77.583406 L 100.365625 -73.333406 M 134.928125 -77.583406 L 134.928125 -73.333406 M 169.490625 -77.583406 L 169.490625 -73.333406 M -3.317969 83.811125 L -3.317969 79.557219 M 31.244531 83.811125 L 31.244531 79.557219 M 65.803125 83.811125 L 65.803125 79.557219 M 100.365625 83.811125 L 100.365625 79.557219 M 134.928125 83.811125 L 134.928125 79.557219 M 169.490625 83.811125 L 169.490625 79.557219 \\\" transform=\\\"matrix(1,0,0,-1,70.275,152.358)\\\"\\/>\\n<path style=\\\"fill:none;stroke-width:0.19925;stroke-linecap:butt;stroke-linejoin:miter;stroke:rgb(50%,50%,50%);stroke-opacity:1;stroke-miterlimit:10;\\\" d=\\\"M -16.189062 -67.149812 L -11.939062 -67.149812 M -16.189062 -32.587312 L -11.939062 -32.587312 M -16.189062 1.975188 L -11.939062 1.975188 M -16.189062 36.537688 L -11.939062 36.537688 M -16.189062 71.100188 L -11.939062 71.100188 M 178.080469 -67.149812 L 173.830469 -67.149812 M 178.080469 -32.587312 L 173.830469 -32.587312 M 178.080469 1.975188 L 173.830469 1.975188 M 178.080469 36.537688 L 173.830469 36.537688 M 178.080469 71.100188 L 173.830469 71.100188 \\\" transform=\\\"matrix(1,0,0,-1,70.275,152.358)\\\"\\/>\\n<path style=\\\"fill:none;stroke-width:0.3985;stroke-linecap:butt;stroke-linejoin:miter;stroke:rgb(0%,0%,0%);stroke-opacity:1;stroke-miterlimit:10;\\\" d=\\\"M -16.189062 -77.583406 L -16.189062 83.811125 L 178.080469 83.811125 L 178.080469 -77.583406 Z M -16.189062 -77.583406 \\\" transform=\\\"matrix(1,0,0,-1,70.275,152.358)\\\"\\/>\\n<g style=\\\"fill:rgb(0%,0%,0%);fill-opacity:1;\\\">\\n  <use xlink:href=\\\"#glyph-1562715734929561-1-1\\\" x=\\\"51.736\\\" y=\\\"239.882\\\"\\/>\\n<\\/g>\\n<g style=\\\"fill:rgb(0%,0%,0%);fill-opacity:1;\\\">\\n  <use xlink:href=\\\"#glyph-1562715734929561-0-15\\\" x=\\\"59.484\\\" y=\\\"239.882\\\"\\/>\\n<\\/g>\\n<g style=\\\"fill:rgb(0%,0%,0%);fill-opacity:1;\\\">\\n  <use xlink:href=\\\"#glyph-1562715734929561-2-1\\\" x=\\\"64.466\\\" y=\\\"239.882\\\"\\/>\\n<\\/g>\\n<g style=\\\"fill:rgb(0%,0%,0%);fill-opacity:1;\\\">\\n  <use xlink:href=\\\"#glyph-1562715734929561-0-16\\\" x=\\\"67.233\\\" y=\\\"239.882\\\"\\/>\\n  <use xlink:href=\\\"#glyph-1562715734929561-0-16\\\" x=\\\"72.21432\\\" y=\\\"239.882\\\"\\/>\\n  <use xlink:href=\\\"#glyph-1562715734929561-0-16\\\" x=\\\"77.19564\\\" y=\\\"239.882\\\"\\/>\\n<\\/g>\\n<g style=\\\"fill:rgb(0%,0%,0%);fill-opacity:1;\\\">\\n  <use xlink:href=\\\"#glyph-1562715734929561-1-1\\\" x=\\\"86.297\\\" y=\\\"239.882\\\"\\/>\\n<\\/g>\\n<g style=\\\"fill:rgb(0%,0%,0%);fill-opacity:1;\\\">\\n  <use xlink:href=\\\"#glyph-1562715734929561-0-24\\\" x=\\\"94.046\\\" y=\\\"239.882\\\"\\/>\\n<\\/g>\\n<g style=\\\"fill:rgb(0%,0%,0%);fill-opacity:1;\\\">\\n  <use xlink:href=\\\"#glyph-1562715734929561-2-1\\\" x=\\\"99.027\\\" y=\\\"239.882\\\"\\/>\\n<\\/g>\\n<g style=\\\"fill:rgb(0%,0%,0%);fill-opacity:1;\\\">\\n  <use xlink:href=\\\"#glyph-1562715734929561-0-16\\\" x=\\\"101.794\\\" y=\\\"239.882\\\"\\/>\\n  <use xlink:href=\\\"#glyph-1562715734929561-0-16\\\" x=\\\"106.77532\\\" y=\\\"239.882\\\"\\/>\\n  <use xlink:href=\\\"#glyph-1562715734929561-0-16\\\" x=\\\"111.75664\\\" y=\\\"239.882\\\"\\/>\\n<\\/g>\\n<g style=\\\"fill:rgb(0%,0%,0%);fill-opacity:1;\\\">\\n  <use xlink:href=\\\"#glyph-1562715734929561-1-1\\\" x=\\\"120.858\\\" y=\\\"239.882\\\"\\/>\\n<\\/g>\\n<g style=\\\"fill:rgb(0%,0%,0%);fill-opacity:1;\\\">\\n  <use xlink:href=\\\"#glyph-1562715734929561-0-20\\\" x=\\\"128.607\\\" y=\\\"239.882\\\"\\/>\\n<\\/g>\\n<g style=\\\"fill:rgb(0%,0%,0%);fill-opacity:1;\\\">\\n  <use xlink:href=\\\"#glyph-1562715734929561-2-1\\\" x=\\\"133.588\\\" y=\\\"239.882\\\"\\/>\\n<\\/g>\\n<g style=\\\"fill:rgb(0%,0%,0%);fill-opacity:1;\\\">\\n  <use xlink:href=\\\"#glyph-1562715734929561-0-16\\\" x=\\\"136.356\\\" y=\\\"239.882\\\"\\/>\\n  <use xlink:href=\\\"#glyph-1562715734929561-0-16\\\" x=\\\"141.33732\\\" y=\\\"239.882\\\"\\/>\\n  <use xlink:href=\\\"#glyph-1562715734929561-0-16\\\" x=\\\"146.31864\\\" y=\\\"239.882\\\"\\/>\\n<\\/g>\\n<g style=\\\"fill:rgb(0%,0%,0%);fill-opacity:1;\\\">\\n  <use xlink:href=\\\"#glyph-1562715734929561-0-16\\\" x=\\\"168.149\\\" y=\\\"239.882\\\"\\/>\\n<\\/g>\\n<g style=\\\"fill:rgb(0%,0%,0%);fill-opacity:1;\\\">\\n  <use xlink:href=\\\"#glyph-1562715734929561-0-20\\\" x=\\\"193.855\\\" y=\\\"239.882\\\"\\/>\\n<\\/g>\\n<g style=\\\"fill:rgb(0%,0%,0%);fill-opacity:1;\\\">\\n  <use xlink:href=\\\"#glyph-1562715734929561-2-1\\\" x=\\\"198.836\\\" y=\\\"239.882\\\"\\/>\\n<\\/g>\\n<g style=\\\"fill:rgb(0%,0%,0%);fill-opacity:1;\\\">\\n  <use xlink:href=\\\"#glyph-1562715734929561-0-16\\\" x=\\\"201.604\\\" y=\\\"239.882\\\"\\/>\\n  <use xlink:href=\\\"#glyph-1562715734929561-0-16\\\" x=\\\"206.58532\\\" y=\\\"239.882\\\"\\/>\\n  <use xlink:href=\\\"#glyph-1562715734929561-0-16\\\" x=\\\"211.56664\\\" y=\\\"239.882\\\"\\/>\\n<\\/g>\\n<g style=\\\"fill:rgb(0%,0%,0%);fill-opacity:1;\\\">\\n  <use xlink:href=\\\"#glyph-1562715734929561-0-24\\\" x=\\\"228.416\\\" y=\\\"239.882\\\"\\/>\\n<\\/g>\\n<g style=\\\"fill:rgb(0%,0%,0%);fill-opacity:1;\\\">\\n  <use xlink:href=\\\"#glyph-1562715734929561-2-1\\\" x=\\\"233.397\\\" y=\\\"239.882\\\"\\/>\\n<\\/g>\\n<g style=\\\"fill:rgb(0%,0%,0%);fill-opacity:1;\\\">\\n  <use xlink:href=\\\"#glyph-1562715734929561-0-16\\\" x=\\\"236.165\\\" y=\\\"239.882\\\"\\/>\\n  <use xlink:href=\\\"#glyph-1562715734929561-0-16\\\" x=\\\"241.14632\\\" y=\\\"239.882\\\"\\/>\\n  <use xlink:href=\\\"#glyph-1562715734929561-0-16\\\" x=\\\"246.12764\\\" y=\\\"239.882\\\"\\/>\\n<\\/g>\\n<g style=\\\"fill:rgb(0%,0%,0%);fill-opacity:1;\\\">\\n  <use xlink:href=\\\"#glyph-1562715734929561-1-1\\\" x=\\\"20.123\\\" y=\\\"221.748\\\"\\/>\\n<\\/g>\\n<g style=\\\"fill:rgb(0%,0%,0%);fill-opacity:1;\\\">\\n  <use xlink:href=\\\"#glyph-1562715734929561-0-24\\\" x=\\\"27.872\\\" y=\\\"221.748\\\"\\/>\\n<\\/g>\\n<g style=\\\"fill:rgb(0%,0%,0%);fill-opacity:1;\\\">\\n  <use xlink:href=\\\"#glyph-1562715734929561-2-1\\\" x=\\\"32.854\\\" y=\\\"221.748\\\"\\/>\\n<\\/g>\\n<g style=\\\"fill:rgb(0%,0%,0%);fill-opacity:1;\\\">\\n  <use xlink:href=\\\"#glyph-1562715734929561-0-16\\\" x=\\\"35.621\\\" y=\\\"221.748\\\"\\/>\\n  <use xlink:href=\\\"#glyph-1562715734929561-0-16\\\" x=\\\"40.60232\\\" y=\\\"221.748\\\"\\/>\\n  <use xlink:href=\\\"#glyph-1562715734929561-0-16\\\" x=\\\"45.58364\\\" y=\\\"221.748\\\"\\/>\\n<\\/g>\\n<g style=\\\"fill:rgb(0%,0%,0%);fill-opacity:1;\\\">\\n  <use xlink:href=\\\"#glyph-1562715734929561-1-1\\\" x=\\\"20.123\\\" y=\\\"187.186\\\"\\/>\\n<\\/g>\\n<g style=\\\"fill:rgb(0%,0%,0%);fill-opacity:1;\\\">\\n  <use xlink:href=\\\"#glyph-1562715734929561-0-20\\\" x=\\\"27.872\\\" y=\\\"187.186\\\"\\/>\\n<\\/g>\\n<g style=\\\"fill:rgb(0%,0%,0%);fill-opacity:1;\\\">\\n  <use xlink:href=\\\"#glyph-1562715734929561-2-1\\\" x=\\\"32.854\\\" y=\\\"187.186\\\"\\/>\\n<\\/g>\\n<g style=\\\"fill:rgb(0%,0%,0%);fill-opacity:1;\\\">\\n  <use xlink:href=\\\"#glyph-1562715734929561-0-16\\\" x=\\\"35.621\\\" y=\\\"187.186\\\"\\/>\\n  <use xlink:href=\\\"#glyph-1562715734929561-0-16\\\" x=\\\"40.60232\\\" y=\\\"187.186\\\"\\/>\\n  <use xlink:href=\\\"#glyph-1562715734929561-0-16\\\" x=\\\"45.58364\\\" y=\\\"187.186\\\"\\/>\\n<\\/g>\\n<g style=\\\"fill:rgb(0%,0%,0%);fill-opacity:1;\\\">\\n  <use xlink:href=\\\"#glyph-1562715734929561-0-16\\\" x=\\\"45.584\\\" y=\\\"153.593\\\"\\/>\\n<\\/g>\\n<g style=\\\"fill:rgb(0%,0%,0%);fill-opacity:1;\\\">\\n  <use xlink:href=\\\"#glyph-1562715734929561-0-20\\\" x=\\\"27.872\\\" y=\\\"118.063\\\"\\/>\\n<\\/g>\\n<g style=\\\"fill:rgb(0%,0%,0%);fill-opacity:1;\\\">\\n  <use xlink:href=\\\"#glyph-1562715734929561-2-1\\\" x=\\\"32.854\\\" y=\\\"118.063\\\"\\/>\\n<\\/g>\\n<g style=\\\"fill:rgb(0%,0%,0%);fill-opacity:1;\\\">\\n  <use xlink:href=\\\"#glyph-1562715734929561-0-16\\\" x=\\\"35.621\\\" y=\\\"118.063\\\"\\/>\\n  <use xlink:href=\\\"#glyph-1562715734929561-0-16\\\" x=\\\"40.60232\\\" y=\\\"118.063\\\"\\/>\\n  <use xlink:href=\\\"#glyph-1562715734929561-0-16\\\" x=\\\"45.58364\\\" y=\\\"118.063\\\"\\/>\\n<\\/g>\\n<g style=\\\"fill:rgb(0%,0%,0%);fill-opacity:1;\\\">\\n  <use xlink:href=\\\"#glyph-1562715734929561-0-24\\\" x=\\\"27.872\\\" y=\\\"83.502\\\"\\/>\\n<\\/g>\\n<g style=\\\"fill:rgb(0%,0%,0%);fill-opacity:1;\\\">\\n  <use xlink:href=\\\"#glyph-1562715734929561-2-1\\\" x=\\\"32.854\\\" y=\\\"83.502\\\"\\/>\\n<\\/g>\\n<g style=\\\"fill:rgb(0%,0%,0%);fill-opacity:1;\\\">\\n  <use xlink:href=\\\"#glyph-1562715734929561-0-16\\\" x=\\\"35.621\\\" y=\\\"83.502\\\"\\/>\\n  <use xlink:href=\\\"#glyph-1562715734929561-0-16\\\" x=\\\"40.60232\\\" y=\\\"83.502\\\"\\/>\\n  <use xlink:href=\\\"#glyph-1562715734929561-0-16\\\" x=\\\"45.58364\\\" y=\\\"83.502\\\"\\/>\\n<\\/g>\\n<path style=\\\"fill:none;stroke-width:0.3985;stroke-linecap:butt;stroke-linejoin:miter;stroke:rgb(0%,0%,0%);stroke-opacity:1;stroke-miterlimit:10;\\\" d=\\\"M -0.0015625 1.975188 L 161.892969 1.975188 \\\" transform=\\\"matrix(1,0,0,-1,70.275,152.358)\\\"\\/>\\n<path style=\\\"fill:none;stroke-width:0.3985;stroke-linecap:butt;stroke-linejoin:miter;stroke:rgb(0%,0%,0%);stroke-opacity:1;stroke-miterlimit:10;\\\" d=\\\"M 87.525781 1.20175 L 87.603906 1.154875 L 87.713281 1.100188 L 87.85 1.033781 L 88.014063 0.963469 L 88.205469 0.88925 L 88.424219 0.815031 L 88.678125 0.744719 L 88.959375 0.678313 L 89.252344 0.623625 L 89.557031 0.57675 L 89.873438 0.541594 L 90.197656 0.518156 L 90.517969 0.522063 L 90.838281 0.557219 L 91.158594 0.611906 L 91.475 0.674406 L 91.795313 0.740813 L 92.115625 0.811125 L 92.435938 0.885344 L 92.767969 0.959563 L 93.115625 1.037688 L 93.482813 1.123625 L 93.853906 1.213469 L 94.232813 1.307219 L 94.611719 1.397063 L 94.994531 1.494719 L 95.38125 1.588469 L 95.767969 1.690031 L 96.158594 1.787688 L 96.557031 1.885344 L 96.955469 1.967375 L 97.365625 2.025969 L 97.775781 2.049406 L 98.182031 2.041594 L 98.576563 2.01425 L 98.951563 1.986906 L 99.299219 1.963469 L 99.623438 1.943938 L 99.932031 1.924406 L 100.236719 1.912688 L 100.5375 1.897063 L 100.842188 1.88925 L 101.139063 1.877531 L 101.435938 1.869719 L 101.728906 1.861906 L 102.025781 1.858 L 102.31875 1.850188 L 102.615625 1.846281 L 102.916406 1.846281 L 103.213281 1.842375 L 104.127344 1.842375 L 104.455469 1.846281 L 104.814844 1.846281 L 105.19375 1.850188 L 105.592188 1.858 L 106.017969 1.865813 L 106.475 1.873625 L 106.967188 1.885344 L 107.486719 1.900969 L 108.041406 1.916594 L 108.623438 1.936125 L 109.236719 1.959563 L 109.88125 1.983 L 110.553125 2.010344 L 111.252344 2.041594 L 111.963281 2.072844 L 112.689844 2.111906 L 113.435938 2.147063 L 114.197656 2.190031 L 114.982813 2.233 L 115.795313 2.279875 L 116.646875 2.330656 L 117.533594 2.381438 L 118.451563 2.440031 L 119.392969 2.502531 L 120.361719 2.565031 L 121.353906 2.631438 L 122.369531 2.70175 L 123.392969 2.772063 L 124.424219 2.846281 L 126.471094 2.994719 L 127.490625 3.068938 L 128.50625 3.147063 L 129.517969 3.221281 L 132.541406 3.455656 L 133.545313 3.533781 L 134.545313 3.615813 L 136.5375 3.772063 L 137.529688 3.854094 L 138.514063 3.932219 L 140.482813 4.096281 L 141.459375 4.174406 L 142.435938 4.256438 L 143.408594 4.338469 L 144.38125 4.416594 L 146.31875 4.580656 L 148.248438 4.744719 L 149.209375 4.822844 L 150.1625 4.904875 L 151.096094 4.986906 L 152.010156 5.065031 L 152.889063 5.13925 L 153.736719 5.209563 L 154.545313 5.279875 L 155.326563 5.346281 L 156.072656 5.412688 L 156.795313 5.475188 L 157.490625 5.533781 L 158.166406 5.592375 L 158.822656 5.650969 L 159.467188 5.705656 \\\" transform=\\\"matrix(1,0,0,-1,70.275,152.358)\\\"\\/>\\n<path style=\\\"fill-rule:nonzero;fill:rgb(0%,50%,50%);fill-opacity:1;stroke-width:0.3985;stroke-linecap:butt;stroke-linejoin:miter;stroke:rgb(100%,100%,100%);stroke-opacity:1;stroke-miterlimit:10;\\\" d=\\\"M 5.740625 1.963469 L 5.740625 1.940031 L 5.728906 1.88925 L 5.627344 1.815031 L 5.252344 1.627531 L 4.728906 1.502531 L 4.072656 1.440031 L 3.494531 1.416594 L 1.764063 1.416594 L -2.790625 -3.149812 L -2.923437 -3.208406 L -3.298437 -3.184969 L -3.4625 -3.122469 L -1.802344 -0.477937 L -1.142187 1.416594 L -3.810156 1.404875 L -4.982031 1.541594 L -6.392187 -0.177156 L -6.915625 -0.177156 L -6.49375 1.815031 L -7.017187 1.95175 L -7.017187 1.998625 L -6.49375 2.131438 L -6.915625 4.127531 L -6.392187 4.127531 L -4.982031 2.408781 L -3.810156 2.5455 L -1.142187 2.533781 L -1.802344 4.428313 L -3.4625 7.068938 L -3.298437 7.131438 L -2.923437 7.158781 L -2.790625 7.096281 L 1.764063 2.533781 L 3.494531 2.533781 L 4.072656 2.506438 L 4.728906 2.443938 L 5.252344 2.318938 L 5.627344 2.131438 L 5.728906 2.057219 L 5.740625 2.010344 Z M 5.740625 1.963469 \\\" transform=\\\"matrix(1,0,0,-1,70.275,152.358)\\\"\\/>\\n<path style=\\\"fill-rule:nonzero;fill:rgb(0%,0%,0%);fill-opacity:1;stroke-width:0.3985;stroke-linecap:butt;stroke-linejoin:miter;stroke:rgb(100%,100%,100%);stroke-opacity:1;stroke-miterlimit:10;\\\" d=\\\"M 92.2875 -2.005281 L 92.271875 -2.028719 L 92.236719 -2.059969 L 92.107813 -2.067781 L 91.69375 -2.013094 L 91.189844 -1.825594 L 90.607813 -1.509187 L 90.115625 -1.212312 L 88.678125 -0.247469 L 82.357813 -1.497469 L 82.209375 -1.470125 L 81.9125 -1.243562 L 81.810938 -1.099031 L 84.6625 0.1705 L 86.264063 1.373625 L 84.045313 2.850188 L 83.150781 3.619719 L 81.017969 2.975188 L 80.584375 3.268156 L 82.049219 4.686125 L 81.689844 5.092375 L 81.713281 5.131438 L 82.225 4.95175 L 82.986719 6.846281 L 83.420313 6.553313 L 83.63125 4.338469 L 84.682031 3.799406 L 86.889063 2.303313 L 87.396875 4.244719 L 87.490625 7.361906 L 87.6625 7.322844 L 87.986719 7.135344 L 88.064844 7.006438 L 89.299219 0.682219 L 90.740625 -0.282625 L 91.201563 -0.626375 L 91.717188 -1.044344 L 92.080469 -1.438875 L 92.2875 -1.806062 L 92.326563 -1.92325 L 92.310938 -1.970125 Z M 92.2875 -2.005281 \\\" transform=\\\"matrix(1,0,0,-1,70.275,152.358)\\\"\\/>\\n<path style=\\\" stroke:none;fill-rule:nonzero;fill:rgb(100%,0%,0%);fill-opacity:1;\\\" d=\\\"M 121.65625 150.382812 C 121.65625 149.28125 120.761719 148.390625 119.660156 148.390625 C 118.5625 148.390625 117.667969 149.28125 117.667969 150.382812 Z M 121.65625 150.382812 \\\"\\/>\\n<path style=\\\" stroke:none;fill-rule:nonzero;fill:rgb(100%,100%,100%);fill-opacity:1;\\\" d=\\\"M 117.667969 150.382812 C 117.667969 151.484375 118.5625 152.375 119.660156 152.375 C 120.761719 152.375 121.65625 151.484375 121.65625 150.382812 \\\"\\/>\\n<path style=\\\"fill:none;stroke-width:0.3985;stroke-linecap:butt;stroke-linejoin:miter;stroke:rgb(100%,0%,0%);stroke-opacity:1;stroke-miterlimit:10;\\\" d=\\\"M 51.38125 1.975188 C 51.38125 3.07675 50.486719 3.967375 49.385156 3.967375 C 48.2875 3.967375 47.392969 3.07675 47.392969 1.975188 C 47.392969 0.873625 48.2875 -0.017 49.385156 -0.017 C 50.486719 -0.017 51.38125 0.873625 51.38125 1.975188 Z M 51.38125 1.975188 \\\" transform=\\\"matrix(1,0,0,-1,70.275,152.358)\\\"\\/>\\n<path style=\\\"fill-rule:nonzero;fill:rgb(100%,0%,0%);fill-opacity:1;stroke-width:0.3985;stroke-linecap:butt;stroke-linejoin:miter;stroke:rgb(100%,0%,0%);stroke-opacity:1;stroke-miterlimit:10;\\\" d=\\\"M 52.971094 1.975188 C 52.971094 3.07675 52.080469 3.967375 50.978906 3.967375 C 49.88125 3.967375 48.986719 3.07675 48.986719 1.975188 C 48.986719 0.873625 49.88125 -0.017 50.978906 -0.017 C 52.080469 -0.017 52.971094 0.873625 52.971094 1.975188 Z M 52.971094 1.975188 \\\" transform=\\\"matrix(1,0,0,-1,70.275,152.358)\\\"\\/>\\n<path style=\\\"fill:none;stroke-width:0.3985;stroke-linecap:butt;stroke-linejoin:miter;stroke:rgb(100%,0%,0%);stroke-opacity:1;stroke-miterlimit:10;\\\" d=\\\"M 54.564844 1.975188 C 54.564844 3.07675 53.674219 3.967375 52.572656 3.967375 C 51.471094 3.967375 50.580469 3.07675 50.580469 1.975188 C 50.580469 0.873625 51.471094 -0.017 52.572656 -0.017 C 53.674219 -0.017 54.564844 0.873625 54.564844 1.975188 Z M 54.564844 1.975188 \\\" transform=\\\"matrix(1,0,0,-1,70.275,152.358)\\\"\\/>\\n<path style=\\\"fill:none;stroke-width:0.3985;stroke-linecap:butt;stroke-linejoin:miter;stroke:rgb(100%,0%,0%);stroke-opacity:1;stroke-miterlimit:10;\\\" d=\\\"M 56.158594 1.975188 C 56.158594 3.07675 55.267969 3.967375 54.166406 3.967375 C 53.064844 3.967375 52.174219 3.07675 52.174219 1.975188 C 52.174219 0.873625 53.064844 -0.017 54.166406 -0.017 C 55.267969 -0.017 56.158594 0.873625 56.158594 1.975188 Z M 56.158594 1.975188 \\\" transform=\\\"matrix(1,0,0,-1,70.275,152.358)\\\"\\/>\\n<path style=\\\"fill:none;stroke-width:0.3985;stroke-linecap:butt;stroke-linejoin:miter;stroke:rgb(100%,0%,0%);stroke-opacity:1;stroke-miterlimit:10;\\\" d=\\\"M 57.752344 1.975188 C 57.752344 3.07675 56.857813 3.967375 55.760156 3.967375 C 54.658594 3.967375 53.767969 3.07675 53.767969 1.975188 C 53.767969 0.873625 54.658594 -0.017 55.760156 -0.017 C 56.857813 -0.017 57.752344 0.873625 57.752344 1.975188 Z M 57.752344 1.975188 \\\" transform=\\\"matrix(1,0,0,-1,70.275,152.358)\\\"\\/>\\n<path style=\\\"fill:none;stroke-width:0.3985;stroke-linecap:butt;stroke-linejoin:miter;stroke:rgb(100%,0%,0%);stroke-opacity:1;stroke-miterlimit:10;\\\" d=\\\"M 59.346094 1.975188 C 59.346094 3.07675 58.451563 3.967375 57.353906 3.967375 C 56.252344 3.967375 55.361719 3.07675 55.361719 1.975188 C 55.361719 0.873625 56.252344 -0.017 57.353906 -0.017 C 58.451563 -0.017 59.346094 0.873625 59.346094 1.975188 Z M 59.346094 1.975188 \\\" transform=\\\"matrix(1,0,0,-1,70.275,152.358)\\\"\\/>\\n<path style=\\\"fill:none;stroke-width:0.3985;stroke-linecap:butt;stroke-linejoin:miter;stroke:rgb(100%,0%,0%);stroke-opacity:1;stroke-miterlimit:10;\\\" d=\\\"M 60.939844 1.975188 C 60.939844 3.07675 60.045313 3.967375 58.94375 3.967375 C 57.846094 3.967375 56.951563 3.07675 56.951563 1.975188 C 56.951563 0.873625 57.846094 -0.017 58.94375 -0.017 C 60.045313 -0.017 60.939844 0.873625 60.939844 1.975188 Z M 60.939844 1.975188 \\\" transform=\\\"matrix(1,0,0,-1,70.275,152.358)\\\"\\/>\\n<path style=\\\"fill:none;stroke-width:0.3985;stroke-linecap:butt;stroke-linejoin:miter;stroke:rgb(100%,0%,0%);stroke-opacity:1;stroke-miterlimit:10;\\\" d=\\\"M 62.529688 1.975188 C 62.529688 3.07675 61.639063 3.967375 60.5375 3.967375 C 59.439844 3.967375 58.545313 3.07675 58.545313 1.975188 C 58.545313 0.873625 59.439844 -0.017 60.5375 -0.017 C 61.639063 -0.017 62.529688 0.873625 62.529688 1.975188 Z M 62.529688 1.975188 \\\" transform=\\\"matrix(1,0,0,-1,70.275,152.358)\\\"\\/>\\n<path style=\\\"fill:none;stroke-width:0.3985;stroke-linecap:butt;stroke-linejoin:miter;stroke:rgb(100%,0%,0%);stroke-opacity:1;stroke-miterlimit:10;\\\" d=\\\"M 64.123438 1.975188 C 64.123438 3.07675 63.232813 3.967375 62.13125 3.967375 C 61.029688 3.967375 60.139063 3.07675 60.139063 1.975188 C 60.139063 0.873625 61.029688 -0.017 62.13125 -0.017 C 63.232813 -0.017 64.123438 0.873625 64.123438 1.975188 Z M 64.123438 1.975188 \\\" transform=\\\"matrix(1,0,0,-1,70.275,152.358)\\\"\\/>\\n<path style=\\\"fill:none;stroke-width:0.3985;stroke-linecap:butt;stroke-linejoin:miter;stroke:rgb(100%,0%,0%);stroke-opacity:1;stroke-miterlimit:10;\\\" d=\\\"M 65.717188 1.975188 C 65.717188 3.07675 64.826563 3.967375 63.725 3.967375 C 62.623438 3.967375 61.732813 3.07675 61.732813 1.975188 C 61.732813 0.873625 62.623438 -0.017 63.725 -0.017 C 64.826563 -0.017 65.717188 0.873625 65.717188 1.975188 Z M 65.717188 1.975188 \\\" transform=\\\"matrix(1,0,0,-1,70.275,152.358)\\\"\\/>\\n<path style=\\\"fill:none;stroke-width:0.3985;stroke-linecap:butt;stroke-linejoin:miter;stroke:rgb(100%,0%,0%);stroke-opacity:1;stroke-miterlimit:10;\\\" d=\\\"M 67.310938 1.975188 C 67.310938 3.07675 66.420313 3.967375 65.31875 3.967375 C 64.217188 3.967375 63.326563 3.07675 63.326563 1.975188 C 63.326563 0.873625 64.217188 -0.017 65.31875 -0.017 C 66.420313 -0.017 67.310938 0.873625 67.310938 1.975188 Z M 67.310938 1.975188 \\\" transform=\\\"matrix(1,0,0,-1,70.275,152.358)\\\"\\/>\\n<path style=\\\"fill:none;stroke-width:0.3985;stroke-linecap:butt;stroke-linejoin:miter;stroke:rgb(100%,0%,0%);stroke-opacity:1;stroke-miterlimit:10;\\\" d=\\\"M 68.904688 1.975188 C 68.904688 3.07675 68.010156 3.967375 66.9125 3.967375 C 65.810938 3.967375 64.920313 3.07675 64.920313 1.975188 C 64.920313 0.873625 65.810938 -0.017 66.9125 -0.017 C 68.010156 -0.017 68.904688 0.873625 68.904688 1.975188 Z M 68.904688 1.975188 \\\" transform=\\\"matrix(1,0,0,-1,70.275,152.358)\\\"\\/>\\n<path style=\\\"fill:none;stroke-width:0.3985;stroke-linecap:butt;stroke-linejoin:miter;stroke:rgb(100%,0%,0%);stroke-opacity:1;stroke-miterlimit:10;\\\" d=\\\"M 70.498438 1.975188 C 70.498438 3.07675 69.603906 3.967375 68.502344 3.967375 C 67.404688 3.967375 66.510156 3.07675 66.510156 1.975188 C 66.510156 0.873625 67.404688 -0.017 68.502344 -0.017 C 69.603906 -0.017 70.498438 0.873625 70.498438 1.975188 Z M 70.498438 1.975188 \\\" transform=\\\"matrix(1,0,0,-1,70.275,152.358)\\\"\\/>\\n<path style=\\\"fill:none;stroke-width:0.3985;stroke-linecap:butt;stroke-linejoin:miter;stroke:rgb(100%,0%,0%);stroke-opacity:1;stroke-miterlimit:10;\\\" d=\\\"M 72.088281 1.975188 C 72.088281 3.07675 71.197656 3.967375 70.096094 3.967375 C 68.998438 3.967375 68.103906 3.07675 68.103906 1.975188 C 68.103906 0.873625 68.998438 -0.017 70.096094 -0.017 C 71.197656 -0.017 72.088281 0.873625 72.088281 1.975188 Z M 72.088281 1.975188 \\\" transform=\\\"matrix(1,0,0,-1,70.275,152.358)\\\"\\/>\\n<path style=\\\"fill:none;stroke-width:0.3985;stroke-linecap:butt;stroke-linejoin:miter;stroke:rgb(100%,0%,0%);stroke-opacity:1;stroke-miterlimit:10;\\\" d=\\\"M 73.682031 1.975188 C 73.682031 3.07675 72.791406 3.967375 71.689844 3.967375 C 70.588281 3.967375 69.697656 3.07675 69.697656 1.975188 C 69.697656 0.873625 70.588281 -0.017 71.689844 -0.017 C 72.791406 -0.017 73.682031 0.873625 73.682031 1.975188 Z M 73.682031 1.975188 \\\" transform=\\\"matrix(1,0,0,-1,70.275,152.358)\\\"\\/>\\n<path style=\\\"fill:none;stroke-width:0.3985;stroke-linecap:butt;stroke-linejoin:miter;stroke:rgb(100%,0%,0%);stroke-opacity:1;stroke-miterlimit:10;\\\" d=\\\"M 75.275781 1.975188 C 75.275781 3.07675 74.385156 3.967375 73.283594 3.967375 C 72.182031 3.967375 71.291406 3.07675 71.291406 1.975188 C 71.291406 0.873625 72.182031 -0.017 73.283594 -0.017 C 74.385156 -0.017 75.275781 0.873625 75.275781 1.975188 Z M 75.275781 1.975188 \\\" transform=\\\"matrix(1,0,0,-1,70.275,152.358)\\\"\\/>\\n<path style=\\\"fill:none;stroke-width:0.3985;stroke-linecap:butt;stroke-linejoin:miter;stroke:rgb(100%,0%,0%);stroke-opacity:1;stroke-miterlimit:10;\\\" d=\\\"M 76.869531 1.975188 C 76.869531 3.07675 75.978906 3.967375 74.877344 3.967375 C 73.775781 3.967375 72.885156 3.07675 72.885156 1.975188 C 72.885156 0.873625 73.775781 -0.017 74.877344 -0.017 C 75.978906 -0.017 76.869531 0.873625 76.869531 1.975188 Z M 76.869531 1.975188 \\\" transform=\\\"matrix(1,0,0,-1,70.275,152.358)\\\"\\/>\\n<path style=\\\"fill:none;stroke-width:0.3985;stroke-linecap:butt;stroke-linejoin:miter;stroke:rgb(100%,0%,0%);stroke-opacity:1;stroke-miterlimit:10;\\\" d=\\\"M 78.463281 1.975188 C 78.463281 3.07675 77.56875 3.967375 76.471094 3.967375 C 75.369531 3.967375 74.478906 3.07675 74.478906 1.975188 C 74.478906 0.873625 75.369531 -0.017 76.471094 -0.017 C 77.56875 -0.017 78.463281 0.873625 78.463281 1.975188 Z M 78.463281 1.975188 \\\" transform=\\\"matrix(1,0,0,-1,70.275,152.358)\\\"\\/>\\n<path style=\\\"fill:none;stroke-width:0.3985;stroke-linecap:butt;stroke-linejoin:miter;stroke:rgb(100%,0%,0%);stroke-opacity:1;stroke-miterlimit:10;\\\" d=\\\"M 80.057031 1.975188 C 80.057031 3.07675 79.1625 3.967375 78.064844 3.967375 C 76.963281 3.967375 76.06875 3.07675 76.06875 1.975188 C 76.06875 0.873625 76.963281 -0.017 78.064844 -0.017 C 79.1625 -0.017 80.057031 0.873625 80.057031 1.975188 Z M 80.057031 1.975188 \\\" transform=\\\"matrix(1,0,0,-1,70.275,152.358)\\\"\\/>\\n<path style=\\\" stroke:none;fill-rule:nonzero;fill:rgb(100%,0%,0%);fill-opacity:1;\\\" d=\\\"M 153.515625 150.382812 C 153.515625 149.28125 152.625 148.390625 151.523438 148.390625 C 150.421875 148.390625 149.53125 149.28125 149.53125 150.382812 Z M 153.515625 150.382812 \\\"\\/>\\n<path style=\\\" stroke:none;fill-rule:nonzero;fill:rgb(100%,100%,100%);fill-opacity:1;\\\" d=\\\"M 149.53125 150.382812 C 149.53125 151.484375 150.421875 152.375 151.523438 152.375 C 152.625 152.375 153.515625 151.484375 153.515625 150.382812 \\\"\\/>\\n<path style=\\\"fill:none;stroke-width:0.3985;stroke-linecap:butt;stroke-linejoin:miter;stroke:rgb(100%,0%,0%);stroke-opacity:1;stroke-miterlimit:10;\\\" d=\\\"M 83.240625 1.975188 C 83.240625 3.07675 82.35 3.967375 81.248438 3.967375 C 80.146875 3.967375 79.25625 3.07675 79.25625 1.975188 C 79.25625 0.873625 80.146875 -0.017 81.248438 -0.017 C 82.35 -0.017 83.240625 0.873625 83.240625 1.975188 Z M 83.240625 1.975188 \\\" transform=\\\"matrix(1,0,0,-1,70.275,152.358)\\\"\\/>\\n<path style=\\\" stroke:none;fill-rule:nonzero;fill:rgb(100%,0%,0%);fill-opacity:1;\\\" d=\\\"M 156.703125 150.382812 C 156.703125 149.28125 155.8125 148.390625 154.710938 148.390625 C 153.609375 148.390625 152.71875 149.28125 152.71875 150.382812 Z M 156.703125 150.382812 \\\"\\/>\\n<path style=\\\" stroke:none;fill-rule:nonzero;fill:rgb(100%,100%,100%);fill-opacity:1;\\\" d=\\\"M 152.71875 150.382812 C 152.71875 151.484375 153.609375 152.375 154.710938 152.375 C 155.8125 152.375 156.703125 151.484375 156.703125 150.382812 \\\"\\/>\\n<path style=\\\"fill:none;stroke-width:0.3985;stroke-linecap:butt;stroke-linejoin:miter;stroke:rgb(100%,0%,0%);stroke-opacity:1;stroke-miterlimit:10;\\\" d=\\\"M 86.428125 1.975188 C 86.428125 3.07675 85.5375 3.967375 84.435938 3.967375 C 83.334375 3.967375 82.44375 3.07675 82.44375 1.975188 C 82.44375 0.873625 83.334375 -0.017 84.435938 -0.017 C 85.5375 -0.017 86.428125 0.873625 86.428125 1.975188 Z M 86.428125 1.975188 \\\" transform=\\\"matrix(1,0,0,-1,70.275,152.358)\\\"\\/>\\n<path style=\\\" stroke:none;fill-rule:nonzero;fill:rgb(100%,0%,0%);fill-opacity:1;\\\" d=\\\"M 159.890625 150.382812 C 159.890625 149.28125 158.996094 148.390625 157.898438 148.390625 C 156.796875 148.390625 155.902344 149.28125 155.902344 150.382812 Z M 159.890625 150.382812 \\\"\\/>\\n<path style=\\\" stroke:none;fill-rule:nonzero;fill:rgb(100%,100%,100%);fill-opacity:1;\\\" d=\\\"M 155.902344 150.382812 C 155.902344 151.484375 156.796875 152.375 157.898438 152.375 C 158.996094 152.375 159.890625 151.484375 159.890625 150.382812 \\\"\\/>\\n<path style=\\\"fill:none;stroke-width:0.3985;stroke-linecap:butt;stroke-linejoin:miter;stroke:rgb(100%,0%,0%);stroke-opacity:1;stroke-miterlimit:10;\\\" d=\\\"M 89.615625 1.975188 C 89.615625 3.07675 88.721094 3.967375 87.623438 3.967375 C 86.521875 3.967375 85.627344 3.07675 85.627344 1.975188 C 85.627344 0.873625 86.521875 -0.017 87.623438 -0.017 C 88.721094 -0.017 89.615625 0.873625 89.615625 1.975188 Z M 89.615625 1.975188 \\\" transform=\\\"matrix(1,0,0,-1,70.275,152.358)\\\"\\/>\\n<path style=\\\" stroke:none;fill-rule:nonzero;fill:rgb(100%,0%,0%);fill-opacity:1;\\\" d=\\\"M 163.074219 150.382812 C 163.074219 149.28125 162.183594 148.390625 161.082031 148.390625 C 159.984375 148.390625 159.089844 149.28125 159.089844 150.382812 Z M 163.074219 150.382812 \\\"\\/>\\n<path style=\\\" stroke:none;fill-rule:nonzero;fill:rgb(100%,100%,100%);fill-opacity:1;\\\" d=\\\"M 159.089844 150.382812 C 159.089844 151.484375 159.984375 152.375 161.082031 152.375 C 162.183594 152.375 163.074219 151.484375 163.074219 150.382812 \\\"\\/>\\n<path style=\\\"fill:none;stroke-width:0.3985;stroke-linecap:butt;stroke-linejoin:miter;stroke:rgb(100%,0%,0%);stroke-opacity:1;stroke-miterlimit:10;\\\" d=\\\"M 92.799219 1.975188 C 92.799219 3.07675 91.908594 3.967375 90.807031 3.967375 C 89.709375 3.967375 88.814844 3.07675 88.814844 1.975188 C 88.814844 0.873625 89.709375 -0.017 90.807031 -0.017 C 91.908594 -0.017 92.799219 0.873625 92.799219 1.975188 Z M 92.799219 1.975188 \\\" transform=\\\"matrix(1,0,0,-1,70.275,152.358)\\\"\\/>\\n<g style=\\\"fill:rgb(0%,0%,0%);fill-opacity:1;\\\">\\n  <use xlink:href=\\\"#glyph-1562715734929561-0-25\\\" x=\\\"131.75\\\" y=\\\"256.132\\\"\\/>\\n  <use xlink:href=\\\"#glyph-1562715734929561-0-8\\\" x=\\\"138.530573\\\" y=\\\"256.132\\\"\\/>\\n  <use xlink:href=\\\"#glyph-1562715734929561-0-26\\\" x=\\\"143.511893\\\" y=\\\"256.132\\\"\\/>\\n  <use xlink:href=\\\"#glyph-1562715734929561-0-7\\\" x=\\\"147.441158\\\" y=\\\"256.132\\\"\\/>\\n<\\/g>\\n<g style=\\\"fill:rgb(0%,0%,0%);fill-opacity:1;\\\">\\n  <use xlink:href=\\\"#glyph-1562715734929561-0-27\\\" x=\\\"154.633188\\\" y=\\\"256.132\\\"\\/>\\n  <use xlink:href=\\\"#glyph-1562715734929561-0-28\\\" x=\\\"158.507659\\\" y=\\\"256.132\\\"\\/>\\n  <use xlink:href=\\\"#glyph-1562715734929561-0-29\\\" x=\\\"166.809526\\\" y=\\\"256.132\\\"\\/>\\n<\\/g>\\n<g style=\\\"fill:rgb(0%,0%,0%);fill-opacity:1;\\\">\\n  <use xlink:href=\\\"#glyph-1562715734929561-3-1\\\" x=\\\"10.792\\\" y=\\\"171.814\\\"\\/>\\n  <use xlink:href=\\\"#glyph-1562715734929561-3-2\\\" x=\\\"10.792\\\" y=\\\"164.34202\\\"\\/>\\n  <use xlink:href=\\\"#glyph-1562715734929561-3-3\\\" x=\\\"10.792\\\" y=\\\"159.3607\\\"\\/>\\n  <use xlink:href=\\\"#glyph-1562715734929561-3-4\\\" x=\\\"10.792\\\" y=\\\"155.458334\\\"\\/>\\n  <use xlink:href=\\\"#glyph-1562715734929561-3-5\\\" x=\\\"10.792\\\" y=\\\"151.583863\\\"\\/>\\n<\\/g>\\n<g style=\\\"fill:rgb(0%,0%,0%);fill-opacity:1;\\\">\\n  <use xlink:href=\\\"#glyph-1562715734929561-3-6\\\" x=\\\"10.792\\\" y=\\\"142.731061\\\"\\/>\\n  <use xlink:href=\\\"#glyph-1562715734929561-3-7\\\" x=\\\"10.792\\\" y=\\\"138.856591\\\"\\/>\\n  <use xlink:href=\\\"#glyph-1562715734929561-3-8\\\" x=\\\"10.792\\\" y=\\\"130.554723\\\"\\/>\\n<\\/g>\\n<g style=\\\"fill:rgb(0%,0%,0%);fill-opacity:1;\\\">\\n  <use xlink:href=\\\"#glyph-1562715734929561-0-30\\\" x=\\\"120.577\\\" y=\\\"59.052\\\"\\/>\\n  <use xlink:href=\\\"#glyph-1562715734929561-0-3\\\" x=\\\"128.394684\\\" y=\\\"59.052\\\"\\/>\\n  <use xlink:href=\\\"#glyph-1562715734929561-0-2\\\" x=\\\"132.29705\\\" y=\\\"59.052\\\"\\/>\\n  <use xlink:href=\\\"#glyph-1562715734929561-0-31\\\" x=\\\"137.27837\\\" y=\\\"59.052\\\"\\/>\\n  <use xlink:href=\\\"#glyph-1562715734929561-0-6\\\" x=\\\"142.813612\\\" y=\\\"59.052\\\"\\/>\\n  <use xlink:href=\\\"#glyph-1562715734929561-0-32\\\" x=\\\"148.348855\\\" y=\\\"59.052\\\"\\/>\\n<\\/g>\\n<g style=\\\"fill:rgb(0%,0%,0%);fill-opacity:1;\\\">\\n  <use xlink:href=\\\"#glyph-1562715734929561-0-33\\\" x=\\\"157.201657\\\" y=\\\"59.052\\\"\\/>\\n<\\/g>\\n<g style=\\\"fill:rgb(0%,0%,0%);fill-opacity:1;\\\">\\n  <use xlink:href=\\\"#glyph-1562715734929561-0-3\\\" x=\\\"163.569777\\\" y=\\\"59.052\\\"\\/>\\n  <use xlink:href=\\\"#glyph-1562715734929561-0-8\\\" x=\\\"167.472143\\\" y=\\\"59.052\\\"\\/>\\n  <use xlink:href=\\\"#glyph-1562715734929561-0-19\\\" x=\\\"172.453463\\\" y=\\\"59.052\\\"\\/>\\n<\\/g>\\n<g style=\\\"fill:rgb(0%,0%,0%);fill-opacity:1;\\\">\\n  <use xlink:href=\\\"#glyph-1562715734929561-0-34\\\" x=\\\"176.611869\\\" y=\\\"59.052\\\"\\/>\\n<\\/g>\\n<path style=\\\"fill:none;stroke-width:0.19925;stroke-linecap:butt;stroke-linejoin:miter;stroke:rgb(50%,50%,50%);stroke-opacity:1;stroke-miterlimit:10;\\\" d=\\\"M -0.00034375 -13.450406 L -0.00034375 -9.1965 M 26.984031 -13.450406 L 26.984031 -9.1965 M 53.9645 -13.450406 L 53.9645 -9.1965 M 80.944969 -13.450406 L 80.944969 -9.1965 M 107.929344 -13.450406 L 107.929344 -9.1965 M 134.909812 -13.450406 L 134.909812 -9.1965 M 161.894187 -13.450406 L 161.894187 -9.1965 M -0.00034375 147.944125 L -0.00034375 143.690219 M 26.984031 147.944125 L 26.984031 143.690219 M 53.9645 147.944125 L 53.9645 143.690219 M 80.944969 147.944125 L 80.944969 143.690219 M 107.929344 147.944125 L 107.929344 143.690219 M 134.909812 147.944125 L 134.909812 143.690219 M 161.894187 147.944125 L 161.894187 143.690219 \\\" transform=\\\"matrix(1,0,0,-1,365.598,216.491)\\\"\\/>\\n<path style=\\\"fill:none;stroke-width:0.19925;stroke-linecap:butt;stroke-linejoin:miter;stroke:rgb(50%,50%,50%);stroke-opacity:1;stroke-miterlimit:10;\\\" d=\\\"M -16.19175 -2.813688 L -11.937844 -2.813688 M -16.19175 31.619906 L -11.937844 31.619906 M -16.19175 66.0535 L -11.937844 66.0535 M -16.19175 100.483187 L -11.937844 100.483187 M -16.19175 134.916781 L -11.937844 134.916781 M 178.085594 -2.813688 L 173.831687 -2.813688 M 178.085594 31.619906 L 173.831687 31.619906 M 178.085594 66.0535 L 173.831687 66.0535 M 178.085594 100.483187 L 173.831687 100.483187 M 178.085594 134.916781 L 173.831687 134.916781 \\\" transform=\\\"matrix(1,0,0,-1,365.598,216.491)\\\"\\/>\\n<path style=\\\"fill:none;stroke-width:0.3985;stroke-linecap:butt;stroke-linejoin:miter;stroke:rgb(0%,0%,0%);stroke-opacity:1;stroke-miterlimit:10;\\\" d=\\\"M -16.19175 -13.450406 L -16.19175 147.944125 L 178.085594 147.944125 L 178.085594 -13.450406 Z M -16.19175 -13.450406 \\\" transform=\\\"matrix(1,0,0,-1,365.598,216.491)\\\"\\/>\\n<g style=\\\"fill:rgb(0%,0%,0%);fill-opacity:1;\\\">\\n  <use xlink:href=\\\"#glyph-1562715734929561-0-16\\\" x=\\\"363.107\\\" y=\\\"239.881\\\"\\/>\\n<\\/g>\\n<g style=\\\"fill:rgb(0%,0%,0%);fill-opacity:1;\\\">\\n  <use xlink:href=\\\"#glyph-1562715734929561-0-24\\\" x=\\\"387.598\\\" y=\\\"239.881\\\"\\/>\\n  <use xlink:href=\\\"#glyph-1562715734929561-0-16\\\" x=\\\"392.57932\\\" y=\\\"239.881\\\"\\/>\\n<\\/g>\\n<g style=\\\"fill:rgb(0%,0%,0%);fill-opacity:1;\\\">\\n  <use xlink:href=\\\"#glyph-1562715734929561-0-22\\\" x=\\\"414.58\\\" y=\\\"239.881\\\"\\/>\\n  <use xlink:href=\\\"#glyph-1562715734929561-0-16\\\" x=\\\"419.56132\\\" y=\\\"239.881\\\"\\/>\\n<\\/g>\\n<g style=\\\"fill:rgb(0%,0%,0%);fill-opacity:1;\\\">\\n  <use xlink:href=\\\"#glyph-1562715734929561-0-35\\\" x=\\\"441.562\\\" y=\\\"239.881\\\"\\/>\\n  <use xlink:href=\\\"#glyph-1562715734929561-0-16\\\" x=\\\"446.54332\\\" y=\\\"239.881\\\"\\/>\\n<\\/g>\\n<g style=\\\"fill:rgb(0%,0%,0%);fill-opacity:1;\\\">\\n  <use xlink:href=\\\"#glyph-1562715734929561-0-14\\\" x=\\\"468.544\\\" y=\\\"239.881\\\"\\/>\\n  <use xlink:href=\\\"#glyph-1562715734929561-0-16\\\" x=\\\"473.52532\\\" y=\\\"239.881\\\"\\/>\\n<\\/g>\\n<g style=\\\"fill:rgb(0%,0%,0%);fill-opacity:1;\\\">\\n  <use xlink:href=\\\"#glyph-1562715734929561-0-20\\\" x=\\\"493.035\\\" y=\\\"239.881\\\"\\/>\\n  <use xlink:href=\\\"#glyph-1562715734929561-0-16\\\" x=\\\"498.01632\\\" y=\\\"239.881\\\"\\/>\\n  <use xlink:href=\\\"#glyph-1562715734929561-0-16\\\" x=\\\"502.99764\\\" y=\\\"239.881\\\"\\/>\\n<\\/g>\\n<g style=\\\"fill:rgb(0%,0%,0%);fill-opacity:1;\\\">\\n  <use xlink:href=\\\"#glyph-1562715734929561-0-20\\\" x=\\\"520.017\\\" y=\\\"239.881\\\"\\/>\\n  <use xlink:href=\\\"#glyph-1562715734929561-0-24\\\" x=\\\"524.99832\\\" y=\\\"239.881\\\"\\/>\\n  <use xlink:href=\\\"#glyph-1562715734929561-0-16\\\" x=\\\"529.97964\\\" y=\\\"239.881\\\"\\/>\\n<\\/g>\\n<g style=\\\"fill:rgb(0%,0%,0%);fill-opacity:1;\\\">\\n  <use xlink:href=\\\"#glyph-1562715734929561-0-24\\\" x=\\\"330.944\\\" y=\\\"222.514\\\"\\/>\\n  <use xlink:href=\\\"#glyph-1562715734929561-0-16\\\" x=\\\"335.92532\\\" y=\\\"222.514\\\"\\/>\\n  <use xlink:href=\\\"#glyph-1562715734929561-0-16\\\" x=\\\"340.90664\\\" y=\\\"222.514\\\"\\/>\\n<\\/g>\\n<g style=\\\"fill:rgb(0%,0%,0%);fill-opacity:1;\\\">\\n  <use xlink:href=\\\"#glyph-1562715734929561-0-22\\\" x=\\\"330.944\\\" y=\\\"188.082\\\"\\/>\\n  <use xlink:href=\\\"#glyph-1562715734929561-0-16\\\" x=\\\"335.92532\\\" y=\\\"188.082\\\"\\/>\\n  <use xlink:href=\\\"#glyph-1562715734929561-0-16\\\" x=\\\"340.90664\\\" y=\\\"188.082\\\"\\/>\\n<\\/g>\\n<g style=\\\"fill:rgb(0%,0%,0%);fill-opacity:1;\\\">\\n  <use xlink:href=\\\"#glyph-1562715734929561-0-35\\\" x=\\\"330.944\\\" y=\\\"153.65\\\"\\/>\\n  <use xlink:href=\\\"#glyph-1562715734929561-0-16\\\" x=\\\"335.92532\\\" y=\\\"153.65\\\"\\/>\\n  <use xlink:href=\\\"#glyph-1562715734929561-0-16\\\" x=\\\"340.90664\\\" y=\\\"153.65\\\"\\/>\\n<\\/g>\\n<g style=\\\"fill:rgb(0%,0%,0%);fill-opacity:1;\\\">\\n  <use xlink:href=\\\"#glyph-1562715734929561-0-14\\\" x=\\\"330.944\\\" y=\\\"119.218\\\"\\/>\\n  <use xlink:href=\\\"#glyph-1562715734929561-0-16\\\" x=\\\"335.92532\\\" y=\\\"119.218\\\"\\/>\\n  <use xlink:href=\\\"#glyph-1562715734929561-0-16\\\" x=\\\"340.90664\\\" y=\\\"119.218\\\"\\/>\\n<\\/g>\\n<g style=\\\"fill:rgb(0%,0%,0%);fill-opacity:1;\\\">\\n  <use xlink:href=\\\"#glyph-1562715734929561-0-20\\\" x=\\\"323.195\\\" y=\\\"83.817\\\"\\/>\\n<\\/g>\\n<g style=\\\"fill:rgb(0%,0%,0%);fill-opacity:1;\\\">\\n  <use xlink:href=\\\"#glyph-1562715734929561-2-1\\\" x=\\\"328.176\\\" y=\\\"83.817\\\"\\/>\\n<\\/g>\\n<g style=\\\"fill:rgb(0%,0%,0%);fill-opacity:1;\\\">\\n  <use xlink:href=\\\"#glyph-1562715734929561-0-16\\\" x=\\\"330.944\\\" y=\\\"83.817\\\"\\/>\\n  <use xlink:href=\\\"#glyph-1562715734929561-0-16\\\" x=\\\"335.92532\\\" y=\\\"83.817\\\"\\/>\\n  <use xlink:href=\\\"#glyph-1562715734929561-0-16\\\" x=\\\"340.90664\\\" y=\\\"83.817\\\"\\/>\\n<\\/g>\\n<path style=\\\"fill:none;stroke-width:0.3985;stroke-linecap:butt;stroke-linejoin:miter;stroke:rgb(0%,0%,0%);stroke-opacity:1;stroke-miterlimit:10;\\\" d=\\\"M -0.00034375 19.502719 L 40.472312 19.502719 L 41.823875 19.862094 L 43.171531 20.866 L 44.519187 22.158969 L 45.87075 23.448031 L 47.218406 24.741 L 48.569969 26.030062 L 49.917625 27.323031 L 51.265281 28.612094 L 52.616844 29.905062 L 53.9645 31.194125 L 55.312156 32.487094 L 56.663719 33.776156 L 58.011375 35.069125 L 59.362937 36.358187 L 62.05825 38.944125 L 63.409812 40.233187 L 64.757469 41.526156 L 66.105125 42.815219 L 67.456687 44.108187 L 68.804344 45.39725 L 70.155906 46.690219 L 71.503562 47.979281 L 72.851219 49.27225 L 74.202781 50.561312 L 75.550437 51.854281 L 76.898094 53.143344 L 78.249656 54.436312 L 79.597312 55.729281 L 80.948875 57.018344 L 82.296531 58.311312 L 83.644187 59.600375 L 84.99575 60.893344 L 86.343406 62.182406 L 87.691062 63.475375 L 89.042625 64.764437 L 90.390281 66.057406 L 91.741844 67.346469 L 94.437156 69.932406 L 95.788719 71.221469 L 97.136375 72.514437 L 98.484031 73.8035 L 99.835594 75.096469 L 101.18325 76.385531 L 102.534812 77.6785 L 103.882469 78.967562 L 105.230125 80.260531 L 106.581687 81.549594 L 107.929344 82.842562 L 109.277 84.131625 L 110.628562 85.424594 L 111.976219 86.717562 L 113.327781 88.006625 L 114.675437 89.299594 L 116.023094 90.588656 L 117.374656 91.881625 L 118.722312 93.170687 L 120.069969 94.463656 L 121.421531 95.752719 L 122.769187 97.045687 L 124.12075 98.33475 L 125.468406 99.627719 L 126.816062 100.916781 L 128.167625 102.20975 L 129.515281 103.502719 L 130.862937 104.791781 L 132.2145 106.08475 L 133.562156 107.373812 L 134.913719 108.666781 L 136.261375 109.955844 L 137.609031 111.248812 L 138.960594 112.537875 L 140.30825 113.830844 L 141.655906 115.119906 L 143.007469 116.412875 L 144.355125 117.705844 L 145.706687 118.994906 L 147.054344 120.287875 L 148.402 121.576937 L 149.753562 122.869906 L 151.101219 124.158969 L 152.448875 125.451937 L 153.800437 126.741 L 155.148094 128.033969 L 156.499656 129.323031 L 157.847312 130.616 L 159.194969 131.905062 L 160.546531 133.198031 L 161.894187 134.491 \\\" transform=\\\"matrix(1,0,0,-1,365.598,216.491)\\\"\\/>\\n<path style=\\\"fill:none;stroke-width:0.3985;stroke-linecap:butt;stroke-linejoin:miter;stroke:rgb(0%,0%,0%);stroke-opacity:1;stroke-miterlimit:10;\\\" d=\\\"M -0.00034375 46.170687 L 1.347312 46.20975 L 2.698875 46.237094 L 4.046531 46.264437 L 5.398094 46.3035 L 6.74575 46.362094 L 8.093406 46.416781 L 9.444969 46.256625 L 10.792625 45.701937 L 12.140281 44.944125 L 13.491844 44.237094 L 14.8395 43.780062 L 16.191062 43.506625 L 17.538719 43.127719 L 18.886375 42.6785 L 20.237937 42.330844 L 21.585594 42.018344 L 22.93325 41.682406 L 24.284812 41.3035 L 25.632469 40.979281 L 26.984031 40.674594 L 28.331687 40.385531 L 29.679344 40.190219 L 31.030906 39.971469 L 32.378562 39.752719 L 33.726219 39.569125 L 35.077781 39.330844 L 36.425437 39.02225 L 37.777 38.686312 L 39.124656 38.299594 L 40.472312 37.783969 L 41.823875 37.311312 L 43.171531 36.9285 L 44.519187 36.463656 L 45.87075 36.006625 L 47.218406 35.533969 L 48.569969 34.869906 L 49.917625 34.283969 L 51.265281 33.998812 L 52.616844 33.783969 L 53.9645 33.350375 L 55.312156 32.842562 L 56.663719 32.518344 L 58.011375 32.155062 L 59.362937 31.729281 L 60.710594 31.541781 L 62.05825 31.506625 L 63.409812 31.487094 L 67.456687 31.487094 L 68.804344 31.483187 L 70.155906 31.45975 L 71.503562 31.330844 L 72.851219 31.073031 L 74.202781 30.819125 L 75.550437 30.467562 L 76.898094 29.920687 L 78.249656 29.39725 L 79.597312 28.869906 L 80.948875 28.190219 L 82.296531 27.45975 L 83.644187 26.6785 L 84.99575 26.02225 L 86.343406 25.733187 L 87.691062 25.448031 L 89.042625 24.889437 L 90.390281 24.369906 L 91.741844 24.030062 L 93.0895 23.670687 L 94.437156 23.162875 L 95.788719 22.565219 L 97.136375 21.920687 L 98.484031 21.280062 L 99.835594 20.670687 L 101.18325 20.069125 L 102.534812 19.514437 L 103.882469 18.951937 L 105.230125 18.408969 L 106.581687 18.018344 L 107.929344 17.768344 L 109.277 17.483187 L 110.628562 16.998812 L 111.976219 16.373812 L 113.327781 15.623812 L 114.675437 14.951937 L 116.023094 14.440219 L 117.374656 13.948031 L 118.722312 13.483187 L 120.069969 12.979281 L 121.421531 12.455844 L 122.769187 12.018344 L 124.12075 11.725375 L 125.468406 11.358187 L 126.816062 10.701937 L 128.167625 9.944125 L 129.515281 9.264437 L 130.862937 8.70975 L 132.2145 8.354281 L 133.562156 8.158969 L 134.913719 7.920687 L 136.261375 7.463656 L 137.609031 6.951937 L 138.960594 6.639437 L 140.30825 6.362094 L 141.655906 5.916781 L 143.007469 5.502719 L 144.355125 5.233187 L 145.706687 4.916781 L 147.054344 4.514437 L 148.402 4.030062 L 149.753562 3.373812 L 151.101219 2.826937 L 152.448875 2.549594 L 153.800437 2.260531 L 155.148094 1.873812 L 156.499656 1.588656 L 157.847312 1.405062 L 159.194969 1.123812 L 160.546531 0.623812 L 161.894187 -0.0011875 \\\" transform=\\\"matrix(1,0,0,-1,365.598,216.491)\\\"\\/>\\n<path style=\\\"fill-rule:nonzero;fill:rgb(0%,50%,50%);fill-opacity:1;stroke-width:0.3985;stroke-linecap:butt;stroke-linejoin:miter;stroke:rgb(100%,100%,100%);stroke-opacity:1;stroke-miterlimit:10;\\\" d=\\\"M -7.328469 21.944125 L -7.324563 21.95975 L -7.305031 21.963656 L -6.707375 21.963656 L -6.687844 21.95975 L -4.769875 20.221469 L -1.945656 20.244906 L -3.555031 21.436312 L -3.562844 21.451937 L -3.543313 21.463656 L -2.969094 21.514437 L -2.957375 21.514437 L -0.457375 20.299594 L 3.499656 20.27225 L 3.503562 20.27225 L 4.296531 20.139437 L 4.304344 20.135531 L 4.49575 20.006625 L 5.093406 19.662875 L 5.101219 19.651156 L 5.101219 19.518344 L 5.097312 19.506625 L 4.878562 19.373812 L 4.429344 19.20975 L 3.773094 19.104281 L 1.288719 19.076937 L -2.848 17.362094 L -2.855813 17.362094 L -3.183938 17.33475 L -3.187844 17.33475 L -3.543313 17.362094 L -3.562844 17.373812 L -3.555031 17.389437 L -1.762063 18.518344 L -1.625344 18.877719 L -1.6605 18.975375 L -3.351906 19.158969 L -4.418313 19.315219 L -5.851906 19.635531 L -6.94175 19.237094 L -6.953469 19.237094 L -7.633156 19.264437 L -7.652688 19.27225 L -7.648781 19.291781 L -6.824563 19.846469 L -7.015969 19.9285 L -7.027688 19.940219 L -7.000344 20.127719 L -6.984719 20.139437 L -6.75425 20.170687 L -7.37925 21.041781 L -7.37925 21.057406 L -7.363625 21.065219 L -7.027688 21.100375 Z M -7.328469 21.944125 \\\" transform=\\\"matrix(1,0,0,-1,365.598,216.491)\\\"\\/>\\n<path style=\\\"fill-rule:nonzero;fill:rgb(0%,0%,0%);fill-opacity:1;stroke-width:0.3985;stroke-linecap:butt;stroke-linejoin:miter;stroke:rgb(100%,100%,100%);stroke-opacity:1;stroke-miterlimit:10;\\\" d=\\\"M -7.328469 48.612094 L -7.324563 48.627719 L -7.305031 48.631625 L -6.707375 48.631625 L -6.687844 48.627719 L -4.769875 46.889437 L -1.945656 46.912875 L -3.555031 48.104281 L -3.562844 48.119906 L -3.543313 48.131625 L -2.969094 48.182406 L -2.957375 48.182406 L -0.457375 46.967562 L 3.499656 46.940219 L 3.503562 46.940219 L 4.296531 46.811312 L 4.304344 46.8035 L 4.49575 46.674594 L 5.093406 46.330844 L 5.101219 46.319125 L 5.101219 46.186312 L 5.097312 46.174594 L 4.878562 46.041781 L 4.429344 45.877719 L 3.773094 45.77225 L 1.288719 45.748812 L -2.848 44.030062 L -2.855813 44.030062 L -3.183938 44.002719 L -3.187844 44.002719 L -3.543313 44.030062 L -3.562844 44.041781 L -3.555031 44.057406 L -1.762063 45.186312 L -1.625344 45.545687 L -1.6605 45.643344 L -3.351906 45.826937 L -4.418313 45.987094 L -5.851906 46.3035 L -6.94175 45.908969 L -6.953469 45.905062 L -7.633156 45.932406 L -7.652688 45.944125 L -7.648781 45.95975 L -6.824563 46.514437 L -7.015969 46.596469 L -7.027688 46.612094 L -7.000344 46.795687 L -6.984719 46.811312 L -6.75425 46.838656 L -7.37925 47.70975 L -7.37925 47.725375 L -7.363625 47.733187 L -7.027688 47.768344 Z M -7.328469 48.612094 \\\" transform=\\\"matrix(1,0,0,-1,365.598,216.491)\\\"\\/>\\n<path style=\\\" stroke:none;fill-rule:nonzero;fill:rgb(100%,0%,0%);fill-opacity:1;\\\" d=\\\"M 409.414062 196.628906 C 409.414062 195.527344 408.519531 194.636719 407.421875 194.636719 C 406.320312 194.636719 405.429688 195.527344 405.429688 196.628906 Z M 409.414062 196.628906 \\\"\\/>\\n<path style=\\\" stroke:none;fill-rule:nonzero;fill:rgb(100%,100%,100%);fill-opacity:1;\\\" d=\\\"M 405.429688 196.628906 C 405.429688 197.730469 406.320312 198.621094 407.421875 198.621094 C 408.519531 198.621094 409.414062 197.730469 409.414062 196.628906 \\\"\\/>\\n<path style=\\\"fill:none;stroke-width:0.3985;stroke-linecap:butt;stroke-linejoin:miter;stroke:rgb(100%,0%,0%);stroke-opacity:1;stroke-miterlimit:10;\\\" d=\\\"M 43.816062 19.862094 C 43.816062 20.963656 42.921531 21.854281 41.823875 21.854281 C 40.722312 21.854281 39.831687 20.963656 39.831687 19.862094 C 39.831687 18.760531 40.722312 17.869906 41.823875 17.869906 C 42.921531 17.869906 43.816062 18.760531 43.816062 19.862094 Z M 43.816062 19.862094 \\\" transform=\\\"matrix(1,0,0,-1,365.598,216.491)\\\"\\/>\\n<path style=\\\"fill-rule:nonzero;fill:rgb(100%,0%,0%);fill-opacity:1;stroke-width:0.3985;stroke-linecap:butt;stroke-linejoin:miter;stroke:rgb(100%,0%,0%);stroke-opacity:1;stroke-miterlimit:10;\\\" d=\\\"M 45.163719 20.866 C 45.163719 21.967562 44.273094 22.858187 43.171531 22.858187 C 42.069969 22.858187 41.179344 21.967562 41.179344 20.866 C 41.179344 19.764437 42.069969 18.873812 43.171531 18.873812 C 44.273094 18.873812 45.163719 19.764437 45.163719 20.866 Z M 45.163719 20.866 \\\" transform=\\\"matrix(1,0,0,-1,365.598,216.491)\\\"\\/>\\n<path style=\\\"fill:none;stroke-width:0.3985;stroke-linecap:butt;stroke-linejoin:miter;stroke:rgb(100%,0%,0%);stroke-opacity:1;stroke-miterlimit:10;\\\" d=\\\"M 46.515281 22.158969 C 46.515281 23.256625 45.62075 24.151156 44.519187 24.151156 C 43.421531 24.151156 42.527 23.256625 42.527 22.158969 C 42.527 21.057406 43.421531 20.166781 44.519187 20.166781 C 45.62075 20.166781 46.515281 21.057406 46.515281 22.158969 Z M 46.515281 22.158969 \\\" transform=\\\"matrix(1,0,0,-1,365.598,216.491)\\\"\\/>\\n<path style=\\\"fill:none;stroke-width:0.3985;stroke-linecap:butt;stroke-linejoin:miter;stroke:rgb(100%,0%,0%);stroke-opacity:1;stroke-miterlimit:10;\\\" d=\\\"M 47.862937 23.448031 C 47.862937 24.549594 46.972312 25.440219 45.87075 25.440219 C 44.769187 25.440219 43.878562 24.549594 43.878562 23.448031 C 43.878562 22.350375 44.769187 21.455844 45.87075 21.455844 C 46.972312 21.455844 47.862937 22.350375 47.862937 23.448031 Z M 47.862937 23.448031 \\\" transform=\\\"matrix(1,0,0,-1,365.598,216.491)\\\"\\/>\\n<path style=\\\"fill:none;stroke-width:0.3985;stroke-linecap:butt;stroke-linejoin:miter;stroke:rgb(100%,0%,0%);stroke-opacity:1;stroke-miterlimit:10;\\\" d=\\\"M 49.210594 24.741 C 49.210594 25.842562 48.319969 26.733187 47.218406 26.733187 C 46.116844 26.733187 45.226219 25.842562 45.226219 24.741 C 45.226219 23.639437 46.116844 22.748812 47.218406 22.748812 C 48.319969 22.748812 49.210594 23.639437 49.210594 24.741 Z M 49.210594 24.741 \\\" transform=\\\"matrix(1,0,0,-1,365.598,216.491)\\\"\\/>\\n<path style=\\\"fill:none;stroke-width:0.3985;stroke-linecap:butt;stroke-linejoin:miter;stroke:rgb(100%,0%,0%);stroke-opacity:1;stroke-miterlimit:10;\\\" d=\\\"M 50.562156 26.030062 C 50.562156 27.131625 49.667625 28.02225 48.569969 28.02225 C 47.468406 28.02225 46.573875 27.131625 46.573875 26.030062 C 46.573875 24.932406 47.468406 24.037875 48.569969 24.037875 C 49.667625 24.037875 50.562156 24.932406 50.562156 26.030062 Z M 50.562156 26.030062 \\\" transform=\\\"matrix(1,0,0,-1,365.598,216.491)\\\"\\/>\\n<path style=\\\"fill:none;stroke-width:0.3985;stroke-linecap:butt;stroke-linejoin:miter;stroke:rgb(100%,0%,0%);stroke-opacity:1;stroke-miterlimit:10;\\\" d=\\\"M 51.909812 27.323031 C 51.909812 28.424594 51.019187 29.315219 49.917625 29.315219 C 48.816062 29.315219 47.925437 28.424594 47.925437 27.323031 C 47.925437 26.221469 48.816062 25.330844 49.917625 25.330844 C 51.019187 25.330844 51.909812 26.221469 51.909812 27.323031 Z M 51.909812 27.323031 \\\" transform=\\\"matrix(1,0,0,-1,365.598,216.491)\\\"\\/>\\n<path style=\\\"fill:none;stroke-width:0.3985;stroke-linecap:butt;stroke-linejoin:miter;stroke:rgb(100%,0%,0%);stroke-opacity:1;stroke-miterlimit:10;\\\" d=\\\"M 53.257469 28.612094 C 53.257469 29.713656 52.366844 30.608187 51.265281 30.608187 C 50.167625 30.608187 49.273094 29.713656 49.273094 28.612094 C 49.273094 27.514437 50.167625 26.619906 51.265281 26.619906 C 52.366844 26.619906 53.257469 27.514437 53.257469 28.612094 Z M 53.257469 28.612094 \\\" transform=\\\"matrix(1,0,0,-1,365.598,216.491)\\\"\\/>\\n<path style=\\\"fill:none;stroke-width:0.3985;stroke-linecap:butt;stroke-linejoin:miter;stroke:rgb(100%,0%,0%);stroke-opacity:1;stroke-miterlimit:10;\\\" d=\\\"M 54.609031 29.905062 C 54.609031 31.006625 53.7145 31.89725 52.616844 31.89725 C 51.515281 31.89725 50.624656 31.006625 50.624656 29.905062 C 50.624656 28.8035 51.515281 27.912875 52.616844 27.912875 C 53.7145 27.912875 54.609031 28.8035 54.609031 29.905062 Z M 54.609031 29.905062 \\\" transform=\\\"matrix(1,0,0,-1,365.598,216.491)\\\"\\/>\\n<path style=\\\"fill:none;stroke-width:0.3985;stroke-linecap:butt;stroke-linejoin:miter;stroke:rgb(100%,0%,0%);stroke-opacity:1;stroke-miterlimit:10;\\\" d=\\\"M 55.956687 31.198031 C 55.956687 32.295687 55.066062 33.190219 53.9645 33.190219 C 52.862937 33.190219 51.972312 32.295687 51.972312 31.198031 C 51.972312 30.096469 52.862937 29.201937 53.9645 29.201937 C 55.066062 29.201937 55.956687 30.096469 55.956687 31.198031 Z M 55.956687 31.198031 \\\" transform=\\\"matrix(1,0,0,-1,365.598,216.491)\\\"\\/>\\n<path style=\\\"fill:none;stroke-width:0.3985;stroke-linecap:butt;stroke-linejoin:miter;stroke:rgb(100%,0%,0%);stroke-opacity:1;stroke-miterlimit:10;\\\" d=\\\"M 57.304344 32.487094 C 57.304344 33.588656 56.413719 34.479281 55.312156 34.479281 C 54.2145 34.479281 53.319969 33.588656 53.319969 32.487094 C 53.319969 31.385531 54.2145 30.494906 55.312156 30.494906 C 56.413719 30.494906 57.304344 31.385531 57.304344 32.487094 Z M 57.304344 32.487094 \\\" transform=\\\"matrix(1,0,0,-1,365.598,216.491)\\\"\\/>\\n<path style=\\\"fill:none;stroke-width:0.3985;stroke-linecap:butt;stroke-linejoin:miter;stroke:rgb(100%,0%,0%);stroke-opacity:1;stroke-miterlimit:10;\\\" d=\\\"M 58.655906 33.780062 C 58.655906 34.877719 57.761375 35.77225 56.663719 35.77225 C 55.562156 35.77225 54.671531 34.877719 54.671531 33.780062 C 54.671531 32.6785 55.562156 31.787875 56.663719 31.787875 C 57.761375 31.787875 58.655906 32.6785 58.655906 33.780062 Z M 58.655906 33.780062 \\\" transform=\\\"matrix(1,0,0,-1,365.598,216.491)\\\"\\/>\\n<path style=\\\"fill:none;stroke-width:0.3985;stroke-linecap:butt;stroke-linejoin:miter;stroke:rgb(100%,0%,0%);stroke-opacity:1;stroke-miterlimit:10;\\\" d=\\\"M 60.003562 35.069125 C 60.003562 36.170687 59.112937 37.061312 58.011375 37.061312 C 56.909812 37.061312 56.019187 36.170687 56.019187 35.069125 C 56.019187 33.967562 56.909812 33.076937 58.011375 33.076937 C 59.112937 33.076937 60.003562 33.967562 60.003562 35.069125 Z M 60.003562 35.069125 \\\" transform=\\\"matrix(1,0,0,-1,365.598,216.491)\\\"\\/>\\n<path style=\\\"fill:none;stroke-width:0.3985;stroke-linecap:butt;stroke-linejoin:miter;stroke:rgb(100%,0%,0%);stroke-opacity:1;stroke-miterlimit:10;\\\" d=\\\"M 61.355125 36.362094 C 61.355125 37.45975 60.460594 38.354281 59.362937 38.354281 C 58.261375 38.354281 57.366844 37.45975 57.366844 36.362094 C 57.366844 35.260531 58.261375 34.369906 59.362937 34.369906 C 60.460594 34.369906 61.355125 35.260531 61.355125 36.362094 Z M 61.355125 36.362094 \\\" transform=\\\"matrix(1,0,0,-1,365.598,216.491)\\\"\\/>\\n<path style=\\\"fill:none;stroke-width:0.3985;stroke-linecap:butt;stroke-linejoin:miter;stroke:rgb(100%,0%,0%);stroke-opacity:1;stroke-miterlimit:10;\\\" d=\\\"M 62.702781 37.651156 C 62.702781 38.752719 61.812156 39.643344 60.710594 39.643344 C 59.609031 39.643344 58.718406 38.752719 58.718406 37.651156 C 58.718406 36.5535 59.609031 35.658969 60.710594 35.658969 C 61.812156 35.658969 62.702781 36.5535 62.702781 37.651156 Z M 62.702781 37.651156 \\\" transform=\\\"matrix(1,0,0,-1,365.598,216.491)\\\"\\/>\\n<path style=\\\"fill:none;stroke-width:0.3985;stroke-linecap:butt;stroke-linejoin:miter;stroke:rgb(100%,0%,0%);stroke-opacity:1;stroke-miterlimit:10;\\\" d=\\\"M 64.050437 38.944125 C 64.050437 40.045687 63.159812 40.936312 62.05825 40.936312 C 60.960594 40.936312 60.066062 40.045687 60.066062 38.944125 C 60.066062 37.842562 60.960594 36.951937 62.05825 36.951937 C 63.159812 36.951937 64.050437 37.842562 64.050437 38.944125 Z M 64.050437 38.944125 \\\" transform=\\\"matrix(1,0,0,-1,365.598,216.491)\\\"\\/>\\n<path style=\\\"fill:none;stroke-width:0.3985;stroke-linecap:butt;stroke-linejoin:miter;stroke:rgb(100%,0%,0%);stroke-opacity:1;stroke-miterlimit:10;\\\" d=\\\"M 65.402 40.233187 C 65.402 41.33475 64.507469 42.229281 63.409812 42.229281 C 62.30825 42.229281 61.417625 41.33475 61.417625 40.233187 C 61.417625 39.135531 62.30825 38.241 63.409812 38.241 C 64.507469 38.241 65.402 39.135531 65.402 40.233187 Z M 65.402 40.233187 \\\" transform=\\\"matrix(1,0,0,-1,365.598,216.491)\\\"\\/>\\n<path style=\\\"fill:none;stroke-width:0.3985;stroke-linecap:butt;stroke-linejoin:miter;stroke:rgb(100%,0%,0%);stroke-opacity:1;stroke-miterlimit:10;\\\" d=\\\"M 66.749656 41.526156 C 66.749656 42.627719 65.859031 43.518344 64.757469 43.518344 C 63.655906 43.518344 62.765281 42.627719 62.765281 41.526156 C 62.765281 40.424594 63.655906 39.533969 64.757469 39.533969 C 65.859031 39.533969 66.749656 40.424594 66.749656 41.526156 Z M 66.749656 41.526156 \\\" transform=\\\"matrix(1,0,0,-1,365.598,216.491)\\\"\\/>\\n<path style=\\\"fill:none;stroke-width:0.3985;stroke-linecap:butt;stroke-linejoin:miter;stroke:rgb(100%,0%,0%);stroke-opacity:1;stroke-miterlimit:10;\\\" d=\\\"M 68.097312 42.819125 C 68.097312 43.916781 67.206687 44.811312 66.105125 44.811312 C 65.007469 44.811312 64.112937 43.916781 64.112937 42.819125 C 64.112937 41.717562 65.007469 40.823031 66.105125 40.823031 C 67.206687 40.823031 68.097312 41.717562 68.097312 42.819125 Z M 68.097312 42.819125 \\\" transform=\\\"matrix(1,0,0,-1,365.598,216.491)\\\"\\/>\\n<path style=\\\" stroke:none;fill-rule:nonzero;fill:rgb(100%,0%,0%);fill-opacity:1;\\\" d=\\\"M 436.394531 171.089844 C 436.394531 169.992188 435.503906 169.097656 434.402344 169.097656 C 433.300781 169.097656 432.410156 169.992188 432.410156 171.089844 Z M 436.394531 171.089844 \\\"\\/>\\n<path style=\\\" stroke:none;fill-rule:nonzero;fill:rgb(100%,100%,100%);fill-opacity:1;\\\" d=\\\"M 432.410156 171.089844 C 432.410156 172.191406 433.300781 173.082031 434.402344 173.082031 C 435.503906 173.082031 436.394531 172.191406 436.394531 171.089844 \\\"\\/>\\n<path style=\\\"fill:none;stroke-width:0.3985;stroke-linecap:butt;stroke-linejoin:miter;stroke:rgb(100%,0%,0%);stroke-opacity:1;stroke-miterlimit:10;\\\" d=\\\"M 70.796531 45.401156 C 70.796531 46.498812 69.905906 47.393344 68.804344 47.393344 C 67.702781 47.393344 66.812156 46.498812 66.812156 45.401156 C 66.812156 44.299594 67.702781 43.408969 68.804344 43.408969 C 69.905906 43.408969 70.796531 44.299594 70.796531 45.401156 Z M 70.796531 45.401156 \\\" transform=\\\"matrix(1,0,0,-1,365.598,216.491)\\\"\\/>\\n<path style=\\\" stroke:none;fill-rule:nonzero;fill:rgb(100%,0%,0%);fill-opacity:1;\\\" d=\\\"M 439.09375 168.507812 C 439.09375 167.410156 438.203125 166.515625 437.101562 166.515625 C 436 166.515625 435.109375 167.410156 435.109375 168.507812 Z M 439.09375 168.507812 \\\"\\/>\\n<path style=\\\" stroke:none;fill-rule:nonzero;fill:rgb(100%,100%,100%);fill-opacity:1;\\\" d=\\\"M 435.109375 168.507812 C 435.109375 169.609375 436 170.5 437.101562 170.5 C 438.203125 170.5 439.09375 169.609375 439.09375 168.507812 \\\"\\/>\\n<path style=\\\"fill:none;stroke-width:0.3985;stroke-linecap:butt;stroke-linejoin:miter;stroke:rgb(100%,0%,0%);stroke-opacity:1;stroke-miterlimit:10;\\\" d=\\\"M 73.49575 47.983187 C 73.49575 49.080844 72.605125 49.975375 71.503562 49.975375 C 70.402 49.975375 69.511375 49.080844 69.511375 47.983187 C 69.511375 46.881625 70.402 45.991 71.503562 45.991 C 72.605125 45.991 73.49575 46.881625 73.49575 47.983187 Z M 73.49575 47.983187 \\\" transform=\\\"matrix(1,0,0,-1,365.598,216.491)\\\"\\/>\\n<path style=\\\" stroke:none;fill-rule:nonzero;fill:rgb(100%,0%,0%);fill-opacity:1;\\\" d=\\\"M 441.792969 165.925781 C 441.792969 164.824219 440.898438 163.933594 439.800781 163.933594 C 438.699219 163.933594 437.808594 164.824219 437.808594 165.925781 Z M 441.792969 165.925781 \\\"\\/>\\n<path style=\\\" stroke:none;fill-rule:nonzero;fill:rgb(100%,100%,100%);fill-opacity:1;\\\" d=\\\"M 437.808594 165.925781 C 437.808594 167.027344 438.699219 167.917969 439.800781 167.917969 C 440.898438 167.917969 441.792969 167.027344 441.792969 165.925781 \\\"\\/>\\n<path style=\\\"fill:none;stroke-width:0.3985;stroke-linecap:butt;stroke-linejoin:miter;stroke:rgb(100%,0%,0%);stroke-opacity:1;stroke-miterlimit:10;\\\" d=\\\"M 76.194969 50.565219 C 76.194969 51.666781 75.300437 52.557406 74.202781 52.557406 C 73.101219 52.557406 72.210594 51.666781 72.210594 50.565219 C 72.210594 49.463656 73.101219 48.573031 74.202781 48.573031 C 75.300437 48.573031 76.194969 49.463656 76.194969 50.565219 Z M 76.194969 50.565219 \\\" transform=\\\"matrix(1,0,0,-1,365.598,216.491)\\\"\\/>\\n<path style=\\\" stroke:none;fill-rule:nonzero;fill:rgb(100%,0%,0%);fill-opacity:1;\\\" d=\\\"M 444.488281 163.34375 C 444.488281 162.242188 443.597656 161.351562 442.496094 161.351562 C 441.398438 161.351562 440.503906 162.242188 440.503906 163.34375 Z M 444.488281 163.34375 \\\"\\/>\\n<path style=\\\" stroke:none;fill-rule:nonzero;fill:rgb(100%,100%,100%);fill-opacity:1;\\\" d=\\\"M 440.503906 163.34375 C 440.503906 164.445312 441.398438 165.335938 442.496094 165.335938 C 443.597656 165.335938 444.488281 164.445312 444.488281 163.34375 \\\"\\/>\\n<path style=\\\"fill:none;stroke-width:0.3985;stroke-linecap:butt;stroke-linejoin:miter;stroke:rgb(100%,0%,0%);stroke-opacity:1;stroke-miterlimit:10;\\\" d=\\\"M 78.890281 53.14725 C 78.890281 54.248812 77.999656 55.139437 76.898094 55.139437 C 75.800437 55.139437 74.905906 54.248812 74.905906 53.14725 C 74.905906 52.045687 75.800437 51.155062 76.898094 51.155062 C 77.999656 51.155062 78.890281 52.045687 78.890281 53.14725 Z M 78.890281 53.14725 \\\" transform=\\\"matrix(1,0,0,-1,365.598,216.491)\\\"\\/>\\n<g style=\\\"fill:rgb(0%,0%,0%);fill-opacity:1;\\\">\\n  <use xlink:href=\\\"#glyph-1562715734929561-0-33\\\" x=\\\"427.698\\\" y=\\\"254.193\\\"\\/>\\n  <use xlink:href=\\\"#glyph-1562715734929561-0-4\\\" x=\\\"434.893019\\\" y=\\\"254.193\\\"\\/>\\n  <use xlink:href=\\\"#glyph-1562715734929561-0-28\\\" x=\\\"437.66064\\\" y=\\\"254.193\\\"\\/>\\n  <use xlink:href=\\\"#glyph-1562715734929561-0-12\\\" x=\\\"445.962508\\\" y=\\\"254.193\\\"\\/>\\n<\\/g>\\n<g style=\\\"fill:rgb(0%,0%,0%);fill-opacity:1;\\\">\\n  <use xlink:href=\\\"#glyph-1562715734929561-0-27\\\" x=\\\"453.707464\\\" y=\\\"254.193\\\"\\/>\\n  <use xlink:href=\\\"#glyph-1562715734929561-0-26\\\" x=\\\"457.581935\\\" y=\\\"254.193\\\"\\/>\\n  <use xlink:href=\\\"#glyph-1562715734929561-0-29\\\" x=\\\"461.5112\\\" y=\\\"254.193\\\"\\/>\\n<\\/g>\\n<g style=\\\"fill:rgb(0%,0%,0%);fill-opacity:1;\\\">\\n  <use xlink:href=\\\"#glyph-1562715734929561-3-9\\\" x=\\\"313.864\\\" y=\\\"176.366\\\"\\/>\\n  <use xlink:href=\\\"#glyph-1562715734929561-3-10\\\" x=\\\"313.864\\\" y=\\\"168.89402\\\"\\/>\\n  <use xlink:href=\\\"#glyph-1562715734929561-3-4\\\" x=\\\"313.864\\\" y=\\\"166.126399\\\"\\/>\\n  <use xlink:href=\\\"#glyph-1562715734929561-3-11\\\" x=\\\"313.864\\\" y=\\\"162.251928\\\"\\/>\\n  <use xlink:href=\\\"#glyph-1562715734929561-3-4\\\" x=\\\"313.864\\\" y=\\\"159.484307\\\"\\/>\\n  <use xlink:href=\\\"#glyph-1562715734929561-3-12\\\" x=\\\"313.864\\\" y=\\\"155.609836\\\"\\/>\\n  <use xlink:href=\\\"#glyph-1562715734929561-3-13\\\" x=\\\"313.864\\\" y=\\\"150.074593\\\"\\/>\\n  <use xlink:href=\\\"#glyph-1562715734929561-3-14\\\" x=\\\"313.864\\\" y=\\\"144.53935\\\"\\/>\\n<\\/g>\\n<g style=\\\"fill:rgb(0%,0%,0%);fill-opacity:1;\\\">\\n  <use xlink:href=\\\"#glyph-1562715734929561-3-6\\\" x=\\\"313.864\\\" y=\\\"136.794394\\\"\\/>\\n  <use xlink:href=\\\"#glyph-1562715734929561-3-15\\\" x=\\\"313.864\\\" y=\\\"132.919923\\\"\\/>\\n  <use xlink:href=\\\"#glyph-1562715734929561-3-4\\\" x=\\\"313.864\\\" y=\\\"129.87534\\\"\\/>\\n  <use xlink:href=\\\"#glyph-1562715734929561-3-8\\\" x=\\\"313.864\\\" y=\\\"126.00087\\\"\\/>\\n<\\/g>\\n<g style=\\\"fill:rgb(0%,0%,0%);fill-opacity:1;\\\">\\n  <use xlink:href=\\\"#glyph-1562715734929561-0-18\\\" x=\\\"413.791\\\" y=\\\"59.052\\\"\\/>\\n<\\/g>\\n<g style=\\\"fill:rgb(0%,0%,0%);fill-opacity:1;\\\">\\n  <use xlink:href=\\\"#glyph-1562715734929561-0-12\\\" x=\\\"420.436081\\\" y=\\\"59.052\\\"\\/>\\n  <use xlink:href=\\\"#glyph-1562715734929561-0-3\\\" x=\\\"424.863478\\\" y=\\\"59.052\\\"\\/>\\n  <use xlink:href=\\\"#glyph-1562715734929561-0-7\\\" x=\\\"428.765844\\\" y=\\\"59.052\\\"\\/>\\n  <use xlink:href=\\\"#glyph-1562715734929561-0-4\\\" x=\\\"432.640315\\\" y=\\\"59.052\\\"\\/>\\n  <use xlink:href=\\\"#glyph-1562715734929561-0-19\\\" x=\\\"435.407936\\\" y=\\\"59.052\\\"\\/>\\n  <use xlink:href=\\\"#glyph-1562715734929561-0-8\\\" x=\\\"439.835333\\\" y=\\\"59.052\\\"\\/>\\n  <use xlink:href=\\\"#glyph-1562715734929561-0-9\\\" x=\\\"444.816653\\\" y=\\\"59.052\\\"\\/>\\n<\\/g>\\n<g style=\\\"fill:rgb(0%,0%,0%);fill-opacity:1;\\\">\\n  <use xlink:href=\\\"#glyph-1562715734929561-0-36\\\" x=\\\"450.901834\\\" y=\\\"59.052\\\"\\/>\\n  <use xlink:href=\\\"#glyph-1562715734929561-0-3\\\" x=\\\"457.682407\\\" y=\\\"59.052\\\"\\/>\\n  <use xlink:href=\\\"#glyph-1562715734929561-0-2\\\" x=\\\"461.584773\\\" y=\\\"59.052\\\"\\/>\\n  <use xlink:href=\\\"#glyph-1562715734929561-0-37\\\" x=\\\"466.566093\\\" y=\\\"59.052\\\"\\/>\\n  <use xlink:href=\\\"#glyph-1562715734929561-0-9\\\" x=\\\"472.101336\\\" y=\\\"59.052\\\"\\/>\\n  <use xlink:href=\\\"#glyph-1562715734929561-0-12\\\" x=\\\"474.868957\\\" y=\\\"59.052\\\"\\/>\\n<\\/g>\\n<\\/g>\\n<\\/svg>\\n\\n\"},\"nodeType\":\"DOM\",\"type\":\"node\",\"instanceArgs\":{\"namespace\":\"html\",\"tag\":\"div\"},\"children\":[]}]}}}},\"children\":[{\"props\":{},\"nodeType\":\"ObservableNode\",\"type\":\"node\",\"instanceArgs\":{\"id\":\"ob_14\",\"name\":\"obs-node\"},\"children\":[]}]}]},\n",
       "            window,\n",
       "        );\n",
       "    } else {\n",
       "        document\n",
       "            .querySelector('[data-webio-mountpoint=\"8108326362976044271\"]')\n",
       "            .innerHTML = '<strong>WebIO not detected.</strong>';\n",
       "    }\n",
       "    </script>\n",
       "</div>\n"
      ],
      "text/plain": [
       "Node{WebIO.DOM}(WebIO.DOM(:html, :div), Any[Node{DOM}(DOM(:html, :div), Any[Scope(Node{DOM}(DOM(:html, :div), Any[Node{DOM}(DOM(:html, :div), Any[Node{DOM}(DOM(:html, :label), Any[\"File Name\"], Dict{Symbol,Any}(:className=>\"interact \",:style=>Dict{Any,Any}(:padding=>\"5px 10px 0px 10px\")))], Dict{Symbol,Any}(:className=>\"interact-flex-row-left\")), Node{DOM}(DOM(:html, :div), Any[Node{DOM}(DOM(:html, :input), Any[], Dict{Symbol,Any}(:attributes=>Dict{Any,Any}(:type=>\"text\",Symbol(\"data-bind\")=>\"value: value, valueUpdate: 'input', event: {change: function (){this.changes(this.changes()+1)}}\"),:placeholder=>\"\",:className=>\"input \",:style=>Dict{Any,Any}()))], Dict{Symbol,Any}(:className=>\"interact-flex-row-center\")), Node{DOM}(DOM(:html, :div), Any[Node{DOM}(DOM(:html, :div), Any[], Dict{Symbol,Any}())], Dict{Symbol,Any}(:className=>\"interact-flex-row-right\"))], Dict{Symbol,Any}(:className=>\"interact-flex-row interact-widget\")), Dict{String,Tuple{Observables.AbstractObservable,Union{Nothing, Bool}}}(\"changes\"=>(Observable{Int64} with 2 listeners. Value:\n",
       "0, nothing),\"value\"=>(Observable{String} with 1 listeners. Value:\n",
       "\"myFile.pdf\", nothing)), Set(String[]), nothing, Asset[Asset(\"js\", \"knockout\", \"/home/smkatz/.julia/packages/Knockout/1sDlc/src/../assets/knockout.js\"), Asset(\"js\", \"knockout_punches\", \"/home/smkatz/.julia/packages/Knockout/1sDlc/src/../assets/knockout_punches.js\"), Asset(\"js\", nothing, \"/home/smkatz/.julia/packages/InteractBase/l8cEC/src/../assets/all.js\"), Asset(\"css\", nothing, \"/home/smkatz/.julia/packages/InteractBase/l8cEC/src/../assets/style.css\"), Asset(\"css\", nothing, \"/home/smkatz/.julia/packages/Interact/0klKX/src/../assets/bulma_confined.min.css\")], Dict{Any,Any}(\"changes\"=>Any[JSString(\"(function (val){return (val!=this.model[\\\"changes\\\"]()) ? (this.valueFromJulia[\\\"changes\\\"]=true, this.model[\\\"changes\\\"](val)) : undefined})\")],\"value\"=>Any[JSString(\"(function (val){return (val!=this.model[\\\"value\\\"]()) ? (this.valueFromJulia[\\\"value\\\"]=true, this.model[\\\"value\\\"](val)) : undefined})\")]), ConnectionPool(Channel{Any}(sz_max:32,sz_curr:0), Set(AbstractConnection[]), Channel{AbstractConnection}(sz_max:32,sz_curr:0)), WebIO.JSString[JSString(\"function () {\\n    var handler = (function (ko, koPunches) {\\n    ko.punches.enableAll();\\n    ko.bindingHandlers.numericValue = {\\n        init: function(element, valueAccessor, allBindings, data, context) {\\n            var stringified = ko.observable(ko.unwrap(valueAccessor()));\\n            stringified.subscribe(function(value) {\\n                var val = parseFloat(value);\\n                if (!isNaN(val)) {\\n                    valueAccessor()(val);\\n                }\\n            });\\n            valueAccessor().subscribe(function(value) {\\n                var str = JSON.stringify(value);\\n                if ((str == \\\"0\\\") && ([\\\"-0\\\", \\\"-0.\\\"].indexOf(stringified()) >= 0))\\n                     return;\\n                 if ([\\\"null\\\", \\\"\\\"].indexOf(str) >= 0)\\n                     return;\\n                stringified(str);\\n            });\\n            ko.applyBindingsToNode(\\n                element,\\n                {\\n                    value: stringified,\\n                    valueUpdate: allBindings.get('valueUpdate'),\\n                },\\n                context,\\n            );\\n        }\\n    };\\n    var json_data = {\\\"changes\\\":WebIO.getval({\\\"name\\\":\\\"changes\\\",\\\"scope\\\":\\\"6517840312886293633\\\",\\\"id\\\":\\\"ob_02\\\",\\\"type\\\":\\\"observable\\\"}),\\\"value\\\":WebIO.getval({\\\"name\\\":\\\"value\\\",\\\"scope\\\":\\\"6517840312886293633\\\",\\\"id\\\":\\\"ob_01\\\",\\\"type\\\":\\\"observable\\\"})};\\n    var self = this;\\n    function AppViewModel() {\\n        for (var key in json_data) {\\n            var el = json_data[key];\\n            this[key] = Array.isArray(el) ? ko.observableArray(el) : ko.observable(el);\\n        }\\n        \\n        \\n        [this[\\\"changes\\\"].subscribe((function (val){!(this.valueFromJulia[\\\"changes\\\"]) ? (WebIO.setval({\\\"name\\\":\\\"changes\\\",\\\"scope\\\":\\\"6517840312886293633\\\",\\\"id\\\":\\\"ob_02\\\",\\\"type\\\":\\\"observable\\\"},val)) : undefined; return this.valueFromJulia[\\\"changes\\\"]=false}),self),this[\\\"value\\\"].subscribe((function (val){!(this.valueFromJulia[\\\"value\\\"]) ? (WebIO.setval({\\\"name\\\":\\\"value\\\",\\\"scope\\\":\\\"6517840312886293633\\\",\\\"id\\\":\\\"ob_01\\\",\\\"type\\\":\\\"observable\\\"},val)) : undefined; return this.valueFromJulia[\\\"value\\\"]=false}),self)]\\n        \\n    }\\n    self.model = new AppViewModel();\\n    self.valueFromJulia = {};\\n    for (var key in json_data) {\\n        self.valueFromJulia[key] = false;\\n    }\\n    ko.applyBindings(self.model, self.dom);\\n}\\n);\\n    (WebIO.importBlock({\\\"data\\\":[{\\\"name\\\":\\\"knockout\\\",\\\"type\\\":\\\"js\\\",\\\"url\\\":\\\"/assetserver/3bd9b1de736b098e415b41735ebb66f92146af63-knockout.js\\\"},{\\\"name\\\":\\\"knockout_punches\\\",\\\"type\\\":\\\"js\\\",\\\"url\\\":\\\"/assetserver/f693c45e4673819d9631890b2dbb7b49bac52036-knockout_punches.js\\\"}],\\\"type\\\":\\\"async_block\\\"})).then((imports) => handler.apply(this, imports));\\n}\\n\")])], Dict{Symbol,Any}(:className=>\"field interact-widget\")), Node{DOM}(DOM(:html, :div), Any[Scope(Node{DOM}(DOM(:html, :button), Any[\"Save Plot\"], Dict{Symbol,Any}(:attributes=>Dict{Any,Any}(\"data-bind\"=>\"click: function (){this.clicks(this.clicks()+1)}, css: {'is-loading' : loading}\"),:className=>\"is-medium button is-primary\",:style=>Dict{String,Any}())), Dict{String,Tuple{Observables.AbstractObservable,Union{Nothing, Bool}}}(\"loading\"=>(Observable{Bool} with 1 listeners. Value:\n",
       "false, nothing),\"clicks\"=>(Observable{Int64} with 2 listeners. Value:\n",
       "0, nothing)), Set(String[]), nothing, Asset[Asset(\"js\", \"knockout\", \"/home/smkatz/.julia/packages/Knockout/1sDlc/src/../assets/knockout.js\"), Asset(\"js\", \"knockout_punches\", \"/home/smkatz/.julia/packages/Knockout/1sDlc/src/../assets/knockout_punches.js\"), Asset(\"js\", nothing, \"/home/smkatz/.julia/packages/InteractBase/l8cEC/src/../assets/all.js\"), Asset(\"css\", nothing, \"/home/smkatz/.julia/packages/InteractBase/l8cEC/src/../assets/style.css\"), Asset(\"css\", nothing, \"/home/smkatz/.julia/packages/Interact/0klKX/src/../assets/bulma_confined.min.css\")], Dict{Any,Any}(\"loading\"=>Any[JSString(\"(function (val){return (val!=this.model[\\\"loading\\\"]()) ? (this.valueFromJulia[\\\"loading\\\"]=true, this.model[\\\"loading\\\"](val)) : undefined})\")],\"clicks\"=>Any[JSString(\"(function (val){return (val!=this.model[\\\"clicks\\\"]()) ? (this.valueFromJulia[\\\"clicks\\\"]=true, this.model[\\\"clicks\\\"](val)) : undefined})\")]), ConnectionPool(Channel{Any}(sz_max:32,sz_curr:0), Set(AbstractConnection[]), Channel{AbstractConnection}(sz_max:32,sz_curr:0)), WebIO.JSString[JSString(\"function () {\\n    var handler = (function (ko, koPunches) {\\n    ko.punches.enableAll();\\n    ko.bindingHandlers.numericValue = {\\n        init: function(element, valueAccessor, allBindings, data, context) {\\n            var stringified = ko.observable(ko.unwrap(valueAccessor()));\\n            stringified.subscribe(function(value) {\\n                var val = parseFloat(value);\\n                if (!isNaN(val)) {\\n                    valueAccessor()(val);\\n                }\\n            });\\n            valueAccessor().subscribe(function(value) {\\n                var str = JSON.stringify(value);\\n                if ((str == \\\"0\\\") && ([\\\"-0\\\", \\\"-0.\\\"].indexOf(stringified()) >= 0))\\n                     return;\\n                 if ([\\\"null\\\", \\\"\\\"].indexOf(str) >= 0)\\n                     return;\\n                stringified(str);\\n            });\\n            ko.applyBindingsToNode(\\n                element,\\n                {\\n                    value: stringified,\\n                    valueUpdate: allBindings.get('valueUpdate'),\\n                },\\n                context,\\n            );\\n        }\\n    };\\n    var json_data = {\\\"loading\\\":WebIO.getval({\\\"name\\\":\\\"loading\\\",\\\"scope\\\":\\\"4072744720899215630\\\",\\\"id\\\":\\\"ob_05\\\",\\\"type\\\":\\\"observable\\\"}),\\\"clicks\\\":WebIO.getval({\\\"name\\\":\\\"clicks\\\",\\\"scope\\\":\\\"4072744720899215630\\\",\\\"id\\\":\\\"ob_04\\\",\\\"type\\\":\\\"observable\\\"})};\\n    var self = this;\\n    function AppViewModel() {\\n        for (var key in json_data) {\\n            var el = json_data[key];\\n            this[key] = Array.isArray(el) ? ko.observableArray(el) : ko.observable(el);\\n        }\\n        \\n        \\n        [this[\\\"loading\\\"].subscribe((function (val){!(this.valueFromJulia[\\\"loading\\\"]) ? (WebIO.setval({\\\"name\\\":\\\"loading\\\",\\\"scope\\\":\\\"4072744720899215630\\\",\\\"id\\\":\\\"ob_05\\\",\\\"type\\\":\\\"observable\\\"},val)) : undefined; return this.valueFromJulia[\\\"loading\\\"]=false}),self),this[\\\"clicks\\\"].subscribe((function (val){!(this.valueFromJulia[\\\"clicks\\\"]) ? (WebIO.setval({\\\"name\\\":\\\"clicks\\\",\\\"scope\\\":\\\"4072744720899215630\\\",\\\"id\\\":\\\"ob_04\\\",\\\"type\\\":\\\"observable\\\"},val)) : undefined; return this.valueFromJulia[\\\"clicks\\\"]=false}),self)]\\n        \\n    }\\n    self.model = new AppViewModel();\\n    self.valueFromJulia = {};\\n    for (var key in json_data) {\\n        self.valueFromJulia[key] = false;\\n    }\\n    ko.applyBindings(self.model, self.dom);\\n}\\n);\\n    (WebIO.importBlock({\\\"data\\\":[{\\\"name\\\":\\\"knockout\\\",\\\"type\\\":\\\"js\\\",\\\"url\\\":\\\"/assetserver/3bd9b1de736b098e415b41735ebb66f92146af63-knockout.js\\\"},{\\\"name\\\":\\\"knockout_punches\\\",\\\"type\\\":\\\"js\\\",\\\"url\\\":\\\"/assetserver/f693c45e4673819d9631890b2dbb7b49bac52036-knockout_punches.js\\\"}],\\\"type\\\":\\\"async_block\\\"})).then((imports) => handler.apply(this, imports));\\n}\\n\")])], Dict{Symbol,Any}(:className=>\"field interact-widget\")), Node{DOM}(DOM(:html, :div), Any[Scope(Node{DOM}(DOM(:html, :input), Any[], Dict{Symbol,Any}(:max=>30,:min=>1,:attributes=>Dict{Any,Any}(:type=>\"number\",Symbol(\"data-bind\")=>\"numericValue: value, valueUpdate: 'input', event: {change: function (){this.changes(this.changes()+1)}}\"),:step=>1,:placeholder=>\"\",:className=>\"input \",:style=>Dict{Any,Any}())), Dict{String,Tuple{Observables.AbstractObservable,Union{Nothing, Bool}}}(\"changes\"=>(Observable{Int64} with 1 listeners. Value:\n",
       "0, nothing),\"value\"=>(Observable{Union{Nothing, Int64}} with 2 listeners. Value:\n",
       "1, nothing)), Set(String[]), nothing, Asset[Asset(\"js\", \"knockout\", \"/home/smkatz/.julia/packages/Knockout/1sDlc/src/../assets/knockout.js\"), Asset(\"js\", \"knockout_punches\", \"/home/smkatz/.julia/packages/Knockout/1sDlc/src/../assets/knockout_punches.js\"), Asset(\"js\", nothing, \"/home/smkatz/.julia/packages/InteractBase/l8cEC/src/../assets/all.js\"), Asset(\"css\", nothing, \"/home/smkatz/.julia/packages/InteractBase/l8cEC/src/../assets/style.css\"), Asset(\"css\", nothing, \"/home/smkatz/.julia/packages/Interact/0klKX/src/../assets/bulma_confined.min.css\")], Dict{Any,Any}(\"changes\"=>Any[JSString(\"(function (val){return (val!=this.model[\\\"changes\\\"]()) ? (this.valueFromJulia[\\\"changes\\\"]=true, this.model[\\\"changes\\\"](val)) : undefined})\")],\"value\"=>Any[JSString(\"(function (val){return (val!=this.model[\\\"value\\\"]()) ? (this.valueFromJulia[\\\"value\\\"]=true, this.model[\\\"value\\\"](val)) : undefined})\")]), ConnectionPool(Channel{Any}(sz_max:32,sz_curr:0), Set(AbstractConnection[]), Channel{AbstractConnection}(sz_max:32,sz_curr:0)), WebIO.JSString[JSString(\"function () {\\n    var handler = (function (ko, koPunches) {\\n    ko.punches.enableAll();\\n    ko.bindingHandlers.numericValue = {\\n        init: function(element, valueAccessor, allBindings, data, context) {\\n            var stringified = ko.observable(ko.unwrap(valueAccessor()));\\n            stringified.subscribe(function(value) {\\n                var val = parseFloat(value);\\n                if (!isNaN(val)) {\\n                    valueAccessor()(val);\\n                }\\n            });\\n            valueAccessor().subscribe(function(value) {\\n                var str = JSON.stringify(value);\\n                if ((str == \\\"0\\\") && ([\\\"-0\\\", \\\"-0.\\\"].indexOf(stringified()) >= 0))\\n                     return;\\n                 if ([\\\"null\\\", \\\"\\\"].indexOf(str) >= 0)\\n                     return;\\n                stringified(str);\\n            });\\n            ko.applyBindingsToNode(\\n                element,\\n                {\\n                    value: stringified,\\n                    valueUpdate: allBindings.get('valueUpdate'),\\n                },\\n                context,\\n            );\\n        }\\n    };\\n    var json_data = {\\\"changes\\\":WebIO.getval({\\\"name\\\":\\\"changes\\\",\\\"scope\\\":\\\"7243953727319850096\\\",\\\"id\\\":\\\"ob_07\\\",\\\"type\\\":\\\"observable\\\"}),\\\"value\\\":WebIO.getval({\\\"name\\\":\\\"value\\\",\\\"scope\\\":\\\"7243953727319850096\\\",\\\"id\\\":\\\"ob_06\\\",\\\"type\\\":\\\"observable\\\"})};\\n    var self = this;\\n    function AppViewModel() {\\n        for (var key in json_data) {\\n            var el = json_data[key];\\n            this[key] = Array.isArray(el) ? ko.observableArray(el) : ko.observable(el);\\n        }\\n        \\n        \\n        [this[\\\"changes\\\"].subscribe((function (val){!(this.valueFromJulia[\\\"changes\\\"]) ? (WebIO.setval({\\\"name\\\":\\\"changes\\\",\\\"scope\\\":\\\"7243953727319850096\\\",\\\"id\\\":\\\"ob_07\\\",\\\"type\\\":\\\"observable\\\"},val)) : undefined; return this.valueFromJulia[\\\"changes\\\"]=false}),self),this[\\\"value\\\"].subscribe((function (val){!(this.valueFromJulia[\\\"value\\\"]) ? (WebIO.setval({\\\"name\\\":\\\"value\\\",\\\"scope\\\":\\\"7243953727319850096\\\",\\\"id\\\":\\\"ob_06\\\",\\\"type\\\":\\\"observable\\\"},val)) : undefined; return this.valueFromJulia[\\\"value\\\"]=false}),self)]\\n        \\n    }\\n    self.model = new AppViewModel();\\n    self.valueFromJulia = {};\\n    for (var key in json_data) {\\n        self.valueFromJulia[key] = false;\\n    }\\n    ko.applyBindings(self.model, self.dom);\\n}\\n);\\n    (WebIO.importBlock({\\\"data\\\":[{\\\"name\\\":\\\"knockout\\\",\\\"type\\\":\\\"js\\\",\\\"url\\\":\\\"/assetserver/3bd9b1de736b098e415b41735ebb66f92146af63-knockout.js\\\"},{\\\"name\\\":\\\"knockout_punches\\\",\\\"type\\\":\\\"js\\\",\\\"url\\\":\\\"/assetserver/f693c45e4673819d9631890b2dbb7b49bac52036-knockout_punches.js\\\"}],\\\"type\\\":\\\"async_block\\\"})).then((imports) => handler.apply(this, imports));\\n}\\n\")])], Dict{Symbol,Any}(:className=>\"field interact-widget\")), Node{DOM}(DOM(:html, :div), Any[Scope(Node{DOM}(DOM(:html, :div), Any[Node{DOM}(DOM(:html, :div), Any[Node{DOM}(DOM(:html, :label), Any[nothing], Dict{Symbol,Any}(:className=>\"interact \",:style=>Dict{Any,Any}(:padding=>\"5px 10px 0px 10px\")))], Dict{Symbol,Any}(:className=>\"interact-flex-row-left\")), Node{DOM}(DOM(:html, :div), Any[Node{DOM}(DOM(:html, :input), Any[], Dict{Symbol,Any}(:max=>121,:min=>1,:attributes=>Dict{Any,Any}(:type=>\"range\",Symbol(\"data-bind\")=>\"numericValue: index, valueUpdate: 'input', event: {change: function (){this.changes(this.changes()+1)}}\",\"orient\"=>\"horizontal\"),:step=>1,:className=>\"slider slider is-fullwidth\",:style=>Dict{Any,Any}()))], Dict{Symbol,Any}(:className=>\"interact-flex-row-center\")), Node{DOM}(DOM(:html, :div), Any[Node{DOM}(DOM(:html, :p), Any[], Dict{Symbol,Any}(:attributes=>Dict(\"data-bind\"=>\"text: formatted_val\")))], Dict{Symbol,Any}(:className=>\"interact-flex-row-right\"))], Dict{Symbol,Any}(:className=>\"interact-flex-row interact-widget\")), Dict{String,Tuple{Observables.AbstractObservable,Union{Nothing, Bool}}}(\"changes\"=>(Observable{Int64} with 1 listeners. Value:\n",
       "0, nothing),\"index\"=>(Observable{Any} with 2 listeners. Value:\n",
       "1, nothing)), Set(String[]), nothing, Asset[Asset(\"js\", \"knockout\", \"/home/smkatz/.julia/packages/Knockout/1sDlc/src/../assets/knockout.js\"), Asset(\"js\", \"knockout_punches\", \"/home/smkatz/.julia/packages/Knockout/1sDlc/src/../assets/knockout_punches.js\"), Asset(\"js\", nothing, \"/home/smkatz/.julia/packages/InteractBase/l8cEC/src/../assets/all.js\"), Asset(\"css\", nothing, \"/home/smkatz/.julia/packages/InteractBase/l8cEC/src/../assets/style.css\"), Asset(\"css\", nothing, \"/home/smkatz/.julia/packages/Interact/0klKX/src/../assets/bulma_confined.min.css\")], Dict{Any,Any}(\"changes\"=>Any[JSString(\"(function (val){return (val!=this.model[\\\"changes\\\"]()) ? (this.valueFromJulia[\\\"changes\\\"]=true, this.model[\\\"changes\\\"](val)) : undefined})\")],\"index\"=>Any[JSString(\"(function (val){return (val!=this.model[\\\"index\\\"]()) ? (this.valueFromJulia[\\\"index\\\"]=true, this.model[\\\"index\\\"](val)) : undefined})\")]), ConnectionPool(Channel{Any}(sz_max:32,sz_curr:0), Set(AbstractConnection[]), Channel{AbstractConnection}(sz_max:32,sz_curr:0)), WebIO.JSString[JSString(\"function () {\\n    var handler = (function (ko, koPunches) {\\n    ko.punches.enableAll();\\n    ko.bindingHandlers.numericValue = {\\n        init: function(element, valueAccessor, allBindings, data, context) {\\n            var stringified = ko.observable(ko.unwrap(valueAccessor()));\\n            stringified.subscribe(function(value) {\\n                var val = parseFloat(value);\\n                if (!isNaN(val)) {\\n                    valueAccessor()(val);\\n                }\\n            });\\n            valueAccessor().subscribe(function(value) {\\n                var str = JSON.stringify(value);\\n                if ((str == \\\"0\\\") && ([\\\"-0\\\", \\\"-0.\\\"].indexOf(stringified()) >= 0))\\n                     return;\\n                 if ([\\\"null\\\", \\\"\\\"].indexOf(str) >= 0)\\n                     return;\\n                stringified(str);\\n            });\\n            ko.applyBindingsToNode(\\n                element,\\n                {\\n                    value: stringified,\\n                    valueUpdate: allBindings.get('valueUpdate'),\\n                },\\n                context,\\n            );\\n        }\\n    };\\n    var json_data = {\\\"formatted_vals\\\":[\\\"0.0\\\",\\\"1.0\\\",\\\"2.0\\\",\\\"3.0\\\",\\\"4.0\\\",\\\"5.0\\\",\\\"6.0\\\",\\\"7.0\\\",\\\"8.0\\\",\\\"9.0\\\",\\\"10.0\\\",\\\"11.0\\\",\\\"12.0\\\",\\\"13.0\\\",\\\"14.0\\\",\\\"15.0\\\",\\\"16.0\\\",\\\"17.0\\\",\\\"18.0\\\",\\\"19.0\\\",\\\"20.0\\\",\\\"21.0\\\",\\\"22.0\\\",\\\"23.0\\\",\\\"24.0\\\",\\\"25.0\\\",\\\"26.0\\\",\\\"27.0\\\",\\\"28.0\\\",\\\"29.0\\\",\\\"30.0\\\",\\\"31.0\\\",\\\"32.0\\\",\\\"33.0\\\",\\\"34.0\\\",\\\"35.0\\\",\\\"36.0\\\",\\\"37.0\\\",\\\"38.0\\\",\\\"39.0\\\",\\\"40.0\\\",\\\"41.0\\\",\\\"42.0\\\",\\\"43.0\\\",\\\"44.0\\\",\\\"45.0\\\",\\\"46.0\\\",\\\"47.0\\\",\\\"48.0\\\",\\\"49.0\\\",\\\"50.0\\\",\\\"51.0\\\",\\\"52.0\\\",\\\"53.0\\\",\\\"54.0\\\",\\\"55.0\\\",\\\"56.0\\\",\\\"57.0\\\",\\\"58.0\\\",\\\"59.0\\\",\\\"60.0\\\",\\\"61.0\\\",\\\"62.0\\\",\\\"63.0\\\",\\\"64.0\\\",\\\"65.0\\\",\\\"66.0\\\",\\\"67.0\\\",\\\"68.0\\\",\\\"69.0\\\",\\\"70.0\\\",\\\"71.0\\\",\\\"72.0\\\",\\\"73.0\\\",\\\"74.0\\\",\\\"75.0\\\",\\\"76.0\\\",\\\"77.0\\\",\\\"78.0\\\",\\\"79.0\\\",\\\"80.0\\\",\\\"81.0\\\",\\\"82.0\\\",\\\"83.0\\\",\\\"84.0\\\",\\\"85.0\\\",\\\"86.0\\\",\\\"87.0\\\",\\\"88.0\\\",\\\"89.0\\\",\\\"90.0\\\",\\\"91.0\\\",\\\"92.0\\\",\\\"93.0\\\",\\\"94.0\\\",\\\"95.0\\\",\\\"96.0\\\",\\\"97.0\\\",\\\"98.0\\\",\\\"99.0\\\",\\\"100.0\\\",\\\"101.0\\\",\\\"102.0\\\",\\\"103.0\\\",\\\"104.0\\\",\\\"105.0\\\",\\\"106.0\\\",\\\"107.0\\\",\\\"108.0\\\",\\\"109.0\\\",\\\"110.0\\\",\\\"111.0\\\",\\\"112.0\\\",\\\"113.0\\\",\\\"114.0\\\",\\\"115.0\\\",\\\"116.0\\\",\\\"117.0\\\",\\\"118.0\\\",\\\"119.0\\\",\\\"120.0\\\"],\\\"changes\\\":WebIO.getval({\\\"name\\\":\\\"changes\\\",\\\"scope\\\":\\\"6951983681891165989\\\",\\\"id\\\":\\\"ob_10\\\",\\\"type\\\":\\\"observable\\\"}),\\\"index\\\":WebIO.getval({\\\"name\\\":\\\"index\\\",\\\"scope\\\":\\\"6951983681891165989\\\",\\\"id\\\":\\\"ob_09\\\",\\\"type\\\":\\\"observable\\\"})};\\n    var self = this;\\n    function AppViewModel() {\\n        for (var key in json_data) {\\n            var el = json_data[key];\\n            this[key] = Array.isArray(el) ? ko.observableArray(el) : ko.observable(el);\\n        }\\n        \\n        [this[\\\"formatted_val\\\"]=ko.computed(    function(){\\n        return this.formatted_vals()[parseInt(this.index())-(1)];\\n    }\\n,this)]\\n        [this[\\\"changes\\\"].subscribe((function (val){!(this.valueFromJulia[\\\"changes\\\"]) ? (WebIO.setval({\\\"name\\\":\\\"changes\\\",\\\"scope\\\":\\\"6951983681891165989\\\",\\\"id\\\":\\\"ob_10\\\",\\\"type\\\":\\\"observable\\\"},val)) : undefined; return this.valueFromJulia[\\\"changes\\\"]=false}),self),this[\\\"index\\\"].subscribe((function (val){!(this.valueFromJulia[\\\"index\\\"]) ? (WebIO.setval({\\\"name\\\":\\\"index\\\",\\\"scope\\\":\\\"6951983681891165989\\\",\\\"id\\\":\\\"ob_09\\\",\\\"type\\\":\\\"observable\\\"},val)) : undefined; return this.valueFromJulia[\\\"index\\\"]=false}),self)]\\n        \\n    }\\n    self.model = new AppViewModel();\\n    self.valueFromJulia = {};\\n    for (var key in json_data) {\\n        self.valueFromJulia[key] = false;\\n    }\\n    ko.applyBindings(self.model, self.dom);\\n}\\n);\\n    (WebIO.importBlock({\\\"data\\\":[{\\\"name\\\":\\\"knockout\\\",\\\"type\\\":\\\"js\\\",\\\"url\\\":\\\"/assetserver/3bd9b1de736b098e415b41735ebb66f92146af63-knockout.js\\\"},{\\\"name\\\":\\\"knockout_punches\\\",\\\"type\\\":\\\"js\\\",\\\"url\\\":\\\"/assetserver/f693c45e4673819d9631890b2dbb7b49bac52036-knockout_punches.js\\\"}],\\\"type\\\":\\\"async_block\\\"})).then((imports) => handler.apply(this, imports));\\n}\\n\")])], Dict{Symbol,Any}(:className=>\"field interact-widget\")), Observable{Any} with 0 listeners. Value:\n",
       "Node{DOM}(DOM(:html, :div), Any[GroupPlot(Axis[Axis(PGFPlots.Plots.Plot[Image(\"tmp_10000000000001.png\", -2, 2, -2, 2, 0.0, 2.0, nothing, false, nothing, RGBArrayMap(RGB{Float64}[RGB{Float64}(1.0,1.0,1.0)], 0x0000000000000000), nothing), Node(\"Horizontal Range: 8309\", nothing, 0, -0.82, nothing)], nothing, nothing, nothing, nothing, nothing, nothing, nothing, nothing, nothing, nothing, nothing, nothing, nothing, nothing, nothing, nothing, \"10 cm\", \"2cm\", nothing, nothing, nothing, nothing, nothing, nothing, nothing, true, nothing, \"axis\"), Axis(PGFPlots.Plots.Plot[Image(\"tmp_10000000000002.png\", -2, 2, -2, 2, 0.0, 2.0, nothing, false, nothing, RGBArrayMap(RGB{Float64}[RGB{Float64}(1.0,1.0,1.0)], 0x0000000000000000), nothing), Node(\"Vertical Range: 154.9\", nothing, 0, -0.82, nothing)], nothing, nothing, nothing, nothing, nothing, nothing, nothing, nothing, nothing, nothing, nothing, nothing, nothing, nothing, nothing, nothing, \"10 cm\", \"2cm\", nothing, nothing, nothing, nothing, nothing, nothing, nothing, true, nothing, \"axis\"), Axis(PGFPlots.Plots.Plot[Linear(Real[-2903.99 -2857.89 … 1757.67 1780.13; 0.0 0.0 … 0.0 0.0], \"none\", nothing, \"black\", nothing, nothing, nothing), Linear(Real[-371.516 -369.253 … 1691.31 1709.96; -22.3705 -23.7226 … 106.351 107.971], \"none\", nothing, \"black\", nothing, nothing, nothing), Command(\"\\\\node[aircraft top,fill=teal,draw=white, minimum width=1.5cm,rotate=0.0,scale = 0.30] at (axis cs:-2903.987628798224, 0.0) {};\"), Command(\"\\\\node[aircraft top,fill=black,draw=white, minimum width=1.5cm,rotate=-33.87768541911994,scale = 0.30] at (axis cs:-371.51599185916325, -22.370494553649394) {};\"), Scatter(Any[-2903.99 -2857.89 … 1757.67 1780.13; 0.0 0.0 … 0.0 0.0; \"ra_1\" \"ra_1\" … \"ra_1\" \"ra_1\"], nothing, nothing, nothing, nothing, true, [\"ra_1={mark=none},ra_2={mark=o,blue},ra_3={mark=o,red},ra_4={mark=halfcircle*,red},ra_5={mark=*,red}\"]), Scatter(Any[-371.516 -369.253 … 1691.31 1709.96; -22.3705 -23.7226 … 106.351 107.971; \"ra_1\" \"ra_1\" … \"ra_1\" \"ra_1\"], nothing, nothing, nothing, nothing, true, [\"ra_1={mark=none},ra_2={mark=o,blue},ra_3={mark=o,red},ra_4={mark=halfcircle*,red},ra_5={mark=*,red}\"])], \"Ground Track\", \"East (m)\", nothing, \"North (m)\", nothing, nothing, nothing, nothing, nothing, nothing, nothing, true, nothing, nothing, nothing, nothing, nothing, nothing, nothing, nothing, nothing, nothing, nothing, nothing, nothing, nothing, nothing, \"axis\"), Axis(PGFPlots.Plots.Plot[Linear(Real[0.0 1.0 … 119.0 120.0; 329.625 329.625 … 990.041 997.541], \"none\", nothing, \"black\", nothing, nothing, nothing), Linear(Real[0.0 1.0 … 119.0 120.0; 484.527 484.76 … 219.973 216.338], \"none\", nothing, \"black\", nothing, nothing, nothing), Command(\"\\\\node[aircraft side,fill=teal,draw=white, minimum width=1.5cm,rotate=0,scale = 0.3] at (axis cs:0.0, 329.6247910625132) {};\"), Command(\"\\\\node[aircraft side,fill=black,draw=white, minimum width=1.5cm,rotate=0,scale = 0.3] at (axis cs:0.0, 484.52724409486825) {};\"), Scatter(Any[0.0 1.0 … 119.0 120.0; 329.625 329.625 … 990.041 997.541; \"ra_1\" \"ra_1\" … \"ra_1\" \"ra_1\"], nothing, nothing, nothing, nothing, true, [\"ra_1={mark=none},ra_2={mark=o,blue},ra_3={mark=o,red},ra_4={mark=halfcircle*,red},ra_5={mark=*,red}\"]), Scatter(Any[0.0 1.0 … 119.0 120.0; 484.527 484.76 … 219.973 216.338; \"ra_1\" \"ra_1\" … \"ra_1\" \"ra_1\"], nothing, nothing, nothing, nothing, true, [\"ra_1={mark=none},ra_2={mark=o,blue},ra_3={mark=o,red},ra_4={mark=halfcircle*,red},ra_5={mark=*,red}\"])], \"Vertical Profile\", \"Time (s)\", nothing, \"Altitude (ft)\", nothing, nothing, nothing, nothing, nothing, nothing, nothing, nothing, nothing, nothing, nothing, nothing, nothing, nothing, nothing, nothing, nothing, nothing, nothing, nothing, nothing, nothing, nothing, \"axis\")], (2, 2), nothing, \"horizontal sep=2cm, vertical sep=2cm\")], Dict{Symbol,Any}(:className=>\"interact-flex-row interact-widget\"))], Dict{Symbol,Any}())"
      ]
     },
     "execution_count": 5,
     "metadata": {
      "application/vnd.webio.node+json": {
       "kernelId": "0474d85e-333d-45b3-b3dd-d4df5784e0b0"
      }
     },
     "output_type": "execute_result"
    }
   ],
   "source": [
    "encounter_viewer(sim.sim_out)"
   ]
  },
  {
   "cell_type": "code",
   "execution_count": 12,
   "metadata": {},
   "outputs": [
    {
     "name": "stdout",
     "output_type": "stream",
     "text": [
      "(sim.sim_out).nmacs = 195\n",
      "(sim.sim_out).alerts = 4970\n"
     ]
    },
    {
     "data": {
      "text/plain": [
       "4970"
      ]
     },
     "execution_count": 12,
     "metadata": {},
     "output_type": "execute_result"
    }
   ],
   "source": [
    "@show sim.sim_out.nmacs\n",
    "@show sim.sim_out.alerts"
   ]
  },
  {
   "cell_type": "code",
   "execution_count": 13,
   "metadata": {},
   "outputs": [],
   "source": [
    "sim_inds = sim.sim_out.nmac_inds;"
   ]
  },
  {
   "cell_type": "code",
   "execution_count": 35,
   "metadata": {},
   "outputs": [
    {
     "data": {
      "text/plain": [
       "195-element Array{Int64,1}:\n",
       "   21\n",
       "   23\n",
       "   52\n",
       "   59\n",
       "   98\n",
       "  135\n",
       "  136\n",
       "  270\n",
       "  395\n",
       "  413\n",
       "  435\n",
       "  491\n",
       "  522\n",
       "    ⋮\n",
       " 4690\n",
       " 4720\n",
       " 4730\n",
       " 4786\n",
       " 4794\n",
       " 4805\n",
       " 4896\n",
       " 4914\n",
       " 4942\n",
       " 4945\n",
       " 4960\n",
       " 4965"
      ]
     },
     "execution_count": 35,
     "metadata": {},
     "output_type": "execute_result"
    }
   ],
   "source": [
    "sim_inds"
   ]
  },
  {
   "cell_type": "code",
   "execution_count": null,
   "metadata": {},
   "outputs": [],
   "source": []
  }
 ],
 "metadata": {
  "@webio": {
   "lastCommId": "de0b035e001942c38a7c15fb626243e0",
   "lastKernelId": "0474d85e-333d-45b3-b3dd-d4df5784e0b0"
  },
  "kernelspec": {
<<<<<<< HEAD
   "display_name": "Julia 1.0.0",
   "language": "julia",
   "name": "julia-1.0"
=======
   "display_name": "Julia 1.1.0",
   "language": "julia",
   "name": "julia-1.1"
>>>>>>> fe48b89615b880692b0fcc29f92355b1da188cdc
  },
  "language_info": {
   "file_extension": ".jl",
   "mimetype": "application/julia",
   "name": "julia",
<<<<<<< HEAD
   "version": "1.0.0"
=======
   "version": "1.1.0"
>>>>>>> fe48b89615b880692b0fcc29f92355b1da188cdc
  }
 },
 "nbformat": 4,
 "nbformat_minor": 2
}
