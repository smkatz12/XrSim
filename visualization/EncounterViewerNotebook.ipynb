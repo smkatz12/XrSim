{
 "cells": [
  {
   "cell_type": "code",
   "execution_count": 37,
   "metadata": {},
   "outputs": [],
   "source": [
    "using Random\n",
    "include(\"../src/Xr.jl\");"
   ]
  },
  {
   "cell_type": "code",
   "execution_count": 39,
   "metadata": {},
   "outputs": [
    {
     "name": "stdout",
     "output_type": "stream",
     "text": [
      "0\n",
      "MDP_STATE(521.852029968007, 9.655511805071317, -2.6906508707941157, 0, 1044.5963262365813)\n",
      "0\n",
      "MDP_STATE(506.4148770744341, 16.660176907221132, -1.8679662040590301, 0, 562.2956649461928)\n",
      "0\n",
      "MDP_STATE(488.3008960860321, 16.51645298569249, -1.183365879831399, 0, 343.9704898323073)\n",
      "0\n",
      "MDP_STATE(470.2159076837977, 16.353303636376854, -2.116854302568072, 0, 210.88591073785477)\n",
      "0\n",
      "MDP_STATE(451.9383740424244, 16.170729379705303, -1.91417996409632, 0, 140.60501643542278)\n",
      "0\n",
      "MDP_STATE(434.40718173646434, 15.968731202667641, -1.0087440654508555, 0, 105.42822597951555)\n",
      "0\n",
      "MDP_STATE(417.6454855046639, 15.747311258762302, -0.7986059367201506, 0, 86.72241304691245)\n",
      "0\n",
      "MDP_STATE(400.154106158485, 15.506473987581627, -2.9303675092937738, 0, 75.39519470952045)\n",
      "0\n",
      "MDP_STATE(381.89938806670074, 15.25247838313635, -2.820116303556688, 0, 67.01075513991685)\n",
      "0\n",
      "MDP_STATE(364.5622728705216, 14.998482565486064, -1.6031531401790744, 0, 59.71400017842663)\n",
      "0\n",
      "MDP_STATE(348.14803518950396, 14.744486628829247, -1.4823530275409667, 0, 53.18277064483376)\n",
      "0\n",
      "MDP_STATE(332.47783032500627, 14.490490638381493, -0.6230794342436639, 0, 47.61631432529977)\n",
      "0\n",
      "MDP_STATE(317.11631956225415, 14.236494636663876, -1.3729568162152646, 0, 42.89490660282423)\n",
      "0\n",
      "MDP_STATE(300.6464166381937, 13.982498652600665, -3.347855742641059, 0, 38.801143449302806)\n",
      "0\n",
      "MDP_STATE(283.0809815915027, 13.728502707892273, -4.07201299024814, 0, 35.151524659431395)\n",
      "0\n",
      "MDP_STATE(266.13405098281896, 13.474506819789699, -2.6188386994372195, 0, 31.879726575148933)\n",
      "0\n",
      "MDP_STATE(250.08300546924997, 13.220511001715835, -2.7882345061952947, 0, 28.939235457273156)\n",
      "0\n",
      "MDP_STATE(234.2247199061503, 12.966515262813033, -2.741310355475207, 0, 26.26921059010943)\n",
      "0\n",
      "MDP_STATE(219.37197835984, 12.712519606634151, -1.2851378676982677, 0, 23.864474594958015)\n",
      "0\n",
      "MDP_STATE(204.685102322401, 12.458524029160971, -2.9175705713846583, 0, 21.54545558199449)\n",
      "0\n",
      "MDP_STATE(188.46543104834484, 12.204528517708289, -4.858719429858411, 0, 19.32830917209137)\n",
      "0\n",
      "MDP_STATE(171.91942347107965, 11.950533054297447, -4.078234152666255, 0, 17.4686304301538)\n",
      "0\n",
      "MDP_STATE(155.9741168594682, 11.6965376262402, -4.165308390018936, 0, 15.845051639602115)\n",
      "0\n",
      "MDP_STATE(139.86658476671113, 11.442542238124963, -4.910675931130072, 0, 14.26407240705339)\n",
      "0\n",
      "MDP_STATE(124.37968807188895, 11.188546907724103, -3.4320283126651248, 0, 12.714481766579553)\n",
      "0\n",
      "MDP_STATE(110.64023745112553, 10.934551637845548, -1.9237743832920842, 0, 11.189267962860015)\n",
      "0\n",
      "MDP_STATE(97.8222919410739, 10.680556390865238, -2.0970086081003956, 0, 9.715521795094508)\n",
      "0\n",
      "MDP_STATE(84.43511326904405, 10.426561093746859, -3.570231251347195, 0, 8.406695916877876)\n",
      "0\n",
      "MDP_STATE(70.66960902377298, 10.172565672883671, -3.3616504725644063, 0, 7.247302416895878)\n",
      "0\n",
      "MDP_STATE(58.129142593344454, 9.918570110064744, -1.6281466053442273, 0, 6.100385898339468)\n",
      "0\n",
      "MDP_STATE(46.83279148409429, 9.664574467952285, -1.381411035139081, 0, 4.9315987308395055)\n",
      "0\n",
      "MDP_STATE(35.40072642839499, 9.410578842477232, -2.407565765829986, 0, 3.790069505268315)\n",
      "0\n",
      "MDP_STATE(23.998481108467445, 9.1565832788878, -1.8297627526601445, 0, 2.6742397252280967)\n",
      "0\n",
      "MDP_STATE(13.936177566471201, 8.902587715325424, -0.23567333711912397, 0, 1.5879203078976822)\n",
      "0\n",
      "MDP_STATE(4.915721308879085, 8.648591980702223, -0.25405948203751905, 0, 0.5468098887505852)\n",
      "0\n",
      "MDP_STATE(-3.8113849479854025, 8.394595827612388, -0.15696522337680108, 0, 0.0)\n",
      "0\n",
      "MDP_STATE(-12.236803930488747, 8.140599013481678, -0.1586779005358494, 0, 0.0)\n",
      "0\n",
      "MDP_STATE(-20.463737777966912, 7.886601510744591, -0.2679892701942208, 0, 0.0)\n",
      "2\n",
      "MDP_STATE(-28.610859057176242, 7.886601510744591, -0.2530502667352721, 2, 0.0)\n",
      "0\n",
      "MDP_STATE(-36.77047204263067, 7.886601510744591, -0.29297268268442167, 0, 0.0)\n",
      "2\n",
      "MDP_STATE(-44.975861153990365, 7.886601510744591, -0.3446025185457984, 2, 0.0)\n",
      "0\n",
      "MDP_STATE(-53.17816766519866, 7.886601510744591, -0.2868074823816187, 0, 0.0)\n",
      "2\n",
      "MDP_STATE(-61.28388206304663, 7.886601510744591, -0.1514182918251663, 2, Inf)\n",
      "0\n",
      "MDP_STATE(-69.3169640411395, 7.886601510744591, -0.14154264287139995, 0, Inf)\n",
      "1\n",
      "MDP_STATE(-75.19650466364328, 3.6137348090968526, -0.11720228229455643, 1, Inf)\n",
      "0\n",
      "MDP_STATE(-78.91295124947214, 3.6137348090968526, -0.08822127116945921, 0, Inf)\n",
      "0\n",
      "MDP_STATE(-82.56732450349818, 3.6137348090968526, 0.006944381311086545, 0, Inf)\n",
      "0\n",
      "MDP_STATE(-86.111369876195, 3.6137348090968526, 0.13243449148899344, 0, Inf)\n",
      "0\n",
      "MDP_STATE(-89.57746928377992, 3.6137348090968526, 0.16283631153487477, 0, Inf)\n",
      "0\n",
      "MDP_STATE(-93.00005252566655, 3.6137348090968526, 0.21946682288557895, 0, Inf)\n",
      "0\n",
      "MDP_STATE(-96.3710474113933, 3.6137348090968526, 0.2660130238546117, 0, Inf)\n",
      "0\n",
      "MDP_STATE(-99.78353846271739, 3.6137348090968526, 0.13647449169093306, 0, Inf)\n",
      "0\n",
      "MDP_STATE(-103.32903602596878, 3.6137348090968526, 0.0, 0, Inf)\n",
      "0\n",
      "MDP_STATE(-106.94277083506563, 3.6137348090968526, 0.0, 0, Inf)\n",
      "0\n",
      "MDP_STATE(-110.55650564416248, 3.6137348090968526, 0.0, 0, Inf)\n",
      "0\n",
      "MDP_STATE(-114.17024045325934, 3.6137348090968526, 0.0, 0, Inf)\n",
      "0\n",
      "MDP_STATE(-117.691907368996, 3.6137348090968526, 0.18413578672038966, 0, Inf)\n",
      "0\n",
      "MDP_STATE(-121.07849482138545, 3.6137348090968526, 0.2701589266944211, 0, Inf)\n",
      "0\n",
      "MDP_STATE(-124.51413859714808, 3.6137348090968526, 0.08602313997403144, 0, Inf)\n",
      "0\n",
      "MDP_STATE(-128.08486183625791, 3.6137348090968526, 0.0, 0, Inf)\n",
      "0\n",
      "MDP_STATE(-131.67782236874166, 3.6137348090968526, 0.041548553226220974, 0, Inf)\n",
      "0\n",
      "MDP_STATE(-135.17545766075318, 3.6137348090968526, 0.19065048094444137, 0, Inf)\n",
      "0\n",
      "MDP_STATE(-138.581994973875, 3.6137348090968526, 0.2237445110056342, 0, Inf)\n",
      "0\n",
      "MDP_STATE(-141.9473683726992, 3.6137348090968526, 0.27297830953966695, 0, Inf)\n",
      "0\n",
      "MDP_STATE(-145.22714110453694, 3.6137348090968526, 0.3949458449785652, 0, Inf)\n",
      "0\n",
      "MDP_STATE(-148.44560946248237, 3.6137348090968526, 0.3955870573242919, 0, Inf)\n",
      "0\n",
      "MDP_STATE(-151.67232826402505, 3.6137348090968526, 0.3784449577840405, 0, Inf)\n",
      "0\n",
      "MDP_STATE(-154.98769045066842, 3.6137348090968526, 0.21830028712292915, 0, Inf)\n",
      "0\n",
      "MDP_STATE(-158.40631569171148, 3.6137348090968526, 0.17191884898466014, 0, Inf)\n",
      "0\n",
      "MDP_STATE(-161.78343043422353, 3.6137348090968526, 0.30132128418495085, 0, Inf)\n",
      "0\n",
      "MDP_STATE(-165.06066235208505, 3.6137348090968526, 0.371684498285731, 0, Inf)\n",
      "0\n",
      "MDP_STATE(-168.30129436489597, 3.6137348090968526, 0.37452109428613767, 0, Inf)\n",
      "0\n",
      "MDP_STATE(-171.60899604639428, 3.6137348090968526, 0.23754516091094047, 0, Inf)\n",
      "0\n",
      "MDP_STATE(-175.03211715486896, 3.6137348090968526, 0.14368224033341903, 0, Inf)\n",
      "0\n",
      "MDP_STATE(-178.5011775610485, 3.6137348090968526, 0.1456665655011875, 0, Inf)\n",
      "0\n",
      "MDP_STATE(-181.98154382207304, 3.6137348090968526, 0.12107053064346474, 0, Inf)\n",
      "0\n",
      "MDP_STATE(-185.4185772376544, 3.6137348090968526, 0.2323322563875081, 0, Inf)\n",
      "0\n",
      "MDP_STATE(-188.78351650818797, 3.6137348090968526, 0.2652588207390636, 0, Inf)\n",
      "0\n",
      "MDP_STATE(-192.22185245288836, 3.6137348090968526, 0.0855389080538771, 0, Inf)\n",
      "0\n",
      "MDP_STATE(-195.79281780795827, 3.6137348090968526, 0.0, 0, Inf)\n",
      "0\n",
      "MDP_STATE(-199.40655261705513, 3.6137348090968526, 0.0, 0, Inf)\n",
      "0\n",
      "MDP_STATE(-203.02028742615198, 3.6137348090968526, 0.0, 0, Inf)\n",
      "0\n",
      "MDP_STATE(-206.63402223524884, 3.6137348090968526, 0.0, 0, Inf)\n",
      "0\n",
      "MDP_STATE(-210.2477570443457, 3.6137348090968526, 0.0, 0, Inf)\n",
      "0\n",
      "MDP_STATE(-213.86149185344254, 3.6137348090968526, 0.0, 0, Inf)\n",
      "0\n",
      "MDP_STATE(-217.4752266625394, 3.6137348090968526, 0.0, 0, Inf)\n",
      "0\n",
      "MDP_STATE(-221.08896147163625, 3.6137348090968526, 0.0, 0, Inf)\n",
      "0\n",
      "MDP_STATE(-224.7026962807331, 3.6137348090968526, 0.0, 0, Inf)\n",
      "0\n",
      "MDP_STATE(-228.31643108982996, 3.6137348090968526, 0.0, 0, Inf)\n",
      "0\n",
      "MDP_STATE(-231.93016589892682, 3.6137348090968526, 0.0, 0, Inf)\n",
      "0\n",
      "MDP_STATE(-235.54390070802367, 3.6137348090968526, 0.0, 0, Inf)\n",
      "0\n",
      "MDP_STATE(-239.15763551712053, 3.6137348090968526, 0.0, 0, Inf)\n",
      "0\n",
      "MDP_STATE(-242.80263030440767, 3.6137348090968526, -0.06251995638058361, 0, Inf)\n",
      "0\n",
      "MDP_STATE(-246.4788850698851, 3.6137348090968526, -0.06251995638058361, 0, Inf)\n",
      "0\n",
      "MDP_STATE(-250.12387985717226, 3.6137348090968526, 0.0, 0, Inf)\n",
      "0\n",
      "MDP_STATE(-253.7376146662691, 3.6137348090968526, 0.0, 0, Inf)\n",
      "0\n",
      "MDP_STATE(-257.35134947536596, 3.6137348090968526, 0.0, 0, Inf)\n",
      "0\n",
      "MDP_STATE(-260.9650842844628, 3.6137348090968526, 0.0, 0, Inf)\n",
      "0\n",
      "MDP_STATE(-264.5788190935597, 3.6137348090968526, 0.0, 0, Inf)\n",
      "0\n",
      "MDP_STATE(-268.1925539026565, 3.6137348090968526, 0.0, 0, Inf)\n",
      "0\n",
      "MDP_STATE(-271.8062887117534, 3.6137348090968526, 0.0, 0, Inf)\n",
      "0\n",
      "MDP_STATE(-275.42002352085024, 3.6137348090968526, 0.0, 0, Inf)\n",
      "0\n",
      "MDP_STATE(-279.0337583299471, 3.6137348090968526, 0.0, 0, Inf)\n",
      "0\n",
      "MDP_STATE(-282.64749313904395, 3.6137348090968526, 0.0, 0, Inf)\n",
      "0\n",
      "MDP_STATE(-286.2612279481408, 3.6137348090968526, 0.0, 0, Inf)\n",
      "0\n",
      "MDP_STATE(-289.87496275723765, 3.6137348090968526, 0.0, 0, Inf)\n",
      "0\n",
      "MDP_STATE(-293.4886975663345, 3.6137348090968526, 0.0, 0, Inf)\n",
      "0\n",
      "MDP_STATE(-297.10243237543136, 3.6137348090968526, 0.0, 0, Inf)\n",
      "0\n",
      "MDP_STATE(-300.7161671845282, 3.6137348090968526, 0.0, 0, Inf)\n",
      "0\n",
      "MDP_STATE(-304.32990199362507, 3.6137348090968526, 0.0, 0, Inf)\n",
      "0\n",
      "MDP_STATE(-307.9436368027219, 3.6137348090968526, 0.0, 0, Inf)\n",
      "0\n",
      "MDP_STATE(-311.5573716118188, 3.6137348090968526, 0.0, 0, Inf)\n",
      "0\n",
      "MDP_STATE(-315.17110642091563, 3.6137348090968526, 0.0, 0, Inf)\n",
      "0\n",
      "MDP_STATE(-318.7848412300125, 3.6137348090968526, 0.0, 0, Inf)\n",
      "0\n",
      "MDP_STATE(-322.39857603910934, 3.6137348090968526, 0.0, 0, Inf)\n",
      "0\n",
      "MDP_STATE(-326.0123108482062, 3.6137348090968526, 0.0, 0, Inf)\n",
      "0\n",
      "MDP_STATE(-329.62604565730305, 3.6137348090968526, 0.0, 0, Inf)\n",
      "0\n",
      "MDP_STATE(-333.2397804663999, 3.6137348090968526, 0.0, 0, Inf)\n",
      "0\n",
      "MDP_STATE(-336.85351527549676, 3.6137348090968526, 0.0, 0, Inf)\n",
      "0\n",
      "MDP_STATE(-340.4672500845936, 3.6137348090968526, 0.0, 0, Inf)\n"
     ]
    }
   ],
   "source": [
    "Random.seed!(24)\n",
    "sim = simulation()\n",
    "sim.enc_file = \"../data_files/uam_hd.bin\"\n",
    "# sim.sim_out = small_simulation_output()\n",
    "# sim.acs[1] = heuristic_vert()\n",
    "# sim.acs[2] = heuristic_vert()\n",
    "sim.acs[1] = uam_vert(q_file = \"../data_files/test.bin\")\n",
    "# sim.acs[2] = uam_vert(q_file = \"../data_files/closeness_noRev.bin\")\n",
    "xr_sim!(sim, [sim_inds[3]]);\n",
    "# xr_sim!(sim, sim_inds);"
   ]
  },
  {
   "cell_type": "code",
   "execution_count": 6,
   "metadata": {},
   "outputs": [
    {
     "data": {
      "text/html": [
       "<script>\n",
       "// Immediately-invoked-function-expression to avoid global variables.\n",
       "(function() {\n",
       "    var warning_div = document.getElementById(\"webio-warning-6119899593230524837\");\n",
       "    var hide = function () {\n",
       "        var script = document.getElementById(\"webio-setup-16751199971925076330\");\n",
       "        var parent = script && script.parentElement;\n",
       "        var grandparent = parent && parent.parentElement;\n",
       "        if (grandparent) {\n",
       "            grandparent.style.display = \"none\";\n",
       "        }\n",
       "        warning_div.style.display = \"none\";\n",
       "    };\n",
       "    if (typeof Jupyter !== \"undefined\") {\n",
       "        console.log(\"WebIO detected Jupyter notebook environment.\");\n",
       "        // Jupyter notebook.\n",
       "        var extensions = (\n",
       "            Jupyter\n",
       "            && Jupyter.notebook.config.data\n",
       "            && Jupyter.notebook.config.data.load_extensions\n",
       "        );\n",
       "        if (extensions && extensions[\"webio/main\"]) {\n",
       "            // Extension already loaded.\n",
       "            console.log(\"Jupyter WebIO nbextension detected; not loading ad-hoc.\");\n",
       "            hide();\n",
       "            return;\n",
       "        }\n",
       "        console.warn(\"Loading WebIO Jupyter extension on an ad-hoc basis. Consider enabling the WebIO nbextension for a stabler experience (this should happen automatically when building WebIO).\");\n",
       "        warning_div.innerHTML = \"<strong>Loading WebIO Jupyter extension on an ad-hoc basis. Consider enabling the WebIO nbextension for a stabler experience (this should happen automatically when building WebIO).</strong>\";\n",
       "    } else if (window.location.pathname.includes(\"/lab\")) {\n",
       "        // Guessing JupyterLa\n",
       "        console.log(\"Jupyter Lab detected; make sure the @webio/jupyter-lab-provider labextension is installed.\");\n",
       "        hide();\n",
       "        return;\n",
       "    }\n",
       "})();\n",
       "\n",
       "</script>\n",
       "<p\n",
       "    id=\"webio-warning-6119899593230524837\"\n",
       "    class=\"output_text output_stderr\"\n",
       "    style=\"padding: 1em; font-weight: bold;\"\n",
       ">\n",
       "    Unable to load WebIO. Please make sure WebIO works for your Jupyter client.\n",
       "    For troubleshooting, please see <a href=\"https://juliagizmos.github.io/WebIO.jl/latest/providers/ijulia/\">\n",
       "    the WebIO/IJulia documentation</a>.\n",
       "    <!-- TODO: link to installation docs. -->\n",
       "</p>\n"
      ],
      "text/plain": [
       "HTML{String}(\"<script>\\n// Immediately-invoked-function-expression to avoid global variables.\\n(function() {\\n    var warning_div = document.getElementById(\\\"webio-warning-6119899593230524837\\\");\\n    var hide = function () {\\n        var script = document.getElementById(\\\"webio-setup-16751199971925076330\\\");\\n        var parent = script && script.parentElement;\\n        var grandparent = parent && parent.parentElement;\\n        if (grandparent) {\\n            grandparent.style.display = \\\"none\\\";\\n        }\\n        warning_div.style.display = \\\"none\\\";\\n    };\\n    if (typeof Jupyter !== \\\"undefined\\\") {\\n        console.log(\\\"WebIO detected Jupyter notebook environment.\\\");\\n        // Jupyter notebook.\\n        var extensions = (\\n            Jupyter\\n            && Jupyter.notebook.config.data\\n            && Jupyter.notebook.config.data.load_extensions\\n        );\\n        if (extensions && extensions[\\\"webio/main\\\"]) {\\n            // Extension already loaded.\\n            console.log(\\\"Jupyter WebIO nbextension detected; not loading ad-hoc.\\\");\\n            hide();\\n            return;\\n        }\\n        console.warn(\\\"Loading WebIO Jupyter extension on an ad-hoc basis. Consider enabling the WebIO nbextension for a stabler experience (this should happen automatically when building WebIO).\\\");\\n        warning_div.innerHTML = \\\"<strong>Loading WebIO Jupyter extension on an ad-hoc basis. Consider enabling the WebIO nbextension for a stabler experience (this should happen automatically when building WebIO).</strong>\\\";\\n    } else if (window.location.pathname.includes(\\\"/lab\\\")) {\\n        // Guessing JupyterLa\\n        console.log(\\\"Jupyter Lab detected; make sure the @webio/jupyter-lab-provider labextension is installed.\\\");\\n        hide();\\n        return;\\n    }\\n})();\\n\\n</script>\\n<p\\n    id=\\\"webio-warning-6119899593230524837\\\"\\n    class=\\\"output_text output_stderr\\\"\\n    style=\\\"padding: 1em; font-weight: bold;\\\"\\n>\\n    Unable to load WebIO. Please make sure WebIO works for your Jupyter client.\\n    For troubleshooting, please see <a href=\\\"https://juliagizmos.github.io/WebIO.jl/latest/providers/ijulia/\\\">\\n    the WebIO/IJulia documentation</a>.\\n    <!-- TODO: link to installation docs. -->\\n</p>\\n\")"
      ]
     },
     "metadata": {},
     "output_type": "display_data"
    }
   ],
   "source": [
    "include(\"UAMEncounterViewer.jl\");"
   ]
  },
  {
   "cell_type": "code",
   "execution_count": 40,
   "metadata": {
    "scrolled": false
   },
   "outputs": [
    {
     "data": {
      "application/vnd.webio.node+json": {
       "children": [
        {
         "children": [
          {
           "children": [
            {
             "children": [
              {
               "children": [
                {
                 "children": [
                  "File Name"
                 ],
                 "instanceArgs": {
                  "namespace": "html",
                  "tag": "label"
                 },
                 "nodeType": "DOM",
                 "props": {
                  "className": "interact ",
                  "style": {
                   "padding": "5px 10px 0px 10px"
                  }
                 },
                 "type": "node"
                }
               ],
               "instanceArgs": {
                "namespace": "html",
                "tag": "div"
               },
               "nodeType": "DOM",
               "props": {
                "className": "interact-flex-row-left"
               },
               "type": "node"
              },
              {
               "children": [
                {
                 "children": [],
                 "instanceArgs": {
                  "namespace": "html",
                  "tag": "input"
                 },
                 "nodeType": "DOM",
                 "props": {
                  "attributes": {
                   "data-bind": "value: value, valueUpdate: 'input', event: {change: function (){this.changes(this.changes()+1)}}",
                   "type": "text"
                  },
                  "className": "input ",
                  "placeholder": "",
                  "style": {}
                 },
                 "type": "node"
                }
               ],
               "instanceArgs": {
                "namespace": "html",
                "tag": "div"
               },
               "nodeType": "DOM",
               "props": {
                "className": "interact-flex-row-center"
               },
               "type": "node"
              },
              {
               "children": [
                {
                 "children": [],
                 "instanceArgs": {
                  "namespace": "html",
                  "tag": "div"
                 },
                 "nodeType": "DOM",
                 "props": {},
                 "type": "node"
                }
               ],
               "instanceArgs": {
                "namespace": "html",
                "tag": "div"
               },
               "nodeType": "DOM",
               "props": {
                "className": "interact-flex-row-right"
               },
               "type": "node"
              }
             ],
             "instanceArgs": {
              "namespace": "html",
              "tag": "div"
             },
             "nodeType": "DOM",
             "props": {
              "className": "interact-flex-row interact-widget"
             },
             "type": "node"
            }
           ],
           "instanceArgs": {
            "handlers": {
             "changes": [
              "(function (val){return (val!=this.model[\"changes\"]()) ? (this.valueFromJulia[\"changes\"]=true, this.model[\"changes\"](val)) : undefined})"
             ],
             "value": [
              "(function (val){return (val!=this.model[\"value\"]()) ? (this.valueFromJulia[\"value\"]=true, this.model[\"value\"](val)) : undefined})"
             ]
            },
            "id": "3885522224790275325",
            "imports": {
             "data": [
              {
               "name": "knockout",
               "type": "js",
               "url": "/assetserver/3bd9b1de736b098e415b41735ebb66f92146af63-knockout.js"
              },
              {
               "name": "knockout_punches",
               "type": "js",
               "url": "/assetserver/f693c45e4673819d9631890b2dbb7b49bac52036-knockout_punches.js"
              },
              {
               "name": null,
               "type": "js",
               "url": "/assetserver/dadd00ee86bab68922605b4c34c155a51b0e2466-all.js"
              },
              {
               "name": null,
               "type": "css",
               "url": "/assetserver/783bf076fab44d74d9ad020ce784f4d35b2c125e-style.css"
              },
              {
               "name": null,
               "type": "css",
               "url": "/assetserver/81f83aa7d914707240f02251f8f73fd02ba8c8be-bulma_confined.min.css"
              }
             ],
             "type": "async_block"
            },
            "mount_callbacks": [
             "function () {\n    var handler = (function (ko, koPunches) {\n    ko.punches.enableAll();\n    ko.bindingHandlers.numericValue = {\n        init: function(element, valueAccessor, allBindings, data, context) {\n            var stringified = ko.observable(ko.unwrap(valueAccessor()));\n            stringified.subscribe(function(value) {\n                var val = parseFloat(value);\n                if (!isNaN(val)) {\n                    valueAccessor()(val);\n                }\n            });\n            valueAccessor().subscribe(function(value) {\n                var str = JSON.stringify(value);\n                if ((str == \"0\") && ([\"-0\", \"-0.\"].indexOf(stringified()) >= 0))\n                     return;\n                 if ([\"null\", \"\"].indexOf(str) >= 0)\n                     return;\n                stringified(str);\n            });\n            ko.applyBindingsToNode(\n                element,\n                {\n                    value: stringified,\n                    valueUpdate: allBindings.get('valueUpdate'),\n                },\n                context,\n            );\n        }\n    };\n    var json_data = {\"changes\":WebIO.getval({\"name\":\"changes\",\"scope\":\"3885522224790275325\",\"id\":\"ob_114\",\"type\":\"observable\"}),\"value\":WebIO.getval({\"name\":\"value\",\"scope\":\"3885522224790275325\",\"id\":\"ob_113\",\"type\":\"observable\"})};\n    var self = this;\n    function AppViewModel() {\n        for (var key in json_data) {\n            var el = json_data[key];\n            this[key] = Array.isArray(el) ? ko.observableArray(el) : ko.observable(el);\n        }\n        \n        \n        [this[\"changes\"].subscribe((function (val){!(this.valueFromJulia[\"changes\"]) ? (WebIO.setval({\"name\":\"changes\",\"scope\":\"3885522224790275325\",\"id\":\"ob_114\",\"type\":\"observable\"},val)) : undefined; return this.valueFromJulia[\"changes\"]=false}),self),this[\"value\"].subscribe((function (val){!(this.valueFromJulia[\"value\"]) ? (WebIO.setval({\"name\":\"value\",\"scope\":\"3885522224790275325\",\"id\":\"ob_113\",\"type\":\"observable\"},val)) : undefined; return this.valueFromJulia[\"value\"]=false}),self)]\n        \n    }\n    self.model = new AppViewModel();\n    self.valueFromJulia = {};\n    for (var key in json_data) {\n        self.valueFromJulia[key] = false;\n    }\n    ko.applyBindings(self.model, self.dom);\n}\n);\n    (WebIO.importBlock({\"data\":[{\"name\":\"knockout\",\"type\":\"js\",\"url\":\"/assetserver/3bd9b1de736b098e415b41735ebb66f92146af63-knockout.js\"},{\"name\":\"knockout_punches\",\"type\":\"js\",\"url\":\"/assetserver/f693c45e4673819d9631890b2dbb7b49bac52036-knockout_punches.js\"}],\"type\":\"async_block\"})).then((imports) => handler.apply(this, imports));\n}\n"
            ],
            "observables": {
             "changes": {
              "id": "ob_114",
              "sync": true,
              "value": 0
             },
             "value": {
              "id": "ob_113",
              "sync": false,
              "value": "myFile.pdf"
             }
            },
            "systemjs_options": null
           },
           "nodeType": "Scope",
           "props": {},
           "type": "node"
          }
         ],
         "instanceArgs": {
          "namespace": "html",
          "tag": "div"
         },
         "nodeType": "DOM",
         "props": {
          "className": "field interact-widget"
         },
         "type": "node"
        },
        {
         "children": [
          {
           "children": [
            {
             "children": [
              "Save Plot"
             ],
             "instanceArgs": {
              "namespace": "html",
              "tag": "button"
             },
             "nodeType": "DOM",
             "props": {
              "attributes": {
               "data-bind": "click: function (){this.clicks(this.clicks()+1)}, css: {'is-loading' : loading}"
              },
              "className": "is-medium button is-primary",
              "style": {}
             },
             "type": "node"
            }
           ],
           "instanceArgs": {
            "handlers": {
             "clicks": [
              "(function (val){return (val!=this.model[\"clicks\"]()) ? (this.valueFromJulia[\"clicks\"]=true, this.model[\"clicks\"](val)) : undefined})"
             ],
             "loading": [
              "(function (val){return (val!=this.model[\"loading\"]()) ? (this.valueFromJulia[\"loading\"]=true, this.model[\"loading\"](val)) : undefined})"
             ]
            },
            "id": "13147499323947302510",
            "imports": {
             "data": [
              {
               "name": "knockout",
               "type": "js",
               "url": "/assetserver/3bd9b1de736b098e415b41735ebb66f92146af63-knockout.js"
              },
              {
               "name": "knockout_punches",
               "type": "js",
               "url": "/assetserver/f693c45e4673819d9631890b2dbb7b49bac52036-knockout_punches.js"
              },
              {
               "name": null,
               "type": "js",
               "url": "/assetserver/dadd00ee86bab68922605b4c34c155a51b0e2466-all.js"
              },
              {
               "name": null,
               "type": "css",
               "url": "/assetserver/783bf076fab44d74d9ad020ce784f4d35b2c125e-style.css"
              },
              {
               "name": null,
               "type": "css",
               "url": "/assetserver/81f83aa7d914707240f02251f8f73fd02ba8c8be-bulma_confined.min.css"
              }
             ],
             "type": "async_block"
            },
            "mount_callbacks": [
             "function () {\n    var handler = (function (ko, koPunches) {\n    ko.punches.enableAll();\n    ko.bindingHandlers.numericValue = {\n        init: function(element, valueAccessor, allBindings, data, context) {\n            var stringified = ko.observable(ko.unwrap(valueAccessor()));\n            stringified.subscribe(function(value) {\n                var val = parseFloat(value);\n                if (!isNaN(val)) {\n                    valueAccessor()(val);\n                }\n            });\n            valueAccessor().subscribe(function(value) {\n                var str = JSON.stringify(value);\n                if ((str == \"0\") && ([\"-0\", \"-0.\"].indexOf(stringified()) >= 0))\n                     return;\n                 if ([\"null\", \"\"].indexOf(str) >= 0)\n                     return;\n                stringified(str);\n            });\n            ko.applyBindingsToNode(\n                element,\n                {\n                    value: stringified,\n                    valueUpdate: allBindings.get('valueUpdate'),\n                },\n                context,\n            );\n        }\n    };\n    var json_data = {\"loading\":WebIO.getval({\"name\":\"loading\",\"scope\":\"13147499323947302510\",\"id\":\"ob_117\",\"type\":\"observable\"}),\"clicks\":WebIO.getval({\"name\":\"clicks\",\"scope\":\"13147499323947302510\",\"id\":\"ob_116\",\"type\":\"observable\"})};\n    var self = this;\n    function AppViewModel() {\n        for (var key in json_data) {\n            var el = json_data[key];\n            this[key] = Array.isArray(el) ? ko.observableArray(el) : ko.observable(el);\n        }\n        \n        \n        [this[\"loading\"].subscribe((function (val){!(this.valueFromJulia[\"loading\"]) ? (WebIO.setval({\"name\":\"loading\",\"scope\":\"13147499323947302510\",\"id\":\"ob_117\",\"type\":\"observable\"},val)) : undefined; return this.valueFromJulia[\"loading\"]=false}),self),this[\"clicks\"].subscribe((function (val){!(this.valueFromJulia[\"clicks\"]) ? (WebIO.setval({\"name\":\"clicks\",\"scope\":\"13147499323947302510\",\"id\":\"ob_116\",\"type\":\"observable\"},val)) : undefined; return this.valueFromJulia[\"clicks\"]=false}),self)]\n        \n    }\n    self.model = new AppViewModel();\n    self.valueFromJulia = {};\n    for (var key in json_data) {\n        self.valueFromJulia[key] = false;\n    }\n    ko.applyBindings(self.model, self.dom);\n}\n);\n    (WebIO.importBlock({\"data\":[{\"name\":\"knockout\",\"type\":\"js\",\"url\":\"/assetserver/3bd9b1de736b098e415b41735ebb66f92146af63-knockout.js\"},{\"name\":\"knockout_punches\",\"type\":\"js\",\"url\":\"/assetserver/f693c45e4673819d9631890b2dbb7b49bac52036-knockout_punches.js\"}],\"type\":\"async_block\"})).then((imports) => handler.apply(this, imports));\n}\n"
            ],
            "observables": {
             "clicks": {
              "id": "ob_116",
              "sync": true,
              "value": 0
             },
             "loading": {
              "id": "ob_117",
              "sync": false,
              "value": false
             }
            },
            "systemjs_options": null
           },
           "nodeType": "Scope",
           "props": {},
           "type": "node"
          }
         ],
         "instanceArgs": {
          "namespace": "html",
          "tag": "div"
         },
         "nodeType": "DOM",
         "props": {
          "className": "field interact-widget"
         },
         "type": "node"
        },
        {
         "children": [
          {
           "children": [
            {
             "children": [],
             "instanceArgs": {
              "namespace": "html",
              "tag": "input"
             },
             "nodeType": "DOM",
             "props": {
              "attributes": {
               "data-bind": "numericValue: value, valueUpdate: 'input', event: {change: function (){this.changes(this.changes()+1)}}",
               "type": "number"
              },
              "className": "input ",
              "max": 1,
              "min": 1,
              "placeholder": "",
              "step": 1,
              "style": {}
             },
             "type": "node"
            }
           ],
           "instanceArgs": {
            "handlers": {
             "changes": [
              "(function (val){return (val!=this.model[\"changes\"]()) ? (this.valueFromJulia[\"changes\"]=true, this.model[\"changes\"](val)) : undefined})"
             ],
             "value": [
              "(function (val){return (val!=this.model[\"value\"]()) ? (this.valueFromJulia[\"value\"]=true, this.model[\"value\"](val)) : undefined})"
             ]
            },
            "id": "15722608533670762903",
            "imports": {
             "data": [
              {
               "name": "knockout",
               "type": "js",
               "url": "/assetserver/3bd9b1de736b098e415b41735ebb66f92146af63-knockout.js"
              },
              {
               "name": "knockout_punches",
               "type": "js",
               "url": "/assetserver/f693c45e4673819d9631890b2dbb7b49bac52036-knockout_punches.js"
              },
              {
               "name": null,
               "type": "js",
               "url": "/assetserver/dadd00ee86bab68922605b4c34c155a51b0e2466-all.js"
              },
              {
               "name": null,
               "type": "css",
               "url": "/assetserver/783bf076fab44d74d9ad020ce784f4d35b2c125e-style.css"
              },
              {
               "name": null,
               "type": "css",
               "url": "/assetserver/81f83aa7d914707240f02251f8f73fd02ba8c8be-bulma_confined.min.css"
              }
             ],
             "type": "async_block"
            },
            "mount_callbacks": [
             "function () {\n    var handler = (function (ko, koPunches) {\n    ko.punches.enableAll();\n    ko.bindingHandlers.numericValue = {\n        init: function(element, valueAccessor, allBindings, data, context) {\n            var stringified = ko.observable(ko.unwrap(valueAccessor()));\n            stringified.subscribe(function(value) {\n                var val = parseFloat(value);\n                if (!isNaN(val)) {\n                    valueAccessor()(val);\n                }\n            });\n            valueAccessor().subscribe(function(value) {\n                var str = JSON.stringify(value);\n                if ((str == \"0\") && ([\"-0\", \"-0.\"].indexOf(stringified()) >= 0))\n                     return;\n                 if ([\"null\", \"\"].indexOf(str) >= 0)\n                     return;\n                stringified(str);\n            });\n            ko.applyBindingsToNode(\n                element,\n                {\n                    value: stringified,\n                    valueUpdate: allBindings.get('valueUpdate'),\n                },\n                context,\n            );\n        }\n    };\n    var json_data = {\"changes\":WebIO.getval({\"name\":\"changes\",\"scope\":\"15722608533670762903\",\"id\":\"ob_119\",\"type\":\"observable\"}),\"value\":WebIO.getval({\"name\":\"value\",\"scope\":\"15722608533670762903\",\"id\":\"ob_118\",\"type\":\"observable\"})};\n    var self = this;\n    function AppViewModel() {\n        for (var key in json_data) {\n            var el = json_data[key];\n            this[key] = Array.isArray(el) ? ko.observableArray(el) : ko.observable(el);\n        }\n        \n        \n        [this[\"changes\"].subscribe((function (val){!(this.valueFromJulia[\"changes\"]) ? (WebIO.setval({\"name\":\"changes\",\"scope\":\"15722608533670762903\",\"id\":\"ob_119\",\"type\":\"observable\"},val)) : undefined; return this.valueFromJulia[\"changes\"]=false}),self),this[\"value\"].subscribe((function (val){!(this.valueFromJulia[\"value\"]) ? (WebIO.setval({\"name\":\"value\",\"scope\":\"15722608533670762903\",\"id\":\"ob_118\",\"type\":\"observable\"},val)) : undefined; return this.valueFromJulia[\"value\"]=false}),self)]\n        \n    }\n    self.model = new AppViewModel();\n    self.valueFromJulia = {};\n    for (var key in json_data) {\n        self.valueFromJulia[key] = false;\n    }\n    ko.applyBindings(self.model, self.dom);\n}\n);\n    (WebIO.importBlock({\"data\":[{\"name\":\"knockout\",\"type\":\"js\",\"url\":\"/assetserver/3bd9b1de736b098e415b41735ebb66f92146af63-knockout.js\"},{\"name\":\"knockout_punches\",\"type\":\"js\",\"url\":\"/assetserver/f693c45e4673819d9631890b2dbb7b49bac52036-knockout_punches.js\"}],\"type\":\"async_block\"})).then((imports) => handler.apply(this, imports));\n}\n"
            ],
            "observables": {
             "changes": {
              "id": "ob_119",
              "sync": false,
              "value": 0
             },
             "value": {
              "id": "ob_118",
              "sync": true,
              "value": 1
             }
            },
            "systemjs_options": null
           },
           "nodeType": "Scope",
           "props": {},
           "type": "node"
          }
         ],
         "instanceArgs": {
          "namespace": "html",
          "tag": "div"
         },
         "nodeType": "DOM",
         "props": {
          "className": "field interact-widget"
         },
         "type": "node"
        },
        {
         "children": [
          {
           "children": [
            {
             "children": [
              {
               "children": [
                {
                 "children": [
                  ""
                 ],
                 "instanceArgs": {
                  "namespace": "html",
                  "tag": "label"
                 },
                 "nodeType": "DOM",
                 "props": {
                  "className": "interact ",
                  "style": {
                   "padding": "5px 10px 0px 10px"
                  }
                 },
                 "type": "node"
                }
               ],
               "instanceArgs": {
                "namespace": "html",
                "tag": "div"
               },
               "nodeType": "DOM",
               "props": {
                "className": "interact-flex-row-left"
               },
               "type": "node"
              },
              {
               "children": [
                {
                 "children": [],
                 "instanceArgs": {
                  "namespace": "html",
                  "tag": "input"
                 },
                 "nodeType": "DOM",
                 "props": {
                  "attributes": {
                   "data-bind": "numericValue: index, valueUpdate: 'input', event: {change: function (){this.changes(this.changes()+1)}}",
                   "orient": "horizontal",
                   "type": "range"
                  },
                  "className": "slider slider is-fullwidth",
                  "max": 121,
                  "min": 1,
                  "step": 1,
                  "style": {}
                 },
                 "type": "node"
                }
               ],
               "instanceArgs": {
                "namespace": "html",
                "tag": "div"
               },
               "nodeType": "DOM",
               "props": {
                "className": "interact-flex-row-center"
               },
               "type": "node"
              },
              {
               "children": [
                {
                 "children": [],
                 "instanceArgs": {
                  "namespace": "html",
                  "tag": "p"
                 },
                 "nodeType": "DOM",
                 "props": {
                  "attributes": {
                   "data-bind": "text: formatted_val"
                  }
                 },
                 "type": "node"
                }
               ],
               "instanceArgs": {
                "namespace": "html",
                "tag": "div"
               },
               "nodeType": "DOM",
               "props": {
                "className": "interact-flex-row-right"
               },
               "type": "node"
              }
             ],
             "instanceArgs": {
              "namespace": "html",
              "tag": "div"
             },
             "nodeType": "DOM",
             "props": {
              "className": "interact-flex-row interact-widget"
             },
             "type": "node"
            }
           ],
           "instanceArgs": {
            "handlers": {
             "changes": [
              "(function (val){return (val!=this.model[\"changes\"]()) ? (this.valueFromJulia[\"changes\"]=true, this.model[\"changes\"](val)) : undefined})"
             ],
             "index": [
              "(function (val){return (val!=this.model[\"index\"]()) ? (this.valueFromJulia[\"index\"]=true, this.model[\"index\"](val)) : undefined})"
             ]
            },
            "id": "8202417867022841954",
            "imports": {
             "data": [
              {
               "name": "knockout",
               "type": "js",
               "url": "/assetserver/3bd9b1de736b098e415b41735ebb66f92146af63-knockout.js"
              },
              {
               "name": "knockout_punches",
               "type": "js",
               "url": "/assetserver/f693c45e4673819d9631890b2dbb7b49bac52036-knockout_punches.js"
              },
              {
               "name": null,
               "type": "js",
               "url": "/assetserver/dadd00ee86bab68922605b4c34c155a51b0e2466-all.js"
              },
              {
               "name": null,
               "type": "css",
               "url": "/assetserver/783bf076fab44d74d9ad020ce784f4d35b2c125e-style.css"
              },
              {
               "name": null,
               "type": "css",
               "url": "/assetserver/81f83aa7d914707240f02251f8f73fd02ba8c8be-bulma_confined.min.css"
              }
             ],
             "type": "async_block"
            },
            "mount_callbacks": [
             "function () {\n    var handler = (function (ko, koPunches) {\n    ko.punches.enableAll();\n    ko.bindingHandlers.numericValue = {\n        init: function(element, valueAccessor, allBindings, data, context) {\n            var stringified = ko.observable(ko.unwrap(valueAccessor()));\n            stringified.subscribe(function(value) {\n                var val = parseFloat(value);\n                if (!isNaN(val)) {\n                    valueAccessor()(val);\n                }\n            });\n            valueAccessor().subscribe(function(value) {\n                var str = JSON.stringify(value);\n                if ((str == \"0\") && ([\"-0\", \"-0.\"].indexOf(stringified()) >= 0))\n                     return;\n                 if ([\"null\", \"\"].indexOf(str) >= 0)\n                     return;\n                stringified(str);\n            });\n            ko.applyBindingsToNode(\n                element,\n                {\n                    value: stringified,\n                    valueUpdate: allBindings.get('valueUpdate'),\n                },\n                context,\n            );\n        }\n    };\n    var json_data = {\"formatted_vals\":[\"0.0\",\"1.0\",\"2.0\",\"3.0\",\"4.0\",\"5.0\",\"6.0\",\"7.0\",\"8.0\",\"9.0\",\"10.0\",\"11.0\",\"12.0\",\"13.0\",\"14.0\",\"15.0\",\"16.0\",\"17.0\",\"18.0\",\"19.0\",\"20.0\",\"21.0\",\"22.0\",\"23.0\",\"24.0\",\"25.0\",\"26.0\",\"27.0\",\"28.0\",\"29.0\",\"30.0\",\"31.0\",\"32.0\",\"33.0\",\"34.0\",\"35.0\",\"36.0\",\"37.0\",\"38.0\",\"39.0\",\"40.0\",\"41.0\",\"42.0\",\"43.0\",\"44.0\",\"45.0\",\"46.0\",\"47.0\",\"48.0\",\"49.0\",\"50.0\",\"51.0\",\"52.0\",\"53.0\",\"54.0\",\"55.0\",\"56.0\",\"57.0\",\"58.0\",\"59.0\",\"60.0\",\"61.0\",\"62.0\",\"63.0\",\"64.0\",\"65.0\",\"66.0\",\"67.0\",\"68.0\",\"69.0\",\"70.0\",\"71.0\",\"72.0\",\"73.0\",\"74.0\",\"75.0\",\"76.0\",\"77.0\",\"78.0\",\"79.0\",\"80.0\",\"81.0\",\"82.0\",\"83.0\",\"84.0\",\"85.0\",\"86.0\",\"87.0\",\"88.0\",\"89.0\",\"90.0\",\"91.0\",\"92.0\",\"93.0\",\"94.0\",\"95.0\",\"96.0\",\"97.0\",\"98.0\",\"99.0\",\"100.0\",\"101.0\",\"102.0\",\"103.0\",\"104.0\",\"105.0\",\"106.0\",\"107.0\",\"108.0\",\"109.0\",\"110.0\",\"111.0\",\"112.0\",\"113.0\",\"114.0\",\"115.0\",\"116.0\",\"117.0\",\"118.0\",\"119.0\",\"120.0\"],\"changes\":WebIO.getval({\"name\":\"changes\",\"scope\":\"8202417867022841954\",\"id\":\"ob_122\",\"type\":\"observable\"}),\"index\":WebIO.getval({\"name\":\"index\",\"scope\":\"8202417867022841954\",\"id\":\"ob_121\",\"type\":\"observable\"})};\n    var self = this;\n    function AppViewModel() {\n        for (var key in json_data) {\n            var el = json_data[key];\n            this[key] = Array.isArray(el) ? ko.observableArray(el) : ko.observable(el);\n        }\n        \n        [this[\"formatted_val\"]=ko.computed(    function(){\n        return this.formatted_vals()[parseInt(this.index())-(1)];\n    }\n,this)]\n        [this[\"changes\"].subscribe((function (val){!(this.valueFromJulia[\"changes\"]) ? (WebIO.setval({\"name\":\"changes\",\"scope\":\"8202417867022841954\",\"id\":\"ob_122\",\"type\":\"observable\"},val)) : undefined; return this.valueFromJulia[\"changes\"]=false}),self),this[\"index\"].subscribe((function (val){!(this.valueFromJulia[\"index\"]) ? (WebIO.setval({\"name\":\"index\",\"scope\":\"8202417867022841954\",\"id\":\"ob_121\",\"type\":\"observable\"},val)) : undefined; return this.valueFromJulia[\"index\"]=false}),self)]\n        \n    }\n    self.model = new AppViewModel();\n    self.valueFromJulia = {};\n    for (var key in json_data) {\n        self.valueFromJulia[key] = false;\n    }\n    ko.applyBindings(self.model, self.dom);\n}\n);\n    (WebIO.importBlock({\"data\":[{\"name\":\"knockout\",\"type\":\"js\",\"url\":\"/assetserver/3bd9b1de736b098e415b41735ebb66f92146af63-knockout.js\"},{\"name\":\"knockout_punches\",\"type\":\"js\",\"url\":\"/assetserver/f693c45e4673819d9631890b2dbb7b49bac52036-knockout_punches.js\"}],\"type\":\"async_block\"})).then((imports) => handler.apply(this, imports));\n}\n"
            ],
            "observables": {
             "changes": {
              "id": "ob_122",
              "sync": false,
              "value": 0
             },
             "index": {
              "id": "ob_121",
              "sync": true,
              "value": 1
             }
            },
            "systemjs_options": null
           },
           "nodeType": "Scope",
           "props": {},
           "type": "node"
          }
         ],
         "instanceArgs": {
          "namespace": "html",
          "tag": "div"
         },
         "nodeType": "DOM",
         "props": {
          "className": "field interact-widget"
         },
         "type": "node"
        },
        {
         "children": [
          {
           "children": [],
           "instanceArgs": {
            "id": "ob_128",
            "name": "obs-node"
           },
           "nodeType": "ObservableNode",
           "props": {},
           "type": "node"
          }
         ],
         "instanceArgs": {
          "handlers": {},
          "id": "9938363244932322017",
          "imports": {
           "data": [],
           "type": "async_block"
          },
          "mount_callbacks": [],
          "observables": {
           "obs-node": {
            "id": "ob_128",
            "sync": false,
            "value": {
             "children": [
              {
               "children": [],
               "instanceArgs": {
                "namespace": "html",
                "tag": "div"
               },
               "nodeType": "DOM",
               "props": {
                "setInnerHtml": ""
               },
               "type": "node"
              }
             ],
             "instanceArgs": {
              "namespace": "html",
              "tag": "div"
             },
             "nodeType": "DOM",
             "props": {
              "className": "interact-flex-row interact-widget"
             },
             "type": "node"
            }
           }
          },
          "systemjs_options": null
         },
         "nodeType": "Scope",
         "props": {},
         "type": "node"
        }
       ],
       "instanceArgs": {
        "namespace": "html",
        "tag": "div"
       },
       "nodeType": "DOM",
       "props": {},
       "type": "node"
      },
      "text/html": [
       "<div\n",
       "    class=\"webio-mountpoint\"\n",
       "    data-webio-mountpoint=\"8135699345017388908\"\n",
       ">\n",
       "    <script>\n",
       "    if (window.require && require.defined && require.defined(\"nbextensions/webio/main\")) {\n",
       "        console.log(\"Jupyter WebIO extension detected, not mounting.\");\n",
       "    } else if (window.WebIO) {\n",
       "        WebIO.mount(\n",
       "            document.querySelector('[data-webio-mountpoint=\"8135699345017388908\"]'),\n",
       "            {\"props\":{},\"nodeType\":\"DOM\",\"type\":\"node\",\"instanceArgs\":{\"namespace\":\"html\",\"tag\":\"div\"},\"children\":[{\"props\":{\"className\":\"field interact-widget\"},\"nodeType\":\"DOM\",\"type\":\"node\",\"instanceArgs\":{\"namespace\":\"html\",\"tag\":\"div\"},\"children\":[{\"props\":{},\"nodeType\":\"Scope\",\"type\":\"node\",\"instanceArgs\":{\"imports\":{\"data\":[{\"name\":\"knockout\",\"type\":\"js\",\"url\":\"\\/assetserver\\/3bd9b1de736b098e415b41735ebb66f92146af63-knockout.js\"},{\"name\":\"knockout_punches\",\"type\":\"js\",\"url\":\"\\/assetserver\\/f693c45e4673819d9631890b2dbb7b49bac52036-knockout_punches.js\"},{\"name\":null,\"type\":\"js\",\"url\":\"\\/assetserver\\/dadd00ee86bab68922605b4c34c155a51b0e2466-all.js\"},{\"name\":null,\"type\":\"css\",\"url\":\"\\/assetserver\\/783bf076fab44d74d9ad020ce784f4d35b2c125e-style.css\"},{\"name\":null,\"type\":\"css\",\"url\":\"\\/assetserver\\/81f83aa7d914707240f02251f8f73fd02ba8c8be-bulma_confined.min.css\"}],\"type\":\"async_block\"},\"id\":\"3885522224790275325\",\"handlers\":{\"changes\":[\"(function (val){return (val!=this.model[\\\"changes\\\"]()) ? (this.valueFromJulia[\\\"changes\\\"]=true, this.model[\\\"changes\\\"](val)) : undefined})\"],\"value\":[\"(function (val){return (val!=this.model[\\\"value\\\"]()) ? (this.valueFromJulia[\\\"value\\\"]=true, this.model[\\\"value\\\"](val)) : undefined})\"]},\"systemjs_options\":null,\"mount_callbacks\":[\"function () {\\n    var handler = (function (ko, koPunches) {\\n    ko.punches.enableAll();\\n    ko.bindingHandlers.numericValue = {\\n        init: function(element, valueAccessor, allBindings, data, context) {\\n            var stringified = ko.observable(ko.unwrap(valueAccessor()));\\n            stringified.subscribe(function(value) {\\n                var val = parseFloat(value);\\n                if (!isNaN(val)) {\\n                    valueAccessor()(val);\\n                }\\n            });\\n            valueAccessor().subscribe(function(value) {\\n                var str = JSON.stringify(value);\\n                if ((str == \\\"0\\\") && ([\\\"-0\\\", \\\"-0.\\\"].indexOf(stringified()) >= 0))\\n                     return;\\n                 if ([\\\"null\\\", \\\"\\\"].indexOf(str) >= 0)\\n                     return;\\n                stringified(str);\\n            });\\n            ko.applyBindingsToNode(\\n                element,\\n                {\\n                    value: stringified,\\n                    valueUpdate: allBindings.get('valueUpdate'),\\n                },\\n                context,\\n            );\\n        }\\n    };\\n    var json_data = {\\\"changes\\\":WebIO.getval({\\\"name\\\":\\\"changes\\\",\\\"scope\\\":\\\"3885522224790275325\\\",\\\"id\\\":\\\"ob_114\\\",\\\"type\\\":\\\"observable\\\"}),\\\"value\\\":WebIO.getval({\\\"name\\\":\\\"value\\\",\\\"scope\\\":\\\"3885522224790275325\\\",\\\"id\\\":\\\"ob_113\\\",\\\"type\\\":\\\"observable\\\"})};\\n    var self = this;\\n    function AppViewModel() {\\n        for (var key in json_data) {\\n            var el = json_data[key];\\n            this[key] = Array.isArray(el) ? ko.observableArray(el) : ko.observable(el);\\n        }\\n        \\n        \\n        [this[\\\"changes\\\"].subscribe((function (val){!(this.valueFromJulia[\\\"changes\\\"]) ? (WebIO.setval({\\\"name\\\":\\\"changes\\\",\\\"scope\\\":\\\"3885522224790275325\\\",\\\"id\\\":\\\"ob_114\\\",\\\"type\\\":\\\"observable\\\"},val)) : undefined; return this.valueFromJulia[\\\"changes\\\"]=false}),self),this[\\\"value\\\"].subscribe((function (val){!(this.valueFromJulia[\\\"value\\\"]) ? (WebIO.setval({\\\"name\\\":\\\"value\\\",\\\"scope\\\":\\\"3885522224790275325\\\",\\\"id\\\":\\\"ob_113\\\",\\\"type\\\":\\\"observable\\\"},val)) : undefined; return this.valueFromJulia[\\\"value\\\"]=false}),self)]\\n        \\n    }\\n    self.model = new AppViewModel();\\n    self.valueFromJulia = {};\\n    for (var key in json_data) {\\n        self.valueFromJulia[key] = false;\\n    }\\n    ko.applyBindings(self.model, self.dom);\\n}\\n);\\n    (WebIO.importBlock({\\\"data\\\":[{\\\"name\\\":\\\"knockout\\\",\\\"type\\\":\\\"js\\\",\\\"url\\\":\\\"\\/assetserver\\/3bd9b1de736b098e415b41735ebb66f92146af63-knockout.js\\\"},{\\\"name\\\":\\\"knockout_punches\\\",\\\"type\\\":\\\"js\\\",\\\"url\\\":\\\"\\/assetserver\\/f693c45e4673819d9631890b2dbb7b49bac52036-knockout_punches.js\\\"}],\\\"type\\\":\\\"async_block\\\"})).then((imports) => handler.apply(this, imports));\\n}\\n\"],\"observables\":{\"changes\":{\"sync\":true,\"id\":\"ob_114\",\"value\":0},\"value\":{\"sync\":false,\"id\":\"ob_113\",\"value\":\"myFile.pdf\"}}},\"children\":[{\"props\":{\"className\":\"interact-flex-row interact-widget\"},\"nodeType\":\"DOM\",\"type\":\"node\",\"instanceArgs\":{\"namespace\":\"html\",\"tag\":\"div\"},\"children\":[{\"props\":{\"className\":\"interact-flex-row-left\"},\"nodeType\":\"DOM\",\"type\":\"node\",\"instanceArgs\":{\"namespace\":\"html\",\"tag\":\"div\"},\"children\":[{\"props\":{\"className\":\"interact \",\"style\":{\"padding\":\"5px 10px 0px 10px\"}},\"nodeType\":\"DOM\",\"type\":\"node\",\"instanceArgs\":{\"namespace\":\"html\",\"tag\":\"label\"},\"children\":[\"File Name\"]}]},{\"props\":{\"className\":\"interact-flex-row-center\"},\"nodeType\":\"DOM\",\"type\":\"node\",\"instanceArgs\":{\"namespace\":\"html\",\"tag\":\"div\"},\"children\":[{\"props\":{\"attributes\":{\"type\":\"text\",\"data-bind\":\"value: value, valueUpdate: 'input', event: {change: function (){this.changes(this.changes()+1)}}\"},\"placeholder\":\"\",\"className\":\"input \",\"style\":{}},\"nodeType\":\"DOM\",\"type\":\"node\",\"instanceArgs\":{\"namespace\":\"html\",\"tag\":\"input\"},\"children\":[]}]},{\"props\":{\"className\":\"interact-flex-row-right\"},\"nodeType\":\"DOM\",\"type\":\"node\",\"instanceArgs\":{\"namespace\":\"html\",\"tag\":\"div\"},\"children\":[{\"props\":{},\"nodeType\":\"DOM\",\"type\":\"node\",\"instanceArgs\":{\"namespace\":\"html\",\"tag\":\"div\"},\"children\":[]}]}]}]}]},{\"props\":{\"className\":\"field interact-widget\"},\"nodeType\":\"DOM\",\"type\":\"node\",\"instanceArgs\":{\"namespace\":\"html\",\"tag\":\"div\"},\"children\":[{\"props\":{},\"nodeType\":\"Scope\",\"type\":\"node\",\"instanceArgs\":{\"imports\":{\"data\":[{\"name\":\"knockout\",\"type\":\"js\",\"url\":\"\\/assetserver\\/3bd9b1de736b098e415b41735ebb66f92146af63-knockout.js\"},{\"name\":\"knockout_punches\",\"type\":\"js\",\"url\":\"\\/assetserver\\/f693c45e4673819d9631890b2dbb7b49bac52036-knockout_punches.js\"},{\"name\":null,\"type\":\"js\",\"url\":\"\\/assetserver\\/dadd00ee86bab68922605b4c34c155a51b0e2466-all.js\"},{\"name\":null,\"type\":\"css\",\"url\":\"\\/assetserver\\/783bf076fab44d74d9ad020ce784f4d35b2c125e-style.css\"},{\"name\":null,\"type\":\"css\",\"url\":\"\\/assetserver\\/81f83aa7d914707240f02251f8f73fd02ba8c8be-bulma_confined.min.css\"}],\"type\":\"async_block\"},\"id\":\"13147499323947302510\",\"handlers\":{\"loading\":[\"(function (val){return (val!=this.model[\\\"loading\\\"]()) ? (this.valueFromJulia[\\\"loading\\\"]=true, this.model[\\\"loading\\\"](val)) : undefined})\"],\"clicks\":[\"(function (val){return (val!=this.model[\\\"clicks\\\"]()) ? (this.valueFromJulia[\\\"clicks\\\"]=true, this.model[\\\"clicks\\\"](val)) : undefined})\"]},\"systemjs_options\":null,\"mount_callbacks\":[\"function () {\\n    var handler = (function (ko, koPunches) {\\n    ko.punches.enableAll();\\n    ko.bindingHandlers.numericValue = {\\n        init: function(element, valueAccessor, allBindings, data, context) {\\n            var stringified = ko.observable(ko.unwrap(valueAccessor()));\\n            stringified.subscribe(function(value) {\\n                var val = parseFloat(value);\\n                if (!isNaN(val)) {\\n                    valueAccessor()(val);\\n                }\\n            });\\n            valueAccessor().subscribe(function(value) {\\n                var str = JSON.stringify(value);\\n                if ((str == \\\"0\\\") && ([\\\"-0\\\", \\\"-0.\\\"].indexOf(stringified()) >= 0))\\n                     return;\\n                 if ([\\\"null\\\", \\\"\\\"].indexOf(str) >= 0)\\n                     return;\\n                stringified(str);\\n            });\\n            ko.applyBindingsToNode(\\n                element,\\n                {\\n                    value: stringified,\\n                    valueUpdate: allBindings.get('valueUpdate'),\\n                },\\n                context,\\n            );\\n        }\\n    };\\n    var json_data = {\\\"loading\\\":WebIO.getval({\\\"name\\\":\\\"loading\\\",\\\"scope\\\":\\\"13147499323947302510\\\",\\\"id\\\":\\\"ob_117\\\",\\\"type\\\":\\\"observable\\\"}),\\\"clicks\\\":WebIO.getval({\\\"name\\\":\\\"clicks\\\",\\\"scope\\\":\\\"13147499323947302510\\\",\\\"id\\\":\\\"ob_116\\\",\\\"type\\\":\\\"observable\\\"})};\\n    var self = this;\\n    function AppViewModel() {\\n        for (var key in json_data) {\\n            var el = json_data[key];\\n            this[key] = Array.isArray(el) ? ko.observableArray(el) : ko.observable(el);\\n        }\\n        \\n        \\n        [this[\\\"loading\\\"].subscribe((function (val){!(this.valueFromJulia[\\\"loading\\\"]) ? (WebIO.setval({\\\"name\\\":\\\"loading\\\",\\\"scope\\\":\\\"13147499323947302510\\\",\\\"id\\\":\\\"ob_117\\\",\\\"type\\\":\\\"observable\\\"},val)) : undefined; return this.valueFromJulia[\\\"loading\\\"]=false}),self),this[\\\"clicks\\\"].subscribe((function (val){!(this.valueFromJulia[\\\"clicks\\\"]) ? (WebIO.setval({\\\"name\\\":\\\"clicks\\\",\\\"scope\\\":\\\"13147499323947302510\\\",\\\"id\\\":\\\"ob_116\\\",\\\"type\\\":\\\"observable\\\"},val)) : undefined; return this.valueFromJulia[\\\"clicks\\\"]=false}),self)]\\n        \\n    }\\n    self.model = new AppViewModel();\\n    self.valueFromJulia = {};\\n    for (var key in json_data) {\\n        self.valueFromJulia[key] = false;\\n    }\\n    ko.applyBindings(self.model, self.dom);\\n}\\n);\\n    (WebIO.importBlock({\\\"data\\\":[{\\\"name\\\":\\\"knockout\\\",\\\"type\\\":\\\"js\\\",\\\"url\\\":\\\"\\/assetserver\\/3bd9b1de736b098e415b41735ebb66f92146af63-knockout.js\\\"},{\\\"name\\\":\\\"knockout_punches\\\",\\\"type\\\":\\\"js\\\",\\\"url\\\":\\\"\\/assetserver\\/f693c45e4673819d9631890b2dbb7b49bac52036-knockout_punches.js\\\"}],\\\"type\\\":\\\"async_block\\\"})).then((imports) => handler.apply(this, imports));\\n}\\n\"],\"observables\":{\"loading\":{\"sync\":false,\"id\":\"ob_117\",\"value\":false},\"clicks\":{\"sync\":true,\"id\":\"ob_116\",\"value\":0}}},\"children\":[{\"props\":{\"attributes\":{\"data-bind\":\"click: function (){this.clicks(this.clicks()+1)}, css: {'is-loading' : loading}\"},\"className\":\"is-medium button is-primary\",\"style\":{}},\"nodeType\":\"DOM\",\"type\":\"node\",\"instanceArgs\":{\"namespace\":\"html\",\"tag\":\"button\"},\"children\":[\"Save Plot\"]}]}]},{\"props\":{\"className\":\"field interact-widget\"},\"nodeType\":\"DOM\",\"type\":\"node\",\"instanceArgs\":{\"namespace\":\"html\",\"tag\":\"div\"},\"children\":[{\"props\":{},\"nodeType\":\"Scope\",\"type\":\"node\",\"instanceArgs\":{\"imports\":{\"data\":[{\"name\":\"knockout\",\"type\":\"js\",\"url\":\"\\/assetserver\\/3bd9b1de736b098e415b41735ebb66f92146af63-knockout.js\"},{\"name\":\"knockout_punches\",\"type\":\"js\",\"url\":\"\\/assetserver\\/f693c45e4673819d9631890b2dbb7b49bac52036-knockout_punches.js\"},{\"name\":null,\"type\":\"js\",\"url\":\"\\/assetserver\\/dadd00ee86bab68922605b4c34c155a51b0e2466-all.js\"},{\"name\":null,\"type\":\"css\",\"url\":\"\\/assetserver\\/783bf076fab44d74d9ad020ce784f4d35b2c125e-style.css\"},{\"name\":null,\"type\":\"css\",\"url\":\"\\/assetserver\\/81f83aa7d914707240f02251f8f73fd02ba8c8be-bulma_confined.min.css\"}],\"type\":\"async_block\"},\"id\":\"15722608533670762903\",\"handlers\":{\"changes\":[\"(function (val){return (val!=this.model[\\\"changes\\\"]()) ? (this.valueFromJulia[\\\"changes\\\"]=true, this.model[\\\"changes\\\"](val)) : undefined})\"],\"value\":[\"(function (val){return (val!=this.model[\\\"value\\\"]()) ? (this.valueFromJulia[\\\"value\\\"]=true, this.model[\\\"value\\\"](val)) : undefined})\"]},\"systemjs_options\":null,\"mount_callbacks\":[\"function () {\\n    var handler = (function (ko, koPunches) {\\n    ko.punches.enableAll();\\n    ko.bindingHandlers.numericValue = {\\n        init: function(element, valueAccessor, allBindings, data, context) {\\n            var stringified = ko.observable(ko.unwrap(valueAccessor()));\\n            stringified.subscribe(function(value) {\\n                var val = parseFloat(value);\\n                if (!isNaN(val)) {\\n                    valueAccessor()(val);\\n                }\\n            });\\n            valueAccessor().subscribe(function(value) {\\n                var str = JSON.stringify(value);\\n                if ((str == \\\"0\\\") && ([\\\"-0\\\", \\\"-0.\\\"].indexOf(stringified()) >= 0))\\n                     return;\\n                 if ([\\\"null\\\", \\\"\\\"].indexOf(str) >= 0)\\n                     return;\\n                stringified(str);\\n            });\\n            ko.applyBindingsToNode(\\n                element,\\n                {\\n                    value: stringified,\\n                    valueUpdate: allBindings.get('valueUpdate'),\\n                },\\n                context,\\n            );\\n        }\\n    };\\n    var json_data = {\\\"changes\\\":WebIO.getval({\\\"name\\\":\\\"changes\\\",\\\"scope\\\":\\\"15722608533670762903\\\",\\\"id\\\":\\\"ob_119\\\",\\\"type\\\":\\\"observable\\\"}),\\\"value\\\":WebIO.getval({\\\"name\\\":\\\"value\\\",\\\"scope\\\":\\\"15722608533670762903\\\",\\\"id\\\":\\\"ob_118\\\",\\\"type\\\":\\\"observable\\\"})};\\n    var self = this;\\n    function AppViewModel() {\\n        for (var key in json_data) {\\n            var el = json_data[key];\\n            this[key] = Array.isArray(el) ? ko.observableArray(el) : ko.observable(el);\\n        }\\n        \\n        \\n        [this[\\\"changes\\\"].subscribe((function (val){!(this.valueFromJulia[\\\"changes\\\"]) ? (WebIO.setval({\\\"name\\\":\\\"changes\\\",\\\"scope\\\":\\\"15722608533670762903\\\",\\\"id\\\":\\\"ob_119\\\",\\\"type\\\":\\\"observable\\\"},val)) : undefined; return this.valueFromJulia[\\\"changes\\\"]=false}),self),this[\\\"value\\\"].subscribe((function (val){!(this.valueFromJulia[\\\"value\\\"]) ? (WebIO.setval({\\\"name\\\":\\\"value\\\",\\\"scope\\\":\\\"15722608533670762903\\\",\\\"id\\\":\\\"ob_118\\\",\\\"type\\\":\\\"observable\\\"},val)) : undefined; return this.valueFromJulia[\\\"value\\\"]=false}),self)]\\n        \\n    }\\n    self.model = new AppViewModel();\\n    self.valueFromJulia = {};\\n    for (var key in json_data) {\\n        self.valueFromJulia[key] = false;\\n    }\\n    ko.applyBindings(self.model, self.dom);\\n}\\n);\\n    (WebIO.importBlock({\\\"data\\\":[{\\\"name\\\":\\\"knockout\\\",\\\"type\\\":\\\"js\\\",\\\"url\\\":\\\"\\/assetserver\\/3bd9b1de736b098e415b41735ebb66f92146af63-knockout.js\\\"},{\\\"name\\\":\\\"knockout_punches\\\",\\\"type\\\":\\\"js\\\",\\\"url\\\":\\\"\\/assetserver\\/f693c45e4673819d9631890b2dbb7b49bac52036-knockout_punches.js\\\"}],\\\"type\\\":\\\"async_block\\\"})).then((imports) => handler.apply(this, imports));\\n}\\n\"],\"observables\":{\"changes\":{\"sync\":false,\"id\":\"ob_119\",\"value\":0},\"value\":{\"sync\":true,\"id\":\"ob_118\",\"value\":1}}},\"children\":[{\"props\":{\"max\":1,\"min\":1,\"attributes\":{\"type\":\"number\",\"data-bind\":\"numericValue: value, valueUpdate: 'input', event: {change: function (){this.changes(this.changes()+1)}}\"},\"step\":1,\"placeholder\":\"\",\"className\":\"input \",\"style\":{}},\"nodeType\":\"DOM\",\"type\":\"node\",\"instanceArgs\":{\"namespace\":\"html\",\"tag\":\"input\"},\"children\":[]}]}]},{\"props\":{\"className\":\"field interact-widget\"},\"nodeType\":\"DOM\",\"type\":\"node\",\"instanceArgs\":{\"namespace\":\"html\",\"tag\":\"div\"},\"children\":[{\"props\":{},\"nodeType\":\"Scope\",\"type\":\"node\",\"instanceArgs\":{\"imports\":{\"data\":[{\"name\":\"knockout\",\"type\":\"js\",\"url\":\"\\/assetserver\\/3bd9b1de736b098e415b41735ebb66f92146af63-knockout.js\"},{\"name\":\"knockout_punches\",\"type\":\"js\",\"url\":\"\\/assetserver\\/f693c45e4673819d9631890b2dbb7b49bac52036-knockout_punches.js\"},{\"name\":null,\"type\":\"js\",\"url\":\"\\/assetserver\\/dadd00ee86bab68922605b4c34c155a51b0e2466-all.js\"},{\"name\":null,\"type\":\"css\",\"url\":\"\\/assetserver\\/783bf076fab44d74d9ad020ce784f4d35b2c125e-style.css\"},{\"name\":null,\"type\":\"css\",\"url\":\"\\/assetserver\\/81f83aa7d914707240f02251f8f73fd02ba8c8be-bulma_confined.min.css\"}],\"type\":\"async_block\"},\"id\":\"8202417867022841954\",\"handlers\":{\"changes\":[\"(function (val){return (val!=this.model[\\\"changes\\\"]()) ? (this.valueFromJulia[\\\"changes\\\"]=true, this.model[\\\"changes\\\"](val)) : undefined})\"],\"index\":[\"(function (val){return (val!=this.model[\\\"index\\\"]()) ? (this.valueFromJulia[\\\"index\\\"]=true, this.model[\\\"index\\\"](val)) : undefined})\"]},\"systemjs_options\":null,\"mount_callbacks\":[\"function () {\\n    var handler = (function (ko, koPunches) {\\n    ko.punches.enableAll();\\n    ko.bindingHandlers.numericValue = {\\n        init: function(element, valueAccessor, allBindings, data, context) {\\n            var stringified = ko.observable(ko.unwrap(valueAccessor()));\\n            stringified.subscribe(function(value) {\\n                var val = parseFloat(value);\\n                if (!isNaN(val)) {\\n                    valueAccessor()(val);\\n                }\\n            });\\n            valueAccessor().subscribe(function(value) {\\n                var str = JSON.stringify(value);\\n                if ((str == \\\"0\\\") && ([\\\"-0\\\", \\\"-0.\\\"].indexOf(stringified()) >= 0))\\n                     return;\\n                 if ([\\\"null\\\", \\\"\\\"].indexOf(str) >= 0)\\n                     return;\\n                stringified(str);\\n            });\\n            ko.applyBindingsToNode(\\n                element,\\n                {\\n                    value: stringified,\\n                    valueUpdate: allBindings.get('valueUpdate'),\\n                },\\n                context,\\n            );\\n        }\\n    };\\n    var json_data = {\\\"formatted_vals\\\":[\\\"0.0\\\",\\\"1.0\\\",\\\"2.0\\\",\\\"3.0\\\",\\\"4.0\\\",\\\"5.0\\\",\\\"6.0\\\",\\\"7.0\\\",\\\"8.0\\\",\\\"9.0\\\",\\\"10.0\\\",\\\"11.0\\\",\\\"12.0\\\",\\\"13.0\\\",\\\"14.0\\\",\\\"15.0\\\",\\\"16.0\\\",\\\"17.0\\\",\\\"18.0\\\",\\\"19.0\\\",\\\"20.0\\\",\\\"21.0\\\",\\\"22.0\\\",\\\"23.0\\\",\\\"24.0\\\",\\\"25.0\\\",\\\"26.0\\\",\\\"27.0\\\",\\\"28.0\\\",\\\"29.0\\\",\\\"30.0\\\",\\\"31.0\\\",\\\"32.0\\\",\\\"33.0\\\",\\\"34.0\\\",\\\"35.0\\\",\\\"36.0\\\",\\\"37.0\\\",\\\"38.0\\\",\\\"39.0\\\",\\\"40.0\\\",\\\"41.0\\\",\\\"42.0\\\",\\\"43.0\\\",\\\"44.0\\\",\\\"45.0\\\",\\\"46.0\\\",\\\"47.0\\\",\\\"48.0\\\",\\\"49.0\\\",\\\"50.0\\\",\\\"51.0\\\",\\\"52.0\\\",\\\"53.0\\\",\\\"54.0\\\",\\\"55.0\\\",\\\"56.0\\\",\\\"57.0\\\",\\\"58.0\\\",\\\"59.0\\\",\\\"60.0\\\",\\\"61.0\\\",\\\"62.0\\\",\\\"63.0\\\",\\\"64.0\\\",\\\"65.0\\\",\\\"66.0\\\",\\\"67.0\\\",\\\"68.0\\\",\\\"69.0\\\",\\\"70.0\\\",\\\"71.0\\\",\\\"72.0\\\",\\\"73.0\\\",\\\"74.0\\\",\\\"75.0\\\",\\\"76.0\\\",\\\"77.0\\\",\\\"78.0\\\",\\\"79.0\\\",\\\"80.0\\\",\\\"81.0\\\",\\\"82.0\\\",\\\"83.0\\\",\\\"84.0\\\",\\\"85.0\\\",\\\"86.0\\\",\\\"87.0\\\",\\\"88.0\\\",\\\"89.0\\\",\\\"90.0\\\",\\\"91.0\\\",\\\"92.0\\\",\\\"93.0\\\",\\\"94.0\\\",\\\"95.0\\\",\\\"96.0\\\",\\\"97.0\\\",\\\"98.0\\\",\\\"99.0\\\",\\\"100.0\\\",\\\"101.0\\\",\\\"102.0\\\",\\\"103.0\\\",\\\"104.0\\\",\\\"105.0\\\",\\\"106.0\\\",\\\"107.0\\\",\\\"108.0\\\",\\\"109.0\\\",\\\"110.0\\\",\\\"111.0\\\",\\\"112.0\\\",\\\"113.0\\\",\\\"114.0\\\",\\\"115.0\\\",\\\"116.0\\\",\\\"117.0\\\",\\\"118.0\\\",\\\"119.0\\\",\\\"120.0\\\"],\\\"changes\\\":WebIO.getval({\\\"name\\\":\\\"changes\\\",\\\"scope\\\":\\\"8202417867022841954\\\",\\\"id\\\":\\\"ob_122\\\",\\\"type\\\":\\\"observable\\\"}),\\\"index\\\":WebIO.getval({\\\"name\\\":\\\"index\\\",\\\"scope\\\":\\\"8202417867022841954\\\",\\\"id\\\":\\\"ob_121\\\",\\\"type\\\":\\\"observable\\\"})};\\n    var self = this;\\n    function AppViewModel() {\\n        for (var key in json_data) {\\n            var el = json_data[key];\\n            this[key] = Array.isArray(el) ? ko.observableArray(el) : ko.observable(el);\\n        }\\n        \\n        [this[\\\"formatted_val\\\"]=ko.computed(    function(){\\n        return this.formatted_vals()[parseInt(this.index())-(1)];\\n    }\\n,this)]\\n        [this[\\\"changes\\\"].subscribe((function (val){!(this.valueFromJulia[\\\"changes\\\"]) ? (WebIO.setval({\\\"name\\\":\\\"changes\\\",\\\"scope\\\":\\\"8202417867022841954\\\",\\\"id\\\":\\\"ob_122\\\",\\\"type\\\":\\\"observable\\\"},val)) : undefined; return this.valueFromJulia[\\\"changes\\\"]=false}),self),this[\\\"index\\\"].subscribe((function (val){!(this.valueFromJulia[\\\"index\\\"]) ? (WebIO.setval({\\\"name\\\":\\\"index\\\",\\\"scope\\\":\\\"8202417867022841954\\\",\\\"id\\\":\\\"ob_121\\\",\\\"type\\\":\\\"observable\\\"},val)) : undefined; return this.valueFromJulia[\\\"index\\\"]=false}),self)]\\n        \\n    }\\n    self.model = new AppViewModel();\\n    self.valueFromJulia = {};\\n    for (var key in json_data) {\\n        self.valueFromJulia[key] = false;\\n    }\\n    ko.applyBindings(self.model, self.dom);\\n}\\n);\\n    (WebIO.importBlock({\\\"data\\\":[{\\\"name\\\":\\\"knockout\\\",\\\"type\\\":\\\"js\\\",\\\"url\\\":\\\"\\/assetserver\\/3bd9b1de736b098e415b41735ebb66f92146af63-knockout.js\\\"},{\\\"name\\\":\\\"knockout_punches\\\",\\\"type\\\":\\\"js\\\",\\\"url\\\":\\\"\\/assetserver\\/f693c45e4673819d9631890b2dbb7b49bac52036-knockout_punches.js\\\"}],\\\"type\\\":\\\"async_block\\\"})).then((imports) => handler.apply(this, imports));\\n}\\n\"],\"observables\":{\"changes\":{\"sync\":false,\"id\":\"ob_122\",\"value\":0},\"index\":{\"sync\":true,\"id\":\"ob_121\",\"value\":1}}},\"children\":[{\"props\":{\"className\":\"interact-flex-row interact-widget\"},\"nodeType\":\"DOM\",\"type\":\"node\",\"instanceArgs\":{\"namespace\":\"html\",\"tag\":\"div\"},\"children\":[{\"props\":{\"className\":\"interact-flex-row-left\"},\"nodeType\":\"DOM\",\"type\":\"node\",\"instanceArgs\":{\"namespace\":\"html\",\"tag\":\"div\"},\"children\":[{\"props\":{\"className\":\"interact \",\"style\":{\"padding\":\"5px 10px 0px 10px\"}},\"nodeType\":\"DOM\",\"type\":\"node\",\"instanceArgs\":{\"namespace\":\"html\",\"tag\":\"label\"},\"children\":[\"\"]}]},{\"props\":{\"className\":\"interact-flex-row-center\"},\"nodeType\":\"DOM\",\"type\":\"node\",\"instanceArgs\":{\"namespace\":\"html\",\"tag\":\"div\"},\"children\":[{\"props\":{\"max\":121,\"min\":1,\"attributes\":{\"type\":\"range\",\"data-bind\":\"numericValue: index, valueUpdate: 'input', event: {change: function (){this.changes(this.changes()+1)}}\",\"orient\":\"horizontal\"},\"step\":1,\"className\":\"slider slider is-fullwidth\",\"style\":{}},\"nodeType\":\"DOM\",\"type\":\"node\",\"instanceArgs\":{\"namespace\":\"html\",\"tag\":\"input\"},\"children\":[]}]},{\"props\":{\"className\":\"interact-flex-row-right\"},\"nodeType\":\"DOM\",\"type\":\"node\",\"instanceArgs\":{\"namespace\":\"html\",\"tag\":\"div\"},\"children\":[{\"props\":{\"attributes\":{\"data-bind\":\"text: formatted_val\"}},\"nodeType\":\"DOM\",\"type\":\"node\",\"instanceArgs\":{\"namespace\":\"html\",\"tag\":\"p\"},\"children\":[]}]}]}]}]},{\"props\":{},\"nodeType\":\"Scope\",\"type\":\"node\",\"instanceArgs\":{\"imports\":{\"data\":[],\"type\":\"async_block\"},\"id\":\"3897565025327247803\",\"handlers\":{},\"systemjs_options\":null,\"mount_callbacks\":[],\"observables\":{\"obs-node\":{\"sync\":false,\"id\":\"ob_126\",\"value\":{\"props\":{\"className\":\"interact-flex-row interact-widget\"},\"nodeType\":\"DOM\",\"type\":\"node\",\"instanceArgs\":{\"namespace\":\"html\",\"tag\":\"div\"},\"children\":[{\"props\":{\"setInnerHtml\":\"<?xml version=\\\"1.0\\\" encoding=\\\"UTF-8\\\"?>\\n<svg xmlns=\\\"http:\\/\\/www.w3.org\\/2000\\/svg\\\" xmlns:xlink=\\\"http:\\/\\/www.w3.org\\/1999\\/xlink\\\" width=\\\"565.861pt\\\" height=\\\"261.943pt\\\" viewBox=\\\"0 0 565.861 261.943\\\" version=\\\"1.1\\\">\\n<defs>\\n<g>\\n<symbol overflow=\\\"visible\\\" id=\\\"glyph-1562715734929603-0-0\\\">\\n<path style=\\\"stroke:none;\\\" d=\\\"\\\"\\/>\\n<\\/symbol>\\n<symbol overflow=\\\"visible\\\" id=\\\"glyph-1562715734929603-0-1\\\">\\n<path style=\\\"stroke:none;\\\" d=\\\"M 6.109375 -6.03125 C 6.109375 -6.390625 6.125 -6.5 6.890625 -6.5 L 7.140625 -6.5 L 7.140625 -6.8125 C 6.78125 -6.78125 6.046875 -6.78125 5.671875 -6.78125 C 5.296875 -6.78125 4.546875 -6.78125 4.203125 -6.8125 L 4.203125 -6.5 L 4.4375 -6.5 C 5.203125 -6.5 5.21875 -6.390625 5.21875 -6.03125 L 5.21875 -3.703125 L 2.25 -3.703125 L 2.25 -6.03125 C 2.25 -6.390625 2.265625 -6.5 3.03125 -6.5 L 3.265625 -6.5 L 3.265625 -6.8125 C 2.921875 -6.78125 2.1875 -6.78125 1.796875 -6.78125 C 1.421875 -6.78125 0.671875 -6.78125 0.328125 -6.8125 L 0.328125 -6.5 L 0.5625 -6.5 C 1.328125 -6.5 1.359375 -6.390625 1.359375 -6.03125 L 1.359375 -0.78125 C 1.359375 -0.421875 1.328125 -0.3125 0.5625 -0.3125 L 0.328125 -0.3125 L 0.328125 0 C 0.671875 -0.03125 1.421875 -0.03125 1.796875 -0.03125 C 2.171875 -0.03125 2.921875 -0.03125 3.265625 0 L 3.265625 -0.3125 L 3.03125 -0.3125 C 2.265625 -0.3125 2.25 -0.421875 2.25 -0.78125 L 2.25 -3.390625 L 5.21875 -3.390625 L 5.21875 -0.78125 C 5.21875 -0.421875 5.203125 -0.3125 4.4375 -0.3125 L 4.203125 -0.3125 L 4.203125 0 C 4.546875 -0.03125 5.28125 -0.03125 5.65625 -0.03125 C 6.046875 -0.03125 6.78125 -0.03125 7.140625 0 L 7.140625 -0.3125 L 6.890625 -0.3125 C 6.125 -0.3125 6.109375 -0.421875 6.109375 -0.78125 Z M 6.109375 -6.03125 \\\"\\/>\\n<\\/symbol>\\n<symbol overflow=\\\"visible\\\" id=\\\"glyph-1562715734929603-0-2\\\">\\n<path style=\\\"stroke:none;\\\" d=\\\"M 4.6875 -2.140625 C 4.6875 -3.40625 3.703125 -4.46875 2.5 -4.46875 C 1.25 -4.46875 0.28125 -3.375 0.28125 -2.140625 C 0.28125 -0.84375 1.3125 0.109375 2.484375 0.109375 C 3.6875 0.109375 4.6875 -0.875 4.6875 -2.140625 Z M 2.5 -0.140625 C 2.0625 -0.140625 1.625 -0.34375 1.359375 -0.8125 C 1.109375 -1.25 1.109375 -1.859375 1.109375 -2.21875 C 1.109375 -2.609375 1.109375 -3.140625 1.34375 -3.578125 C 1.609375 -4.03125 2.078125 -4.25 2.484375 -4.25 C 2.921875 -4.25 3.34375 -4.03125 3.609375 -3.59375 C 3.875 -3.171875 3.875 -2.59375 3.875 -2.21875 C 3.875 -1.859375 3.875 -1.3125 3.65625 -0.875 C 3.421875 -0.421875 2.984375 -0.140625 2.5 -0.140625 Z M 2.5 -0.140625 \\\"\\/>\\n<\\/symbol>\\n<symbol overflow=\\\"visible\\\" id=\\\"glyph-1562715734929603-0-3\\\">\\n<path style=\\\"stroke:none;\\\" d=\\\"M 1.671875 -3.3125 L 1.671875 -4.40625 L 0.28125 -4.296875 L 0.28125 -3.984375 C 0.984375 -3.984375 1.0625 -3.921875 1.0625 -3.421875 L 1.0625 -0.75 C 1.0625 -0.3125 0.953125 -0.3125 0.28125 -0.3125 L 0.28125 0 C 0.671875 -0.015625 1.140625 -0.03125 1.421875 -0.03125 C 1.8125 -0.03125 2.28125 -0.03125 2.6875 0 L 2.6875 -0.3125 L 2.46875 -0.3125 C 1.734375 -0.3125 1.71875 -0.421875 1.71875 -0.78125 L 1.71875 -2.3125 C 1.71875 -3.296875 2.140625 -4.1875 2.890625 -4.1875 C 2.953125 -4.1875 2.984375 -4.1875 3 -4.171875 C 2.96875 -4.171875 2.765625 -4.046875 2.765625 -3.78125 C 2.765625 -3.515625 2.984375 -3.359375 3.203125 -3.359375 C 3.375 -3.359375 3.625 -3.484375 3.625 -3.796875 C 3.625 -4.109375 3.3125 -4.40625 2.890625 -4.40625 C 2.15625 -4.40625 1.796875 -3.734375 1.671875 -3.3125 Z M 1.671875 -3.3125 \\\"\\/>\\n<\\/symbol>\\n<symbol overflow=\\\"visible\\\" id=\\\"glyph-1562715734929603-0-4\\\">\\n<path style=\\\"stroke:none;\\\" d=\\\"M 1.765625 -4.40625 L 0.375 -4.296875 L 0.375 -3.984375 C 1.015625 -3.984375 1.109375 -3.921875 1.109375 -3.4375 L 1.109375 -0.75 C 1.109375 -0.3125 1 -0.3125 0.328125 -0.3125 L 0.328125 0 C 0.640625 -0.015625 1.1875 -0.03125 1.421875 -0.03125 C 1.78125 -0.03125 2.125 -0.015625 2.46875 0 L 2.46875 -0.3125 C 1.796875 -0.3125 1.765625 -0.359375 1.765625 -0.75 Z M 1.796875 -6.140625 C 1.796875 -6.453125 1.5625 -6.671875 1.28125 -6.671875 C 0.96875 -6.671875 0.75 -6.40625 0.75 -6.140625 C 0.75 -5.875 0.96875 -5.609375 1.28125 -5.609375 C 1.5625 -5.609375 1.796875 -5.828125 1.796875 -6.140625 Z M 1.796875 -6.140625 \\\"\\/>\\n<\\/symbol>\\n<symbol overflow=\\\"visible\\\" id=\\\"glyph-1562715734929603-0-5\\\">\\n<path style=\\\"stroke:none;\\\" d=\\\"M 3.890625 -4 C 3.984375 -4.109375 3.984375 -4.125 3.984375 -4.171875 C 3.984375 -4.296875 3.890625 -4.296875 3.71875 -4.296875 L 0.53125 -4.296875 L 0.421875 -2.6875 L 0.671875 -2.6875 C 0.734375 -3.703125 0.921875 -4.078125 2.015625 -4.078125 L 3.15625 -4.078125 L 0.375 -0.3125 C 0.28125 -0.203125 0.28125 -0.1875 0.28125 -0.140625 C 0.28125 0 0.34375 0 0.53125 0 L 3.828125 0 L 4 -1.859375 L 3.75 -1.859375 C 3.65625 -0.6875 3.453125 -0.25 2.296875 -0.25 L 1.109375 -0.25 Z M 3.890625 -4 \\\"\\/>\\n<\\/symbol>\\n<symbol overflow=\\\"visible\\\" id=\\\"glyph-1562715734929603-0-6\\\">\\n<path style=\\\"stroke:none;\\\" d=\\\"M 1.09375 -3.421875 L 1.09375 -0.75 C 1.09375 -0.3125 0.984375 -0.3125 0.3125 -0.3125 L 0.3125 0 C 0.671875 -0.015625 1.171875 -0.03125 1.453125 -0.03125 C 1.703125 -0.03125 2.21875 -0.015625 2.5625 0 L 2.5625 -0.3125 C 1.890625 -0.3125 1.78125 -0.3125 1.78125 -0.75 L 1.78125 -2.59375 C 1.78125 -3.625 2.5 -4.1875 3.125 -4.1875 C 3.765625 -4.1875 3.875 -3.65625 3.875 -3.078125 L 3.875 -0.75 C 3.875 -0.3125 3.765625 -0.3125 3.09375 -0.3125 L 3.09375 0 C 3.4375 -0.015625 3.953125 -0.03125 4.21875 -0.03125 C 4.46875 -0.03125 5 -0.015625 5.328125 0 L 5.328125 -0.3125 C 4.8125 -0.3125 4.5625 -0.3125 4.5625 -0.609375 L 4.5625 -2.515625 C 4.5625 -3.375 4.5625 -3.671875 4.25 -4.03125 C 4.109375 -4.203125 3.78125 -4.40625 3.203125 -4.40625 C 2.46875 -4.40625 2 -3.984375 1.71875 -3.359375 L 1.71875 -4.40625 L 0.3125 -4.296875 L 0.3125 -3.984375 C 1.015625 -3.984375 1.09375 -3.921875 1.09375 -3.421875 Z M 1.09375 -3.421875 \\\"\\/>\\n<\\/symbol>\\n<symbol overflow=\\\"visible\\\" id=\\\"glyph-1562715734929603-0-7\\\">\\n<path style=\\\"stroke:none;\\\" d=\\\"M 1.71875 -3.984375 L 3.15625 -3.984375 L 3.15625 -4.296875 L 1.71875 -4.296875 L 1.71875 -6.125 L 1.46875 -6.125 C 1.46875 -5.3125 1.171875 -4.25 0.1875 -4.203125 L 0.1875 -3.984375 L 1.03125 -3.984375 L 1.03125 -1.234375 C 1.03125 -0.015625 1.96875 0.109375 2.328125 0.109375 C 3.03125 0.109375 3.3125 -0.59375 3.3125 -1.234375 L 3.3125 -1.796875 L 3.0625 -1.796875 L 3.0625 -1.25 C 3.0625 -0.515625 2.765625 -0.140625 2.390625 -0.140625 C 1.71875 -0.140625 1.71875 -1.046875 1.71875 -1.21875 Z M 1.71875 -3.984375 \\\"\\/>\\n<\\/symbol>\\n<symbol overflow=\\\"visible\\\" id=\\\"glyph-1562715734929603-0-8\\\">\\n<path style=\\\"stroke:none;\\\" d=\\\"M 3.3125 -0.75 C 3.359375 -0.359375 3.625 0.0625 4.09375 0.0625 C 4.3125 0.0625 4.921875 -0.078125 4.921875 -0.890625 L 4.921875 -1.453125 L 4.671875 -1.453125 L 4.671875 -0.890625 C 4.671875 -0.3125 4.421875 -0.25 4.3125 -0.25 C 3.984375 -0.25 3.9375 -0.703125 3.9375 -0.75 L 3.9375 -2.734375 C 3.9375 -3.15625 3.9375 -3.546875 3.578125 -3.921875 C 3.1875 -4.3125 2.6875 -4.46875 2.21875 -4.46875 C 1.390625 -4.46875 0.703125 -4 0.703125 -3.34375 C 0.703125 -3.046875 0.90625 -2.875 1.171875 -2.875 C 1.453125 -2.875 1.625 -3.078125 1.625 -3.328125 C 1.625 -3.453125 1.578125 -3.78125 1.109375 -3.78125 C 1.390625 -4.140625 1.875 -4.25 2.1875 -4.25 C 2.6875 -4.25 3.25 -3.859375 3.25 -2.96875 L 3.25 -2.609375 C 2.734375 -2.578125 2.046875 -2.546875 1.421875 -2.25 C 0.671875 -1.90625 0.421875 -1.390625 0.421875 -0.953125 C 0.421875 -0.140625 1.390625 0.109375 2.015625 0.109375 C 2.671875 0.109375 3.125 -0.296875 3.3125 -0.75 Z M 3.25 -2.390625 L 3.25 -1.390625 C 3.25 -0.453125 2.53125 -0.109375 2.078125 -0.109375 C 1.59375 -0.109375 1.1875 -0.453125 1.1875 -0.953125 C 1.1875 -1.5 1.609375 -2.328125 3.25 -2.390625 Z M 3.25 -2.390625 \\\"\\/>\\n<\\/symbol>\\n<symbol overflow=\\\"visible\\\" id=\\\"glyph-1562715734929603-0-9\\\">\\n<path style=\\\"stroke:none;\\\" d=\\\"M 1.765625 -6.921875 L 0.328125 -6.8125 L 0.328125 -6.5 C 1.03125 -6.5 1.109375 -6.4375 1.109375 -5.9375 L 1.109375 -0.75 C 1.109375 -0.3125 1 -0.3125 0.328125 -0.3125 L 0.328125 0 C 0.65625 -0.015625 1.1875 -0.03125 1.4375 -0.03125 C 1.6875 -0.03125 2.171875 -0.015625 2.546875 0 L 2.546875 -0.3125 C 1.875 -0.3125 1.765625 -0.3125 1.765625 -0.75 Z M 1.765625 -6.921875 \\\"\\/>\\n<\\/symbol>\\n<symbol overflow=\\\"visible\\\" id=\\\"glyph-1562715734929603-0-10\\\">\\n<path style=\\\"stroke:none;\\\" d=\\\"M 2.234375 -3.515625 L 2.234375 -6.09375 C 2.234375 -6.328125 2.234375 -6.453125 2.453125 -6.484375 C 2.546875 -6.5 2.84375 -6.5 3.046875 -6.5 C 3.9375 -6.5 5.046875 -6.453125 5.046875 -5.015625 C 5.046875 -4.328125 4.8125 -3.515625 3.34375 -3.515625 Z M 4.34375 -3.390625 C 5.296875 -3.625 6.078125 -4.234375 6.078125 -5.015625 C 6.078125 -5.96875 4.9375 -6.8125 3.484375 -6.8125 L 0.34375 -6.8125 L 0.34375 -6.5 L 0.59375 -6.5 C 1.359375 -6.5 1.375 -6.390625 1.375 -6.03125 L 1.375 -0.78125 C 1.375 -0.421875 1.359375 -0.3125 0.59375 -0.3125 L 0.34375 -0.3125 L 0.34375 0 C 0.703125 -0.03125 1.421875 -0.03125 1.796875 -0.03125 C 2.1875 -0.03125 2.90625 -0.03125 3.265625 0 L 3.265625 -0.3125 L 3.015625 -0.3125 C 2.25 -0.3125 2.234375 -0.421875 2.234375 -0.78125 L 2.234375 -3.296875 L 3.375 -3.296875 C 3.53125 -3.296875 3.953125 -3.296875 4.3125 -2.953125 C 4.6875 -2.609375 4.6875 -2.296875 4.6875 -1.625 C 4.6875 -0.984375 4.6875 -0.578125 5.09375 -0.203125 C 5.5 0.15625 6.046875 0.21875 6.34375 0.21875 C 7.125 0.21875 7.296875 -0.59375 7.296875 -0.875 C 7.296875 -0.9375 7.296875 -1.046875 7.171875 -1.046875 C 7.0625 -1.046875 7.0625 -0.953125 7.046875 -0.890625 C 6.984375 -0.171875 6.640625 0 6.390625 0 C 5.90625 0 5.828125 -0.515625 5.6875 -1.4375 L 5.546875 -2.234375 C 5.375 -2.875 4.890625 -3.203125 4.34375 -3.390625 Z M 4.34375 -3.390625 \\\"\\/>\\n<\\/symbol>\\n<symbol overflow=\\\"visible\\\" id=\\\"glyph-1562715734929603-0-11\\\">\\n<path style=\\\"stroke:none;\\\" d=\\\"M 2.21875 -1.71875 C 1.34375 -1.71875 1.34375 -2.71875 1.34375 -2.9375 C 1.34375 -3.203125 1.359375 -3.53125 1.5 -3.78125 C 1.578125 -3.890625 1.8125 -4.171875 2.21875 -4.171875 C 3.078125 -4.171875 3.078125 -3.1875 3.078125 -2.953125 C 3.078125 -2.6875 3.078125 -2.359375 2.921875 -2.109375 C 2.84375 -2 2.609375 -1.71875 2.21875 -1.71875 Z M 1.0625 -1.328125 C 1.0625 -1.359375 1.0625 -1.59375 1.21875 -1.796875 C 1.609375 -1.515625 2.03125 -1.484375 2.21875 -1.484375 C 3.140625 -1.484375 3.828125 -2.171875 3.828125 -2.9375 C 3.828125 -3.3125 3.671875 -3.671875 3.421875 -3.90625 C 3.78125 -4.25 4.140625 -4.296875 4.3125 -4.296875 C 4.34375 -4.296875 4.390625 -4.296875 4.421875 -4.28125 C 4.3125 -4.25 4.25 -4.140625 4.25 -4.015625 C 4.25 -3.84375 4.390625 -3.734375 4.546875 -3.734375 C 4.640625 -3.734375 4.828125 -3.796875 4.828125 -4.03125 C 4.828125 -4.203125 4.71875 -4.515625 4.328125 -4.515625 C 4.125 -4.515625 3.6875 -4.453125 3.265625 -4.046875 C 2.84375 -4.375 2.4375 -4.40625 2.21875 -4.40625 C 1.28125 -4.40625 0.59375 -3.71875 0.59375 -2.953125 C 0.59375 -2.515625 0.8125 -2.140625 1.0625 -1.921875 C 0.9375 -1.78125 0.75 -1.453125 0.75 -1.09375 C 0.75 -0.78125 0.890625 -0.40625 1.203125 -0.203125 C 0.59375 -0.046875 0.28125 0.390625 0.28125 0.78125 C 0.28125 1.5 1.265625 2.046875 2.484375 2.046875 C 3.65625 2.046875 4.6875 1.546875 4.6875 0.765625 C 4.6875 0.421875 4.5625 -0.09375 4.046875 -0.375 C 3.515625 -0.640625 2.9375 -0.640625 2.328125 -0.640625 C 2.078125 -0.640625 1.65625 -0.640625 1.578125 -0.65625 C 1.265625 -0.703125 1.0625 -1 1.0625 -1.328125 Z M 2.5 1.828125 C 1.484375 1.828125 0.796875 1.3125 0.796875 0.78125 C 0.796875 0.328125 1.171875 -0.046875 1.609375 -0.0625 L 2.203125 -0.0625 C 3.0625 -0.0625 4.171875 -0.0625 4.171875 0.78125 C 4.171875 1.328125 3.46875 1.828125 2.5 1.828125 Z M 2.5 1.828125 \\\"\\/>\\n<\\/symbol>\\n<symbol overflow=\\\"visible\\\" id=\\\"glyph-1562715734929603-0-12\\\">\\n<path style=\\\"stroke:none;\\\" d=\\\"M 1.109375 -2.515625 C 1.171875 -4 2.015625 -4.25 2.359375 -4.25 C 3.375 -4.25 3.484375 -2.90625 3.484375 -2.515625 Z M 1.109375 -2.296875 L 3.890625 -2.296875 C 4.109375 -2.296875 4.140625 -2.296875 4.140625 -2.515625 C 4.140625 -3.5 3.59375 -4.46875 2.359375 -4.46875 C 1.203125 -4.46875 0.28125 -3.4375 0.28125 -2.1875 C 0.28125 -0.859375 1.328125 0.109375 2.46875 0.109375 C 3.6875 0.109375 4.140625 -1 4.140625 -1.1875 C 4.140625 -1.28125 4.0625 -1.3125 4 -1.3125 C 3.921875 -1.3125 3.890625 -1.25 3.875 -1.171875 C 3.53125 -0.140625 2.625 -0.140625 2.53125 -0.140625 C 2.03125 -0.140625 1.640625 -0.4375 1.40625 -0.8125 C 1.109375 -1.28125 1.109375 -1.9375 1.109375 -2.296875 Z M 1.109375 -2.296875 \\\"\\/>\\n<\\/symbol>\\n<symbol overflow=\\\"visible\\\" id=\\\"glyph-1562715734929603-0-13\\\">\\n<path style=\\\"stroke:none;\\\" d=\\\"M 1.90625 -3.765625 C 1.90625 -4.0625 1.671875 -4.296875 1.390625 -4.296875 C 1.09375 -4.296875 0.859375 -4.0625 0.859375 -3.765625 C 0.859375 -3.484375 1.09375 -3.234375 1.390625 -3.234375 C 1.671875 -3.234375 1.90625 -3.484375 1.90625 -3.765625 Z M 1.90625 -0.53125 C 1.90625 -0.8125 1.671875 -1.0625 1.390625 -1.0625 C 1.09375 -1.0625 0.859375 -0.8125 0.859375 -0.53125 C 0.859375 -0.234375 1.09375 0 1.390625 0 C 1.671875 0 1.90625 -0.234375 1.90625 -0.53125 Z M 1.90625 -0.53125 \\\"\\/>\\n<\\/symbol>\\n<symbol overflow=\\\"visible\\\" id=\\\"glyph-1562715734929603-0-14\\\">\\n<path style=\\\"stroke:none;\\\" d=\\\"M 1.265625 -0.765625 L 2.328125 -1.796875 C 3.875 -3.171875 4.46875 -3.703125 4.46875 -4.703125 C 4.46875 -5.84375 3.578125 -6.640625 2.359375 -6.640625 C 1.234375 -6.640625 0.5 -5.71875 0.5 -4.828125 C 0.5 -4.28125 1 -4.28125 1.03125 -4.28125 C 1.203125 -4.28125 1.546875 -4.390625 1.546875 -4.8125 C 1.546875 -5.0625 1.359375 -5.328125 1.015625 -5.328125 C 0.9375 -5.328125 0.921875 -5.328125 0.890625 -5.3125 C 1.109375 -5.96875 1.65625 -6.328125 2.234375 -6.328125 C 3.140625 -6.328125 3.5625 -5.515625 3.5625 -4.703125 C 3.5625 -3.90625 3.078125 -3.125 2.515625 -2.5 L 0.609375 -0.375 C 0.5 -0.265625 0.5 -0.234375 0.5 0 L 4.203125 0 L 4.46875 -1.734375 L 4.234375 -1.734375 C 4.171875 -1.4375 4.109375 -1 4 -0.84375 C 3.9375 -0.765625 3.28125 -0.765625 3.0625 -0.765625 Z M 1.265625 -0.765625 \\\"\\/>\\n<\\/symbol>\\n<symbol overflow=\\\"visible\\\" id=\\\"glyph-1562715734929603-0-15\\\">\\n<path style=\\\"stroke:none;\\\" d=\\\"M 4.46875 -2 C 4.46875 -3.1875 3.65625 -4.1875 2.578125 -4.1875 C 2.109375 -4.1875 1.671875 -4.03125 1.3125 -3.671875 L 1.3125 -5.625 C 1.515625 -5.5625 1.84375 -5.5 2.15625 -5.5 C 3.390625 -5.5 4.09375 -6.40625 4.09375 -6.53125 C 4.09375 -6.59375 4.0625 -6.640625 3.984375 -6.640625 C 3.984375 -6.640625 3.953125 -6.640625 3.90625 -6.609375 C 3.703125 -6.515625 3.21875 -6.3125 2.546875 -6.3125 C 2.15625 -6.3125 1.6875 -6.390625 1.21875 -6.59375 C 1.140625 -6.625 1.125 -6.625 1.109375 -6.625 C 1 -6.625 1 -6.546875 1 -6.390625 L 1 -3.4375 C 1 -3.265625 1 -3.1875 1.140625 -3.1875 C 1.21875 -3.1875 1.234375 -3.203125 1.28125 -3.265625 C 1.390625 -3.421875 1.75 -3.96875 2.5625 -3.96875 C 3.078125 -3.96875 3.328125 -3.515625 3.40625 -3.328125 C 3.5625 -2.953125 3.59375 -2.578125 3.59375 -2.078125 C 3.59375 -1.71875 3.59375 -1.125 3.34375 -0.703125 C 3.109375 -0.3125 2.734375 -0.0625 2.28125 -0.0625 C 1.5625 -0.0625 0.984375 -0.59375 0.8125 -1.171875 C 0.84375 -1.171875 0.875 -1.15625 0.984375 -1.15625 C 1.3125 -1.15625 1.484375 -1.40625 1.484375 -1.640625 C 1.484375 -1.890625 1.3125 -2.140625 0.984375 -2.140625 C 0.84375 -2.140625 0.5 -2.0625 0.5 -1.609375 C 0.5 -0.75 1.1875 0.21875 2.296875 0.21875 C 3.453125 0.21875 4.46875 -0.734375 4.46875 -2 Z M 4.46875 -2 \\\"\\/>\\n<\\/symbol>\\n<symbol overflow=\\\"visible\\\" id=\\\"glyph-1562715734929603-0-16\\\">\\n<path style=\\\"stroke:none;\\\" d=\\\"M 2.9375 -1.640625 L 2.9375 -0.78125 C 2.9375 -0.421875 2.90625 -0.3125 2.171875 -0.3125 L 1.96875 -0.3125 L 1.96875 0 C 2.375 -0.03125 2.890625 -0.03125 3.3125 -0.03125 C 3.734375 -0.03125 4.25 -0.03125 4.671875 0 L 4.671875 -0.3125 L 4.453125 -0.3125 C 3.71875 -0.3125 3.703125 -0.421875 3.703125 -0.78125 L 3.703125 -1.640625 L 4.6875 -1.640625 L 4.6875 -1.953125 L 3.703125 -1.953125 L 3.703125 -6.484375 C 3.703125 -6.6875 3.703125 -6.75 3.53125 -6.75 C 3.453125 -6.75 3.421875 -6.75 3.34375 -6.625 L 0.28125 -1.953125 L 0.28125 -1.640625 Z M 2.984375 -1.953125 L 0.5625 -1.953125 L 2.984375 -5.671875 Z M 2.984375 -1.953125 \\\"\\/>\\n<\\/symbol>\\n<symbol overflow=\\\"visible\\\" id=\\\"glyph-1562715734929603-0-17\\\">\\n<path style=\\\"stroke:none;\\\" d=\\\"M 6.1875 -5.828125 C 6.328125 -6.203125 6.59375 -6.484375 7.28125 -6.5 L 7.28125 -6.8125 C 6.96875 -6.78125 6.5625 -6.78125 6.3125 -6.78125 C 6.015625 -6.78125 5.4375 -6.796875 5.171875 -6.8125 L 5.171875 -6.5 C 5.6875 -6.484375 5.90625 -6.234375 5.90625 -6 C 5.90625 -5.921875 5.875 -5.859375 5.859375 -5.796875 L 4.03125 -1 L 2.125 -6.03125 C 2.0625 -6.171875 2.0625 -6.1875 2.0625 -6.203125 C 2.0625 -6.5 2.625 -6.5 2.875 -6.5 L 2.875 -6.8125 C 2.515625 -6.78125 1.828125 -6.78125 1.453125 -6.78125 C 0.984375 -6.78125 0.546875 -6.796875 0.1875 -6.8125 L 0.1875 -6.5 C 0.84375 -6.5 1.03125 -6.5 1.171875 -6.125 L 3.484375 0 C 3.546875 0.1875 3.59375 0.21875 3.734375 0.21875 C 3.890625 0.21875 3.921875 0.171875 3.96875 0.03125 Z M 6.1875 -5.828125 \\\"\\/>\\n<\\/symbol>\\n<symbol overflow=\\\"visible\\\" id=\\\"glyph-1562715734929603-0-18\\\">\\n<path style=\\\"stroke:none;\\\" d=\\\"M 1.171875 -2.171875 C 1.171875 -3.796875 1.984375 -4.21875 2.515625 -4.21875 C 2.609375 -4.21875 3.234375 -4.203125 3.578125 -3.84375 C 3.171875 -3.8125 3.109375 -3.515625 3.109375 -3.390625 C 3.109375 -3.125 3.296875 -2.9375 3.5625 -2.9375 C 3.828125 -2.9375 4.03125 -3.09375 4.03125 -3.40625 C 4.03125 -4.078125 3.265625 -4.46875 2.5 -4.46875 C 1.25 -4.46875 0.34375 -3.390625 0.34375 -2.15625 C 0.34375 -0.875 1.328125 0.109375 2.484375 0.109375 C 3.8125 0.109375 4.140625 -1.09375 4.140625 -1.1875 C 4.140625 -1.28125 4.03125 -1.28125 4 -1.28125 C 3.921875 -1.28125 3.890625 -1.25 3.875 -1.1875 C 3.59375 -0.265625 2.9375 -0.140625 2.578125 -0.140625 C 2.046875 -0.140625 1.171875 -0.5625 1.171875 -2.171875 Z M 1.171875 -2.171875 \\\"\\/>\\n<\\/symbol>\\n<symbol overflow=\\\"visible\\\" id=\\\"glyph-1562715734929603-0-19\\\">\\n<path style=\\\"stroke:none;\\\" d=\\\"M 1.625 -4.5625 C 1.171875 -4.859375 1.125 -5.1875 1.125 -5.359375 C 1.125 -5.96875 1.78125 -6.390625 2.484375 -6.390625 C 3.203125 -6.390625 3.84375 -5.875 3.84375 -5.15625 C 3.84375 -4.578125 3.453125 -4.109375 2.859375 -3.765625 Z M 3.078125 -3.609375 C 3.796875 -3.984375 4.28125 -4.5 4.28125 -5.15625 C 4.28125 -6.078125 3.40625 -6.640625 2.5 -6.640625 C 1.5 -6.640625 0.6875 -5.90625 0.6875 -4.96875 C 0.6875 -4.796875 0.703125 -4.34375 1.125 -3.875 C 1.234375 -3.765625 1.609375 -3.515625 1.859375 -3.34375 C 1.28125 -3.046875 0.421875 -2.5 0.421875 -1.5 C 0.421875 -0.453125 1.4375 0.21875 2.484375 0.21875 C 3.609375 0.21875 4.5625 -0.609375 4.5625 -1.671875 C 4.5625 -2.03125 4.453125 -2.484375 4.0625 -2.90625 C 3.875 -3.109375 3.71875 -3.203125 3.078125 -3.609375 Z M 2.078125 -3.1875 L 3.3125 -2.40625 C 3.59375 -2.21875 4.0625 -1.921875 4.0625 -1.3125 C 4.0625 -0.578125 3.3125 -0.0625 2.5 -0.0625 C 1.640625 -0.0625 0.921875 -0.671875 0.921875 -1.5 C 0.921875 -2.078125 1.234375 -2.71875 2.078125 -3.1875 Z M 2.078125 -3.1875 \\\"\\/>\\n<\\/symbol>\\n<symbol overflow=\\\"visible\\\" id=\\\"glyph-1562715734929603-0-20\\\">\\n<path style=\\\"stroke:none;\\\" d=\\\"M 1.90625 -0.53125 C 1.90625 -0.8125 1.671875 -1.0625 1.390625 -1.0625 C 1.09375 -1.0625 0.859375 -0.8125 0.859375 -0.53125 C 0.859375 -0.234375 1.09375 0 1.390625 0 C 1.671875 0 1.90625 -0.234375 1.90625 -0.53125 Z M 1.90625 -0.53125 \\\"\\/>\\n<\\/symbol>\\n<symbol overflow=\\\"visible\\\" id=\\\"glyph-1562715734929603-0-21\\\">\\n<path style=\\\"stroke:none;\\\" d=\\\"M 3.65625 -3.171875 L 3.65625 -2.84375 C 3.65625 -0.515625 2.625 -0.0625 2.046875 -0.0625 C 1.875 -0.0625 1.328125 -0.078125 1.0625 -0.421875 C 1.5 -0.421875 1.578125 -0.703125 1.578125 -0.875 C 1.578125 -1.1875 1.34375 -1.328125 1.125 -1.328125 C 0.96875 -1.328125 0.671875 -1.25 0.671875 -0.859375 C 0.671875 -0.1875 1.203125 0.21875 2.046875 0.21875 C 3.34375 0.21875 4.5625 -1.140625 4.5625 -3.28125 C 4.5625 -5.96875 3.40625 -6.640625 2.515625 -6.640625 C 1.96875 -6.640625 1.484375 -6.453125 1.0625 -6.015625 C 0.640625 -5.5625 0.421875 -5.140625 0.421875 -4.390625 C 0.421875 -3.15625 1.296875 -2.171875 2.40625 -2.171875 C 3.015625 -2.171875 3.421875 -2.59375 3.65625 -3.171875 Z M 2.421875 -2.40625 C 2.265625 -2.40625 1.796875 -2.40625 1.5 -3.03125 C 1.3125 -3.40625 1.3125 -3.890625 1.3125 -4.390625 C 1.3125 -4.921875 1.3125 -5.390625 1.53125 -5.765625 C 1.796875 -6.265625 2.171875 -6.390625 2.515625 -6.390625 C 2.984375 -6.390625 3.3125 -6.046875 3.484375 -5.609375 C 3.59375 -5.28125 3.640625 -4.65625 3.640625 -4.203125 C 3.640625 -3.375 3.296875 -2.40625 2.421875 -2.40625 Z M 2.421875 -2.40625 \\\"\\/>\\n<\\/symbol>\\n<symbol overflow=\\\"visible\\\" id=\\\"glyph-1562715734929603-0-22\\\">\\n<path style=\\\"stroke:none;\\\" d=\\\"M 4.578125 -3.1875 C 4.578125 -3.984375 4.53125 -4.78125 4.1875 -5.515625 C 3.734375 -6.484375 2.90625 -6.640625 2.5 -6.640625 C 1.890625 -6.640625 1.171875 -6.375 0.75 -5.453125 C 0.4375 -4.765625 0.390625 -3.984375 0.390625 -3.1875 C 0.390625 -2.4375 0.421875 -1.546875 0.84375 -0.78125 C 1.265625 0.015625 2 0.21875 2.484375 0.21875 C 3.015625 0.21875 3.78125 0.015625 4.21875 -0.9375 C 4.53125 -1.625 4.578125 -2.40625 4.578125 -3.1875 Z M 2.484375 0 C 2.09375 0 1.5 -0.25 1.328125 -1.203125 C 1.21875 -1.796875 1.21875 -2.71875 1.21875 -3.3125 C 1.21875 -3.953125 1.21875 -4.609375 1.296875 -5.140625 C 1.484375 -6.328125 2.234375 -6.421875 2.484375 -6.421875 C 2.8125 -6.421875 3.46875 -6.234375 3.65625 -5.25 C 3.765625 -4.6875 3.765625 -3.9375 3.765625 -3.3125 C 3.765625 -2.5625 3.765625 -1.890625 3.65625 -1.25 C 3.5 -0.296875 2.9375 0 2.484375 0 Z M 2.484375 0 \\\"\\/>\\n<\\/symbol>\\n<symbol overflow=\\\"visible\\\" id=\\\"glyph-1562715734929603-0-23\\\">\\n<path style=\\\"stroke:none;\\\" d=\\\"M 2.9375 -6.375 C 2.9375 -6.625 2.9375 -6.640625 2.703125 -6.640625 C 2.078125 -6 1.203125 -6 0.890625 -6 L 0.890625 -5.6875 C 1.09375 -5.6875 1.671875 -5.6875 2.1875 -5.953125 L 2.1875 -0.78125 C 2.1875 -0.421875 2.15625 -0.3125 1.265625 -0.3125 L 0.953125 -0.3125 L 0.953125 0 C 1.296875 -0.03125 2.15625 -0.03125 2.5625 -0.03125 C 2.953125 -0.03125 3.828125 -0.03125 4.171875 0 L 4.171875 -0.3125 L 3.859375 -0.3125 C 2.953125 -0.3125 2.9375 -0.421875 2.9375 -0.78125 Z M 2.9375 -6.375 \\\"\\/>\\n<\\/symbol>\\n<symbol overflow=\\\"visible\\\" id=\\\"glyph-1562715734929603-0-24\\\">\\n<path style=\\\"stroke:none;\\\" d=\\\"M 2.890625 -3.515625 C 3.703125 -3.78125 4.28125 -4.46875 4.28125 -5.265625 C 4.28125 -6.078125 3.40625 -6.640625 2.453125 -6.640625 C 1.453125 -6.640625 0.6875 -6.046875 0.6875 -5.28125 C 0.6875 -4.953125 0.90625 -4.765625 1.203125 -4.765625 C 1.5 -4.765625 1.703125 -4.984375 1.703125 -5.28125 C 1.703125 -5.765625 1.234375 -5.765625 1.09375 -5.765625 C 1.390625 -6.265625 2.046875 -6.390625 2.40625 -6.390625 C 2.828125 -6.390625 3.375 -6.171875 3.375 -5.28125 C 3.375 -5.15625 3.34375 -4.578125 3.09375 -4.140625 C 2.796875 -3.65625 2.453125 -3.625 2.203125 -3.625 C 2.125 -3.609375 1.890625 -3.59375 1.8125 -3.59375 C 1.734375 -3.578125 1.671875 -3.5625 1.671875 -3.46875 C 1.671875 -3.359375 1.734375 -3.359375 1.90625 -3.359375 L 2.34375 -3.359375 C 3.15625 -3.359375 3.53125 -2.6875 3.53125 -1.703125 C 3.53125 -0.34375 2.84375 -0.0625 2.40625 -0.0625 C 1.96875 -0.0625 1.21875 -0.234375 0.875 -0.8125 C 1.21875 -0.765625 1.53125 -0.984375 1.53125 -1.359375 C 1.53125 -1.71875 1.265625 -1.921875 0.984375 -1.921875 C 0.734375 -1.921875 0.421875 -1.78125 0.421875 -1.34375 C 0.421875 -0.4375 1.34375 0.21875 2.4375 0.21875 C 3.65625 0.21875 4.5625 -0.6875 4.5625 -1.703125 C 4.5625 -2.515625 3.921875 -3.296875 2.890625 -3.515625 Z M 2.890625 -3.515625 \\\"\\/>\\n<\\/symbol>\\n<symbol overflow=\\\"visible\\\" id=\\\"glyph-1562715734929603-0-25\\\">\\n<path style=\\\"stroke:none;\\\" d=\\\"M 1.359375 -0.78125 C 1.359375 -0.421875 1.328125 -0.3125 0.5625 -0.3125 L 0.328125 -0.3125 L 0.328125 0 L 6.078125 0 L 6.5 -2.578125 L 6.25 -2.578125 C 6 -1.03125 5.765625 -0.3125 4.0625 -0.3125 L 2.734375 -0.3125 C 2.265625 -0.3125 2.25 -0.375 2.25 -0.703125 L 2.25 -3.375 L 3.140625 -3.375 C 4.109375 -3.375 4.21875 -3.046875 4.21875 -2.203125 L 4.46875 -2.203125 L 4.46875 -4.84375 L 4.21875 -4.84375 C 4.21875 -3.984375 4.109375 -3.671875 3.140625 -3.671875 L 2.25 -3.671875 L 2.25 -6.078125 C 2.25 -6.40625 2.265625 -6.46875 2.734375 -6.46875 L 4.015625 -6.46875 C 5.546875 -6.46875 5.8125 -5.921875 5.96875 -4.53125 L 6.21875 -4.53125 L 5.9375 -6.78125 L 0.328125 -6.78125 L 0.328125 -6.46875 L 0.5625 -6.46875 C 1.328125 -6.46875 1.359375 -6.359375 1.359375 -6 Z M 1.359375 -0.78125 \\\"\\/>\\n<\\/symbol>\\n<symbol overflow=\\\"visible\\\" id=\\\"glyph-1562715734929603-0-26\\\">\\n<path style=\\\"stroke:none;\\\" d=\\\"M 2.078125 -1.9375 C 2.296875 -1.890625 3.109375 -1.734375 3.109375 -1.015625 C 3.109375 -0.515625 2.765625 -0.109375 1.984375 -0.109375 C 1.140625 -0.109375 0.78125 -0.671875 0.59375 -1.53125 C 0.5625 -1.65625 0.5625 -1.6875 0.453125 -1.6875 C 0.328125 -1.6875 0.328125 -1.625 0.328125 -1.453125 L 0.328125 -0.125 C 0.328125 0.046875 0.328125 0.109375 0.4375 0.109375 C 0.484375 0.109375 0.5 0.09375 0.6875 -0.09375 C 0.703125 -0.109375 0.703125 -0.125 0.890625 -0.3125 C 1.328125 0.09375 1.78125 0.109375 1.984375 0.109375 C 3.125 0.109375 3.59375 -0.5625 3.59375 -1.28125 C 3.59375 -1.796875 3.296875 -2.109375 3.171875 -2.21875 C 2.84375 -2.546875 2.453125 -2.625 2.03125 -2.703125 C 1.46875 -2.8125 0.8125 -2.9375 0.8125 -3.515625 C 0.8125 -3.875 1.0625 -4.28125 1.921875 -4.28125 C 3.015625 -4.28125 3.078125 -3.375 3.09375 -3.078125 C 3.09375 -2.984375 3.1875 -2.984375 3.203125 -2.984375 C 3.34375 -2.984375 3.34375 -3.03125 3.34375 -3.21875 L 3.34375 -4.234375 C 3.34375 -4.390625 3.34375 -4.46875 3.234375 -4.46875 C 3.1875 -4.46875 3.15625 -4.46875 3.03125 -4.34375 C 3 -4.3125 2.90625 -4.21875 2.859375 -4.1875 C 2.484375 -4.46875 2.078125 -4.46875 1.921875 -4.46875 C 0.703125 -4.46875 0.328125 -3.796875 0.328125 -3.234375 C 0.328125 -2.890625 0.484375 -2.609375 0.75 -2.390625 C 1.078125 -2.140625 1.359375 -2.078125 2.078125 -1.9375 Z M 2.078125 -1.9375 \\\"\\/>\\n<\\/symbol>\\n<symbol overflow=\\\"visible\\\" id=\\\"glyph-1562715734929603-0-27\\\">\\n<path style=\\\"stroke:none;\\\" d=\\\"M 3.296875 2.390625 C 3.296875 2.359375 3.296875 2.34375 3.125 2.171875 C 1.890625 0.921875 1.5625 -0.96875 1.5625 -2.5 C 1.5625 -4.234375 1.9375 -5.96875 3.171875 -7.203125 C 3.296875 -7.328125 3.296875 -7.34375 3.296875 -7.375 C 3.296875 -7.453125 3.265625 -7.484375 3.203125 -7.484375 C 3.09375 -7.484375 2.203125 -6.796875 1.609375 -5.53125 C 1.109375 -4.4375 0.984375 -3.328125 0.984375 -2.5 C 0.984375 -1.71875 1.09375 -0.515625 1.640625 0.625 C 2.25 1.84375 3.09375 2.5 3.203125 2.5 C 3.265625 2.5 3.296875 2.46875 3.296875 2.390625 Z M 3.296875 2.390625 \\\"\\/>\\n<\\/symbol>\\n<symbol overflow=\\\"visible\\\" id=\\\"glyph-1562715734929603-0-28\\\">\\n<path style=\\\"stroke:none;\\\" d=\\\"M 1.09375 -3.421875 L 1.09375 -0.75 C 1.09375 -0.3125 0.984375 -0.3125 0.3125 -0.3125 L 0.3125 0 C 0.671875 -0.015625 1.171875 -0.03125 1.453125 -0.03125 C 1.703125 -0.03125 2.21875 -0.015625 2.5625 0 L 2.5625 -0.3125 C 1.890625 -0.3125 1.78125 -0.3125 1.78125 -0.75 L 1.78125 -2.59375 C 1.78125 -3.625 2.5 -4.1875 3.125 -4.1875 C 3.765625 -4.1875 3.875 -3.65625 3.875 -3.078125 L 3.875 -0.75 C 3.875 -0.3125 3.765625 -0.3125 3.09375 -0.3125 L 3.09375 0 C 3.4375 -0.015625 3.953125 -0.03125 4.21875 -0.03125 C 4.46875 -0.03125 5 -0.015625 5.328125 0 L 5.328125 -0.3125 C 4.671875 -0.3125 4.5625 -0.3125 4.5625 -0.75 L 4.5625 -2.59375 C 4.5625 -3.625 5.265625 -4.1875 5.90625 -4.1875 C 6.53125 -4.1875 6.640625 -3.65625 6.640625 -3.078125 L 6.640625 -0.75 C 6.640625 -0.3125 6.53125 -0.3125 5.859375 -0.3125 L 5.859375 0 C 6.203125 -0.015625 6.71875 -0.03125 6.984375 -0.03125 C 7.25 -0.03125 7.765625 -0.015625 8.109375 0 L 8.109375 -0.3125 C 7.59375 -0.3125 7.34375 -0.3125 7.328125 -0.609375 L 7.328125 -2.515625 C 7.328125 -3.375 7.328125 -3.671875 7.015625 -4.03125 C 6.875 -4.203125 6.546875 -4.40625 5.96875 -4.40625 C 5.140625 -4.40625 4.6875 -3.8125 4.53125 -3.421875 C 4.390625 -4.296875 3.65625 -4.40625 3.203125 -4.40625 C 2.46875 -4.40625 2 -3.984375 1.71875 -3.359375 L 1.71875 -4.40625 L 0.3125 -4.296875 L 0.3125 -3.984375 C 1.015625 -3.984375 1.09375 -3.921875 1.09375 -3.421875 Z M 1.09375 -3.421875 \\\"\\/>\\n<\\/symbol>\\n<symbol overflow=\\\"visible\\\" id=\\\"glyph-1562715734929603-0-29\\\">\\n<path style=\\\"stroke:none;\\\" d=\\\"M 2.875 -2.5 C 2.875 -3.265625 2.765625 -4.46875 2.21875 -5.609375 C 1.625 -6.828125 0.765625 -7.484375 0.671875 -7.484375 C 0.609375 -7.484375 0.5625 -7.4375 0.5625 -7.375 C 0.5625 -7.34375 0.5625 -7.328125 0.75 -7.140625 C 1.734375 -6.15625 2.296875 -4.578125 2.296875 -2.5 C 2.296875 -0.78125 1.9375 0.96875 0.703125 2.21875 C 0.5625 2.34375 0.5625 2.359375 0.5625 2.390625 C 0.5625 2.453125 0.609375 2.5 0.671875 2.5 C 0.765625 2.5 1.671875 1.8125 2.25 0.546875 C 2.765625 -0.546875 2.875 -1.65625 2.875 -2.5 Z M 2.875 -2.5 \\\"\\/>\\n<\\/symbol>\\n<symbol overflow=\\\"visible\\\" id=\\\"glyph-1562715734929603-0-30\\\">\\n<path style=\\\"stroke:none;\\\" d=\\\"M 5.90625 -0.625 C 6.046875 -0.40625 6.4375 -0.015625 6.546875 -0.015625 C 6.640625 -0.015625 6.640625 -0.09375 6.640625 -0.234375 L 6.640625 -1.96875 C 6.640625 -2.359375 6.671875 -2.40625 7.328125 -2.40625 L 7.328125 -2.71875 C 6.953125 -2.71875 6.40625 -2.6875 6.109375 -2.6875 C 5.71875 -2.6875 4.859375 -2.6875 4.5 -2.71875 L 4.5 -2.40625 L 4.828125 -2.40625 C 5.71875 -2.40625 5.75 -2.296875 5.75 -1.9375 L 5.75 -1.296875 C 5.75 -0.171875 4.484375 -0.09375 4.203125 -0.09375 C 3.5625 -0.09375 1.578125 -0.4375 1.578125 -3.40625 C 1.578125 -6.390625 3.546875 -6.71875 4.140625 -6.71875 C 5.21875 -6.71875 6.125 -5.828125 6.3125 -4.359375 C 6.34375 -4.21875 6.34375 -4.1875 6.484375 -4.1875 C 6.640625 -4.1875 6.640625 -4.21875 6.640625 -4.421875 L 6.640625 -6.78125 C 6.640625 -6.953125 6.640625 -7.03125 6.53125 -7.03125 C 6.484375 -7.03125 6.453125 -7.03125 6.375 -6.90625 L 5.875 -6.171875 C 5.546875 -6.484375 5.015625 -7.03125 4.03125 -7.03125 C 2.171875 -7.03125 0.5625 -5.453125 0.5625 -3.40625 C 0.5625 -1.359375 2.15625 0.21875 4.046875 0.21875 C 4.78125 0.21875 5.578125 -0.046875 5.90625 -0.625 Z M 5.90625 -0.625 \\\"\\/>\\n<\\/symbol>\\n<symbol overflow=\\\"visible\\\" id=\\\"glyph-1562715734929603-0-31\\\">\\n<path style=\\\"stroke:none;\\\" d=\\\"M 3.890625 -0.78125 L 3.890625 0.109375 L 5.328125 0 L 5.328125 -0.3125 C 4.640625 -0.3125 4.5625 -0.375 4.5625 -0.875 L 4.5625 -4.40625 L 3.09375 -4.296875 L 3.09375 -3.984375 C 3.78125 -3.984375 3.875 -3.921875 3.875 -3.421875 L 3.875 -1.65625 C 3.875 -0.78125 3.390625 -0.109375 2.65625 -0.109375 C 1.828125 -0.109375 1.78125 -0.578125 1.78125 -1.09375 L 1.78125 -4.40625 L 0.3125 -4.296875 L 0.3125 -3.984375 C 1.09375 -3.984375 1.09375 -3.953125 1.09375 -3.078125 L 1.09375 -1.578125 C 1.09375 -0.796875 1.09375 0.109375 2.609375 0.109375 C 3.171875 0.109375 3.609375 -0.171875 3.890625 -0.78125 Z M 3.890625 -0.78125 \\\"\\/>\\n<\\/symbol>\\n<symbol overflow=\\\"visible\\\" id=\\\"glyph-1562715734929603-0-32\\\">\\n<path style=\\\"stroke:none;\\\" d=\\\"M 3.78125 -0.546875 L 3.78125 0.109375 L 5.25 0 L 5.25 -0.3125 C 4.5625 -0.3125 4.46875 -0.375 4.46875 -0.875 L 4.46875 -6.921875 L 3.046875 -6.8125 L 3.046875 -6.5 C 3.734375 -6.5 3.8125 -6.4375 3.8125 -5.9375 L 3.8125 -3.78125 C 3.53125 -4.140625 3.09375 -4.40625 2.5625 -4.40625 C 1.390625 -4.40625 0.34375 -3.421875 0.34375 -2.140625 C 0.34375 -0.875 1.3125 0.109375 2.453125 0.109375 C 3.09375 0.109375 3.53125 -0.234375 3.78125 -0.546875 Z M 3.78125 -3.21875 L 3.78125 -1.171875 C 3.78125 -1 3.78125 -0.984375 3.671875 -0.8125 C 3.375 -0.328125 2.9375 -0.109375 2.5 -0.109375 C 2.046875 -0.109375 1.6875 -0.375 1.453125 -0.75 C 1.203125 -1.15625 1.171875 -1.71875 1.171875 -2.140625 C 1.171875 -2.5 1.1875 -3.09375 1.46875 -3.546875 C 1.6875 -3.859375 2.0625 -4.1875 2.609375 -4.1875 C 2.953125 -4.1875 3.375 -4.03125 3.671875 -3.59375 C 3.78125 -3.421875 3.78125 -3.40625 3.78125 -3.21875 Z M 3.78125 -3.21875 \\\"\\/>\\n<\\/symbol>\\n<symbol overflow=\\\"visible\\\" id=\\\"glyph-1562715734929603-0-33\\\">\\n<path style=\\\"stroke:none;\\\" d=\\\"M 6.640625 -6.75 L 0.546875 -6.75 L 0.359375 -4.5 L 0.609375 -4.5 C 0.75 -6.109375 0.890625 -6.4375 2.40625 -6.4375 C 2.578125 -6.4375 2.84375 -6.4375 2.9375 -6.421875 C 3.15625 -6.375 3.15625 -6.265625 3.15625 -6.046875 L 3.15625 -0.78125 C 3.15625 -0.453125 3.15625 -0.3125 2.109375 -0.3125 L 1.703125 -0.3125 L 1.703125 0 C 2.109375 -0.03125 3.125 -0.03125 3.59375 -0.03125 C 4.046875 -0.03125 5.078125 -0.03125 5.484375 0 L 5.484375 -0.3125 L 5.078125 -0.3125 C 4.03125 -0.3125 4.03125 -0.453125 4.03125 -0.78125 L 4.03125 -6.046875 C 4.03125 -6.234375 4.03125 -6.375 4.21875 -6.421875 C 4.328125 -6.4375 4.59375 -6.4375 4.78125 -6.4375 C 6.296875 -6.4375 6.4375 -6.109375 6.578125 -4.5 L 6.828125 -4.5 Z M 6.640625 -6.75 \\\"\\/>\\n<\\/symbol>\\n<symbol overflow=\\\"visible\\\" id=\\\"glyph-1562715734929603-0-34\\\">\\n<path style=\\\"stroke:none;\\\" d=\\\"M 1.0625 -0.75 C 1.0625 -0.3125 0.953125 -0.3125 0.28125 -0.3125 L 0.28125 0 C 0.609375 -0.015625 1.078125 -0.03125 1.359375 -0.03125 C 1.671875 -0.03125 2.0625 -0.015625 2.46875 0 L 2.46875 -0.3125 C 1.796875 -0.3125 1.6875 -0.3125 1.6875 -0.75 L 1.6875 -1.78125 L 2.328125 -2.328125 C 3.09375 -1.28125 3.515625 -0.71875 3.515625 -0.53125 C 3.515625 -0.34375 3.34375 -0.3125 3.15625 -0.3125 L 3.15625 0 C 3.421875 -0.015625 4.015625 -0.03125 4.234375 -0.03125 C 4.515625 -0.03125 4.8125 -0.015625 5.09375 0 L 5.09375 -0.3125 C 4.71875 -0.3125 4.5 -0.3125 4.125 -0.84375 L 2.859375 -2.625 C 2.84375 -2.640625 2.796875 -2.703125 2.796875 -2.734375 C 2.796875 -2.765625 3.515625 -3.375 3.609375 -3.453125 C 4.234375 -3.953125 4.65625 -3.984375 4.859375 -3.984375 L 4.859375 -4.296875 C 4.578125 -4.265625 4.453125 -4.265625 4.171875 -4.265625 C 3.8125 -4.265625 3.1875 -4.28125 3.046875 -4.296875 L 3.046875 -3.984375 C 3.234375 -3.984375 3.34375 -3.875 3.34375 -3.734375 C 3.34375 -3.53125 3.203125 -3.421875 3.125 -3.34375 L 1.71875 -2.140625 L 1.71875 -6.921875 L 0.28125 -6.8125 L 0.28125 -6.5 C 0.984375 -6.5 1.0625 -6.4375 1.0625 -5.9375 Z M 1.0625 -0.75 \\\"\\/>\\n<\\/symbol>\\n<symbol overflow=\\\"visible\\\" id=\\\"glyph-1562715734929603-0-35\\\">\\n<path style=\\\"stroke:none;\\\" d=\\\"M 1.3125 -3.265625 L 1.3125 -3.515625 C 1.3125 -6.03125 2.546875 -6.390625 3.0625 -6.390625 C 3.296875 -6.390625 3.71875 -6.328125 3.9375 -5.984375 C 3.78125 -5.984375 3.390625 -5.984375 3.390625 -5.546875 C 3.390625 -5.234375 3.625 -5.078125 3.84375 -5.078125 C 4 -5.078125 4.3125 -5.171875 4.3125 -5.5625 C 4.3125 -6.15625 3.875 -6.640625 3.046875 -6.640625 C 1.765625 -6.640625 0.421875 -5.359375 0.421875 -3.15625 C 0.421875 -0.484375 1.578125 0.21875 2.5 0.21875 C 3.609375 0.21875 4.5625 -0.71875 4.5625 -2.03125 C 4.5625 -3.296875 3.671875 -4.25 2.5625 -4.25 C 1.890625 -4.25 1.515625 -3.75 1.3125 -3.265625 Z M 2.5 -0.0625 C 1.875 -0.0625 1.578125 -0.65625 1.515625 -0.8125 C 1.328125 -1.28125 1.328125 -2.078125 1.328125 -2.25 C 1.328125 -3.03125 1.65625 -4.03125 2.546875 -4.03125 C 2.71875 -4.03125 3.171875 -4.03125 3.484375 -3.40625 C 3.65625 -3.046875 3.65625 -2.53125 3.65625 -2.046875 C 3.65625 -1.5625 3.65625 -1.0625 3.484375 -0.703125 C 3.1875 -0.109375 2.734375 -0.0625 2.5 -0.0625 Z M 2.5 -0.0625 \\\"\\/>\\n<\\/symbol>\\n<symbol overflow=\\\"visible\\\" id=\\\"glyph-1562715734929603-0-36\\\">\\n<path style=\\\"stroke:none;\\\" d=\\\"M 2.265625 -3.15625 L 3.953125 -3.15625 C 5.140625 -3.15625 6.21875 -3.953125 6.21875 -4.953125 C 6.21875 -5.9375 5.234375 -6.8125 3.875 -6.8125 L 0.34375 -6.8125 L 0.34375 -6.5 L 0.59375 -6.5 C 1.359375 -6.5 1.375 -6.390625 1.375 -6.03125 L 1.375 -0.78125 C 1.375 -0.421875 1.359375 -0.3125 0.59375 -0.3125 L 0.34375 -0.3125 L 0.34375 0 C 0.703125 -0.03125 1.4375 -0.03125 1.8125 -0.03125 C 2.1875 -0.03125 2.9375 -0.03125 3.296875 0 L 3.296875 -0.3125 L 3.046875 -0.3125 C 2.28125 -0.3125 2.265625 -0.421875 2.265625 -0.78125 Z M 2.234375 -3.40625 L 2.234375 -6.09375 C 2.234375 -6.4375 2.25 -6.5 2.71875 -6.5 L 3.609375 -6.5 C 5.1875 -6.5 5.1875 -5.4375 5.1875 -4.953125 C 5.1875 -4.484375 5.1875 -3.40625 3.609375 -3.40625 Z M 2.234375 -3.40625 \\\"\\/>\\n<\\/symbol>\\n<symbol overflow=\\\"visible\\\" id=\\\"glyph-1562715734929603-0-37\\\">\\n<path style=\\\"stroke:none;\\\" d=\\\"M 3.296875 -3.984375 C 3.75 -3.984375 3.8125 -3.859375 3.8125 -3.453125 L 3.8125 -0.75 C 3.8125 -0.3125 3.703125 -0.3125 3.046875 -0.3125 L 3.046875 0 C 3.375 -0.015625 3.890625 -0.03125 4.140625 -0.03125 C 4.390625 -0.03125 4.890625 -0.015625 5.25 0 L 5.25 -0.3125 C 4.578125 -0.3125 4.46875 -0.3125 4.46875 -0.75 L 4.46875 -4.421875 L 3.21875 -4.328125 C 3.0625 -4.3125 3.046875 -4.3125 3.046875 -4.3125 C 3.015625 -4.296875 3 -4.296875 2.859375 -4.296875 L 1.6875 -4.296875 L 1.6875 -5.421875 C 1.6875 -6.40625 2.546875 -6.8125 3.15625 -6.8125 C 3.453125 -6.8125 3.8125 -6.703125 4.015625 -6.484375 C 3.609375 -6.453125 3.546875 -6.1875 3.546875 -6.015625 C 3.546875 -5.6875 3.8125 -5.5625 4 -5.5625 C 4.234375 -5.5625 4.453125 -5.71875 4.453125 -6.015625 C 4.453125 -6.609375 3.90625 -7.03125 3.171875 -7.03125 C 2.25 -7.03125 1.0625 -6.515625 1.0625 -5.4375 L 1.0625 -4.296875 L 0.265625 -4.296875 L 0.265625 -3.984375 L 1.0625 -3.984375 L 1.0625 -0.75 C 1.0625 -0.3125 0.953125 -0.3125 0.28125 -0.3125 L 0.28125 0 C 0.609375 -0.015625 1.140625 -0.03125 1.390625 -0.03125 C 1.640625 -0.03125 2.125 -0.015625 2.5 0 L 2.5 -0.3125 C 1.828125 -0.3125 1.71875 -0.3125 1.71875 -0.75 L 1.71875 -3.984375 Z M 3.296875 -3.984375 \\\"\\/>\\n<\\/symbol>\\n<symbol overflow=\\\"visible\\\" id=\\\"glyph-1562715734929603-1-0\\\">\\n<path style=\\\"stroke:none;\\\" d=\\\"\\\"\\/>\\n<\\/symbol>\\n<symbol overflow=\\\"visible\\\" id=\\\"glyph-1562715734929603-1-1\\\">\\n<path style=\\\"stroke:none;\\\" d=\\\"M 2.03125 -0.015625 C 2.03125 -0.671875 1.78125 -1.0625 1.390625 -1.0625 C 1.0625 -1.0625 0.859375 -0.8125 0.859375 -0.53125 C 0.859375 -0.265625 1.0625 0 1.390625 0 C 1.5 0 1.640625 -0.046875 1.734375 -0.125 C 1.765625 -0.15625 1.78125 -0.15625 1.78125 -0.15625 C 1.796875 -0.15625 1.796875 -0.15625 1.796875 -0.015625 C 1.796875 0.734375 1.453125 1.328125 1.125 1.65625 C 1.015625 1.765625 1.015625 1.78125 1.015625 1.8125 C 1.015625 1.890625 1.0625 1.921875 1.109375 1.921875 C 1.21875 1.921875 2.03125 1.15625 2.03125 -0.015625 Z M 2.03125 -0.015625 \\\"\\/>\\n<\\/symbol>\\n<symbol overflow=\\\"visible\\\" id=\\\"glyph-1562715734929603-2-0\\\">\\n<path style=\\\"stroke:none;\\\" d=\\\"\\\"\\/>\\n<\\/symbol>\\n<symbol overflow=\\\"visible\\\" id=\\\"glyph-1562715734929603-2-1\\\">\\n<path style=\\\"stroke:none;\\\" d=\\\"M 6.5625 -2.296875 C 6.734375 -2.296875 6.921875 -2.296875 6.921875 -2.5 C 6.921875 -2.6875 6.734375 -2.6875 6.5625 -2.6875 L 1.171875 -2.6875 C 1 -2.6875 0.828125 -2.6875 0.828125 -2.5 C 0.828125 -2.296875 1 -2.296875 1.171875 -2.296875 Z M 6.5625 -2.296875 \\\"\\/>\\n<\\/symbol>\\n<symbol overflow=\\\"visible\\\" id=\\\"glyph-1562715734929603-3-0\\\">\\n<path style=\\\"stroke:none;\\\" d=\\\"\\\"\\/>\\n<\\/symbol>\\n<symbol overflow=\\\"visible\\\" id=\\\"glyph-1562715734929603-3-1\\\">\\n<path style=\\\"stroke:none;\\\" d=\\\"M -6.671875 -2.3125 C -6.796875 -2.21875 -6.8125 -2.21875 -6.8125 -2.03125 L -6.8125 -0.328125 L -6.5 -0.328125 L -6.5 -0.625 C -6.5 -0.765625 -6.484375 -0.96875 -6.484375 -1.109375 C -6.453125 -1.34375 -6.4375 -1.359375 -6.25 -1.359375 L -1.046875 -1.359375 C -0.78125 -1.359375 -0.3125 -1.359375 -0.3125 -0.328125 L 0 -0.328125 C -0.015625 -0.671875 -0.03125 -1.171875 -0.03125 -1.5 C -0.03125 -1.828125 -0.015625 -2.3125 0 -2.65625 L -0.3125 -2.65625 C -0.3125 -1.640625 -0.78125 -1.640625 -1.046875 -1.640625 L -6.234375 -1.640625 C -6.1875 -1.6875 -6.171875 -1.6875 -6.109375 -1.734375 L -0.125 -5.796875 C -0.015625 -5.890625 0 -5.90625 0 -5.96875 C 0 -6.109375 -0.0625 -6.109375 -0.265625 -6.109375 L -5.765625 -6.109375 C -6.03125 -6.109375 -6.5 -6.109375 -6.5 -7.140625 L -6.8125 -7.140625 C -6.796875 -6.78125 -6.78125 -6.296875 -6.78125 -5.96875 C -6.78125 -5.640625 -6.796875 -5.15625 -6.8125 -4.8125 L -6.5 -4.8125 C -6.5 -5.828125 -6.03125 -5.828125 -5.765625 -5.828125 L -1.5 -5.828125 Z M -6.671875 -2.3125 \\\"\\/>\\n<\\/symbol>\\n<symbol overflow=\\\"visible\\\" id=\\\"glyph-1562715734929603-3-2\\\">\\n<path style=\\\"stroke:none;\\\" d=\\\"M -2.140625 -4.6875 C -3.40625 -4.6875 -4.46875 -3.703125 -4.46875 -2.5 C -4.46875 -1.25 -3.375 -0.28125 -2.140625 -0.28125 C -0.84375 -0.28125 0.109375 -1.3125 0.109375 -2.484375 C 0.109375 -3.6875 -0.875 -4.6875 -2.140625 -4.6875 Z M -0.140625 -2.5 C -0.140625 -2.0625 -0.34375 -1.625 -0.8125 -1.359375 C -1.25 -1.109375 -1.859375 -1.109375 -2.21875 -1.109375 C -2.609375 -1.109375 -3.140625 -1.109375 -3.578125 -1.34375 C -4.03125 -1.609375 -4.25 -2.078125 -4.25 -2.484375 C -4.25 -2.921875 -4.03125 -3.34375 -3.59375 -3.609375 C -3.171875 -3.875 -2.59375 -3.875 -2.21875 -3.875 C -1.859375 -3.875 -1.3125 -3.875 -0.875 -3.65625 C -0.421875 -3.421875 -0.140625 -2.984375 -0.140625 -2.5 Z M -0.140625 -2.5 \\\"\\/>\\n<\\/symbol>\\n<symbol overflow=\\\"visible\\\" id=\\\"glyph-1562715734929603-3-3\\\">\\n<path style=\\\"stroke:none;\\\" d=\\\"M -3.3125 -1.671875 L -4.40625 -1.671875 L -4.296875 -0.28125 L -3.984375 -0.28125 C -3.984375 -0.984375 -3.921875 -1.0625 -3.421875 -1.0625 L -0.75 -1.0625 C -0.3125 -1.0625 -0.3125 -0.953125 -0.3125 -0.28125 L 0 -0.28125 C -0.015625 -0.671875 -0.03125 -1.140625 -0.03125 -1.421875 C -0.03125 -1.8125 -0.03125 -2.28125 0 -2.6875 L -0.3125 -2.6875 L -0.3125 -2.46875 C -0.3125 -1.734375 -0.421875 -1.71875 -0.78125 -1.71875 L -2.3125 -1.71875 C -3.296875 -1.71875 -4.1875 -2.140625 -4.1875 -2.890625 C -4.1875 -2.953125 -4.1875 -2.984375 -4.171875 -3 C -4.171875 -2.96875 -4.046875 -2.765625 -3.78125 -2.765625 C -3.515625 -2.765625 -3.359375 -2.984375 -3.359375 -3.203125 C -3.359375 -3.375 -3.484375 -3.625 -3.796875 -3.625 C -4.109375 -3.625 -4.40625 -3.3125 -4.40625 -2.890625 C -4.40625 -2.15625 -3.734375 -1.796875 -3.3125 -1.671875 Z M -3.3125 -1.671875 \\\"\\/>\\n<\\/symbol>\\n<symbol overflow=\\\"visible\\\" id=\\\"glyph-1562715734929603-3-4\\\">\\n<path style=\\\"stroke:none;\\\" d=\\\"M -3.984375 -1.71875 L -3.984375 -3.15625 L -4.296875 -3.15625 L -4.296875 -1.71875 L -6.125 -1.71875 L -6.125 -1.46875 C -5.3125 -1.46875 -4.25 -1.171875 -4.203125 -0.1875 L -3.984375 -0.1875 L -3.984375 -1.03125 L -1.234375 -1.03125 C -0.015625 -1.03125 0.109375 -1.96875 0.109375 -2.328125 C 0.109375 -3.03125 -0.59375 -3.3125 -1.234375 -3.3125 L -1.796875 -3.3125 L -1.796875 -3.0625 L -1.25 -3.0625 C -0.515625 -3.0625 -0.140625 -2.765625 -0.140625 -2.390625 C -0.140625 -1.71875 -1.046875 -1.71875 -1.21875 -1.71875 Z M -3.984375 -1.71875 \\\"\\/>\\n<\\/symbol>\\n<symbol overflow=\\\"visible\\\" id=\\\"glyph-1562715734929603-3-5\\\">\\n<path style=\\\"stroke:none;\\\" d=\\\"M -0.75 -1.09375 C -0.3125 -1.09375 -0.3125 -0.984375 -0.3125 -0.3125 L 0 -0.3125 C -0.015625 -0.671875 -0.03125 -1.171875 -0.03125 -1.453125 C -0.03125 -1.703125 -0.015625 -2.21875 0 -2.5625 L -0.3125 -2.5625 C -0.3125 -1.890625 -0.3125 -1.78125 -0.75 -1.78125 L -2.59375 -1.78125 C -3.625 -1.78125 -4.1875 -2.5 -4.1875 -3.125 C -4.1875 -3.765625 -3.65625 -3.875 -3.078125 -3.875 L -0.75 -3.875 C -0.3125 -3.875 -0.3125 -3.765625 -0.3125 -3.09375 L 0 -3.09375 C -0.015625 -3.4375 -0.03125 -3.953125 -0.03125 -4.21875 C -0.03125 -4.46875 -0.015625 -5 0 -5.328125 L -0.3125 -5.328125 C -0.3125 -4.8125 -0.3125 -4.5625 -0.609375 -4.5625 L -2.515625 -4.5625 C -3.375 -4.5625 -3.671875 -4.5625 -4.03125 -4.25 C -4.203125 -4.109375 -4.40625 -3.78125 -4.40625 -3.203125 C -4.40625 -2.359375 -3.8125 -1.921875 -3.421875 -1.75 L -6.921875 -1.75 L -6.8125 -0.3125 L -6.5 -0.3125 C -6.5 -1.015625 -6.4375 -1.09375 -5.9375 -1.09375 Z M -0.75 -1.09375 \\\"\\/>\\n<\\/symbol>\\n<symbol overflow=\\\"visible\\\" id=\\\"glyph-1562715734929603-3-6\\\">\\n<path style=\\\"stroke:none;\\\" d=\\\"M 2.390625 -3.296875 C 2.359375 -3.296875 2.34375 -3.296875 2.171875 -3.125 C 0.921875 -1.890625 -0.96875 -1.5625 -2.5 -1.5625 C -4.234375 -1.5625 -5.96875 -1.9375 -7.203125 -3.171875 C -7.328125 -3.296875 -7.34375 -3.296875 -7.375 -3.296875 C -7.453125 -3.296875 -7.484375 -3.265625 -7.484375 -3.203125 C -7.484375 -3.09375 -6.796875 -2.203125 -5.53125 -1.609375 C -4.4375 -1.109375 -3.328125 -0.984375 -2.5 -0.984375 C -1.71875 -0.984375 -0.515625 -1.09375 0.625 -1.640625 C 1.84375 -2.25 2.5 -3.09375 2.5 -3.203125 C 2.5 -3.265625 2.46875 -3.296875 2.390625 -3.296875 Z M 2.390625 -3.296875 \\\"\\/>\\n<\\/symbol>\\n<symbol overflow=\\\"visible\\\" id=\\\"glyph-1562715734929603-3-7\\\">\\n<path style=\\\"stroke:none;\\\" d=\\\"M -3.421875 -1.09375 L -0.75 -1.09375 C -0.3125 -1.09375 -0.3125 -0.984375 -0.3125 -0.3125 L 0 -0.3125 C -0.015625 -0.671875 -0.03125 -1.171875 -0.03125 -1.453125 C -0.03125 -1.703125 -0.015625 -2.21875 0 -2.5625 L -0.3125 -2.5625 C -0.3125 -1.890625 -0.3125 -1.78125 -0.75 -1.78125 L -2.59375 -1.78125 C -3.625 -1.78125 -4.1875 -2.5 -4.1875 -3.125 C -4.1875 -3.765625 -3.65625 -3.875 -3.078125 -3.875 L -0.75 -3.875 C -0.3125 -3.875 -0.3125 -3.765625 -0.3125 -3.09375 L 0 -3.09375 C -0.015625 -3.4375 -0.03125 -3.953125 -0.03125 -4.21875 C -0.03125 -4.46875 -0.015625 -5 0 -5.328125 L -0.3125 -5.328125 C -0.3125 -4.671875 -0.3125 -4.5625 -0.75 -4.5625 L -2.59375 -4.5625 C -3.625 -4.5625 -4.1875 -5.265625 -4.1875 -5.90625 C -4.1875 -6.53125 -3.65625 -6.640625 -3.078125 -6.640625 L -0.75 -6.640625 C -0.3125 -6.640625 -0.3125 -6.53125 -0.3125 -5.859375 L 0 -5.859375 C -0.015625 -6.203125 -0.03125 -6.71875 -0.03125 -6.984375 C -0.03125 -7.25 -0.015625 -7.765625 0 -8.109375 L -0.3125 -8.109375 C -0.3125 -7.59375 -0.3125 -7.34375 -0.609375 -7.328125 L -2.515625 -7.328125 C -3.375 -7.328125 -3.671875 -7.328125 -4.03125 -7.015625 C -4.203125 -6.875 -4.40625 -6.546875 -4.40625 -5.96875 C -4.40625 -5.140625 -3.8125 -4.6875 -3.421875 -4.53125 C -4.296875 -4.390625 -4.40625 -3.65625 -4.40625 -3.203125 C -4.40625 -2.46875 -3.984375 -2 -3.359375 -1.71875 L -4.40625 -1.71875 L -4.296875 -0.3125 L -3.984375 -0.3125 C -3.984375 -1.015625 -3.921875 -1.09375 -3.421875 -1.09375 Z M -3.421875 -1.09375 \\\"\\/>\\n<\\/symbol>\\n<symbol overflow=\\\"visible\\\" id=\\\"glyph-1562715734929603-3-8\\\">\\n<path style=\\\"stroke:none;\\\" d=\\\"M -2.5 -2.875 C -3.265625 -2.875 -4.46875 -2.765625 -5.609375 -2.21875 C -6.828125 -1.625 -7.484375 -0.765625 -7.484375 -0.671875 C -7.484375 -0.609375 -7.4375 -0.5625 -7.375 -0.5625 C -7.34375 -0.5625 -7.328125 -0.5625 -7.140625 -0.75 C -6.15625 -1.734375 -4.578125 -2.296875 -2.5 -2.296875 C -0.78125 -2.296875 0.96875 -1.9375 2.21875 -0.703125 C 2.34375 -0.5625 2.359375 -0.5625 2.390625 -0.5625 C 2.453125 -0.5625 2.5 -0.609375 2.5 -0.671875 C 2.5 -0.765625 1.8125 -1.671875 0.546875 -2.25 C -0.546875 -2.765625 -1.65625 -2.875 -2.5 -2.875 Z M -2.5 -2.875 \\\"\\/>\\n<\\/symbol>\\n<symbol overflow=\\\"visible\\\" id=\\\"glyph-1562715734929603-3-9\\\">\\n<path style=\\\"stroke:none;\\\" d=\\\"M -6.9375 -3.96875 C -7.0625 -3.921875 -7.140625 -3.890625 -7.140625 -3.734375 C -7.140625 -3.578125 -7.078125 -3.546875 -6.9375 -3.5 L -0.984375 -1.4375 C -0.46875 -1.25 -0.3125 -0.859375 -0.3125 -0.3125 L 0 -0.3125 C -0.015625 -0.546875 -0.03125 -0.984375 -0.03125 -1.328125 C -0.03125 -1.640625 -0.015625 -2.15625 0 -2.484375 L -0.3125 -2.484375 C -0.3125 -1.984375 -0.5625 -1.734375 -0.8125 -1.734375 C -0.84375 -1.734375 -0.953125 -1.75 -0.96875 -1.75 L -2.265625 -2.21875 L -2.265625 -4.671875 L -0.75 -5.203125 C -0.703125 -5.21875 -0.640625 -5.234375 -0.609375 -5.234375 C -0.3125 -5.234375 -0.3125 -4.671875 -0.3125 -4.40625 L 0 -4.40625 C -0.03125 -4.765625 -0.03125 -5.46875 -0.03125 -5.84375 C -0.03125 -6.265625 -0.015625 -6.734375 0 -7.140625 L -0.3125 -7.140625 L -0.3125 -6.96875 C -0.3125 -6.375 -0.375 -6.234375 -0.703125 -6.125 Z M -5.828125 -3.4375 L -2.578125 -4.5625 L -2.578125 -2.328125 Z M -5.828125 -3.4375 \\\"\\/>\\n<\\/symbol>\\n<symbol overflow=\\\"visible\\\" id=\\\"glyph-1562715734929603-3-10\\\">\\n<path style=\\\"stroke:none;\\\" d=\\\"M -6.921875 -1.765625 L -6.8125 -0.328125 L -6.5 -0.328125 C -6.5 -1.03125 -6.4375 -1.109375 -5.9375 -1.109375 L -0.75 -1.109375 C -0.3125 -1.109375 -0.3125 -1 -0.3125 -0.328125 L 0 -0.328125 C -0.015625 -0.65625 -0.03125 -1.1875 -0.03125 -1.4375 C -0.03125 -1.6875 -0.015625 -2.171875 0 -2.546875 L -0.3125 -2.546875 C -0.3125 -1.875 -0.3125 -1.765625 -0.75 -1.765625 Z M -6.921875 -1.765625 \\\"\\/>\\n<\\/symbol>\\n<symbol overflow=\\\"visible\\\" id=\\\"glyph-1562715734929603-3-11\\\">\\n<path style=\\\"stroke:none;\\\" d=\\\"M -4.40625 -1.765625 L -4.296875 -0.375 L -3.984375 -0.375 C -3.984375 -1.015625 -3.921875 -1.109375 -3.4375 -1.109375 L -0.75 -1.109375 C -0.3125 -1.109375 -0.3125 -1 -0.3125 -0.328125 L 0 -0.328125 C -0.015625 -0.640625 -0.03125 -1.1875 -0.03125 -1.421875 C -0.03125 -1.78125 -0.015625 -2.125 0 -2.46875 L -0.3125 -2.46875 C -0.3125 -1.796875 -0.359375 -1.765625 -0.75 -1.765625 Z M -6.140625 -1.796875 C -6.453125 -1.796875 -6.671875 -1.5625 -6.671875 -1.28125 C -6.671875 -0.96875 -6.40625 -0.75 -6.140625 -0.75 C -5.875 -0.75 -5.609375 -0.96875 -5.609375 -1.28125 C -5.609375 -1.5625 -5.828125 -1.796875 -6.140625 -1.796875 Z M -6.140625 -1.796875 \\\"\\/>\\n<\\/symbol>\\n<symbol overflow=\\\"visible\\\" id=\\\"glyph-1562715734929603-3-12\\\">\\n<path style=\\\"stroke:none;\\\" d=\\\"M -0.78125 -3.890625 L 0.109375 -3.890625 L 0 -5.328125 L -0.3125 -5.328125 C -0.3125 -4.640625 -0.375 -4.5625 -0.875 -4.5625 L -4.40625 -4.5625 L -4.296875 -3.09375 L -3.984375 -3.09375 C -3.984375 -3.78125 -3.921875 -3.875 -3.421875 -3.875 L -1.65625 -3.875 C -0.78125 -3.875 -0.109375 -3.390625 -0.109375 -2.65625 C -0.109375 -1.828125 -0.578125 -1.78125 -1.09375 -1.78125 L -4.40625 -1.78125 L -4.296875 -0.3125 L -3.984375 -0.3125 C -3.984375 -1.09375 -3.953125 -1.09375 -3.078125 -1.09375 L -1.578125 -1.09375 C -0.796875 -1.09375 0.109375 -1.09375 0.109375 -2.609375 C 0.109375 -3.171875 -0.171875 -3.609375 -0.78125 -3.890625 Z M -0.78125 -3.890625 \\\"\\/>\\n<\\/symbol>\\n<symbol overflow=\\\"visible\\\" id=\\\"glyph-1562715734929603-3-13\\\">\\n<path style=\\\"stroke:none;\\\" d=\\\"M -0.546875 -3.78125 L 0.109375 -3.78125 L 0 -5.25 L -0.3125 -5.25 C -0.3125 -4.5625 -0.375 -4.46875 -0.875 -4.46875 L -6.921875 -4.46875 L -6.8125 -3.046875 L -6.5 -3.046875 C -6.5 -3.734375 -6.4375 -3.8125 -5.9375 -3.8125 L -3.78125 -3.8125 C -4.140625 -3.53125 -4.40625 -3.09375 -4.40625 -2.5625 C -4.40625 -1.390625 -3.421875 -0.34375 -2.140625 -0.34375 C -0.875 -0.34375 0.109375 -1.3125 0.109375 -2.453125 C 0.109375 -3.09375 -0.234375 -3.53125 -0.546875 -3.78125 Z M -3.21875 -3.78125 L -1.171875 -3.78125 C -1 -3.78125 -0.984375 -3.78125 -0.8125 -3.671875 C -0.328125 -3.375 -0.109375 -2.9375 -0.109375 -2.5 C -0.109375 -2.046875 -0.375 -1.6875 -0.75 -1.453125 C -1.15625 -1.203125 -1.71875 -1.171875 -2.140625 -1.171875 C -2.5 -1.171875 -3.09375 -1.1875 -3.546875 -1.46875 C -3.859375 -1.6875 -4.1875 -2.0625 -4.1875 -2.609375 C -4.1875 -2.953125 -4.03125 -3.375 -3.59375 -3.671875 C -3.421875 -3.78125 -3.40625 -3.78125 -3.21875 -3.78125 Z M -3.21875 -3.78125 \\\"\\/>\\n<\\/symbol>\\n<symbol overflow=\\\"visible\\\" id=\\\"glyph-1562715734929603-3-14\\\">\\n<path style=\\\"stroke:none;\\\" d=\\\"M -2.515625 -1.109375 C -4 -1.171875 -4.25 -2.015625 -4.25 -2.359375 C -4.25 -3.375 -2.90625 -3.484375 -2.515625 -3.484375 Z M -2.296875 -1.109375 L -2.296875 -3.890625 C -2.296875 -4.109375 -2.296875 -4.140625 -2.515625 -4.140625 C -3.5 -4.140625 -4.46875 -3.59375 -4.46875 -2.359375 C -4.46875 -1.203125 -3.4375 -0.28125 -2.1875 -0.28125 C -0.859375 -0.28125 0.109375 -1.328125 0.109375 -2.46875 C 0.109375 -3.6875 -1 -4.140625 -1.1875 -4.140625 C -1.28125 -4.140625 -1.3125 -4.0625 -1.3125 -4 C -1.3125 -3.921875 -1.25 -3.890625 -1.171875 -3.875 C -0.140625 -3.53125 -0.140625 -2.625 -0.140625 -2.53125 C -0.140625 -2.03125 -0.4375 -1.640625 -0.8125 -1.40625 C -1.28125 -1.109375 -1.9375 -1.109375 -2.296875 -1.109375 Z M -2.296875 -1.109375 \\\"\\/>\\n<\\/symbol>\\n<symbol overflow=\\\"visible\\\" id=\\\"glyph-1562715734929603-3-15\\\">\\n<path style=\\\"stroke:none;\\\" d=\\\"M -4.296875 -1.75 L -5.453125 -1.75 C -6.328125 -1.75 -6.8125 -2.21875 -6.8125 -2.65625 C -6.8125 -2.6875 -6.8125 -2.84375 -6.734375 -2.984375 C -6.703125 -2.875 -6.5625 -2.6875 -6.3125 -2.6875 C -6.09375 -2.6875 -5.890625 -2.84375 -5.890625 -3.125 C -5.890625 -3.40625 -6.09375 -3.5625 -6.328125 -3.5625 C -6.703125 -3.5625 -7.03125 -3.1875 -7.03125 -2.65625 C -7.03125 -1.96875 -6.5 -1.109375 -5.4375 -1.109375 L -4.296875 -1.109375 L -4.296875 -0.328125 L -3.984375 -0.328125 L -3.984375 -1.109375 L -0.75 -1.109375 C -0.3125 -1.109375 -0.3125 -1 -0.3125 -0.34375 L 0 -0.34375 C -0.015625 -0.734375 -0.03125 -1.203125 -0.03125 -1.46875 C -0.03125 -1.875 -0.03125 -2.34375 0 -2.734375 L -0.3125 -2.734375 L -0.3125 -2.53125 C -0.3125 -1.796875 -0.421875 -1.78125 -0.78125 -1.78125 L -3.984375 -1.78125 L -3.984375 -2.90625 L -4.296875 -2.90625 Z M -4.296875 -1.75 \\\"\\/>\\n<\\/symbol>\\n<\\/g>\\n<clipPath id=\\\"clip-1562715734929603-1\\\">\\n  <path d=\\\"M 32 0 L 270.539062 0 L 270.539062 11.855469 L 32 11.855469 Z M 32 0 \\\"\\/>\\n<\\/clipPath>\\n<image style=\\\"image-rendering: pixelated;\\\" id=\\\"image-1562715734929603-5\\\" width=\\\"100\\\" height=\\\"100\\\" xlink:href=\\\"data:image\\/png;base64,iVBORw0KGgoAAAANSUhEUgAAAGQAAABkCAIAAAD\\/gAIDAAAABmJLR0QA\\/wD\\/AP+gvaeTAAAA6ElEQVR4nO3QwQ3AIBDAsNL9dz5WIC+EZE8QZc3Mx5n\\/dsBLzArMCswKzArMCswKzArMCswKzArMCswKzArMCswKzArMCswKzArMCswKzArMCswKzArMCswKzArMCswKzArMCswKzArMCswKzArMCswKzArMCswKzArMCswKzArMCswKzArMCswKzArMCswKzArMCswKzArMCswKzArMCswKzArMCswKzArMCswKzArMCswKzArMCswKzArMCswKzArMCswKzArMCswKzArMCswKzArMCswKzArMCswKzArMCswKzArMCjbP8QPFyqa8aAAAAABJRU5ErkJggg==\\\"\\/>\\n<clipPath id=\\\"clip-1562715734929603-2\\\">\\n  <path d=\\\"M 148 4 L 178 4 L 178 11.855469 L 148 11.855469 Z M 148 4 \\\"\\/>\\n<\\/clipPath>\\n<clipPath id=\\\"clip-1562715734929603-3\\\">\\n  <path d=\\\"M 183 4 L 203 4 L 203 11.855469 L 183 11.855469 Z M 183 4 \\\"\\/>\\n<\\/clipPath>\\n<clipPath id=\\\"clip-1562715734929603-4\\\">\\n  <path d=\\\"M 327.230469 0 L 565.859375 0 L 565.859375 11.855469 L 327.230469 11.855469 Z M 327.230469 0 \\\"\\/>\\n<\\/clipPath>\\n<image style=\\\"image-rendering: pixelated;\\\" id=\\\"image-1562715734929603-8\\\" width=\\\"100\\\" height=\\\"100\\\" xlink:href=\\\"data:image\\/png;base64,iVBORw0KGgoAAAANSUhEUgAAAGQAAABkCAIAAAD\\/gAIDAAAABmJLR0QA\\/wD\\/AP+gvaeTAAAA6ElEQVR4nO3QwQ3AIBDAsNL9dz5WIC+EZE8QZc3Mx5n\\/dsBLzArMCswKzArMCswKzArMCswKzArMCswKzArMCswKzArMCswKzArMCswKzArMCswKzArMCswKzArMCswKzArMCswKzArMCswKzArMCswKzArMCswKzArMCswKzArMCswKzArMCswKzArMCswKzArMCswKzArMCswKzArMCswKzArMCswKzArMCswKzArMCswKzArMCswKzArMCswKzArMCswKzArMCswKzArMCswKzArMCswKzArMCswKzArMCswKzArMCjbP8QPFyqa8aAAAAABJRU5ErkJggg==\\\"\\/>\\n<clipPath id=\\\"clip-1562715734929603-5\\\">\\n  <path d=\\\"M 399 4 L 407 4 L 407 11.855469 L 399 11.855469 Z M 399 4 \\\"\\/>\\n<\\/clipPath>\\n<clipPath id=\\\"clip-1562715734929603-6\\\">\\n  <path d=\\\"M 436 4 L 466 4 L 466 11.855469 L 436 11.855469 Z M 436 4 \\\"\\/>\\n<\\/clipPath>\\n<clipPath id=\\\"clip-1562715734929603-7\\\">\\n  <path d=\\\"M 471 4 L 494 4 L 494 11.855469 L 471 11.855469 Z M 471 4 \\\"\\/>\\n<\\/clipPath>\\n<\\/defs>\\n<g id=\\\"surface1\\\">\\n<g clip-path=\\\"url(#clip-1562715734929603-1)\\\" clip-rule=\\\"nonzero\\\">\\n<use xlink:href=\\\"#image-1562715734929603-5\\\" transform=\\\"matrix(2.38667,0,0,0.11856,31.905,-0.000000000000035382)\\\"\\/>\\n<\\/g>\\n<g style=\\\"fill:rgb(0%,0%,0%);fill-opacity:1;\\\">\\n  <use xlink:href=\\\"#glyph-1562715734929603-0-1\\\" x=\\\"99.664\\\" y=\\\"10.848\\\"\\/>\\n  <use xlink:href=\\\"#glyph-1562715734929603-0-2\\\" x=\\\"107.13598\\\" y=\\\"10.848\\\"\\/>\\n  <use xlink:href=\\\"#glyph-1562715734929603-0-3\\\" x=\\\"112.1173\\\" y=\\\"10.848\\\"\\/>\\n  <use xlink:href=\\\"#glyph-1562715734929603-0-4\\\" x=\\\"116.019666\\\" y=\\\"10.848\\\"\\/>\\n  <use xlink:href=\\\"#glyph-1562715734929603-0-5\\\" x=\\\"118.787287\\\" y=\\\"10.848\\\"\\/>\\n  <use xlink:href=\\\"#glyph-1562715734929603-0-2\\\" x=\\\"123.214685\\\" y=\\\"10.848\\\"\\/>\\n  <use xlink:href=\\\"#glyph-1562715734929603-0-6\\\" x=\\\"128.196005\\\" y=\\\"10.848\\\"\\/>\\n<\\/g>\\n<g style=\\\"fill:rgb(0%,0%,0%);fill-opacity:1;\\\">\\n  <use xlink:href=\\\"#glyph-1562715734929603-0-7\\\" x=\\\"133.462256\\\" y=\\\"10.848\\\"\\/>\\n  <use xlink:href=\\\"#glyph-1562715734929603-0-8\\\" x=\\\"137.336727\\\" y=\\\"10.848\\\"\\/>\\n  <use xlink:href=\\\"#glyph-1562715734929603-0-9\\\" x=\\\"142.318047\\\" y=\\\"10.848\\\"\\/>\\n<\\/g>\\n<g clip-path=\\\"url(#clip-1562715734929603-2)\\\" clip-rule=\\\"nonzero\\\">\\n<g style=\\\"fill:rgb(0%,0%,0%);fill-opacity:1;\\\">\\n  <use xlink:href=\\\"#glyph-1562715734929603-0-10\\\" x=\\\"148.393265\\\" y=\\\"10.848\\\"\\/>\\n  <use xlink:href=\\\"#glyph-1562715734929603-0-8\\\" x=\\\"155.726764\\\" y=\\\"10.848\\\"\\/>\\n  <use xlink:href=\\\"#glyph-1562715734929603-0-6\\\" x=\\\"160.708084\\\" y=\\\"10.848\\\"\\/>\\n  <use xlink:href=\\\"#glyph-1562715734929603-0-11\\\" x=\\\"166.243327\\\" y=\\\"10.848\\\"\\/>\\n  <use xlink:href=\\\"#glyph-1562715734929603-0-12\\\" x=\\\"171.224647\\\" y=\\\"10.848\\\"\\/>\\n  <use xlink:href=\\\"#glyph-1562715734929603-0-13\\\" x=\\\"175.652044\\\" y=\\\"10.848\\\"\\/>\\n<\\/g>\\n<\\/g>\\n<g clip-path=\\\"url(#clip-1562715734929603-3)\\\" clip-rule=\\\"nonzero\\\">\\n<g style=\\\"fill:rgb(0%,0%,0%);fill-opacity:1;\\\">\\n  <use xlink:href=\\\"#glyph-1562715734929603-0-14\\\" x=\\\"182.843078\\\" y=\\\"10.848\\\"\\/>\\n  <use xlink:href=\\\"#glyph-1562715734929603-0-15\\\" x=\\\"187.824398\\\" y=\\\"10.848\\\"\\/>\\n  <use xlink:href=\\\"#glyph-1562715734929603-0-15\\\" x=\\\"192.805718\\\" y=\\\"10.848\\\"\\/>\\n  <use xlink:href=\\\"#glyph-1562715734929603-0-16\\\" x=\\\"197.787038\\\" y=\\\"10.848\\\"\\/>\\n<\\/g>\\n<\\/g>\\n<g clip-path=\\\"url(#clip-1562715734929603-4)\\\" clip-rule=\\\"nonzero\\\">\\n<use xlink:href=\\\"#image-1562715734929603-8\\\" transform=\\\"matrix(2.38667,0,0,0.11856,327.23,-0.000000000000035382)\\\"\\/>\\n<\\/g>\\n<g clip-path=\\\"url(#clip-1562715734929603-5)\\\" clip-rule=\\\"nonzero\\\">\\n<g style=\\\"fill:rgb(0%,0%,0%);fill-opacity:1;\\\">\\n  <use xlink:href=\\\"#glyph-1562715734929603-0-17\\\" x=\\\"399.416\\\" y=\\\"10.848\\\"\\/>\\n<\\/g>\\n<\\/g>\\n<g style=\\\"fill:rgb(0%,0%,0%);fill-opacity:1;\\\">\\n  <use xlink:href=\\\"#glyph-1562715734929603-0-12\\\" x=\\\"406.061081\\\" y=\\\"10.848\\\"\\/>\\n  <use xlink:href=\\\"#glyph-1562715734929603-0-3\\\" x=\\\"410.488478\\\" y=\\\"10.848\\\"\\/>\\n  <use xlink:href=\\\"#glyph-1562715734929603-0-7\\\" x=\\\"414.390844\\\" y=\\\"10.848\\\"\\/>\\n  <use xlink:href=\\\"#glyph-1562715734929603-0-4\\\" x=\\\"418.265315\\\" y=\\\"10.848\\\"\\/>\\n  <use xlink:href=\\\"#glyph-1562715734929603-0-18\\\" x=\\\"421.032936\\\" y=\\\"10.848\\\"\\/>\\n  <use xlink:href=\\\"#glyph-1562715734929603-0-8\\\" x=\\\"425.460333\\\" y=\\\"10.848\\\"\\/>\\n  <use xlink:href=\\\"#glyph-1562715734929603-0-9\\\" x=\\\"430.441653\\\" y=\\\"10.848\\\"\\/>\\n<\\/g>\\n<g clip-path=\\\"url(#clip-1562715734929603-6)\\\" clip-rule=\\\"nonzero\\\">\\n<g style=\\\"fill:rgb(0%,0%,0%);fill-opacity:1;\\\">\\n  <use xlink:href=\\\"#glyph-1562715734929603-0-10\\\" x=\\\"436.526834\\\" y=\\\"10.848\\\"\\/>\\n  <use xlink:href=\\\"#glyph-1562715734929603-0-8\\\" x=\\\"443.860333\\\" y=\\\"10.848\\\"\\/>\\n  <use xlink:href=\\\"#glyph-1562715734929603-0-6\\\" x=\\\"448.841653\\\" y=\\\"10.848\\\"\\/>\\n  <use xlink:href=\\\"#glyph-1562715734929603-0-11\\\" x=\\\"454.376896\\\" y=\\\"10.848\\\"\\/>\\n  <use xlink:href=\\\"#glyph-1562715734929603-0-12\\\" x=\\\"459.358216\\\" y=\\\"10.848\\\"\\/>\\n  <use xlink:href=\\\"#glyph-1562715734929603-0-13\\\" x=\\\"463.785613\\\" y=\\\"10.848\\\"\\/>\\n<\\/g>\\n<\\/g>\\n<g clip-path=\\\"url(#clip-1562715734929603-7)\\\" clip-rule=\\\"nonzero\\\">\\n<g style=\\\"fill:rgb(0%,0%,0%);fill-opacity:1;\\\">\\n  <use xlink:href=\\\"#glyph-1562715734929603-0-15\\\" x=\\\"470.976647\\\" y=\\\"10.848\\\"\\/>\\n  <use xlink:href=\\\"#glyph-1562715734929603-0-14\\\" x=\\\"475.957967\\\" y=\\\"10.848\\\"\\/>\\n  <use xlink:href=\\\"#glyph-1562715734929603-0-19\\\" x=\\\"480.939287\\\" y=\\\"10.848\\\"\\/>\\n  <use xlink:href=\\\"#glyph-1562715734929603-0-20\\\" x=\\\"485.920607\\\" y=\\\"10.848\\\"\\/>\\n  <use xlink:href=\\\"#glyph-1562715734929603-0-21\\\" x=\\\"488.688228\\\" y=\\\"10.848\\\"\\/>\\n<\\/g>\\n<\\/g>\\n<path style=\\\"fill:none;stroke-width:0.19925;stroke-linecap:butt;stroke-linejoin:miter;stroke:rgb(50%,50%,50%);stroke-opacity:1;stroke-miterlimit:10;\\\" d=\\\"M -0.0015625 -72.495406 L -0.0015625 -68.245406 M 38.924219 -72.495406 L 38.924219 -68.245406 M 77.85 -72.495406 L 77.85 -68.245406 M 116.775781 -72.495406 L 116.775781 -68.245406 M 155.697656 -72.495406 L 155.697656 -68.245406 M -0.0015625 88.899125 L -0.0015625 84.645219 M 38.924219 88.899125 L 38.924219 84.645219 M 77.85 88.899125 L 77.85 84.645219 M 116.775781 88.899125 L 116.775781 84.645219 M 155.697656 88.899125 L 155.697656 84.645219 \\\" transform=\\\"matrix(1,0,0,-1,70.275,157.446)\\\"\\/>\\n<path style=\\\"fill:none;stroke-width:0.19925;stroke-linecap:butt;stroke-linejoin:miter;stroke:rgb(50%,50%,50%);stroke-opacity:1;stroke-miterlimit:10;\\\" d=\\\"M -16.189062 -67.409469 L -11.939062 -67.409469 M -16.189062 -28.483688 L -11.939062 -28.483688 M -16.189062 10.438187 L -11.939062 10.438187 M -16.189062 49.363969 L -11.939062 49.363969 M -16.189062 88.28975 L -11.939062 88.28975 M 178.084375 -67.409469 L 173.834375 -67.409469 M 178.084375 -28.483688 L 173.834375 -28.483688 M 178.084375 10.438187 L 173.834375 10.438187 M 178.084375 49.363969 L 173.834375 49.363969 M 178.084375 88.28975 L 173.834375 88.28975 \\\" transform=\\\"matrix(1,0,0,-1,70.275,157.446)\\\"\\/>\\n<path style=\\\"fill:none;stroke-width:0.3985;stroke-linecap:butt;stroke-linejoin:miter;stroke:rgb(0%,0%,0%);stroke-opacity:1;stroke-miterlimit:10;\\\" d=\\\"M -16.189062 -72.495406 L -16.189062 88.899125 L 178.084375 88.899125 L 178.084375 -72.495406 Z M -16.189062 -72.495406 \\\" transform=\\\"matrix(1,0,0,-1,70.275,157.446)\\\"\\/>\\n<g style=\\\"fill:rgb(0%,0%,0%);fill-opacity:1;\\\">\\n  <use xlink:href=\\\"#glyph-1562715734929603-0-22\\\" x=\\\"67.784\\\" y=\\\"239.882\\\"\\/>\\n<\\/g>\\n<g style=\\\"fill:rgb(0%,0%,0%);fill-opacity:1;\\\">\\n  <use xlink:href=\\\"#glyph-1562715734929603-0-23\\\" x=\\\"97.853\\\" y=\\\"239.882\\\"\\/>\\n<\\/g>\\n<g style=\\\"fill:rgb(0%,0%,0%);fill-opacity:1;\\\">\\n  <use xlink:href=\\\"#glyph-1562715734929603-1-1\\\" x=\\\"102.834\\\" y=\\\"239.882\\\"\\/>\\n<\\/g>\\n<g style=\\\"fill:rgb(0%,0%,0%);fill-opacity:1;\\\">\\n  <use xlink:href=\\\"#glyph-1562715734929603-0-22\\\" x=\\\"105.601\\\" y=\\\"239.882\\\"\\/>\\n  <use xlink:href=\\\"#glyph-1562715734929603-0-22\\\" x=\\\"110.58232\\\" y=\\\"239.882\\\"\\/>\\n  <use xlink:href=\\\"#glyph-1562715734929603-0-22\\\" x=\\\"115.56364\\\" y=\\\"239.882\\\"\\/>\\n<\\/g>\\n<g style=\\\"fill:rgb(0%,0%,0%);fill-opacity:1;\\\">\\n  <use xlink:href=\\\"#glyph-1562715734929603-0-14\\\" x=\\\"136.777\\\" y=\\\"239.882\\\"\\/>\\n<\\/g>\\n<g style=\\\"fill:rgb(0%,0%,0%);fill-opacity:1;\\\">\\n  <use xlink:href=\\\"#glyph-1562715734929603-1-1\\\" x=\\\"141.758\\\" y=\\\"239.882\\\"\\/>\\n<\\/g>\\n<g style=\\\"fill:rgb(0%,0%,0%);fill-opacity:1;\\\">\\n  <use xlink:href=\\\"#glyph-1562715734929603-0-22\\\" x=\\\"144.526\\\" y=\\\"239.882\\\"\\/>\\n  <use xlink:href=\\\"#glyph-1562715734929603-0-22\\\" x=\\\"149.50732\\\" y=\\\"239.882\\\"\\/>\\n  <use xlink:href=\\\"#glyph-1562715734929603-0-22\\\" x=\\\"154.48864\\\" y=\\\"239.882\\\"\\/>\\n<\\/g>\\n<g style=\\\"fill:rgb(0%,0%,0%);fill-opacity:1;\\\">\\n  <use xlink:href=\\\"#glyph-1562715734929603-0-24\\\" x=\\\"175.701\\\" y=\\\"239.882\\\"\\/>\\n<\\/g>\\n<g style=\\\"fill:rgb(0%,0%,0%);fill-opacity:1;\\\">\\n  <use xlink:href=\\\"#glyph-1562715734929603-1-1\\\" x=\\\"180.682\\\" y=\\\"239.882\\\"\\/>\\n<\\/g>\\n<g style=\\\"fill:rgb(0%,0%,0%);fill-opacity:1;\\\">\\n  <use xlink:href=\\\"#glyph-1562715734929603-0-22\\\" x=\\\"183.45\\\" y=\\\"239.882\\\"\\/>\\n  <use xlink:href=\\\"#glyph-1562715734929603-0-22\\\" x=\\\"188.43132\\\" y=\\\"239.882\\\"\\/>\\n  <use xlink:href=\\\"#glyph-1562715734929603-0-22\\\" x=\\\"193.41264\\\" y=\\\"239.882\\\"\\/>\\n<\\/g>\\n<g style=\\\"fill:rgb(0%,0%,0%);fill-opacity:1;\\\">\\n  <use xlink:href=\\\"#glyph-1562715734929603-0-16\\\" x=\\\"214.625\\\" y=\\\"239.882\\\"\\/>\\n<\\/g>\\n<g style=\\\"fill:rgb(0%,0%,0%);fill-opacity:1;\\\">\\n  <use xlink:href=\\\"#glyph-1562715734929603-1-1\\\" x=\\\"219.606\\\" y=\\\"239.882\\\"\\/>\\n<\\/g>\\n<g style=\\\"fill:rgb(0%,0%,0%);fill-opacity:1;\\\">\\n  <use xlink:href=\\\"#glyph-1562715734929603-0-22\\\" x=\\\"222.374\\\" y=\\\"239.882\\\"\\/>\\n  <use xlink:href=\\\"#glyph-1562715734929603-0-22\\\" x=\\\"227.35532\\\" y=\\\"239.882\\\"\\/>\\n  <use xlink:href=\\\"#glyph-1562715734929603-0-22\\\" x=\\\"232.33664\\\" y=\\\"239.882\\\"\\/>\\n<\\/g>\\n<g style=\\\"fill:rgb(0%,0%,0%);fill-opacity:1;\\\">\\n  <use xlink:href=\\\"#glyph-1562715734929603-2-1\\\" x=\\\"20.123\\\" y=\\\"227.097\\\"\\/>\\n<\\/g>\\n<g style=\\\"fill:rgb(0%,0%,0%);fill-opacity:1;\\\">\\n  <use xlink:href=\\\"#glyph-1562715734929603-0-14\\\" x=\\\"27.872\\\" y=\\\"227.097\\\"\\/>\\n<\\/g>\\n<g style=\\\"fill:rgb(0%,0%,0%);fill-opacity:1;\\\">\\n  <use xlink:href=\\\"#glyph-1562715734929603-1-1\\\" x=\\\"32.854\\\" y=\\\"227.097\\\"\\/>\\n<\\/g>\\n<g style=\\\"fill:rgb(0%,0%,0%);fill-opacity:1;\\\">\\n  <use xlink:href=\\\"#glyph-1562715734929603-0-22\\\" x=\\\"35.621\\\" y=\\\"227.097\\\"\\/>\\n  <use xlink:href=\\\"#glyph-1562715734929603-0-22\\\" x=\\\"40.60232\\\" y=\\\"227.097\\\"\\/>\\n  <use xlink:href=\\\"#glyph-1562715734929603-0-22\\\" x=\\\"45.58364\\\" y=\\\"227.097\\\"\\/>\\n<\\/g>\\n<g style=\\\"fill:rgb(0%,0%,0%);fill-opacity:1;\\\">\\n  <use xlink:href=\\\"#glyph-1562715734929603-2-1\\\" x=\\\"20.123\\\" y=\\\"188.173\\\"\\/>\\n<\\/g>\\n<g style=\\\"fill:rgb(0%,0%,0%);fill-opacity:1;\\\">\\n  <use xlink:href=\\\"#glyph-1562715734929603-0-23\\\" x=\\\"27.872\\\" y=\\\"188.173\\\"\\/>\\n<\\/g>\\n<g style=\\\"fill:rgb(0%,0%,0%);fill-opacity:1;\\\">\\n  <use xlink:href=\\\"#glyph-1562715734929603-1-1\\\" x=\\\"32.854\\\" y=\\\"188.173\\\"\\/>\\n<\\/g>\\n<g style=\\\"fill:rgb(0%,0%,0%);fill-opacity:1;\\\">\\n  <use xlink:href=\\\"#glyph-1562715734929603-0-22\\\" x=\\\"35.621\\\" y=\\\"188.173\\\"\\/>\\n  <use xlink:href=\\\"#glyph-1562715734929603-0-22\\\" x=\\\"40.60232\\\" y=\\\"188.173\\\"\\/>\\n  <use xlink:href=\\\"#glyph-1562715734929603-0-22\\\" x=\\\"45.58364\\\" y=\\\"188.173\\\"\\/>\\n<\\/g>\\n<g style=\\\"fill:rgb(0%,0%,0%);fill-opacity:1;\\\">\\n  <use xlink:href=\\\"#glyph-1562715734929603-0-22\\\" x=\\\"45.584\\\" y=\\\"150.218\\\"\\/>\\n<\\/g>\\n<g style=\\\"fill:rgb(0%,0%,0%);fill-opacity:1;\\\">\\n  <use xlink:href=\\\"#glyph-1562715734929603-0-23\\\" x=\\\"27.872\\\" y=\\\"110.325\\\"\\/>\\n<\\/g>\\n<g style=\\\"fill:rgb(0%,0%,0%);fill-opacity:1;\\\">\\n  <use xlink:href=\\\"#glyph-1562715734929603-1-1\\\" x=\\\"32.854\\\" y=\\\"110.325\\\"\\/>\\n<\\/g>\\n<g style=\\\"fill:rgb(0%,0%,0%);fill-opacity:1;\\\">\\n  <use xlink:href=\\\"#glyph-1562715734929603-0-22\\\" x=\\\"35.621\\\" y=\\\"110.325\\\"\\/>\\n  <use xlink:href=\\\"#glyph-1562715734929603-0-22\\\" x=\\\"40.60232\\\" y=\\\"110.325\\\"\\/>\\n  <use xlink:href=\\\"#glyph-1562715734929603-0-22\\\" x=\\\"45.58364\\\" y=\\\"110.325\\\"\\/>\\n<\\/g>\\n<g style=\\\"fill:rgb(0%,0%,0%);fill-opacity:1;\\\">\\n  <use xlink:href=\\\"#glyph-1562715734929603-0-14\\\" x=\\\"27.872\\\" y=\\\"71.401\\\"\\/>\\n<\\/g>\\n<g style=\\\"fill:rgb(0%,0%,0%);fill-opacity:1;\\\">\\n  <use xlink:href=\\\"#glyph-1562715734929603-1-1\\\" x=\\\"32.854\\\" y=\\\"71.401\\\"\\/>\\n<\\/g>\\n<g style=\\\"fill:rgb(0%,0%,0%);fill-opacity:1;\\\">\\n  <use xlink:href=\\\"#glyph-1562715734929603-0-22\\\" x=\\\"35.621\\\" y=\\\"71.401\\\"\\/>\\n  <use xlink:href=\\\"#glyph-1562715734929603-0-22\\\" x=\\\"40.60232\\\" y=\\\"71.401\\\"\\/>\\n  <use xlink:href=\\\"#glyph-1562715734929603-0-22\\\" x=\\\"45.58364\\\" y=\\\"71.401\\\"\\/>\\n<\\/g>\\n<path style=\\\"fill:none;stroke-width:0.3985;stroke-linecap:butt;stroke-linejoin:miter;stroke:rgb(0%,0%,0%);stroke-opacity:1;stroke-miterlimit:10;\\\" d=\\\"M -0.0015625 10.438187 L 161.892969 10.438187 \\\" transform=\\\"matrix(1,0,0,-1,70.275,157.446)\\\"\\/>\\n<path style=\\\"fill:none;stroke-width:0.3985;stroke-linecap:butt;stroke-linejoin:miter;stroke:rgb(0%,0%,0%);stroke-opacity:1;stroke-miterlimit:10;\\\" d=\\\"M 29.951563 15.035844 L 29.947656 15.031937 L 29.939844 15.031937 L 29.928125 15.028031 L 29.904688 15.024125 L 29.7875 14.985062 L 29.697656 14.942094 L 29.603906 14.891312 L 29.510156 14.832719 L 29.420313 14.770219 L 29.334375 14.699906 L 29.154688 14.551469 L 29.064844 14.469437 L 28.975 14.3835 L 28.88125 14.297562 L 28.685938 14.110062 L 28.584375 14.0085 L 28.482813 13.903031 L 28.373438 13.778031 L 28.260156 13.6335 L 28.150781 13.47725 L 28.045313 13.313187 L 27.94375 13.145219 L 27.834375 12.973344 L 27.721094 12.793656 L 27.603906 12.606156 L 27.498438 12.406937 L 27.404688 12.203812 L 27.31875 12.000687 L 27.232813 11.801469 L 27.142969 11.594437 L 27.045313 11.371781 L 26.932031 11.129594 L 26.810938 10.863969 L 26.674219 10.582719 L 26.529688 10.285844 L 26.373438 9.965531 L 26.209375 9.6335 L 26.041406 9.301469 L 25.869531 8.965531 L 25.697656 8.637406 L 25.533594 8.317094 L 25.38125 8.028031 L 25.244531 7.762406 L 25.119531 7.528031 L 25.017969 7.313187 L 24.939844 7.129594 L 24.889063 6.985062 L 24.853906 6.875687 L 24.826563 6.793656 L 24.799219 6.707719 L 24.767969 6.621781 L 24.740625 6.535844 L 24.709375 6.446 L 24.646875 6.2585 L 24.611719 6.16475 L 24.580469 6.067094 L 24.545313 5.961625 L 24.50625 5.856156 L 24.471094 5.750687 L 24.432031 5.645219 L 24.392969 5.535844 L 24.353906 5.422562 L 24.310938 5.305375 L 24.267969 5.184281 L 24.174219 4.926469 L 24.13125 4.813187 L 24.092188 4.711625 L 24.057031 4.610062 L 24.017969 4.5085 L 23.978906 4.403031 L 23.939844 4.293656 L 23.896875 4.180375 L 23.853906 4.063187 L 23.807031 3.946 L 23.666406 3.571 L 23.615625 3.438187 L 23.560938 3.297562 L 23.502344 3.145219 L 23.314844 2.66475 L 23.252344 2.500687 L 23.189844 2.340531 L 23.13125 2.192094 L 23.076563 2.059281 L 23.025781 1.930375 L 22.975 1.805375 L 22.928125 1.684281 L 22.885156 1.578812 L 22.85 1.488969 L 22.822656 1.422562 L 22.807031 1.3835 L 22.791406 1.367875 L 22.783594 1.367875 \\\" transform=\\\"matrix(1,0,0,-1,70.275,157.446)\\\"\\/>\\n<path style=\\\"fill-rule:nonzero;fill:rgb(0%,0%,0%);fill-opacity:1;stroke-width:0.3985;stroke-linecap:butt;stroke-linejoin:miter;stroke:rgb(100%,100%,100%);stroke-opacity:1;stroke-miterlimit:10;\\\" d=\\\"M 5.740625 10.430375 L 5.740625 10.403031 L 5.728906 10.35225 L 5.627344 10.278031 L 5.252344 10.090531 L 4.728906 9.969437 L 4.072656 9.906937 L 3.494531 9.879594 L 1.764063 9.879594 L -2.790625 5.317094 L -2.923437 5.254594 L -3.298437 5.278031 L -3.4625 5.340531 L -1.802344 7.985062 L -1.142187 9.879594 L -3.810156 9.867875 L -4.982031 10.004594 L -6.392187 8.285844 L -6.915625 8.285844 L -6.49375 10.278031 L -7.017187 10.418656 L -7.017187 10.461625 L -6.49375 10.598344 L -6.915625 12.594437 L -6.392187 12.594437 L -4.982031 10.871781 L -3.810156 11.0085 L -1.142187 10.996781 L -1.802344 12.891312 L -3.4625 15.535844 L -3.298437 15.598344 L -2.923437 15.621781 L -2.790625 15.559281 L 1.764063 10.996781 L 3.494531 10.996781 L 4.072656 10.969437 L 4.728906 10.910844 L 5.252344 10.781937 L 5.627344 10.598344 L 5.728906 10.520219 L 5.740625 10.473344 Z M 5.740625 10.430375 \\\" transform=\\\"matrix(1,0,0,-1,70.275,157.446)\\\"\\/>\\n<path style=\\\"fill-rule:nonzero;fill:rgb(0%,0%,0%);fill-opacity:1;stroke-width:0.3985;stroke-linecap:butt;stroke-linejoin:miter;stroke:rgb(100%,100%,100%);stroke-opacity:1;stroke-miterlimit:10;\\\" d=\\\"M 24.4125 13.53975 L 24.404688 13.563187 L 24.400781 13.613969 L 24.478906 13.711625 L 24.791406 13.988969 L 25.264063 14.246781 L 25.885156 14.481156 L 26.432031 14.656937 L 28.103906 15.113969 L 31.299219 20.711625 L 31.4125 20.805375 L 31.779688 20.879594 L 31.955469 20.863969 L 31.045313 17.875687 L 30.908594 15.875687 L 33.478906 16.586625 L 34.646875 16.762406 L 35.553125 18.78975 L 36.057031 18.930375 L 36.174219 16.895219 L 36.717188 16.899125 L 36.728906 16.856156 L 36.25625 16.586625 L 37.189844 14.770219 L 36.685938 14.6335 L 34.873438 15.922562 L 33.779688 15.485062 L 31.201563 14.797562 L 32.334375 13.141312 L 34.63125 11.028031 L 34.486719 10.922562 L 34.135156 10.801469 L 33.986719 10.824906 L 28.396875 14.035844 L 26.725 13.578812 L 26.1625 13.453812 L 25.510156 13.340531 L 24.971094 13.324906 L 24.564844 13.406937 L 24.447656 13.449906 L 24.424219 13.496781 Z M 24.4125 13.53975 \\\" transform=\\\"matrix(1,0,0,-1,70.275,157.446)\\\"\\/>\\n<path style=\\\"fill:none;stroke-width:0.3985;stroke-linecap:butt;stroke-linejoin:miter;stroke:rgb(100%,0%,0%);stroke-opacity:1;stroke-miterlimit:10;\\\" d=\\\"M 27.541406 10.438187 C 27.541406 11.53975 26.650781 12.430375 25.549219 12.430375 C 24.447656 12.430375 23.557031 11.53975 23.557031 10.438187 C 23.557031 9.336625 24.447656 8.446 25.549219 8.446 C 26.650781 8.446 27.541406 9.336625 27.541406 10.438187 Z M 27.541406 10.438187 \\\" transform=\\\"matrix(1,0,0,-1,70.275,157.446)\\\"\\/>\\n<path style=\\\"fill:none;stroke-width:0.3985;stroke-linecap:butt;stroke-linejoin:miter;stroke:rgb(100%,0%,0%);stroke-opacity:1;stroke-miterlimit:10;\\\" d=\\\"M 30.404688 10.438187 C 30.404688 11.53975 29.510156 12.430375 28.4125 12.430375 C 27.310938 12.430375 26.420313 11.53975 26.420313 10.438187 C 26.420313 9.336625 27.310938 8.446 28.4125 8.446 C 29.510156 8.446 30.404688 9.336625 30.404688 10.438187 Z M 30.404688 10.438187 \\\" transform=\\\"matrix(1,0,0,-1,70.275,157.446)\\\"\\/>\\n<path style=\\\"fill:none;stroke-width:0.3985;stroke-linecap:butt;stroke-linejoin:miter;stroke:rgb(100%,0%,0%);stroke-opacity:1;stroke-miterlimit:10;\\\" d=\\\"M 33.420313 10.438187 C 33.420313 11.53975 32.525781 12.430375 31.428125 12.430375 C 30.326563 12.430375 29.432031 11.53975 29.432031 10.438187 C 29.432031 9.336625 30.326563 8.446 31.428125 8.446 C 32.525781 8.446 33.420313 9.336625 33.420313 10.438187 Z M 33.420313 10.438187 \\\" transform=\\\"matrix(1,0,0,-1,70.275,157.446)\\\"\\/>\\n<path style=\\\"fill:none;stroke-width:0.3985;stroke-linecap:butt;stroke-linejoin:miter;stroke:rgb(0%,0%,100%);stroke-opacity:1;stroke-miterlimit:10;\\\" d=\\\"M 36.588281 10.438187 C 36.588281 11.53975 35.69375 12.430375 34.592188 12.430375 C 33.494531 12.430375 32.6 11.53975 32.6 10.438187 C 32.6 9.336625 33.494531 8.446 34.592188 8.446 C 35.69375 8.446 36.588281 9.336625 36.588281 10.438187 Z M 36.588281 10.438187 \\\" transform=\\\"matrix(1,0,0,-1,70.275,157.446)\\\"\\/>\\n<g style=\\\"fill:rgb(0%,0%,0%);fill-opacity:1;\\\">\\n  <use xlink:href=\\\"#glyph-1562715734929603-0-25\\\" x=\\\"131.752\\\" y=\\\"256.132\\\"\\/>\\n  <use xlink:href=\\\"#glyph-1562715734929603-0-8\\\" x=\\\"138.532573\\\" y=\\\"256.132\\\"\\/>\\n  <use xlink:href=\\\"#glyph-1562715734929603-0-26\\\" x=\\\"143.513893\\\" y=\\\"256.132\\\"\\/>\\n  <use xlink:href=\\\"#glyph-1562715734929603-0-7\\\" x=\\\"147.443158\\\" y=\\\"256.132\\\"\\/>\\n<\\/g>\\n<g style=\\\"fill:rgb(0%,0%,0%);fill-opacity:1;\\\">\\n  <use xlink:href=\\\"#glyph-1562715734929603-0-27\\\" x=\\\"154.635188\\\" y=\\\"256.132\\\"\\/>\\n  <use xlink:href=\\\"#glyph-1562715734929603-0-28\\\" x=\\\"158.509659\\\" y=\\\"256.132\\\"\\/>\\n  <use xlink:href=\\\"#glyph-1562715734929603-0-29\\\" x=\\\"166.811526\\\" y=\\\"256.132\\\"\\/>\\n<\\/g>\\n<g style=\\\"fill:rgb(0%,0%,0%);fill-opacity:1;\\\">\\n  <use xlink:href=\\\"#glyph-1562715734929603-3-1\\\" x=\\\"10.792\\\" y=\\\"171.814\\\"\\/>\\n  <use xlink:href=\\\"#glyph-1562715734929603-3-2\\\" x=\\\"10.792\\\" y=\\\"164.34202\\\"\\/>\\n  <use xlink:href=\\\"#glyph-1562715734929603-3-3\\\" x=\\\"10.792\\\" y=\\\"159.3607\\\"\\/>\\n  <use xlink:href=\\\"#glyph-1562715734929603-3-4\\\" x=\\\"10.792\\\" y=\\\"155.458334\\\"\\/>\\n  <use xlink:href=\\\"#glyph-1562715734929603-3-5\\\" x=\\\"10.792\\\" y=\\\"151.583863\\\"\\/>\\n<\\/g>\\n<g style=\\\"fill:rgb(0%,0%,0%);fill-opacity:1;\\\">\\n  <use xlink:href=\\\"#glyph-1562715734929603-3-6\\\" x=\\\"10.792\\\" y=\\\"142.731061\\\"\\/>\\n  <use xlink:href=\\\"#glyph-1562715734929603-3-7\\\" x=\\\"10.792\\\" y=\\\"138.856591\\\"\\/>\\n  <use xlink:href=\\\"#glyph-1562715734929603-3-8\\\" x=\\\"10.792\\\" y=\\\"130.554723\\\"\\/>\\n<\\/g>\\n<g style=\\\"fill:rgb(0%,0%,0%);fill-opacity:1;\\\">\\n  <use xlink:href=\\\"#glyph-1562715734929603-0-30\\\" x=\\\"120.579\\\" y=\\\"59.051\\\"\\/>\\n  <use xlink:href=\\\"#glyph-1562715734929603-0-3\\\" x=\\\"128.396684\\\" y=\\\"59.051\\\"\\/>\\n  <use xlink:href=\\\"#glyph-1562715734929603-0-2\\\" x=\\\"132.29905\\\" y=\\\"59.051\\\"\\/>\\n  <use xlink:href=\\\"#glyph-1562715734929603-0-31\\\" x=\\\"137.28037\\\" y=\\\"59.051\\\"\\/>\\n  <use xlink:href=\\\"#glyph-1562715734929603-0-6\\\" x=\\\"142.815612\\\" y=\\\"59.051\\\"\\/>\\n  <use xlink:href=\\\"#glyph-1562715734929603-0-32\\\" x=\\\"148.350855\\\" y=\\\"59.051\\\"\\/>\\n<\\/g>\\n<g style=\\\"fill:rgb(0%,0%,0%);fill-opacity:1;\\\">\\n  <use xlink:href=\\\"#glyph-1562715734929603-0-33\\\" x=\\\"157.203657\\\" y=\\\"59.051\\\"\\/>\\n<\\/g>\\n<g style=\\\"fill:rgb(0%,0%,0%);fill-opacity:1;\\\">\\n  <use xlink:href=\\\"#glyph-1562715734929603-0-3\\\" x=\\\"163.571777\\\" y=\\\"59.051\\\"\\/>\\n  <use xlink:href=\\\"#glyph-1562715734929603-0-8\\\" x=\\\"167.474143\\\" y=\\\"59.051\\\"\\/>\\n  <use xlink:href=\\\"#glyph-1562715734929603-0-18\\\" x=\\\"172.455463\\\" y=\\\"59.051\\\"\\/>\\n<\\/g>\\n<g style=\\\"fill:rgb(0%,0%,0%);fill-opacity:1;\\\">\\n  <use xlink:href=\\\"#glyph-1562715734929603-0-34\\\" x=\\\"176.613869\\\" y=\\\"59.051\\\"\\/>\\n<\\/g>\\n<path style=\\\"fill:none;stroke-width:0.19925;stroke-linecap:butt;stroke-linejoin:miter;stroke:rgb(50%,50%,50%);stroke-opacity:1;stroke-miterlimit:10;\\\" d=\\\"M -0.00134375 -13.451219 L -0.00134375 -9.197313 M 26.983031 -13.451219 L 26.983031 -9.197313 M 53.9635 -13.451219 L 53.9635 -9.197313 M 80.947875 -13.451219 L 80.947875 -9.197313 M 107.928344 -13.451219 L 107.928344 -9.197313 M 134.912719 -13.451219 L 134.912719 -9.197313 M 161.893188 -13.451219 L 161.893188 -9.197313 M -0.00134375 147.951125 L -0.00134375 143.701125 M 26.983031 147.951125 L 26.983031 143.701125 M 53.9635 147.951125 L 53.9635 143.701125 M 80.947875 147.951125 L 80.947875 143.701125 M 107.928344 147.951125 L 107.928344 143.701125 M 134.912719 147.951125 L 134.912719 143.701125 M 161.893188 147.951125 L 161.893188 143.701125 \\\" transform=\\\"matrix(1,0,0,-1,365.599,216.498)\\\"\\/>\\n<path style=\\\"fill:none;stroke-width:0.19925;stroke-linecap:butt;stroke-linejoin:miter;stroke:rgb(50%,50%,50%);stroke-opacity:1;stroke-miterlimit:10;\\\" d=\\\"M -16.188844 0.00190625 L -11.938844 0.00190625 M -16.188844 34.056594 L -11.938844 34.056594 M -16.188844 68.115187 L -11.938844 68.115187 M -16.188844 102.173781 L -11.938844 102.173781 M -16.188844 136.232375 L -11.938844 136.232375 M 178.084594 0.00190625 L 173.830688 0.00190625 M 178.084594 34.056594 L 173.830688 34.056594 M 178.084594 68.115187 L 173.830688 68.115187 M 178.084594 102.173781 L 173.830688 102.173781 M 178.084594 136.232375 L 173.830688 136.232375 \\\" transform=\\\"matrix(1,0,0,-1,365.599,216.498)\\\"\\/>\\n<path style=\\\"fill:none;stroke-width:0.3985;stroke-linecap:butt;stroke-linejoin:miter;stroke:rgb(0%,0%,0%);stroke-opacity:1;stroke-miterlimit:10;\\\" d=\\\"M -16.188844 -13.451219 L -16.188844 147.951125 L 178.084594 147.951125 L 178.084594 -13.451219 Z M -16.188844 -13.451219 \\\" transform=\\\"matrix(1,0,0,-1,365.599,216.498)\\\"\\/>\\n<g style=\\\"fill:rgb(0%,0%,0%);fill-opacity:1;\\\">\\n  <use xlink:href=\\\"#glyph-1562715734929603-0-22\\\" x=\\\"363.109\\\" y=\\\"239.889\\\"\\/>\\n<\\/g>\\n<g style=\\\"fill:rgb(0%,0%,0%);fill-opacity:1;\\\">\\n  <use xlink:href=\\\"#glyph-1562715734929603-0-14\\\" x=\\\"387.6\\\" y=\\\"239.889\\\"\\/>\\n  <use xlink:href=\\\"#glyph-1562715734929603-0-22\\\" x=\\\"392.58132\\\" y=\\\"239.889\\\"\\/>\\n<\\/g>\\n<g style=\\\"fill:rgb(0%,0%,0%);fill-opacity:1;\\\">\\n  <use xlink:href=\\\"#glyph-1562715734929603-0-16\\\" x=\\\"414.582\\\" y=\\\"239.889\\\"\\/>\\n  <use xlink:href=\\\"#glyph-1562715734929603-0-22\\\" x=\\\"419.56332\\\" y=\\\"239.889\\\"\\/>\\n<\\/g>\\n<g style=\\\"fill:rgb(0%,0%,0%);fill-opacity:1;\\\">\\n  <use xlink:href=\\\"#glyph-1562715734929603-0-35\\\" x=\\\"441.564\\\" y=\\\"239.889\\\"\\/>\\n  <use xlink:href=\\\"#glyph-1562715734929603-0-22\\\" x=\\\"446.54532\\\" y=\\\"239.889\\\"\\/>\\n<\\/g>\\n<g style=\\\"fill:rgb(0%,0%,0%);fill-opacity:1;\\\">\\n  <use xlink:href=\\\"#glyph-1562715734929603-0-19\\\" x=\\\"468.546\\\" y=\\\"239.889\\\"\\/>\\n  <use xlink:href=\\\"#glyph-1562715734929603-0-22\\\" x=\\\"473.52732\\\" y=\\\"239.889\\\"\\/>\\n<\\/g>\\n<g style=\\\"fill:rgb(0%,0%,0%);fill-opacity:1;\\\">\\n  <use xlink:href=\\\"#glyph-1562715734929603-0-23\\\" x=\\\"493.037\\\" y=\\\"239.889\\\"\\/>\\n  <use xlink:href=\\\"#glyph-1562715734929603-0-22\\\" x=\\\"498.01832\\\" y=\\\"239.889\\\"\\/>\\n  <use xlink:href=\\\"#glyph-1562715734929603-0-22\\\" x=\\\"502.99964\\\" y=\\\"239.889\\\"\\/>\\n<\\/g>\\n<g style=\\\"fill:rgb(0%,0%,0%);fill-opacity:1;\\\">\\n  <use xlink:href=\\\"#glyph-1562715734929603-0-23\\\" x=\\\"520.019\\\" y=\\\"239.889\\\"\\/>\\n  <use xlink:href=\\\"#glyph-1562715734929603-0-14\\\" x=\\\"525.00032\\\" y=\\\"239.889\\\"\\/>\\n  <use xlink:href=\\\"#glyph-1562715734929603-0-22\\\" x=\\\"529.98164\\\" y=\\\"239.889\\\"\\/>\\n<\\/g>\\n<g style=\\\"fill:rgb(0%,0%,0%);fill-opacity:1;\\\">\\n  <use xlink:href=\\\"#glyph-1562715734929603-0-22\\\" x=\\\"340.908\\\" y=\\\"219.709\\\"\\/>\\n<\\/g>\\n<g style=\\\"fill:rgb(0%,0%,0%);fill-opacity:1;\\\">\\n  <use xlink:href=\\\"#glyph-1562715734929603-0-14\\\" x=\\\"330.946\\\" y=\\\"185.65\\\"\\/>\\n  <use xlink:href=\\\"#glyph-1562715734929603-0-22\\\" x=\\\"335.92732\\\" y=\\\"185.65\\\"\\/>\\n  <use xlink:href=\\\"#glyph-1562715734929603-0-22\\\" x=\\\"340.90864\\\" y=\\\"185.65\\\"\\/>\\n<\\/g>\\n<g style=\\\"fill:rgb(0%,0%,0%);fill-opacity:1;\\\">\\n  <use xlink:href=\\\"#glyph-1562715734929603-0-16\\\" x=\\\"330.946\\\" y=\\\"151.592\\\"\\/>\\n  <use xlink:href=\\\"#glyph-1562715734929603-0-22\\\" x=\\\"335.92732\\\" y=\\\"151.592\\\"\\/>\\n  <use xlink:href=\\\"#glyph-1562715734929603-0-22\\\" x=\\\"340.90864\\\" y=\\\"151.592\\\"\\/>\\n<\\/g>\\n<g style=\\\"fill:rgb(0%,0%,0%);fill-opacity:1;\\\">\\n  <use xlink:href=\\\"#glyph-1562715734929603-0-35\\\" x=\\\"330.946\\\" y=\\\"117.534\\\"\\/>\\n  <use xlink:href=\\\"#glyph-1562715734929603-0-22\\\" x=\\\"335.92732\\\" y=\\\"117.534\\\"\\/>\\n  <use xlink:href=\\\"#glyph-1562715734929603-0-22\\\" x=\\\"340.90864\\\" y=\\\"117.534\\\"\\/>\\n<\\/g>\\n<g style=\\\"fill:rgb(0%,0%,0%);fill-opacity:1;\\\">\\n  <use xlink:href=\\\"#glyph-1562715734929603-0-19\\\" x=\\\"330.946\\\" y=\\\"83.476\\\"\\/>\\n  <use xlink:href=\\\"#glyph-1562715734929603-0-22\\\" x=\\\"335.92732\\\" y=\\\"83.476\\\"\\/>\\n  <use xlink:href=\\\"#glyph-1562715734929603-0-22\\\" x=\\\"340.90864\\\" y=\\\"83.476\\\"\\/>\\n<\\/g>\\n<path style=\\\"fill:none;stroke-width:0.3985;stroke-linecap:butt;stroke-linejoin:miter;stroke:rgb(0%,0%,0%);stroke-opacity:1;stroke-miterlimit:10;\\\" d=\\\"M -0.00134375 0.00190625 L 1.350219 0.822219 L 2.697875 3.064406 L 4.045531 5.888625 L 5.397094 8.6855 L 6.74475 11.455031 L 8.096313 14.193312 L 9.443969 16.892531 L 10.791625 19.552687 L 12.143188 22.173781 L 13.490844 24.748 L 14.8385 27.283156 L 16.190063 29.771437 L 17.537719 32.21675 L 18.889281 34.619094 L 20.236938 36.978469 L 21.584594 39.294875 L 22.936156 41.568312 L 24.283813 43.798781 L 25.631469 45.986281 L 26.983031 48.126906 L 28.330688 50.228469 L 29.68225 52.283156 L 31.029906 54.298781 L 32.377563 56.267531 L 33.729125 58.193312 L 35.076781 60.080031 L 36.424438 61.919875 L 37.776 63.71675 L 39.123656 65.470656 L 40.475219 67.181594 L 41.822875 68.849562 L 43.170531 70.474562 L 44.522094 72.052687 L 45.86975 73.59175 L 47.217406 75.083937 L 48.568969 76.537062 L 49.916625 77.943312 L 51.268188 79.3105 L 52.615844 80.65425 L 53.9635 81.994094 L 55.315063 83.337844 L 58.010375 86.025344 L 59.361938 87.369094 L 60.709594 88.345656 L 62.061156 88.962844 L 63.408813 89.576125 L 64.756469 90.193312 L 66.108031 90.806594 L 68.803344 92.040969 L 70.154906 92.65425 L 71.502563 93.271437 L 72.854125 93.884719 L 74.201781 94.501906 L 75.549438 95.115187 L 76.901 95.732375 L 78.248656 96.345656 L 79.596313 96.962844 L 80.947875 97.576125 L 82.295531 98.193312 L 83.647094 98.8105 L 84.99475 99.423781 L 86.342406 100.040969 L 87.693969 100.65425 L 89.041625 101.271437 L 90.389281 101.884719 L 91.740844 102.501906 L 93.0885 103.115187 L 94.440063 103.732375 L 95.787719 104.345656 L 97.135375 104.962844 L 98.486938 105.576125 L 101.18225 106.8105 L 102.533813 107.423781 L 103.881469 108.040969 L 105.233031 108.65425 L 106.580688 109.271437 L 107.928344 109.884719 L 109.279906 110.501906 L 110.627563 111.115187 L 111.975219 111.732375 L 113.326781 112.345656 L 114.674438 112.962844 L 116.026 113.580031 L 117.373656 114.193312 L 118.721313 114.8105 L 120.072875 115.423781 L 121.420531 116.040969 L 122.768188 116.65425 L 124.11975 117.271437 L 125.467406 117.884719 L 126.818969 118.501906 L 128.166625 119.115187 L 129.514281 119.732375 L 130.865844 120.345656 L 133.561156 121.580031 L 134.912719 122.193312 L 136.260375 122.8105 L 137.611938 123.423781 L 138.959594 124.040969 L 140.30725 124.65425 L 141.658813 125.271437 L 143.006469 125.884719 L 144.354125 126.501906 L 145.705688 127.115187 L 147.053344 127.732375 L 148.404906 128.345656 L 151.100219 129.580031 L 152.451781 130.193312 L 153.799438 130.8105 L 155.147094 131.423781 L 156.498656 132.040969 L 157.846313 132.65425 L 159.197875 133.271437 L 160.545531 133.884719 L 161.893188 134.501906 \\\" transform=\\\"matrix(1,0,0,-1,365.599,216.498)\\\"\\/>\\n<path style=\\\"fill:none;stroke-width:0.3985;stroke-linecap:butt;stroke-linejoin:miter;stroke:rgb(0%,0%,0%);stroke-opacity:1;stroke-miterlimit:10;\\\" d=\\\"M -0.00134375 90.064406 L 1.350219 89.689406 L 2.697875 89.302687 L 4.045531 89.040969 L 5.397094 88.759719 L 6.74475 88.419875 L 8.096313 88.169875 L 9.443969 88.013625 L 10.791625 87.697219 L 12.143188 87.208937 L 13.490844 86.830031 L 14.8385 86.568312 L 16.190063 86.388625 L 17.537719 86.220656 L 18.889281 85.818312 L 20.236938 85.1855 L 21.584594 84.615187 L 22.936156 84.15425 L 24.283813 83.6855 L 25.631469 83.34175 L 26.983031 82.982375 L 28.330688 82.322219 L 29.68225 81.5605 L 31.029906 80.857375 L 32.377563 80.087844 L 33.729125 79.376906 L 35.076781 78.919875 L 36.424438 78.576125 L 37.776 78.095656 L 39.123656 77.505812 L 40.475219 77.080031 L 41.822875 76.822219 L 43.170531 76.501906 L 44.522094 76.138625 L 45.86975 75.962844 L 47.217406 75.923781 L 48.568969 75.888625 L 49.916625 75.861281 L 51.268188 75.826125 L 53.9635 75.732375 L 55.315063 75.677687 L 56.662719 75.626906 L 58.010375 75.587844 L 59.361938 75.564406 L 60.709594 75.540969 L 62.061156 75.525344 L 63.408813 75.517531 L 64.756469 75.52925 L 66.108031 75.552687 L 67.455688 75.587844 L 68.803344 75.626906 L 70.154906 75.662062 L 71.502563 75.673781 L 75.549438 75.673781 L 76.901 75.689406 L 78.248656 75.728469 L 79.596313 75.759719 L 80.947875 75.767531 L 82.295531 75.767531 L 83.647094 75.790969 L 84.99475 75.826125 L 86.342406 75.865187 L 87.693969 75.923781 L 90.389281 76.056594 L 91.740844 76.107375 L 93.0885 76.142531 L 94.440063 76.181594 L 95.787719 76.240187 L 97.135375 76.302687 L 98.486938 76.353469 L 99.834594 76.384719 L 101.18225 76.412062 L 102.533813 76.4355 L 103.881469 76.462844 L 105.233031 76.505812 L 106.580688 76.537062 L 107.928344 76.544875 L 124.11975 76.544875 L 125.467406 76.537062 L 126.818969 76.52925 L 128.166625 76.521437 L 161.893188 76.521437 \\\" transform=\\\"matrix(1,0,0,-1,365.599,216.498)\\\"\\/>\\n<path style=\\\"fill-rule:nonzero;fill:rgb(0%,0%,0%);fill-opacity:1;stroke-width:0.3985;stroke-linecap:butt;stroke-linejoin:miter;stroke:rgb(100%,100%,100%);stroke-opacity:1;stroke-miterlimit:10;\\\" d=\\\"M -7.325562 2.439406 L -7.321656 2.455031 L -7.306031 2.462844 L -6.704469 2.462844 L -6.688844 2.455031 L -4.770875 0.71675 L -1.946656 0.744094 L -3.556031 1.931594 L -3.559937 1.947219 L -3.544312 1.958937 L -2.970094 2.013625 L -2.954469 2.009719 L -0.458375 0.794875 L 3.498656 0.771437 L 3.502563 0.771437 L 4.295531 0.638625 L 4.303344 0.634719 L 4.49475 0.501906 L 5.096313 0.158156 L 5.104125 0.146437 L 5.104125 0.013625 L 5.096313 0.00190625 L 4.877563 -0.130906 L 4.43225 -0.291063 L 3.772094 -0.396531 L 1.287719 -0.423875 L -2.849 -2.138719 L -2.856812 -2.142625 L -3.184937 -2.169969 L -3.188844 -2.169969 L -3.544312 -2.142625 L -3.559937 -2.130906 L -3.556031 -2.115281 L -1.759156 -0.986375 L -1.622437 -0.627 L -1.6615 -0.529344 L -3.352906 -0.34575 L -4.419312 -0.185594 L -5.849 0.130812 L -6.94275 -0.263719 L -6.954469 -0.267625 L -7.634156 -0.240281 L -7.653687 -0.228563 L -7.649781 -0.212938 L -6.825562 0.34175 L -7.016969 0.423781 L -7.028687 0.439406 L -7.001344 0.623 L -6.985719 0.638625 L -6.751344 0.665969 L -7.38025 1.540969 L -7.38025 1.552687 L -7.364625 1.5605 L -7.024781 1.595656 Z M -7.325562 2.439406 \\\" transform=\\\"matrix(1,0,0,-1,365.599,216.498)\\\"\\/>\\n<path style=\\\"fill-rule:nonzero;fill:rgb(0%,0%,0%);fill-opacity:1;stroke-width:0.3985;stroke-linecap:butt;stroke-linejoin:miter;stroke:rgb(100%,100%,100%);stroke-opacity:1;stroke-miterlimit:10;\\\" d=\\\"M -7.325562 92.505812 L -7.321656 92.517531 L -7.306031 92.525344 L -6.704469 92.525344 L -6.688844 92.517531 L -4.770875 90.77925 L -1.946656 90.806594 L -3.556031 91.994094 L -3.559937 92.013625 L -3.544312 92.021437 L -2.970094 92.076125 L -2.954469 92.072219 L -0.458375 90.861281 L 3.498656 90.833937 L 3.502563 90.833937 L 4.295531 90.701125 L 4.303344 90.697219 L 4.49475 90.564406 L 5.096313 90.224562 L 5.104125 90.208937 L 5.104125 90.076125 L 5.096313 90.064406 L 4.877563 89.9355 L 4.43225 89.771437 L 3.772094 89.665969 L 1.287719 89.638625 L -2.849 87.923781 L -2.856812 87.919875 L -3.184937 87.896437 L -3.188844 87.896437 L -3.544312 87.919875 L -3.559937 87.931594 L -3.556031 87.951125 L -1.759156 89.076125 L -1.622437 89.439406 L -1.6615 89.533156 L -3.352906 89.71675 L -4.419312 89.876906 L -5.849 90.197219 L -6.94275 89.798781 L -6.954469 89.798781 L -7.634156 89.822219 L -7.653687 89.833937 L -7.649781 89.853469 L -6.825562 90.408156 L -7.016969 90.486281 L -7.028687 90.501906 L -7.001344 90.6855 L -6.985719 90.701125 L -6.751344 90.732375 L -7.38025 91.603469 L -7.38025 91.619094 L -7.364625 91.626906 L -7.024781 91.658156 Z M -7.325562 92.505812 \\\" transform=\\\"matrix(1,0,0,-1,365.599,216.498)\\\"\\/>\\n<path style=\\\"fill:none;stroke-width:0.3985;stroke-linecap:butt;stroke-linejoin:miter;stroke:rgb(100%,0%,0%);stroke-opacity:1;stroke-miterlimit:10;\\\" d=\\\"M 54.608031 80.650344 C 54.608031 81.751906 53.717406 82.646437 52.615844 82.646437 C 51.514281 82.646437 50.623656 81.751906 50.623656 80.650344 C 50.623656 79.552687 51.514281 78.658156 52.615844 78.658156 C 53.717406 78.658156 54.608031 79.552687 54.608031 80.650344 Z M 54.608031 80.650344 \\\" transform=\\\"matrix(1,0,0,-1,365.599,216.498)\\\"\\/>\\n<path style=\\\"fill:none;stroke-width:0.3985;stroke-linecap:butt;stroke-linejoin:miter;stroke:rgb(100%,0%,0%);stroke-opacity:1;stroke-miterlimit:10;\\\" d=\\\"M 57.30725 83.337844 C 57.30725 84.439406 56.412719 85.330031 55.315063 85.330031 C 54.2135 85.330031 53.322875 84.439406 53.322875 83.337844 C 53.322875 82.236281 54.2135 81.345656 55.315063 81.345656 C 56.412719 81.345656 57.30725 82.236281 57.30725 83.337844 Z M 57.30725 83.337844 \\\" transform=\\\"matrix(1,0,0,-1,365.599,216.498)\\\"\\/>\\n<path style=\\\"fill:none;stroke-width:0.3985;stroke-linecap:butt;stroke-linejoin:miter;stroke:rgb(100%,0%,0%);stroke-opacity:1;stroke-miterlimit:10;\\\" d=\\\"M 60.002563 86.025344 C 60.002563 87.123 59.111938 88.017531 58.010375 88.017531 C 56.912719 88.017531 56.018188 87.123 56.018188 86.025344 C 56.018188 84.923781 56.912719 84.033156 58.010375 84.033156 C 59.111938 84.033156 60.002563 84.923781 60.002563 86.025344 Z M 60.002563 86.025344 \\\" transform=\\\"matrix(1,0,0,-1,365.599,216.498)\\\"\\/>\\n<path style=\\\"fill:none;stroke-width:0.3985;stroke-linecap:butt;stroke-linejoin:miter;stroke:rgb(0%,0%,100%);stroke-opacity:1;stroke-miterlimit:10;\\\" d=\\\"M 62.701781 88.345656 C 62.701781 89.447219 61.811156 90.337844 60.709594 90.337844 C 59.608031 90.337844 58.717406 89.447219 58.717406 88.345656 C 58.717406 87.244094 59.608031 86.353469 60.709594 86.353469 C 61.811156 86.353469 62.701781 87.244094 62.701781 88.345656 Z M 62.701781 88.345656 \\\" transform=\\\"matrix(1,0,0,-1,365.599,216.498)\\\"\\/>\\n<g style=\\\"fill:rgb(0%,0%,0%);fill-opacity:1;\\\">\\n  <use xlink:href=\\\"#glyph-1562715734929603-0-33\\\" x=\\\"427.699\\\" y=\\\"254.201\\\"\\/>\\n  <use xlink:href=\\\"#glyph-1562715734929603-0-4\\\" x=\\\"434.894019\\\" y=\\\"254.201\\\"\\/>\\n  <use xlink:href=\\\"#glyph-1562715734929603-0-28\\\" x=\\\"437.66164\\\" y=\\\"254.201\\\"\\/>\\n  <use xlink:href=\\\"#glyph-1562715734929603-0-12\\\" x=\\\"445.963508\\\" y=\\\"254.201\\\"\\/>\\n<\\/g>\\n<g style=\\\"fill:rgb(0%,0%,0%);fill-opacity:1;\\\">\\n  <use xlink:href=\\\"#glyph-1562715734929603-0-27\\\" x=\\\"453.708464\\\" y=\\\"254.201\\\"\\/>\\n  <use xlink:href=\\\"#glyph-1562715734929603-0-26\\\" x=\\\"457.582935\\\" y=\\\"254.201\\\"\\/>\\n  <use xlink:href=\\\"#glyph-1562715734929603-0-29\\\" x=\\\"461.5122\\\" y=\\\"254.201\\\"\\/>\\n<\\/g>\\n<g style=\\\"fill:rgb(0%,0%,0%);fill-opacity:1;\\\">\\n  <use xlink:href=\\\"#glyph-1562715734929603-3-9\\\" x=\\\"321.615\\\" y=\\\"176.369\\\"\\/>\\n  <use xlink:href=\\\"#glyph-1562715734929603-3-10\\\" x=\\\"321.615\\\" y=\\\"168.89702\\\"\\/>\\n  <use xlink:href=\\\"#glyph-1562715734929603-3-4\\\" x=\\\"321.615\\\" y=\\\"166.129399\\\"\\/>\\n  <use xlink:href=\\\"#glyph-1562715734929603-3-11\\\" x=\\\"321.615\\\" y=\\\"162.254928\\\"\\/>\\n  <use xlink:href=\\\"#glyph-1562715734929603-3-4\\\" x=\\\"321.615\\\" y=\\\"159.487307\\\"\\/>\\n  <use xlink:href=\\\"#glyph-1562715734929603-3-12\\\" x=\\\"321.615\\\" y=\\\"155.612836\\\"\\/>\\n  <use xlink:href=\\\"#glyph-1562715734929603-3-13\\\" x=\\\"321.615\\\" y=\\\"150.077593\\\"\\/>\\n  <use xlink:href=\\\"#glyph-1562715734929603-3-14\\\" x=\\\"321.615\\\" y=\\\"144.54235\\\"\\/>\\n<\\/g>\\n<g style=\\\"fill:rgb(0%,0%,0%);fill-opacity:1;\\\">\\n  <use xlink:href=\\\"#glyph-1562715734929603-3-6\\\" x=\\\"321.615\\\" y=\\\"136.797394\\\"\\/>\\n  <use xlink:href=\\\"#glyph-1562715734929603-3-15\\\" x=\\\"321.615\\\" y=\\\"132.922923\\\"\\/>\\n  <use xlink:href=\\\"#glyph-1562715734929603-3-4\\\" x=\\\"321.615\\\" y=\\\"129.87834\\\"\\/>\\n  <use xlink:href=\\\"#glyph-1562715734929603-3-8\\\" x=\\\"321.615\\\" y=\\\"126.00387\\\"\\/>\\n<\\/g>\\n<g style=\\\"fill:rgb(0%,0%,0%);fill-opacity:1;\\\">\\n  <use xlink:href=\\\"#glyph-1562715734929603-0-17\\\" x=\\\"413.793\\\" y=\\\"59.051\\\"\\/>\\n<\\/g>\\n<g style=\\\"fill:rgb(0%,0%,0%);fill-opacity:1;\\\">\\n  <use xlink:href=\\\"#glyph-1562715734929603-0-12\\\" x=\\\"420.438081\\\" y=\\\"59.051\\\"\\/>\\n  <use xlink:href=\\\"#glyph-1562715734929603-0-3\\\" x=\\\"424.865478\\\" y=\\\"59.051\\\"\\/>\\n  <use xlink:href=\\\"#glyph-1562715734929603-0-7\\\" x=\\\"428.767844\\\" y=\\\"59.051\\\"\\/>\\n  <use xlink:href=\\\"#glyph-1562715734929603-0-4\\\" x=\\\"432.642315\\\" y=\\\"59.051\\\"\\/>\\n  <use xlink:href=\\\"#glyph-1562715734929603-0-18\\\" x=\\\"435.409936\\\" y=\\\"59.051\\\"\\/>\\n  <use xlink:href=\\\"#glyph-1562715734929603-0-8\\\" x=\\\"439.837333\\\" y=\\\"59.051\\\"\\/>\\n  <use xlink:href=\\\"#glyph-1562715734929603-0-9\\\" x=\\\"444.818653\\\" y=\\\"59.051\\\"\\/>\\n<\\/g>\\n<g style=\\\"fill:rgb(0%,0%,0%);fill-opacity:1;\\\">\\n  <use xlink:href=\\\"#glyph-1562715734929603-0-36\\\" x=\\\"450.903834\\\" y=\\\"59.051\\\"\\/>\\n  <use xlink:href=\\\"#glyph-1562715734929603-0-3\\\" x=\\\"457.684407\\\" y=\\\"59.051\\\"\\/>\\n  <use xlink:href=\\\"#glyph-1562715734929603-0-2\\\" x=\\\"461.586773\\\" y=\\\"59.051\\\"\\/>\\n  <use xlink:href=\\\"#glyph-1562715734929603-0-37\\\" x=\\\"466.568093\\\" y=\\\"59.051\\\"\\/>\\n  <use xlink:href=\\\"#glyph-1562715734929603-0-9\\\" x=\\\"472.103336\\\" y=\\\"59.051\\\"\\/>\\n  <use xlink:href=\\\"#glyph-1562715734929603-0-12\\\" x=\\\"474.870957\\\" y=\\\"59.051\\\"\\/>\\n<\\/g>\\n<\\/g>\\n<\\/svg>\\n\\n\"},\"nodeType\":\"DOM\",\"type\":\"node\",\"instanceArgs\":{\"namespace\":\"html\",\"tag\":\"div\"},\"children\":[]}]}}}},\"children\":[{\"props\":{},\"nodeType\":\"ObservableNode\",\"type\":\"node\",\"instanceArgs\":{\"id\":\"ob_126\",\"name\":\"obs-node\"},\"children\":[]}]}]},\n",
       "            window,\n",
       "        );\n",
       "    } else {\n",
       "        document\n",
       "            .querySelector('[data-webio-mountpoint=\"8135699345017388908\"]')\n",
       "            .innerHTML = '<strong>WebIO not detected.</strong>';\n",
       "    }\n",
       "    </script>\n",
       "</div>\n"
      ],
      "text/plain": [
       "Node{WebIO.DOM}(WebIO.DOM(:html, :div), Any[Node{DOM}(DOM(:html, :div), Any[Scope(Node{DOM}(DOM(:html, :div), Any[Node{DOM}(DOM(:html, :div), Any[Node{DOM}(DOM(:html, :label), Any[\"File Name\"], Dict{Symbol,Any}(:className=>\"interact \",:style=>Dict{Any,Any}(:padding=>\"5px 10px 0px 10px\")))], Dict{Symbol,Any}(:className=>\"interact-flex-row-left\")), Node{DOM}(DOM(:html, :div), Any[Node{DOM}(DOM(:html, :input), Any[], Dict{Symbol,Any}(:attributes=>Dict{Any,Any}(:type=>\"text\",Symbol(\"data-bind\")=>\"value: value, valueUpdate: 'input', event: {change: function (){this.changes(this.changes()+1)}}\"),:placeholder=>\"\",:className=>\"input \",:style=>Dict{Any,Any}()))], Dict{Symbol,Any}(:className=>\"interact-flex-row-center\")), Node{DOM}(DOM(:html, :div), Any[Node{DOM}(DOM(:html, :div), Any[], Dict{Symbol,Any}())], Dict{Symbol,Any}(:className=>\"interact-flex-row-right\"))], Dict{Symbol,Any}(:className=>\"interact-flex-row interact-widget\")), Dict{String,Tuple{Observables.AbstractObservable,Union{Nothing, Bool}}}(\"changes\"=>(Observable{Int64} with 2 listeners. Value:\n",
       "0, nothing),\"value\"=>(Observable{String} with 1 listeners. Value:\n",
       "\"myFile.pdf\", nothing)), Set(String[]), nothing, Asset[Asset(\"js\", \"knockout\", \"/home/smkatz/.julia/packages/Knockout/1sDlc/src/../assets/knockout.js\"), Asset(\"js\", \"knockout_punches\", \"/home/smkatz/.julia/packages/Knockout/1sDlc/src/../assets/knockout_punches.js\"), Asset(\"js\", nothing, \"/home/smkatz/.julia/packages/InteractBase/l8cEC/src/../assets/all.js\"), Asset(\"css\", nothing, \"/home/smkatz/.julia/packages/InteractBase/l8cEC/src/../assets/style.css\"), Asset(\"css\", nothing, \"/home/smkatz/.julia/packages/Interact/0klKX/src/../assets/bulma_confined.min.css\")], Dict{Any,Any}(\"changes\"=>Any[JSString(\"(function (val){return (val!=this.model[\\\"changes\\\"]()) ? (this.valueFromJulia[\\\"changes\\\"]=true, this.model[\\\"changes\\\"](val)) : undefined})\")],\"value\"=>Any[JSString(\"(function (val){return (val!=this.model[\\\"value\\\"]()) ? (this.valueFromJulia[\\\"value\\\"]=true, this.model[\\\"value\\\"](val)) : undefined})\")]), ConnectionPool(Channel{Any}(sz_max:32,sz_curr:0), Set(AbstractConnection[]), Channel{AbstractConnection}(sz_max:32,sz_curr:0)), WebIO.JSString[JSString(\"function () {\\n    var handler = (function (ko, koPunches) {\\n    ko.punches.enableAll();\\n    ko.bindingHandlers.numericValue = {\\n        init: function(element, valueAccessor, allBindings, data, context) {\\n            var stringified = ko.observable(ko.unwrap(valueAccessor()));\\n            stringified.subscribe(function(value) {\\n                var val = parseFloat(value);\\n                if (!isNaN(val)) {\\n                    valueAccessor()(val);\\n                }\\n            });\\n            valueAccessor().subscribe(function(value) {\\n                var str = JSON.stringify(value);\\n                if ((str == \\\"0\\\") && ([\\\"-0\\\", \\\"-0.\\\"].indexOf(stringified()) >= 0))\\n                     return;\\n                 if ([\\\"null\\\", \\\"\\\"].indexOf(str) >= 0)\\n                     return;\\n                stringified(str);\\n            });\\n            ko.applyBindingsToNode(\\n                element,\\n                {\\n                    value: stringified,\\n                    valueUpdate: allBindings.get('valueUpdate'),\\n                },\\n                context,\\n            );\\n        }\\n    };\\n    var json_data = {\\\"changes\\\":WebIO.getval({\\\"name\\\":\\\"changes\\\",\\\"scope\\\":\\\"3885522224790275325\\\",\\\"id\\\":\\\"ob_114\\\",\\\"type\\\":\\\"observable\\\"}),\\\"value\\\":WebIO.getval({\\\"name\\\":\\\"value\\\",\\\"scope\\\":\\\"3885522224790275325\\\",\\\"id\\\":\\\"ob_113\\\",\\\"type\\\":\\\"observable\\\"})};\\n    var self = this;\\n    function AppViewModel() {\\n        for (var key in json_data) {\\n            var el = json_data[key];\\n            this[key] = Array.isArray(el) ? ko.observableArray(el) : ko.observable(el);\\n        }\\n        \\n        \\n        [this[\\\"changes\\\"].subscribe((function (val){!(this.valueFromJulia[\\\"changes\\\"]) ? (WebIO.setval({\\\"name\\\":\\\"changes\\\",\\\"scope\\\":\\\"3885522224790275325\\\",\\\"id\\\":\\\"ob_114\\\",\\\"type\\\":\\\"observable\\\"},val)) : undefined; return this.valueFromJulia[\\\"changes\\\"]=false}),self),this[\\\"value\\\"].subscribe((function (val){!(this.valueFromJulia[\\\"value\\\"]) ? (WebIO.setval({\\\"name\\\":\\\"value\\\",\\\"scope\\\":\\\"3885522224790275325\\\",\\\"id\\\":\\\"ob_113\\\",\\\"type\\\":\\\"observable\\\"},val)) : undefined; return this.valueFromJulia[\\\"value\\\"]=false}),self)]\\n        \\n    }\\n    self.model = new AppViewModel();\\n    self.valueFromJulia = {};\\n    for (var key in json_data) {\\n        self.valueFromJulia[key] = false;\\n    }\\n    ko.applyBindings(self.model, self.dom);\\n}\\n);\\n    (WebIO.importBlock({\\\"data\\\":[{\\\"name\\\":\\\"knockout\\\",\\\"type\\\":\\\"js\\\",\\\"url\\\":\\\"/assetserver/3bd9b1de736b098e415b41735ebb66f92146af63-knockout.js\\\"},{\\\"name\\\":\\\"knockout_punches\\\",\\\"type\\\":\\\"js\\\",\\\"url\\\":\\\"/assetserver/f693c45e4673819d9631890b2dbb7b49bac52036-knockout_punches.js\\\"}],\\\"type\\\":\\\"async_block\\\"})).then((imports) => handler.apply(this, imports));\\n}\\n\")])], Dict{Symbol,Any}(:className=>\"field interact-widget\")), Node{DOM}(DOM(:html, :div), Any[Scope(Node{DOM}(DOM(:html, :button), Any[\"Save Plot\"], Dict{Symbol,Any}(:attributes=>Dict{Any,Any}(\"data-bind\"=>\"click: function (){this.clicks(this.clicks()+1)}, css: {'is-loading' : loading}\"),:className=>\"is-medium button is-primary\",:style=>Dict{String,Any}())), Dict{String,Tuple{Observables.AbstractObservable,Union{Nothing, Bool}}}(\"loading\"=>(Observable{Bool} with 1 listeners. Value:\n",
       "false, nothing),\"clicks\"=>(Observable{Int64} with 2 listeners. Value:\n",
       "0, nothing)), Set(String[]), nothing, Asset[Asset(\"js\", \"knockout\", \"/home/smkatz/.julia/packages/Knockout/1sDlc/src/../assets/knockout.js\"), Asset(\"js\", \"knockout_punches\", \"/home/smkatz/.julia/packages/Knockout/1sDlc/src/../assets/knockout_punches.js\"), Asset(\"js\", nothing, \"/home/smkatz/.julia/packages/InteractBase/l8cEC/src/../assets/all.js\"), Asset(\"css\", nothing, \"/home/smkatz/.julia/packages/InteractBase/l8cEC/src/../assets/style.css\"), Asset(\"css\", nothing, \"/home/smkatz/.julia/packages/Interact/0klKX/src/../assets/bulma_confined.min.css\")], Dict{Any,Any}(\"loading\"=>Any[JSString(\"(function (val){return (val!=this.model[\\\"loading\\\"]()) ? (this.valueFromJulia[\\\"loading\\\"]=true, this.model[\\\"loading\\\"](val)) : undefined})\")],\"clicks\"=>Any[JSString(\"(function (val){return (val!=this.model[\\\"clicks\\\"]()) ? (this.valueFromJulia[\\\"clicks\\\"]=true, this.model[\\\"clicks\\\"](val)) : undefined})\")]), ConnectionPool(Channel{Any}(sz_max:32,sz_curr:0), Set(AbstractConnection[]), Channel{AbstractConnection}(sz_max:32,sz_curr:0)), WebIO.JSString[JSString(\"function () {\\n    var handler = (function (ko, koPunches) {\\n    ko.punches.enableAll();\\n    ko.bindingHandlers.numericValue = {\\n        init: function(element, valueAccessor, allBindings, data, context) {\\n            var stringified = ko.observable(ko.unwrap(valueAccessor()));\\n            stringified.subscribe(function(value) {\\n                var val = parseFloat(value);\\n                if (!isNaN(val)) {\\n                    valueAccessor()(val);\\n                }\\n            });\\n            valueAccessor().subscribe(function(value) {\\n                var str = JSON.stringify(value);\\n                if ((str == \\\"0\\\") && ([\\\"-0\\\", \\\"-0.\\\"].indexOf(stringified()) >= 0))\\n                     return;\\n                 if ([\\\"null\\\", \\\"\\\"].indexOf(str) >= 0)\\n                     return;\\n                stringified(str);\\n            });\\n            ko.applyBindingsToNode(\\n                element,\\n                {\\n                    value: stringified,\\n                    valueUpdate: allBindings.get('valueUpdate'),\\n                },\\n                context,\\n            );\\n        }\\n    };\\n    var json_data = {\\\"loading\\\":WebIO.getval({\\\"name\\\":\\\"loading\\\",\\\"scope\\\":\\\"13147499323947302510\\\",\\\"id\\\":\\\"ob_117\\\",\\\"type\\\":\\\"observable\\\"}),\\\"clicks\\\":WebIO.getval({\\\"name\\\":\\\"clicks\\\",\\\"scope\\\":\\\"13147499323947302510\\\",\\\"id\\\":\\\"ob_116\\\",\\\"type\\\":\\\"observable\\\"})};\\n    var self = this;\\n    function AppViewModel() {\\n        for (var key in json_data) {\\n            var el = json_data[key];\\n            this[key] = Array.isArray(el) ? ko.observableArray(el) : ko.observable(el);\\n        }\\n        \\n        \\n        [this[\\\"loading\\\"].subscribe((function (val){!(this.valueFromJulia[\\\"loading\\\"]) ? (WebIO.setval({\\\"name\\\":\\\"loading\\\",\\\"scope\\\":\\\"13147499323947302510\\\",\\\"id\\\":\\\"ob_117\\\",\\\"type\\\":\\\"observable\\\"},val)) : undefined; return this.valueFromJulia[\\\"loading\\\"]=false}),self),this[\\\"clicks\\\"].subscribe((function (val){!(this.valueFromJulia[\\\"clicks\\\"]) ? (WebIO.setval({\\\"name\\\":\\\"clicks\\\",\\\"scope\\\":\\\"13147499323947302510\\\",\\\"id\\\":\\\"ob_116\\\",\\\"type\\\":\\\"observable\\\"},val)) : undefined; return this.valueFromJulia[\\\"clicks\\\"]=false}),self)]\\n        \\n    }\\n    self.model = new AppViewModel();\\n    self.valueFromJulia = {};\\n    for (var key in json_data) {\\n        self.valueFromJulia[key] = false;\\n    }\\n    ko.applyBindings(self.model, self.dom);\\n}\\n);\\n    (WebIO.importBlock({\\\"data\\\":[{\\\"name\\\":\\\"knockout\\\",\\\"type\\\":\\\"js\\\",\\\"url\\\":\\\"/assetserver/3bd9b1de736b098e415b41735ebb66f92146af63-knockout.js\\\"},{\\\"name\\\":\\\"knockout_punches\\\",\\\"type\\\":\\\"js\\\",\\\"url\\\":\\\"/assetserver/f693c45e4673819d9631890b2dbb7b49bac52036-knockout_punches.js\\\"}],\\\"type\\\":\\\"async_block\\\"})).then((imports) => handler.apply(this, imports));\\n}\\n\")])], Dict{Symbol,Any}(:className=>\"field interact-widget\")), Node{DOM}(DOM(:html, :div), Any[Scope(Node{DOM}(DOM(:html, :input), Any[], Dict{Symbol,Any}(:max=>1,:min=>1,:attributes=>Dict{Any,Any}(:type=>\"number\",Symbol(\"data-bind\")=>\"numericValue: value, valueUpdate: 'input', event: {change: function (){this.changes(this.changes()+1)}}\"),:step=>1,:placeholder=>\"\",:className=>\"input \",:style=>Dict{Any,Any}())), Dict{String,Tuple{Observables.AbstractObservable,Union{Nothing, Bool}}}(\"changes\"=>(Observable{Int64} with 1 listeners. Value:\n",
       "0, nothing),\"value\"=>(Observable{Union{Nothing, Int64}} with 2 listeners. Value:\n",
       "1, nothing)), Set(String[]), nothing, Asset[Asset(\"js\", \"knockout\", \"/home/smkatz/.julia/packages/Knockout/1sDlc/src/../assets/knockout.js\"), Asset(\"js\", \"knockout_punches\", \"/home/smkatz/.julia/packages/Knockout/1sDlc/src/../assets/knockout_punches.js\"), Asset(\"js\", nothing, \"/home/smkatz/.julia/packages/InteractBase/l8cEC/src/../assets/all.js\"), Asset(\"css\", nothing, \"/home/smkatz/.julia/packages/InteractBase/l8cEC/src/../assets/style.css\"), Asset(\"css\", nothing, \"/home/smkatz/.julia/packages/Interact/0klKX/src/../assets/bulma_confined.min.css\")], Dict{Any,Any}(\"changes\"=>Any[JSString(\"(function (val){return (val!=this.model[\\\"changes\\\"]()) ? (this.valueFromJulia[\\\"changes\\\"]=true, this.model[\\\"changes\\\"](val)) : undefined})\")],\"value\"=>Any[JSString(\"(function (val){return (val!=this.model[\\\"value\\\"]()) ? (this.valueFromJulia[\\\"value\\\"]=true, this.model[\\\"value\\\"](val)) : undefined})\")]), ConnectionPool(Channel{Any}(sz_max:32,sz_curr:0), Set(AbstractConnection[]), Channel{AbstractConnection}(sz_max:32,sz_curr:0)), WebIO.JSString[JSString(\"function () {\\n    var handler = (function (ko, koPunches) {\\n    ko.punches.enableAll();\\n    ko.bindingHandlers.numericValue = {\\n        init: function(element, valueAccessor, allBindings, data, context) {\\n            var stringified = ko.observable(ko.unwrap(valueAccessor()));\\n            stringified.subscribe(function(value) {\\n                var val = parseFloat(value);\\n                if (!isNaN(val)) {\\n                    valueAccessor()(val);\\n                }\\n            });\\n            valueAccessor().subscribe(function(value) {\\n                var str = JSON.stringify(value);\\n                if ((str == \\\"0\\\") && ([\\\"-0\\\", \\\"-0.\\\"].indexOf(stringified()) >= 0))\\n                     return;\\n                 if ([\\\"null\\\", \\\"\\\"].indexOf(str) >= 0)\\n                     return;\\n                stringified(str);\\n            });\\n            ko.applyBindingsToNode(\\n                element,\\n                {\\n                    value: stringified,\\n                    valueUpdate: allBindings.get('valueUpdate'),\\n                },\\n                context,\\n            );\\n        }\\n    };\\n    var json_data = {\\\"changes\\\":WebIO.getval({\\\"name\\\":\\\"changes\\\",\\\"scope\\\":\\\"15722608533670762903\\\",\\\"id\\\":\\\"ob_119\\\",\\\"type\\\":\\\"observable\\\"}),\\\"value\\\":WebIO.getval({\\\"name\\\":\\\"value\\\",\\\"scope\\\":\\\"15722608533670762903\\\",\\\"id\\\":\\\"ob_118\\\",\\\"type\\\":\\\"observable\\\"})};\\n    var self = this;\\n    function AppViewModel() {\\n        for (var key in json_data) {\\n            var el = json_data[key];\\n            this[key] = Array.isArray(el) ? ko.observableArray(el) : ko.observable(el);\\n        }\\n        \\n        \\n        [this[\\\"changes\\\"].subscribe((function (val){!(this.valueFromJulia[\\\"changes\\\"]) ? (WebIO.setval({\\\"name\\\":\\\"changes\\\",\\\"scope\\\":\\\"15722608533670762903\\\",\\\"id\\\":\\\"ob_119\\\",\\\"type\\\":\\\"observable\\\"},val)) : undefined; return this.valueFromJulia[\\\"changes\\\"]=false}),self),this[\\\"value\\\"].subscribe((function (val){!(this.valueFromJulia[\\\"value\\\"]) ? (WebIO.setval({\\\"name\\\":\\\"value\\\",\\\"scope\\\":\\\"15722608533670762903\\\",\\\"id\\\":\\\"ob_118\\\",\\\"type\\\":\\\"observable\\\"},val)) : undefined; return this.valueFromJulia[\\\"value\\\"]=false}),self)]\\n        \\n    }\\n    self.model = new AppViewModel();\\n    self.valueFromJulia = {};\\n    for (var key in json_data) {\\n        self.valueFromJulia[key] = false;\\n    }\\n    ko.applyBindings(self.model, self.dom);\\n}\\n);\\n    (WebIO.importBlock({\\\"data\\\":[{\\\"name\\\":\\\"knockout\\\",\\\"type\\\":\\\"js\\\",\\\"url\\\":\\\"/assetserver/3bd9b1de736b098e415b41735ebb66f92146af63-knockout.js\\\"},{\\\"name\\\":\\\"knockout_punches\\\",\\\"type\\\":\\\"js\\\",\\\"url\\\":\\\"/assetserver/f693c45e4673819d9631890b2dbb7b49bac52036-knockout_punches.js\\\"}],\\\"type\\\":\\\"async_block\\\"})).then((imports) => handler.apply(this, imports));\\n}\\n\")])], Dict{Symbol,Any}(:className=>\"field interact-widget\")), Node{DOM}(DOM(:html, :div), Any[Scope(Node{DOM}(DOM(:html, :div), Any[Node{DOM}(DOM(:html, :div), Any[Node{DOM}(DOM(:html, :label), Any[nothing], Dict{Symbol,Any}(:className=>\"interact \",:style=>Dict{Any,Any}(:padding=>\"5px 10px 0px 10px\")))], Dict{Symbol,Any}(:className=>\"interact-flex-row-left\")), Node{DOM}(DOM(:html, :div), Any[Node{DOM}(DOM(:html, :input), Any[], Dict{Symbol,Any}(:max=>121,:min=>1,:attributes=>Dict{Any,Any}(:type=>\"range\",Symbol(\"data-bind\")=>\"numericValue: index, valueUpdate: 'input', event: {change: function (){this.changes(this.changes()+1)}}\",\"orient\"=>\"horizontal\"),:step=>1,:className=>\"slider slider is-fullwidth\",:style=>Dict{Any,Any}()))], Dict{Symbol,Any}(:className=>\"interact-flex-row-center\")), Node{DOM}(DOM(:html, :div), Any[Node{DOM}(DOM(:html, :p), Any[], Dict{Symbol,Any}(:attributes=>Dict(\"data-bind\"=>\"text: formatted_val\")))], Dict{Symbol,Any}(:className=>\"interact-flex-row-right\"))], Dict{Symbol,Any}(:className=>\"interact-flex-row interact-widget\")), Dict{String,Tuple{Observables.AbstractObservable,Union{Nothing, Bool}}}(\"changes\"=>(Observable{Int64} with 1 listeners. Value:\n",
       "0, nothing),\"index\"=>(Observable{Any} with 2 listeners. Value:\n",
       "1, nothing)), Set(String[]), nothing, Asset[Asset(\"js\", \"knockout\", \"/home/smkatz/.julia/packages/Knockout/1sDlc/src/../assets/knockout.js\"), Asset(\"js\", \"knockout_punches\", \"/home/smkatz/.julia/packages/Knockout/1sDlc/src/../assets/knockout_punches.js\"), Asset(\"js\", nothing, \"/home/smkatz/.julia/packages/InteractBase/l8cEC/src/../assets/all.js\"), Asset(\"css\", nothing, \"/home/smkatz/.julia/packages/InteractBase/l8cEC/src/../assets/style.css\"), Asset(\"css\", nothing, \"/home/smkatz/.julia/packages/Interact/0klKX/src/../assets/bulma_confined.min.css\")], Dict{Any,Any}(\"changes\"=>Any[JSString(\"(function (val){return (val!=this.model[\\\"changes\\\"]()) ? (this.valueFromJulia[\\\"changes\\\"]=true, this.model[\\\"changes\\\"](val)) : undefined})\")],\"index\"=>Any[JSString(\"(function (val){return (val!=this.model[\\\"index\\\"]()) ? (this.valueFromJulia[\\\"index\\\"]=true, this.model[\\\"index\\\"](val)) : undefined})\")]), ConnectionPool(Channel{Any}(sz_max:32,sz_curr:0), Set(AbstractConnection[]), Channel{AbstractConnection}(sz_max:32,sz_curr:0)), WebIO.JSString[JSString(\"function () {\\n    var handler = (function (ko, koPunches) {\\n    ko.punches.enableAll();\\n    ko.bindingHandlers.numericValue = {\\n        init: function(element, valueAccessor, allBindings, data, context) {\\n            var stringified = ko.observable(ko.unwrap(valueAccessor()));\\n            stringified.subscribe(function(value) {\\n                var val = parseFloat(value);\\n                if (!isNaN(val)) {\\n                    valueAccessor()(val);\\n                }\\n            });\\n            valueAccessor().subscribe(function(value) {\\n                var str = JSON.stringify(value);\\n                if ((str == \\\"0\\\") && ([\\\"-0\\\", \\\"-0.\\\"].indexOf(stringified()) >= 0))\\n                     return;\\n                 if ([\\\"null\\\", \\\"\\\"].indexOf(str) >= 0)\\n                     return;\\n                stringified(str);\\n            });\\n            ko.applyBindingsToNode(\\n                element,\\n                {\\n                    value: stringified,\\n                    valueUpdate: allBindings.get('valueUpdate'),\\n                },\\n                context,\\n            );\\n        }\\n    };\\n    var json_data = {\\\"formatted_vals\\\":[\\\"0.0\\\",\\\"1.0\\\",\\\"2.0\\\",\\\"3.0\\\",\\\"4.0\\\",\\\"5.0\\\",\\\"6.0\\\",\\\"7.0\\\",\\\"8.0\\\",\\\"9.0\\\",\\\"10.0\\\",\\\"11.0\\\",\\\"12.0\\\",\\\"13.0\\\",\\\"14.0\\\",\\\"15.0\\\",\\\"16.0\\\",\\\"17.0\\\",\\\"18.0\\\",\\\"19.0\\\",\\\"20.0\\\",\\\"21.0\\\",\\\"22.0\\\",\\\"23.0\\\",\\\"24.0\\\",\\\"25.0\\\",\\\"26.0\\\",\\\"27.0\\\",\\\"28.0\\\",\\\"29.0\\\",\\\"30.0\\\",\\\"31.0\\\",\\\"32.0\\\",\\\"33.0\\\",\\\"34.0\\\",\\\"35.0\\\",\\\"36.0\\\",\\\"37.0\\\",\\\"38.0\\\",\\\"39.0\\\",\\\"40.0\\\",\\\"41.0\\\",\\\"42.0\\\",\\\"43.0\\\",\\\"44.0\\\",\\\"45.0\\\",\\\"46.0\\\",\\\"47.0\\\",\\\"48.0\\\",\\\"49.0\\\",\\\"50.0\\\",\\\"51.0\\\",\\\"52.0\\\",\\\"53.0\\\",\\\"54.0\\\",\\\"55.0\\\",\\\"56.0\\\",\\\"57.0\\\",\\\"58.0\\\",\\\"59.0\\\",\\\"60.0\\\",\\\"61.0\\\",\\\"62.0\\\",\\\"63.0\\\",\\\"64.0\\\",\\\"65.0\\\",\\\"66.0\\\",\\\"67.0\\\",\\\"68.0\\\",\\\"69.0\\\",\\\"70.0\\\",\\\"71.0\\\",\\\"72.0\\\",\\\"73.0\\\",\\\"74.0\\\",\\\"75.0\\\",\\\"76.0\\\",\\\"77.0\\\",\\\"78.0\\\",\\\"79.0\\\",\\\"80.0\\\",\\\"81.0\\\",\\\"82.0\\\",\\\"83.0\\\",\\\"84.0\\\",\\\"85.0\\\",\\\"86.0\\\",\\\"87.0\\\",\\\"88.0\\\",\\\"89.0\\\",\\\"90.0\\\",\\\"91.0\\\",\\\"92.0\\\",\\\"93.0\\\",\\\"94.0\\\",\\\"95.0\\\",\\\"96.0\\\",\\\"97.0\\\",\\\"98.0\\\",\\\"99.0\\\",\\\"100.0\\\",\\\"101.0\\\",\\\"102.0\\\",\\\"103.0\\\",\\\"104.0\\\",\\\"105.0\\\",\\\"106.0\\\",\\\"107.0\\\",\\\"108.0\\\",\\\"109.0\\\",\\\"110.0\\\",\\\"111.0\\\",\\\"112.0\\\",\\\"113.0\\\",\\\"114.0\\\",\\\"115.0\\\",\\\"116.0\\\",\\\"117.0\\\",\\\"118.0\\\",\\\"119.0\\\",\\\"120.0\\\"],\\\"changes\\\":WebIO.getval({\\\"name\\\":\\\"changes\\\",\\\"scope\\\":\\\"8202417867022841954\\\",\\\"id\\\":\\\"ob_122\\\",\\\"type\\\":\\\"observable\\\"}),\\\"index\\\":WebIO.getval({\\\"name\\\":\\\"index\\\",\\\"scope\\\":\\\"8202417867022841954\\\",\\\"id\\\":\\\"ob_121\\\",\\\"type\\\":\\\"observable\\\"})};\\n    var self = this;\\n    function AppViewModel() {\\n        for (var key in json_data) {\\n            var el = json_data[key];\\n            this[key] = Array.isArray(el) ? ko.observableArray(el) : ko.observable(el);\\n        }\\n        \\n        [this[\\\"formatted_val\\\"]=ko.computed(    function(){\\n        return this.formatted_vals()[parseInt(this.index())-(1)];\\n    }\\n,this)]\\n        [this[\\\"changes\\\"].subscribe((function (val){!(this.valueFromJulia[\\\"changes\\\"]) ? (WebIO.setval({\\\"name\\\":\\\"changes\\\",\\\"scope\\\":\\\"8202417867022841954\\\",\\\"id\\\":\\\"ob_122\\\",\\\"type\\\":\\\"observable\\\"},val)) : undefined; return this.valueFromJulia[\\\"changes\\\"]=false}),self),this[\\\"index\\\"].subscribe((function (val){!(this.valueFromJulia[\\\"index\\\"]) ? (WebIO.setval({\\\"name\\\":\\\"index\\\",\\\"scope\\\":\\\"8202417867022841954\\\",\\\"id\\\":\\\"ob_121\\\",\\\"type\\\":\\\"observable\\\"},val)) : undefined; return this.valueFromJulia[\\\"index\\\"]=false}),self)]\\n        \\n    }\\n    self.model = new AppViewModel();\\n    self.valueFromJulia = {};\\n    for (var key in json_data) {\\n        self.valueFromJulia[key] = false;\\n    }\\n    ko.applyBindings(self.model, self.dom);\\n}\\n);\\n    (WebIO.importBlock({\\\"data\\\":[{\\\"name\\\":\\\"knockout\\\",\\\"type\\\":\\\"js\\\",\\\"url\\\":\\\"/assetserver/3bd9b1de736b098e415b41735ebb66f92146af63-knockout.js\\\"},{\\\"name\\\":\\\"knockout_punches\\\",\\\"type\\\":\\\"js\\\",\\\"url\\\":\\\"/assetserver/f693c45e4673819d9631890b2dbb7b49bac52036-knockout_punches.js\\\"}],\\\"type\\\":\\\"async_block\\\"})).then((imports) => handler.apply(this, imports));\\n}\\n\")])], Dict{Symbol,Any}(:className=>\"field interact-widget\")), Observable{Any} with 0 listeners. Value:\n",
       "Node{DOM}(DOM(:html, :div), Any[GroupPlot(Axis[Axis(PGFPlots.Plots.Plot[Image(\"tmp_10000000000085.png\", -2, 2, -2, 2, 0.0, 2.0, nothing, false, nothing, RGBArrayMap(RGB{Float64}[RGB{Float64}(1.0,1.0,1.0)], 0x0000000000000000), nothing), Node(\"Horizontal Range: 2554\", nothing, 0, -0.82, nothing)], nothing, nothing, nothing, nothing, nothing, nothing, nothing, nothing, nothing, nothing, nothing, nothing, nothing, nothing, nothing, nothing, \"10 cm\", \"2cm\", nothing, nothing, nothing, nothing, nothing, nothing, nothing, true, nothing, \"axis\"), Axis(PGFPlots.Plots.Plot[Image(\"tmp_10000000000086.png\", -2, 2, -2, 2, 0.0, 2.0, nothing, false, nothing, RGBArrayMap(RGB{Float64}[RGB{Float64}(1.0,1.0,1.0)], 0x0000000000000000), nothing), Node(\"Vertical Range: 528.9\", nothing, 0, -0.82, nothing)], nothing, nothing, nothing, nothing, nothing, nothing, nothing, nothing, nothing, nothing, nothing, nothing, nothing, nothing, nothing, nothing, \"10 cm\", \"2cm\", nothing, nothing, nothing, nothing, nothing, nothing, nothing, true, nothing, \"axis\"), Axis(PGFPlots.Plots.Plot[Linear(Real[-1.34016e-17 0.218372 … 4115.53 4159.17; 0.0 0.0 … 0.0 0.0], \"none\", nothing, \"black\", nothing, nothing, nothing), Linear(Real[769.486 769.361 … 585.292 585.292; 118.073 118.033 … -233.071 -233.071], \"none\", nothing, \"black\", nothing, nothing, nothing), Command(\"\\\\node[aircraft top,fill=black,draw=white, minimum width=1.5cm,rotate=0.0,scale = 0.30] at (axis cs:-1.3401612288931871e-17, 0.0) {};\"), Command(\"\\\\node[aircraft top,fill=black,draw=white, minimum width=1.5cm,rotate=-164.77913884754355,scale = 0.30] at (axis cs:769.4860601453385, 118.07348793414116) {};\"), Scatter(Any[-1.34016e-17 0.218372 … 4115.53 4159.17; 0.0 0.0 … 0.0 0.0; \"ra_1\" \"ra_1\" … \"ra_1\" \"ra_1\"], nothing, nothing, nothing, nothing, true, [\"ra_1={mark=none},ra_2={mark=o,blue},ra_3={mark=o,red},ra_4={mark=halfcircle*,red},ra_5={mark=*,red}\"]), Scatter(Any[769.486 769.361 … 585.292 585.292; 118.073 118.033 … -233.071 -233.071; \"ra_1\" \"ra_1\" … \"ra_1\" \"ra_1\"], nothing, nothing, nothing, nothing, true, [\"ra_1={mark=none},ra_2={mark=o,blue},ra_3={mark=o,red},ra_4={mark=halfcircle*,red},ra_5={mark=*,red}\"])], \"Ground Track\", \"East (m)\", nothing, \"North (m)\", nothing, nothing, nothing, nothing, nothing, nothing, nothing, true, nothing, nothing, nothing, nothing, nothing, nothing, nothing, nothing, nothing, nothing, nothing, nothing, nothing, nothing, nothing, \"axis\"), Axis(PGFPlots.Plots.Plot[Linear(Real[0.0 1.0 … 119.0 120.0; 1.12041e-12 4.82776 … 786.208 789.821], \"none\", nothing, \"black\", nothing, nothing, nothing), Linear(Real[0.0 1.0 … 119.0 120.0; 528.877 526.68 … 449.354 449.354], \"none\", nothing, \"black\", nothing, nothing, nothing), Command(\"\\\\node[aircraft side,fill=black,draw=white, minimum width=1.5cm,rotate=0,scale = 0.3] at (axis cs:0.0, 1.1204098618226029e-12) {};\"), Command(\"\\\\node[aircraft side,fill=black,draw=white, minimum width=1.5cm,rotate=0,scale = 0.3] at (axis cs:0.0, 528.8767161370887) {};\"), Scatter(Any[0.0 1.0 … 119.0 120.0; 1.12041e-12 4.82776 … 786.208 789.821; \"ra_1\" \"ra_1\" … \"ra_1\" \"ra_1\"], nothing, nothing, nothing, nothing, true, [\"ra_1={mark=none},ra_2={mark=o,blue},ra_3={mark=o,red},ra_4={mark=halfcircle*,red},ra_5={mark=*,red}\"]), Scatter(Any[0.0 1.0 … 119.0 120.0; 528.877 526.68 … 449.354 449.354; \"ra_1\" \"ra_1\" … \"ra_1\" \"ra_1\"], nothing, nothing, nothing, nothing, true, [\"ra_1={mark=none},ra_2={mark=o,blue},ra_3={mark=o,red},ra_4={mark=halfcircle*,red},ra_5={mark=*,red}\"])], \"Vertical Profile\", \"Time (s)\", nothing, \"Altitude (ft)\", nothing, nothing, nothing, nothing, nothing, nothing, nothing, nothing, nothing, nothing, nothing, nothing, nothing, nothing, nothing, nothing, nothing, nothing, nothing, nothing, nothing, nothing, nothing, \"axis\")], (2, 2), nothing, \"horizontal sep=2cm, vertical sep=2cm\")], Dict{Symbol,Any}(:className=>\"interact-flex-row interact-widget\"))], Dict{Symbol,Any}())"
      ]
     },
     "execution_count": 40,
     "metadata": {
      "application/vnd.webio.node+json": {
       "kernelId": "315f10da-db6f-4e1f-aeb1-55bd91bdf3c7"
      }
     },
     "output_type": "execute_result"
    }
   ],
   "source": [
    "encounter_viewer(sim.sim_out)"
   ]
  },
  {
   "cell_type": "code",
   "execution_count": 30,
   "metadata": {},
   "outputs": [
    {
     "name": "stdout",
     "output_type": "stream",
     "text": [
      "(sim.sim_out).nmacs = 247\n",
      "(sim.sim_out).alerts = 4982\n"
     ]
    },
    {
     "data": {
      "text/plain": [
       "4982"
      ]
     },
     "execution_count": 30,
     "metadata": {},
     "output_type": "execute_result"
    }
   ],
   "source": [
    "@show sim.sim_out.nmacs\n",
    "@show sim.sim_out.alerts"
   ]
  },
  {
   "cell_type": "code",
   "execution_count": 31,
   "metadata": {},
   "outputs": [],
   "source": [
    "sim_inds = sim.sim_out.nmac_inds;"
   ]
  },
  {
   "cell_type": "code",
   "execution_count": 25,
   "metadata": {},
   "outputs": [
    {
     "data": {
      "text/plain": [
       "286-element Array{Int64,1}:\n",
       "    7\n",
       "   24\n",
       "   32\n",
       "  128\n",
       "  185\n",
       "  190\n",
       "  196\n",
       "  197\n",
       "  213\n",
       "  227\n",
       "  252\n",
       "  268\n",
       "  283\n",
       "    ⋮\n",
       " 4906\n",
       " 4907\n",
       " 4908\n",
       " 4935\n",
       " 4936\n",
       " 4939\n",
       " 4945\n",
       " 4953\n",
       " 4957\n",
       " 4979\n",
       " 4991\n",
       " 4994"
      ]
     },
     "execution_count": 25,
     "metadata": {},
     "output_type": "execute_result"
    }
   ],
   "source": [
    "sim_inds"
   ]
  },
  {
   "cell_type": "code",
   "execution_count": null,
   "metadata": {},
   "outputs": [],
   "source": []
  }
 ],
 "metadata": {
  "@webio": {
   "lastCommId": "3d637d027a3b49a7bb98b326ef3b9281",
   "lastKernelId": "315f10da-db6f-4e1f-aeb1-55bd91bdf3c7"
  },
  "kernelspec": {
   "display_name": "Julia 1.1.0",
   "language": "julia",
   "name": "julia-1.1"
  },
  "language_info": {
   "file_extension": ".jl",
   "mimetype": "application/julia",
   "name": "julia",
   "version": "1.1.0"
  }
 },
 "nbformat": 4,
 "nbformat_minor": 2
}
