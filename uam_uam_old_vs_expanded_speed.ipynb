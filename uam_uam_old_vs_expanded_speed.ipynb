{
 "cells": [
  {
   "cell_type": "markdown",
   "metadata": {},
   "source": [
    "# UAM_UAM Old vs Expanded Speed Sets"
   ]
  },
  {
   "cell_type": "markdown",
   "metadata": {},
   "source": [
    "**Includes functionality to:**\n",
    "1. Generate uam_uam encounter sets\n",
    "2. Simulate the encounter files\n",
    "3. Display simulation results in the notebook and/or exporting results to an external excel file\n",
    "\n",
    "**Requirements:**\n",
    "1. Must be in a Julia 1.1 environment\n",
    "2. Pkg.add(\"Suppressor) - allows for supressing warning messages that make the notebook unreadable\n",
    "3. Must have aircraftshapes.sty in current directory\n",
    "4. This notebook must be used in an XrSim directory that is saved in the same folder as a working UAMEncounterGen directory \n"
   ]
  },
  {
   "cell_type": "markdown",
   "metadata": {},
   "source": [
    "### 1. Generate uam_uam encounter set files"
   ]
  },
  {
   "cell_type": "code",
   "execution_count": null,
   "metadata": {
    "scrolled": false
   },
   "outputs": [],
   "source": [
    "# Generate new encounters from within the Jupyter notebook\n",
    "# Can generate both old and expanded speed sets at once, or one at a time\n",
    "# Check UAMEncounterGen/generate_uam_uam_encs.jl for num of encounters\n",
    "\n",
    "# Prints every 5000 encounters generated\n",
    "\n",
    "using Suppressor\n",
    "\n",
    "generate_old = true   # set to true when want to generate old speed set\n",
    "generate_expanded = true  # set to true when want to generate expanded speed set\n",
    "  \n",
    "@time cd(\"../UAMEncounterGen\") do\n",
    "    @suppress_err begin\n",
    "        include(\"generate_uam_uam_encs.jl\")\n",
    "        if generate_old cp(old_speed_filename, joinpath(\"../XrSim/data_files\", basename(old_speed_filename)), force=true) end\n",
    "        if generate_expanded cp(expanded_speed_filename, joinpath(\"../XrSim/data_files\", basename(expanded_speed_filename)), force=true) end\n",
    "    end\n",
    "end"
   ]
  },
  {
   "cell_type": "markdown",
   "metadata": {},
   "source": [
    "### 2. Simulating the encounter files && 3. Display Simulation Results"
   ]
  },
  {
   "cell_type": "code",
   "execution_count": null,
   "metadata": {},
   "outputs": [],
   "source": [
    "include(\"src/Xr.jl\");"
   ]
  },
  {
   "cell_type": "code",
   "execution_count": null,
   "metadata": {},
   "outputs": [],
   "source": [
    "# Simulation settings\n",
    "# sim_out_for_plots = false  # set to true to be able to visualize the encounters\n",
    "sim_out_to_excel = false  # set to true to create and fill out Xr_Result_uam_uam.xlsx\n",
    "sim_out_display_results = true  # set to true to see results in this notebook\n",
    "\n",
    "encounter_file_old = joinpath(\"data_files\", basename(old_speed_filename))\n",
    "encounter_file_expanded = joinpath(\"data_files\", basename(expanded_speed_filename));"
   ]
  },
  {
   "cell_type": "code",
   "execution_count": null,
   "metadata": {
    "scrolled": false
   },
   "outputs": [],
   "source": [
    "# must create the excel files with the specified names \n",
    "# in the specified locations prior to running this code\n",
    "# the files cannot be open when running this script\n",
    "if generate_old\n",
    "    println(\"-------------------------------------------\")\n",
    "    println(\"Old Speed Encounter Set Simulation Results\")\n",
    "    println(\"-------------------------------------------\")\n",
    "    \n",
    "    if sim_out_to_excel output_filename = \"results/Xr_Results_VSB_uam_uam_old_speed.xlsx\" end\n",
    "    enc_file = encounter_file_old\n",
    "    include(\"RunVSB_uam_uam.jl\")\n",
    "end\n",
    "\n",
    "if generate_expanded\n",
    "    println(\"-----------------------------------------------\")\n",
    "    println(\"Expanded Speed Encounter Set Simulation Results\")\n",
    "    println(\"-----------------------------------------------\")\n",
    "    \n",
    "    if sim_out_to_excel output_filename = \"results/Xr_Results_VSB_uam_uam_expanded_speed.xlsx\" end\n",
    "    enc_file = encounter_file_expanded\n",
    "    include(\"RunVSB_uam_uam.jl\")\n",
    "end  "
   ]
  }
 ],
 "metadata": {
  "@webio": {
   "lastCommId": null,
   "lastKernelId": null
  },
  "kernelspec": {
   "display_name": "Julia 1.1.1",
   "language": "julia",
   "name": "julia-1.1"
  },
  "language_info": {
   "file_extension": ".jl",
   "mimetype": "application/julia",
   "name": "julia",
   "version": "1.1.1"
  }
 },
 "nbformat": 4,
 "nbformat_minor": 2
}
