{
 "cells": [
  {
   "cell_type": "markdown",
   "metadata": {},
   "source": [
    "# NOP NOP Trajectories Bug Testing"
   ]
  },
  {
   "cell_type": "markdown",
   "metadata": {},
   "source": [
    "Includes functionality to:\n",
    "1. Read encounter information straight from the bin files\n",
    "2. Simulate encounter files\n",
    "3. Visualize those simulations (if not small_simulation_output())\n",
    "\n",
    "**Make sure you are in a Julia 1.1 Env!\n",
    "And that you have aircraftshapes.sty in repo**"
   ]
  },
  {
   "cell_type": "code",
   "execution_count": null,
   "metadata": {
    "scrolled": true
   },
   "outputs": [],
   "source": [
    "include(\"src/Xr.jl\");"
   ]
  },
  {
   "cell_type": "markdown",
   "metadata": {},
   "source": [
    "### 1. Reading straight from the encounter files"
   ]
  },
  {
   "cell_type": "code",
   "execution_count": null,
   "metadata": {},
   "outputs": [],
   "source": [
    "open(\"data_files/nop_nop_U*U*_flip_test_1k.bin\", \"r\") do f\n",
    "    dt = read(f, Float64)\n",
    "    num_steps = read(f, Int64)\n",
    "    # For each encounter\n",
    "    for i = 1:2\n",
    "        # Make an encounter out of info\n",
    "        curr_phys_state = read_phys_state(f)\n",
    "        ẍ = read_vector(f, num_steps)\n",
    "        ÿ = read_vector(f, num_steps)\n",
    "        z̈ = read_vector(f, num_steps)\n",
    "\n",
    "        #@show curr_phys_state\n",
    "        #@show ẍ\n",
    "        #@show ÿ\n",
    "        #@show z̈\n",
    "        #@show length(ẍ)\n",
    "    end\n",
    "end\n"
   ]
  },
  {
   "cell_type": "markdown",
   "metadata": {},
   "source": [
    "### 2. Simulating the encounter files\n",
    "\n",
    "Make sure this notebook is within the UAMEncounterGen repo. Make sure that your encounter files are in the \"data_files\" folder within UAMEncounterGenerator. \n",
    "\n",
    "When running a simulation, to see alerts or nmacs, must do sim.sim_out = small_simulation_output()\n",
    "\n",
    "When running a simulation, to be able to visualize it, do not do a small simulation\n",
    "\n",
    "sim 1 : trajectory 1 equipped as ac1\n",
    "\n",
    "sim 2 : trajectory 1 equipped as ac2\n",
    "\n",
    "sim 3 : trajectory 2 equipped as ac2\n",
    "\n",
    "sim 4 : trajectory 2 equipped as ac1"
   ]
  },
  {
   "cell_type": "code",
   "execution_count": 162,
   "metadata": {},
   "outputs": [],
   "source": [
    "sim1 = simulation()\n",
    "\n",
    "# comment this back in when wanting to see the alert counts\n",
    "# sim1.sim_out = small_simulation_output()\n",
    "\n",
    "sim1.enc_file = \"data_files/nop_nop_U*U*_flip_test_1l.bin\"\n",
    "sim1.acs[1] = uam_speed(q_file = \"data_files/test_speed_120.bin\")\n",
    "sim1.acs[1].perform_scaling = true\n",
    "\n",
    "# turn responsive to false when wanting to check if trajectories are being properly generated\n",
    "# sim1.acs[1].responsive = false\n",
    "\n",
    "xr_sim!(sim1);"
   ]
  },
  {
   "cell_type": "code",
   "execution_count": null,
   "metadata": {},
   "outputs": [],
   "source": [
    "sim2 = simulation()\n",
    "sim2.sim_out = small_simulation_output()\n",
    "sim2.enc_file = \"data_files/nop_nop_U*U*_flip_test_2l.bin\"\n",
    "sim2.acs[2] = uam_speed(q_file = \"data_files/test_speed_120.bin\")\n",
    "sim2.acs[2].perform_scaling = true\n",
    "xr_sim!(sim2);"
   ]
  },
  {
   "cell_type": "code",
   "execution_count": null,
   "metadata": {},
   "outputs": [],
   "source": [
    "sim3 = simulation()\n",
    "sim3.sim_out = small_simulation_output()\n",
    "sim3.enc_file = \"data_files/nop_nop_U*U*_flip_test_1l.bin\"\n",
    "sim3.acs[2] = uam_speed(q_file = \"data_files/test_speed_120.bin\")\n",
    "sim3.acs[2].perform_scaling = true\n",
    "xr_sim!(sim3);"
   ]
  },
  {
   "cell_type": "code",
   "execution_count": null,
   "metadata": {},
   "outputs": [],
   "source": [
    "sim4 = simulation()\n",
    "sim4.sim_out = small_simulation_output()\n",
    "sim4.enc_file = \"data_files/nop_nop_U*U*_flip_test_2l.bin\"\n",
    "sim4.acs[1] = uam_speed(q_file = \"data_files/test_speed_120.bin\")\n",
    "sim4.acs[1].perform_scaling = true\n",
    "xr_sim!(sim4);"
   ]
  },
  {
   "cell_type": "code",
   "execution_count": null,
   "metadata": {
    "scrolled": false
   },
   "outputs": [],
   "source": [
    "println(sim1.sim_out.alerts)\n",
    "println(sim2.sim_out.alerts)\n",
    "println()\n",
    "println(sim3.sim_out.alerts)\n",
    "println(sim4.sim_out.alerts)"
   ]
  },
  {
   "cell_type": "markdown",
   "metadata": {},
   "source": [
    "### 3. Visualizing the simulated encounter sets\n",
    "\n",
    "Make sure the simulation you want to visualize does not have sim.sim_out = small_simulation_output()\n",
    "\n",
    "ac1 = UAM icon\n",
    "\n",
    "ac2 = quad icon"
   ]
  },
  {
   "cell_type": "code",
   "execution_count": null,
   "metadata": {},
   "outputs": [],
   "source": [
    "include(\"visualization/UAMEncounterViewer.jl\");"
   ]
  },
  {
   "cell_type": "code",
   "execution_count": null,
   "metadata": {
    "scrolled": true
   },
   "outputs": [],
   "source": [
    "encounter_viewer(sim1.sim_out, int_type=:quad, alert_type=:speed)"
   ]
  },
  {
   "cell_type": "code",
   "execution_count": null,
   "metadata": {},
   "outputs": [],
   "source": []
  }
 ],
 "metadata": {
  "@webio": {
   "lastCommId": "840b9abade654b1cb4161264851f5ec8",
   "lastKernelId": "ea2e239f-01e9-4a0c-a121-89ef2cb85873"
  },
  "kernelspec": {
   "display_name": "Julia 1.1.1",
   "language": "julia",
   "name": "julia-1.1"
  },
  "language_info": {
   "file_extension": ".jl",
   "mimetype": "application/julia",
   "name": "julia",
   "version": "1.1.1"
  }
 },
 "nbformat": 4,
 "nbformat_minor": 2
}
