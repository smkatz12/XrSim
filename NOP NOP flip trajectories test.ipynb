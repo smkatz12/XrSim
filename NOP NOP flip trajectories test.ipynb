{
 "cells": [
  {
   "cell_type": "markdown",
   "metadata": {},
   "source": [
    "# NOP NOP Trajectories Bug Testing"
   ]
  },
  {
   "cell_type": "markdown",
   "metadata": {},
   "source": [
    "Includes functionality to:\n",
    "1. Read encounter information straight from the bin files\n",
    "2. Simulate encounter files\n",
    "3. Visualize those simulations (if not small_simulation_output())\n",
    "\n",
    "**Make sure you are in a Julia 1.1 Env!\n",
    "And that you have aircraftshapes.sty in repo**"
   ]
  },
  {
   "cell_type": "code",
   "execution_count": 17,
   "metadata": {
    "scrolled": true
   },
   "outputs": [
    {
     "name": "stderr",
     "output_type": "stream",
     "text": [
      "WARNING: redefining constant g\n",
      "WARNING: redefining constant vel_ranges\n",
      "WARNING: redefining constant accels_speed\n",
      "WARNING: redefining constant hs\n",
      "WARNING: redefining constant ḣ₀s\n",
      "WARNING: redefining constant ḣ₁s\n",
      "WARNING: redefining constant a_prevs\n",
      "WARNING: redefining constant τs_vert\n",
      "WARNING: redefining constant rs\n",
      "WARNING: redefining constant θs\n",
      "WARNING: redefining constant ψs\n",
      "WARNING: redefining constant v₀s\n",
      "WARNING: redefining constant v₁s\n",
      "WARNING: redefining constant a_prevs\n",
      "WARNING: redefining constant τs_speed\n",
      "WARNING: redefining constant intents\n",
      "WARNING: redefining constant NACp_σ\n",
      "WARNING: redefining constant NACp_σ_vert\n",
      "WARNING: redefining constant NACp_dist\n"
     ]
    }
   ],
   "source": [
    "include(\"src/Xr.jl\");"
   ]
  },
  {
   "cell_type": "code",
   "execution_count": 41,
   "metadata": {
    "scrolled": false
   },
   "outputs": [
    {
     "name": "stdout",
     "output_type": "stream",
     "text": [
      " 28.200312 seconds (5.49 M allocations: 7.264 GiB, 4.71% gc time)\n"
     ]
    },
    {
     "name": "stderr",
     "output_type": "stream",
     "text": [
      "┌ Warning: encounter_files/nop_nop_UstarUstar_flip_test_1z.bin already exists... overwriting!\n",
      "└ @ Main C:\\Users\\mossr\\Code\\sisl\\ACAS Xr\\UAMEncounterGen\\generate_nop_nop_encs.jl:15\n"
     ]
    },
    {
     "data": {
      "text/plain": [
       "\"../XrSim/data_files/nop_nop_UstarUstar_flip_test_2z.bin\""
      ]
     },
     "execution_count": 41,
     "metadata": {},
     "output_type": "execute_result"
    }
   ],
   "source": [
    "# Generate new encounters from within the Jupyter notebook\n",
    "@time cd(\"../UAMEncounterGen\") do\n",
    "    include(\"generate_nop_nop_encs.jl\")\n",
    "    cp(filename1, joinpath(\"../XrSim/data_files\", basename(filename1)), force=true)\n",
    "    cp(filename2, joinpath(\"../XrSim/data_files\", basename(filename2)), force=true)\n",
    "end"
   ]
  },
  {
   "cell_type": "markdown",
   "metadata": {},
   "source": [
    "### 1. Simulating the encounter files\n",
    "\n",
    "Make sure this notebook is within the UAMEncounterGen repo. Make sure that your encounter files are in the \"data_files\" folder within UAMEncounterGenerator. \n",
    "\n",
    "When running a simulation, to see alerts or nmacs, must do sim.sim_out = small_simulation_output()\n",
    "\n",
    "When running a simulation, to be able to visualize it, do not do a small simulation\n",
    "\n",
    "sim 1 : trajectory 1 equipped as ac1\n",
    "\n",
    "sim 2 : trajectory 1 equipped as ac2\n",
    "\n",
    "sim 3 : trajectory 2 equipped as ac2\n",
    "\n",
    "sim 4 : trajectory 2 equipped as ac1"
   ]
  },
  {
   "cell_type": "code",
   "execution_count": 42,
   "metadata": {},
   "outputs": [],
   "source": [
    "run_vertical_logic = false\n",
    "\n",
    "encounter_file1 = joinpath(\"data_files\", basename(filename1))\n",
    "encounter_file2 = joinpath(\"data_files\", basename(filename2))\n",
    "\n",
    "sim1 = simulation()\n",
    "\n",
    "# comment this back in when wanting to see the alert counts\n",
    "sim1.sim_out = small_simulation_output()\n",
    "\n",
    "sim1.enc_file = encounter_file1\n",
    "if run_vertical_logic\n",
    "    sim1.acs[1] = uam_vert(q_file = \"data_files/test.bin\")\n",
    "else\n",
    "    sim1.acs[1] = uam_speed(q_file = \"data_files/test_speed_120.bin\")\n",
    "    sim1.acs[1].perform_scaling = true\n",
    "end\n",
    "\n",
    "# turn responsive to false when wanting to check if trajectories are being properly generated\n",
    "# sim1.acs[1].responsive = false\n",
    "\n",
    "xr_sim!(sim1);"
   ]
  },
  {
   "cell_type": "code",
   "execution_count": 43,
   "metadata": {},
   "outputs": [],
   "source": [
    "sim2 = simulation()\n",
    "sim2.sim_out = small_simulation_output()\n",
    "sim2.enc_file = encounter_file2\n",
    "if run_vertical_logic\n",
    "    sim2.acs[2] = uam_vert(q_file = \"data_files/test.bin\")\n",
    "else\n",
    "    sim2.acs[2] = uam_speed(q_file = \"data_files/test_speed_120.bin\")\n",
    "    sim2.acs[2].perform_scaling = true\n",
    "end\n",
    "xr_sim!(sim2);"
   ]
  },
  {
   "cell_type": "code",
   "execution_count": 44,
   "metadata": {},
   "outputs": [],
   "source": [
    "sim3 = simulation()\n",
    "sim3.sim_out = small_simulation_output()\n",
    "sim3.enc_file = encounter_file1\n",
    "if run_vertical_logic\n",
    "    sim3.acs[2] = uam_vert(q_file = \"data_files/test.bin\")\n",
    "else\n",
    "    sim3.acs[2] = uam_speed(q_file = \"data_files/test_speed_120.bin\")\n",
    "    sim3.acs[2].perform_scaling = true\n",
    "end\n",
    "xr_sim!(sim3);"
   ]
  },
  {
   "cell_type": "code",
   "execution_count": 45,
   "metadata": {},
   "outputs": [],
   "source": [
    "sim4 = simulation()\n",
    "sim4.sim_out = small_simulation_output()\n",
    "sim4.enc_file = encounter_file2\n",
    "if run_vertical_logic\n",
    "    sim4.acs[1] = uam_vert(q_file = \"data_files/test.bin\")\n",
    "else\n",
    "    sim4.acs[1] = uam_speed(q_file = \"data_files/test_speed_120.bin\")\n",
    "    sim4.acs[1].perform_scaling = true\n",
    "end\n",
    "xr_sim!(sim4);"
   ]
  },
  {
   "cell_type": "code",
   "execution_count": 46,
   "metadata": {
    "scrolled": false
   },
   "outputs": [
    {
     "name": "stdout",
     "output_type": "stream",
     "text": [
      "295\n",
      "295\n",
      "\n",
      "348\n",
      "348\n"
     ]
    }
   ],
   "source": [
    "println(sim1.sim_out.alerts)\n",
    "println(sim2.sim_out.alerts)\n",
    "println()\n",
    "println(sim3.sim_out.alerts)\n",
    "println(sim4.sim_out.alerts)"
   ]
  },
  {
   "cell_type": "markdown",
   "metadata": {},
   "source": [
    "### 2. Reading straight from the encounter files"
   ]
  },
  {
   "cell_type": "code",
   "execution_count": null,
   "metadata": {},
   "outputs": [],
   "source": [
    "open(\"data_files/nop_nop_UstarUstar_flip_test_1z.bin\", \"r\") do f\n",
    "    dt = read(f, Float64)\n",
    "    num_steps = read(f, Int64)\n",
    "    # For each encounter\n",
    "    for i = 1:2\n",
    "        # Make an encounter out of info\n",
    "        curr_phys_state = read_phys_state(f)\n",
    "        ẍ = read_vector(f, num_steps)\n",
    "        ÿ = read_vector(f, num_steps)\n",
    "        z̈ = read_vector(f, num_steps)\n",
    "\n",
    "        #@show curr_phys_state\n",
    "        #@show ẍ\n",
    "        #@show ÿ\n",
    "        #@show z̈\n",
    "        #@show length(ẍ)\n",
    "    end\n",
    "end\n"
   ]
  },
  {
   "cell_type": "markdown",
   "metadata": {},
   "source": [
    "### 3. Visualizing the simulated encounter sets\n",
    "\n",
    "Make sure the simulation you want to visualize does not have sim.sim_out = small_simulation_output()\n",
    "\n",
    "ac1 = UAM icon\n",
    "\n",
    "ac2 = quad icon"
   ]
  },
  {
   "cell_type": "code",
   "execution_count": 5,
   "metadata": {},
   "outputs": [
    {
     "data": {
      "text/html": [
       "<script>\n",
       "// Immediately-invoked-function-expression to avoid global variables.\n",
       "(function() {\n",
       "    var warning_div = document.getElementById(\"webio-warning-7105744843655464791\");\n",
       "    var hide = function () {\n",
       "        var script = document.getElementById(\"webio-setup-5127325886245359431\");\n",
       "        var parent = script && script.parentElement;\n",
       "        var grandparent = parent && parent.parentElement;\n",
       "        if (grandparent) {\n",
       "            grandparent.style.display = \"none\";\n",
       "        }\n",
       "        warning_div.style.display = \"none\";\n",
       "    };\n",
       "    if (typeof Jupyter !== \"undefined\") {\n",
       "        console.log(\"WebIO detected Jupyter notebook environment.\");\n",
       "        // Jupyter notebook.\n",
       "        var extensions = (\n",
       "            Jupyter\n",
       "            && Jupyter.notebook.config.data\n",
       "            && Jupyter.notebook.config.data.load_extensions\n",
       "        );\n",
       "        if (extensions && extensions[\"webio-jupyter-notebook\"]) {\n",
       "            // Extension already loaded.\n",
       "            console.log(\"Jupyter WebIO nbextension detected; not loading ad-hoc.\");\n",
       "            hide();\n",
       "            return;\n",
       "        }\n",
       "    } else if (window.location.pathname.includes(\"/lab\")) {\n",
       "        // Guessing JupyterLa\n",
       "        console.log(\"Jupyter Lab detected; make sure the @webio/jupyter-lab-provider labextension is installed.\");\n",
       "        hide();\n",
       "        return;\n",
       "    }\n",
       "})();\n",
       "\n",
       "</script>\n",
       "<p\n",
       "    id=\"webio-warning-7105744843655464791\"\n",
       "    class=\"output_text output_stderr\"\n",
       "    style=\"padding: 1em; font-weight: bold;\"\n",
       ">\n",
       "    Unable to load WebIO. Please make sure WebIO works for your Jupyter client.\n",
       "    For troubleshooting, please see <a href=\"https://juliagizmos.github.io/WebIO.jl/latest/providers/ijulia/\">\n",
       "    the WebIO/IJulia documentation</a>.\n",
       "    <!-- TODO: link to installation docs. -->\n",
       "</p>\n"
      ],
      "text/plain": [
       "HTML{String}(\"<script>\\n// Immediately-invoked-function-expression to avoid global variables.\\n(function() {\\n    var warning_div = document.getElementById(\\\"webio-warning-7105744843655464791\\\");\\n    var hide = function () {\\n        var script = document.getElementById(\\\"webio-setup-5127325886245359431\\\");\\n        var parent = script && script.parentElement;\\n        var grandparent = parent && parent.parentElement;\\n        if (grandparent) {\\n            grandparent.style.display = \\\"none\\\";\\n        }\\n        warning_div.style.display = \\\"none\\\";\\n    };\\n    if (typeof Jupyter !== \\\"undefined\\\") {\\n        console.log(\\\"WebIO detected Jupyter notebook environment.\\\");\\n        // Jupyter notebook.\\n        var extensions = (\\n            Jupyter\\n            && Jupyter.notebook.config.data\\n            && Jupyter.notebook.config.data.load_extensions\\n        );\\n        if (extensions && extensions[\\\"webio-jupyter-notebook\\\"]) {\\n            // Extension already loaded.\\n            console.log(\\\"Jupyter WebIO nbextension detected; not loading ad-hoc.\\\");\\n            hide();\\n            return;\\n        }\\n    } else if (window.location.pathname.includes(\\\"/lab\\\")) {\\n        // Guessing JupyterLa\\n        console.log(\\\"Jupyter Lab detected; make sure the @webio/jupyter-lab-provider labextension is installed.\\\");\\n        hide();\\n        return;\\n    }\\n})();\\n\\n</script>\\n<p\\n    id=\\\"webio-warning-7105744843655464791\\\"\\n    class=\\\"output_text output_stderr\\\"\\n    style=\\\"padding: 1em; font-weight: bold;\\\"\\n>\\n    Unable to load WebIO. Please make sure WebIO works for your Jupyter client.\\n    For troubleshooting, please see <a href=\\\"https://juliagizmos.github.io/WebIO.jl/latest/providers/ijulia/\\\">\\n    the WebIO/IJulia documentation</a>.\\n    <!-- TODO: link to installation docs. -->\\n</p>\\n\")"
      ]
     },
     "metadata": {},
     "output_type": "display_data"
    }
   ],
   "source": [
    "include(\"visualization/UAMEncounterViewer.jl\");"
   ]
  },
  {
   "cell_type": "code",
   "execution_count": null,
   "metadata": {
    "scrolled": true
   },
   "outputs": [],
   "source": [
    "encounter_viewer(sim1.sim_out, int_type=:quad, alert_type=:speed)"
   ]
  }
 ],
 "metadata": {
  "@webio": {
   "lastCommId": null,
   "lastKernelId": null
  },
  "kernelspec": {
   "display_name": "Julia 1.1.1",
   "language": "julia",
   "name": "julia-1.1"
  },
  "language_info": {
   "file_extension": ".jl",
   "mimetype": "application/julia",
   "name": "julia",
   "version": "1.1.1"
  }
 },
 "nbformat": 4,
 "nbformat_minor": 2
}
